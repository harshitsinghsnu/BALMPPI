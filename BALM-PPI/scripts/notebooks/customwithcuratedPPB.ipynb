{
 "cells": [
  {
   "cell_type": "code",
   "execution_count": 22,
   "metadata": {},
   "outputs": [],
   "source": [
    "\n",
    "import os\n",
    "import sys\n",
    "import time\n",
    "import torch\n",
    "import numpy as np\n",
    "import pandas as pd\n",
    "import esm\n",
    "from sklearn.model_selection import train_test_split\n",
    "import seaborn as sns\n",
    "import matplotlib.pyplot as plt\n",
    "from datasets import load_dataset\n",
    "\n",
    "sys.path.append(\"../..\")\n",
    "from balm import common_utils\n",
    "from balm.models.utils import load_trained_model\n",
    "from balm.configs import Configs\n",
    "from balm.models import BALM\n",
    "from balm.metrics import get_ci, get_pearson, get_rmse, get_spearman\n",
    "\n"
   ]
  },
  {
   "cell_type": "code",
   "execution_count": 23,
   "metadata": {},
   "outputs": [],
   "source": [
    "if torch.cuda.is_available():\n",
    "    DEVICE = \"cuda\" \n",
    "else:\n",
    "     DEVICE = 'cpu'"
   ]
  },
  {
   "cell_type": "code",
   "execution_count": 24,
   "metadata": {},
   "outputs": [
    {
     "data": {
      "text/plain": [
       "'cuda'"
      ]
     },
     "execution_count": 24,
     "metadata": {},
     "output_type": "execute_result"
    }
   ],
   "source": [
    "DEVICE"
   ]
  },
  {
   "cell_type": "code",
   "execution_count": 25,
   "metadata": {},
   "outputs": [],
   "source": [
    "seed = 42\n",
    "torch.cuda.manual_seed(seed)"
   ]
  },
  {
   "cell_type": "code",
   "execution_count": 26,
   "metadata": {},
   "outputs": [],
   "source": [
    "# Define save and load checkpoint functions\n",
    "def save_checkpoint(model, optimizer, epoch, file_path):\n",
    "    checkpoint = {\n",
    "        'model_state_dict': model.state_dict(),\n",
    "        'optimizer_state_dict': optimizer.state_dict(),\n",
    "        'epoch': epoch,\n",
    "        'peft_config': model.model_configs.peft_configs if hasattr(model.model_configs, 'peft_configs') else None\n",
    "\n",
    "    }\n",
    "    torch.save(checkpoint, file_path)\n",
    "    print(f\"Checkpoint saved at epoch {epoch} to {file_path}\")\n",
    "\n",
    "def load_checkpoint(model, optimizer,file_path):\n",
    "    checkpoint = torch.load(file_path)\n",
    "    model.load_state_dict(checkpoint['model_state_dict'])\n",
    "    optimizer.load_state_dict(checkpoint['optimizer_state_dict'])\n",
    "    start_epoch = checkpoint['epoch']\n",
    "    print(f\"Checkpoint loaded from {file_path}, resuming from epoch {start_epoch}\")\n",
    "    return start_epoch"
   ]
  },
  {
   "cell_type": "markdown",
   "metadata": {},
   "source": [
    "# Load Pretrained BALM"
   ]
  },
  {
   "cell_type": "code",
   "execution_count": 27,
   "metadata": {},
   "outputs": [],
   "source": [
    "# Load config and model for zero-shot\n",
    "config_filepath = \"../../default_configs/balm_peft.yaml\"\n",
    "configs = Configs(**common_utils.load_yaml(config_filepath))"
   ]
  },
  {
   "cell_type": "markdown",
   "metadata": {},
   "source": [
    "# Custom Dummy Data\n",
    "\n",
    "Alternative to loading the data from a HF repo, you can also bring in your own custom data."
   ]
  },
  {
   "cell_type": "code",
   "execution_count": 28,
   "metadata": {},
   "outputs": [
    {
     "data": {
      "text/html": [
       "<div>\n",
       "<style scoped>\n",
       "    .dataframe tbody tr th:only-of-type {\n",
       "        vertical-align: middle;\n",
       "    }\n",
       "\n",
       "    .dataframe tbody tr th {\n",
       "        vertical-align: top;\n",
       "    }\n",
       "\n",
       "    .dataframe thead th {\n",
       "        text-align: right;\n",
       "    }\n",
       "</style>\n",
       "<table border=\"1\" class=\"dataframe\">\n",
       "  <thead>\n",
       "    <tr style=\"text-align: right;\">\n",
       "      <th></th>\n",
       "      <th>proteina</th>\n",
       "      <th>Target</th>\n",
       "      <th>Y</th>\n",
       "      <th>Unnamed: 0</th>\n",
       "      <th>pdb_id</th>\n",
       "      <th>Unnamed: 5</th>\n",
       "      <th>Unnamed: 6</th>\n",
       "      <th>Unnamed: 7</th>\n",
       "      <th>source</th>\n",
       "    </tr>\n",
       "  </thead>\n",
       "  <tbody>\n",
       "    <tr>\n",
       "      <th>0</th>\n",
       "      <td>DIQMTQSPSSLSASVGDRVTITCRTSQSISSYLNWYQQKPGKAPKL...</td>\n",
       "      <td>DQQSAFYEILNMPNLNEAQRNGFIQSLKDDPSQSTNVLGEAKKLNE...</td>\n",
       "      <td>6.397940</td>\n",
       "      <td>4465</td>\n",
       "      <td>1DEE</td>\n",
       "      <td>NaN</td>\n",
       "      <td>NaN</td>\n",
       "      <td>NaN</td>\n",
       "      <td>PDBbind v2020</td>\n",
       "    </tr>\n",
       "    <tr>\n",
       "      <th>1</th>\n",
       "      <td>VTVDTVCKRGFLIQMSGHLECKCENDLVLVNEETCEEKVLKCDEKT...</td>\n",
       "      <td>DVVMTQSPLSLPVTLGQPASISCRSSQSLVYSDGNTYLSWFQQRPG...</td>\n",
       "      <td>7.508638</td>\n",
       "      <td>4467</td>\n",
       "      <td>6B0G</td>\n",
       "      <td>NaN</td>\n",
       "      <td>NaN</td>\n",
       "      <td>NaN</td>\n",
       "      <td>PDBbind v2020</td>\n",
       "    </tr>\n",
       "    <tr>\n",
       "      <th>2</th>\n",
       "      <td>GDTICIGYHANNSTDTVDTVLEKNVTVTHSVNLLEDSHNGKLCKLK...</td>\n",
       "      <td>PWKFSENIAFEIALSFTNKDTPDRWKKVAQYVKGRTPEEVKKHYE</td>\n",
       "      <td>9.221849</td>\n",
       "      <td>4466</td>\n",
       "      <td>4EEF</td>\n",
       "      <td>NaN</td>\n",
       "      <td>NaN</td>\n",
       "      <td>NaN</td>\n",
       "      <td>PDBbind v2020</td>\n",
       "    </tr>\n",
       "    <tr>\n",
       "      <th>3</th>\n",
       "      <td>FTKELDQWIEQLNECKQLSESQVKSLCEKAKEILTKECGDGQFHDL...</td>\n",
       "      <td>AAEDELQLPRLPELFETGRQLLDEVEVATEPAGSRIVQEKVFKGLD...</td>\n",
       "      <td>6.522879</td>\n",
       "      <td>3071</td>\n",
       "      <td>4IYP</td>\n",
       "      <td>NaN</td>\n",
       "      <td>NaN</td>\n",
       "      <td>NaN</td>\n",
       "      <td>PDBbind v2020</td>\n",
       "    </tr>\n",
       "    <tr>\n",
       "      <th>4</th>\n",
       "      <td>MQTIKCVVVGDGAVGKTCLLISYTTNKFPSEYVPTVFDNYAVTVMI...</td>\n",
       "      <td>AAGELEERFNRALNCMNLPPDKVQLLSQYDNEKKWELICDQERFQV...</td>\n",
       "      <td>5.593460</td>\n",
       "      <td>3402</td>\n",
       "      <td>4YDH</td>\n",
       "      <td>NaN</td>\n",
       "      <td>NaN</td>\n",
       "      <td>NaN</td>\n",
       "      <td>PDBbind v2020</td>\n",
       "    </tr>\n",
       "    <tr>\n",
       "      <th>...</th>\n",
       "      <td>...</td>\n",
       "      <td>...</td>\n",
       "      <td>...</td>\n",
       "      <td>...</td>\n",
       "      <td>...</td>\n",
       "      <td>...</td>\n",
       "      <td>...</td>\n",
       "      <td>...</td>\n",
       "      <td>...</td>\n",
       "    </tr>\n",
       "    <tr>\n",
       "      <th>11071</th>\n",
       "      <td>GSVEKLTADAELQRLKNERHEEAELERLKSEY</td>\n",
       "      <td>YVEFSEECMHGSGENYDGKISKTMSGLECQAWDSQSPHAHGYIPSK...</td>\n",
       "      <td>7.187087</td>\n",
       "      <td>1918</td>\n",
       "      <td>2KJ4</td>\n",
       "      <td>NaN</td>\n",
       "      <td>NaN</td>\n",
       "      <td>NaN</td>\n",
       "      <td>PDBbind v2020</td>\n",
       "    </tr>\n",
       "    <tr>\n",
       "      <th>11072</th>\n",
       "      <td>NIVLTQSPASLAVSLGQRATISCRASESVDHYGNSFIYWYQQKPGQ...</td>\n",
       "      <td>YVMCTGSFKLEKEVAETQHGTVLVQVKYEGTDAPCKIPFSSQDEKG...</td>\n",
       "      <td>6.380907</td>\n",
       "      <td>1177</td>\n",
       "      <td>4FFZ</td>\n",
       "      <td>NaN</td>\n",
       "      <td>NaN</td>\n",
       "      <td>NaN</td>\n",
       "      <td>SAbDab</td>\n",
       "    </tr>\n",
       "    <tr>\n",
       "      <th>11073</th>\n",
       "      <td>QVQLLQPGAELVKPGASMKLSCKASGYTFTNWWMHWVRLRPGRGLE...</td>\n",
       "      <td>YVMCTGSFKLEKEVAETQHGTVLVQVKYEGTDAPCKIPFSSQDEKG...</td>\n",
       "      <td>6.380907</td>\n",
       "      <td>1215</td>\n",
       "      <td>4FFZ</td>\n",
       "      <td>NaN</td>\n",
       "      <td>NaN</td>\n",
       "      <td>NaN</td>\n",
       "      <td>SAbDab</td>\n",
       "    </tr>\n",
       "    <tr>\n",
       "      <th>11074</th>\n",
       "      <td>KLLEQSGAELVKPGASVRLSCTASGFNIKDTYMSWVKQRPEQGLEW...</td>\n",
       "      <td>YVMCTGSFKLEKEVAETQHGTVLVQVKYEGTDAPCKIPFSTQDEKG...</td>\n",
       "      <td>10.086186</td>\n",
       "      <td>2698</td>\n",
       "      <td>3UZQ</td>\n",
       "      <td>NaN</td>\n",
       "      <td>NaN</td>\n",
       "      <td>NaN</td>\n",
       "      <td>PDBbind v2020</td>\n",
       "    </tr>\n",
       "    <tr>\n",
       "      <th>11075</th>\n",
       "      <td>LVMTQTPASLAVSLGQRATISCRASENVDRYGNSFMHWYQQKAGQP...</td>\n",
       "      <td>YVMCTGSFKLEKEVAETQHGTVLVQVKYEGTDAPCKIPFSTQDEKG...</td>\n",
       "      <td>10.086186</td>\n",
       "      <td>4453</td>\n",
       "      <td>3UZQ</td>\n",
       "      <td>NaN</td>\n",
       "      <td>NaN</td>\n",
       "      <td>NaN</td>\n",
       "      <td>SAbDab</td>\n",
       "    </tr>\n",
       "  </tbody>\n",
       "</table>\n",
       "<p>11076 rows × 9 columns</p>\n",
       "</div>"
      ],
      "text/plain": [
       "                                                proteina  \\\n",
       "0      DIQMTQSPSSLSASVGDRVTITCRTSQSISSYLNWYQQKPGKAPKL...   \n",
       "1      VTVDTVCKRGFLIQMSGHLECKCENDLVLVNEETCEEKVLKCDEKT...   \n",
       "2      GDTICIGYHANNSTDTVDTVLEKNVTVTHSVNLLEDSHNGKLCKLK...   \n",
       "3      FTKELDQWIEQLNECKQLSESQVKSLCEKAKEILTKECGDGQFHDL...   \n",
       "4      MQTIKCVVVGDGAVGKTCLLISYTTNKFPSEYVPTVFDNYAVTVMI...   \n",
       "...                                                  ...   \n",
       "11071                   GSVEKLTADAELQRLKNERHEEAELERLKSEY   \n",
       "11072  NIVLTQSPASLAVSLGQRATISCRASESVDHYGNSFIYWYQQKPGQ...   \n",
       "11073  QVQLLQPGAELVKPGASMKLSCKASGYTFTNWWMHWVRLRPGRGLE...   \n",
       "11074  KLLEQSGAELVKPGASVRLSCTASGFNIKDTYMSWVKQRPEQGLEW...   \n",
       "11075  LVMTQTPASLAVSLGQRATISCRASENVDRYGNSFMHWYQQKAGQP...   \n",
       "\n",
       "                                                  Target          Y  \\\n",
       "0      DQQSAFYEILNMPNLNEAQRNGFIQSLKDDPSQSTNVLGEAKKLNE...   6.397940   \n",
       "1      DVVMTQSPLSLPVTLGQPASISCRSSQSLVYSDGNTYLSWFQQRPG...   7.508638   \n",
       "2          PWKFSENIAFEIALSFTNKDTPDRWKKVAQYVKGRTPEEVKKHYE   9.221849   \n",
       "3      AAEDELQLPRLPELFETGRQLLDEVEVATEPAGSRIVQEKVFKGLD...   6.522879   \n",
       "4      AAGELEERFNRALNCMNLPPDKVQLLSQYDNEKKWELICDQERFQV...   5.593460   \n",
       "...                                                  ...        ...   \n",
       "11071  YVEFSEECMHGSGENYDGKISKTMSGLECQAWDSQSPHAHGYIPSK...   7.187087   \n",
       "11072  YVMCTGSFKLEKEVAETQHGTVLVQVKYEGTDAPCKIPFSSQDEKG...   6.380907   \n",
       "11073  YVMCTGSFKLEKEVAETQHGTVLVQVKYEGTDAPCKIPFSSQDEKG...   6.380907   \n",
       "11074  YVMCTGSFKLEKEVAETQHGTVLVQVKYEGTDAPCKIPFSTQDEKG...  10.086186   \n",
       "11075  YVMCTGSFKLEKEVAETQHGTVLVQVKYEGTDAPCKIPFSTQDEKG...  10.086186   \n",
       "\n",
       "       Unnamed: 0 pdb_id  Unnamed: 5  Unnamed: 6  Unnamed: 7           source  \n",
       "0            4465   1DEE         NaN         NaN         NaN    PDBbind v2020  \n",
       "1            4467   6B0G         NaN         NaN         NaN   PDBbind v2020   \n",
       "2            4466   4EEF         NaN         NaN         NaN   PDBbind v2020   \n",
       "3            3071   4IYP         NaN         NaN         NaN    PDBbind v2020  \n",
       "4            3402   4YDH         NaN         NaN         NaN    PDBbind v2020  \n",
       "...           ...    ...         ...         ...         ...              ...  \n",
       "11071        1918   2KJ4         NaN         NaN         NaN    PDBbind v2020  \n",
       "11072        1177   4FFZ         NaN         NaN         NaN           SAbDab  \n",
       "11073        1215   4FFZ         NaN         NaN         NaN           SAbDab  \n",
       "11074        2698   3UZQ         NaN         NaN         NaN    PDBbind v2020  \n",
       "11075        4453   3UZQ         NaN         NaN         NaN           SAbDab  \n",
       "\n",
       "[11076 rows x 9 columns]"
      ]
     },
     "execution_count": 28,
     "metadata": {},
     "output_type": "execute_result"
    }
   ],
   "source": [
    "df = pd.read_csv(r\"D:\\BALM Fineclone\\BALM-PPI\\scripts\\notebooks\\Data.csv\")\n",
    "df\n"
   ]
  },
  {
   "cell_type": "code",
   "execution_count": 29,
   "metadata": {},
   "outputs": [
    {
     "name": "stdout",
     "output_type": "stream",
     "text": [
      "Data range: 1.3188 to 15.6990\n"
     ]
    }
   ],
   "source": [
    "\n",
    "# Calculate bounds\n",
    "data_min = df['Y'].min()\n",
    "data_max = df['Y'].max()\n",
    "print(f\"Data range: {data_min:.4f} to {data_max:.4f}\")"
   ]
  },
  {
   "cell_type": "markdown",
   "metadata": {},
   "source": [
    "# Few shot training\n",
    "\n",
    "Note: This is a simplified training process, for a more tested approach, please refer to our `balm/trainer.py`"
   ]
  },
  {
   "cell_type": "code",
   "execution_count": 30,
   "metadata": {},
   "outputs": [
    {
     "name": "stdout",
     "output_type": "stream",
     "text": [
      "Number of train data: 2215\n",
      "Number of test data: 8861\n"
     ]
    }
   ],
   "source": [
    "# Few shot training\n",
    "from sklearn.model_selection import train_test_split\n",
    "\n",
    "# Split data\n",
    "train_data, test_data = train_test_split(df, train_size=0.2, random_state=1234)\n",
    "print(f\"Number of train data: {len(train_data)}\")\n",
    "print(f\"Number of test data: {len(test_data)}\")"
   ]
  },
  {
   "cell_type": "code",
   "execution_count": 31,
   "metadata": {},
   "outputs": [
    {
     "name": "stdout",
     "output_type": "stream",
     "text": [
      "pkd_lower_bound: 1.318758763, pkd_upper_bound: 15.69897\n"
     ]
    }
   ],
   "source": [
    "# Calculate bounds from the dataset\n",
    "pkd_lower_bound = df['Y'].min()  # or set it to the value you prefer\n",
    "pkd_upper_bound = df['Y'].max()  # or set it to the value you prefer\n",
    "\n",
    "print(f\"pkd_lower_bound: {pkd_lower_bound}, pkd_upper_bound: {pkd_upper_bound}\")\n"
   ]
  },
  {
   "cell_type": "code",
   "execution_count": 32,
   "metadata": {},
   "outputs": [
    {
     "data": {
      "text/plain": [
       "\"\\n#commenting this because I am normalizing below directly in traing and testing\\n# Define a function that applies the cosine similarity conversion to a single example\\n# This is VERY IMPORTANT since BALM uses cosine similarity\\ndef add_cosine_similarity(example, pkd_upper_bound, pkd_lower_bound):\\n    example['cosine_similarity'] = (\\n        \\n        (example['Y'] - pkd_lower_bound) / (pkd_upper_bound - pkd_lower_bound)* 2 - 1\\n    )\\n    return example\\n\\n# Use map to apply the function across the entire dataset\\ntrain_data = train_data.apply(lambda x: add_cosine_similarity(x, pkd_upper_bound, pkd_lower_bound), axis=1)\\ntest_data = test_data.apply(lambda x: add_cosine_similarity(x, pkd_upper_bound, pkd_lower_bound), axis=1)\\n\""
      ]
     },
     "execution_count": 32,
     "metadata": {},
     "output_type": "execute_result"
    }
   ],
   "source": [
    "'''\n",
    "#commenting this because I am normalizing below directly in traing and testing\n",
    "# Define a function that applies the cosine similarity conversion to a single example\n",
    "# This is VERY IMPORTANT since BALM uses cosine similarity\n",
    "def add_cosine_similarity(example, pkd_upper_bound, pkd_lower_bound):\n",
    "    example['cosine_similarity'] = (\n",
    "        \n",
    "        (example['Y'] - pkd_lower_bound) / (pkd_upper_bound - pkd_lower_bound)* 2 - 1\n",
    "    )\n",
    "    return example\n",
    "\n",
    "# Use map to apply the function across the entire dataset\n",
    "train_data = train_data.apply(lambda x: add_cosine_similarity(x, pkd_upper_bound, pkd_lower_bound), axis=1)\n",
    "test_data = test_data.apply(lambda x: add_cosine_similarity(x, pkd_upper_bound, pkd_lower_bound), axis=1)\n",
    "'''"
   ]
  },
  {
   "cell_type": "code",
   "execution_count": 33,
   "metadata": {},
   "outputs": [],
   "source": [
    "# Initialize model for training\n",
    "model = BALM(configs.model_configs)\n",
    "model = model.to(DEVICE)"
   ]
  },
  {
   "cell_type": "code",
   "execution_count": 34,
   "metadata": {},
   "outputs": [
    {
     "name": "stderr",
     "output_type": "stream",
     "text": [
      "\u001b[34m\u001b[1mwandb\u001b[0m: \u001b[33mWARNING\u001b[0m Calling wandb.login() after wandb.init() has no effect.\n"
     ]
    },
    {
     "data": {
      "text/html": [
       "<button onClick=\"this.nextSibling.style.display='block';this.style.display='none';\">Display W&B run</button><iframe src='https://wandb.ai/hs494-shiv-nadar-university/ppiATTPFT_local_test/runs/sma8sv7i?jupyter=true' style='border:none;width:100%;height:420px;display:none;'></iframe>"
      ],
      "text/plain": [
       "<wandb.sdk.wandb_run.Run at 0x2a892167e80>"
      ]
     },
     "execution_count": 34,
     "metadata": {},
     "output_type": "execute_result"
    }
   ],
   "source": [
    "import wandb\n",
    "from torch.optim import AdamW\n",
    "from tqdm import tqdm\n",
    "import time\n",
    "\n",
    "\n",
    "wandb.login(key='60f195a60e62087702e68096c0e54f04406555dc')\n",
    "# Initialize wandb\n",
    "wandb.init(project='ppiATTPFT_local_test', entity='hs494-shiv-nadar-university')"
   ]
  },
  {
   "cell_type": "code",
   "execution_count": 35,
   "metadata": {},
   "outputs": [
    {
     "name": "stdout",
     "output_type": "stream",
     "text": [
      "Starting training with learning rate: 0.001\n",
      "Training on device: cuda\n",
      "Total training samples: 2215\n"
     ]
    }
   ],
   "source": [
    "\n",
    "# Training loop\n",
    "NUM_EPOCHS = 20\n",
    "optimizer = torch.optim.AdamW(\n",
    "    params=[param for name, param in model.named_parameters()],\n",
    "    lr=configs.model_configs.model_hyperparameters.learning_rate,\n",
    ")\n",
    "\n",
    "print(f\"Starting training with learning rate: {optimizer.param_groups[0]['lr']}\")\n",
    "print(f\"Training on device: {DEVICE}\")\n",
    "print(f\"Total training samples: {len(train_data)}\")"
   ]
  },
  {
   "cell_type": "code",
   "execution_count": 36,
   "metadata": {},
   "outputs": [
    {
     "name": "stderr",
     "output_type": "stream",
     "text": [
      "C:\\Users\\hs494\\AppData\\Local\\Temp\\ipykernel_21052\\126795426.py:14: FutureWarning: You are using `torch.load` with `weights_only=False` (the current default value), which uses the default pickle module implicitly. It is possible to construct malicious pickle data which will execute arbitrary code during unpickling (See https://github.com/pytorch/pytorch/blob/main/SECURITY.md#untrusted-models for more details). In a future release, the default value for `weights_only` will be flipped to `True`. This limits the functions that could be executed during unpickling. Arbitrary objects will no longer be allowed to be loaded via this mode unless they are explicitly allowlisted by the user via `torch.serialization.add_safe_globals`. We recommend you start setting `weights_only=True` for any use case where you don't have full control of the loaded file. Please open an issue on GitHub for any issues related to this experimental feature.\n",
      "  checkpoint = torch.load(file_path)\n"
     ]
    },
    {
     "name": "stdout",
     "output_type": "stream",
     "text": [
      "Checkpoint loaded from D:\\BALM Fineclone\\BALM-PPI\\scripts\\notebooks\\latest_checkpointcuratedmainATTPFT.pth, resuming from epoch 199\n"
     ]
    }
   ],
   "source": [
    "\n",
    "#with normalization\n",
    "# Log hyperparameters\n",
    "wandb.config.learning_rate = configs.model_configs.model_hyperparameters.learning_rate\n",
    "wandb.config.num_epochs = NUM_EPOCHS\n",
    "\n",
    "# Load checkpoint if exists\n",
    "checkpoint_path = r\"D:\\BALM Fineclone\\BALM-PPI\\scripts\\notebooks\\latest_checkpointcuratedmainATTPFT.pth\"\n",
    "start_epoch = 0\n",
    "if os.path.exists(checkpoint_path):\n",
    "    start_epoch = load_checkpoint(model,optimizer,checkpoint_path)\n",
    "    "
   ]
  },
  {
   "cell_type": "code",
   "execution_count": 37,
   "metadata": {},
   "outputs": [
    {
     "name": "stderr",
     "output_type": "stream",
     "text": [
      "Epoch 200/219:   1%|          | 16/2215 [00:02<05:31,  6.63it/s, batch_loss=0.0033, avg_loss=0.0000]"
     ]
    },
    {
     "name": "stdout",
     "output_type": "stream",
     "text": [
      "\n",
      "Sequence lengths - Target: 1180, ProteinA: 940\n"
     ]
    },
    {
     "name": "stderr",
     "output_type": "stream",
     "text": [
      "Epoch 200/219:   1%|          | 18/2215 [00:02<08:10,  4.48it/s, batch_loss=0.0115, avg_loss=0.0001]"
     ]
    },
    {
     "name": "stdout",
     "output_type": "stream",
     "text": [
      "Gradient norm: 0.0441\n"
     ]
    },
    {
     "name": "stderr",
     "output_type": "stream",
     "text": [
      "Epoch 200/219:  24%|██▍       | 534/2215 [01:17<03:40,  7.64it/s, batch_loss=0.0247, avg_loss=0.0016]"
     ]
    },
    {
     "name": "stdout",
     "output_type": "stream",
     "text": [
      "\n",
      "Sequence lengths - Target: 129, ProteinA: 432\n",
      "Gradient norm: 0.0593\n"
     ]
    },
    {
     "name": "stderr",
     "output_type": "stream",
     "text": [
      "Epoch 200/219:  27%|██▋       | 593/2215 [01:27<04:16,  6.32it/s, batch_loss=0.0131, avg_loss=0.0013]"
     ]
    },
    {
     "name": "stdout",
     "output_type": "stream",
     "text": [
      "\n",
      "Sequence lengths - Target: 174, ProteinA: 597\n"
     ]
    },
    {
     "name": "stderr",
     "output_type": "stream",
     "text": [
      "Epoch 200/219:  27%|██▋       | 595/2215 [01:27<04:15,  6.35it/s, batch_loss=0.0002, avg_loss=0.0020]"
     ]
    },
    {
     "name": "stdout",
     "output_type": "stream",
     "text": [
      "Gradient norm: 0.0741\n"
     ]
    },
    {
     "name": "stderr",
     "output_type": "stream",
     "text": [
      "Epoch 200/219:  35%|███▌      | 785/2215 [01:56<03:31,  6.76it/s, batch_loss=0.0014, avg_loss=0.0039]"
     ]
    },
    {
     "name": "stdout",
     "output_type": "stream",
     "text": [
      "\n",
      "Sequence lengths - Target: 475, ProteinA: 1288\n"
     ]
    },
    {
     "name": "stderr",
     "output_type": "stream",
     "text": [
      "Epoch 200/219:  36%|███▌      | 787/2215 [01:57<04:53,  4.86it/s, batch_loss=0.0020, avg_loss=0.0013]"
     ]
    },
    {
     "name": "stdout",
     "output_type": "stream",
     "text": [
      "Gradient norm: 0.0002\n"
     ]
    },
    {
     "name": "stderr",
     "output_type": "stream",
     "text": [
      "Epoch 200/219:  37%|███▋      | 827/2215 [02:03<03:59,  5.80it/s, batch_loss=0.0001, avg_loss=0.0011]"
     ]
    },
    {
     "name": "stdout",
     "output_type": "stream",
     "text": [
      "\n",
      "Sequence lengths - Target: 347, ProteinA: 432\n",
      "Gradient norm: 0.0041\n"
     ]
    },
    {
     "name": "stderr",
     "output_type": "stream",
     "text": [
      "Epoch 200/219:  38%|███▊      | 836/2215 [02:04<03:05,  7.43it/s, batch_loss=0.0009, avg_loss=0.0019]"
     ]
    },
    {
     "name": "stdout",
     "output_type": "stream",
     "text": [
      "\n",
      "Sequence lengths - Target: 167, ProteinA: 87\n",
      "Gradient norm: 0.0172\n"
     ]
    },
    {
     "name": "stderr",
     "output_type": "stream",
     "text": [
      "Epoch 200/219:  42%|████▏     | 938/2215 [02:20<02:52,  7.40it/s, batch_loss=0.0646, avg_loss=0.0447]"
     ]
    },
    {
     "name": "stdout",
     "output_type": "stream",
     "text": [
      "\n",
      "Sequence lengths - Target: 165, ProteinA: 262\n",
      "Gradient norm: 0.0856\n"
     ]
    },
    {
     "name": "stderr",
     "output_type": "stream",
     "text": [
      "Epoch 200/219:  44%|████▍     | 977/2215 [02:26<03:40,  5.62it/s, batch_loss=0.0010, avg_loss=0.0017]"
     ]
    },
    {
     "name": "stdout",
     "output_type": "stream",
     "text": [
      "\n",
      "Sequence lengths - Target: 223, ProteinA: 187\n",
      "Gradient norm: 0.0250\n"
     ]
    },
    {
     "name": "stderr",
     "output_type": "stream",
     "text": [
      "Epoch 200/219:  51%|█████▏    | 1138/2215 [02:50<03:00,  5.96it/s, batch_loss=0.0005, avg_loss=0.0036]"
     ]
    },
    {
     "name": "stdout",
     "output_type": "stream",
     "text": [
      "\n",
      "Sequence lengths - Target: 129, ProteinA: 429\n",
      "Gradient norm: 0.0082\n"
     ]
    },
    {
     "name": "stderr",
     "output_type": "stream",
     "text": [
      "Epoch 200/219:  55%|█████▌    | 1227/2215 [03:04<02:07,  7.76it/s, batch_loss=0.0168, avg_loss=0.0036]"
     ]
    },
    {
     "name": "stdout",
     "output_type": "stream",
     "text": [
      "\n",
      "Sequence lengths - Target: 436, ProteinA: 386\n"
     ]
    },
    {
     "name": "stderr",
     "output_type": "stream",
     "text": [
      "Epoch 200/219:  55%|█████▌    | 1229/2215 [03:04<02:16,  7.25it/s, batch_loss=0.0633, avg_loss=0.0022]"
     ]
    },
    {
     "name": "stdout",
     "output_type": "stream",
     "text": [
      "Gradient norm: 0.0038\n"
     ]
    },
    {
     "name": "stderr",
     "output_type": "stream",
     "text": [
      "Epoch 200/219:  56%|█████▋    | 1248/2215 [03:07<02:09,  7.49it/s, batch_loss=0.0000, avg_loss=0.0017]"
     ]
    },
    {
     "name": "stdout",
     "output_type": "stream",
     "text": [
      "\n",
      "Sequence lengths - Target: 53, ProteinA: 238\n",
      "Gradient norm: 0.0070\n"
     ]
    },
    {
     "name": "stderr",
     "output_type": "stream",
     "text": [
      "Epoch 200/219:  60%|██████    | 1331/2215 [03:22<02:01,  7.28it/s, batch_loss=0.0111, avg_loss=0.0018]"
     ]
    },
    {
     "name": "stdout",
     "output_type": "stream",
     "text": [
      "\n",
      "Sequence lengths - Target: 126, ProteinA: 455\n",
      "Gradient norm: 0.1844\n"
     ]
    },
    {
     "name": "stderr",
     "output_type": "stream",
     "text": [
      "Epoch 200/219:  68%|██████▊   | 1511/2215 [03:50<01:38,  7.17it/s, batch_loss=0.0079, avg_loss=0.0042]"
     ]
    },
    {
     "name": "stdout",
     "output_type": "stream",
     "text": [
      "\n",
      "Sequence lengths - Target: 56, ProteinA: 218\n",
      "Gradient norm: 0.1882\n"
     ]
    },
    {
     "name": "stderr",
     "output_type": "stream",
     "text": [
      "Epoch 200/219:  70%|██████▉   | 1545/2215 [03:55<01:32,  7.28it/s, batch_loss=0.0000, avg_loss=0.0098]"
     ]
    },
    {
     "name": "stdout",
     "output_type": "stream",
     "text": [
      "\n",
      "Sequence lengths - Target: 338, ProteinA: 317\n",
      "Gradient norm: 0.0064\n"
     ]
    },
    {
     "name": "stderr",
     "output_type": "stream",
     "text": [
      "Epoch 200/219:  71%|███████▏  | 1582/2215 [04:01<01:35,  6.62it/s, batch_loss=0.0025, avg_loss=0.0033]"
     ]
    },
    {
     "name": "stdout",
     "output_type": "stream",
     "text": [
      "\n",
      "Sequence lengths - Target: 489, ProteinA: 30\n",
      "Gradient norm: 0.0532\n"
     ]
    },
    {
     "name": "stderr",
     "output_type": "stream",
     "text": [
      "Epoch 200/219:  73%|███████▎  | 1612/2215 [04:05<01:29,  6.72it/s, batch_loss=0.0393, avg_loss=0.0098]"
     ]
    },
    {
     "name": "stdout",
     "output_type": "stream",
     "text": [
      "\n",
      "Sequence lengths - Target: 126, ProteinA: 460\n",
      "Gradient norm: 0.1377\n"
     ]
    },
    {
     "name": "stderr",
     "output_type": "stream",
     "text": [
      "Epoch 200/219:  73%|███████▎  | 1620/2215 [04:06<01:34,  6.33it/s, batch_loss=0.0007, avg_loss=0.0073]"
     ]
    },
    {
     "name": "stdout",
     "output_type": "stream",
     "text": [
      "\n",
      "Sequence lengths - Target: 356, ProteinA: 122\n",
      "Gradient norm: 0.0160\n"
     ]
    },
    {
     "name": "stderr",
     "output_type": "stream",
     "text": [
      "Epoch 200/219:  76%|███████▌  | 1688/2215 [04:16<01:12,  7.29it/s, batch_loss=0.0057, avg_loss=0.0025]"
     ]
    },
    {
     "name": "stdout",
     "output_type": "stream",
     "text": [
      "\n",
      "Sequence lengths - Target: 61, ProteinA: 533\n",
      "Gradient norm: 0.1066\n"
     ]
    },
    {
     "name": "stderr",
     "output_type": "stream",
     "text": [
      "Epoch 200/219:  78%|███████▊  | 1717/2215 [04:21<01:12,  6.86it/s, batch_loss=0.0001, avg_loss=0.0022]"
     ]
    },
    {
     "name": "stdout",
     "output_type": "stream",
     "text": [
      "\n",
      "Sequence lengths - Target: 67, ProteinA: 104\n",
      "Gradient norm: 0.0118\n"
     ]
    },
    {
     "name": "stderr",
     "output_type": "stream",
     "text": [
      "Epoch 200/219:  84%|████████▍ | 1869/2215 [04:45<01:11,  4.87it/s, batch_loss=0.0001, avg_loss=0.0031]"
     ]
    },
    {
     "name": "stdout",
     "output_type": "stream",
     "text": [
      "\n",
      "Sequence lengths - Target: 72, ProteinA: 118\n",
      "Gradient norm: 0.0079\n"
     ]
    },
    {
     "name": "stderr",
     "output_type": "stream",
     "text": [
      "Epoch 200/219:  93%|█████████▎| 2050/2215 [05:11<00:21,  7.83it/s, batch_loss=0.0008, avg_loss=0.0028]"
     ]
    },
    {
     "name": "stdout",
     "output_type": "stream",
     "text": [
      "\n",
      "Sequence lengths - Target: 53, ProteinA: 238\n",
      "Gradient norm: 0.0202\n"
     ]
    },
    {
     "name": "stderr",
     "output_type": "stream",
     "text": [
      "Epoch 200/219:  98%|█████████▊| 2161/2215 [05:26<00:06,  8.04it/s, batch_loss=0.0036, avg_loss=0.0034]"
     ]
    },
    {
     "name": "stdout",
     "output_type": "stream",
     "text": [
      "\n",
      "Sequence lengths - Target: 266, ProteinA: 165\n",
      "Gradient norm: 0.1184\n"
     ]
    },
    {
     "name": "stderr",
     "output_type": "stream",
     "text": [
      "                                                                                                      \r"
     ]
    },
    {
     "name": "stdout",
     "output_type": "stream",
     "text": [
      "\n",
      "Epoch [200/219] Summary:\n",
      "Average Loss: 0.0147\n",
      "Min Batch Loss: 0.0000\n",
      "Max Batch Loss: 0.5134\n",
      "New best loss achieved! Previous best: 0.0147\n",
      "GPU Memory allocated: 5.41 GB\n",
      "GPU Memory cached: 15.56 GB\n",
      "Checkpoint saved at epoch 200 to D:\\BALM Fineclone\\BALM-PPI\\scripts\\notebooks\\latest_checkpointcuratedmainATTPFT.pth\n"
     ]
    },
    {
     "name": "stderr",
     "output_type": "stream",
     "text": [
      "Epoch 201/219:   1%|          | 16/2215 [00:02<05:34,  6.58it/s, batch_loss=0.0119, avg_loss=0.0000]"
     ]
    },
    {
     "name": "stdout",
     "output_type": "stream",
     "text": [
      "\n",
      "Sequence lengths - Target: 1180, ProteinA: 940\n"
     ]
    },
    {
     "name": "stderr",
     "output_type": "stream",
     "text": [
      "Epoch 201/219:   1%|          | 18/2215 [00:03<08:15,  4.44it/s, batch_loss=0.0055, avg_loss=0.0001]"
     ]
    },
    {
     "name": "stdout",
     "output_type": "stream",
     "text": [
      "Gradient norm: 0.0308\n"
     ]
    },
    {
     "name": "stderr",
     "output_type": "stream",
     "text": [
      "Epoch 201/219:  24%|██▍       | 534/2215 [01:20<03:43,  7.51it/s, batch_loss=0.0347, avg_loss=0.0016]"
     ]
    },
    {
     "name": "stdout",
     "output_type": "stream",
     "text": [
      "\n",
      "Sequence lengths - Target: 129, ProteinA: 432\n",
      "Gradient norm: 0.0800\n"
     ]
    },
    {
     "name": "stderr",
     "output_type": "stream",
     "text": [
      "Epoch 201/219:  27%|██▋       | 593/2215 [01:30<04:28,  6.04it/s, batch_loss=0.0023, avg_loss=0.0092]"
     ]
    },
    {
     "name": "stdout",
     "output_type": "stream",
     "text": [
      "\n",
      "Sequence lengths - Target: 174, ProteinA: 597\n",
      "Gradient norm: 0.0508\n"
     ]
    },
    {
     "name": "stderr",
     "output_type": "stream",
     "text": [
      "Epoch 201/219:  35%|███▌      | 785/2215 [01:57<03:11,  7.46it/s, batch_loss=0.0053, avg_loss=0.0038]"
     ]
    },
    {
     "name": "stdout",
     "output_type": "stream",
     "text": [
      "\n",
      "Sequence lengths - Target: 475, ProteinA: 1288\n"
     ]
    },
    {
     "name": "stderr",
     "output_type": "stream",
     "text": [
      "Epoch 201/219:  35%|███▌      | 786/2215 [01:58<04:56,  4.81it/s, batch_loss=0.0000, avg_loss=0.0013]"
     ]
    },
    {
     "name": "stdout",
     "output_type": "stream",
     "text": [
      "Gradient norm: 0.0155\n"
     ]
    },
    {
     "name": "stderr",
     "output_type": "stream",
     "text": [
      "Epoch 201/219:  37%|███▋      | 826/2215 [02:03<03:19,  6.97it/s, batch_loss=0.0000, avg_loss=0.0010]"
     ]
    },
    {
     "name": "stdout",
     "output_type": "stream",
     "text": [
      "\n",
      "Sequence lengths - Target: 347, ProteinA: 432\n",
      "Gradient norm: 0.0007\n"
     ]
    },
    {
     "name": "stderr",
     "output_type": "stream",
     "text": [
      "Epoch 201/219:  38%|███▊      | 837/2215 [02:04<02:35,  8.84it/s, batch_loss=0.0092, avg_loss=0.1519]"
     ]
    },
    {
     "name": "stdout",
     "output_type": "stream",
     "text": [
      "\n",
      "Sequence lengths - Target: 167, ProteinA: 87\n",
      "Gradient norm: 0.0170\n"
     ]
    },
    {
     "name": "stderr",
     "output_type": "stream",
     "text": [
      "Epoch 201/219:  42%|████▏     | 938/2215 [02:19<02:58,  7.16it/s, batch_loss=0.0759, avg_loss=0.0023]"
     ]
    },
    {
     "name": "stdout",
     "output_type": "stream",
     "text": [
      "\n",
      "Sequence lengths - Target: 165, ProteinA: 262\n",
      "Gradient norm: 0.0818\n"
     ]
    },
    {
     "name": "stderr",
     "output_type": "stream",
     "text": [
      "Epoch 201/219:  44%|████▍     | 977/2215 [02:24<03:25,  6.02it/s, batch_loss=0.0012, avg_loss=0.0017]"
     ]
    },
    {
     "name": "stdout",
     "output_type": "stream",
     "text": [
      "\n",
      "Sequence lengths - Target: 223, ProteinA: 187\n",
      "Gradient norm: 0.0331\n"
     ]
    },
    {
     "name": "stderr",
     "output_type": "stream",
     "text": [
      "Epoch 201/219:  51%|█████▏    | 1138/2215 [02:45<02:34,  6.96it/s, batch_loss=0.0004, avg_loss=0.0036]"
     ]
    },
    {
     "name": "stdout",
     "output_type": "stream",
     "text": [
      "\n",
      "Sequence lengths - Target: 129, ProteinA: 429\n",
      "Gradient norm: 0.0089\n"
     ]
    },
    {
     "name": "stderr",
     "output_type": "stream",
     "text": [
      "Epoch 201/219:  55%|█████▌    | 1226/2215 [02:57<02:01,  8.17it/s, batch_loss=0.0063, avg_loss=0.0036]"
     ]
    },
    {
     "name": "stdout",
     "output_type": "stream",
     "text": [
      "\n",
      "Sequence lengths - Target: 436, ProteinA: 386\n"
     ]
    },
    {
     "name": "stderr",
     "output_type": "stream",
     "text": [
      "Epoch 201/219:  55%|█████▌    | 1229/2215 [02:58<02:01,  8.11it/s, batch_loss=0.0639, avg_loss=0.0022]"
     ]
    },
    {
     "name": "stdout",
     "output_type": "stream",
     "text": [
      "Gradient norm: 0.0179\n"
     ]
    },
    {
     "name": "stderr",
     "output_type": "stream",
     "text": [
      "Epoch 201/219:  56%|█████▋    | 1248/2215 [03:00<01:49,  8.84it/s, batch_loss=0.0112, avg_loss=0.0017]"
     ]
    },
    {
     "name": "stdout",
     "output_type": "stream",
     "text": [
      "\n",
      "Sequence lengths - Target: 53, ProteinA: 238\n",
      "Gradient norm: 0.1421\n"
     ]
    },
    {
     "name": "stderr",
     "output_type": "stream",
     "text": [
      "Epoch 201/219:  60%|██████    | 1331/2215 [03:14<01:40,  8.77it/s, batch_loss=0.0000, avg_loss=0.0018]"
     ]
    },
    {
     "name": "stdout",
     "output_type": "stream",
     "text": [
      "\n",
      "Sequence lengths - Target: 126, ProteinA: 455\n",
      "Gradient norm: 0.0009\n"
     ]
    },
    {
     "name": "stderr",
     "output_type": "stream",
     "text": [
      "Epoch 201/219:  68%|██████▊   | 1512/2215 [03:39<01:14,  9.44it/s, batch_loss=0.0049, avg_loss=0.0021]"
     ]
    },
    {
     "name": "stdout",
     "output_type": "stream",
     "text": [
      "\n",
      "Sequence lengths - Target: 56, ProteinA: 218\n",
      "Gradient norm: 0.1722\n"
     ]
    },
    {
     "name": "stderr",
     "output_type": "stream",
     "text": [
      "Epoch 201/219:  70%|██████▉   | 1545/2215 [03:44<01:26,  7.78it/s, batch_loss=0.0004, avg_loss=0.0097]"
     ]
    },
    {
     "name": "stdout",
     "output_type": "stream",
     "text": [
      "\n",
      "Sequence lengths - Target: 338, ProteinA: 317\n",
      "Gradient norm: 0.0209\n"
     ]
    },
    {
     "name": "stderr",
     "output_type": "stream",
     "text": [
      "Epoch 201/219:  71%|███████▏  | 1582/2215 [03:49<01:20,  7.83it/s, batch_loss=0.0004, avg_loss=0.0033]"
     ]
    },
    {
     "name": "stdout",
     "output_type": "stream",
     "text": [
      "\n",
      "Sequence lengths - Target: 489, ProteinA: 30\n",
      "Gradient norm: 0.0238\n"
     ]
    },
    {
     "name": "stderr",
     "output_type": "stream",
     "text": [
      "Epoch 201/219:  73%|███████▎  | 1612/2215 [03:52<01:15,  8.02it/s, batch_loss=0.0338, avg_loss=0.0096]"
     ]
    },
    {
     "name": "stdout",
     "output_type": "stream",
     "text": [
      "\n",
      "Sequence lengths - Target: 126, ProteinA: 460\n",
      "Gradient norm: 0.1419\n"
     ]
    },
    {
     "name": "stderr",
     "output_type": "stream",
     "text": [
      "Epoch 201/219:  73%|███████▎  | 1620/2215 [03:53<01:21,  7.34it/s, batch_loss=0.0000, avg_loss=0.0071]"
     ]
    },
    {
     "name": "stdout",
     "output_type": "stream",
     "text": [
      "\n",
      "Sequence lengths - Target: 356, ProteinA: 122\n",
      "Gradient norm: 0.0026\n"
     ]
    },
    {
     "name": "stderr",
     "output_type": "stream",
     "text": [
      "Epoch 201/219:  76%|███████▋  | 1689/2215 [04:02<01:06,  7.91it/s, batch_loss=0.0019, avg_loss=0.0025]"
     ]
    },
    {
     "name": "stdout",
     "output_type": "stream",
     "text": [
      "\n",
      "Sequence lengths - Target: 61, ProteinA: 533\n",
      "Gradient norm: 0.0338\n"
     ]
    },
    {
     "name": "stderr",
     "output_type": "stream",
     "text": [
      "Epoch 201/219:  78%|███████▊  | 1718/2215 [04:07<00:54,  9.08it/s, batch_loss=0.0014, avg_loss=0.0025]"
     ]
    },
    {
     "name": "stdout",
     "output_type": "stream",
     "text": [
      "\n",
      "Sequence lengths - Target: 67, ProteinA: 104\n",
      "Gradient norm: 0.0364\n"
     ]
    },
    {
     "name": "stderr",
     "output_type": "stream",
     "text": [
      "Epoch 201/219:  84%|████████▍ | 1870/2215 [04:28<00:54,  6.30it/s, batch_loss=0.0015, avg_loss=0.0032]"
     ]
    },
    {
     "name": "stdout",
     "output_type": "stream",
     "text": [
      "\n",
      "Sequence lengths - Target: 72, ProteinA: 118\n",
      "Gradient norm: 0.0272\n"
     ]
    },
    {
     "name": "stderr",
     "output_type": "stream",
     "text": [
      "Epoch 201/219:  93%|█████████▎| 2051/2215 [04:50<00:15, 10.56it/s, batch_loss=0.0004, avg_loss=0.0029]"
     ]
    },
    {
     "name": "stdout",
     "output_type": "stream",
     "text": [
      "\n",
      "Sequence lengths - Target: 53, ProteinA: 238\n",
      "Gradient norm: 0.0141\n"
     ]
    },
    {
     "name": "stderr",
     "output_type": "stream",
     "text": [
      "Epoch 201/219:  98%|█████████▊| 2161/2215 [05:04<00:05,  9.06it/s, batch_loss=0.0006, avg_loss=0.0034]"
     ]
    },
    {
     "name": "stdout",
     "output_type": "stream",
     "text": [
      "\n",
      "Sequence lengths - Target: 266, ProteinA: 165\n",
      "Gradient norm: 0.0237\n"
     ]
    },
    {
     "name": "stderr",
     "output_type": "stream",
     "text": [
      "                                                                                                      \r"
     ]
    },
    {
     "name": "stdout",
     "output_type": "stream",
     "text": [
      "\n",
      "Epoch [201/219] Summary:\n",
      "Average Loss: 0.0144\n",
      "Min Batch Loss: 0.0000\n",
      "Max Batch Loss: 0.5073\n",
      "New best loss achieved! Previous best: 0.0144\n",
      "GPU Memory allocated: 5.41 GB\n",
      "GPU Memory cached: 15.56 GB\n",
      "Checkpoint saved at epoch 201 to D:\\BALM Fineclone\\BALM-PPI\\scripts\\notebooks\\latest_checkpointcuratedmainATTPFT.pth\n"
     ]
    },
    {
     "name": "stderr",
     "output_type": "stream",
     "text": [
      "Epoch 202/219:   1%|          | 16/2215 [00:02<05:04,  7.23it/s, batch_loss=0.0001, avg_loss=0.0000]"
     ]
    },
    {
     "name": "stdout",
     "output_type": "stream",
     "text": [
      "\n",
      "Sequence lengths - Target: 1180, ProteinA: 940\n"
     ]
    },
    {
     "name": "stderr",
     "output_type": "stream",
     "text": [
      "Epoch 202/219:   1%|          | 17/2215 [00:03<09:37,  3.80it/s, batch_loss=0.0046, avg_loss=0.0000]"
     ]
    },
    {
     "name": "stdout",
     "output_type": "stream",
     "text": [
      "Gradient norm: 0.0481\n"
     ]
    },
    {
     "name": "stderr",
     "output_type": "stream",
     "text": [
      "Epoch 202/219:  24%|██▍       | 534/2215 [01:10<03:14,  8.65it/s, batch_loss=0.0370, avg_loss=0.0016]"
     ]
    },
    {
     "name": "stdout",
     "output_type": "stream",
     "text": [
      "\n",
      "Sequence lengths - Target: 129, ProteinA: 432\n",
      "Gradient norm: 0.0881\n"
     ]
    },
    {
     "name": "stderr",
     "output_type": "stream",
     "text": [
      "Epoch 202/219:  27%|██▋       | 593/2215 [01:18<04:03,  6.65it/s, batch_loss=0.0039, avg_loss=0.0013]"
     ]
    },
    {
     "name": "stdout",
     "output_type": "stream",
     "text": [
      "\n",
      "Sequence lengths - Target: 174, ProteinA: 597\n",
      "Gradient norm: 0.0218\n"
     ]
    },
    {
     "name": "stderr",
     "output_type": "stream",
     "text": [
      "Epoch 202/219:  35%|███▌      | 785/2215 [01:45<03:12,  7.44it/s, batch_loss=0.0013, avg_loss=0.0039]"
     ]
    },
    {
     "name": "stdout",
     "output_type": "stream",
     "text": [
      "\n",
      "Sequence lengths - Target: 475, ProteinA: 1288\n"
     ]
    },
    {
     "name": "stderr",
     "output_type": "stream",
     "text": [
      "Epoch 202/219:  35%|███▌      | 786/2215 [01:45<04:57,  4.80it/s, batch_loss=0.0107, avg_loss=0.0013]"
     ]
    },
    {
     "name": "stdout",
     "output_type": "stream",
     "text": [
      "Gradient norm: 0.0543\n"
     ]
    },
    {
     "name": "stderr",
     "output_type": "stream",
     "text": [
      "Epoch 202/219:  37%|███▋      | 826/2215 [01:51<03:19,  6.95it/s, batch_loss=0.0005, avg_loss=0.0010]"
     ]
    },
    {
     "name": "stdout",
     "output_type": "stream",
     "text": [
      "\n",
      "Sequence lengths - Target: 347, ProteinA: 432\n",
      "Gradient norm: 0.0161\n"
     ]
    },
    {
     "name": "stderr",
     "output_type": "stream",
     "text": [
      "Epoch 202/219:  38%|███▊      | 837/2215 [01:52<02:32,  9.03it/s, batch_loss=0.0016, avg_loss=0.1537]"
     ]
    },
    {
     "name": "stdout",
     "output_type": "stream",
     "text": [
      "\n",
      "Sequence lengths - Target: 167, ProteinA: 87\n",
      "Gradient norm: 0.0127\n"
     ]
    },
    {
     "name": "stderr",
     "output_type": "stream",
     "text": [
      "Epoch 202/219:  42%|████▏     | 938/2215 [02:07<02:58,  7.15it/s, batch_loss=0.0859, avg_loss=0.0024]"
     ]
    },
    {
     "name": "stdout",
     "output_type": "stream",
     "text": [
      "\n",
      "Sequence lengths - Target: 165, ProteinA: 262\n",
      "Gradient norm: 0.0819\n"
     ]
    },
    {
     "name": "stderr",
     "output_type": "stream",
     "text": [
      "Epoch 202/219:  44%|████▍     | 977/2215 [02:11<03:24,  6.05it/s, batch_loss=0.0006, avg_loss=0.0017]"
     ]
    },
    {
     "name": "stdout",
     "output_type": "stream",
     "text": [
      "\n",
      "Sequence lengths - Target: 223, ProteinA: 187\n",
      "Gradient norm: 0.0282\n"
     ]
    },
    {
     "name": "stderr",
     "output_type": "stream",
     "text": [
      "Epoch 202/219:  51%|█████▏    | 1138/2215 [02:33<02:34,  6.99it/s, batch_loss=0.0001, avg_loss=0.0037]"
     ]
    },
    {
     "name": "stdout",
     "output_type": "stream",
     "text": [
      "\n",
      "Sequence lengths - Target: 129, ProteinA: 429\n",
      "Gradient norm: 0.0038\n"
     ]
    },
    {
     "name": "stderr",
     "output_type": "stream",
     "text": [
      "Epoch 202/219:  55%|█████▌    | 1226/2215 [02:45<02:01,  8.16it/s, batch_loss=0.0041, avg_loss=0.1777]"
     ]
    },
    {
     "name": "stdout",
     "output_type": "stream",
     "text": [
      "\n",
      "Sequence lengths - Target: 436, ProteinA: 386\n",
      "Gradient norm: 0.0352\n"
     ]
    },
    {
     "name": "stderr",
     "output_type": "stream",
     "text": [
      "Epoch 202/219:  56%|█████▋    | 1248/2215 [02:48<01:48,  8.92it/s, batch_loss=0.0720, avg_loss=0.0017]"
     ]
    },
    {
     "name": "stdout",
     "output_type": "stream",
     "text": [
      "\n",
      "Sequence lengths - Target: 53, ProteinA: 238\n",
      "Gradient norm: 0.7076\n"
     ]
    },
    {
     "name": "stderr",
     "output_type": "stream",
     "text": [
      "Epoch 202/219:  60%|██████    | 1331/2215 [03:01<01:43,  8.54it/s, batch_loss=0.0058, avg_loss=0.0018]"
     ]
    },
    {
     "name": "stdout",
     "output_type": "stream",
     "text": [
      "\n",
      "Sequence lengths - Target: 126, ProteinA: 455\n",
      "Gradient norm: 0.0944\n"
     ]
    },
    {
     "name": "stderr",
     "output_type": "stream",
     "text": [
      "Epoch 202/219:  68%|██████▊   | 1512/2215 [03:27<01:14,  9.44it/s, batch_loss=0.0289, avg_loss=0.0021]"
     ]
    },
    {
     "name": "stdout",
     "output_type": "stream",
     "text": [
      "\n",
      "Sequence lengths - Target: 56, ProteinA: 218\n",
      "Gradient norm: 0.1966\n"
     ]
    },
    {
     "name": "stderr",
     "output_type": "stream",
     "text": [
      "Epoch 202/219:  70%|██████▉   | 1545/2215 [03:31<01:26,  7.76it/s, batch_loss=0.0005, avg_loss=0.0099]"
     ]
    },
    {
     "name": "stdout",
     "output_type": "stream",
     "text": [
      "\n",
      "Sequence lengths - Target: 338, ProteinA: 317\n",
      "Gradient norm: 0.0197\n"
     ]
    },
    {
     "name": "stderr",
     "output_type": "stream",
     "text": [
      "Epoch 202/219:  71%|███████▏  | 1582/2215 [03:36<01:20,  7.87it/s, batch_loss=0.0024, avg_loss=0.0033]"
     ]
    },
    {
     "name": "stdout",
     "output_type": "stream",
     "text": [
      "\n",
      "Sequence lengths - Target: 489, ProteinA: 30\n",
      "Gradient norm: 0.0403\n"
     ]
    },
    {
     "name": "stderr",
     "output_type": "stream",
     "text": [
      "Epoch 202/219:  73%|███████▎  | 1612/2215 [03:40<01:16,  7.91it/s, batch_loss=0.0236, avg_loss=0.0098]"
     ]
    },
    {
     "name": "stdout",
     "output_type": "stream",
     "text": [
      "\n",
      "Sequence lengths - Target: 126, ProteinA: 460\n",
      "Gradient norm: 0.1115\n"
     ]
    },
    {
     "name": "stderr",
     "output_type": "stream",
     "text": [
      "Epoch 202/219:  73%|███████▎  | 1620/2215 [03:41<01:21,  7.32it/s, batch_loss=0.0007, avg_loss=0.0073]"
     ]
    },
    {
     "name": "stdout",
     "output_type": "stream",
     "text": [
      "\n",
      "Sequence lengths - Target: 356, ProteinA: 122\n",
      "Gradient norm: 0.0151\n"
     ]
    },
    {
     "name": "stderr",
     "output_type": "stream",
     "text": [
      "Epoch 202/219:  76%|███████▋  | 1689/2215 [03:50<01:06,  7.91it/s, batch_loss=0.0075, avg_loss=0.0025]"
     ]
    },
    {
     "name": "stdout",
     "output_type": "stream",
     "text": [
      "\n",
      "Sequence lengths - Target: 61, ProteinA: 533\n",
      "Gradient norm: 0.0928\n"
     ]
    },
    {
     "name": "stderr",
     "output_type": "stream",
     "text": [
      "Epoch 202/219:  78%|███████▊  | 1718/2215 [03:54<00:53,  9.22it/s, batch_loss=0.0000, avg_loss=0.0026]"
     ]
    },
    {
     "name": "stdout",
     "output_type": "stream",
     "text": [
      "\n",
      "Sequence lengths - Target: 67, ProteinA: 104\n",
      "Gradient norm: 0.0289\n"
     ]
    },
    {
     "name": "stderr",
     "output_type": "stream",
     "text": [
      "Epoch 202/219:  84%|████████▍ | 1870/2215 [04:16<00:54,  6.32it/s, batch_loss=0.0435, avg_loss=0.0032]"
     ]
    },
    {
     "name": "stdout",
     "output_type": "stream",
     "text": [
      "\n",
      "Sequence lengths - Target: 72, ProteinA: 118\n",
      "Gradient norm: 0.0118\n"
     ]
    },
    {
     "name": "stderr",
     "output_type": "stream",
     "text": [
      "Epoch 202/219:  93%|█████████▎| 2051/2215 [04:38<00:15, 10.67it/s, batch_loss=0.0000, avg_loss=0.0029]"
     ]
    },
    {
     "name": "stdout",
     "output_type": "stream",
     "text": [
      "\n",
      "Sequence lengths - Target: 53, ProteinA: 238\n",
      "Gradient norm: 0.0322\n"
     ]
    },
    {
     "name": "stderr",
     "output_type": "stream",
     "text": [
      "Epoch 202/219:  98%|█████████▊| 2161/2215 [04:51<00:05,  9.17it/s, batch_loss=0.0012, avg_loss=0.0034]"
     ]
    },
    {
     "name": "stdout",
     "output_type": "stream",
     "text": [
      "\n",
      "Sequence lengths - Target: 266, ProteinA: 165\n",
      "Gradient norm: 0.0300\n"
     ]
    },
    {
     "name": "stderr",
     "output_type": "stream",
     "text": [
      "                                                                                                      \r"
     ]
    },
    {
     "name": "stdout",
     "output_type": "stream",
     "text": [
      "\n",
      "Epoch [202/219] Summary:\n",
      "Average Loss: 0.0147\n",
      "Min Batch Loss: 0.0000\n",
      "Max Batch Loss: 0.5045\n",
      "GPU Memory allocated: 5.41 GB\n",
      "GPU Memory cached: 15.56 GB\n",
      "Checkpoint saved at epoch 202 to D:\\BALM Fineclone\\BALM-PPI\\scripts\\notebooks\\latest_checkpointcuratedmainATTPFT.pth\n"
     ]
    },
    {
     "name": "stderr",
     "output_type": "stream",
     "text": [
      "Epoch 203/219:   1%|          | 16/2215 [00:02<05:03,  7.25it/s, batch_loss=0.0023, avg_loss=0.0000]"
     ]
    },
    {
     "name": "stdout",
     "output_type": "stream",
     "text": [
      "\n",
      "Sequence lengths - Target: 1180, ProteinA: 940\n"
     ]
    },
    {
     "name": "stderr",
     "output_type": "stream",
     "text": [
      "Epoch 203/219:   1%|          | 17/2215 [00:03<09:36,  3.81it/s, batch_loss=0.0258, avg_loss=0.0001]"
     ]
    },
    {
     "name": "stdout",
     "output_type": "stream",
     "text": [
      "Gradient norm: 0.0331\n"
     ]
    },
    {
     "name": "stderr",
     "output_type": "stream",
     "text": [
      "Epoch 203/219:  24%|██▍       | 534/2215 [01:10<03:12,  8.75it/s, batch_loss=0.0213, avg_loss=0.0016]"
     ]
    },
    {
     "name": "stdout",
     "output_type": "stream",
     "text": [
      "\n",
      "Sequence lengths - Target: 129, ProteinA: 432\n",
      "Gradient norm: 0.0619\n"
     ]
    },
    {
     "name": "stderr",
     "output_type": "stream",
     "text": [
      "Epoch 203/219:  27%|██▋       | 593/2215 [01:18<03:56,  6.87it/s, batch_loss=0.0007, avg_loss=0.0013]"
     ]
    },
    {
     "name": "stdout",
     "output_type": "stream",
     "text": [
      "\n",
      "Sequence lengths - Target: 174, ProteinA: 597\n",
      "Gradient norm: 0.0260\n"
     ]
    },
    {
     "name": "stderr",
     "output_type": "stream",
     "text": [
      "Epoch 203/219:  35%|███▌      | 785/2215 [01:44<03:12,  7.42it/s, batch_loss=0.0011, avg_loss=0.0040]"
     ]
    },
    {
     "name": "stdout",
     "output_type": "stream",
     "text": [
      "\n",
      "Sequence lengths - Target: 475, ProteinA: 1288\n"
     ]
    },
    {
     "name": "stderr",
     "output_type": "stream",
     "text": [
      "Epoch 203/219:  35%|███▌      | 786/2215 [01:45<04:57,  4.81it/s, batch_loss=0.0086, avg_loss=0.0013]"
     ]
    },
    {
     "name": "stdout",
     "output_type": "stream",
     "text": [
      "Gradient norm: 0.0185\n"
     ]
    },
    {
     "name": "stderr",
     "output_type": "stream",
     "text": [
      "Epoch 203/219:  37%|███▋      | 827/2215 [01:50<03:31,  6.58it/s, batch_loss=0.0003, avg_loss=0.0011]"
     ]
    },
    {
     "name": "stdout",
     "output_type": "stream",
     "text": [
      "\n",
      "Sequence lengths - Target: 347, ProteinA: 432\n",
      "Gradient norm: 0.0114\n"
     ]
    },
    {
     "name": "stderr",
     "output_type": "stream",
     "text": [
      "Epoch 203/219:  38%|███▊      | 837/2215 [01:52<02:35,  8.85it/s, batch_loss=0.0026, avg_loss=0.1569]"
     ]
    },
    {
     "name": "stdout",
     "output_type": "stream",
     "text": [
      "\n",
      "Sequence lengths - Target: 167, ProteinA: 87\n",
      "Gradient norm: 0.0004\n"
     ]
    },
    {
     "name": "stderr",
     "output_type": "stream",
     "text": [
      "Epoch 203/219:  42%|████▏     | 938/2215 [02:06<02:55,  7.28it/s, batch_loss=0.0661, avg_loss=0.0450]"
     ]
    },
    {
     "name": "stdout",
     "output_type": "stream",
     "text": [
      "\n",
      "Sequence lengths - Target: 165, ProteinA: 262\n",
      "Gradient norm: 0.0884\n"
     ]
    },
    {
     "name": "stderr",
     "output_type": "stream",
     "text": [
      "Epoch 203/219:  44%|████▍     | 977/2215 [02:11<03:24,  6.05it/s, batch_loss=0.0008, avg_loss=0.0017]"
     ]
    },
    {
     "name": "stdout",
     "output_type": "stream",
     "text": [
      "\n",
      "Sequence lengths - Target: 223, ProteinA: 187\n",
      "Gradient norm: 0.0248\n"
     ]
    },
    {
     "name": "stderr",
     "output_type": "stream",
     "text": [
      "Epoch 203/219:  51%|█████▏    | 1138/2215 [02:33<02:34,  6.99it/s, batch_loss=0.0000, avg_loss=0.0037]"
     ]
    },
    {
     "name": "stdout",
     "output_type": "stream",
     "text": [
      "\n",
      "Sequence lengths - Target: 129, ProteinA: 429\n",
      "Gradient norm: 0.0014\n"
     ]
    },
    {
     "name": "stderr",
     "output_type": "stream",
     "text": [
      "Epoch 203/219:  55%|█████▌    | 1226/2215 [02:45<02:03,  8.02it/s, batch_loss=0.0004, avg_loss=0.1806]"
     ]
    },
    {
     "name": "stdout",
     "output_type": "stream",
     "text": [
      "\n",
      "Sequence lengths - Target: 436, ProteinA: 386\n",
      "Gradient norm: 0.0096\n"
     ]
    },
    {
     "name": "stderr",
     "output_type": "stream",
     "text": [
      "Epoch 203/219:  56%|█████▋    | 1248/2215 [02:47<01:48,  8.89it/s, batch_loss=0.0055, avg_loss=0.0018]"
     ]
    },
    {
     "name": "stdout",
     "output_type": "stream",
     "text": [
      "\n",
      "Sequence lengths - Target: 53, ProteinA: 238\n",
      "Gradient norm: 0.0724\n"
     ]
    },
    {
     "name": "stderr",
     "output_type": "stream",
     "text": [
      "Epoch 203/219:  60%|██████    | 1331/2215 [03:01<01:42,  8.64it/s, batch_loss=0.0000, avg_loss=0.0018]"
     ]
    },
    {
     "name": "stdout",
     "output_type": "stream",
     "text": [
      "\n",
      "Sequence lengths - Target: 126, ProteinA: 455\n",
      "Gradient norm: 0.0077\n"
     ]
    },
    {
     "name": "stderr",
     "output_type": "stream",
     "text": [
      "Epoch 203/219:  68%|██████▊   | 1512/2215 [03:26<01:14,  9.38it/s, batch_loss=0.0227, avg_loss=0.0021]"
     ]
    },
    {
     "name": "stdout",
     "output_type": "stream",
     "text": [
      "\n",
      "Sequence lengths - Target: 56, ProteinA: 218\n",
      "Gradient norm: 0.0937\n"
     ]
    },
    {
     "name": "stderr",
     "output_type": "stream",
     "text": [
      "Epoch 203/219:  70%|██████▉   | 1545/2215 [03:31<01:26,  7.79it/s, batch_loss=0.0145, avg_loss=0.0100]"
     ]
    },
    {
     "name": "stdout",
     "output_type": "stream",
     "text": [
      "\n",
      "Sequence lengths - Target: 338, ProteinA: 317\n",
      "Gradient norm: 0.1174\n"
     ]
    },
    {
     "name": "stderr",
     "output_type": "stream",
     "text": [
      "Epoch 203/219:  71%|███████▏  | 1582/2215 [03:36<01:20,  7.84it/s, batch_loss=0.0237, avg_loss=0.0034]"
     ]
    },
    {
     "name": "stdout",
     "output_type": "stream",
     "text": [
      "\n",
      "Sequence lengths - Target: 489, ProteinA: 30\n",
      "Gradient norm: 0.0774\n"
     ]
    },
    {
     "name": "stderr",
     "output_type": "stream",
     "text": [
      "Epoch 203/219:  73%|███████▎  | 1612/2215 [03:39<01:15,  8.00it/s, batch_loss=0.0439, avg_loss=0.0100]"
     ]
    },
    {
     "name": "stdout",
     "output_type": "stream",
     "text": [
      "\n",
      "Sequence lengths - Target: 126, ProteinA: 460\n",
      "Gradient norm: 0.1370\n"
     ]
    },
    {
     "name": "stderr",
     "output_type": "stream",
     "text": [
      "Epoch 203/219:  73%|███████▎  | 1620/2215 [03:40<01:21,  7.32it/s, batch_loss=0.0044, avg_loss=0.0074]"
     ]
    },
    {
     "name": "stdout",
     "output_type": "stream",
     "text": [
      "\n",
      "Sequence lengths - Target: 356, ProteinA: 122\n",
      "Gradient norm: 0.0418\n"
     ]
    },
    {
     "name": "stderr",
     "output_type": "stream",
     "text": [
      "Epoch 203/219:  76%|███████▋  | 1689/2215 [03:49<01:06,  7.88it/s, batch_loss=0.0025, avg_loss=0.0025]"
     ]
    },
    {
     "name": "stdout",
     "output_type": "stream",
     "text": [
      "\n",
      "Sequence lengths - Target: 61, ProteinA: 533\n",
      "Gradient norm: 0.0520\n"
     ]
    },
    {
     "name": "stderr",
     "output_type": "stream",
     "text": [
      "Epoch 203/219:  78%|███████▊  | 1718/2215 [03:54<00:54,  9.16it/s, batch_loss=0.0001, avg_loss=0.0026]"
     ]
    },
    {
     "name": "stdout",
     "output_type": "stream",
     "text": [
      "\n",
      "Sequence lengths - Target: 67, ProteinA: 104\n",
      "Gradient norm: 0.0656\n"
     ]
    },
    {
     "name": "stderr",
     "output_type": "stream",
     "text": [
      "Epoch 203/219:  84%|████████▍ | 1870/2215 [04:15<00:54,  6.33it/s, batch_loss=0.0156, avg_loss=0.0032]"
     ]
    },
    {
     "name": "stdout",
     "output_type": "stream",
     "text": [
      "\n",
      "Sequence lengths - Target: 72, ProteinA: 118\n",
      "Gradient norm: 0.0154\n"
     ]
    },
    {
     "name": "stderr",
     "output_type": "stream",
     "text": [
      "Epoch 203/219:  93%|█████████▎| 2051/2215 [04:37<00:15, 10.54it/s, batch_loss=0.0000, avg_loss=0.0029]"
     ]
    },
    {
     "name": "stdout",
     "output_type": "stream",
     "text": [
      "\n",
      "Sequence lengths - Target: 53, ProteinA: 238\n",
      "Gradient norm: 0.0250\n"
     ]
    },
    {
     "name": "stderr",
     "output_type": "stream",
     "text": [
      "Epoch 203/219:  98%|█████████▊| 2161/2215 [04:51<00:05,  9.18it/s, batch_loss=0.0048, avg_loss=0.0034]"
     ]
    },
    {
     "name": "stdout",
     "output_type": "stream",
     "text": [
      "\n",
      "Sequence lengths - Target: 266, ProteinA: 165\n",
      "Gradient norm: 0.0770\n"
     ]
    },
    {
     "name": "stderr",
     "output_type": "stream",
     "text": [
      "                                                                                                      \r"
     ]
    },
    {
     "name": "stdout",
     "output_type": "stream",
     "text": [
      "\n",
      "Epoch [203/219] Summary:\n",
      "Average Loss: 0.0147\n",
      "Min Batch Loss: 0.0000\n",
      "Max Batch Loss: 0.4530\n",
      "GPU Memory allocated: 5.41 GB\n",
      "GPU Memory cached: 15.56 GB\n",
      "Checkpoint saved at epoch 203 to D:\\BALM Fineclone\\BALM-PPI\\scripts\\notebooks\\latest_checkpointcuratedmainATTPFT.pth\n"
     ]
    },
    {
     "name": "stderr",
     "output_type": "stream",
     "text": [
      "Epoch 204/219:   1%|          | 16/2215 [00:02<05:03,  7.24it/s, batch_loss=0.0002, avg_loss=0.0000]"
     ]
    },
    {
     "name": "stdout",
     "output_type": "stream",
     "text": [
      "\n",
      "Sequence lengths - Target: 1180, ProteinA: 940\n"
     ]
    },
    {
     "name": "stderr",
     "output_type": "stream",
     "text": [
      "Epoch 204/219:   1%|          | 17/2215 [00:03<09:35,  3.82it/s, batch_loss=0.0132, avg_loss=0.0001]"
     ]
    },
    {
     "name": "stdout",
     "output_type": "stream",
     "text": [
      "Gradient norm: 0.0397\n"
     ]
    },
    {
     "name": "stderr",
     "output_type": "stream",
     "text": [
      "Epoch 204/219:  24%|██▍       | 534/2215 [01:09<03:14,  8.66it/s, batch_loss=0.0469, avg_loss=0.0016]"
     ]
    },
    {
     "name": "stdout",
     "output_type": "stream",
     "text": [
      "\n",
      "Sequence lengths - Target: 129, ProteinA: 432\n",
      "Gradient norm: 0.0940\n"
     ]
    },
    {
     "name": "stderr",
     "output_type": "stream",
     "text": [
      "Epoch 204/219:  27%|██▋       | 593/2215 [01:18<04:03,  6.67it/s, batch_loss=0.0036, avg_loss=0.0013]"
     ]
    },
    {
     "name": "stdout",
     "output_type": "stream",
     "text": [
      "\n",
      "Sequence lengths - Target: 174, ProteinA: 597\n",
      "Gradient norm: 0.0798\n"
     ]
    },
    {
     "name": "stderr",
     "output_type": "stream",
     "text": [
      "Epoch 204/219:  35%|███▌      | 785/2215 [01:44<03:12,  7.41it/s, batch_loss=0.0004, avg_loss=0.0040]"
     ]
    },
    {
     "name": "stdout",
     "output_type": "stream",
     "text": [
      "\n",
      "Sequence lengths - Target: 475, ProteinA: 1288\n"
     ]
    },
    {
     "name": "stderr",
     "output_type": "stream",
     "text": [
      "Epoch 204/219:  35%|███▌      | 786/2215 [01:45<04:57,  4.80it/s, batch_loss=0.0000, avg_loss=0.0013]"
     ]
    },
    {
     "name": "stdout",
     "output_type": "stream",
     "text": [
      "Gradient norm: 0.0244\n"
     ]
    },
    {
     "name": "stderr",
     "output_type": "stream",
     "text": [
      "Epoch 204/219:  37%|███▋      | 826/2215 [01:50<03:19,  6.96it/s, batch_loss=0.0000, avg_loss=0.0011]"
     ]
    },
    {
     "name": "stdout",
     "output_type": "stream",
     "text": [
      "\n",
      "Sequence lengths - Target: 347, ProteinA: 432\n",
      "Gradient norm: 0.0033\n"
     ]
    },
    {
     "name": "stderr",
     "output_type": "stream",
     "text": [
      "Epoch 204/219:  38%|███▊      | 837/2215 [01:52<02:38,  8.70it/s, batch_loss=0.0005, avg_loss=0.1562]"
     ]
    },
    {
     "name": "stdout",
     "output_type": "stream",
     "text": [
      "\n",
      "Sequence lengths - Target: 167, ProteinA: 87\n",
      "Gradient norm: 0.0229\n"
     ]
    },
    {
     "name": "stderr",
     "output_type": "stream",
     "text": [
      "Epoch 204/219:  42%|████▏     | 938/2215 [02:06<02:55,  7.28it/s, batch_loss=0.0904, avg_loss=0.0025]"
     ]
    },
    {
     "name": "stdout",
     "output_type": "stream",
     "text": [
      "\n",
      "Sequence lengths - Target: 165, ProteinA: 262\n",
      "Gradient norm: 0.0680\n"
     ]
    },
    {
     "name": "stderr",
     "output_type": "stream",
     "text": [
      "Epoch 204/219:  44%|████▍     | 977/2215 [02:11<03:24,  6.04it/s, batch_loss=0.0007, avg_loss=0.0018]"
     ]
    },
    {
     "name": "stdout",
     "output_type": "stream",
     "text": [
      "\n",
      "Sequence lengths - Target: 223, ProteinA: 187\n",
      "Gradient norm: 0.0293\n"
     ]
    },
    {
     "name": "stderr",
     "output_type": "stream",
     "text": [
      "Epoch 204/219:  51%|█████▏    | 1138/2215 [02:33<02:34,  6.97it/s, batch_loss=0.0001, avg_loss=0.0038]"
     ]
    },
    {
     "name": "stdout",
     "output_type": "stream",
     "text": [
      "\n",
      "Sequence lengths - Target: 129, ProteinA: 429\n",
      "Gradient norm: 0.0031\n"
     ]
    },
    {
     "name": "stderr",
     "output_type": "stream",
     "text": [
      "Epoch 204/219:  55%|█████▌    | 1226/2215 [02:45<01:59,  8.25it/s, batch_loss=0.0129, avg_loss=0.0037]"
     ]
    },
    {
     "name": "stdout",
     "output_type": "stream",
     "text": [
      "\n",
      "Sequence lengths - Target: 436, ProteinA: 386\n"
     ]
    },
    {
     "name": "stderr",
     "output_type": "stream",
     "text": [
      "Epoch 204/219:  55%|█████▌    | 1229/2215 [02:45<02:01,  8.09it/s, batch_loss=0.0643, avg_loss=0.0023]"
     ]
    },
    {
     "name": "stdout",
     "output_type": "stream",
     "text": [
      "Gradient norm: 0.0039\n"
     ]
    },
    {
     "name": "stderr",
     "output_type": "stream",
     "text": [
      "Epoch 204/219:  56%|█████▋    | 1248/2215 [02:47<01:48,  8.94it/s, batch_loss=0.0079, avg_loss=0.0018]"
     ]
    },
    {
     "name": "stdout",
     "output_type": "stream",
     "text": [
      "\n",
      "Sequence lengths - Target: 53, ProteinA: 238\n",
      "Gradient norm: 0.2295\n"
     ]
    },
    {
     "name": "stderr",
     "output_type": "stream",
     "text": [
      "Epoch 204/219:  60%|██████    | 1331/2215 [03:01<01:42,  8.65it/s, batch_loss=0.0002, avg_loss=0.0019]"
     ]
    },
    {
     "name": "stdout",
     "output_type": "stream",
     "text": [
      "\n",
      "Sequence lengths - Target: 126, ProteinA: 455\n",
      "Gradient norm: 0.0161\n"
     ]
    },
    {
     "name": "stderr",
     "output_type": "stream",
     "text": [
      "Epoch 204/219:  68%|██████▊   | 1512/2215 [03:26<01:16,  9.22it/s, batch_loss=0.0298, avg_loss=0.0021]"
     ]
    },
    {
     "name": "stdout",
     "output_type": "stream",
     "text": [
      "\n",
      "Sequence lengths - Target: 56, ProteinA: 218\n",
      "Gradient norm: 0.0037\n"
     ]
    },
    {
     "name": "stderr",
     "output_type": "stream",
     "text": [
      "Epoch 204/219:  70%|██████▉   | 1545/2215 [03:31<01:26,  7.76it/s, batch_loss=0.0003, avg_loss=0.0100]"
     ]
    },
    {
     "name": "stdout",
     "output_type": "stream",
     "text": [
      "\n",
      "Sequence lengths - Target: 338, ProteinA: 317\n",
      "Gradient norm: 0.0137\n"
     ]
    },
    {
     "name": "stderr",
     "output_type": "stream",
     "text": [
      "Epoch 204/219:  71%|███████▏  | 1582/2215 [03:36<01:21,  7.76it/s, batch_loss=0.0015, avg_loss=0.0034]"
     ]
    },
    {
     "name": "stdout",
     "output_type": "stream",
     "text": [
      "\n",
      "Sequence lengths - Target: 489, ProteinA: 30\n",
      "Gradient norm: 0.0341\n"
     ]
    },
    {
     "name": "stderr",
     "output_type": "stream",
     "text": [
      "Epoch 204/219:  73%|███████▎  | 1612/2215 [03:39<01:15,  8.02it/s, batch_loss=0.0315, avg_loss=0.0099]"
     ]
    },
    {
     "name": "stdout",
     "output_type": "stream",
     "text": [
      "\n",
      "Sequence lengths - Target: 126, ProteinA: 460\n",
      "Gradient norm: 0.1454\n"
     ]
    },
    {
     "name": "stderr",
     "output_type": "stream",
     "text": [
      "Epoch 204/219:  73%|███████▎  | 1620/2215 [03:41<01:20,  7.35it/s, batch_loss=0.0001, avg_loss=0.0074]"
     ]
    },
    {
     "name": "stdout",
     "output_type": "stream",
     "text": [
      "\n",
      "Sequence lengths - Target: 356, ProteinA: 122\n",
      "Gradient norm: 0.0067\n"
     ]
    },
    {
     "name": "stderr",
     "output_type": "stream",
     "text": [
      "Epoch 204/219:  76%|███████▋  | 1689/2215 [03:50<01:06,  7.92it/s, batch_loss=0.0001, avg_loss=0.0025]"
     ]
    },
    {
     "name": "stdout",
     "output_type": "stream",
     "text": [
      "\n",
      "Sequence lengths - Target: 61, ProteinA: 533\n",
      "Gradient norm: 0.0204\n"
     ]
    },
    {
     "name": "stderr",
     "output_type": "stream",
     "text": [
      "Epoch 204/219:  78%|███████▊  | 1718/2215 [03:54<00:53,  9.22it/s, batch_loss=0.0144, avg_loss=0.0026]"
     ]
    },
    {
     "name": "stdout",
     "output_type": "stream",
     "text": [
      "\n",
      "Sequence lengths - Target: 67, ProteinA: 104\n",
      "Gradient norm: 0.0642\n"
     ]
    },
    {
     "name": "stderr",
     "output_type": "stream",
     "text": [
      "Epoch 204/219:  84%|████████▍ | 1870/2215 [04:15<00:54,  6.31it/s, batch_loss=0.0184, avg_loss=0.0033]"
     ]
    },
    {
     "name": "stdout",
     "output_type": "stream",
     "text": [
      "\n",
      "Sequence lengths - Target: 72, ProteinA: 118\n",
      "Gradient norm: 0.0008\n"
     ]
    },
    {
     "name": "stderr",
     "output_type": "stream",
     "text": [
      "Epoch 204/219:  93%|█████████▎| 2051/2215 [04:38<00:15, 10.54it/s, batch_loss=0.0002, avg_loss=0.0029]"
     ]
    },
    {
     "name": "stdout",
     "output_type": "stream",
     "text": [
      "\n",
      "Sequence lengths - Target: 53, ProteinA: 238\n",
      "Gradient norm: 0.0153\n"
     ]
    },
    {
     "name": "stderr",
     "output_type": "stream",
     "text": [
      "Epoch 204/219:  98%|█████████▊| 2161/2215 [04:51<00:05,  9.17it/s, batch_loss=0.0082, avg_loss=0.0034]"
     ]
    },
    {
     "name": "stdout",
     "output_type": "stream",
     "text": [
      "\n",
      "Sequence lengths - Target: 266, ProteinA: 165\n",
      "Gradient norm: 0.0726\n"
     ]
    },
    {
     "name": "stderr",
     "output_type": "stream",
     "text": [
      "                                                                                                      \r"
     ]
    },
    {
     "name": "stdout",
     "output_type": "stream",
     "text": [
      "\n",
      "Epoch [204/219] Summary:\n",
      "Average Loss: 0.0147\n",
      "Min Batch Loss: 0.0000\n",
      "Max Batch Loss: 0.8910\n",
      "GPU Memory allocated: 5.41 GB\n",
      "GPU Memory cached: 15.56 GB\n",
      "Checkpoint saved at epoch 204 to D:\\BALM Fineclone\\BALM-PPI\\scripts\\notebooks\\latest_checkpointcuratedmainATTPFT.pth\n"
     ]
    },
    {
     "name": "stderr",
     "output_type": "stream",
     "text": [
      "Epoch 205/219:   1%|          | 16/2215 [00:02<05:03,  7.24it/s, batch_loss=0.0001, avg_loss=0.0000]"
     ]
    },
    {
     "name": "stdout",
     "output_type": "stream",
     "text": [
      "\n",
      "Sequence lengths - Target: 1180, ProteinA: 940\n"
     ]
    },
    {
     "name": "stderr",
     "output_type": "stream",
     "text": [
      "Epoch 205/219:   1%|          | 17/2215 [00:03<09:37,  3.81it/s, batch_loss=0.0056, avg_loss=0.0001]"
     ]
    },
    {
     "name": "stdout",
     "output_type": "stream",
     "text": [
      "Gradient norm: 0.0275\n"
     ]
    },
    {
     "name": "stderr",
     "output_type": "stream",
     "text": [
      "Epoch 205/219:  24%|██▍       | 534/2215 [01:10<03:13,  8.68it/s, batch_loss=0.0261, avg_loss=0.0017]"
     ]
    },
    {
     "name": "stdout",
     "output_type": "stream",
     "text": [
      "\n",
      "Sequence lengths - Target: 129, ProteinA: 432\n",
      "Gradient norm: 0.0676\n"
     ]
    },
    {
     "name": "stderr",
     "output_type": "stream",
     "text": [
      "Epoch 205/219:  27%|██▋       | 593/2215 [01:19<03:57,  6.83it/s, batch_loss=0.0054, avg_loss=0.0014]"
     ]
    },
    {
     "name": "stdout",
     "output_type": "stream",
     "text": [
      "\n",
      "Sequence lengths - Target: 174, ProteinA: 597\n",
      "Gradient norm: 0.0632\n"
     ]
    },
    {
     "name": "stderr",
     "output_type": "stream",
     "text": [
      "Epoch 205/219:  35%|███▌      | 785/2215 [01:45<03:13,  7.41it/s, batch_loss=0.0001, avg_loss=0.0039]"
     ]
    },
    {
     "name": "stdout",
     "output_type": "stream",
     "text": [
      "\n",
      "Sequence lengths - Target: 475, ProteinA: 1288\n"
     ]
    },
    {
     "name": "stderr",
     "output_type": "stream",
     "text": [
      "Epoch 205/219:  35%|███▌      | 786/2215 [01:45<04:58,  4.79it/s, batch_loss=0.0002, avg_loss=0.0013]"
     ]
    },
    {
     "name": "stdout",
     "output_type": "stream",
     "text": [
      "Gradient norm: 0.0195\n"
     ]
    },
    {
     "name": "stderr",
     "output_type": "stream",
     "text": [
      "Epoch 205/219:  37%|███▋      | 826/2215 [01:51<03:19,  6.95it/s, batch_loss=0.0000, avg_loss=0.0011]"
     ]
    },
    {
     "name": "stdout",
     "output_type": "stream",
     "text": [
      "\n",
      "Sequence lengths - Target: 347, ProteinA: 432\n",
      "Gradient norm: 0.0033\n"
     ]
    },
    {
     "name": "stderr",
     "output_type": "stream",
     "text": [
      "Epoch 205/219:  38%|███▊      | 837/2215 [01:52<02:36,  8.80it/s, batch_loss=0.0001, avg_loss=0.1559]"
     ]
    },
    {
     "name": "stdout",
     "output_type": "stream",
     "text": [
      "\n",
      "Sequence lengths - Target: 167, ProteinA: 87\n",
      "Gradient norm: 0.0074\n"
     ]
    },
    {
     "name": "stderr",
     "output_type": "stream",
     "text": [
      "Epoch 205/219:  42%|████▏     | 938/2215 [02:07<02:58,  7.17it/s, batch_loss=0.1007, avg_loss=0.0025]"
     ]
    },
    {
     "name": "stdout",
     "output_type": "stream",
     "text": [
      "\n",
      "Sequence lengths - Target: 165, ProteinA: 262\n",
      "Gradient norm: 0.0823\n"
     ]
    },
    {
     "name": "stderr",
     "output_type": "stream",
     "text": [
      "Epoch 205/219:  44%|████▍     | 977/2215 [02:12<03:25,  6.02it/s, batch_loss=0.0019, avg_loss=0.0018]"
     ]
    },
    {
     "name": "stdout",
     "output_type": "stream",
     "text": [
      "\n",
      "Sequence lengths - Target: 223, ProteinA: 187\n",
      "Gradient norm: 0.0441\n"
     ]
    },
    {
     "name": "stderr",
     "output_type": "stream",
     "text": [
      "Epoch 205/219:  51%|█████▏    | 1138/2215 [02:33<02:35,  6.93it/s, batch_loss=0.0000, avg_loss=0.0037]"
     ]
    },
    {
     "name": "stdout",
     "output_type": "stream",
     "text": [
      "\n",
      "Sequence lengths - Target: 129, ProteinA: 429\n",
      "Gradient norm: 0.0025\n"
     ]
    },
    {
     "name": "stderr",
     "output_type": "stream",
     "text": [
      "Epoch 205/219:  55%|█████▌    | 1226/2215 [02:46<02:02,  8.10it/s, batch_loss=0.0018, avg_loss=0.1816]"
     ]
    },
    {
     "name": "stdout",
     "output_type": "stream",
     "text": [
      "\n",
      "Sequence lengths - Target: 436, ProteinA: 386\n",
      "Gradient norm: 0.0222\n"
     ]
    },
    {
     "name": "stderr",
     "output_type": "stream",
     "text": [
      "Epoch 205/219:  56%|█████▋    | 1248/2215 [02:48<01:48,  8.88it/s, batch_loss=0.0010, avg_loss=0.0018]"
     ]
    },
    {
     "name": "stdout",
     "output_type": "stream",
     "text": [
      "\n",
      "Sequence lengths - Target: 53, ProteinA: 238\n",
      "Gradient norm: 0.0533\n"
     ]
    },
    {
     "name": "stderr",
     "output_type": "stream",
     "text": [
      "Epoch 205/219:  60%|██████    | 1331/2215 [03:02<01:40,  8.80it/s, batch_loss=0.0070, avg_loss=0.0019]"
     ]
    },
    {
     "name": "stdout",
     "output_type": "stream",
     "text": [
      "\n",
      "Sequence lengths - Target: 126, ProteinA: 455\n",
      "Gradient norm: 0.1247\n"
     ]
    },
    {
     "name": "stderr",
     "output_type": "stream",
     "text": [
      "Epoch 205/219:  68%|██████▊   | 1512/2215 [03:27<01:14,  9.42it/s, batch_loss=0.0278, avg_loss=0.0021]"
     ]
    },
    {
     "name": "stdout",
     "output_type": "stream",
     "text": [
      "\n",
      "Sequence lengths - Target: 56, ProteinA: 218\n",
      "Gradient norm: 0.4076\n"
     ]
    },
    {
     "name": "stderr",
     "output_type": "stream",
     "text": [
      "Epoch 205/219:  70%|██████▉   | 1545/2215 [03:32<01:26,  7.74it/s, batch_loss=0.0011, avg_loss=0.0100]"
     ]
    },
    {
     "name": "stdout",
     "output_type": "stream",
     "text": [
      "\n",
      "Sequence lengths - Target: 338, ProteinA: 317\n",
      "Gradient norm: 0.0338\n"
     ]
    },
    {
     "name": "stderr",
     "output_type": "stream",
     "text": [
      "Epoch 205/219:  71%|███████▏  | 1582/2215 [03:37<01:21,  7.78it/s, batch_loss=0.0437, avg_loss=0.0034]"
     ]
    },
    {
     "name": "stdout",
     "output_type": "stream",
     "text": [
      "\n",
      "Sequence lengths - Target: 489, ProteinA: 30\n",
      "Gradient norm: 0.0008\n"
     ]
    },
    {
     "name": "stderr",
     "output_type": "stream",
     "text": [
      "Epoch 205/219:  73%|███████▎  | 1612/2215 [03:40<01:16,  7.93it/s, batch_loss=0.0657, avg_loss=0.0099]"
     ]
    },
    {
     "name": "stdout",
     "output_type": "stream",
     "text": [
      "\n",
      "Sequence lengths - Target: 126, ProteinA: 460\n",
      "Gradient norm: 0.1786\n"
     ]
    },
    {
     "name": "stderr",
     "output_type": "stream",
     "text": [
      "Epoch 205/219:  73%|███████▎  | 1620/2215 [03:41<01:21,  7.29it/s, batch_loss=0.0013, avg_loss=0.0074]"
     ]
    },
    {
     "name": "stdout",
     "output_type": "stream",
     "text": [
      "\n",
      "Sequence lengths - Target: 356, ProteinA: 122\n",
      "Gradient norm: 0.0268\n"
     ]
    },
    {
     "name": "stderr",
     "output_type": "stream",
     "text": [
      "Epoch 205/219:  76%|███████▋  | 1689/2215 [03:51<01:07,  7.76it/s, batch_loss=0.0048, avg_loss=0.0025]"
     ]
    },
    {
     "name": "stdout",
     "output_type": "stream",
     "text": [
      "\n",
      "Sequence lengths - Target: 61, ProteinA: 533\n",
      "Gradient norm: 0.0473\n"
     ]
    },
    {
     "name": "stderr",
     "output_type": "stream",
     "text": [
      "Epoch 205/219:  78%|███████▊  | 1718/2215 [03:55<00:55,  9.03it/s, batch_loss=0.0156, avg_loss=0.0025]"
     ]
    },
    {
     "name": "stdout",
     "output_type": "stream",
     "text": [
      "\n",
      "Sequence lengths - Target: 67, ProteinA: 104\n",
      "Gradient norm: 0.0507\n"
     ]
    },
    {
     "name": "stderr",
     "output_type": "stream",
     "text": [
      "Epoch 205/219:  84%|████████▍ | 1870/2215 [04:16<00:54,  6.31it/s, batch_loss=0.0009, avg_loss=0.0032]"
     ]
    },
    {
     "name": "stdout",
     "output_type": "stream",
     "text": [
      "\n",
      "Sequence lengths - Target: 72, ProteinA: 118\n",
      "Gradient norm: 0.0140\n"
     ]
    },
    {
     "name": "stderr",
     "output_type": "stream",
     "text": [
      "Epoch 205/219:  93%|█████████▎| 2051/2215 [04:39<00:15, 10.51it/s, batch_loss=0.0019, avg_loss=0.0029]"
     ]
    },
    {
     "name": "stdout",
     "output_type": "stream",
     "text": [
      "\n",
      "Sequence lengths - Target: 53, ProteinA: 238\n",
      "Gradient norm: 0.0304\n"
     ]
    },
    {
     "name": "stderr",
     "output_type": "stream",
     "text": [
      "Epoch 205/219:  98%|█████████▊| 2161/2215 [04:52<00:05,  9.11it/s, batch_loss=0.0343, avg_loss=0.0034]"
     ]
    },
    {
     "name": "stdout",
     "output_type": "stream",
     "text": [
      "\n",
      "Sequence lengths - Target: 266, ProteinA: 165\n",
      "Gradient norm: 0.2373\n"
     ]
    },
    {
     "name": "stderr",
     "output_type": "stream",
     "text": [
      "                                                                                                      \r"
     ]
    },
    {
     "name": "stdout",
     "output_type": "stream",
     "text": [
      "\n",
      "Epoch [205/219] Summary:\n",
      "Average Loss: 0.0146\n",
      "Min Batch Loss: 0.0000\n",
      "Max Batch Loss: 0.6340\n",
      "GPU Memory allocated: 5.41 GB\n",
      "GPU Memory cached: 15.56 GB\n",
      "Checkpoint saved at epoch 205 to D:\\BALM Fineclone\\BALM-PPI\\scripts\\notebooks\\latest_checkpointcuratedmainATTPFT.pth\n"
     ]
    },
    {
     "name": "stderr",
     "output_type": "stream",
     "text": [
      "Epoch 206/219:   1%|          | 16/2215 [00:02<05:05,  7.20it/s, batch_loss=0.0070, avg_loss=0.0000]"
     ]
    },
    {
     "name": "stdout",
     "output_type": "stream",
     "text": [
      "\n",
      "Sequence lengths - Target: 1180, ProteinA: 940\n"
     ]
    },
    {
     "name": "stderr",
     "output_type": "stream",
     "text": [
      "Epoch 206/219:   1%|          | 17/2215 [00:03<09:37,  3.80it/s, batch_loss=0.0026, avg_loss=0.0000]"
     ]
    },
    {
     "name": "stdout",
     "output_type": "stream",
     "text": [
      "Gradient norm: 0.0436\n"
     ]
    },
    {
     "name": "stderr",
     "output_type": "stream",
     "text": [
      "Epoch 206/219:  24%|██▍       | 534/2215 [01:10<03:13,  8.70it/s, batch_loss=0.0325, avg_loss=0.0015]"
     ]
    },
    {
     "name": "stdout",
     "output_type": "stream",
     "text": [
      "\n",
      "Sequence lengths - Target: 129, ProteinA: 432\n",
      "Gradient norm: 0.0766\n"
     ]
    },
    {
     "name": "stderr",
     "output_type": "stream",
     "text": [
      "Epoch 206/219:  27%|██▋       | 593/2215 [01:19<03:57,  6.82it/s, batch_loss=0.0015, avg_loss=0.0013]"
     ]
    },
    {
     "name": "stdout",
     "output_type": "stream",
     "text": [
      "\n",
      "Sequence lengths - Target: 174, ProteinA: 597\n",
      "Gradient norm: 0.1251\n"
     ]
    },
    {
     "name": "stderr",
     "output_type": "stream",
     "text": [
      "Epoch 206/219:  35%|███▌      | 785/2215 [01:45<03:11,  7.45it/s, batch_loss=0.0015, avg_loss=0.0039]"
     ]
    },
    {
     "name": "stdout",
     "output_type": "stream",
     "text": [
      "\n",
      "Sequence lengths - Target: 475, ProteinA: 1288\n"
     ]
    },
    {
     "name": "stderr",
     "output_type": "stream",
     "text": [
      "Epoch 206/219:  35%|███▌      | 786/2215 [01:45<04:57,  4.80it/s, batch_loss=0.0000, avg_loss=0.0013]"
     ]
    },
    {
     "name": "stdout",
     "output_type": "stream",
     "text": [
      "Gradient norm: 0.0144\n"
     ]
    },
    {
     "name": "stderr",
     "output_type": "stream",
     "text": [
      "Epoch 206/219:  37%|███▋      | 826/2215 [01:51<03:19,  6.95it/s, batch_loss=0.0003, avg_loss=0.0010]"
     ]
    },
    {
     "name": "stdout",
     "output_type": "stream",
     "text": [
      "\n",
      "Sequence lengths - Target: 347, ProteinA: 432\n",
      "Gradient norm: 0.0093\n"
     ]
    },
    {
     "name": "stderr",
     "output_type": "stream",
     "text": [
      "Epoch 206/219:  38%|███▊      | 837/2215 [01:52<02:36,  8.79it/s, batch_loss=0.0153, avg_loss=0.1534]"
     ]
    },
    {
     "name": "stdout",
     "output_type": "stream",
     "text": [
      "\n",
      "Sequence lengths - Target: 167, ProteinA: 87\n",
      "Gradient norm: 0.0275\n"
     ]
    },
    {
     "name": "stderr",
     "output_type": "stream",
     "text": [
      "Epoch 206/219:  42%|████▏     | 938/2215 [02:07<02:55,  7.26it/s, batch_loss=0.0591, avg_loss=0.0024]"
     ]
    },
    {
     "name": "stdout",
     "output_type": "stream",
     "text": [
      "\n",
      "Sequence lengths - Target: 165, ProteinA: 262\n",
      "Gradient norm: 0.0919\n"
     ]
    },
    {
     "name": "stderr",
     "output_type": "stream",
     "text": [
      "Epoch 206/219:  44%|████▍     | 977/2215 [02:12<03:26,  6.01it/s, batch_loss=0.0009, avg_loss=0.0017]"
     ]
    },
    {
     "name": "stdout",
     "output_type": "stream",
     "text": [
      "\n",
      "Sequence lengths - Target: 223, ProteinA: 187\n",
      "Gradient norm: 0.0298\n"
     ]
    },
    {
     "name": "stderr",
     "output_type": "stream",
     "text": [
      "Epoch 206/219:  51%|█████▏    | 1138/2215 [02:33<02:34,  6.97it/s, batch_loss=0.0008, avg_loss=0.0038]"
     ]
    },
    {
     "name": "stdout",
     "output_type": "stream",
     "text": [
      "\n",
      "Sequence lengths - Target: 129, ProteinA: 429\n",
      "Gradient norm: 0.0109\n"
     ]
    },
    {
     "name": "stderr",
     "output_type": "stream",
     "text": [
      "Epoch 206/219:  55%|█████▌    | 1226/2215 [02:45<02:01,  8.12it/s, batch_loss=0.0001, avg_loss=0.1827]"
     ]
    },
    {
     "name": "stdout",
     "output_type": "stream",
     "text": [
      "\n",
      "Sequence lengths - Target: 436, ProteinA: 386\n",
      "Gradient norm: 0.0030\n"
     ]
    },
    {
     "name": "stderr",
     "output_type": "stream",
     "text": [
      "Epoch 206/219:  56%|█████▋    | 1248/2215 [02:48<01:48,  8.89it/s, batch_loss=0.0022, avg_loss=0.0018]"
     ]
    },
    {
     "name": "stdout",
     "output_type": "stream",
     "text": [
      "\n",
      "Sequence lengths - Target: 53, ProteinA: 238\n",
      "Gradient norm: 0.1350\n"
     ]
    },
    {
     "name": "stderr",
     "output_type": "stream",
     "text": [
      "Epoch 206/219:  60%|██████    | 1331/2215 [03:02<01:40,  8.76it/s, batch_loss=0.0002, avg_loss=0.0019]"
     ]
    },
    {
     "name": "stdout",
     "output_type": "stream",
     "text": [
      "\n",
      "Sequence lengths - Target: 126, ProteinA: 455\n",
      "Gradient norm: 0.0214\n"
     ]
    },
    {
     "name": "stderr",
     "output_type": "stream",
     "text": [
      "Epoch 206/219:  68%|██████▊   | 1512/2215 [03:27<01:17,  9.12it/s, batch_loss=0.0288, avg_loss=0.0021]"
     ]
    },
    {
     "name": "stdout",
     "output_type": "stream",
     "text": [
      "\n",
      "Sequence lengths - Target: 56, ProteinA: 218\n",
      "Gradient norm: 0.1074\n"
     ]
    },
    {
     "name": "stderr",
     "output_type": "stream",
     "text": [
      "Epoch 206/219:  70%|██████▉   | 1545/2215 [03:32<01:26,  7.74it/s, batch_loss=0.0003, avg_loss=0.0100]"
     ]
    },
    {
     "name": "stdout",
     "output_type": "stream",
     "text": [
      "\n",
      "Sequence lengths - Target: 338, ProteinA: 317\n",
      "Gradient norm: 0.0153\n"
     ]
    },
    {
     "name": "stderr",
     "output_type": "stream",
     "text": [
      "Epoch 206/219:  71%|███████▏  | 1582/2215 [03:37<01:21,  7.80it/s, batch_loss=0.0090, avg_loss=0.0034]"
     ]
    },
    {
     "name": "stdout",
     "output_type": "stream",
     "text": [
      "\n",
      "Sequence lengths - Target: 489, ProteinA: 30\n",
      "Gradient norm: 0.0956\n"
     ]
    },
    {
     "name": "stderr",
     "output_type": "stream",
     "text": [
      "Epoch 206/219:  73%|███████▎  | 1612/2215 [03:40<01:15,  7.94it/s, batch_loss=0.0740, avg_loss=0.0099]"
     ]
    },
    {
     "name": "stdout",
     "output_type": "stream",
     "text": [
      "\n",
      "Sequence lengths - Target: 126, ProteinA: 460\n",
      "Gradient norm: 0.2055\n"
     ]
    },
    {
     "name": "stderr",
     "output_type": "stream",
     "text": [
      "Epoch 206/219:  73%|███████▎  | 1620/2215 [03:41<01:21,  7.32it/s, batch_loss=0.0001, avg_loss=0.0074]"
     ]
    },
    {
     "name": "stdout",
     "output_type": "stream",
     "text": [
      "\n",
      "Sequence lengths - Target: 356, ProteinA: 122\n",
      "Gradient norm: 0.0073\n"
     ]
    },
    {
     "name": "stderr",
     "output_type": "stream",
     "text": [
      "Epoch 206/219:  76%|███████▋  | 1689/2215 [03:50<01:06,  7.88it/s, batch_loss=0.0039, avg_loss=0.0025]"
     ]
    },
    {
     "name": "stdout",
     "output_type": "stream",
     "text": [
      "\n",
      "Sequence lengths - Target: 61, ProteinA: 533\n",
      "Gradient norm: 0.0437\n"
     ]
    },
    {
     "name": "stderr",
     "output_type": "stream",
     "text": [
      "Epoch 206/219:  78%|███████▊  | 1718/2215 [03:55<00:54,  9.20it/s, batch_loss=0.0026, avg_loss=0.0026]"
     ]
    },
    {
     "name": "stdout",
     "output_type": "stream",
     "text": [
      "\n",
      "Sequence lengths - Target: 67, ProteinA: 104\n",
      "Gradient norm: 0.0969\n"
     ]
    },
    {
     "name": "stderr",
     "output_type": "stream",
     "text": [
      "Epoch 206/219:  84%|████████▍ | 1870/2215 [04:16<00:54,  6.31it/s, batch_loss=0.0058, avg_loss=0.0032]"
     ]
    },
    {
     "name": "stdout",
     "output_type": "stream",
     "text": [
      "\n",
      "Sequence lengths - Target: 72, ProteinA: 118\n",
      "Gradient norm: 0.0361\n"
     ]
    },
    {
     "name": "stderr",
     "output_type": "stream",
     "text": [
      "Epoch 206/219:  93%|█████████▎| 2051/2215 [04:39<00:16, 10.25it/s, batch_loss=0.0008, avg_loss=0.0029]"
     ]
    },
    {
     "name": "stdout",
     "output_type": "stream",
     "text": [
      "\n",
      "Sequence lengths - Target: 53, ProteinA: 238\n",
      "Gradient norm: 0.0271\n"
     ]
    },
    {
     "name": "stderr",
     "output_type": "stream",
     "text": [
      "Epoch 206/219:  98%|█████████▊| 2161/2215 [04:52<00:05,  9.06it/s, batch_loss=0.0063, avg_loss=0.0035]"
     ]
    },
    {
     "name": "stdout",
     "output_type": "stream",
     "text": [
      "\n",
      "Sequence lengths - Target: 266, ProteinA: 165\n",
      "Gradient norm: 0.0946\n"
     ]
    },
    {
     "name": "stderr",
     "output_type": "stream",
     "text": [
      "                                                                                                      \r"
     ]
    },
    {
     "name": "stdout",
     "output_type": "stream",
     "text": [
      "\n",
      "Epoch [206/219] Summary:\n",
      "Average Loss: 0.0145\n",
      "Min Batch Loss: 0.0000\n",
      "Max Batch Loss: 0.5046\n",
      "GPU Memory allocated: 5.41 GB\n",
      "GPU Memory cached: 15.56 GB\n",
      "Checkpoint saved at epoch 206 to D:\\BALM Fineclone\\BALM-PPI\\scripts\\notebooks\\latest_checkpointcuratedmainATTPFT.pth\n"
     ]
    },
    {
     "name": "stderr",
     "output_type": "stream",
     "text": [
      "Epoch 207/219:   1%|          | 16/2215 [00:02<05:02,  7.27it/s, batch_loss=0.0210, avg_loss=0.0000]"
     ]
    },
    {
     "name": "stdout",
     "output_type": "stream",
     "text": [
      "\n",
      "Sequence lengths - Target: 1180, ProteinA: 940\n"
     ]
    },
    {
     "name": "stderr",
     "output_type": "stream",
     "text": [
      "Epoch 207/219:   1%|          | 17/2215 [00:03<09:34,  3.82it/s, batch_loss=0.0035, avg_loss=0.0001]"
     ]
    },
    {
     "name": "stdout",
     "output_type": "stream",
     "text": [
      "Gradient norm: 0.0286\n"
     ]
    },
    {
     "name": "stderr",
     "output_type": "stream",
     "text": [
      "Epoch 207/219:  24%|██▍       | 534/2215 [01:10<03:13,  8.67it/s, batch_loss=0.0309, avg_loss=0.0016]"
     ]
    },
    {
     "name": "stdout",
     "output_type": "stream",
     "text": [
      "\n",
      "Sequence lengths - Target: 129, ProteinA: 432\n",
      "Gradient norm: 0.0750\n"
     ]
    },
    {
     "name": "stderr",
     "output_type": "stream",
     "text": [
      "Epoch 207/219:  27%|██▋       | 593/2215 [01:19<03:59,  6.77it/s, batch_loss=0.0009, avg_loss=0.0013]"
     ]
    },
    {
     "name": "stdout",
     "output_type": "stream",
     "text": [
      "\n",
      "Sequence lengths - Target: 174, ProteinA: 597\n",
      "Gradient norm: 0.0132\n"
     ]
    },
    {
     "name": "stderr",
     "output_type": "stream",
     "text": [
      "Epoch 207/219:  35%|███▌      | 785/2215 [01:45<03:13,  7.40it/s, batch_loss=0.0008, avg_loss=0.0039]"
     ]
    },
    {
     "name": "stdout",
     "output_type": "stream",
     "text": [
      "\n",
      "Sequence lengths - Target: 475, ProteinA: 1288\n"
     ]
    },
    {
     "name": "stderr",
     "output_type": "stream",
     "text": [
      "Epoch 207/219:  35%|███▌      | 786/2215 [01:45<04:58,  4.79it/s, batch_loss=0.0018, avg_loss=0.0013]"
     ]
    },
    {
     "name": "stdout",
     "output_type": "stream",
     "text": [
      "Gradient norm: 0.0187\n"
     ]
    },
    {
     "name": "stderr",
     "output_type": "stream",
     "text": [
      "Epoch 207/219:  37%|███▋      | 827/2215 [01:51<03:31,  6.55it/s, batch_loss=0.0004, avg_loss=0.0010]"
     ]
    },
    {
     "name": "stdout",
     "output_type": "stream",
     "text": [
      "\n",
      "Sequence lengths - Target: 347, ProteinA: 432\n",
      "Gradient norm: 0.0093\n"
     ]
    },
    {
     "name": "stderr",
     "output_type": "stream",
     "text": [
      "Epoch 207/219:  38%|███▊      | 837/2215 [01:52<02:37,  8.73it/s, batch_loss=0.0000, avg_loss=0.1528]"
     ]
    },
    {
     "name": "stdout",
     "output_type": "stream",
     "text": [
      "\n",
      "Sequence lengths - Target: 167, ProteinA: 87\n",
      "Gradient norm: 0.0303\n"
     ]
    },
    {
     "name": "stderr",
     "output_type": "stream",
     "text": [
      "Epoch 207/219:  42%|████▏     | 938/2215 [02:07<02:56,  7.22it/s, batch_loss=0.0703, avg_loss=0.0023]"
     ]
    },
    {
     "name": "stdout",
     "output_type": "stream",
     "text": [
      "\n",
      "Sequence lengths - Target: 165, ProteinA: 262\n",
      "Gradient norm: 0.1048\n"
     ]
    },
    {
     "name": "stderr",
     "output_type": "stream",
     "text": [
      "Epoch 207/219:  44%|████▍     | 977/2215 [02:12<03:25,  6.03it/s, batch_loss=0.0004, avg_loss=0.0017]"
     ]
    },
    {
     "name": "stdout",
     "output_type": "stream",
     "text": [
      "\n",
      "Sequence lengths - Target: 223, ProteinA: 187\n",
      "Gradient norm: 0.0294\n"
     ]
    },
    {
     "name": "stderr",
     "output_type": "stream",
     "text": [
      "Epoch 207/219:  51%|█████▏    | 1138/2215 [02:33<02:40,  6.70it/s, batch_loss=0.0003, avg_loss=0.0036]"
     ]
    },
    {
     "name": "stdout",
     "output_type": "stream",
     "text": [
      "\n",
      "Sequence lengths - Target: 129, ProteinA: 429\n",
      "Gradient norm: 0.0073\n"
     ]
    },
    {
     "name": "stderr",
     "output_type": "stream",
     "text": [
      "Epoch 207/219:  55%|█████▌    | 1226/2215 [02:46<02:01,  8.16it/s, batch_loss=0.0015, avg_loss=0.1810]"
     ]
    },
    {
     "name": "stdout",
     "output_type": "stream",
     "text": [
      "\n",
      "Sequence lengths - Target: 436, ProteinA: 386\n",
      "Gradient norm: 0.0164\n"
     ]
    },
    {
     "name": "stderr",
     "output_type": "stream",
     "text": [
      "Epoch 207/219:  56%|█████▋    | 1248/2215 [02:48<01:47,  8.99it/s, batch_loss=0.0028, avg_loss=0.0018]"
     ]
    },
    {
     "name": "stdout",
     "output_type": "stream",
     "text": [
      "\n",
      "Sequence lengths - Target: 53, ProteinA: 238\n",
      "Gradient norm: 0.0557\n"
     ]
    },
    {
     "name": "stderr",
     "output_type": "stream",
     "text": [
      "Epoch 207/219:  60%|██████    | 1331/2215 [03:02<01:40,  8.76it/s, batch_loss=0.0006, avg_loss=0.0019]"
     ]
    },
    {
     "name": "stdout",
     "output_type": "stream",
     "text": [
      "\n",
      "Sequence lengths - Target: 126, ProteinA: 455\n",
      "Gradient norm: 0.0298\n"
     ]
    },
    {
     "name": "stderr",
     "output_type": "stream",
     "text": [
      "Epoch 207/219:  68%|██████▊   | 1512/2215 [03:27<01:15,  9.26it/s, batch_loss=0.0400, avg_loss=0.0021]"
     ]
    },
    {
     "name": "stdout",
     "output_type": "stream",
     "text": [
      "\n",
      "Sequence lengths - Target: 56, ProteinA: 218\n",
      "Gradient norm: 0.1673\n"
     ]
    },
    {
     "name": "stderr",
     "output_type": "stream",
     "text": [
      "Epoch 207/219:  70%|██████▉   | 1545/2215 [03:32<01:26,  7.72it/s, batch_loss=0.0000, avg_loss=0.0100]"
     ]
    },
    {
     "name": "stdout",
     "output_type": "stream",
     "text": [
      "\n",
      "Sequence lengths - Target: 338, ProteinA: 317\n",
      "Gradient norm: 0.0018\n"
     ]
    },
    {
     "name": "stderr",
     "output_type": "stream",
     "text": [
      "Epoch 207/219:  71%|███████▏  | 1582/2215 [03:37<01:21,  7.72it/s, batch_loss=0.0460, avg_loss=0.0034]"
     ]
    },
    {
     "name": "stdout",
     "output_type": "stream",
     "text": [
      "\n",
      "Sequence lengths - Target: 489, ProteinA: 30\n",
      "Gradient norm: 0.0279\n"
     ]
    },
    {
     "name": "stderr",
     "output_type": "stream",
     "text": [
      "Epoch 207/219:  73%|███████▎  | 1612/2215 [03:40<01:15,  7.94it/s, batch_loss=0.0489, avg_loss=0.0099]"
     ]
    },
    {
     "name": "stdout",
     "output_type": "stream",
     "text": [
      "\n",
      "Sequence lengths - Target: 126, ProteinA: 460\n",
      "Gradient norm: 0.1710\n"
     ]
    },
    {
     "name": "stderr",
     "output_type": "stream",
     "text": [
      "Epoch 207/219:  73%|███████▎  | 1620/2215 [03:41<01:21,  7.31it/s, batch_loss=0.0022, avg_loss=0.0074]"
     ]
    },
    {
     "name": "stdout",
     "output_type": "stream",
     "text": [
      "\n",
      "Sequence lengths - Target: 356, ProteinA: 122\n",
      "Gradient norm: 0.0332\n"
     ]
    },
    {
     "name": "stderr",
     "output_type": "stream",
     "text": [
      "Epoch 207/219:  76%|███████▋  | 1689/2215 [03:50<01:07,  7.85it/s, batch_loss=0.0110, avg_loss=0.0025]"
     ]
    },
    {
     "name": "stdout",
     "output_type": "stream",
     "text": [
      "\n",
      "Sequence lengths - Target: 61, ProteinA: 533\n",
      "Gradient norm: 0.0862\n"
     ]
    },
    {
     "name": "stderr",
     "output_type": "stream",
     "text": [
      "Epoch 207/219:  78%|███████▊  | 1718/2215 [03:55<00:54,  9.09it/s, batch_loss=0.0004, avg_loss=0.0026]"
     ]
    },
    {
     "name": "stdout",
     "output_type": "stream",
     "text": [
      "\n",
      "Sequence lengths - Target: 67, ProteinA: 104\n",
      "Gradient norm: 0.0301\n"
     ]
    },
    {
     "name": "stderr",
     "output_type": "stream",
     "text": [
      "Epoch 207/219:  84%|████████▍ | 1870/2215 [04:16<00:54,  6.29it/s, batch_loss=0.0419, avg_loss=0.0032]"
     ]
    },
    {
     "name": "stdout",
     "output_type": "stream",
     "text": [
      "\n",
      "Sequence lengths - Target: 72, ProteinA: 118\n",
      "Gradient norm: 0.0150\n"
     ]
    },
    {
     "name": "stderr",
     "output_type": "stream",
     "text": [
      "Epoch 207/219:  93%|█████████▎| 2051/2215 [04:39<00:16, 10.24it/s, batch_loss=0.0001, avg_loss=0.0029]"
     ]
    },
    {
     "name": "stdout",
     "output_type": "stream",
     "text": [
      "\n",
      "Sequence lengths - Target: 53, ProteinA: 238\n",
      "Gradient norm: 0.0251\n"
     ]
    },
    {
     "name": "stderr",
     "output_type": "stream",
     "text": [
      "Epoch 207/219:  98%|█████████▊| 2161/2215 [04:52<00:05,  9.24it/s, batch_loss=0.0011, avg_loss=0.0035]"
     ]
    },
    {
     "name": "stdout",
     "output_type": "stream",
     "text": [
      "\n",
      "Sequence lengths - Target: 266, ProteinA: 165\n",
      "Gradient norm: 0.0217\n"
     ]
    },
    {
     "name": "stderr",
     "output_type": "stream",
     "text": [
      "                                                                                                      \r"
     ]
    },
    {
     "name": "stdout",
     "output_type": "stream",
     "text": [
      "\n",
      "Epoch [207/219] Summary:\n",
      "Average Loss: 0.0147\n",
      "Min Batch Loss: 0.0000\n",
      "Max Batch Loss: 0.7011\n",
      "GPU Memory allocated: 5.41 GB\n",
      "GPU Memory cached: 15.56 GB\n",
      "Checkpoint saved at epoch 207 to D:\\BALM Fineclone\\BALM-PPI\\scripts\\notebooks\\latest_checkpointcuratedmainATTPFT.pth\n"
     ]
    },
    {
     "name": "stderr",
     "output_type": "stream",
     "text": [
      "Epoch 208/219:   1%|          | 16/2215 [00:02<05:03,  7.25it/s, batch_loss=0.0202, avg_loss=0.0000]"
     ]
    },
    {
     "name": "stdout",
     "output_type": "stream",
     "text": [
      "\n",
      "Sequence lengths - Target: 1180, ProteinA: 940\n"
     ]
    },
    {
     "name": "stderr",
     "output_type": "stream",
     "text": [
      "Epoch 208/219:   1%|          | 17/2215 [00:03<09:36,  3.81it/s, batch_loss=0.0190, avg_loss=0.0001]"
     ]
    },
    {
     "name": "stdout",
     "output_type": "stream",
     "text": [
      "Gradient norm: 0.0382\n"
     ]
    },
    {
     "name": "stderr",
     "output_type": "stream",
     "text": [
      "Epoch 208/219:  24%|██▍       | 534/2215 [01:10<03:13,  8.69it/s, batch_loss=0.0389, avg_loss=0.0015]"
     ]
    },
    {
     "name": "stdout",
     "output_type": "stream",
     "text": [
      "\n",
      "Sequence lengths - Target: 129, ProteinA: 432\n",
      "Gradient norm: 0.0831\n"
     ]
    },
    {
     "name": "stderr",
     "output_type": "stream",
     "text": [
      "Epoch 208/219:  27%|██▋       | 593/2215 [01:19<03:59,  6.77it/s, batch_loss=0.0264, avg_loss=0.0089]"
     ]
    },
    {
     "name": "stdout",
     "output_type": "stream",
     "text": [
      "\n",
      "Sequence lengths - Target: 174, ProteinA: 597\n",
      "Gradient norm: 0.3644\n"
     ]
    },
    {
     "name": "stderr",
     "output_type": "stream",
     "text": [
      "Epoch 208/219:  35%|███▌      | 785/2215 [01:45<03:12,  7.44it/s, batch_loss=0.0000, avg_loss=0.0038]"
     ]
    },
    {
     "name": "stdout",
     "output_type": "stream",
     "text": [
      "\n",
      "Sequence lengths - Target: 475, ProteinA: 1288\n"
     ]
    },
    {
     "name": "stderr",
     "output_type": "stream",
     "text": [
      "Epoch 208/219:  35%|███▌      | 786/2215 [01:46<04:57,  4.80it/s, batch_loss=0.0082, avg_loss=0.0013]"
     ]
    },
    {
     "name": "stdout",
     "output_type": "stream",
     "text": [
      "Gradient norm: 0.0078\n"
     ]
    },
    {
     "name": "stderr",
     "output_type": "stream",
     "text": [
      "Epoch 208/219:  37%|███▋      | 827/2215 [01:51<03:31,  6.57it/s, batch_loss=0.0004, avg_loss=0.0010]"
     ]
    },
    {
     "name": "stdout",
     "output_type": "stream",
     "text": [
      "\n",
      "Sequence lengths - Target: 347, ProteinA: 432\n",
      "Gradient norm: 0.0093\n"
     ]
    },
    {
     "name": "stderr",
     "output_type": "stream",
     "text": [
      "Epoch 208/219:  38%|███▊      | 837/2215 [01:52<02:36,  8.78it/s, batch_loss=0.0000, avg_loss=0.1495]"
     ]
    },
    {
     "name": "stdout",
     "output_type": "stream",
     "text": [
      "\n",
      "Sequence lengths - Target: 167, ProteinA: 87\n",
      "Gradient norm: 0.0371\n"
     ]
    },
    {
     "name": "stderr",
     "output_type": "stream",
     "text": [
      "Epoch 208/219:  42%|████▏     | 938/2215 [02:07<02:55,  7.28it/s, batch_loss=0.0664, avg_loss=0.0023]"
     ]
    },
    {
     "name": "stdout",
     "output_type": "stream",
     "text": [
      "\n",
      "Sequence lengths - Target: 165, ProteinA: 262\n",
      "Gradient norm: 0.0918\n"
     ]
    },
    {
     "name": "stderr",
     "output_type": "stream",
     "text": [
      "Epoch 208/219:  44%|████▍     | 977/2215 [02:12<03:25,  6.02it/s, batch_loss=0.0029, avg_loss=0.0017]"
     ]
    },
    {
     "name": "stdout",
     "output_type": "stream",
     "text": [
      "\n",
      "Sequence lengths - Target: 223, ProteinA: 187\n",
      "Gradient norm: 0.0440\n"
     ]
    },
    {
     "name": "stderr",
     "output_type": "stream",
     "text": [
      "Epoch 208/219:  51%|█████▏    | 1138/2215 [02:34<02:35,  6.93it/s, batch_loss=0.0000, avg_loss=0.0036]"
     ]
    },
    {
     "name": "stdout",
     "output_type": "stream",
     "text": [
      "\n",
      "Sequence lengths - Target: 129, ProteinA: 429\n",
      "Gradient norm: 0.0004\n"
     ]
    },
    {
     "name": "stderr",
     "output_type": "stream",
     "text": [
      "Epoch 208/219:  55%|█████▌    | 1226/2215 [02:46<02:02,  8.06it/s, batch_loss=0.0001, avg_loss=0.1789]"
     ]
    },
    {
     "name": "stdout",
     "output_type": "stream",
     "text": [
      "\n",
      "Sequence lengths - Target: 436, ProteinA: 386\n",
      "Gradient norm: 0.0038\n"
     ]
    },
    {
     "name": "stderr",
     "output_type": "stream",
     "text": [
      "Epoch 208/219:  56%|█████▋    | 1248/2215 [02:48<01:48,  8.91it/s, batch_loss=0.0154, avg_loss=0.0017]"
     ]
    },
    {
     "name": "stdout",
     "output_type": "stream",
     "text": [
      "\n",
      "Sequence lengths - Target: 53, ProteinA: 238\n",
      "Gradient norm: 0.3760\n"
     ]
    },
    {
     "name": "stderr",
     "output_type": "stream",
     "text": [
      "Epoch 208/219:  60%|██████    | 1331/2215 [03:02<01:40,  8.78it/s, batch_loss=0.0002, avg_loss=0.0018]"
     ]
    },
    {
     "name": "stdout",
     "output_type": "stream",
     "text": [
      "\n",
      "Sequence lengths - Target: 126, ProteinA: 455\n",
      "Gradient norm: 0.0170\n"
     ]
    },
    {
     "name": "stderr",
     "output_type": "stream",
     "text": [
      "Epoch 208/219:  68%|██████▊   | 1512/2215 [03:27<01:15,  9.35it/s, batch_loss=0.0133, avg_loss=0.0021]"
     ]
    },
    {
     "name": "stdout",
     "output_type": "stream",
     "text": [
      "\n",
      "Sequence lengths - Target: 56, ProteinA: 218\n",
      "Gradient norm: 0.1110\n"
     ]
    },
    {
     "name": "stderr",
     "output_type": "stream",
     "text": [
      "Epoch 208/219:  70%|██████▉   | 1545/2215 [03:32<01:27,  7.70it/s, batch_loss=0.0000, avg_loss=0.0099]"
     ]
    },
    {
     "name": "stdout",
     "output_type": "stream",
     "text": [
      "\n",
      "Sequence lengths - Target: 338, ProteinA: 317\n",
      "Gradient norm: 0.0035\n"
     ]
    },
    {
     "name": "stderr",
     "output_type": "stream",
     "text": [
      "Epoch 208/219:  71%|███████▏  | 1582/2215 [03:37<01:21,  7.74it/s, batch_loss=0.0017, avg_loss=0.0033]"
     ]
    },
    {
     "name": "stdout",
     "output_type": "stream",
     "text": [
      "\n",
      "Sequence lengths - Target: 489, ProteinA: 30\n",
      "Gradient norm: 0.0452\n"
     ]
    },
    {
     "name": "stderr",
     "output_type": "stream",
     "text": [
      "Epoch 208/219:  73%|███████▎  | 1612/2215 [03:40<01:15,  7.99it/s, batch_loss=0.0404, avg_loss=0.0098]"
     ]
    },
    {
     "name": "stdout",
     "output_type": "stream",
     "text": [
      "\n",
      "Sequence lengths - Target: 126, ProteinA: 460\n",
      "Gradient norm: 0.1692\n"
     ]
    },
    {
     "name": "stderr",
     "output_type": "stream",
     "text": [
      "Epoch 208/219:  73%|███████▎  | 1620/2215 [03:42<01:21,  7.31it/s, batch_loss=0.0004, avg_loss=0.0073]"
     ]
    },
    {
     "name": "stdout",
     "output_type": "stream",
     "text": [
      "\n",
      "Sequence lengths - Target: 356, ProteinA: 122\n",
      "Gradient norm: 0.0161\n"
     ]
    },
    {
     "name": "stderr",
     "output_type": "stream",
     "text": [
      "Epoch 208/219:  76%|███████▋  | 1689/2215 [03:51<01:06,  7.92it/s, batch_loss=0.0027, avg_loss=0.0025]"
     ]
    },
    {
     "name": "stdout",
     "output_type": "stream",
     "text": [
      "\n",
      "Sequence lengths - Target: 61, ProteinA: 533\n",
      "Gradient norm: 0.0548\n"
     ]
    },
    {
     "name": "stderr",
     "output_type": "stream",
     "text": [
      "Epoch 208/219:  78%|███████▊  | 1718/2215 [03:55<00:54,  9.20it/s, batch_loss=0.0007, avg_loss=0.0025]"
     ]
    },
    {
     "name": "stdout",
     "output_type": "stream",
     "text": [
      "\n",
      "Sequence lengths - Target: 67, ProteinA: 104\n",
      "Gradient norm: 0.0553\n"
     ]
    },
    {
     "name": "stderr",
     "output_type": "stream",
     "text": [
      "Epoch 208/219:  84%|████████▍ | 1870/2215 [04:16<00:54,  6.30it/s, batch_loss=0.1031, avg_loss=0.0032]"
     ]
    },
    {
     "name": "stdout",
     "output_type": "stream",
     "text": [
      "\n",
      "Sequence lengths - Target: 72, ProteinA: 118\n",
      "Gradient norm: 0.0065\n"
     ]
    },
    {
     "name": "stderr",
     "output_type": "stream",
     "text": [
      "Epoch 208/219:  93%|█████████▎| 2051/2215 [04:39<00:15, 10.49it/s, batch_loss=0.0008, avg_loss=0.0029]"
     ]
    },
    {
     "name": "stdout",
     "output_type": "stream",
     "text": [
      "\n",
      "Sequence lengths - Target: 53, ProteinA: 238\n",
      "Gradient norm: 0.0639\n"
     ]
    },
    {
     "name": "stderr",
     "output_type": "stream",
     "text": [
      "Epoch 208/219:  98%|█████████▊| 2161/2215 [04:52<00:06,  8.92it/s, batch_loss=0.0096, avg_loss=0.0034]"
     ]
    },
    {
     "name": "stdout",
     "output_type": "stream",
     "text": [
      "\n",
      "Sequence lengths - Target: 266, ProteinA: 165\n",
      "Gradient norm: 0.1058\n"
     ]
    },
    {
     "name": "stderr",
     "output_type": "stream",
     "text": [
      "                                                                                                      \r"
     ]
    },
    {
     "name": "stdout",
     "output_type": "stream",
     "text": [
      "\n",
      "Epoch [208/219] Summary:\n",
      "Average Loss: 0.0145\n",
      "Min Batch Loss: 0.0000\n",
      "Max Batch Loss: 0.4534\n",
      "GPU Memory allocated: 5.41 GB\n",
      "GPU Memory cached: 15.56 GB\n",
      "Checkpoint saved at epoch 208 to D:\\BALM Fineclone\\BALM-PPI\\scripts\\notebooks\\latest_checkpointcuratedmainATTPFT.pth\n"
     ]
    },
    {
     "name": "stderr",
     "output_type": "stream",
     "text": [
      "Epoch 209/219:   1%|          | 16/2215 [00:02<05:03,  7.24it/s, batch_loss=0.0077, avg_loss=0.0000]"
     ]
    },
    {
     "name": "stdout",
     "output_type": "stream",
     "text": [
      "\n",
      "Sequence lengths - Target: 1180, ProteinA: 940\n"
     ]
    },
    {
     "name": "stderr",
     "output_type": "stream",
     "text": [
      "Epoch 209/219:   1%|          | 17/2215 [00:03<09:35,  3.82it/s, batch_loss=0.0126, avg_loss=0.0001]"
     ]
    },
    {
     "name": "stdout",
     "output_type": "stream",
     "text": [
      "Gradient norm: 0.0359\n"
     ]
    },
    {
     "name": "stderr",
     "output_type": "stream",
     "text": [
      "Epoch 209/219:  24%|██▍       | 534/2215 [01:10<03:12,  8.73it/s, batch_loss=0.0331, avg_loss=0.0016]"
     ]
    },
    {
     "name": "stdout",
     "output_type": "stream",
     "text": [
      "\n",
      "Sequence lengths - Target: 129, ProteinA: 432\n",
      "Gradient norm: 0.0930\n"
     ]
    },
    {
     "name": "stderr",
     "output_type": "stream",
     "text": [
      "Epoch 209/219:  27%|██▋       | 593/2215 [01:19<03:58,  6.81it/s, batch_loss=0.0035, avg_loss=0.0094]"
     ]
    },
    {
     "name": "stdout",
     "output_type": "stream",
     "text": [
      "\n",
      "Sequence lengths - Target: 174, ProteinA: 597\n",
      "Gradient norm: 0.1194\n"
     ]
    },
    {
     "name": "stderr",
     "output_type": "stream",
     "text": [
      "Epoch 209/219:  35%|███▌      | 785/2215 [01:45<03:13,  7.40it/s, batch_loss=0.0041, avg_loss=0.0040]"
     ]
    },
    {
     "name": "stdout",
     "output_type": "stream",
     "text": [
      "\n",
      "Sequence lengths - Target: 475, ProteinA: 1288\n"
     ]
    },
    {
     "name": "stderr",
     "output_type": "stream",
     "text": [
      "Epoch 209/219:  35%|███▌      | 786/2215 [01:45<04:58,  4.79it/s, batch_loss=0.0017, avg_loss=0.0013]"
     ]
    },
    {
     "name": "stdout",
     "output_type": "stream",
     "text": [
      "Gradient norm: 0.0169\n"
     ]
    },
    {
     "name": "stderr",
     "output_type": "stream",
     "text": [
      "Epoch 209/219:  37%|███▋      | 826/2215 [01:51<03:20,  6.91it/s, batch_loss=0.0000, avg_loss=0.0011]"
     ]
    },
    {
     "name": "stdout",
     "output_type": "stream",
     "text": [
      "\n",
      "Sequence lengths - Target: 347, ProteinA: 432\n",
      "Gradient norm: 0.0038\n"
     ]
    },
    {
     "name": "stderr",
     "output_type": "stream",
     "text": [
      "Epoch 209/219:  38%|███▊      | 837/2215 [01:52<02:39,  8.63it/s, batch_loss=0.0000, avg_loss=0.1564]"
     ]
    },
    {
     "name": "stdout",
     "output_type": "stream",
     "text": [
      "\n",
      "Sequence lengths - Target: 167, ProteinA: 87\n",
      "Gradient norm: 0.0313\n"
     ]
    },
    {
     "name": "stderr",
     "output_type": "stream",
     "text": [
      "Epoch 209/219:  42%|████▏     | 938/2215 [02:07<02:56,  7.25it/s, batch_loss=0.0706, avg_loss=0.0449]"
     ]
    },
    {
     "name": "stdout",
     "output_type": "stream",
     "text": [
      "\n",
      "Sequence lengths - Target: 165, ProteinA: 262\n",
      "Gradient norm: 0.1025\n"
     ]
    },
    {
     "name": "stderr",
     "output_type": "stream",
     "text": [
      "Epoch 209/219:  44%|████▍     | 977/2215 [02:12<03:19,  6.21it/s, batch_loss=0.0004, avg_loss=0.0017]"
     ]
    },
    {
     "name": "stdout",
     "output_type": "stream",
     "text": [
      "\n",
      "Sequence lengths - Target: 223, ProteinA: 187\n",
      "Gradient norm: 0.0270\n"
     ]
    },
    {
     "name": "stderr",
     "output_type": "stream",
     "text": [
      "Epoch 209/219:  51%|█████▏    | 1138/2215 [02:34<02:34,  6.96it/s, batch_loss=0.0001, avg_loss=0.0036]"
     ]
    },
    {
     "name": "stdout",
     "output_type": "stream",
     "text": [
      "\n",
      "Sequence lengths - Target: 129, ProteinA: 429\n",
      "Gradient norm: 0.0034\n"
     ]
    },
    {
     "name": "stderr",
     "output_type": "stream",
     "text": [
      "Epoch 209/219:  55%|█████▌    | 1226/2215 [02:46<02:01,  8.11it/s, batch_loss=0.0003, avg_loss=0.1796]"
     ]
    },
    {
     "name": "stdout",
     "output_type": "stream",
     "text": [
      "\n",
      "Sequence lengths - Target: 436, ProteinA: 386\n",
      "Gradient norm: 0.0071\n"
     ]
    },
    {
     "name": "stderr",
     "output_type": "stream",
     "text": [
      "Epoch 209/219:  56%|█████▋    | 1248/2215 [02:48<01:48,  8.88it/s, batch_loss=0.0699, avg_loss=0.0018]"
     ]
    },
    {
     "name": "stdout",
     "output_type": "stream",
     "text": [
      "\n",
      "Sequence lengths - Target: 53, ProteinA: 238\n",
      "Gradient norm: 0.8888\n"
     ]
    },
    {
     "name": "stderr",
     "output_type": "stream",
     "text": [
      "Epoch 209/219:  60%|██████    | 1331/2215 [03:02<01:40,  8.76it/s, batch_loss=0.0002, avg_loss=0.0018]"
     ]
    },
    {
     "name": "stdout",
     "output_type": "stream",
     "text": [
      "\n",
      "Sequence lengths - Target: 126, ProteinA: 455\n",
      "Gradient norm: 0.0168\n"
     ]
    },
    {
     "name": "stderr",
     "output_type": "stream",
     "text": [
      "Epoch 209/219:  68%|██████▊   | 1512/2215 [03:27<01:15,  9.30it/s, batch_loss=0.0294, avg_loss=0.0021]"
     ]
    },
    {
     "name": "stdout",
     "output_type": "stream",
     "text": [
      "\n",
      "Sequence lengths - Target: 56, ProteinA: 218\n",
      "Gradient norm: 0.3364\n"
     ]
    },
    {
     "name": "stderr",
     "output_type": "stream",
     "text": [
      "Epoch 209/219:  70%|██████▉   | 1545/2215 [03:32<01:26,  7.75it/s, batch_loss=0.0042, avg_loss=0.0099]"
     ]
    },
    {
     "name": "stdout",
     "output_type": "stream",
     "text": [
      "\n",
      "Sequence lengths - Target: 338, ProteinA: 317\n",
      "Gradient norm: 0.0578\n"
     ]
    },
    {
     "name": "stderr",
     "output_type": "stream",
     "text": [
      "Epoch 209/219:  71%|███████▏  | 1582/2215 [03:37<01:20,  7.85it/s, batch_loss=0.0001, avg_loss=0.0033]"
     ]
    },
    {
     "name": "stdout",
     "output_type": "stream",
     "text": [
      "\n",
      "Sequence lengths - Target: 489, ProteinA: 30\n",
      "Gradient norm: 0.0068\n"
     ]
    },
    {
     "name": "stderr",
     "output_type": "stream",
     "text": [
      "Epoch 209/219:  73%|███████▎  | 1612/2215 [03:40<01:15,  7.99it/s, batch_loss=0.0218, avg_loss=0.0098]"
     ]
    },
    {
     "name": "stdout",
     "output_type": "stream",
     "text": [
      "\n",
      "Sequence lengths - Target: 126, ProteinA: 460\n",
      "Gradient norm: 0.1336\n"
     ]
    },
    {
     "name": "stderr",
     "output_type": "stream",
     "text": [
      "Epoch 209/219:  73%|███████▎  | 1620/2215 [03:41<01:21,  7.34it/s, batch_loss=0.0005, avg_loss=0.0073]"
     ]
    },
    {
     "name": "stdout",
     "output_type": "stream",
     "text": [
      "\n",
      "Sequence lengths - Target: 356, ProteinA: 122\n",
      "Gradient norm: 0.0157\n"
     ]
    },
    {
     "name": "stderr",
     "output_type": "stream",
     "text": [
      "Epoch 209/219:  76%|███████▋  | 1689/2215 [03:51<01:06,  7.89it/s, batch_loss=0.0014, avg_loss=0.0025]"
     ]
    },
    {
     "name": "stdout",
     "output_type": "stream",
     "text": [
      "\n",
      "Sequence lengths - Target: 61, ProteinA: 533\n",
      "Gradient norm: 0.0399\n"
     ]
    },
    {
     "name": "stderr",
     "output_type": "stream",
     "text": [
      "Epoch 209/219:  78%|███████▊  | 1718/2215 [03:55<00:54,  9.11it/s, batch_loss=0.0018, avg_loss=0.0025]"
     ]
    },
    {
     "name": "stdout",
     "output_type": "stream",
     "text": [
      "\n",
      "Sequence lengths - Target: 67, ProteinA: 104\n",
      "Gradient norm: 0.0284\n"
     ]
    },
    {
     "name": "stderr",
     "output_type": "stream",
     "text": [
      "Epoch 209/219:  84%|████████▍ | 1870/2215 [04:16<00:55,  6.26it/s, batch_loss=0.0259, avg_loss=0.0032]"
     ]
    },
    {
     "name": "stdout",
     "output_type": "stream",
     "text": [
      "\n",
      "Sequence lengths - Target: 72, ProteinA: 118\n",
      "Gradient norm: 0.0447\n"
     ]
    },
    {
     "name": "stderr",
     "output_type": "stream",
     "text": [
      "Epoch 209/219:  93%|█████████▎| 2051/2215 [04:39<00:15, 10.55it/s, batch_loss=0.0001, avg_loss=0.0029]"
     ]
    },
    {
     "name": "stdout",
     "output_type": "stream",
     "text": [
      "\n",
      "Sequence lengths - Target: 53, ProteinA: 238\n",
      "Gradient norm: 0.0235\n"
     ]
    },
    {
     "name": "stderr",
     "output_type": "stream",
     "text": [
      "Epoch 209/219:  98%|█████████▊| 2161/2215 [04:52<00:05,  9.14it/s, batch_loss=0.0018, avg_loss=0.0034]"
     ]
    },
    {
     "name": "stdout",
     "output_type": "stream",
     "text": [
      "\n",
      "Sequence lengths - Target: 266, ProteinA: 165\n",
      "Gradient norm: 0.0536\n"
     ]
    },
    {
     "name": "stderr",
     "output_type": "stream",
     "text": [
      "                                                                                                      \r"
     ]
    },
    {
     "name": "stdout",
     "output_type": "stream",
     "text": [
      "\n",
      "Epoch [209/219] Summary:\n",
      "Average Loss: 0.0145\n",
      "Min Batch Loss: 0.0000\n",
      "Max Batch Loss: 0.4508\n",
      "GPU Memory allocated: 5.41 GB\n",
      "GPU Memory cached: 15.56 GB\n",
      "Checkpoint saved at epoch 209 to D:\\BALM Fineclone\\BALM-PPI\\scripts\\notebooks\\latest_checkpointcuratedmainATTPFT.pth\n"
     ]
    },
    {
     "name": "stderr",
     "output_type": "stream",
     "text": [
      "Epoch 210/219:   1%|          | 16/2215 [00:02<05:03,  7.25it/s, batch_loss=0.0000, avg_loss=0.0000]"
     ]
    },
    {
     "name": "stdout",
     "output_type": "stream",
     "text": [
      "\n",
      "Sequence lengths - Target: 1180, ProteinA: 940\n"
     ]
    },
    {
     "name": "stderr",
     "output_type": "stream",
     "text": [
      "Epoch 210/219:   1%|          | 17/2215 [00:03<09:36,  3.81it/s, batch_loss=0.0187, avg_loss=0.0001]"
     ]
    },
    {
     "name": "stdout",
     "output_type": "stream",
     "text": [
      "Gradient norm: 0.0740\n"
     ]
    },
    {
     "name": "stderr",
     "output_type": "stream",
     "text": [
      "Epoch 210/219:  24%|██▍       | 534/2215 [01:10<03:16,  8.57it/s, batch_loss=0.0309, avg_loss=0.0016]"
     ]
    },
    {
     "name": "stdout",
     "output_type": "stream",
     "text": [
      "\n",
      "Sequence lengths - Target: 129, ProteinA: 432\n",
      "Gradient norm: 0.0759\n"
     ]
    },
    {
     "name": "stderr",
     "output_type": "stream",
     "text": [
      "Epoch 210/219:  27%|██▋       | 593/2215 [01:19<03:57,  6.82it/s, batch_loss=0.0001, avg_loss=0.0013]"
     ]
    },
    {
     "name": "stdout",
     "output_type": "stream",
     "text": [
      "\n",
      "Sequence lengths - Target: 174, ProteinA: 597\n",
      "Gradient norm: 0.1684\n"
     ]
    },
    {
     "name": "stderr",
     "output_type": "stream",
     "text": [
      "Epoch 210/219:  35%|███▌      | 785/2215 [01:45<03:11,  7.46it/s, batch_loss=0.0000, avg_loss=0.0039]"
     ]
    },
    {
     "name": "stdout",
     "output_type": "stream",
     "text": [
      "\n",
      "Sequence lengths - Target: 475, ProteinA: 1288\n"
     ]
    },
    {
     "name": "stderr",
     "output_type": "stream",
     "text": [
      "Epoch 210/219:  35%|███▌      | 786/2215 [01:45<04:56,  4.81it/s, batch_loss=0.0056, avg_loss=0.0013]"
     ]
    },
    {
     "name": "stdout",
     "output_type": "stream",
     "text": [
      "Gradient norm: 0.0199\n"
     ]
    },
    {
     "name": "stderr",
     "output_type": "stream",
     "text": [
      "Epoch 210/219:  37%|███▋      | 826/2215 [01:51<03:19,  6.96it/s, batch_loss=0.0000, avg_loss=0.0010]"
     ]
    },
    {
     "name": "stdout",
     "output_type": "stream",
     "text": [
      "\n",
      "Sequence lengths - Target: 347, ProteinA: 432\n",
      "Gradient norm: 0.0029\n"
     ]
    },
    {
     "name": "stderr",
     "output_type": "stream",
     "text": [
      "Epoch 210/219:  38%|███▊      | 837/2215 [01:52<02:36,  8.81it/s, batch_loss=0.0057, avg_loss=0.1526]"
     ]
    },
    {
     "name": "stdout",
     "output_type": "stream",
     "text": [
      "\n",
      "Sequence lengths - Target: 167, ProteinA: 87\n",
      "Gradient norm: 0.0040\n"
     ]
    },
    {
     "name": "stderr",
     "output_type": "stream",
     "text": [
      "Epoch 210/219:  42%|████▏     | 938/2215 [02:07<02:56,  7.22it/s, batch_loss=0.0595, avg_loss=0.0024]"
     ]
    },
    {
     "name": "stdout",
     "output_type": "stream",
     "text": [
      "\n",
      "Sequence lengths - Target: 165, ProteinA: 262\n",
      "Gradient norm: 0.0920\n"
     ]
    },
    {
     "name": "stderr",
     "output_type": "stream",
     "text": [
      "Epoch 210/219:  44%|████▍     | 977/2215 [02:12<03:26,  6.00it/s, batch_loss=0.0005, avg_loss=0.0017]"
     ]
    },
    {
     "name": "stdout",
     "output_type": "stream",
     "text": [
      "\n",
      "Sequence lengths - Target: 223, ProteinA: 187\n",
      "Gradient norm: 0.0201\n"
     ]
    },
    {
     "name": "stderr",
     "output_type": "stream",
     "text": [
      "Epoch 210/219:  51%|█████▏    | 1138/2215 [02:33<02:34,  6.95it/s, batch_loss=0.0013, avg_loss=0.0036]"
     ]
    },
    {
     "name": "stdout",
     "output_type": "stream",
     "text": [
      "\n",
      "Sequence lengths - Target: 129, ProteinA: 429\n",
      "Gradient norm: 0.0152\n"
     ]
    },
    {
     "name": "stderr",
     "output_type": "stream",
     "text": [
      "Epoch 210/219:  55%|█████▌    | 1226/2215 [02:45<02:01,  8.14it/s, batch_loss=0.0011, avg_loss=0.1768]"
     ]
    },
    {
     "name": "stdout",
     "output_type": "stream",
     "text": [
      "\n",
      "Sequence lengths - Target: 436, ProteinA: 386\n",
      "Gradient norm: 0.0165\n"
     ]
    },
    {
     "name": "stderr",
     "output_type": "stream",
     "text": [
      "Epoch 210/219:  56%|█████▋    | 1248/2215 [02:48<01:48,  8.88it/s, batch_loss=0.0002, avg_loss=0.0017]"
     ]
    },
    {
     "name": "stdout",
     "output_type": "stream",
     "text": [
      "\n",
      "Sequence lengths - Target: 53, ProteinA: 238\n",
      "Gradient norm: 0.0229\n"
     ]
    },
    {
     "name": "stderr",
     "output_type": "stream",
     "text": [
      "Epoch 210/219:  60%|██████    | 1331/2215 [03:02<01:45,  8.42it/s, batch_loss=0.0001, avg_loss=0.0018]"
     ]
    },
    {
     "name": "stdout",
     "output_type": "stream",
     "text": [
      "\n",
      "Sequence lengths - Target: 126, ProteinA: 455\n",
      "Gradient norm: 0.0114\n"
     ]
    },
    {
     "name": "stderr",
     "output_type": "stream",
     "text": [
      "Epoch 210/219:  68%|██████▊   | 1512/2215 [03:27<01:16,  9.25it/s, batch_loss=0.0300, avg_loss=0.0021]"
     ]
    },
    {
     "name": "stdout",
     "output_type": "stream",
     "text": [
      "\n",
      "Sequence lengths - Target: 56, ProteinA: 218\n",
      "Gradient norm: 0.1001\n"
     ]
    },
    {
     "name": "stderr",
     "output_type": "stream",
     "text": [
      "Epoch 210/219:  70%|██████▉   | 1545/2215 [03:32<01:26,  7.72it/s, batch_loss=0.0057, avg_loss=0.0099]"
     ]
    },
    {
     "name": "stdout",
     "output_type": "stream",
     "text": [
      "\n",
      "Sequence lengths - Target: 338, ProteinA: 317\n",
      "Gradient norm: 0.0823\n"
     ]
    },
    {
     "name": "stderr",
     "output_type": "stream",
     "text": [
      "Epoch 210/219:  71%|███████▏  | 1582/2215 [03:37<01:22,  7.70it/s, batch_loss=0.0039, avg_loss=0.0033]"
     ]
    },
    {
     "name": "stdout",
     "output_type": "stream",
     "text": [
      "\n",
      "Sequence lengths - Target: 489, ProteinA: 30\n",
      "Gradient norm: 0.0754\n"
     ]
    },
    {
     "name": "stderr",
     "output_type": "stream",
     "text": [
      "Epoch 210/219:  73%|███████▎  | 1612/2215 [03:40<01:15,  7.95it/s, batch_loss=0.0665, avg_loss=0.0098]"
     ]
    },
    {
     "name": "stdout",
     "output_type": "stream",
     "text": [
      "\n",
      "Sequence lengths - Target: 126, ProteinA: 460\n",
      "Gradient norm: 0.2414\n"
     ]
    },
    {
     "name": "stderr",
     "output_type": "stream",
     "text": [
      "Epoch 210/219:  73%|███████▎  | 1620/2215 [03:41<01:21,  7.28it/s, batch_loss=0.0021, avg_loss=0.0073]"
     ]
    },
    {
     "name": "stdout",
     "output_type": "stream",
     "text": [
      "\n",
      "Sequence lengths - Target: 356, ProteinA: 122\n",
      "Gradient norm: 0.0287\n"
     ]
    },
    {
     "name": "stderr",
     "output_type": "stream",
     "text": [
      "Epoch 210/219:  76%|███████▋  | 1689/2215 [03:51<01:06,  7.86it/s, batch_loss=0.0137, avg_loss=0.0025]"
     ]
    },
    {
     "name": "stdout",
     "output_type": "stream",
     "text": [
      "\n",
      "Sequence lengths - Target: 61, ProteinA: 533\n",
      "Gradient norm: 0.1327\n"
     ]
    },
    {
     "name": "stderr",
     "output_type": "stream",
     "text": [
      "Epoch 210/219:  78%|███████▊  | 1718/2215 [03:55<00:54,  9.15it/s, batch_loss=0.0070, avg_loss=0.0025]"
     ]
    },
    {
     "name": "stdout",
     "output_type": "stream",
     "text": [
      "\n",
      "Sequence lengths - Target: 67, ProteinA: 104\n",
      "Gradient norm: 0.0583\n"
     ]
    },
    {
     "name": "stderr",
     "output_type": "stream",
     "text": [
      "Epoch 210/219:  84%|████████▍ | 1870/2215 [04:16<00:54,  6.29it/s, batch_loss=0.0209, avg_loss=0.0032]"
     ]
    },
    {
     "name": "stdout",
     "output_type": "stream",
     "text": [
      "\n",
      "Sequence lengths - Target: 72, ProteinA: 118\n",
      "Gradient norm: 0.0052\n"
     ]
    },
    {
     "name": "stderr",
     "output_type": "stream",
     "text": [
      "Epoch 210/219:  93%|█████████▎| 2051/2215 [04:39<00:15, 10.58it/s, batch_loss=0.0010, avg_loss=0.0029]"
     ]
    },
    {
     "name": "stdout",
     "output_type": "stream",
     "text": [
      "\n",
      "Sequence lengths - Target: 53, ProteinA: 238\n",
      "Gradient norm: 0.0915\n"
     ]
    },
    {
     "name": "stderr",
     "output_type": "stream",
     "text": [
      "Epoch 210/219:  98%|█████████▊| 2161/2215 [04:52<00:05,  9.02it/s, batch_loss=0.0004, avg_loss=0.0034]"
     ]
    },
    {
     "name": "stdout",
     "output_type": "stream",
     "text": [
      "\n",
      "Sequence lengths - Target: 266, ProteinA: 165\n",
      "Gradient norm: 0.0167\n"
     ]
    },
    {
     "name": "stderr",
     "output_type": "stream",
     "text": [
      "                                                                                                      \r"
     ]
    },
    {
     "name": "stdout",
     "output_type": "stream",
     "text": [
      "\n",
      "Epoch [210/219] Summary:\n",
      "Average Loss: 0.0145\n",
      "Min Batch Loss: 0.0000\n",
      "Max Batch Loss: 0.5081\n",
      "GPU Memory allocated: 5.41 GB\n",
      "GPU Memory cached: 15.56 GB\n",
      "Checkpoint saved at epoch 210 to D:\\BALM Fineclone\\BALM-PPI\\scripts\\notebooks\\latest_checkpointcuratedmainATTPFT.pth\n"
     ]
    },
    {
     "name": "stderr",
     "output_type": "stream",
     "text": [
      "Epoch 211/219:   1%|          | 16/2215 [00:02<05:04,  7.23it/s, batch_loss=0.0132, avg_loss=0.0000]"
     ]
    },
    {
     "name": "stdout",
     "output_type": "stream",
     "text": [
      "\n",
      "Sequence lengths - Target: 1180, ProteinA: 940\n"
     ]
    },
    {
     "name": "stderr",
     "output_type": "stream",
     "text": [
      "Epoch 211/219:   1%|          | 17/2215 [00:03<09:38,  3.80it/s, batch_loss=0.0104, avg_loss=0.0001]"
     ]
    },
    {
     "name": "stdout",
     "output_type": "stream",
     "text": [
      "Gradient norm: 0.0899\n"
     ]
    },
    {
     "name": "stderr",
     "output_type": "stream",
     "text": [
      "Epoch 211/219:  24%|██▍       | 534/2215 [01:10<03:14,  8.63it/s, batch_loss=0.0350, avg_loss=0.0017]"
     ]
    },
    {
     "name": "stdout",
     "output_type": "stream",
     "text": [
      "\n",
      "Sequence lengths - Target: 129, ProteinA: 432\n",
      "Gradient norm: 0.0889\n"
     ]
    },
    {
     "name": "stderr",
     "output_type": "stream",
     "text": [
      "Epoch 211/219:  27%|██▋       | 593/2215 [01:19<03:57,  6.82it/s, batch_loss=0.0017, avg_loss=0.0014]"
     ]
    },
    {
     "name": "stdout",
     "output_type": "stream",
     "text": [
      "\n",
      "Sequence lengths - Target: 174, ProteinA: 597\n",
      "Gradient norm: 0.6130\n"
     ]
    },
    {
     "name": "stderr",
     "output_type": "stream",
     "text": [
      "Epoch 211/219:  35%|███▌      | 785/2215 [01:45<03:15,  7.33it/s, batch_loss=0.0026, avg_loss=0.0039]"
     ]
    },
    {
     "name": "stdout",
     "output_type": "stream",
     "text": [
      "\n",
      "Sequence lengths - Target: 475, ProteinA: 1288\n"
     ]
    },
    {
     "name": "stderr",
     "output_type": "stream",
     "text": [
      "Epoch 211/219:  35%|███▌      | 786/2215 [01:46<05:00,  4.76it/s, batch_loss=0.0101, avg_loss=0.0013]"
     ]
    },
    {
     "name": "stdout",
     "output_type": "stream",
     "text": [
      "Gradient norm: 0.0200\n"
     ]
    },
    {
     "name": "stderr",
     "output_type": "stream",
     "text": [
      "Epoch 211/219:  37%|███▋      | 826/2215 [01:51<03:20,  6.94it/s, batch_loss=0.0003, avg_loss=0.0011]"
     ]
    },
    {
     "name": "stdout",
     "output_type": "stream",
     "text": [
      "\n",
      "Sequence lengths - Target: 347, ProteinA: 432\n",
      "Gradient norm: 0.0090\n"
     ]
    },
    {
     "name": "stderr",
     "output_type": "stream",
     "text": [
      "Epoch 211/219:  38%|███▊      | 837/2215 [01:52<02:33,  8.99it/s, batch_loss=0.0047, avg_loss=0.1584]"
     ]
    },
    {
     "name": "stdout",
     "output_type": "stream",
     "text": [
      "\n",
      "Sequence lengths - Target: 167, ProteinA: 87\n",
      "Gradient norm: 0.0475\n"
     ]
    },
    {
     "name": "stderr",
     "output_type": "stream",
     "text": [
      "Epoch 211/219:  42%|████▏     | 938/2215 [02:07<02:59,  7.11it/s, batch_loss=0.0930, avg_loss=0.0025]"
     ]
    },
    {
     "name": "stdout",
     "output_type": "stream",
     "text": [
      "\n",
      "Sequence lengths - Target: 165, ProteinA: 262\n",
      "Gradient norm: 0.0888\n"
     ]
    },
    {
     "name": "stderr",
     "output_type": "stream",
     "text": [
      "Epoch 211/219:  44%|████▍     | 977/2215 [02:12<03:26,  6.01it/s, batch_loss=0.0000, avg_loss=0.0018]"
     ]
    },
    {
     "name": "stdout",
     "output_type": "stream",
     "text": [
      "\n",
      "Sequence lengths - Target: 223, ProteinA: 187\n",
      "Gradient norm: 0.0004\n"
     ]
    },
    {
     "name": "stderr",
     "output_type": "stream",
     "text": [
      "Epoch 211/219:  51%|█████▏    | 1138/2215 [02:34<02:34,  6.96it/s, batch_loss=0.0005, avg_loss=0.0038]"
     ]
    },
    {
     "name": "stdout",
     "output_type": "stream",
     "text": [
      "\n",
      "Sequence lengths - Target: 129, ProteinA: 429\n",
      "Gradient norm: 0.0097\n"
     ]
    },
    {
     "name": "stderr",
     "output_type": "stream",
     "text": [
      "Epoch 211/219:  55%|█████▌    | 1226/2215 [02:46<02:01,  8.15it/s, batch_loss=0.0009, avg_loss=0.1845]"
     ]
    },
    {
     "name": "stdout",
     "output_type": "stream",
     "text": [
      "\n",
      "Sequence lengths - Target: 436, ProteinA: 386\n",
      "Gradient norm: 0.0143\n"
     ]
    },
    {
     "name": "stderr",
     "output_type": "stream",
     "text": [
      "Epoch 211/219:  56%|█████▋    | 1248/2215 [02:48<01:48,  8.95it/s, batch_loss=0.1360, avg_loss=0.0018]"
     ]
    },
    {
     "name": "stdout",
     "output_type": "stream",
     "text": [
      "\n",
      "Sequence lengths - Target: 53, ProteinA: 238\n",
      "Gradient norm: 1.4300\n"
     ]
    },
    {
     "name": "stderr",
     "output_type": "stream",
     "text": [
      "Epoch 211/219:  60%|██████    | 1331/2215 [03:02<01:43,  8.52it/s, batch_loss=0.0002, avg_loss=0.0019]"
     ]
    },
    {
     "name": "stdout",
     "output_type": "stream",
     "text": [
      "\n",
      "Sequence lengths - Target: 126, ProteinA: 455\n",
      "Gradient norm: 0.0182\n"
     ]
    },
    {
     "name": "stderr",
     "output_type": "stream",
     "text": [
      "Epoch 211/219:  68%|██████▊   | 1512/2215 [03:28<01:15,  9.31it/s, batch_loss=0.0127, avg_loss=0.0022]"
     ]
    },
    {
     "name": "stdout",
     "output_type": "stream",
     "text": [
      "\n",
      "Sequence lengths - Target: 56, ProteinA: 218\n",
      "Gradient norm: 0.0649\n"
     ]
    },
    {
     "name": "stderr",
     "output_type": "stream",
     "text": [
      "Epoch 211/219:  70%|██████▉   | 1545/2215 [03:32<01:26,  7.74it/s, batch_loss=0.0002, avg_loss=0.0103]"
     ]
    },
    {
     "name": "stdout",
     "output_type": "stream",
     "text": [
      "\n",
      "Sequence lengths - Target: 338, ProteinA: 317\n",
      "Gradient norm: 0.0130\n"
     ]
    },
    {
     "name": "stderr",
     "output_type": "stream",
     "text": [
      "Epoch 211/219:  71%|███████▏  | 1582/2215 [03:37<01:21,  7.75it/s, batch_loss=0.0066, avg_loss=0.0035]"
     ]
    },
    {
     "name": "stdout",
     "output_type": "stream",
     "text": [
      "\n",
      "Sequence lengths - Target: 489, ProteinA: 30\n",
      "Gradient norm: 0.0925\n"
     ]
    },
    {
     "name": "stderr",
     "output_type": "stream",
     "text": [
      "Epoch 211/219:  73%|███████▎  | 1612/2215 [03:41<01:15,  7.95it/s, batch_loss=0.0642, avg_loss=0.0103]"
     ]
    },
    {
     "name": "stdout",
     "output_type": "stream",
     "text": [
      "\n",
      "Sequence lengths - Target: 126, ProteinA: 460\n",
      "Gradient norm: 0.1877\n"
     ]
    },
    {
     "name": "stderr",
     "output_type": "stream",
     "text": [
      "Epoch 211/219:  73%|███████▎  | 1620/2215 [03:42<01:21,  7.30it/s, batch_loss=0.0000, avg_loss=0.0077]"
     ]
    },
    {
     "name": "stdout",
     "output_type": "stream",
     "text": [
      "\n",
      "Sequence lengths - Target: 356, ProteinA: 122\n",
      "Gradient norm: 0.0044\n"
     ]
    },
    {
     "name": "stderr",
     "output_type": "stream",
     "text": [
      "Epoch 211/219:  76%|███████▋  | 1689/2215 [03:51<01:07,  7.79it/s, batch_loss=0.0073, avg_loss=0.0026]"
     ]
    },
    {
     "name": "stdout",
     "output_type": "stream",
     "text": [
      "\n",
      "Sequence lengths - Target: 61, ProteinA: 533\n",
      "Gradient norm: 0.0772\n"
     ]
    },
    {
     "name": "stderr",
     "output_type": "stream",
     "text": [
      "Epoch 211/219:  78%|███████▊  | 1718/2215 [03:56<00:55,  9.02it/s, batch_loss=0.0041, avg_loss=0.0026]"
     ]
    },
    {
     "name": "stdout",
     "output_type": "stream",
     "text": [
      "\n",
      "Sequence lengths - Target: 67, ProteinA: 104\n",
      "Gradient norm: 0.0584\n"
     ]
    },
    {
     "name": "stderr",
     "output_type": "stream",
     "text": [
      "Epoch 211/219:  84%|████████▍ | 1870/2215 [04:17<00:54,  6.27it/s, batch_loss=0.0237, avg_loss=0.0033]"
     ]
    },
    {
     "name": "stdout",
     "output_type": "stream",
     "text": [
      "\n",
      "Sequence lengths - Target: 72, ProteinA: 118\n",
      "Gradient norm: 0.0132\n"
     ]
    },
    {
     "name": "stderr",
     "output_type": "stream",
     "text": [
      "Epoch 211/219:  93%|█████████▎| 2051/2215 [04:40<00:15, 10.52it/s, batch_loss=0.0000, avg_loss=0.0030]"
     ]
    },
    {
     "name": "stdout",
     "output_type": "stream",
     "text": [
      "\n",
      "Sequence lengths - Target: 53, ProteinA: 238\n",
      "Gradient norm: 0.0494\n"
     ]
    },
    {
     "name": "stderr",
     "output_type": "stream",
     "text": [
      "Epoch 211/219:  98%|█████████▊| 2161/2215 [04:53<00:06,  8.91it/s, batch_loss=0.0111, avg_loss=0.0035]"
     ]
    },
    {
     "name": "stdout",
     "output_type": "stream",
     "text": [
      "\n",
      "Sequence lengths - Target: 266, ProteinA: 165\n",
      "Gradient norm: 0.1086\n"
     ]
    },
    {
     "name": "stderr",
     "output_type": "stream",
     "text": [
      "                                                                                                      \r"
     ]
    },
    {
     "name": "stdout",
     "output_type": "stream",
     "text": [
      "\n",
      "Epoch [211/219] Summary:\n",
      "Average Loss: 0.0149\n",
      "Min Batch Loss: 0.0000\n",
      "Max Batch Loss: 0.5611\n",
      "GPU Memory allocated: 5.41 GB\n",
      "GPU Memory cached: 15.56 GB\n",
      "Checkpoint saved at epoch 211 to D:\\BALM Fineclone\\BALM-PPI\\scripts\\notebooks\\latest_checkpointcuratedmainATTPFT.pth\n"
     ]
    },
    {
     "name": "stderr",
     "output_type": "stream",
     "text": [
      "Epoch 212/219:   1%|          | 16/2215 [00:02<05:04,  7.22it/s, batch_loss=0.0697, avg_loss=0.0000]"
     ]
    },
    {
     "name": "stdout",
     "output_type": "stream",
     "text": [
      "\n",
      "Sequence lengths - Target: 1180, ProteinA: 940\n"
     ]
    },
    {
     "name": "stderr",
     "output_type": "stream",
     "text": [
      "Epoch 212/219:   1%|          | 17/2215 [00:03<09:36,  3.81it/s, batch_loss=0.0067, avg_loss=0.0001]"
     ]
    },
    {
     "name": "stdout",
     "output_type": "stream",
     "text": [
      "Gradient norm: 0.0368\n"
     ]
    },
    {
     "name": "stderr",
     "output_type": "stream",
     "text": [
      "Epoch 212/219:  24%|██▍       | 534/2215 [01:10<03:21,  8.33it/s, batch_loss=0.0353, avg_loss=0.0017]"
     ]
    },
    {
     "name": "stdout",
     "output_type": "stream",
     "text": [
      "\n",
      "Sequence lengths - Target: 129, ProteinA: 432\n",
      "Gradient norm: 0.0849\n"
     ]
    },
    {
     "name": "stderr",
     "output_type": "stream",
     "text": [
      "Epoch 212/219:  27%|██▋       | 593/2215 [01:19<03:59,  6.78it/s, batch_loss=0.0060, avg_loss=0.0013]"
     ]
    },
    {
     "name": "stdout",
     "output_type": "stream",
     "text": [
      "\n",
      "Sequence lengths - Target: 174, ProteinA: 597\n",
      "Gradient norm: 0.2080\n"
     ]
    },
    {
     "name": "stderr",
     "output_type": "stream",
     "text": [
      "Epoch 212/219:  35%|███▌      | 785/2215 [01:45<03:12,  7.45it/s, batch_loss=0.0044, avg_loss=0.0040]"
     ]
    },
    {
     "name": "stdout",
     "output_type": "stream",
     "text": [
      "\n",
      "Sequence lengths - Target: 475, ProteinA: 1288\n"
     ]
    },
    {
     "name": "stderr",
     "output_type": "stream",
     "text": [
      "Epoch 212/219:  35%|███▌      | 786/2215 [01:45<04:57,  4.80it/s, batch_loss=0.0006, avg_loss=0.0013]"
     ]
    },
    {
     "name": "stdout",
     "output_type": "stream",
     "text": [
      "Gradient norm: 0.0647\n"
     ]
    },
    {
     "name": "stderr",
     "output_type": "stream",
     "text": [
      "Epoch 212/219:  37%|███▋      | 827/2215 [01:51<03:31,  6.56it/s, batch_loss=0.0006, avg_loss=0.0011]"
     ]
    },
    {
     "name": "stdout",
     "output_type": "stream",
     "text": [
      "\n",
      "Sequence lengths - Target: 347, ProteinA: 432\n",
      "Gradient norm: 0.0143\n"
     ]
    },
    {
     "name": "stderr",
     "output_type": "stream",
     "text": [
      "Epoch 212/219:  38%|███▊      | 837/2215 [01:52<02:37,  8.78it/s, batch_loss=0.0005, avg_loss=0.1564]"
     ]
    },
    {
     "name": "stdout",
     "output_type": "stream",
     "text": [
      "\n",
      "Sequence lengths - Target: 167, ProteinA: 87\n",
      "Gradient norm: 0.0146\n"
     ]
    },
    {
     "name": "stderr",
     "output_type": "stream",
     "text": [
      "Epoch 212/219:  42%|████▏     | 938/2215 [02:07<02:56,  7.22it/s, batch_loss=0.1097, avg_loss=0.0024]"
     ]
    },
    {
     "name": "stdout",
     "output_type": "stream",
     "text": [
      "\n",
      "Sequence lengths - Target: 165, ProteinA: 262\n",
      "Gradient norm: 0.1033\n"
     ]
    },
    {
     "name": "stderr",
     "output_type": "stream",
     "text": [
      "Epoch 212/219:  44%|████▍     | 977/2215 [02:12<03:26,  6.00it/s, batch_loss=0.0023, avg_loss=0.0017]"
     ]
    },
    {
     "name": "stdout",
     "output_type": "stream",
     "text": [
      "\n",
      "Sequence lengths - Target: 223, ProteinA: 187\n",
      "Gradient norm: 0.0412\n"
     ]
    },
    {
     "name": "stderr",
     "output_type": "stream",
     "text": [
      "Epoch 212/219:  51%|█████▏    | 1138/2215 [02:33<02:35,  6.92it/s, batch_loss=0.0005, avg_loss=0.0038]"
     ]
    },
    {
     "name": "stdout",
     "output_type": "stream",
     "text": [
      "\n",
      "Sequence lengths - Target: 129, ProteinA: 429\n",
      "Gradient norm: 0.0096\n"
     ]
    },
    {
     "name": "stderr",
     "output_type": "stream",
     "text": [
      "Epoch 212/219:  55%|█████▌    | 1226/2215 [02:45<02:03,  7.98it/s, batch_loss=0.0003, avg_loss=0.0038]"
     ]
    },
    {
     "name": "stdout",
     "output_type": "stream",
     "text": [
      "\n",
      "Sequence lengths - Target: 436, ProteinA: 386\n"
     ]
    },
    {
     "name": "stderr",
     "output_type": "stream",
     "text": [
      "Epoch 212/219:  55%|█████▌    | 1229/2215 [02:46<02:03,  7.99it/s, batch_loss=0.0527, avg_loss=0.0023]"
     ]
    },
    {
     "name": "stdout",
     "output_type": "stream",
     "text": [
      "Gradient norm: 0.0107\n"
     ]
    },
    {
     "name": "stderr",
     "output_type": "stream",
     "text": [
      "Epoch 212/219:  56%|█████▋    | 1248/2215 [02:48<01:49,  8.86it/s, batch_loss=0.0897, avg_loss=0.0018]"
     ]
    },
    {
     "name": "stdout",
     "output_type": "stream",
     "text": [
      "\n",
      "Sequence lengths - Target: 53, ProteinA: 238\n",
      "Gradient norm: 0.8667\n"
     ]
    },
    {
     "name": "stderr",
     "output_type": "stream",
     "text": [
      "Epoch 212/219:  60%|██████    | 1331/2215 [03:02<01:43,  8.52it/s, batch_loss=0.0005, avg_loss=0.0019]"
     ]
    },
    {
     "name": "stdout",
     "output_type": "stream",
     "text": [
      "\n",
      "Sequence lengths - Target: 126, ProteinA: 455\n",
      "Gradient norm: 0.0229\n"
     ]
    },
    {
     "name": "stderr",
     "output_type": "stream",
     "text": [
      "Epoch 212/219:  68%|██████▊   | 1512/2215 [03:27<01:14,  9.45it/s, batch_loss=0.0247, avg_loss=0.0022]"
     ]
    },
    {
     "name": "stdout",
     "output_type": "stream",
     "text": [
      "\n",
      "Sequence lengths - Target: 56, ProteinA: 218\n",
      "Gradient norm: 0.6792\n"
     ]
    },
    {
     "name": "stderr",
     "output_type": "stream",
     "text": [
      "Epoch 212/219:  70%|██████▉   | 1545/2215 [03:32<01:26,  7.75it/s, batch_loss=0.0011, avg_loss=0.0103]"
     ]
    },
    {
     "name": "stdout",
     "output_type": "stream",
     "text": [
      "\n",
      "Sequence lengths - Target: 338, ProteinA: 317\n",
      "Gradient norm: 0.0305\n"
     ]
    },
    {
     "name": "stderr",
     "output_type": "stream",
     "text": [
      "Epoch 212/219:  71%|███████▏  | 1582/2215 [03:37<01:22,  7.68it/s, batch_loss=0.0012, avg_loss=0.0035]"
     ]
    },
    {
     "name": "stdout",
     "output_type": "stream",
     "text": [
      "\n",
      "Sequence lengths - Target: 489, ProteinA: 30\n",
      "Gradient norm: 0.0367\n"
     ]
    },
    {
     "name": "stderr",
     "output_type": "stream",
     "text": [
      "Epoch 212/219:  73%|███████▎  | 1612/2215 [03:40<01:15,  8.00it/s, batch_loss=0.0318, avg_loss=0.0102]"
     ]
    },
    {
     "name": "stdout",
     "output_type": "stream",
     "text": [
      "\n",
      "Sequence lengths - Target: 126, ProteinA: 460\n",
      "Gradient norm: 0.1276\n"
     ]
    },
    {
     "name": "stderr",
     "output_type": "stream",
     "text": [
      "Epoch 212/219:  73%|███████▎  | 1620/2215 [03:42<01:21,  7.33it/s, batch_loss=0.0002, avg_loss=0.0076]"
     ]
    },
    {
     "name": "stdout",
     "output_type": "stream",
     "text": [
      "\n",
      "Sequence lengths - Target: 356, ProteinA: 122\n",
      "Gradient norm: 0.0089\n"
     ]
    },
    {
     "name": "stderr",
     "output_type": "stream",
     "text": [
      "Epoch 212/219:  76%|███████▋  | 1689/2215 [03:51<01:06,  7.86it/s, batch_loss=0.0080, avg_loss=0.0026]"
     ]
    },
    {
     "name": "stdout",
     "output_type": "stream",
     "text": [
      "\n",
      "Sequence lengths - Target: 61, ProteinA: 533\n",
      "Gradient norm: 0.1050\n"
     ]
    },
    {
     "name": "stderr",
     "output_type": "stream",
     "text": [
      "Epoch 212/219:  78%|███████▊  | 1718/2215 [03:55<00:54,  9.07it/s, batch_loss=0.0000, avg_loss=0.0027]"
     ]
    },
    {
     "name": "stdout",
     "output_type": "stream",
     "text": [
      "\n",
      "Sequence lengths - Target: 67, ProteinA: 104\n",
      "Gradient norm: 0.0407\n"
     ]
    },
    {
     "name": "stderr",
     "output_type": "stream",
     "text": [
      "Epoch 212/219:  84%|████████▍ | 1870/2215 [04:17<00:54,  6.30it/s, batch_loss=0.0522, avg_loss=0.0033]"
     ]
    },
    {
     "name": "stdout",
     "output_type": "stream",
     "text": [
      "\n",
      "Sequence lengths - Target: 72, ProteinA: 118\n",
      "Gradient norm: 0.0101\n"
     ]
    },
    {
     "name": "stderr",
     "output_type": "stream",
     "text": [
      "Epoch 212/219:  93%|█████████▎| 2051/2215 [04:39<00:16, 10.14it/s, batch_loss=0.0006, avg_loss=0.0030]"
     ]
    },
    {
     "name": "stdout",
     "output_type": "stream",
     "text": [
      "\n",
      "Sequence lengths - Target: 53, ProteinA: 238\n",
      "Gradient norm: 0.2816\n"
     ]
    },
    {
     "name": "stderr",
     "output_type": "stream",
     "text": [
      "Epoch 212/219:  98%|█████████▊| 2161/2215 [04:53<00:05,  9.08it/s, batch_loss=0.0001, avg_loss=0.0035]"
     ]
    },
    {
     "name": "stdout",
     "output_type": "stream",
     "text": [
      "\n",
      "Sequence lengths - Target: 266, ProteinA: 165\n",
      "Gradient norm: 0.0104\n"
     ]
    },
    {
     "name": "stderr",
     "output_type": "stream",
     "text": [
      "                                                                                                      \r"
     ]
    },
    {
     "name": "stdout",
     "output_type": "stream",
     "text": [
      "\n",
      "Epoch [212/219] Summary:\n",
      "Average Loss: 0.0151\n",
      "Min Batch Loss: 0.0000\n",
      "Max Batch Loss: 0.5229\n",
      "GPU Memory allocated: 5.41 GB\n",
      "GPU Memory cached: 15.56 GB\n",
      "Checkpoint saved at epoch 212 to D:\\BALM Fineclone\\BALM-PPI\\scripts\\notebooks\\latest_checkpointcuratedmainATTPFT.pth\n"
     ]
    },
    {
     "name": "stderr",
     "output_type": "stream",
     "text": [
      "Epoch 213/219:   1%|          | 16/2215 [00:02<05:04,  7.21it/s, batch_loss=0.0233, avg_loss=0.0000]"
     ]
    },
    {
     "name": "stdout",
     "output_type": "stream",
     "text": [
      "\n",
      "Sequence lengths - Target: 1180, ProteinA: 940\n"
     ]
    },
    {
     "name": "stderr",
     "output_type": "stream",
     "text": [
      "Epoch 213/219:   1%|          | 17/2215 [00:03<09:37,  3.81it/s, batch_loss=0.0047, avg_loss=0.0001]"
     ]
    },
    {
     "name": "stdout",
     "output_type": "stream",
     "text": [
      "Gradient norm: 0.0437\n"
     ]
    },
    {
     "name": "stderr",
     "output_type": "stream",
     "text": [
      "Epoch 213/219:  24%|██▍       | 534/2215 [01:14<03:47,  7.40it/s, batch_loss=0.0323, avg_loss=0.0016]"
     ]
    },
    {
     "name": "stdout",
     "output_type": "stream",
     "text": [
      "\n",
      "Sequence lengths - Target: 129, ProteinA: 432\n",
      "Gradient norm: 0.0739\n"
     ]
    },
    {
     "name": "stderr",
     "output_type": "stream",
     "text": [
      "Epoch 213/219:  27%|██▋       | 593/2215 [01:24<04:25,  6.11it/s, batch_loss=0.0103, avg_loss=0.0093]"
     ]
    },
    {
     "name": "stdout",
     "output_type": "stream",
     "text": [
      "\n",
      "Sequence lengths - Target: 174, ProteinA: 597\n",
      "Gradient norm: 0.1035\n"
     ]
    },
    {
     "name": "stderr",
     "output_type": "stream",
     "text": [
      "Epoch 213/219:  35%|███▌      | 785/2215 [01:51<03:11,  7.46it/s, batch_loss=0.0033, avg_loss=0.0040]"
     ]
    },
    {
     "name": "stdout",
     "output_type": "stream",
     "text": [
      "\n",
      "Sequence lengths - Target: 475, ProteinA: 1288\n"
     ]
    },
    {
     "name": "stderr",
     "output_type": "stream",
     "text": [
      "Epoch 213/219:  35%|███▌      | 786/2215 [01:52<04:56,  4.81it/s, batch_loss=0.0011, avg_loss=0.0013]"
     ]
    },
    {
     "name": "stdout",
     "output_type": "stream",
     "text": [
      "Gradient norm: 0.0030\n"
     ]
    },
    {
     "name": "stderr",
     "output_type": "stream",
     "text": [
      "Epoch 213/219:  37%|███▋      | 826/2215 [01:57<03:19,  6.98it/s, batch_loss=0.0002, avg_loss=0.0011]"
     ]
    },
    {
     "name": "stdout",
     "output_type": "stream",
     "text": [
      "\n",
      "Sequence lengths - Target: 347, ProteinA: 432\n",
      "Gradient norm: 0.0071\n"
     ]
    },
    {
     "name": "stderr",
     "output_type": "stream",
     "text": [
      "Epoch 213/219:  38%|███▊      | 837/2215 [01:58<02:35,  8.83it/s, batch_loss=0.0012, avg_loss=0.1587]"
     ]
    },
    {
     "name": "stdout",
     "output_type": "stream",
     "text": [
      "\n",
      "Sequence lengths - Target: 167, ProteinA: 87\n",
      "Gradient norm: 0.0082\n"
     ]
    },
    {
     "name": "stderr",
     "output_type": "stream",
     "text": [
      "Epoch 213/219:  42%|████▏     | 938/2215 [02:13<02:54,  7.30it/s, batch_loss=0.1278, avg_loss=0.0025]"
     ]
    },
    {
     "name": "stdout",
     "output_type": "stream",
     "text": [
      "\n",
      "Sequence lengths - Target: 165, ProteinA: 262\n",
      "Gradient norm: 0.0913\n"
     ]
    },
    {
     "name": "stderr",
     "output_type": "stream",
     "text": [
      "Epoch 213/219:  44%|████▍     | 977/2215 [02:18<03:24,  6.05it/s, batch_loss=0.0001, avg_loss=0.0018]"
     ]
    },
    {
     "name": "stdout",
     "output_type": "stream",
     "text": [
      "\n",
      "Sequence lengths - Target: 223, ProteinA: 187\n",
      "Gradient norm: 0.0066\n"
     ]
    },
    {
     "name": "stderr",
     "output_type": "stream",
     "text": [
      "Epoch 213/219:  51%|█████▏    | 1138/2215 [02:39<02:33,  7.01it/s, batch_loss=0.0001, avg_loss=0.0038]"
     ]
    },
    {
     "name": "stdout",
     "output_type": "stream",
     "text": [
      "\n",
      "Sequence lengths - Target: 129, ProteinA: 429\n",
      "Gradient norm: 0.0036\n"
     ]
    },
    {
     "name": "stderr",
     "output_type": "stream",
     "text": [
      "Epoch 213/219:  55%|█████▌    | 1226/2215 [02:51<01:59,  8.28it/s, batch_loss=0.0009, avg_loss=0.1821]"
     ]
    },
    {
     "name": "stdout",
     "output_type": "stream",
     "text": [
      "\n",
      "Sequence lengths - Target: 436, ProteinA: 386\n",
      "Gradient norm: 0.0133\n"
     ]
    },
    {
     "name": "stderr",
     "output_type": "stream",
     "text": [
      "Epoch 213/219:  56%|█████▋    | 1248/2215 [02:54<01:48,  8.94it/s, batch_loss=0.0002, avg_loss=0.0018]"
     ]
    },
    {
     "name": "stdout",
     "output_type": "stream",
     "text": [
      "\n",
      "Sequence lengths - Target: 53, ProteinA: 238\n",
      "Gradient norm: 0.0368\n"
     ]
    },
    {
     "name": "stderr",
     "output_type": "stream",
     "text": [
      "Epoch 213/219:  60%|██████    | 1331/2215 [03:07<01:41,  8.75it/s, batch_loss=0.0008, avg_loss=0.0019]"
     ]
    },
    {
     "name": "stdout",
     "output_type": "stream",
     "text": [
      "\n",
      "Sequence lengths - Target: 126, ProteinA: 455\n",
      "Gradient norm: 0.0384\n"
     ]
    },
    {
     "name": "stderr",
     "output_type": "stream",
     "text": [
      "Epoch 213/219:  68%|██████▊   | 1512/2215 [03:33<01:14,  9.42it/s, batch_loss=0.0211, avg_loss=0.0021]"
     ]
    },
    {
     "name": "stdout",
     "output_type": "stream",
     "text": [
      "\n",
      "Sequence lengths - Target: 56, ProteinA: 218\n",
      "Gradient norm: 0.0312\n"
     ]
    },
    {
     "name": "stderr",
     "output_type": "stream",
     "text": [
      "Epoch 213/219:  70%|██████▉   | 1545/2215 [03:38<01:26,  7.79it/s, batch_loss=0.0000, avg_loss=0.0101]"
     ]
    },
    {
     "name": "stdout",
     "output_type": "stream",
     "text": [
      "\n",
      "Sequence lengths - Target: 338, ProteinA: 317\n",
      "Gradient norm: 0.0053\n"
     ]
    },
    {
     "name": "stderr",
     "output_type": "stream",
     "text": [
      "Epoch 213/219:  71%|███████▏  | 1582/2215 [03:42<01:23,  7.56it/s, batch_loss=0.0041, avg_loss=0.0034]"
     ]
    },
    {
     "name": "stdout",
     "output_type": "stream",
     "text": [
      "\n",
      "Sequence lengths - Target: 489, ProteinA: 30\n",
      "Gradient norm: 0.0526\n"
     ]
    },
    {
     "name": "stderr",
     "output_type": "stream",
     "text": [
      "Epoch 213/219:  73%|███████▎  | 1612/2215 [03:46<01:15,  7.97it/s, batch_loss=0.0359, avg_loss=0.0101]"
     ]
    },
    {
     "name": "stdout",
     "output_type": "stream",
     "text": [
      "\n",
      "Sequence lengths - Target: 126, ProteinA: 460\n",
      "Gradient norm: 0.1382\n"
     ]
    },
    {
     "name": "stderr",
     "output_type": "stream",
     "text": [
      "Epoch 213/219:  73%|███████▎  | 1620/2215 [03:47<01:20,  7.36it/s, batch_loss=0.0004, avg_loss=0.0075]"
     ]
    },
    {
     "name": "stdout",
     "output_type": "stream",
     "text": [
      "\n",
      "Sequence lengths - Target: 356, ProteinA: 122\n",
      "Gradient norm: 0.0131\n"
     ]
    },
    {
     "name": "stderr",
     "output_type": "stream",
     "text": [
      "Epoch 213/219:  76%|███████▋  | 1689/2215 [03:56<01:06,  7.88it/s, batch_loss=0.0016, avg_loss=0.0026]"
     ]
    },
    {
     "name": "stdout",
     "output_type": "stream",
     "text": [
      "\n",
      "Sequence lengths - Target: 61, ProteinA: 533\n",
      "Gradient norm: 0.0479\n"
     ]
    },
    {
     "name": "stderr",
     "output_type": "stream",
     "text": [
      "Epoch 213/219:  78%|███████▊  | 1718/2215 [04:01<00:54,  9.16it/s, batch_loss=0.0004, avg_loss=0.0026]"
     ]
    },
    {
     "name": "stdout",
     "output_type": "stream",
     "text": [
      "\n",
      "Sequence lengths - Target: 67, ProteinA: 104\n",
      "Gradient norm: 0.1498\n"
     ]
    },
    {
     "name": "stderr",
     "output_type": "stream",
     "text": [
      "Epoch 213/219:  84%|████████▍ | 1870/2215 [04:22<00:54,  6.30it/s, batch_loss=0.0006, avg_loss=0.0033]"
     ]
    },
    {
     "name": "stdout",
     "output_type": "stream",
     "text": [
      "\n",
      "Sequence lengths - Target: 72, ProteinA: 118\n",
      "Gradient norm: 0.0093\n"
     ]
    },
    {
     "name": "stderr",
     "output_type": "stream",
     "text": [
      "Epoch 213/219:  93%|█████████▎| 2051/2215 [04:44<00:15, 10.65it/s, batch_loss=0.0005, avg_loss=0.0030]"
     ]
    },
    {
     "name": "stdout",
     "output_type": "stream",
     "text": [
      "\n",
      "Sequence lengths - Target: 53, ProteinA: 238\n",
      "Gradient norm: 0.0027\n"
     ]
    },
    {
     "name": "stderr",
     "output_type": "stream",
     "text": [
      "Epoch 213/219:  98%|█████████▊| 2161/2215 [04:58<00:05,  9.11it/s, batch_loss=0.0007, avg_loss=0.0035]"
     ]
    },
    {
     "name": "stdout",
     "output_type": "stream",
     "text": [
      "\n",
      "Sequence lengths - Target: 266, ProteinA: 165\n",
      "Gradient norm: 0.0230\n"
     ]
    },
    {
     "name": "stderr",
     "output_type": "stream",
     "text": [
      "                                                                                                      \r"
     ]
    },
    {
     "name": "stdout",
     "output_type": "stream",
     "text": [
      "\n",
      "Epoch [213/219] Summary:\n",
      "Average Loss: 0.0149\n",
      "Min Batch Loss: 0.0000\n",
      "Max Batch Loss: 0.4940\n",
      "GPU Memory allocated: 5.41 GB\n",
      "GPU Memory cached: 15.56 GB\n",
      "Checkpoint saved at epoch 213 to D:\\BALM Fineclone\\BALM-PPI\\scripts\\notebooks\\latest_checkpointcuratedmainATTPFT.pth\n"
     ]
    },
    {
     "name": "stderr",
     "output_type": "stream",
     "text": [
      "Epoch 214/219:   1%|          | 16/2215 [00:02<05:02,  7.26it/s, batch_loss=0.0103, avg_loss=0.0000]"
     ]
    },
    {
     "name": "stdout",
     "output_type": "stream",
     "text": [
      "\n",
      "Sequence lengths - Target: 1180, ProteinA: 940\n"
     ]
    },
    {
     "name": "stderr",
     "output_type": "stream",
     "text": [
      "Epoch 214/219:   1%|          | 17/2215 [00:03<09:34,  3.82it/s, batch_loss=0.0130, avg_loss=0.0001]"
     ]
    },
    {
     "name": "stdout",
     "output_type": "stream",
     "text": [
      "Gradient norm: 0.0290\n"
     ]
    },
    {
     "name": "stderr",
     "output_type": "stream",
     "text": [
      "Epoch 214/219:  24%|██▍       | 534/2215 [01:10<03:17,  8.50it/s, batch_loss=0.0431, avg_loss=0.0017]"
     ]
    },
    {
     "name": "stdout",
     "output_type": "stream",
     "text": [
      "\n",
      "Sequence lengths - Target: 129, ProteinA: 432\n",
      "Gradient norm: 0.0907\n"
     ]
    },
    {
     "name": "stderr",
     "output_type": "stream",
     "text": [
      "Epoch 214/219:  27%|██▋       | 593/2215 [01:18<03:56,  6.86it/s, batch_loss=0.0067, avg_loss=0.0013]"
     ]
    },
    {
     "name": "stdout",
     "output_type": "stream",
     "text": [
      "\n",
      "Sequence lengths - Target: 174, ProteinA: 597\n",
      "Gradient norm: 0.0956\n"
     ]
    },
    {
     "name": "stderr",
     "output_type": "stream",
     "text": [
      "Epoch 214/219:  35%|███▌      | 785/2215 [01:45<03:14,  7.36it/s, batch_loss=0.0038, avg_loss=0.0040]"
     ]
    },
    {
     "name": "stdout",
     "output_type": "stream",
     "text": [
      "\n",
      "Sequence lengths - Target: 475, ProteinA: 1288\n"
     ]
    },
    {
     "name": "stderr",
     "output_type": "stream",
     "text": [
      "Epoch 214/219:  35%|███▌      | 786/2215 [01:46<04:59,  4.78it/s, batch_loss=0.0007, avg_loss=0.0013]"
     ]
    },
    {
     "name": "stdout",
     "output_type": "stream",
     "text": [
      "Gradient norm: 0.0443\n"
     ]
    },
    {
     "name": "stderr",
     "output_type": "stream",
     "text": [
      "Epoch 214/219:  37%|███▋      | 826/2215 [01:51<03:20,  6.94it/s, batch_loss=0.0000, avg_loss=0.0011]"
     ]
    },
    {
     "name": "stdout",
     "output_type": "stream",
     "text": [
      "\n",
      "Sequence lengths - Target: 347, ProteinA: 432\n",
      "Gradient norm: 0.0022\n"
     ]
    },
    {
     "name": "stderr",
     "output_type": "stream",
     "text": [
      "Epoch 214/219:  38%|███▊      | 837/2215 [01:53<02:36,  8.83it/s, batch_loss=0.0003, avg_loss=0.1583]"
     ]
    },
    {
     "name": "stdout",
     "output_type": "stream",
     "text": [
      "\n",
      "Sequence lengths - Target: 167, ProteinA: 87\n",
      "Gradient norm: 0.0273\n"
     ]
    },
    {
     "name": "stderr",
     "output_type": "stream",
     "text": [
      "Epoch 214/219:  42%|████▏     | 938/2215 [02:07<02:57,  7.21it/s, batch_loss=0.0500, avg_loss=0.0483]"
     ]
    },
    {
     "name": "stdout",
     "output_type": "stream",
     "text": [
      "\n",
      "Sequence lengths - Target: 165, ProteinA: 262\n",
      "Gradient norm: 0.0764\n"
     ]
    },
    {
     "name": "stderr",
     "output_type": "stream",
     "text": [
      "Epoch 214/219:  44%|████▍     | 977/2215 [02:12<03:25,  6.02it/s, batch_loss=0.0012, avg_loss=0.0019]"
     ]
    },
    {
     "name": "stdout",
     "output_type": "stream",
     "text": [
      "\n",
      "Sequence lengths - Target: 223, ProteinA: 187\n",
      "Gradient norm: 0.0329\n"
     ]
    },
    {
     "name": "stderr",
     "output_type": "stream",
     "text": [
      "Epoch 214/219:  51%|█████▏    | 1138/2215 [02:34<02:35,  6.94it/s, batch_loss=0.0002, avg_loss=0.0040]"
     ]
    },
    {
     "name": "stdout",
     "output_type": "stream",
     "text": [
      "\n",
      "Sequence lengths - Target: 129, ProteinA: 429\n",
      "Gradient norm: 0.0062\n"
     ]
    },
    {
     "name": "stderr",
     "output_type": "stream",
     "text": [
      "Epoch 214/219:  55%|█████▌    | 1226/2215 [02:46<02:01,  8.16it/s, batch_loss=0.0020, avg_loss=0.1947]"
     ]
    },
    {
     "name": "stdout",
     "output_type": "stream",
     "text": [
      "\n",
      "Sequence lengths - Target: 436, ProteinA: 386\n",
      "Gradient norm: 0.0236\n"
     ]
    },
    {
     "name": "stderr",
     "output_type": "stream",
     "text": [
      "Epoch 214/219:  56%|█████▋    | 1248/2215 [02:48<01:47,  9.01it/s, batch_loss=0.0178, avg_loss=0.0019]"
     ]
    },
    {
     "name": "stdout",
     "output_type": "stream",
     "text": [
      "\n",
      "Sequence lengths - Target: 53, ProteinA: 238\n",
      "Gradient norm: 0.2670\n"
     ]
    },
    {
     "name": "stderr",
     "output_type": "stream",
     "text": [
      "Epoch 214/219:  60%|██████    | 1331/2215 [03:02<01:40,  8.80it/s, batch_loss=0.0007, avg_loss=0.0020]"
     ]
    },
    {
     "name": "stdout",
     "output_type": "stream",
     "text": [
      "\n",
      "Sequence lengths - Target: 126, ProteinA: 455\n",
      "Gradient norm: 0.0336\n"
     ]
    },
    {
     "name": "stderr",
     "output_type": "stream",
     "text": [
      "Epoch 214/219:  68%|██████▊   | 1512/2215 [03:27<01:14,  9.42it/s, batch_loss=0.0192, avg_loss=0.0023]"
     ]
    },
    {
     "name": "stdout",
     "output_type": "stream",
     "text": [
      "\n",
      "Sequence lengths - Target: 56, ProteinA: 218\n",
      "Gradient norm: 0.0262\n"
     ]
    },
    {
     "name": "stderr",
     "output_type": "stream",
     "text": [
      "Epoch 214/219:  70%|██████▉   | 1545/2215 [03:32<01:26,  7.77it/s, batch_loss=0.0016, avg_loss=0.0108]"
     ]
    },
    {
     "name": "stdout",
     "output_type": "stream",
     "text": [
      "\n",
      "Sequence lengths - Target: 338, ProteinA: 317\n",
      "Gradient norm: 0.0453\n"
     ]
    },
    {
     "name": "stderr",
     "output_type": "stream",
     "text": [
      "Epoch 214/219:  71%|███████▏  | 1582/2215 [03:37<01:21,  7.79it/s, batch_loss=0.0006, avg_loss=0.0036]"
     ]
    },
    {
     "name": "stdout",
     "output_type": "stream",
     "text": [
      "\n",
      "Sequence lengths - Target: 489, ProteinA: 30\n",
      "Gradient norm: 0.0221\n"
     ]
    },
    {
     "name": "stderr",
     "output_type": "stream",
     "text": [
      "Epoch 214/219:  73%|███████▎  | 1612/2215 [03:40<01:15,  7.98it/s, batch_loss=0.0384, avg_loss=0.0106]"
     ]
    },
    {
     "name": "stdout",
     "output_type": "stream",
     "text": [
      "\n",
      "Sequence lengths - Target: 126, ProteinA: 460\n",
      "Gradient norm: 0.1541\n"
     ]
    },
    {
     "name": "stderr",
     "output_type": "stream",
     "text": [
      "Epoch 214/219:  73%|███████▎  | 1620/2215 [03:41<01:21,  7.33it/s, batch_loss=0.0001, avg_loss=0.0079]"
     ]
    },
    {
     "name": "stdout",
     "output_type": "stream",
     "text": [
      "\n",
      "Sequence lengths - Target: 356, ProteinA: 122\n",
      "Gradient norm: 0.0072\n"
     ]
    },
    {
     "name": "stderr",
     "output_type": "stream",
     "text": [
      "Epoch 214/219:  76%|███████▋  | 1689/2215 [03:51<01:06,  7.91it/s, batch_loss=0.0034, avg_loss=0.0027]"
     ]
    },
    {
     "name": "stdout",
     "output_type": "stream",
     "text": [
      "\n",
      "Sequence lengths - Target: 61, ProteinA: 533\n",
      "Gradient norm: 0.0533\n"
     ]
    },
    {
     "name": "stderr",
     "output_type": "stream",
     "text": [
      "Epoch 214/219:  78%|███████▊  | 1718/2215 [03:55<00:54,  9.17it/s, batch_loss=0.0016, avg_loss=0.0027]"
     ]
    },
    {
     "name": "stdout",
     "output_type": "stream",
     "text": [
      "\n",
      "Sequence lengths - Target: 67, ProteinA: 104\n",
      "Gradient norm: 0.0705\n"
     ]
    },
    {
     "name": "stderr",
     "output_type": "stream",
     "text": [
      "Epoch 214/219:  84%|████████▍ | 1870/2215 [04:16<00:55,  6.20it/s, batch_loss=0.0297, avg_loss=0.0034]"
     ]
    },
    {
     "name": "stdout",
     "output_type": "stream",
     "text": [
      "\n",
      "Sequence lengths - Target: 72, ProteinA: 118\n",
      "Gradient norm: 0.0287\n"
     ]
    },
    {
     "name": "stderr",
     "output_type": "stream",
     "text": [
      "Epoch 214/219:  93%|█████████▎| 2051/2215 [04:39<00:15, 10.57it/s, batch_loss=0.0005, avg_loss=0.0031]"
     ]
    },
    {
     "name": "stdout",
     "output_type": "stream",
     "text": [
      "\n",
      "Sequence lengths - Target: 53, ProteinA: 238\n",
      "Gradient norm: 0.0248\n"
     ]
    },
    {
     "name": "stderr",
     "output_type": "stream",
     "text": [
      "Epoch 214/219:  98%|█████████▊| 2161/2215 [04:52<00:05,  9.10it/s, batch_loss=0.0026, avg_loss=0.0036]"
     ]
    },
    {
     "name": "stdout",
     "output_type": "stream",
     "text": [
      "\n",
      "Sequence lengths - Target: 266, ProteinA: 165\n",
      "Gradient norm: 0.0397\n"
     ]
    },
    {
     "name": "stderr",
     "output_type": "stream",
     "text": [
      "                                                                                                      \r"
     ]
    },
    {
     "name": "stdout",
     "output_type": "stream",
     "text": [
      "\n",
      "Epoch [214/219] Summary:\n",
      "Average Loss: 0.0154\n",
      "Min Batch Loss: 0.0000\n",
      "Max Batch Loss: 1.0408\n",
      "GPU Memory allocated: 5.41 GB\n",
      "GPU Memory cached: 15.56 GB\n",
      "Checkpoint saved at epoch 214 to D:\\BALM Fineclone\\BALM-PPI\\scripts\\notebooks\\latest_checkpointcuratedmainATTPFT.pth\n"
     ]
    },
    {
     "name": "stderr",
     "output_type": "stream",
     "text": [
      "Epoch 215/219:   1%|          | 16/2215 [00:02<05:01,  7.29it/s, batch_loss=0.0013, avg_loss=0.0000]"
     ]
    },
    {
     "name": "stdout",
     "output_type": "stream",
     "text": [
      "\n",
      "Sequence lengths - Target: 1180, ProteinA: 940\n"
     ]
    },
    {
     "name": "stderr",
     "output_type": "stream",
     "text": [
      "Epoch 215/219:   1%|          | 17/2215 [00:03<09:32,  3.84it/s, batch_loss=0.0122, avg_loss=0.0001]"
     ]
    },
    {
     "name": "stdout",
     "output_type": "stream",
     "text": [
      "Gradient norm: 0.0326\n"
     ]
    },
    {
     "name": "stderr",
     "output_type": "stream",
     "text": [
      "Epoch 215/219:  24%|██▍       | 534/2215 [01:10<03:15,  8.60it/s, batch_loss=0.0339, avg_loss=0.0017]"
     ]
    },
    {
     "name": "stdout",
     "output_type": "stream",
     "text": [
      "\n",
      "Sequence lengths - Target: 129, ProteinA: 432\n",
      "Gradient norm: 0.0950\n"
     ]
    },
    {
     "name": "stderr",
     "output_type": "stream",
     "text": [
      "Epoch 215/219:  27%|██▋       | 593/2215 [01:18<03:56,  6.85it/s, batch_loss=0.0002, avg_loss=0.0014]"
     ]
    },
    {
     "name": "stdout",
     "output_type": "stream",
     "text": [
      "\n",
      "Sequence lengths - Target: 174, ProteinA: 597\n",
      "Gradient norm: 0.1582\n"
     ]
    },
    {
     "name": "stderr",
     "output_type": "stream",
     "text": [
      "Epoch 215/219:  35%|███▌      | 785/2215 [01:45<03:12,  7.44it/s, batch_loss=0.0073, avg_loss=0.0041]"
     ]
    },
    {
     "name": "stdout",
     "output_type": "stream",
     "text": [
      "\n",
      "Sequence lengths - Target: 475, ProteinA: 1288\n"
     ]
    },
    {
     "name": "stderr",
     "output_type": "stream",
     "text": [
      "Epoch 215/219:  35%|███▌      | 786/2215 [01:45<04:58,  4.79it/s, batch_loss=0.0034, avg_loss=0.0014]"
     ]
    },
    {
     "name": "stdout",
     "output_type": "stream",
     "text": [
      "Gradient norm: 0.0010\n"
     ]
    },
    {
     "name": "stderr",
     "output_type": "stream",
     "text": [
      "Epoch 215/219:  37%|███▋      | 827/2215 [01:51<03:30,  6.58it/s, batch_loss=0.0000, avg_loss=0.0011]"
     ]
    },
    {
     "name": "stdout",
     "output_type": "stream",
     "text": [
      "\n",
      "Sequence lengths - Target: 347, ProteinA: 432\n",
      "Gradient norm: 0.0008\n"
     ]
    },
    {
     "name": "stderr",
     "output_type": "stream",
     "text": [
      "Epoch 215/219:  38%|███▊      | 837/2215 [01:52<02:36,  8.79it/s, batch_loss=0.0002, avg_loss=0.1616]"
     ]
    },
    {
     "name": "stdout",
     "output_type": "stream",
     "text": [
      "\n",
      "Sequence lengths - Target: 167, ProteinA: 87\n",
      "Gradient norm: 0.0089\n"
     ]
    },
    {
     "name": "stderr",
     "output_type": "stream",
     "text": [
      "Epoch 215/219:  42%|████▏     | 938/2215 [02:07<02:55,  7.27it/s, batch_loss=0.0911, avg_loss=0.0025]"
     ]
    },
    {
     "name": "stdout",
     "output_type": "stream",
     "text": [
      "\n",
      "Sequence lengths - Target: 165, ProteinA: 262\n",
      "Gradient norm: 0.0991\n"
     ]
    },
    {
     "name": "stderr",
     "output_type": "stream",
     "text": [
      "Epoch 215/219:  44%|████▍     | 977/2215 [02:11<03:25,  6.03it/s, batch_loss=0.0001, avg_loss=0.0018]"
     ]
    },
    {
     "name": "stdout",
     "output_type": "stream",
     "text": [
      "\n",
      "Sequence lengths - Target: 223, ProteinA: 187\n",
      "Gradient norm: 0.0126\n"
     ]
    },
    {
     "name": "stderr",
     "output_type": "stream",
     "text": [
      "Epoch 215/219:  51%|█████▏    | 1138/2215 [02:33<02:34,  6.95it/s, batch_loss=0.0003, avg_loss=0.0038]"
     ]
    },
    {
     "name": "stdout",
     "output_type": "stream",
     "text": [
      "\n",
      "Sequence lengths - Target: 129, ProteinA: 429\n",
      "Gradient norm: 0.0068\n"
     ]
    },
    {
     "name": "stderr",
     "output_type": "stream",
     "text": [
      "Epoch 215/219:  55%|█████▌    | 1226/2215 [02:45<02:01,  8.17it/s, batch_loss=0.0000, avg_loss=0.1836]"
     ]
    },
    {
     "name": "stdout",
     "output_type": "stream",
     "text": [
      "\n",
      "Sequence lengths - Target: 436, ProteinA: 386\n",
      "Gradient norm: 0.0011\n"
     ]
    },
    {
     "name": "stderr",
     "output_type": "stream",
     "text": [
      "Epoch 215/219:  56%|█████▋    | 1248/2215 [02:48<01:49,  8.87it/s, batch_loss=0.0000, avg_loss=0.0018]"
     ]
    },
    {
     "name": "stdout",
     "output_type": "stream",
     "text": [
      "\n",
      "Sequence lengths - Target: 53, ProteinA: 238\n",
      "Gradient norm: 0.0038\n"
     ]
    },
    {
     "name": "stderr",
     "output_type": "stream",
     "text": [
      "Epoch 215/219:  60%|██████    | 1331/2215 [03:01<01:40,  8.81it/s, batch_loss=0.0000, avg_loss=0.0019]"
     ]
    },
    {
     "name": "stdout",
     "output_type": "stream",
     "text": [
      "\n",
      "Sequence lengths - Target: 126, ProteinA: 455\n",
      "Gradient norm: 0.0066\n"
     ]
    },
    {
     "name": "stderr",
     "output_type": "stream",
     "text": [
      "Epoch 215/219:  68%|██████▊   | 1512/2215 [03:27<01:14,  9.44it/s, batch_loss=0.0110, avg_loss=0.0022]"
     ]
    },
    {
     "name": "stdout",
     "output_type": "stream",
     "text": [
      "\n",
      "Sequence lengths - Target: 56, ProteinA: 218\n",
      "Gradient norm: 0.2006\n"
     ]
    },
    {
     "name": "stderr",
     "output_type": "stream",
     "text": [
      "Epoch 215/219:  70%|██████▉   | 1545/2215 [03:31<01:26,  7.77it/s, batch_loss=0.0036, avg_loss=0.0102]"
     ]
    },
    {
     "name": "stdout",
     "output_type": "stream",
     "text": [
      "\n",
      "Sequence lengths - Target: 338, ProteinA: 317\n",
      "Gradient norm: 0.0598\n"
     ]
    },
    {
     "name": "stderr",
     "output_type": "stream",
     "text": [
      "Epoch 215/219:  71%|███████▏  | 1582/2215 [03:36<01:21,  7.79it/s, batch_loss=0.0026, avg_loss=0.0034]"
     ]
    },
    {
     "name": "stdout",
     "output_type": "stream",
     "text": [
      "\n",
      "Sequence lengths - Target: 489, ProteinA: 30\n",
      "Gradient norm: 0.0414\n"
     ]
    },
    {
     "name": "stderr",
     "output_type": "stream",
     "text": [
      "Epoch 215/219:  73%|███████▎  | 1612/2215 [03:40<01:15,  7.94it/s, batch_loss=0.0148, avg_loss=0.0101]"
     ]
    },
    {
     "name": "stdout",
     "output_type": "stream",
     "text": [
      "\n",
      "Sequence lengths - Target: 126, ProteinA: 460\n",
      "Gradient norm: 0.1019\n"
     ]
    },
    {
     "name": "stderr",
     "output_type": "stream",
     "text": [
      "Epoch 215/219:  73%|███████▎  | 1620/2215 [03:41<01:21,  7.34it/s, batch_loss=0.0025, avg_loss=0.0075]"
     ]
    },
    {
     "name": "stdout",
     "output_type": "stream",
     "text": [
      "\n",
      "Sequence lengths - Target: 356, ProteinA: 122\n",
      "Gradient norm: 0.0330\n"
     ]
    },
    {
     "name": "stderr",
     "output_type": "stream",
     "text": [
      "Epoch 215/219:  76%|███████▋  | 1689/2215 [03:50<01:06,  7.90it/s, batch_loss=0.0054, avg_loss=0.0026]"
     ]
    },
    {
     "name": "stdout",
     "output_type": "stream",
     "text": [
      "\n",
      "Sequence lengths - Target: 61, ProteinA: 533\n",
      "Gradient norm: 0.0836\n"
     ]
    },
    {
     "name": "stderr",
     "output_type": "stream",
     "text": [
      "Epoch 215/219:  78%|███████▊  | 1718/2215 [03:55<00:54,  9.14it/s, batch_loss=0.0019, avg_loss=0.0026]"
     ]
    },
    {
     "name": "stdout",
     "output_type": "stream",
     "text": [
      "\n",
      "Sequence lengths - Target: 67, ProteinA: 104\n",
      "Gradient norm: 0.1121\n"
     ]
    },
    {
     "name": "stderr",
     "output_type": "stream",
     "text": [
      "Epoch 215/219:  84%|████████▍ | 1869/2215 [04:17<01:14,  4.64it/s, batch_loss=0.0067, avg_loss=0.0032]"
     ]
    },
    {
     "name": "stdout",
     "output_type": "stream",
     "text": [
      "\n",
      "Sequence lengths - Target: 72, ProteinA: 118\n",
      "Gradient norm: 0.0565\n"
     ]
    },
    {
     "name": "stderr",
     "output_type": "stream",
     "text": [
      "Epoch 215/219:  93%|█████████▎| 2051/2215 [04:43<00:15, 10.47it/s, batch_loss=0.0028, avg_loss=0.0030]"
     ]
    },
    {
     "name": "stdout",
     "output_type": "stream",
     "text": [
      "\n",
      "Sequence lengths - Target: 53, ProteinA: 238\n",
      "Gradient norm: 0.0223\n"
     ]
    },
    {
     "name": "stderr",
     "output_type": "stream",
     "text": [
      "Epoch 215/219:  98%|█████████▊| 2161/2215 [04:56<00:05,  9.13it/s, batch_loss=0.0025, avg_loss=0.0035]"
     ]
    },
    {
     "name": "stdout",
     "output_type": "stream",
     "text": [
      "\n",
      "Sequence lengths - Target: 266, ProteinA: 165\n",
      "Gradient norm: 0.0643\n"
     ]
    },
    {
     "name": "stderr",
     "output_type": "stream",
     "text": [
      "                                                                                                      \r"
     ]
    },
    {
     "name": "stdout",
     "output_type": "stream",
     "text": [
      "\n",
      "Epoch [215/219] Summary:\n",
      "Average Loss: 0.0149\n",
      "Min Batch Loss: 0.0000\n",
      "Max Batch Loss: 0.4854\n",
      "GPU Memory allocated: 5.41 GB\n",
      "GPU Memory cached: 15.56 GB\n",
      "Checkpoint saved at epoch 215 to D:\\BALM Fineclone\\BALM-PPI\\scripts\\notebooks\\latest_checkpointcuratedmainATTPFT.pth\n"
     ]
    },
    {
     "name": "stderr",
     "output_type": "stream",
     "text": [
      "Epoch 216/219:   1%|          | 16/2215 [00:02<05:03,  7.24it/s, batch_loss=0.0046, avg_loss=0.0000]"
     ]
    },
    {
     "name": "stdout",
     "output_type": "stream",
     "text": [
      "\n",
      "Sequence lengths - Target: 1180, ProteinA: 940\n"
     ]
    },
    {
     "name": "stderr",
     "output_type": "stream",
     "text": [
      "Epoch 216/219:   1%|          | 17/2215 [00:03<09:37,  3.81it/s, batch_loss=0.0298, avg_loss=0.0001]"
     ]
    },
    {
     "name": "stdout",
     "output_type": "stream",
     "text": [
      "Gradient norm: 0.0278\n"
     ]
    },
    {
     "name": "stderr",
     "output_type": "stream",
     "text": [
      "Epoch 216/219:  24%|██▍       | 534/2215 [01:10<03:12,  8.73it/s, batch_loss=0.0343, avg_loss=0.0017]"
     ]
    },
    {
     "name": "stdout",
     "output_type": "stream",
     "text": [
      "\n",
      "Sequence lengths - Target: 129, ProteinA: 432\n",
      "Gradient norm: 0.0755\n"
     ]
    },
    {
     "name": "stderr",
     "output_type": "stream",
     "text": [
      "Epoch 216/219:  27%|██▋       | 593/2215 [01:18<03:56,  6.85it/s, batch_loss=0.0008, avg_loss=0.0014]"
     ]
    },
    {
     "name": "stdout",
     "output_type": "stream",
     "text": [
      "\n",
      "Sequence lengths - Target: 174, ProteinA: 597\n",
      "Gradient norm: 0.2432\n"
     ]
    },
    {
     "name": "stderr",
     "output_type": "stream",
     "text": [
      "Epoch 216/219:  35%|███▌      | 785/2215 [01:45<03:13,  7.40it/s, batch_loss=0.0006, avg_loss=0.0041]"
     ]
    },
    {
     "name": "stdout",
     "output_type": "stream",
     "text": [
      "\n",
      "Sequence lengths - Target: 475, ProteinA: 1288\n"
     ]
    },
    {
     "name": "stderr",
     "output_type": "stream",
     "text": [
      "Epoch 216/219:  35%|███▌      | 786/2215 [01:45<04:58,  4.79it/s, batch_loss=0.0042, avg_loss=0.0014]"
     ]
    },
    {
     "name": "stdout",
     "output_type": "stream",
     "text": [
      "Gradient norm: 0.0323\n"
     ]
    },
    {
     "name": "stderr",
     "output_type": "stream",
     "text": [
      "Epoch 216/219:  37%|███▋      | 827/2215 [01:51<03:30,  6.58it/s, batch_loss=0.0000, avg_loss=0.0011]"
     ]
    },
    {
     "name": "stdout",
     "output_type": "stream",
     "text": [
      "\n",
      "Sequence lengths - Target: 347, ProteinA: 432\n",
      "Gradient norm: 0.0021\n"
     ]
    },
    {
     "name": "stderr",
     "output_type": "stream",
     "text": [
      "Epoch 216/219:  38%|███▊      | 837/2215 [01:52<02:36,  8.78it/s, batch_loss=0.0000, avg_loss=0.1619]"
     ]
    },
    {
     "name": "stdout",
     "output_type": "stream",
     "text": [
      "\n",
      "Sequence lengths - Target: 167, ProteinA: 87\n",
      "Gradient norm: 0.0107\n"
     ]
    },
    {
     "name": "stderr",
     "output_type": "stream",
     "text": [
      "Epoch 216/219:  42%|████▏     | 938/2215 [02:07<02:55,  7.28it/s, batch_loss=0.0707, avg_loss=0.0025]"
     ]
    },
    {
     "name": "stdout",
     "output_type": "stream",
     "text": [
      "\n",
      "Sequence lengths - Target: 165, ProteinA: 262\n",
      "Gradient norm: 0.0901\n"
     ]
    },
    {
     "name": "stderr",
     "output_type": "stream",
     "text": [
      "Epoch 216/219:  44%|████▍     | 977/2215 [02:11<03:25,  6.03it/s, batch_loss=0.0045, avg_loss=0.0018]"
     ]
    },
    {
     "name": "stdout",
     "output_type": "stream",
     "text": [
      "\n",
      "Sequence lengths - Target: 223, ProteinA: 187\n",
      "Gradient norm: 0.0438\n"
     ]
    },
    {
     "name": "stderr",
     "output_type": "stream",
     "text": [
      "Epoch 216/219:  51%|█████▏    | 1138/2215 [02:33<02:39,  6.74it/s, batch_loss=0.0003, avg_loss=0.0038]"
     ]
    },
    {
     "name": "stdout",
     "output_type": "stream",
     "text": [
      "\n",
      "Sequence lengths - Target: 129, ProteinA: 429\n",
      "Gradient norm: 0.0071\n"
     ]
    },
    {
     "name": "stderr",
     "output_type": "stream",
     "text": [
      "Epoch 216/219:  55%|█████▌    | 1226/2215 [02:45<02:01,  8.15it/s, batch_loss=0.0003, avg_loss=0.1839]"
     ]
    },
    {
     "name": "stdout",
     "output_type": "stream",
     "text": [
      "\n",
      "Sequence lengths - Target: 436, ProteinA: 386\n",
      "Gradient norm: 0.0081\n"
     ]
    },
    {
     "name": "stderr",
     "output_type": "stream",
     "text": [
      "Epoch 216/219:  56%|█████▋    | 1248/2215 [02:48<01:50,  8.78it/s, batch_loss=0.0062, avg_loss=0.0018]"
     ]
    },
    {
     "name": "stdout",
     "output_type": "stream",
     "text": [
      "\n",
      "Sequence lengths - Target: 53, ProteinA: 238\n",
      "Gradient norm: 0.1134\n"
     ]
    },
    {
     "name": "stderr",
     "output_type": "stream",
     "text": [
      "Epoch 216/219:  60%|██████    | 1331/2215 [03:01<01:40,  8.76it/s, batch_loss=0.0001, avg_loss=0.0019]"
     ]
    },
    {
     "name": "stdout",
     "output_type": "stream",
     "text": [
      "\n",
      "Sequence lengths - Target: 126, ProteinA: 455\n",
      "Gradient norm: 0.0124\n"
     ]
    },
    {
     "name": "stderr",
     "output_type": "stream",
     "text": [
      "Epoch 216/219:  68%|██████▊   | 1512/2215 [03:27<01:14,  9.39it/s, batch_loss=0.0247, avg_loss=0.0021]"
     ]
    },
    {
     "name": "stdout",
     "output_type": "stream",
     "text": [
      "\n",
      "Sequence lengths - Target: 56, ProteinA: 218\n",
      "Gradient norm: 0.0034\n"
     ]
    },
    {
     "name": "stderr",
     "output_type": "stream",
     "text": [
      "Epoch 216/219:  70%|██████▉   | 1545/2215 [03:32<01:26,  7.73it/s, batch_loss=0.0059, avg_loss=0.0101]"
     ]
    },
    {
     "name": "stdout",
     "output_type": "stream",
     "text": [
      "\n",
      "Sequence lengths - Target: 338, ProteinA: 317\n",
      "Gradient norm: 0.0762\n"
     ]
    },
    {
     "name": "stderr",
     "output_type": "stream",
     "text": [
      "Epoch 216/219:  71%|███████▏  | 1582/2215 [03:36<01:20,  7.82it/s, batch_loss=0.0000, avg_loss=0.0034]"
     ]
    },
    {
     "name": "stdout",
     "output_type": "stream",
     "text": [
      "\n",
      "Sequence lengths - Target: 489, ProteinA: 30\n",
      "Gradient norm: 0.0049\n"
     ]
    },
    {
     "name": "stderr",
     "output_type": "stream",
     "text": [
      "Epoch 216/219:  73%|███████▎  | 1612/2215 [03:40<01:16,  7.89it/s, batch_loss=0.0317, avg_loss=0.0099]"
     ]
    },
    {
     "name": "stdout",
     "output_type": "stream",
     "text": [
      "\n",
      "Sequence lengths - Target: 126, ProteinA: 460\n",
      "Gradient norm: 0.1389\n"
     ]
    },
    {
     "name": "stderr",
     "output_type": "stream",
     "text": [
      "Epoch 216/219:  73%|███████▎  | 1620/2215 [03:41<01:21,  7.33it/s, batch_loss=0.0042, avg_loss=0.0074]"
     ]
    },
    {
     "name": "stdout",
     "output_type": "stream",
     "text": [
      "\n",
      "Sequence lengths - Target: 356, ProteinA: 122\n",
      "Gradient norm: 0.0457\n"
     ]
    },
    {
     "name": "stderr",
     "output_type": "stream",
     "text": [
      "Epoch 216/219:  76%|███████▋  | 1689/2215 [03:50<01:06,  7.91it/s, batch_loss=0.0010, avg_loss=0.0025]"
     ]
    },
    {
     "name": "stdout",
     "output_type": "stream",
     "text": [
      "\n",
      "Sequence lengths - Target: 61, ProteinA: 533\n",
      "Gradient norm: 0.0231\n"
     ]
    },
    {
     "name": "stderr",
     "output_type": "stream",
     "text": [
      "Epoch 216/219:  78%|███████▊  | 1718/2215 [03:55<00:53,  9.21it/s, batch_loss=0.0029, avg_loss=0.0026]"
     ]
    },
    {
     "name": "stdout",
     "output_type": "stream",
     "text": [
      "\n",
      "Sequence lengths - Target: 67, ProteinA: 104\n",
      "Gradient norm: 0.1226\n"
     ]
    },
    {
     "name": "stderr",
     "output_type": "stream",
     "text": [
      "Epoch 216/219:  84%|████████▍ | 1870/2215 [04:16<00:54,  6.29it/s, batch_loss=0.0283, avg_loss=0.0033]"
     ]
    },
    {
     "name": "stdout",
     "output_type": "stream",
     "text": [
      "\n",
      "Sequence lengths - Target: 72, ProteinA: 118\n",
      "Gradient norm: 0.0696\n"
     ]
    },
    {
     "name": "stderr",
     "output_type": "stream",
     "text": [
      "Epoch 216/219:  93%|█████████▎| 2051/2215 [04:38<00:15, 10.53it/s, batch_loss=0.0019, avg_loss=0.0030]"
     ]
    },
    {
     "name": "stdout",
     "output_type": "stream",
     "text": [
      "\n",
      "Sequence lengths - Target: 53, ProteinA: 238\n",
      "Gradient norm: 0.2523\n"
     ]
    },
    {
     "name": "stderr",
     "output_type": "stream",
     "text": [
      "Epoch 216/219:  98%|█████████▊| 2161/2215 [04:52<00:05,  9.25it/s, batch_loss=0.0023, avg_loss=0.0036]"
     ]
    },
    {
     "name": "stdout",
     "output_type": "stream",
     "text": [
      "\n",
      "Sequence lengths - Target: 266, ProteinA: 165\n",
      "Gradient norm: 0.0386\n"
     ]
    },
    {
     "name": "stderr",
     "output_type": "stream",
     "text": [
      "                                                                                                      \r"
     ]
    },
    {
     "name": "stdout",
     "output_type": "stream",
     "text": [
      "\n",
      "Epoch [216/219] Summary:\n",
      "Average Loss: 0.0149\n",
      "Min Batch Loss: 0.0000\n",
      "Max Batch Loss: 0.5750\n",
      "GPU Memory allocated: 5.41 GB\n",
      "GPU Memory cached: 15.56 GB\n",
      "Checkpoint saved at epoch 216 to D:\\BALM Fineclone\\BALM-PPI\\scripts\\notebooks\\latest_checkpointcuratedmainATTPFT.pth\n"
     ]
    },
    {
     "name": "stderr",
     "output_type": "stream",
     "text": [
      "Epoch 217/219:   1%|          | 16/2215 [00:02<05:04,  7.22it/s, batch_loss=0.0050, avg_loss=0.0000]"
     ]
    },
    {
     "name": "stdout",
     "output_type": "stream",
     "text": [
      "\n",
      "Sequence lengths - Target: 1180, ProteinA: 940\n"
     ]
    },
    {
     "name": "stderr",
     "output_type": "stream",
     "text": [
      "Epoch 217/219:   1%|          | 17/2215 [00:03<09:37,  3.81it/s, batch_loss=0.0048, avg_loss=0.0001]"
     ]
    },
    {
     "name": "stdout",
     "output_type": "stream",
     "text": [
      "Gradient norm: 0.0361\n"
     ]
    },
    {
     "name": "stderr",
     "output_type": "stream",
     "text": [
      "Epoch 217/219:  24%|██▍       | 534/2215 [01:10<03:12,  8.72it/s, batch_loss=0.0344, avg_loss=0.0017]"
     ]
    },
    {
     "name": "stdout",
     "output_type": "stream",
     "text": [
      "\n",
      "Sequence lengths - Target: 129, ProteinA: 432\n",
      "Gradient norm: 0.0730\n"
     ]
    },
    {
     "name": "stderr",
     "output_type": "stream",
     "text": [
      "Epoch 217/219:  27%|██▋       | 593/2215 [01:19<04:00,  6.73it/s, batch_loss=0.0019, avg_loss=0.0014]"
     ]
    },
    {
     "name": "stdout",
     "output_type": "stream",
     "text": [
      "\n",
      "Sequence lengths - Target: 174, ProteinA: 597\n",
      "Gradient norm: 0.0689\n"
     ]
    },
    {
     "name": "stderr",
     "output_type": "stream",
     "text": [
      "Epoch 217/219:  35%|███▌      | 785/2215 [01:45<03:11,  7.46it/s, batch_loss=0.0004, avg_loss=0.0040]"
     ]
    },
    {
     "name": "stdout",
     "output_type": "stream",
     "text": [
      "\n",
      "Sequence lengths - Target: 475, ProteinA: 1288\n"
     ]
    },
    {
     "name": "stderr",
     "output_type": "stream",
     "text": [
      "Epoch 217/219:  35%|███▌      | 786/2215 [01:45<04:57,  4.81it/s, batch_loss=0.0001, avg_loss=0.0013]"
     ]
    },
    {
     "name": "stdout",
     "output_type": "stream",
     "text": [
      "Gradient norm: 0.0362\n"
     ]
    },
    {
     "name": "stderr",
     "output_type": "stream",
     "text": [
      "Epoch 217/219:  37%|███▋      | 827/2215 [01:51<03:31,  6.57it/s, batch_loss=0.0022, avg_loss=0.0011]"
     ]
    },
    {
     "name": "stdout",
     "output_type": "stream",
     "text": [
      "\n",
      "Sequence lengths - Target: 347, ProteinA: 432\n",
      "Gradient norm: 0.0272\n"
     ]
    },
    {
     "name": "stderr",
     "output_type": "stream",
     "text": [
      "Epoch 217/219:  38%|███▊      | 837/2215 [01:52<02:36,  8.82it/s, batch_loss=0.0059, avg_loss=0.1580]"
     ]
    },
    {
     "name": "stdout",
     "output_type": "stream",
     "text": [
      "\n",
      "Sequence lengths - Target: 167, ProteinA: 87\n",
      "Gradient norm: 0.0053\n"
     ]
    },
    {
     "name": "stderr",
     "output_type": "stream",
     "text": [
      "Epoch 217/219:  42%|████▏     | 938/2215 [02:07<02:56,  7.24it/s, batch_loss=0.0476, avg_loss=0.0464]"
     ]
    },
    {
     "name": "stdout",
     "output_type": "stream",
     "text": [
      "\n",
      "Sequence lengths - Target: 165, ProteinA: 262\n",
      "Gradient norm: 0.0856\n"
     ]
    },
    {
     "name": "stderr",
     "output_type": "stream",
     "text": [
      "Epoch 217/219:  44%|████▍     | 977/2215 [02:11<03:25,  6.01it/s, batch_loss=0.0004, avg_loss=0.0018]"
     ]
    },
    {
     "name": "stdout",
     "output_type": "stream",
     "text": [
      "\n",
      "Sequence lengths - Target: 223, ProteinA: 187\n",
      "Gradient norm: 0.0211\n"
     ]
    },
    {
     "name": "stderr",
     "output_type": "stream",
     "text": [
      "Epoch 217/219:  51%|█████▏    | 1138/2215 [02:33<02:40,  6.72it/s, batch_loss=0.0001, avg_loss=0.0038]"
     ]
    },
    {
     "name": "stdout",
     "output_type": "stream",
     "text": [
      "\n",
      "Sequence lengths - Target: 129, ProteinA: 429\n",
      "Gradient norm: 0.0032\n"
     ]
    },
    {
     "name": "stderr",
     "output_type": "stream",
     "text": [
      "Epoch 217/219:  55%|█████▌    | 1226/2215 [02:46<02:01,  8.17it/s, batch_loss=0.0016, avg_loss=0.1829]"
     ]
    },
    {
     "name": "stdout",
     "output_type": "stream",
     "text": [
      "\n",
      "Sequence lengths - Target: 436, ProteinA: 386\n",
      "Gradient norm: 0.0184\n"
     ]
    },
    {
     "name": "stderr",
     "output_type": "stream",
     "text": [
      "Epoch 217/219:  56%|█████▋    | 1248/2215 [02:48<01:48,  8.94it/s, batch_loss=0.0115, avg_loss=0.0018]"
     ]
    },
    {
     "name": "stdout",
     "output_type": "stream",
     "text": [
      "\n",
      "Sequence lengths - Target: 53, ProteinA: 238\n",
      "Gradient norm: 0.1525\n"
     ]
    },
    {
     "name": "stderr",
     "output_type": "stream",
     "text": [
      "Epoch 217/219:  60%|██████    | 1331/2215 [03:02<01:42,  8.62it/s, batch_loss=0.0068, avg_loss=0.0019]"
     ]
    },
    {
     "name": "stdout",
     "output_type": "stream",
     "text": [
      "\n",
      "Sequence lengths - Target: 126, ProteinA: 455\n",
      "Gradient norm: 0.1175\n"
     ]
    },
    {
     "name": "stderr",
     "output_type": "stream",
     "text": [
      "Epoch 217/219:  68%|██████▊   | 1512/2215 [03:27<01:15,  9.29it/s, batch_loss=0.0224, avg_loss=0.0022]"
     ]
    },
    {
     "name": "stdout",
     "output_type": "stream",
     "text": [
      "\n",
      "Sequence lengths - Target: 56, ProteinA: 218\n",
      "Gradient norm: 0.0589\n"
     ]
    },
    {
     "name": "stderr",
     "output_type": "stream",
     "text": [
      "Epoch 217/219:  70%|██████▉   | 1545/2215 [03:32<01:26,  7.71it/s, batch_loss=0.0021, avg_loss=0.0102]"
     ]
    },
    {
     "name": "stdout",
     "output_type": "stream",
     "text": [
      "\n",
      "Sequence lengths - Target: 338, ProteinA: 317\n",
      "Gradient norm: 0.0616\n"
     ]
    },
    {
     "name": "stderr",
     "output_type": "stream",
     "text": [
      "Epoch 217/219:  71%|███████▏  | 1582/2215 [03:37<01:21,  7.78it/s, batch_loss=0.0025, avg_loss=0.0035]"
     ]
    },
    {
     "name": "stdout",
     "output_type": "stream",
     "text": [
      "\n",
      "Sequence lengths - Target: 489, ProteinA: 30\n",
      "Gradient norm: 0.0549\n"
     ]
    },
    {
     "name": "stderr",
     "output_type": "stream",
     "text": [
      "Epoch 217/219:  73%|███████▎  | 1612/2215 [03:40<01:16,  7.92it/s, batch_loss=0.0398, avg_loss=0.0102]"
     ]
    },
    {
     "name": "stdout",
     "output_type": "stream",
     "text": [
      "\n",
      "Sequence lengths - Target: 126, ProteinA: 460\n",
      "Gradient norm: 0.1763\n"
     ]
    },
    {
     "name": "stderr",
     "output_type": "stream",
     "text": [
      "Epoch 217/219:  73%|███████▎  | 1620/2215 [03:41<01:21,  7.29it/s, batch_loss=0.0000, avg_loss=0.0076]"
     ]
    },
    {
     "name": "stdout",
     "output_type": "stream",
     "text": [
      "\n",
      "Sequence lengths - Target: 356, ProteinA: 122\n",
      "Gradient norm: 0.0049\n"
     ]
    },
    {
     "name": "stderr",
     "output_type": "stream",
     "text": [
      "Epoch 217/219:  76%|███████▋  | 1689/2215 [03:51<01:07,  7.82it/s, batch_loss=0.0019, avg_loss=0.0026]"
     ]
    },
    {
     "name": "stdout",
     "output_type": "stream",
     "text": [
      "\n",
      "Sequence lengths - Target: 61, ProteinA: 533\n",
      "Gradient norm: 0.0422\n"
     ]
    },
    {
     "name": "stderr",
     "output_type": "stream",
     "text": [
      "Epoch 217/219:  78%|███████▊  | 1718/2215 [03:55<00:54,  9.14it/s, batch_loss=0.0074, avg_loss=0.0026]"
     ]
    },
    {
     "name": "stdout",
     "output_type": "stream",
     "text": [
      "\n",
      "Sequence lengths - Target: 67, ProteinA: 104\n",
      "Gradient norm: 0.0213\n"
     ]
    },
    {
     "name": "stderr",
     "output_type": "stream",
     "text": [
      "Epoch 217/219:  84%|████████▍ | 1870/2215 [04:16<00:54,  6.27it/s, batch_loss=0.0100, avg_loss=0.0033]"
     ]
    },
    {
     "name": "stdout",
     "output_type": "stream",
     "text": [
      "\n",
      "Sequence lengths - Target: 72, ProteinA: 118\n",
      "Gradient norm: 0.0423\n"
     ]
    },
    {
     "name": "stderr",
     "output_type": "stream",
     "text": [
      "Epoch 217/219:  93%|█████████▎| 2051/2215 [04:39<00:15, 10.43it/s, batch_loss=0.0008, avg_loss=0.0030]"
     ]
    },
    {
     "name": "stdout",
     "output_type": "stream",
     "text": [
      "\n",
      "Sequence lengths - Target: 53, ProteinA: 238\n",
      "Gradient norm: 0.1184\n"
     ]
    },
    {
     "name": "stderr",
     "output_type": "stream",
     "text": [
      "Epoch 217/219:  98%|█████████▊| 2161/2215 [04:52<00:05,  9.09it/s, batch_loss=0.0013, avg_loss=0.0035]"
     ]
    },
    {
     "name": "stdout",
     "output_type": "stream",
     "text": [
      "\n",
      "Sequence lengths - Target: 266, ProteinA: 165\n",
      "Gradient norm: 0.0359\n"
     ]
    },
    {
     "name": "stderr",
     "output_type": "stream",
     "text": [
      "                                                                                                      \r"
     ]
    },
    {
     "name": "stdout",
     "output_type": "stream",
     "text": [
      "\n",
      "Epoch [217/219] Summary:\n",
      "Average Loss: 0.0150\n",
      "Min Batch Loss: 0.0000\n",
      "Max Batch Loss: 0.7839\n",
      "GPU Memory allocated: 5.41 GB\n",
      "GPU Memory cached: 15.56 GB\n",
      "Checkpoint saved at epoch 217 to D:\\BALM Fineclone\\BALM-PPI\\scripts\\notebooks\\latest_checkpointcuratedmainATTPFT.pth\n"
     ]
    },
    {
     "name": "stderr",
     "output_type": "stream",
     "text": [
      "Epoch 218/219:   1%|          | 16/2215 [00:02<05:03,  7.24it/s, batch_loss=0.0001, avg_loss=0.0000]"
     ]
    },
    {
     "name": "stdout",
     "output_type": "stream",
     "text": [
      "\n",
      "Sequence lengths - Target: 1180, ProteinA: 940\n"
     ]
    },
    {
     "name": "stderr",
     "output_type": "stream",
     "text": [
      "Epoch 218/219:   1%|          | 17/2215 [00:03<09:37,  3.80it/s, batch_loss=0.0027, avg_loss=0.0000]"
     ]
    },
    {
     "name": "stdout",
     "output_type": "stream",
     "text": [
      "Gradient norm: 0.0310\n"
     ]
    },
    {
     "name": "stderr",
     "output_type": "stream",
     "text": [
      "Epoch 218/219:  24%|██▍       | 534/2215 [01:10<03:12,  8.71it/s, batch_loss=0.0312, avg_loss=0.0015]"
     ]
    },
    {
     "name": "stdout",
     "output_type": "stream",
     "text": [
      "\n",
      "Sequence lengths - Target: 129, ProteinA: 432\n",
      "Gradient norm: 0.0721\n"
     ]
    },
    {
     "name": "stderr",
     "output_type": "stream",
     "text": [
      "Epoch 218/219:  27%|██▋       | 593/2215 [01:18<03:59,  6.78it/s, batch_loss=0.0008, avg_loss=0.0013]"
     ]
    },
    {
     "name": "stdout",
     "output_type": "stream",
     "text": [
      "\n",
      "Sequence lengths - Target: 174, ProteinA: 597\n",
      "Gradient norm: 0.1239\n"
     ]
    },
    {
     "name": "stderr",
     "output_type": "stream",
     "text": [
      "Epoch 218/219:  35%|███▌      | 785/2215 [01:45<03:11,  7.47it/s, batch_loss=0.0000, avg_loss=0.0039]"
     ]
    },
    {
     "name": "stdout",
     "output_type": "stream",
     "text": [
      "\n",
      "Sequence lengths - Target: 475, ProteinA: 1288\n"
     ]
    },
    {
     "name": "stderr",
     "output_type": "stream",
     "text": [
      "Epoch 218/219:  35%|███▌      | 786/2215 [01:45<04:57,  4.80it/s, batch_loss=0.0033, avg_loss=0.0013]"
     ]
    },
    {
     "name": "stdout",
     "output_type": "stream",
     "text": [
      "Gradient norm: 0.0100\n"
     ]
    },
    {
     "name": "stderr",
     "output_type": "stream",
     "text": [
      "Epoch 218/219:  37%|███▋      | 826/2215 [01:51<03:19,  6.97it/s, batch_loss=0.0000, avg_loss=0.0010]"
     ]
    },
    {
     "name": "stdout",
     "output_type": "stream",
     "text": [
      "\n",
      "Sequence lengths - Target: 347, ProteinA: 432\n",
      "Gradient norm: 0.0035\n"
     ]
    },
    {
     "name": "stderr",
     "output_type": "stream",
     "text": [
      "Epoch 218/219:  38%|███▊      | 837/2215 [01:52<02:36,  8.82it/s, batch_loss=0.0013, avg_loss=0.1538]"
     ]
    },
    {
     "name": "stdout",
     "output_type": "stream",
     "text": [
      "\n",
      "Sequence lengths - Target: 167, ProteinA: 87\n",
      "Gradient norm: 0.0073\n"
     ]
    },
    {
     "name": "stderr",
     "output_type": "stream",
     "text": [
      "Epoch 218/219:  42%|████▏     | 938/2215 [02:06<02:56,  7.23it/s, batch_loss=0.0721, avg_loss=0.0442]"
     ]
    },
    {
     "name": "stdout",
     "output_type": "stream",
     "text": [
      "\n",
      "Sequence lengths - Target: 165, ProteinA: 262\n",
      "Gradient norm: 0.0974\n"
     ]
    },
    {
     "name": "stderr",
     "output_type": "stream",
     "text": [
      "Epoch 218/219:  44%|████▍     | 977/2215 [02:11<03:25,  6.03it/s, batch_loss=0.0011, avg_loss=0.0017]"
     ]
    },
    {
     "name": "stdout",
     "output_type": "stream",
     "text": [
      "\n",
      "Sequence lengths - Target: 223, ProteinA: 187\n",
      "Gradient norm: 0.0386\n"
     ]
    },
    {
     "name": "stderr",
     "output_type": "stream",
     "text": [
      "Epoch 218/219:  51%|█████▏    | 1138/2215 [02:33<02:35,  6.91it/s, batch_loss=0.0001, avg_loss=0.0037]"
     ]
    },
    {
     "name": "stdout",
     "output_type": "stream",
     "text": [
      "\n",
      "Sequence lengths - Target: 129, ProteinA: 429\n",
      "Gradient norm: 0.0038\n"
     ]
    },
    {
     "name": "stderr",
     "output_type": "stream",
     "text": [
      "Epoch 218/219:  55%|█████▌    | 1226/2215 [02:45<02:01,  8.17it/s, batch_loss=0.0007, avg_loss=0.1812]"
     ]
    },
    {
     "name": "stdout",
     "output_type": "stream",
     "text": [
      "\n",
      "Sequence lengths - Target: 436, ProteinA: 386\n",
      "Gradient norm: 0.0116\n"
     ]
    },
    {
     "name": "stderr",
     "output_type": "stream",
     "text": [
      "Epoch 218/219:  56%|█████▋    | 1248/2215 [02:48<01:47,  9.01it/s, batch_loss=0.0243, avg_loss=0.0018]"
     ]
    },
    {
     "name": "stdout",
     "output_type": "stream",
     "text": [
      "\n",
      "Sequence lengths - Target: 53, ProteinA: 238\n",
      "Gradient norm: 0.4076\n"
     ]
    },
    {
     "name": "stderr",
     "output_type": "stream",
     "text": [
      "Epoch 218/219:  60%|██████    | 1331/2215 [03:01<01:40,  8.80it/s, batch_loss=0.0003, avg_loss=0.0019]"
     ]
    },
    {
     "name": "stdout",
     "output_type": "stream",
     "text": [
      "\n",
      "Sequence lengths - Target: 126, ProteinA: 455\n",
      "Gradient norm: 0.0228\n"
     ]
    },
    {
     "name": "stderr",
     "output_type": "stream",
     "text": [
      "Epoch 218/219:  68%|██████▊   | 1512/2215 [03:27<01:16,  9.20it/s, batch_loss=0.0109, avg_loss=0.0022]"
     ]
    },
    {
     "name": "stdout",
     "output_type": "stream",
     "text": [
      "\n",
      "Sequence lengths - Target: 56, ProteinA: 218\n",
      "Gradient norm: 0.3021\n"
     ]
    },
    {
     "name": "stderr",
     "output_type": "stream",
     "text": [
      "Epoch 218/219:  70%|██████▉   | 1545/2215 [03:31<01:26,  7.75it/s, batch_loss=0.0000, avg_loss=0.0103]"
     ]
    },
    {
     "name": "stdout",
     "output_type": "stream",
     "text": [
      "\n",
      "Sequence lengths - Target: 338, ProteinA: 317\n",
      "Gradient norm: 0.0064\n"
     ]
    },
    {
     "name": "stderr",
     "output_type": "stream",
     "text": [
      "Epoch 218/219:  71%|███████▏  | 1582/2215 [03:36<01:22,  7.72it/s, batch_loss=0.0079, avg_loss=0.0034]"
     ]
    },
    {
     "name": "stdout",
     "output_type": "stream",
     "text": [
      "\n",
      "Sequence lengths - Target: 489, ProteinA: 30\n",
      "Gradient norm: 0.0919\n"
     ]
    },
    {
     "name": "stderr",
     "output_type": "stream",
     "text": [
      "Epoch 218/219:  73%|███████▎  | 1612/2215 [03:40<01:16,  7.91it/s, batch_loss=0.0118, avg_loss=0.0102]"
     ]
    },
    {
     "name": "stdout",
     "output_type": "stream",
     "text": [
      "\n",
      "Sequence lengths - Target: 126, ProteinA: 460\n",
      "Gradient norm: 0.1126\n"
     ]
    },
    {
     "name": "stderr",
     "output_type": "stream",
     "text": [
      "Epoch 218/219:  73%|███████▎  | 1620/2215 [03:41<01:21,  7.34it/s, batch_loss=0.0003, avg_loss=0.0076]"
     ]
    },
    {
     "name": "stdout",
     "output_type": "stream",
     "text": [
      "\n",
      "Sequence lengths - Target: 356, ProteinA: 122\n",
      "Gradient norm: 0.0113\n"
     ]
    },
    {
     "name": "stderr",
     "output_type": "stream",
     "text": [
      "Epoch 218/219:  76%|███████▋  | 1689/2215 [03:50<01:06,  7.89it/s, batch_loss=0.0000, avg_loss=0.0026]"
     ]
    },
    {
     "name": "stdout",
     "output_type": "stream",
     "text": [
      "\n",
      "Sequence lengths - Target: 61, ProteinA: 533\n",
      "Gradient norm: 0.0066\n"
     ]
    },
    {
     "name": "stderr",
     "output_type": "stream",
     "text": [
      "Epoch 218/219:  78%|███████▊  | 1718/2215 [03:55<00:54,  9.15it/s, batch_loss=0.0216, avg_loss=0.0026]"
     ]
    },
    {
     "name": "stdout",
     "output_type": "stream",
     "text": [
      "\n",
      "Sequence lengths - Target: 67, ProteinA: 104\n",
      "Gradient norm: 0.0625\n"
     ]
    },
    {
     "name": "stderr",
     "output_type": "stream",
     "text": [
      "Epoch 218/219:  84%|████████▍ | 1870/2215 [04:16<00:54,  6.29it/s, batch_loss=0.0103, avg_loss=0.0033]"
     ]
    },
    {
     "name": "stdout",
     "output_type": "stream",
     "text": [
      "\n",
      "Sequence lengths - Target: 72, ProteinA: 118\n",
      "Gradient norm: 0.0630\n"
     ]
    },
    {
     "name": "stderr",
     "output_type": "stream",
     "text": [
      "Epoch 218/219:  93%|█████████▎| 2051/2215 [04:38<00:15, 10.55it/s, batch_loss=0.0004, avg_loss=0.0030]"
     ]
    },
    {
     "name": "stdout",
     "output_type": "stream",
     "text": [
      "\n",
      "Sequence lengths - Target: 53, ProteinA: 238\n",
      "Gradient norm: 0.0324\n"
     ]
    },
    {
     "name": "stderr",
     "output_type": "stream",
     "text": [
      "Epoch 218/219:  98%|█████████▊| 2161/2215 [04:52<00:05,  9.07it/s, batch_loss=0.0017, avg_loss=0.0035]"
     ]
    },
    {
     "name": "stdout",
     "output_type": "stream",
     "text": [
      "\n",
      "Sequence lengths - Target: 266, ProteinA: 165\n",
      "Gradient norm: 0.0324\n"
     ]
    },
    {
     "name": "stderr",
     "output_type": "stream",
     "text": [
      "                                                                                                      \r"
     ]
    },
    {
     "name": "stdout",
     "output_type": "stream",
     "text": [
      "\n",
      "Epoch [218/219] Summary:\n",
      "Average Loss: 0.0149\n",
      "Min Batch Loss: 0.0000\n",
      "Max Batch Loss: 0.4526\n",
      "GPU Memory allocated: 5.41 GB\n",
      "GPU Memory cached: 15.56 GB\n",
      "Checkpoint saved at epoch 218 to D:\\BALM Fineclone\\BALM-PPI\\scripts\\notebooks\\latest_checkpointcuratedmainATTPFT.pth\n"
     ]
    },
    {
     "name": "stderr",
     "output_type": "stream",
     "text": [
      "Epoch 219/219:   1%|          | 16/2215 [00:02<05:03,  7.24it/s, batch_loss=0.0003, avg_loss=0.0000]"
     ]
    },
    {
     "name": "stdout",
     "output_type": "stream",
     "text": [
      "\n",
      "Sequence lengths - Target: 1180, ProteinA: 940\n"
     ]
    },
    {
     "name": "stderr",
     "output_type": "stream",
     "text": [
      "Epoch 219/219:   1%|          | 17/2215 [00:03<09:37,  3.81it/s, batch_loss=0.0222, avg_loss=0.0001]"
     ]
    },
    {
     "name": "stdout",
     "output_type": "stream",
     "text": [
      "Gradient norm: 0.0315\n"
     ]
    },
    {
     "name": "stderr",
     "output_type": "stream",
     "text": [
      "Epoch 219/219:  24%|██▍       | 534/2215 [01:10<03:14,  8.66it/s, batch_loss=0.0541, avg_loss=0.0016]"
     ]
    },
    {
     "name": "stdout",
     "output_type": "stream",
     "text": [
      "\n",
      "Sequence lengths - Target: 129, ProteinA: 432\n",
      "Gradient norm: 0.1056\n"
     ]
    },
    {
     "name": "stderr",
     "output_type": "stream",
     "text": [
      "Epoch 219/219:  27%|██▋       | 593/2215 [01:18<03:56,  6.86it/s, batch_loss=0.0008, avg_loss=0.0013]"
     ]
    },
    {
     "name": "stdout",
     "output_type": "stream",
     "text": [
      "\n",
      "Sequence lengths - Target: 174, ProteinA: 597\n",
      "Gradient norm: 0.0110\n"
     ]
    },
    {
     "name": "stderr",
     "output_type": "stream",
     "text": [
      "Epoch 219/219:  35%|███▌      | 785/2215 [01:44<03:10,  7.51it/s, batch_loss=0.0021, avg_loss=0.0038]"
     ]
    },
    {
     "name": "stdout",
     "output_type": "stream",
     "text": [
      "\n",
      "Sequence lengths - Target: 475, ProteinA: 1288\n"
     ]
    },
    {
     "name": "stderr",
     "output_type": "stream",
     "text": [
      "Epoch 219/219:  35%|███▌      | 786/2215 [01:45<04:56,  4.82it/s, batch_loss=0.0015, avg_loss=0.0013]"
     ]
    },
    {
     "name": "stdout",
     "output_type": "stream",
     "text": [
      "Gradient norm: 0.0214\n"
     ]
    },
    {
     "name": "stderr",
     "output_type": "stream",
     "text": [
      "Epoch 219/219:  37%|███▋      | 827/2215 [01:51<03:30,  6.58it/s, batch_loss=0.0004, avg_loss=0.0010]"
     ]
    },
    {
     "name": "stdout",
     "output_type": "stream",
     "text": [
      "\n",
      "Sequence lengths - Target: 347, ProteinA: 432\n",
      "Gradient norm: 0.0119\n"
     ]
    },
    {
     "name": "stderr",
     "output_type": "stream",
     "text": [
      "Epoch 219/219:  38%|███▊      | 837/2215 [01:52<02:35,  8.85it/s, batch_loss=0.0032, avg_loss=0.1515]"
     ]
    },
    {
     "name": "stdout",
     "output_type": "stream",
     "text": [
      "\n",
      "Sequence lengths - Target: 167, ProteinA: 87\n",
      "Gradient norm: 0.0046\n"
     ]
    },
    {
     "name": "stderr",
     "output_type": "stream",
     "text": [
      "Epoch 219/219:  42%|████▏     | 938/2215 [02:06<02:55,  7.26it/s, batch_loss=0.0608, avg_loss=0.0441]"
     ]
    },
    {
     "name": "stdout",
     "output_type": "stream",
     "text": [
      "\n",
      "Sequence lengths - Target: 165, ProteinA: 262\n",
      "Gradient norm: 0.0850\n"
     ]
    },
    {
     "name": "stderr",
     "output_type": "stream",
     "text": [
      "Epoch 219/219:  44%|████▍     | 977/2215 [02:11<03:25,  6.02it/s, batch_loss=0.0011, avg_loss=0.0017]"
     ]
    },
    {
     "name": "stdout",
     "output_type": "stream",
     "text": [
      "\n",
      "Sequence lengths - Target: 223, ProteinA: 187\n",
      "Gradient norm: 0.0366\n"
     ]
    },
    {
     "name": "stderr",
     "output_type": "stream",
     "text": [
      "Epoch 219/219:  51%|█████▏    | 1138/2215 [02:33<02:34,  6.98it/s, batch_loss=0.0026, avg_loss=0.0036]"
     ]
    },
    {
     "name": "stdout",
     "output_type": "stream",
     "text": [
      "\n",
      "Sequence lengths - Target: 129, ProteinA: 429\n",
      "Gradient norm: 0.0224\n"
     ]
    },
    {
     "name": "stderr",
     "output_type": "stream",
     "text": [
      "Epoch 219/219:  55%|█████▌    | 1226/2215 [02:45<02:00,  8.18it/s, batch_loss=0.0014, avg_loss=0.1729]"
     ]
    },
    {
     "name": "stdout",
     "output_type": "stream",
     "text": [
      "\n",
      "Sequence lengths - Target: 436, ProteinA: 386\n",
      "Gradient norm: 0.0192\n"
     ]
    },
    {
     "name": "stderr",
     "output_type": "stream",
     "text": [
      "Epoch 219/219:  56%|█████▋    | 1248/2215 [02:47<01:47,  8.98it/s, batch_loss=0.0029, avg_loss=0.0017]"
     ]
    },
    {
     "name": "stdout",
     "output_type": "stream",
     "text": [
      "\n",
      "Sequence lengths - Target: 53, ProteinA: 238\n",
      "Gradient norm: 0.0967\n"
     ]
    },
    {
     "name": "stderr",
     "output_type": "stream",
     "text": [
      "Epoch 219/219:  60%|██████    | 1331/2215 [03:01<01:41,  8.69it/s, batch_loss=0.0071, avg_loss=0.0018]"
     ]
    },
    {
     "name": "stdout",
     "output_type": "stream",
     "text": [
      "\n",
      "Sequence lengths - Target: 126, ProteinA: 455\n",
      "Gradient norm: 0.1196\n"
     ]
    },
    {
     "name": "stderr",
     "output_type": "stream",
     "text": [
      "Epoch 219/219:  68%|██████▊   | 1512/2215 [03:26<01:14,  9.38it/s, batch_loss=0.0348, avg_loss=0.0021]"
     ]
    },
    {
     "name": "stdout",
     "output_type": "stream",
     "text": [
      "\n",
      "Sequence lengths - Target: 56, ProteinA: 218\n",
      "Gradient norm: 0.0138\n"
     ]
    },
    {
     "name": "stderr",
     "output_type": "stream",
     "text": [
      "Epoch 219/219:  70%|██████▉   | 1545/2215 [03:31<01:26,  7.77it/s, batch_loss=0.0019, avg_loss=0.0098]"
     ]
    },
    {
     "name": "stdout",
     "output_type": "stream",
     "text": [
      "\n",
      "Sequence lengths - Target: 338, ProteinA: 317\n",
      "Gradient norm: 0.0546\n"
     ]
    },
    {
     "name": "stderr",
     "output_type": "stream",
     "text": [
      "Epoch 219/219:  71%|███████▏  | 1582/2215 [03:36<01:21,  7.79it/s, batch_loss=0.0019, avg_loss=0.0033]"
     ]
    },
    {
     "name": "stdout",
     "output_type": "stream",
     "text": [
      "\n",
      "Sequence lengths - Target: 489, ProteinA: 30\n",
      "Gradient norm: 0.0371\n"
     ]
    },
    {
     "name": "stderr",
     "output_type": "stream",
     "text": [
      "Epoch 219/219:  73%|███████▎  | 1612/2215 [03:39<01:15,  7.98it/s, batch_loss=0.0160, avg_loss=0.0098]"
     ]
    },
    {
     "name": "stdout",
     "output_type": "stream",
     "text": [
      "\n",
      "Sequence lengths - Target: 126, ProteinA: 460\n",
      "Gradient norm: 0.1158\n"
     ]
    },
    {
     "name": "stderr",
     "output_type": "stream",
     "text": [
      "Epoch 219/219:  73%|███████▎  | 1620/2215 [03:41<01:21,  7.32it/s, batch_loss=0.0005, avg_loss=0.0073]"
     ]
    },
    {
     "name": "stdout",
     "output_type": "stream",
     "text": [
      "\n",
      "Sequence lengths - Target: 356, ProteinA: 122\n",
      "Gradient norm: 0.0169\n"
     ]
    },
    {
     "name": "stderr",
     "output_type": "stream",
     "text": [
      "Epoch 219/219:  76%|███████▋  | 1689/2215 [03:50<01:06,  7.92it/s, batch_loss=0.0037, avg_loss=0.0025]"
     ]
    },
    {
     "name": "stdout",
     "output_type": "stream",
     "text": [
      "\n",
      "Sequence lengths - Target: 61, ProteinA: 533\n",
      "Gradient norm: 0.0612\n"
     ]
    },
    {
     "name": "stderr",
     "output_type": "stream",
     "text": [
      "Epoch 219/219:  78%|███████▊  | 1718/2215 [03:54<00:54,  9.14it/s, batch_loss=0.0004, avg_loss=0.0025]"
     ]
    },
    {
     "name": "stdout",
     "output_type": "stream",
     "text": [
      "\n",
      "Sequence lengths - Target: 67, ProteinA: 104\n",
      "Gradient norm: 0.0505\n"
     ]
    },
    {
     "name": "stderr",
     "output_type": "stream",
     "text": [
      "Epoch 219/219:  84%|████████▍ | 1870/2215 [04:15<00:55,  6.25it/s, batch_loss=0.1363, avg_loss=0.0032]"
     ]
    },
    {
     "name": "stdout",
     "output_type": "stream",
     "text": [
      "\n",
      "Sequence lengths - Target: 72, ProteinA: 118\n",
      "Gradient norm: 0.0057\n"
     ]
    },
    {
     "name": "stderr",
     "output_type": "stream",
     "text": [
      "Epoch 219/219:  93%|█████████▎| 2051/2215 [04:38<00:15, 10.55it/s, batch_loss=0.0004, avg_loss=0.0029]"
     ]
    },
    {
     "name": "stdout",
     "output_type": "stream",
     "text": [
      "\n",
      "Sequence lengths - Target: 53, ProteinA: 238\n",
      "Gradient norm: 0.0046\n"
     ]
    },
    {
     "name": "stderr",
     "output_type": "stream",
     "text": [
      "Epoch 219/219:  98%|█████████▊| 2161/2215 [04:51<00:05,  9.06it/s, batch_loss=0.0017, avg_loss=0.0034]"
     ]
    },
    {
     "name": "stdout",
     "output_type": "stream",
     "text": [
      "\n",
      "Sequence lengths - Target: 266, ProteinA: 165\n",
      "Gradient norm: 0.0300\n"
     ]
    },
    {
     "name": "stderr",
     "output_type": "stream",
     "text": [
      "                                                                                                      \r"
     ]
    },
    {
     "name": "stdout",
     "output_type": "stream",
     "text": [
      "\n",
      "Epoch [219/219] Summary:\n",
      "Average Loss: 0.0146\n",
      "Min Batch Loss: 0.0000\n",
      "Max Batch Loss: 0.5117\n",
      "GPU Memory allocated: 5.41 GB\n",
      "GPU Memory cached: 15.56 GB\n",
      "Checkpoint saved at epoch 219 to D:\\BALM Fineclone\\BALM-PPI\\scripts\\notebooks\\latest_checkpointcuratedmainATTPFT.pth\n",
      "\n",
      "Training complete!\n",
      "Total training time: 102.68 minutes\n",
      "Average time per epoch: 0.47 minutes\n",
      "Best loss achieved: 0.0144\n"
     ]
    }
   ],
   "source": [
    "\n",
    "#with normalization\n",
    "# Adjust NUM_EPOCHS to include the epochs already completed\n",
    "NUM_EPOCHS += start_epoch\n",
    "\n",
    "start = time.time()\n",
    "best_loss = float('inf')\n",
    "\n",
    "for epoch in range(start_epoch,NUM_EPOCHS):\n",
    "    model.train()\n",
    "    total_loss = 0.0\n",
    "    \n",
    "    # Create progress bar for each epoch\n",
    "    pbar = tqdm(train_data.iterrows(), total=len(train_data), \n",
    "                desc=f\"Epoch {epoch+1}/{NUM_EPOCHS}\", leave=False)\n",
    "    \n",
    "    batch_losses = []  # Track individual batch losses\n",
    "    \n",
    "    for idx, sample in pbar:\n",
    "        # Scale to cosine similarity range\n",
    "        cosine_target = 2 * (sample['Y'] - data_min) / (data_max - data_min) - 1\n",
    "        \n",
    "        inputs = {\n",
    "            \"protein_sequences\": [sample[\"Target\"]],\n",
    "            \"proteina_sequences\": [sample[\"proteina\"]],\n",
    "            \"labels\": torch.tensor([cosine_target], dtype=torch.float32).to(DEVICE)\n",
    "        }\n",
    "\n",
    "        # Print sequence lengths occasionally\n",
    "        if idx % 100 == 0:\n",
    "            print(f\"\\nSequence lengths - Target: {len(sample['Target'])}, \"\n",
    "                  f\"ProteinA: {len(sample['proteina'])}\")\n",
    "\n",
    "        optimizer.zero_grad()\n",
    "        outputs = model(inputs)\n",
    "        loss = outputs[\"loss\"]\n",
    "        loss.backward()\n",
    "        \n",
    "        # Gradient norm debugging\n",
    "        grad_norm = torch.nn.utils.clip_grad_norm_(model.parameters(), max_norm=1.0)\n",
    "        if idx % 100 == 0:\n",
    "            print(f\"Gradient norm: {grad_norm:.4f}\")\n",
    "\n",
    "        optimizer.step()\n",
    "        \n",
    "        current_loss = loss.item()\n",
    "        batch_losses.append(current_loss)\n",
    "        total_loss += current_loss\n",
    "        \n",
    "        # Update progress bar with current loss\n",
    "        pbar.set_postfix({\n",
    "            'batch_loss': f'{current_loss:.4f}',\n",
    "            'avg_loss': f'{total_loss/(idx+1):.4f}'\n",
    "        })\n",
    "\n",
    "    avg_loss = total_loss / len(train_data)\n",
    "    \n",
    "    # Print detailed epoch summary\n",
    "    print(f\"\\nEpoch [{epoch+1}/{NUM_EPOCHS}] Summary:\")\n",
    "    print(f\"Average Loss: {avg_loss:.4f}\")\n",
    "    print(f\"Min Batch Loss: {min(batch_losses):.4f}\")\n",
    "    print(f\"Max Batch Loss: {max(batch_losses):.4f}\")\n",
    "    \n",
    "    # Track best model\n",
    "    if avg_loss < best_loss:\n",
    "        best_loss = avg_loss\n",
    "        print(f\"New best loss achieved! Previous best: {best_loss:.4f}\")\n",
    "\n",
    "    # Print memory usage if using CUDA\n",
    "    if torch.cuda.is_available():\n",
    "        print(f\"GPU Memory allocated: {torch.cuda.memory_allocated()/1e9:.2f} GB\")\n",
    "        print(f\"GPU Memory cached: {torch.cuda.memory_reserved()/1e9:.2f} GB\")\n",
    "    \n",
    "    # Log metrics to wandb\n",
    "    wandb.log({'epoch': epoch + 1, 'loss': avg_loss})\n",
    "    \n",
    "    # Save checkpoint after each epoch\n",
    "    save_checkpoint(model, optimizer, epoch+1, checkpoint_path)\n",
    "\n",
    "training_time = time.time() - start\n",
    "print(\"\\nTraining complete!\")\n",
    "print(f\"Total training time: {training_time/60:.2f} minutes\")\n",
    "print(f\"Average time per epoch: {training_time/NUM_EPOCHS/60:.2f} minutes\")\n",
    "print(f\"Best loss achieved: {best_loss:.4f}\")\n"
   ]
  },
  {
   "cell_type": "markdown",
   "metadata": {},
   "source": [
    "## Test the model!"
   ]
  },
  {
   "cell_type": "code",
   "execution_count": 38,
   "metadata": {},
   "outputs": [
    {
     "name": "stdout",
     "output_type": "stream",
     "text": [
      "Predicted pKd: 10.368377685546875 | True pKd: 10.146302223205566\n",
      "Predicted pKd: 9.766597747802734 | True pKd: 8.204119682312012\n",
      "Predicted pKd: 4.494596481323242 | True pKd: 5.0\n",
      "Predicted pKd: 7.135708808898926 | True pKd: 7.127261161804199\n",
      "Predicted pKd: 7.442365646362305 | True pKd: 8.602060317993164\n",
      "Predicted pKd: 9.717086791992188 | True pKd: 9.621602058410645\n",
      "Predicted pKd: 7.269350051879883 | True pKd: 4.607303142547607\n",
      "Predicted pKd: 7.302800178527832 | True pKd: 10.0\n",
      "Predicted pKd: 7.7151641845703125 | True pKd: 7.281498432159424\n",
      "Predicted pKd: 7.030308723449707 | True pKd: 8.229147911071777\n",
      "Predicted pKd: 5.7217302322387695 | True pKd: 5.040958404541016\n",
      "Predicted pKd: 7.214557647705078 | True pKd: 5.78515625\n",
      "Predicted pKd: 13.143014907836914 | True pKd: 10.0\n",
      "Predicted pKd: 11.714146614074707 | True pKd: 10.268411636352539\n",
      "Predicted pKd: 4.11061954498291 | True pKd: 4.958607196807861\n",
      "Predicted pKd: 10.20724868774414 | True pKd: 9.772112846374512\n",
      "Predicted pKd: 6.861151695251465 | True pKd: 8.677781105041504\n",
      "Predicted pKd: 7.184239387512207 | True pKd: 6.431798458099365\n",
      "Predicted pKd: 10.419471740722656 | True pKd: 11.818156242370605\n",
      "Predicted pKd: 6.435187339782715 | True pKd: 3.8113527297973633\n",
      "Predicted pKd: 9.741522789001465 | True pKd: 9.462181091308594\n",
      "Predicted pKd: 5.830057144165039 | True pKd: 6.590066909790039\n",
      "Predicted pKd: 7.568493843078613 | True pKd: 7.2441253662109375\n",
      "Predicted pKd: 5.985345840454102 | True pKd: 5.1191864013671875\n",
      "Predicted pKd: 9.551406860351562 | True pKd: 10.026871681213379\n",
      "Predicted pKd: 7.4976959228515625 | True pKd: 7.823908805847168\n",
      "Predicted pKd: 7.158663749694824 | True pKd: 6.142667293548584\n",
      "Predicted pKd: 12.770979881286621 | True pKd: 13.370590209960938\n",
      "Predicted pKd: 4.714354515075684 | True pKd: 5.0087738037109375\n",
      "Predicted pKd: 9.483718872070312 | True pKd: 10.161150932312012\n",
      "Predicted pKd: 6.099944114685059 | True pKd: 6.397940158843994\n",
      "Predicted pKd: 4.5709123611450195 | True pKd: 4.677780628204346\n",
      "Predicted pKd: 9.078386306762695 | True pKd: 9.508638381958008\n",
      "Predicted pKd: 10.675819396972656 | True pKd: 10.0\n",
      "Predicted pKd: 4.6990203857421875 | True pKd: 5.193819999694824\n",
      "Predicted pKd: 7.001584053039551 | True pKd: 7.866461277008057\n",
      "Predicted pKd: 4.479369640350342 | True pKd: 5.220403671264648\n",
      "Predicted pKd: 12.860044479370117 | True pKd: 12.752026557922363\n",
      "Predicted pKd: 5.500461578369141 | True pKd: 8.920818328857422\n",
      "Predicted pKd: 8.147217750549316 | True pKd: 6.744727611541748\n",
      "Predicted pKd: 7.726282119750977 | True pKd: 8.3936185836792\n",
      "Predicted pKd: 9.750506401062012 | True pKd: 10.397939682006836\n",
      "Predicted pKd: 7.222046852111816 | True pKd: 6.32239294052124\n",
      "Predicted pKd: 6.780719757080078 | True pKd: 6.342944145202637\n",
      "Predicted pKd: 8.660125732421875 | True pKd: 7.663540363311768\n",
      "Predicted pKd: 6.049681663513184 | True pKd: 4.552842140197754\n",
      "Predicted pKd: 6.60402774810791 | True pKd: 5.348721981048584\n",
      "Predicted pKd: 5.467032432556152 | True pKd: 5.7931742668151855\n",
      "Predicted pKd: 5.608295440673828 | True pKd: 5.522878646850586\n",
      "Predicted pKd: 4.4290971755981445 | True pKd: 4.004364967346191\n",
      "Predicted pKd: 8.660882949829102 | True pKd: 9.866460800170898\n",
      "Predicted pKd: 8.507125854492188 | True pKd: 6.913640022277832\n",
      "Predicted pKd: 6.762763023376465 | True pKd: 6.568636417388916\n",
      "Predicted pKd: 11.083836555480957 | True pKd: 10.935542106628418\n",
      "Predicted pKd: 7.177043914794922 | True pKd: 6.091515064239502\n",
      "Predicted pKd: 7.599181175231934 | True pKd: 5.522878646850586\n",
      "Predicted pKd: 4.689932346343994 | True pKd: 4.243363857269287\n",
      "Predicted pKd: 7.67298698425293 | True pKd: 7.6716203689575195\n",
      "Predicted pKd: 7.548198699951172 | True pKd: 7.508638381958008\n",
      "Predicted pKd: 7.846335411071777 | True pKd: 8.397939682006836\n",
      "Predicted pKd: 7.302842140197754 | True pKd: 8.522878646850586\n",
      "Predicted pKd: 9.267171859741211 | True pKd: 9.677781105041504\n",
      "Predicted pKd: 6.342616081237793 | True pKd: 5.744727611541748\n",
      "Predicted pKd: 9.633216857910156 | True pKd: 8.698969841003418\n",
      "Predicted pKd: 7.097930908203125 | True pKd: 5.397940158843994\n",
      "Predicted pKd: 8.541463851928711 | True pKd: 8.022275924682617\n",
      "Predicted pKd: 7.680084228515625 | True pKd: 8.58004379272461\n",
      "Predicted pKd: 4.291099548339844 | True pKd: 4.03058385848999\n",
      "Predicted pKd: 6.633152961730957 | True pKd: 11.0\n",
      "Predicted pKd: 8.573575973510742 | True pKd: 8.728157997131348\n",
      "Predicted pKd: 10.632111549377441 | True pKd: 10.397939682006836\n",
      "Predicted pKd: 7.2395429611206055 | True pKd: 10.301030158996582\n",
      "Predicted pKd: 8.559895515441895 | True pKd: 8.24260425567627\n",
      "Predicted pKd: 8.746051788330078 | True pKd: 9.0\n",
      "Predicted pKd: 10.579161643981934 | True pKd: 9.737548828125\n",
      "Predicted pKd: 10.699179649353027 | True pKd: 10.477556228637695\n",
      "Predicted pKd: 6.527290344238281 | True pKd: 5.0\n",
      "Predicted pKd: 5.526645660400391 | True pKd: 5.899629592895508\n",
      "Predicted pKd: 9.361640930175781 | True pKd: 6.675717353820801\n",
      "Predicted pKd: 9.40503978729248 | True pKd: 9.086186408996582\n",
      "Predicted pKd: 7.198971748352051 | True pKd: 4.638272285461426\n",
      "Predicted pKd: 11.695676803588867 | True pKd: 12.522878646850586\n",
      "Predicted pKd: 8.464163780212402 | True pKd: 8.361510276794434\n",
      "Predicted pKd: 9.791804313659668 | True pKd: 6.477555751800537\n",
      "Predicted pKd: 7.3162641525268555 | True pKd: 5.412289142608643\n",
      "Predicted pKd: 5.602236747741699 | True pKd: 4.318758964538574\n",
      "Predicted pKd: 10.69694995880127 | True pKd: 10.619789123535156\n",
      "Predicted pKd: 4.945797920227051 | True pKd: 4.254144668579102\n",
      "Predicted pKd: 7.838174819946289 | True pKd: 6.559091091156006\n",
      "Predicted pKd: 9.217387199401855 | True pKd: 9.49079704284668\n",
      "Predicted pKd: 5.399687767028809 | True pKd: 5.397940158843994\n",
      "Predicted pKd: 9.411432266235352 | True pKd: 8.82973861694336\n",
      "Predicted pKd: 5.460233688354492 | True pKd: 5.16304349899292\n",
      "Predicted pKd: 9.234482765197754 | True pKd: 10.114073753356934\n",
      "Predicted pKd: 8.589103698730469 | True pKd: 7.850780963897705\n",
      "Predicted pKd: 7.473169326782227 | True pKd: 9.360513687133789\n",
      "Predicted pKd: 8.123007774353027 | True pKd: 8.726073265075684\n",
      "Predicted pKd: 7.749300003051758 | True pKd: 6.0\n",
      "Predicted pKd: 6.243295669555664 | True pKd: 6.882728576660156\n",
      "Predicted pKd: 6.735625267028809 | True pKd: 5.853871822357178\n",
      "Predicted pKd: 5.535974502563477 | True pKd: 6.042871952056885\n",
      "Predicted pKd: 7.617090225219727 | True pKd: 7.4685211181640625\n",
      "Predicted pKd: 8.148545265197754 | True pKd: 7.698969841003418\n",
      "Predicted pKd: 6.698521614074707 | True pKd: 7.744727611541748\n",
      "Predicted pKd: 9.499972343444824 | True pKd: 13.0\n",
      "Predicted pKd: 4.678622245788574 | True pKd: 5.221848964691162\n",
      "Predicted pKd: 9.09911823272705 | True pKd: 9.089909553527832\n",
      "Predicted pKd: 9.383849143981934 | True pKd: 10.49079704284668\n",
      "Predicted pKd: 5.661290168762207 | True pKd: 7.180456161499023\n",
      "Predicted pKd: 10.315884590148926 | True pKd: 11.0\n",
      "Predicted pKd: 10.197985649108887 | True pKd: 6.706416606903076\n",
      "Predicted pKd: 7.705624580383301 | True pKd: 6.6716203689575195\n",
      "Predicted pKd: 7.604681015014648 | True pKd: 8.050609588623047\n",
      "Predicted pKd: 5.775671005249023 | True pKd: 5.0809221267700195\n",
      "Predicted pKd: 8.487553596496582 | True pKd: 7.712198257446289\n",
      "Predicted pKd: 6.632439613342285 | True pKd: 8.95860767364502\n",
      "Predicted pKd: 8.809194564819336 | True pKd: 7.3098039627075195\n",
      "Predicted pKd: 7.425758361816406 | True pKd: 6.896196365356445\n",
      "Predicted pKd: 6.354244232177734 | True pKd: 8.619789123535156\n",
      "Predicted pKd: 9.176041603088379 | True pKd: 6.853871822357178\n",
      "Predicted pKd: 4.493734359741211 | True pKd: 4.457174777984619\n",
      "Predicted pKd: 9.414156913757324 | True pKd: 9.568635940551758\n",
      "Predicted pKd: 9.336621284484863 | True pKd: 9.12493896484375\n",
      "Predicted pKd: 10.082636833190918 | True pKd: 13.0\n",
      "Predicted pKd: 5.915285110473633 | True pKd: 7.267606258392334\n",
      "Predicted pKd: 8.505790710449219 | True pKd: 6.146301746368408\n",
      "Predicted pKd: 7.310991287231445 | True pKd: 7.072629451751709\n",
      "Predicted pKd: 5.434316635131836 | True pKd: 5.9281182289123535\n",
      "Predicted pKd: 6.025650978088379 | True pKd: 7.045757293701172\n",
      "Predicted pKd: 9.893014907836914 | True pKd: 10.267605781555176\n",
      "Predicted pKd: 5.592841148376465 | True pKd: 6.045757293701172\n",
      "Predicted pKd: 6.733251571655273 | True pKd: 7.522878646850586\n",
      "Predicted pKd: 10.552628517150879 | True pKd: 11.079355239868164\n",
      "Predicted pKd: 4.131970405578613 | True pKd: 4.978810787200928\n",
      "Predicted pKd: 5.469561576843262 | True pKd: 7.455932140350342\n",
      "Predicted pKd: 8.137389183044434 | True pKd: 5.552842140197754\n",
      "Predicted pKd: 9.423202514648438 | True pKd: 8.397939682006836\n",
      "Predicted pKd: 8.043347358703613 | True pKd: 9.95860767364502\n",
      "Predicted pKd: 5.351842880249023 | True pKd: 6.361510753631592\n",
      "Predicted pKd: 12.768731117248535 | True pKd: 13.66353988647461\n",
      "Predicted pKd: 4.706040382385254 | True pKd: 4.6270880699157715\n",
      "Predicted pKd: 7.194398880004883 | True pKd: 5.235823631286621\n",
      "Predicted pKd: 7.388875961303711 | True pKd: 4.537601947784424\n",
      "Predicted pKd: 4.6742024421691895 | True pKd: 5.28399658203125\n",
      "Predicted pKd: 6.083937644958496 | True pKd: 8.886056900024414\n",
      "Predicted pKd: 6.755545616149902 | True pKd: 8.30980396270752\n",
      "Predicted pKd: 7.30745792388916 | True pKd: 7.991399765014648\n",
      "Predicted pKd: 6.162909507751465 | True pKd: 6.958607196807861\n",
      "Predicted pKd: 5.981137275695801 | True pKd: 6.744727611541748\n",
      "Predicted pKd: 4.643658638000488 | True pKd: 4.585026741027832\n",
      "Predicted pKd: 9.071362495422363 | True pKd: 8.036211967468262\n",
      "Predicted pKd: 10.148204803466797 | True pKd: 9.441291809082031\n",
      "Predicted pKd: 7.64322566986084 | True pKd: 10.698969841003418\n",
      "Predicted pKd: 9.417143821716309 | True pKd: 8.09691047668457\n",
      "Predicted pKd: 7.569592475891113 | True pKd: 9.107905387878418\n",
      "Predicted pKd: 8.23847484588623 | True pKd: 9.698969841003418\n",
      "Predicted pKd: 4.250425338745117 | True pKd: 5.3665313720703125\n",
      "Predicted pKd: 10.772551536560059 | True pKd: 11.818156242370605\n",
      "Predicted pKd: 7.449383735656738 | True pKd: 9.06550121307373\n",
      "Predicted pKd: 8.021882057189941 | True pKd: 12.537602424621582\n",
      "Predicted pKd: 9.959267616271973 | True pKd: 10.08092212677002\n",
      "Predicted pKd: 7.377162933349609 | True pKd: 5.221125602722168\n",
      "Predicted pKd: 7.627376556396484 | True pKd: 8.769551277160645\n",
      "Predicted pKd: 6.535982131958008 | True pKd: 6.698969841003418\n",
      "Predicted pKd: 4.035832405090332 | True pKd: 4.15366268157959\n",
      "Predicted pKd: 8.59414291381836 | True pKd: 4.896196365356445\n",
      "Predicted pKd: 4.64687967300415 | True pKd: 4.92081880569458\n",
      "Predicted pKd: 8.074812889099121 | True pKd: 8.853872299194336\n",
      "Predicted pKd: 4.945715427398682 | True pKd: 5.28399658203125\n",
      "Predicted pKd: 6.691248893737793 | True pKd: 7.801342964172363\n",
      "Predicted pKd: 5.715161323547363 | True pKd: 5.455932140350342\n",
      "Predicted pKd: 7.239194869995117 | True pKd: 6.3665313720703125\n",
      "Predicted pKd: 4.674598693847656 | True pKd: 4.481485843658447\n",
      "Predicted pKd: 6.05417537689209 | True pKd: 5.714442729949951\n",
      "Predicted pKd: 7.475427627563477 | True pKd: 5.267606258392334\n",
      "Predicted pKd: 12.057718276977539 | True pKd: 9.414539337158203\n",
      "Predicted pKd: 7.307404518127441 | True pKd: 8.397939682006836\n",
      "Predicted pKd: 6.887164115905762 | True pKd: 8.154901504516602\n",
      "Predicted pKd: 9.339735984802246 | True pKd: 8.412288665771484\n",
      "Predicted pKd: 10.99973201751709 | True pKd: 10.71669864654541\n",
      "Predicted pKd: 5.337270736694336 | True pKd: 5.031517028808594\n",
      "Predicted pKd: 8.869029998779297 | True pKd: 8.462181091308594\n",
      "Predicted pKd: 9.974649429321289 | True pKd: 10.379863739013672\n",
      "Predicted pKd: 9.59568977355957 | True pKd: 12.361510276794434\n",
      "Predicted pKd: 9.05264949798584 | True pKd: 8.537602424621582\n",
      "Predicted pKd: 9.477391242980957 | True pKd: 8.863279342651367\n",
      "Predicted pKd: 4.939226150512695 | True pKd: 4.318758964538574\n",
      "Predicted pKd: 5.566902160644531 | True pKd: 5.958607196807861\n",
      "Predicted pKd: 8.358631134033203 | True pKd: 8.795880317687988\n",
      "Predicted pKd: 7.452353477478027 | True pKd: 7.749579906463623\n",
      "Predicted pKd: 4.909992218017578 | True pKd: 3.7235381603240967\n",
      "Predicted pKd: 4.138606548309326 | True pKd: 4.453087329864502\n",
      "Predicted pKd: 9.072539329528809 | True pKd: 8.823908805847168\n",
      "Predicted pKd: 8.432326316833496 | True pKd: 4.041436195373535\n",
      "Predicted pKd: 4.944497108459473 | True pKd: 4.1191864013671875\n",
      "Predicted pKd: 4.59893798828125 | True pKd: 4.15366268157959\n",
      "Predicted pKd: 9.604853630065918 | True pKd: 9.301030158996582\n",
      "Predicted pKd: 9.988357543945312 | True pKd: 6.494850158691406\n",
      "Predicted pKd: 4.993468284606934 | True pKd: 6.435333728790283\n",
      "Predicted pKd: 4.486795425415039 | True pKd: 4.296708583831787\n",
      "Predicted pKd: 9.086569786071777 | True pKd: 9.086186408996582\n",
      "Predicted pKd: 7.6976118087768555 | True pKd: 7.712198257446289\n",
      "Predicted pKd: 6.687612533569336 | True pKd: 5.578395843505859\n",
      "Predicted pKd: 7.17741584777832 | True pKd: 6.79587984085083\n",
      "Predicted pKd: 7.059012413024902 | True pKd: 8.16430950164795\n",
      "Predicted pKd: 7.549040794372559 | True pKd: 7.275723934173584\n",
      "Predicted pKd: 5.134746551513672 | True pKd: 4.92081880569458\n",
      "Predicted pKd: 9.990081787109375 | True pKd: 9.50445556640625\n",
      "Predicted pKd: 9.29519271850586 | True pKd: 9.361510276794434\n",
      "Predicted pKd: 7.772500991821289 | True pKd: 9.397939682006836\n",
      "Predicted pKd: 5.6001386642456055 | True pKd: 5.508638381958008\n",
      "Predicted pKd: 7.251592636108398 | True pKd: 4.6556077003479\n",
      "Predicted pKd: 7.873561859130859 | True pKd: 8.003050804138184\n",
      "Predicted pKd: 9.335299491882324 | True pKd: 9.341988563537598\n",
      "Predicted pKd: 6.785484313964844 | True pKd: 7.1674909591674805\n",
      "Predicted pKd: 8.20003604888916 | True pKd: 9.690369606018066\n",
      "Predicted pKd: 8.114280700683594 | True pKd: 7.301030158996582\n",
      "Predicted pKd: 6.521787643432617 | True pKd: 6.0\n",
      "Predicted pKd: 4.71927547454834 | True pKd: 4.92081880569458\n",
      "Predicted pKd: 9.056230545043945 | True pKd: 9.508638381958008\n",
      "Predicted pKd: 12.01452350616455 | True pKd: 12.698969841003418\n",
      "Predicted pKd: 5.88082218170166 | True pKd: 9.698969841003418\n",
      "Predicted pKd: 8.198376655578613 | True pKd: 5.268411159515381\n",
      "Predicted pKd: 7.749655723571777 | True pKd: 8.040958404541016\n",
      "Predicted pKd: 7.235659599304199 | True pKd: 5.205512046813965\n",
      "Predicted pKd: 10.375316619873047 | True pKd: 10.341988563537598\n",
      "Predicted pKd: 5.080414295196533 | True pKd: 3.8996293544769287\n",
      "Predicted pKd: 7.648350715637207 | True pKd: 4.522878646850586\n",
      "Predicted pKd: 7.068031311035156 | True pKd: 5.0\n",
      "Predicted pKd: 6.674631118774414 | True pKd: 6.853871822357178\n",
      "Predicted pKd: 9.408761978149414 | True pKd: 9.552842140197754\n",
      "Predicted pKd: 12.211421012878418 | True pKd: 13.48678207397461\n",
      "Predicted pKd: 4.281266212463379 | True pKd: 3.8810741901397705\n",
      "Predicted pKd: 7.704852104187012 | True pKd: 5.698969841003418\n",
      "Predicted pKd: 10.077077865600586 | True pKd: 10.392544746398926\n",
      "Predicted pKd: 6.716642379760742 | True pKd: 8.160521507263184\n",
      "Predicted pKd: 5.524409294128418 | True pKd: 5.187086582183838\n",
      "Predicted pKd: 7.875557899475098 | True pKd: 7.142667293548584\n",
      "Predicted pKd: 5.0277299880981445 | True pKd: 4.958607196807861\n",
      "Predicted pKd: 9.40392780303955 | True pKd: 9.193819999694824\n",
      "Predicted pKd: 9.320859909057617 | True pKd: 9.06550121307373\n",
      "Predicted pKd: 5.597492218017578 | True pKd: 5.721246242523193\n",
      "Predicted pKd: 4.848895072937012 | True pKd: 6.337242126464844\n",
      "Predicted pKd: 5.597223281860352 | True pKd: 5.397940158843994\n",
      "Predicted pKd: 4.5439300537109375 | True pKd: 3.924453020095825\n",
      "Predicted pKd: 9.413168907165527 | True pKd: 8.866460800170898\n",
      "Predicted pKd: 6.016195297241211 | True pKd: 5.958607196807861\n",
      "Predicted pKd: 4.569024562835693 | True pKd: 6.931814193725586\n",
      "Predicted pKd: 5.590261459350586 | True pKd: 6.443697452545166\n",
      "Predicted pKd: 8.668258666992188 | True pKd: 9.245651245117188\n",
      "Predicted pKd: 9.410489082336426 | True pKd: 9.0\n",
      "Predicted pKd: 9.000450134277344 | True pKd: 7.853871822357178\n",
      "Predicted pKd: 6.769954681396484 | True pKd: 6.522878646850586\n",
      "Predicted pKd: 6.5186614990234375 | True pKd: 7.886056423187256\n",
      "Predicted pKd: 8.507035255432129 | True pKd: 7.712198257446289\n",
      "Predicted pKd: 4.604711532592773 | True pKd: 3.5917599201202393\n",
      "Predicted pKd: 10.310678482055664 | True pKd: 11.0\n",
      "Predicted pKd: 11.905119895935059 | True pKd: 13.48678207397461\n",
      "Predicted pKd: 4.130624771118164 | True pKd: 4.7931742668151855\n",
      "Predicted pKd: 8.20460319519043 | True pKd: 8.283162117004395\n",
      "Predicted pKd: 7.298240661621094 | True pKd: 8.500312805175781\n",
      "Predicted pKd: 6.74204158782959 | True pKd: 6.560667514801025\n",
      "Predicted pKd: 4.2848358154296875 | True pKd: 4.283746242523193\n",
      "Predicted pKd: 9.563108444213867 | True pKd: 7.0\n",
      "Predicted pKd: 8.637245178222656 | True pKd: 9.310690879821777\n",
      "Predicted pKd: 7.755870819091797 | True pKd: 9.06550121307373\n",
      "Predicted pKd: 9.832767486572266 | True pKd: 8.113509178161621\n",
      "Predicted pKd: 7.64288330078125 | True pKd: 6.756961822509766\n",
      "Predicted pKd: 6.50660514831543 | True pKd: 8.107905387878418\n",
      "Predicted pKd: 10.46054744720459 | True pKd: 10.96657657623291\n",
      "Predicted pKd: 4.563445091247559 | True pKd: 4.573488712310791\n",
      "Predicted pKd: 3.587470293045044 | True pKd: 3.636388063430786\n",
      "Predicted pKd: 5.351652145385742 | True pKd: 7.096909999847412\n",
      "Predicted pKd: 6.91595458984375 | True pKd: 7.752026557922363\n",
      "Predicted pKd: 6.401891708374023 | True pKd: 5.698969841003418\n",
      "Predicted pKd: 10.726271629333496 | True pKd: 10.920818328857422\n",
      "Predicted pKd: 6.642843246459961 | True pKd: 8.193819999694824\n",
      "Predicted pKd: 9.065937042236328 | True pKd: 8.337242126464844\n",
      "Predicted pKd: 7.00417423248291 | True pKd: 6.031517028808594\n",
      "Predicted pKd: 9.28439998626709 | True pKd: 9.079355239868164\n",
      "Predicted pKd: 8.14173412322998 | True pKd: 7.162411689758301\n",
      "Predicted pKd: 9.405426025390625 | True pKd: 9.119186401367188\n",
      "Predicted pKd: 5.571898460388184 | True pKd: 4.045757293701172\n",
      "Predicted pKd: 8.980326652526855 | True pKd: 9.376750946044922\n",
      "Predicted pKd: 10.474764823913574 | True pKd: 10.806875228881836\n",
      "Predicted pKd: 9.399866104125977 | True pKd: 9.522878646850586\n",
      "Predicted pKd: 8.45068645477295 | True pKd: 6.8181562423706055\n",
      "Predicted pKd: 8.46365737915039 | True pKd: 7.612610340118408\n",
      "Predicted pKd: 9.908482551574707 | True pKd: 6.8326826095581055\n",
      "Predicted pKd: 6.656206130981445 | True pKd: 8.552842140197754\n",
      "Predicted pKd: 7.39695930480957 | True pKd: 7.602059841156006\n",
      "Predicted pKd: 8.569077491760254 | True pKd: 8.259636878967285\n",
      "Predicted pKd: 10.190250396728516 | True pKd: 9.32697868347168\n",
      "Predicted pKd: 4.653006553649902 | True pKd: 3.424812078475952\n",
      "Predicted pKd: 5.545405387878418 | True pKd: 5.377786159515381\n",
      "Predicted pKd: 7.2298994064331055 | True pKd: 6.403402805328369\n",
      "Predicted pKd: 8.351152420043945 | True pKd: 6.301030158996582\n",
      "Predicted pKd: 5.143629550933838 | True pKd: 6.221848964691162\n",
      "Predicted pKd: 8.658487319946289 | True pKd: 8.139063835144043\n",
      "Predicted pKd: 10.520718574523926 | True pKd: 9.146302223205566\n",
      "Predicted pKd: 4.623884677886963 | True pKd: 7.376750946044922\n",
      "Predicted pKd: 4.973575115203857 | True pKd: 5.2441253662109375\n",
      "Predicted pKd: 5.859004974365234 | True pKd: 7.142667293548584\n",
      "Predicted pKd: 9.40263557434082 | True pKd: 9.161150932312012\n",
      "Predicted pKd: 6.322697639465332 | True pKd: 4.721246242523193\n",
      "Predicted pKd: 8.415047645568848 | True pKd: 11.109020233154297\n",
      "Predicted pKd: 7.444663047790527 | True pKd: 8.374687194824219\n",
      "Predicted pKd: 4.818330764770508 | True pKd: 4.086185932159424\n",
      "Predicted pKd: 9.557849884033203 | True pKd: 9.886056900024414\n",
      "Predicted pKd: 7.421156883239746 | True pKd: 5.308918476104736\n",
      "Predicted pKd: 8.153364181518555 | True pKd: 8.226213455200195\n",
      "Predicted pKd: 10.73773193359375 | True pKd: 11.806875228881836\n",
      "Predicted pKd: 9.588178634643555 | True pKd: 9.879426002502441\n",
      "Predicted pKd: 5.303891181945801 | True pKd: 3.9172146320343018\n",
      "Predicted pKd: 8.605461120605469 | True pKd: 11.42945671081543\n",
      "Predicted pKd: 7.327971458435059 | True pKd: 7.522878646850586\n",
      "Predicted pKd: 6.4204206466674805 | True pKd: 5.146301746368408\n",
      "Predicted pKd: 10.1190824508667 | True pKd: 10.58004379272461\n",
      "Predicted pKd: 10.453766822814941 | True pKd: 10.51855754852295\n",
      "Predicted pKd: 9.401938438415527 | True pKd: 9.229147911071777\n",
      "Predicted pKd: 9.126136779785156 | True pKd: 9.931814193725586\n",
      "Predicted pKd: 6.944145202636719 | True pKd: 7.619788646697998\n",
      "Predicted pKd: 8.470422744750977 | True pKd: 6.935542106628418\n",
      "Predicted pKd: 11.717719078063965 | True pKd: 11.818156242370605\n",
      "Predicted pKd: 4.8670148849487305 | True pKd: 4.110698223114014\n",
      "Predicted pKd: 7.573337554931641 | True pKd: 8.402304649353027\n",
      "Predicted pKd: 4.59675407409668 | True pKd: 3.714442729949951\n",
      "Predicted pKd: 7.674654006958008 | True pKd: 7.246417045593262\n",
      "Predicted pKd: 7.790043830871582 | True pKd: 4.555955410003662\n",
      "Predicted pKd: 8.30056381225586 | True pKd: 7.539102077484131\n",
      "Predicted pKd: 9.33778190612793 | True pKd: 7.681936740875244\n",
      "Predicted pKd: 10.273862838745117 | True pKd: 10.58004379272461\n",
      "Predicted pKd: 8.178617477416992 | True pKd: 9.045757293701172\n",
      "Predicted pKd: 7.225250244140625 | True pKd: 4.259637355804443\n",
      "Predicted pKd: 6.96246337890625 | True pKd: 8.301030158996582\n",
      "Predicted pKd: 6.869852066040039 | True pKd: 5.823908805847168\n",
      "Predicted pKd: 4.885710716247559 | True pKd: 5.522878646850586\n",
      "Predicted pKd: 6.148388862609863 | True pKd: 5.397940158843994\n",
      "Predicted pKd: 6.648679733276367 | True pKd: 8.09691047668457\n",
      "Predicted pKd: 8.044188499450684 | True pKd: 9.221848487854004\n",
      "Predicted pKd: 5.495871543884277 | True pKd: 6.744727611541748\n",
      "Predicted pKd: 6.275510787963867 | True pKd: 7.173925399780273\n",
      "Predicted pKd: 8.814933776855469 | True pKd: 11.522878646850586\n",
      "Predicted pKd: 8.53349781036377 | True pKd: 10.301030158996582\n",
      "Predicted pKd: 5.715755462646484 | True pKd: 8.364516258239746\n",
      "Predicted pKd: 6.318495750427246 | True pKd: 6.581698894500732\n",
      "Predicted pKd: 6.957527160644531 | True pKd: 6.055517196655273\n",
      "Predicted pKd: 6.955070495605469 | True pKd: 7.892789840698242\n",
      "Predicted pKd: 9.514825820922852 | True pKd: 10.204119682312012\n",
      "Predicted pKd: 6.270933151245117 | True pKd: 5.397940158843994\n",
      "Predicted pKd: 9.094225883483887 | True pKd: 8.96657657623291\n",
      "Predicted pKd: 4.131970405578613 | True pKd: 5.055517196655273\n",
      "Predicted pKd: 7.292047500610352 | True pKd: 7.585026741027832\n",
      "Predicted pKd: 8.494296073913574 | True pKd: 5.301030158996582\n",
      "Predicted pKd: 6.2897443771362305 | True pKd: 4.4202165603637695\n",
      "Predicted pKd: 7.302495956420898 | True pKd: 8.681936264038086\n",
      "Predicted pKd: 6.680695533752441 | True pKd: 7.387216091156006\n",
      "Predicted pKd: 10.232698440551758 | True pKd: 11.379863739013672\n",
      "Predicted pKd: 6.209870338439941 | True pKd: 6.4202165603637695\n",
      "Predicted pKd: 10.085214614868164 | True pKd: 10.665546417236328\n",
      "Predicted pKd: 8.163982391357422 | True pKd: 8.19791030883789\n",
      "Predicted pKd: 5.521760940551758 | True pKd: 3.1951792240142822\n",
      "Predicted pKd: 6.5156450271606445 | True pKd: 5.698969841003418\n",
      "Predicted pKd: 8.864472389221191 | True pKd: 7.7695512771606445\n",
      "Predicted pKd: 4.540592193603516 | True pKd: 4.346787452697754\n",
      "Predicted pKd: 7.130589485168457 | True pKd: 7.346787452697754\n",
      "Predicted pKd: 7.793893814086914 | True pKd: 6.25492525100708\n",
      "Predicted pKd: 10.248903274536133 | True pKd: 10.707743644714355\n",
      "Predicted pKd: 6.090799331665039 | True pKd: 6.528708457946777\n",
      "Predicted pKd: 8.499390602111816 | True pKd: 6.146301746368408\n",
      "Predicted pKd: 5.485777854919434 | True pKd: 3.102372884750366\n",
      "Predicted pKd: 6.634244918823242 | True pKd: 7.92081880569458\n",
      "Predicted pKd: 8.031975746154785 | True pKd: 8.221848487854004\n",
      "Predicted pKd: 8.156947135925293 | True pKd: 8.107349395751953\n",
      "Predicted pKd: 4.728471279144287 | True pKd: 4.92081880569458\n",
      "Predicted pKd: 4.965978622436523 | True pKd: 6.301030158996582\n",
      "Predicted pKd: 5.21751594543457 | True pKd: 7.259637355804443\n",
      "Predicted pKd: 4.190669059753418 | True pKd: 4.533874034881592\n",
      "Predicted pKd: 8.544401168823242 | True pKd: 7.92081880569458\n",
      "Predicted pKd: 7.882201194763184 | True pKd: 8.397939682006836\n",
      "Predicted pKd: 8.044416427612305 | True pKd: 5.251811981201172\n",
      "Predicted pKd: 5.620504379272461 | True pKd: 5.443697452545166\n",
      "Predicted pKd: 9.070856094360352 | True pKd: 9.537602424621582\n",
      "Predicted pKd: 7.52365779876709 | True pKd: 9.360513687133789\n",
      "Predicted pKd: 7.235146522521973 | True pKd: 6.853871822357178\n",
      "Predicted pKd: 8.57696533203125 | True pKd: 8.02872371673584\n",
      "Predicted pKd: 7.671389579772949 | True pKd: 7.694648742675781\n",
      "Predicted pKd: 5.526645660400391 | True pKd: 5.677780628204346\n",
      "Predicted pKd: 7.293426513671875 | True pKd: 8.0\n",
      "Predicted pKd: 5.452742576599121 | True pKd: 5.522878646850586\n",
      "Predicted pKd: 8.172553062438965 | True pKd: 8.147520065307617\n",
      "Predicted pKd: 7.783916473388672 | True pKd: 7.44733190536499\n",
      "Predicted pKd: 7.30259895324707 | True pKd: 8.397939682006836\n",
      "Predicted pKd: 6.941908836364746 | True pKd: 5.850780963897705\n",
      "Predicted pKd: 4.121625900268555 | True pKd: 4.917214393615723\n",
      "Predicted pKd: 9.163801193237305 | True pKd: 9.408935546875\n",
      "Predicted pKd: 8.630363464355469 | True pKd: 7.079354763031006\n",
      "Predicted pKd: 7.528069496154785 | True pKd: 6.619788646697998\n",
      "Predicted pKd: 5.802057266235352 | True pKd: 6.414539337158203\n",
      "Predicted pKd: 8.17647647857666 | True pKd: 9.301030158996582\n",
      "Predicted pKd: 4.652216911315918 | True pKd: 4.568636417388916\n",
      "Predicted pKd: 10.091791152954102 | True pKd: 10.297569274902344\n",
      "Predicted pKd: 7.319637298583984 | True pKd: 6.004364967346191\n",
      "Predicted pKd: 5.826921463012695 | True pKd: 4.75448751449585\n",
      "Predicted pKd: 9.466707229614258 | True pKd: 9.643974304199219\n",
      "Predicted pKd: 8.525459289550781 | True pKd: 5.954677104949951\n",
      "Predicted pKd: 4.643558502197266 | True pKd: 4.698969841003418\n",
      "Predicted pKd: 5.527864456176758 | True pKd: 4.148130416870117\n",
      "Predicted pKd: 6.754676818847656 | True pKd: 6.0\n",
      "Predicted pKd: 6.544171333312988 | True pKd: 7.380906581878662\n",
      "Predicted pKd: 6.511502265930176 | True pKd: 5.931814193725586\n",
      "Predicted pKd: 9.562409400939941 | True pKd: 6.78515625\n",
      "Predicted pKd: 9.74611759185791 | True pKd: 6.361510753631592\n",
      "Predicted pKd: 5.162768363952637 | True pKd: 3.548213481903076\n",
      "Predicted pKd: 5.971562385559082 | True pKd: 4.180456161499023\n",
      "Predicted pKd: 8.574856758117676 | True pKd: 8.356547355651855\n",
      "Predicted pKd: 9.57973575592041 | True pKd: 9.055517196655273\n",
      "Predicted pKd: 7.996913909912109 | True pKd: 7.698969841003418\n",
      "Predicted pKd: 5.267133712768555 | True pKd: 4.257275104522705\n",
      "Predicted pKd: 6.593315124511719 | True pKd: 6.43889856338501\n",
      "Predicted pKd: 9.405020713806152 | True pKd: 8.301030158996582\n",
      "Predicted pKd: 9.335284233093262 | True pKd: 9.844663619995117\n",
      "Predicted pKd: 10.128876686096191 | True pKd: 8.935542106628418\n",
      "Predicted pKd: 6.3643293380737305 | True pKd: 6.458420753479004\n",
      "Predicted pKd: 9.399728775024414 | True pKd: 9.207608222961426\n",
      "Predicted pKd: 7.477443695068359 | True pKd: 6.472370147705078\n",
      "Predicted pKd: 7.282273292541504 | True pKd: 8.619789123535156\n",
      "Predicted pKd: 5.959628105163574 | True pKd: 5.638272285461426\n",
      "Predicted pKd: 6.503890037536621 | True pKd: 6.096909999847412\n",
      "Predicted pKd: 10.156989097595215 | True pKd: 10.379863739013672\n",
      "Predicted pKd: 4.692941188812256 | True pKd: 4.17587423324585\n",
      "Predicted pKd: 7.587963104248047 | True pKd: 8.346787452697754\n",
      "Predicted pKd: 8.668231964111328 | True pKd: 9.889410018920898\n",
      "Predicted pKd: 8.960358619689941 | True pKd: 9.732828140258789\n",
      "Predicted pKd: 7.006624221801758 | True pKd: 4.705533981323242\n",
      "Predicted pKd: 7.303434371948242 | True pKd: 7.397940158843994\n",
      "Predicted pKd: 4.972288131713867 | True pKd: 6.173925399780273\n",
      "Predicted pKd: 8.27381420135498 | True pKd: 8.236572265625\n",
      "Predicted pKd: 8.576711654663086 | True pKd: 8.920818328857422\n",
      "Predicted pKd: 8.181679725646973 | True pKd: 9.823908805847168\n",
      "Predicted pKd: 5.0193915367126465 | True pKd: 5.93930196762085\n",
      "Predicted pKd: 5.011796474456787 | True pKd: 4.473660945892334\n",
      "Predicted pKd: 5.853432655334473 | True pKd: 5.568636417388916\n",
      "Predicted pKd: 9.441413879394531 | True pKd: 9.769551277160645\n",
      "Predicted pKd: 10.070557594299316 | True pKd: 11.214670181274414\n",
      "Predicted pKd: 10.192431449890137 | True pKd: 8.769551277160645\n",
      "Predicted pKd: 7.491716384887695 | True pKd: 5.229147911071777\n",
      "Predicted pKd: 9.584846496582031 | True pKd: 9.90308952331543\n",
      "Predicted pKd: 8.573429107666016 | True pKd: 9.28399658203125\n",
      "Predicted pKd: 5.678554534912109 | True pKd: 5.15490198135376\n",
      "Predicted pKd: 12.028945922851562 | True pKd: 11.431797981262207\n",
      "Predicted pKd: 10.379076957702637 | True pKd: 8.379863739013672\n",
      "Predicted pKd: 6.249868392944336 | True pKd: 7.17587423324585\n",
      "Predicted pKd: 8.78671932220459 | True pKd: 9.853872299194336\n",
      "Predicted pKd: 13.789064407348633 | True pKd: 15.698969841003418\n",
      "Predicted pKd: 9.254195213317871 | True pKd: 8.653647422790527\n",
      "Predicted pKd: 4.1964430809021 | True pKd: 4.405607223510742\n",
      "Predicted pKd: 7.169075965881348 | True pKd: 9.657577514648438\n",
      "Predicted pKd: 7.346921920776367 | True pKd: 5.220403671264648\n",
      "Predicted pKd: 13.863432884216309 | True pKd: 14.16749095916748\n",
      "Predicted pKd: 7.750341415405273 | True pKd: 7.844664096832275\n",
      "Predicted pKd: 9.319461822509766 | True pKd: 9.09691047668457\n",
      "Predicted pKd: 5.439206123352051 | True pKd: 7.677780628204346\n",
      "Predicted pKd: 6.08713436126709 | True pKd: 6.443697452545166\n",
      "Predicted pKd: 5.563685417175293 | True pKd: 4.991399765014648\n",
      "Predicted pKd: 9.05410385131836 | True pKd: 9.508638381958008\n",
      "Predicted pKd: 7.088523864746094 | True pKd: 7.552842140197754\n",
      "Predicted pKd: 7.4168901443481445 | True pKd: 5.15490198135376\n",
      "Predicted pKd: 11.03059196472168 | True pKd: 10.221848487854004\n",
      "Predicted pKd: 4.922115325927734 | True pKd: 4.863279342651367\n",
      "Predicted pKd: 7.328329086303711 | True pKd: 6.9281182289123535\n",
      "Predicted pKd: 8.376449584960938 | True pKd: 8.698969841003418\n",
      "Predicted pKd: 5.966179847717285 | True pKd: 3.7644715309143066\n",
      "Predicted pKd: 8.316970825195312 | True pKd: 5.92081880569458\n",
      "Predicted pKd: 6.112758636474609 | True pKd: 5.2924299240112305\n",
      "Predicted pKd: 5.374035835266113 | True pKd: 7.318758964538574\n",
      "Predicted pKd: 5.8374786376953125 | True pKd: 4.408935546875\n",
      "Predicted pKd: 9.449090957641602 | True pKd: 10.154901504516602\n",
      "Predicted pKd: 10.47573184967041 | True pKd: 10.079355239868164\n",
      "Predicted pKd: 5.603355407714844 | True pKd: 4.892789840698242\n",
      "Predicted pKd: 8.501815795898438 | True pKd: 8.279014587402344\n",
      "Predicted pKd: 5.663459777832031 | True pKd: 4.835647106170654\n",
      "Predicted pKd: 5.926947593688965 | True pKd: 9.95860767364502\n",
      "Predicted pKd: 7.750144004821777 | True pKd: 7.424812316894531\n",
      "Predicted pKd: 9.307055473327637 | True pKd: 8.732828140258789\n",
      "Predicted pKd: 8.590703010559082 | True pKd: 6.2790141105651855\n",
      "Predicted pKd: 6.026190757751465 | True pKd: 4.221848964691162\n",
      "Predicted pKd: 9.271212577819824 | True pKd: 10.175873756408691\n",
      "Predicted pKd: 5.469330787658691 | True pKd: 5.4202165603637695\n",
      "Predicted pKd: 8.705364227294922 | True pKd: 9.29242992401123\n",
      "Predicted pKd: 6.277886390686035 | True pKd: 5.301030158996582\n",
      "Predicted pKd: 9.403366088867188 | True pKd: 9.142667770385742\n",
      "Predicted pKd: 7.569458961486816 | True pKd: 11.142667770385742\n",
      "Predicted pKd: 8.503430366516113 | True pKd: 6.913640022277832\n",
      "Predicted pKd: 7.23798942565918 | True pKd: 10.533132553100586\n",
      "Predicted pKd: 5.976504325866699 | True pKd: 5.823908805847168\n",
      "Predicted pKd: 8.167980194091797 | True pKd: 7.2790141105651855\n",
      "Predicted pKd: 8.585081100463867 | True pKd: 6.777283668518066\n",
      "Predicted pKd: 8.848711013793945 | True pKd: 6.3665313720703125\n",
      "Predicted pKd: 6.460533142089844 | True pKd: 8.408935546875\n",
      "Predicted pKd: 5.745944976806641 | True pKd: 5.696804046630859\n",
      "Predicted pKd: 6.205820083618164 | True pKd: 4.698969841003418\n",
      "Predicted pKd: 9.424742698669434 | True pKd: 8.643974304199219\n",
      "Predicted pKd: 9.614503860473633 | True pKd: 10.327901840209961\n",
      "Predicted pKd: 4.689367294311523 | True pKd: 4.301030158996582\n",
      "Predicted pKd: 8.153352737426758 | True pKd: 8.361510276794434\n",
      "Predicted pKd: 4.528017044067383 | True pKd: 4.472370147705078\n",
      "Predicted pKd: 9.77396011352539 | True pKd: 8.279014587402344\n",
      "Predicted pKd: 4.855365753173828 | True pKd: 3.6925039291381836\n",
      "Predicted pKd: 4.9553070068359375 | True pKd: 5.34103536605835\n",
      "Predicted pKd: 7.615755081176758 | True pKd: 5.677780628204346\n",
      "Predicted pKd: 5.824190139770508 | True pKd: 7.585026741027832\n",
      "Predicted pKd: 7.026579856872559 | True pKd: 8.0\n",
      "Predicted pKd: 10.084728240966797 | True pKd: 10.681936264038086\n",
      "Predicted pKd: 9.084793090820312 | True pKd: 9.159266471862793\n",
      "Predicted pKd: 7.704596519470215 | True pKd: 6.548213481903076\n",
      "Predicted pKd: 5.849163055419922 | True pKd: 4.431798458099365\n",
      "Predicted pKd: 9.711579322814941 | True pKd: 10.684029579162598\n",
      "Predicted pKd: 7.079080581665039 | True pKd: 7.376750946044922\n",
      "Predicted pKd: 8.215508460998535 | True pKd: 12.0\n",
      "Predicted pKd: 7.432567596435547 | True pKd: 7.7695512771606445\n",
      "Predicted pKd: 8.192821502685547 | True pKd: 8.886056900024414\n",
      "Predicted pKd: 7.4832611083984375 | True pKd: 6.0\n",
      "Predicted pKd: 4.9501471519470215 | True pKd: 5.3098039627075195\n",
      "Predicted pKd: 7.803750991821289 | True pKd: 7.602059841156006\n",
      "Predicted pKd: 9.593731880187988 | True pKd: 8.346787452697754\n",
      "Predicted pKd: 7.889932632446289 | True pKd: 11.011441230773926\n",
      "Predicted pKd: 9.052918434143066 | True pKd: 9.698969841003418\n",
      "Predicted pKd: 13.44232177734375 | True pKd: 12.397939682006836\n",
      "Predicted pKd: 8.871946334838867 | True pKd: 8.356547355651855\n",
      "Predicted pKd: 4.6452789306640625 | True pKd: 4.744727611541748\n",
      "Predicted pKd: 6.747793197631836 | True pKd: 10.698969841003418\n",
      "Predicted pKd: 5.538878440856934 | True pKd: 6.242603778839111\n",
      "Predicted pKd: 7.285711288452148 | True pKd: 7.782516002655029\n",
      "Predicted pKd: 7.998649597167969 | True pKd: 6.301030158996582\n",
      "Predicted pKd: 6.3171281814575195 | True pKd: 6.4685211181640625\n",
      "Predicted pKd: 5.687400817871094 | True pKd: 8.882728576660156\n",
      "Predicted pKd: 7.886847496032715 | True pKd: 8.698969841003418\n",
      "Predicted pKd: 8.185358047485352 | True pKd: 9.126679420471191\n",
      "Predicted pKd: 4.0271806716918945 | True pKd: 4.407823085784912\n",
      "Predicted pKd: 9.117688179016113 | True pKd: 9.481486320495605\n",
      "Predicted pKd: 9.472102165222168 | True pKd: 9.804100036621094\n",
      "Predicted pKd: 9.34071159362793 | True pKd: 8.896196365356445\n",
      "Predicted pKd: 7.672130584716797 | True pKd: 6.548213481903076\n",
      "Predicted pKd: 4.915556907653809 | True pKd: 4.966576099395752\n",
      "Predicted pKd: 7.7718095779418945 | True pKd: 4.698969841003418\n",
      "Predicted pKd: 5.471493721008301 | True pKd: 6.232102394104004\n",
      "Predicted pKd: 9.062593460083008 | True pKd: 8.823908805847168\n",
      "Predicted pKd: 11.192447662353516 | True pKd: 10.481486320495605\n",
      "Predicted pKd: 10.591111183166504 | True pKd: 8.0\n",
      "Predicted pKd: 7.102386474609375 | True pKd: 7.346787452697754\n",
      "Predicted pKd: 7.776432037353516 | True pKd: 9.698969841003418\n",
      "Predicted pKd: 5.121921062469482 | True pKd: 5.2924299240112305\n",
      "Predicted pKd: 8.179065704345703 | True pKd: 9.853872299194336\n",
      "Predicted pKd: 5.4001569747924805 | True pKd: 5.522878646850586\n",
      "Predicted pKd: 4.454132080078125 | True pKd: 3.698970079421997\n",
      "Predicted pKd: 7.487675666809082 | True pKd: 6.79048490524292\n",
      "Predicted pKd: 7.652684211730957 | True pKd: 8.522878646850586\n",
      "Predicted pKd: 6.602138519287109 | True pKd: 6.207608222961426\n",
      "Predicted pKd: 13.759587287902832 | True pKd: 10.443697929382324\n",
      "Predicted pKd: 4.940204620361328 | True pKd: 7.677780628204346\n",
      "Predicted pKd: 6.00355339050293 | True pKd: 5.467245578765869\n",
      "Predicted pKd: 5.3086137771606445 | True pKd: 2.744727611541748\n",
      "Predicted pKd: 7.9552412033081055 | True pKd: 7.036211967468262\n",
      "Predicted pKd: 7.414555549621582 | True pKd: 6.602059841156006\n",
      "Predicted pKd: 7.453800201416016 | True pKd: 8.0\n",
      "Predicted pKd: 9.71204948425293 | True pKd: 9.71669864654541\n",
      "Predicted pKd: 9.953754425048828 | True pKd: 10.481486320495605\n",
      "Predicted pKd: 6.678768157958984 | True pKd: 11.698969841003418\n",
      "Predicted pKd: 4.223197937011719 | True pKd: 5.823908805847168\n",
      "Predicted pKd: 8.626368522644043 | True pKd: 8.619789123535156\n",
      "Predicted pKd: 7.991491317749023 | True pKd: 7.180456161499023\n",
      "Predicted pKd: 11.066690444946289 | True pKd: 10.387216567993164\n",
      "Predicted pKd: 7.294533729553223 | True pKd: 6.537601947784424\n",
      "Predicted pKd: 8.580789566040039 | True pKd: 7.92081880569458\n",
      "Predicted pKd: 5.997069358825684 | True pKd: 6.221848964691162\n",
      "Predicted pKd: 6.890015602111816 | True pKd: 7.71669864654541\n",
      "Predicted pKd: 5.219522953033447 | True pKd: 4.958607196807861\n",
      "Predicted pKd: 8.516359329223633 | True pKd: 4.698969841003418\n",
      "Predicted pKd: 7.643494606018066 | True pKd: 8.522878646850586\n",
      "Predicted pKd: 7.970503807067871 | True pKd: 8.543634414672852\n",
      "Predicted pKd: 9.99637508392334 | True pKd: 10.59175968170166\n",
      "Predicted pKd: 11.052907943725586 | True pKd: 10.585026741027832\n",
      "Predicted pKd: 9.276154518127441 | True pKd: 8.508638381958008\n",
      "Predicted pKd: 6.0014495849609375 | True pKd: 5.548213481903076\n",
      "Predicted pKd: 10.306077003479004 | True pKd: 10.175873756408691\n",
      "Predicted pKd: 8.185287475585938 | True pKd: 7.12493896484375\n",
      "Predicted pKd: 4.222366809844971 | True pKd: 5.886056423187256\n",
      "Predicted pKd: 6.907953262329102 | True pKd: 6.15490198135376\n",
      "Predicted pKd: 5.88535213470459 | True pKd: 6.79048490524292\n",
      "Predicted pKd: 4.9502716064453125 | True pKd: 5.684029579162598\n",
      "Predicted pKd: 7.296116828918457 | True pKd: 6.3260579109191895\n",
      "Predicted pKd: 7.756217956542969 | True pKd: 6.301030158996582\n",
      "Predicted pKd: 6.724259376525879 | True pKd: 4.240332126617432\n",
      "Predicted pKd: 5.824644088745117 | True pKd: 7.970616340637207\n",
      "Predicted pKd: 5.137175559997559 | True pKd: 4.221848964691162\n",
      "Predicted pKd: 10.098907470703125 | True pKd: 9.531652450561523\n",
      "Predicted pKd: 6.25123405456543 | True pKd: 6.581698894500732\n",
      "Predicted pKd: 4.950441360473633 | True pKd: 7.588380336761475\n",
      "Predicted pKd: 5.544602394104004 | True pKd: 5.338187217712402\n",
      "Predicted pKd: 8.251927375793457 | True pKd: 10.040958404541016\n",
      "Predicted pKd: 7.913539886474609 | True pKd: 5.886056423187256\n",
      "Predicted pKd: 6.47227668762207 | True pKd: 8.041436195373535\n",
      "Predicted pKd: 8.588810920715332 | True pKd: 10.086186408996582\n",
      "Predicted pKd: 8.619500160217285 | True pKd: 8.590066909790039\n",
      "Predicted pKd: 4.934969902038574 | True pKd: 7.161150932312012\n",
      "Predicted pKd: 9.320261001586914 | True pKd: 9.438899040222168\n",
      "Predicted pKd: 6.3017778396606445 | True pKd: 8.221848487854004\n",
      "Predicted pKd: 13.751049041748047 | True pKd: 10.29242992401123\n",
      "Predicted pKd: 7.349391937255859 | True pKd: 5.6038007736206055\n",
      "Predicted pKd: 8.14577579498291 | True pKd: 7.759450912475586\n",
      "Predicted pKd: 4.657032489776611 | True pKd: 5.15490198135376\n",
      "Predicted pKd: 9.40117359161377 | True pKd: 9.119186401367188\n",
      "Predicted pKd: 7.434161186218262 | True pKd: 8.221848487854004\n",
      "Predicted pKd: 7.738395690917969 | True pKd: 6.496209144592285\n",
      "Predicted pKd: 7.323782920837402 | True pKd: 6.259637355804443\n",
      "Predicted pKd: 5.685944557189941 | True pKd: 4.95078182220459\n",
      "Predicted pKd: 9.771856307983398 | True pKd: 14.09691047668457\n",
      "Predicted pKd: 4.971035957336426 | True pKd: 4.92081880569458\n",
      "Predicted pKd: 4.944310665130615 | True pKd: 5.113509178161621\n",
      "Predicted pKd: 4.524273872375488 | True pKd: 4.0\n",
      "Predicted pKd: 12.053690910339355 | True pKd: 10.86012077331543\n",
      "Predicted pKd: 5.693108558654785 | True pKd: 5.315154552459717\n",
      "Predicted pKd: 10.657916069030762 | True pKd: 10.254924774169922\n",
      "Predicted pKd: 7.270843505859375 | True pKd: 7.259637355804443\n",
      "Predicted pKd: 4.843991279602051 | True pKd: 3.886056661605835\n",
      "Predicted pKd: 8.509955406188965 | True pKd: 4.93930196762085\n",
      "Predicted pKd: 7.672062873840332 | True pKd: 8.12378215789795\n",
      "Predicted pKd: 10.3759126663208 | True pKd: 10.42021656036377\n",
      "Predicted pKd: 7.786761283874512 | True pKd: 7.739928722381592\n",
      "Predicted pKd: 5.125769138336182 | True pKd: 4.15490198135376\n",
      "Predicted pKd: 10.02519416809082 | True pKd: 10.892789840698242\n",
      "Predicted pKd: 11.096046447753906 | True pKd: 10.795880317687988\n",
      "Predicted pKd: 7.792023658752441 | True pKd: 7.387216091156006\n",
      "Predicted pKd: 8.55042839050293 | True pKd: 6.229147911071777\n",
      "Predicted pKd: 6.603594779968262 | True pKd: 9.0\n",
      "Predicted pKd: 5.414271354675293 | True pKd: 5.187086582183838\n",
      "Predicted pKd: 7.275226593017578 | True pKd: 4.935542106628418\n",
      "Predicted pKd: 7.480927467346191 | True pKd: 8.138465881347656\n",
      "Predicted pKd: 7.278766632080078 | True pKd: 9.301030158996582\n",
      "Predicted pKd: 7.310175895690918 | True pKd: 6.443697452545166\n",
      "Predicted pKd: 6.875310897827148 | True pKd: 6.698969841003418\n",
      "Predicted pKd: 4.621656894683838 | True pKd: 4.066512584686279\n",
      "Predicted pKd: 7.486041069030762 | True pKd: 7.274905681610107\n",
      "Predicted pKd: 6.5218706130981445 | True pKd: 4.0893754959106445\n",
      "Predicted pKd: 7.633533477783203 | True pKd: 7.180456161499023\n",
      "Predicted pKd: 7.4989728927612305 | True pKd: 8.321481704711914\n",
      "Predicted pKd: 9.769505500793457 | True pKd: 10.49079704284668\n",
      "Predicted pKd: 5.5993804931640625 | True pKd: 5.25492525100708\n",
      "Predicted pKd: 9.404077529907227 | True pKd: 9.397939682006836\n",
      "Predicted pKd: 9.2715425491333 | True pKd: 8.391473770141602\n",
      "Predicted pKd: 6.028372764587402 | True pKd: 6.341988563537598\n",
      "Predicted pKd: 6.467474937438965 | True pKd: 6.638272285461426\n",
      "Predicted pKd: 8.315814971923828 | True pKd: 8.041436195373535\n",
      "Predicted pKd: 9.917662620544434 | True pKd: 11.244125366210938\n",
      "Predicted pKd: 9.411081314086914 | True pKd: 9.221848487854004\n",
      "Predicted pKd: 6.469922065734863 | True pKd: 8.154901504516602\n",
      "Predicted pKd: 5.801938056945801 | True pKd: 6.958607196807861\n",
      "Predicted pKd: 6.228470802307129 | True pKd: 7.308918476104736\n",
      "Predicted pKd: 5.451533317565918 | True pKd: 6.224025726318359\n",
      "Predicted pKd: 7.2952775955200195 | True pKd: 8.045757293701172\n",
      "Predicted pKd: 7.77977180480957 | True pKd: 7.844664096832275\n",
      "Predicted pKd: 10.659043312072754 | True pKd: 11.079355239868164\n",
      "Predicted pKd: 7.420757293701172 | True pKd: 5.747147083282471\n",
      "Predicted pKd: 5.505587577819824 | True pKd: 5.560667514801025\n",
      "Predicted pKd: 4.374528884887695 | True pKd: 3.4559319019317627\n",
      "Predicted pKd: 9.454833030700684 | True pKd: 8.414539337158203\n",
      "Predicted pKd: 5.4674072265625 | True pKd: 6.764471530914307\n",
      "Predicted pKd: 9.402267456054688 | True pKd: 9.0\n",
      "Predicted pKd: 7.437108993530273 | True pKd: 8.531652450561523\n",
      "Predicted pKd: 6.583986282348633 | True pKd: 6.43889856338501\n",
      "Predicted pKd: 6.770800590515137 | True pKd: 6.619788646697998\n",
      "Predicted pKd: 8.325007438659668 | True pKd: 7.79587984085083\n",
      "Predicted pKd: 5.547293663024902 | True pKd: 5.161150932312012\n",
      "Predicted pKd: 7.913150787353516 | True pKd: 5.640164375305176\n",
      "Predicted pKd: 10.554451942443848 | True pKd: 10.832682609558105\n",
      "Predicted pKd: 4.1741251945495605 | True pKd: 3.5575201511383057\n",
      "Predicted pKd: 6.843510627746582 | True pKd: 8.54668140411377\n",
      "Predicted pKd: 5.308136940002441 | True pKd: 5.92081880569458\n",
      "Predicted pKd: 9.764122009277344 | True pKd: 10.446117401123047\n",
      "Predicted pKd: 5.530627250671387 | True pKd: 5.337242126464844\n",
      "Predicted pKd: 6.307939529418945 | True pKd: 5.494850158691406\n",
      "Predicted pKd: 7.702062606811523 | True pKd: 7.149966716766357\n",
      "Predicted pKd: 6.963095664978027 | True pKd: 7.318758964538574\n",
      "Predicted pKd: 5.800870895385742 | True pKd: 4.853871822357178\n",
      "Predicted pKd: 7.472826957702637 | True pKd: 6.149353981018066\n",
      "Predicted pKd: 4.135384559631348 | True pKd: 4.317854881286621\n",
      "Predicted pKd: 7.146127700805664 | True pKd: 6.809668064117432\n",
      "Predicted pKd: 10.648386001586914 | True pKd: 10.795880317687988\n",
      "Predicted pKd: 4.716161727905273 | True pKd: 4.92081880569458\n",
      "Predicted pKd: 7.289546012878418 | True pKd: 6.886056423187256\n",
      "Predicted pKd: 9.377228736877441 | True pKd: 10.562249183654785\n",
      "Predicted pKd: 6.723942756652832 | True pKd: 8.05650520324707\n",
      "Predicted pKd: 7.454029083251953 | True pKd: 9.42021656036377\n",
      "Predicted pKd: 10.599185943603516 | True pKd: 8.247183799743652\n",
      "Predicted pKd: 6.339251518249512 | True pKd: 6.602059841156006\n",
      "Predicted pKd: 7.700355529785156 | True pKd: 9.886056900024414\n",
      "Predicted pKd: 9.403681755065918 | True pKd: 9.207608222961426\n",
      "Predicted pKd: 9.436684608459473 | True pKd: 6.568636417388916\n",
      "Predicted pKd: 10.191320419311523 | True pKd: 9.522878646850586\n",
      "Predicted pKd: 6.752076148986816 | True pKd: 5.6575775146484375\n",
      "Predicted pKd: 4.590882301330566 | True pKd: 6.045757293701172\n",
      "Predicted pKd: 9.521728515625 | True pKd: 8.367542266845703\n",
      "Predicted pKd: 7.295232772827148 | True pKd: 7.725841999053955\n",
      "Predicted pKd: 9.555471420288086 | True pKd: 12.853872299194336\n",
      "Predicted pKd: 7.670069694519043 | True pKd: 9.886056900024414\n",
      "Predicted pKd: 9.39909839630127 | True pKd: 8.95860767364502\n",
      "Predicted pKd: 6.640491485595703 | True pKd: 4.886056423187256\n",
      "Predicted pKd: 7.308226585388184 | True pKd: 7.75448751449585\n",
      "Predicted pKd: 10.139726638793945 | True pKd: 10.230622291564941\n",
      "Predicted pKd: 9.080595970153809 | True pKd: 9.431797981262207\n",
      "Predicted pKd: 6.408117294311523 | True pKd: 7.20412015914917\n",
      "Predicted pKd: 8.29938793182373 | True pKd: 5.721246242523193\n",
      "Predicted pKd: 8.711297035217285 | True pKd: 8.585026741027832\n",
      "Predicted pKd: 4.721998691558838 | True pKd: 4.9763360023498535\n",
      "Predicted pKd: 5.959190368652344 | True pKd: 5.130768299102783\n",
      "Predicted pKd: 14.749027252197266 | True pKd: 15.698969841003418\n",
      "Predicted pKd: 8.279351234436035 | True pKd: 8.42021656036377\n",
      "Predicted pKd: 4.4641265869140625 | True pKd: 3.698970079421997\n",
      "Predicted pKd: 8.907646179199219 | True pKd: 5.1191864013671875\n",
      "Predicted pKd: 5.820423126220703 | True pKd: 7.045757293701172\n",
      "Predicted pKd: 5.499602317810059 | True pKd: 4.747147083282471\n",
      "Predicted pKd: 9.589020729064941 | True pKd: 11.793173789978027\n",
      "Predicted pKd: 7.207394599914551 | True pKd: 8.09691047668457\n",
      "Predicted pKd: 6.304327011108398 | True pKd: 7.431798458099365\n",
      "Predicted pKd: 10.335434913635254 | True pKd: 10.653647422790527\n",
      "Predicted pKd: 9.970943450927734 | True pKd: 10.119186401367188\n",
      "Predicted pKd: 11.003477096557617 | True pKd: 9.568635940551758\n",
      "Predicted pKd: 9.397368431091309 | True pKd: 8.747146606445312\n",
      "Predicted pKd: 7.270382881164551 | True pKd: 5.2790141105651855\n",
      "Predicted pKd: 7.436131477355957 | True pKd: 7.568636417388916\n",
      "Predicted pKd: 9.929579734802246 | True pKd: 10.193819999694824\n",
      "Predicted pKd: 6.1207170486450195 | True pKd: 8.045757293701172\n",
      "Predicted pKd: 6.361961364746094 | True pKd: 3.92081880569458\n",
      "Predicted pKd: 9.064644813537598 | True pKd: 7.84163761138916\n",
      "Predicted pKd: 4.932172775268555 | True pKd: 3.1972947120666504\n",
      "Predicted pKd: 6.88836669921875 | True pKd: 8.397939682006836\n",
      "Predicted pKd: 6.655828475952148 | True pKd: 7.6270880699157715\n",
      "Predicted pKd: 10.628132820129395 | True pKd: 3.7695510387420654\n",
      "Predicted pKd: 9.112956047058105 | True pKd: 9.0\n",
      "Predicted pKd: 9.715497016906738 | True pKd: 9.714442253112793\n",
      "Predicted pKd: 5.469420433044434 | True pKd: 6.496209144592285\n",
      "Predicted pKd: 6.05670166015625 | True pKd: 5.958607196807861\n",
      "Predicted pKd: 9.454471588134766 | True pKd: 8.726073265075684\n",
      "Predicted pKd: 6.952733993530273 | True pKd: 6.091515064239502\n",
      "Predicted pKd: 7.64002799987793 | True pKd: 9.064493179321289\n",
      "Predicted pKd: 7.626303672790527 | True pKd: 8.238823890686035\n",
      "Predicted pKd: 13.024842262268066 | True pKd: 12.26280689239502\n",
      "Predicted pKd: 9.063826560974121 | True pKd: 9.214670181274414\n",
      "Predicted pKd: 6.62040901184082 | True pKd: 4.6160054206848145\n",
      "Predicted pKd: 4.119717121124268 | True pKd: 4.533132553100586\n",
      "Predicted pKd: 5.961549758911133 | True pKd: 4.876148223876953\n",
      "Predicted pKd: 8.176471710205078 | True pKd: 9.698969841003418\n",
      "Predicted pKd: 6.889954566955566 | True pKd: 7.853871822357178\n",
      "Predicted pKd: 6.095025062561035 | True pKd: 6.397940158843994\n",
      "Predicted pKd: 6.284720420837402 | True pKd: 7.0\n",
      "Predicted pKd: 6.695211410522461 | True pKd: 7.236571788787842\n",
      "Predicted pKd: 7.258359909057617 | True pKd: 6.744727611541748\n",
      "Predicted pKd: 7.208478927612305 | True pKd: 8.853872299194336\n",
      "Predicted pKd: 7.383493423461914 | True pKd: 8.229147911071777\n",
      "Predicted pKd: 10.637967109680176 | True pKd: 11.638272285461426\n",
      "Predicted pKd: 8.136878967285156 | True pKd: 10.28399658203125\n",
      "Predicted pKd: 4.766816139221191 | True pKd: 5.259637355804443\n",
      "Predicted pKd: 6.635759353637695 | True pKd: 9.920818328857422\n",
      "Predicted pKd: 5.820579528808594 | True pKd: 4.28399658203125\n",
      "Predicted pKd: 7.719306945800781 | True pKd: 10.193819999694824\n",
      "Predicted pKd: 5.04942512512207 | True pKd: 5.872895240783691\n",
      "Predicted pKd: 7.757183074951172 | True pKd: 8.07211685180664\n",
      "Predicted pKd: 7.54057502746582 | True pKd: 10.522878646850586\n",
      "Predicted pKd: 8.172379493713379 | True pKd: 7.889410495758057\n",
      "Predicted pKd: 6.618075370788574 | True pKd: 7.698969841003418\n",
      "Predicted pKd: 8.144139289855957 | True pKd: 10.91009521484375\n",
      "Predicted pKd: 4.487430095672607 | True pKd: 4.546681880950928\n",
      "Predicted pKd: 7.212945938110352 | True pKd: 7.191789150238037\n",
      "Predicted pKd: 5.966692924499512 | True pKd: 5.3565473556518555\n",
      "Predicted pKd: 5.8263092041015625 | True pKd: 4.958607196807861\n",
      "Predicted pKd: 8.40137004852295 | True pKd: 7.817300319671631\n",
      "Predicted pKd: 5.494141578674316 | True pKd: 5.206908226013184\n",
      "Predicted pKd: 7.994414329528809 | True pKd: 6.522878646850586\n",
      "Predicted pKd: 6.267377853393555 | True pKd: 6.361510753631592\n",
      "Predicted pKd: 5.561158180236816 | True pKd: 6.455932140350342\n",
      "Predicted pKd: 5.289052963256836 | True pKd: 4.823908805847168\n",
      "Predicted pKd: 7.352446556091309 | True pKd: 9.28399658203125\n",
      "Predicted pKd: 6.049528121948242 | True pKd: 4.40450382232666\n",
      "Predicted pKd: 9.948697090148926 | True pKd: 6.20412015914917\n",
      "Predicted pKd: 5.4196319580078125 | True pKd: 5.214670181274414\n",
      "Predicted pKd: 6.372932434082031 | True pKd: 6.7695512771606445\n",
      "Predicted pKd: 6.929503440856934 | True pKd: 7.95078182220459\n",
      "Predicted pKd: 8.809194564819336 | True pKd: 10.0\n",
      "Predicted pKd: 4.528299331665039 | True pKd: 3.698970079421997\n",
      "Predicted pKd: 8.275391578674316 | True pKd: 8.102373123168945\n",
      "Predicted pKd: 7.6436309814453125 | True pKd: 7.721246242523193\n",
      "Predicted pKd: 9.720633506774902 | True pKd: 8.924452781677246\n",
      "Predicted pKd: 7.470340728759766 | True pKd: 7.607303142547607\n",
      "Predicted pKd: 9.411858558654785 | True pKd: 9.772112846374512\n",
      "Predicted pKd: 5.5430498123168945 | True pKd: 6.0\n",
      "Predicted pKd: 5.439709663391113 | True pKd: 5.570247650146484\n",
      "Predicted pKd: 7.400096893310547 | True pKd: 6.2306227684021\n",
      "Predicted pKd: 6.249035835266113 | True pKd: 6.777283668518066\n",
      "Predicted pKd: 9.081379890441895 | True pKd: 9.20273208618164\n",
      "Predicted pKd: 9.424580574035645 | True pKd: 9.050609588623047\n",
      "Predicted pKd: 4.675961494445801 | True pKd: 5.161150932312012\n",
      "Predicted pKd: 9.414098739624023 | True pKd: 9.070581436157227\n",
      "Predicted pKd: 5.8248748779296875 | True pKd: 4.84163761138916\n",
      "Predicted pKd: 8.179035186767578 | True pKd: 9.09691047668457\n",
      "Predicted pKd: 4.78071403503418 | True pKd: 5.193819999694824\n",
      "Predicted pKd: 6.037666320800781 | True pKd: 5.93930196762085\n",
      "Predicted pKd: 8.3250093460083 | True pKd: 9.161150932312012\n",
      "Predicted pKd: 4.170609474182129 | True pKd: 5.60554838180542\n",
      "Predicted pKd: 9.400474548339844 | True pKd: 9.494850158691406\n",
      "Predicted pKd: 7.179416656494141 | True pKd: 4.6575775146484375\n",
      "Predicted pKd: 5.960665702819824 | True pKd: 4.0\n",
      "Predicted pKd: 7.71540641784668 | True pKd: 7.602059841156006\n",
      "Predicted pKd: 5.541996955871582 | True pKd: 5.397940158843994\n",
      "Predicted pKd: 8.369685173034668 | True pKd: 5.92081880569458\n",
      "Predicted pKd: 4.720618724822998 | True pKd: 5.065501689910889\n",
      "Predicted pKd: 6.150487899780273 | True pKd: 5.079354763031006\n",
      "Predicted pKd: 8.2791109085083 | True pKd: 8.431797981262207\n",
      "Predicted pKd: 10.265684127807617 | True pKd: 10.764472007751465\n",
      "Predicted pKd: 6.482924461364746 | True pKd: 6.458420753479004\n",
      "Predicted pKd: 7.1617631912231445 | True pKd: 8.853872299194336\n",
      "Predicted pKd: 4.5824432373046875 | True pKd: 4.677780628204346\n",
      "Predicted pKd: 8.196916580200195 | True pKd: 9.455931663513184\n",
      "Predicted pKd: 8.943426132202148 | True pKd: 9.806875228881836\n",
      "Predicted pKd: 4.53226375579834 | True pKd: 4.113509178161621\n",
      "Predicted pKd: 8.702133178710938 | True pKd: 9.95860767364502\n",
      "Predicted pKd: 5.47593879699707 | True pKd: 4.677780628204346\n",
      "Predicted pKd: 7.849665641784668 | True pKd: 7.2924299240112305\n",
      "Predicted pKd: 7.8690900802612305 | True pKd: 8.060481071472168\n",
      "Predicted pKd: 6.457247734069824 | True pKd: 7.045757293701172\n",
      "Predicted pKd: 8.209992408752441 | True pKd: 8.214670181274414\n",
      "Predicted pKd: 4.964146614074707 | True pKd: 4.522878646850586\n",
      "Predicted pKd: 7.293252944946289 | True pKd: 7.619788646697998\n",
      "Predicted pKd: 10.704207420349121 | True pKd: 13.78515625\n",
      "Predicted pKd: 4.647459030151367 | True pKd: 4.886056423187256\n",
      "Predicted pKd: 4.959217071533203 | True pKd: 5.289036750793457\n",
      "Predicted pKd: 7.036513328552246 | True pKd: 7.341988563537598\n",
      "Predicted pKd: 6.286293029785156 | True pKd: 5.1313557624816895\n",
      "Predicted pKd: 6.912086486816406 | True pKd: 6.2790141105651855\n",
      "Predicted pKd: 7.209166526794434 | True pKd: 6.251811981201172\n",
      "Predicted pKd: 10.409433364868164 | True pKd: 10.707743644714355\n",
      "Predicted pKd: 4.977705001831055 | True pKd: 3.698970079421997\n",
      "Predicted pKd: 9.02857494354248 | True pKd: 10.74472713470459\n",
      "Predicted pKd: 4.950112342834473 | True pKd: 4.653646945953369\n",
      "Predicted pKd: 10.02141284942627 | True pKd: 9.041436195373535\n",
      "Predicted pKd: 5.468542098999023 | True pKd: 5.958607196807861\n",
      "Predicted pKd: 7.802671432495117 | True pKd: 7.096909999847412\n",
      "Predicted pKd: 5.524685859680176 | True pKd: 3.742321491241455\n",
      "Predicted pKd: 9.06484603881836 | True pKd: 8.079355239868164\n",
      "Predicted pKd: 7.785988807678223 | True pKd: 7.823908805847168\n",
      "Predicted pKd: 8.591452598571777 | True pKd: 8.443697929382324\n",
      "Predicted pKd: 10.678004264831543 | True pKd: 11.59175968170166\n",
      "Predicted pKd: 8.121726989746094 | True pKd: 7.7695512771606445\n",
      "Predicted pKd: 6.622775077819824 | True pKd: 5.537601947784424\n",
      "Predicted pKd: 8.048815727233887 | True pKd: 10.443697929382324\n",
      "Predicted pKd: 5.468503952026367 | True pKd: 6.157390594482422\n",
      "Predicted pKd: 8.184679985046387 | True pKd: 8.536107063293457\n",
      "Predicted pKd: 10.420105934143066 | True pKd: 11.66353988647461\n",
      "Predicted pKd: 5.494150161743164 | True pKd: 7.022276401519775\n",
      "Predicted pKd: 5.045670986175537 | True pKd: 5.93930196762085\n",
      "Predicted pKd: 7.92744255065918 | True pKd: 7.522878646850586\n",
      "Predicted pKd: 4.892144203186035 | True pKd: 4.829738140106201\n",
      "Predicted pKd: 8.51718521118164 | True pKd: 11.0\n",
      "Predicted pKd: 6.245969772338867 | True pKd: 5.180456161499023\n",
      "Predicted pKd: 5.599480628967285 | True pKd: 7.958607196807861\n",
      "Predicted pKd: 10.504748344421387 | True pKd: 9.175873756408691\n",
      "Predicted pKd: 4.657500267028809 | True pKd: 4.096909999847412\n",
      "Predicted pKd: 9.063443183898926 | True pKd: 9.508638381958008\n",
      "Predicted pKd: 4.460382461547852 | True pKd: 4.188425064086914\n",
      "Predicted pKd: 5.780269622802734 | True pKd: 7.669586181640625\n",
      "Predicted pKd: 6.040637969970703 | True pKd: 3.540607452392578\n",
      "Predicted pKd: 9.40303897857666 | True pKd: 8.86966609954834\n",
      "Predicted pKd: 7.948766708374023 | True pKd: 10.536107063293457\n",
      "Predicted pKd: 4.295406341552734 | True pKd: 4.7695512771606445\n",
      "Predicted pKd: 10.52315902709961 | True pKd: 11.279014587402344\n",
      "Predicted pKd: 8.21168041229248 | True pKd: 10.95078182220459\n",
      "Predicted pKd: 9.397242546081543 | True pKd: 9.154901504516602\n",
      "Predicted pKd: 9.400691986083984 | True pKd: 9.040958404541016\n",
      "Predicted pKd: 4.844876289367676 | True pKd: 4.065501689910889\n",
      "Predicted pKd: 8.603065490722656 | True pKd: 9.0\n",
      "Predicted pKd: 7.792232513427734 | True pKd: 10.886056900024414\n",
      "Predicted pKd: 9.458388328552246 | True pKd: 7.522878646850586\n",
      "Predicted pKd: 8.157769203186035 | True pKd: 8.568635940551758\n",
      "Predicted pKd: 4.585183143615723 | True pKd: 4.494850158691406\n",
      "Predicted pKd: 9.553531646728516 | True pKd: 10.055517196655273\n",
      "Predicted pKd: 9.911980628967285 | True pKd: 9.698969841003418\n",
      "Predicted pKd: 10.360177040100098 | True pKd: 10.747146606445312\n",
      "Predicted pKd: 7.321944236755371 | True pKd: 8.397939682006836\n",
      "Predicted pKd: 6.188227653503418 | True pKd: 4.2306227684021\n",
      "Predicted pKd: 5.469095230102539 | True pKd: 5.528708457946777\n",
      "Predicted pKd: 4.592410087585449 | True pKd: 4.4202165603637695\n",
      "Predicted pKd: 7.545623779296875 | True pKd: 10.28399658203125\n",
      "Predicted pKd: 9.09669017791748 | True pKd: 9.443697929382324\n",
      "Predicted pKd: 6.952933311462402 | True pKd: 6.6038007736206055\n",
      "Predicted pKd: 7.149007797241211 | True pKd: 5.653646945953369\n",
      "Predicted pKd: 10.320005416870117 | True pKd: 9.251811981201172\n",
      "Predicted pKd: 7.173636436462402 | True pKd: 4.886056423187256\n",
      "Predicted pKd: 5.857089996337891 | True pKd: 7.041436195373535\n",
      "Predicted pKd: 8.854801177978516 | True pKd: 8.154901504516602\n",
      "Predicted pKd: 12.795790672302246 | True pKd: 10.642065048217773\n",
      "Predicted pKd: 9.167123794555664 | True pKd: 7.221848964691162\n",
      "Predicted pKd: 10.422687530517578 | True pKd: 8.522878646850586\n",
      "Predicted pKd: 9.562328338623047 | True pKd: 9.886056900024414\n",
      "Predicted pKd: 8.577807426452637 | True pKd: 9.0\n",
      "Predicted pKd: 9.407500267028809 | True pKd: 9.154901504516602\n",
      "Predicted pKd: 7.112089157104492 | True pKd: 7.412289142608643\n",
      "Predicted pKd: 10.59224796295166 | True pKd: 10.798603057861328\n",
      "Predicted pKd: 4.986388683319092 | True pKd: 4.253365993499756\n",
      "Predicted pKd: 7.4063720703125 | True pKd: 7.455932140350342\n",
      "Predicted pKd: 8.336175918579102 | True pKd: 8.238072395324707\n",
      "Predicted pKd: 8.807255744934082 | True pKd: 5.1191864013671875\n",
      "Predicted pKd: 5.724458694458008 | True pKd: 5.259637355804443\n",
      "Predicted pKd: 4.856224536895752 | True pKd: 4.221848964691162\n",
      "Predicted pKd: 8.284951210021973 | True pKd: 8.102373123168945\n",
      "Predicted pKd: 4.851369857788086 | True pKd: 5.022276401519775\n",
      "Predicted pKd: 6.680354118347168 | True pKd: 9.045757293701172\n",
      "Predicted pKd: 6.405552864074707 | True pKd: 6.4685211181640625\n",
      "Predicted pKd: 9.333364486694336 | True pKd: 8.718966484069824\n",
      "Predicted pKd: 10.350347518920898 | True pKd: 11.522878646850586\n",
      "Predicted pKd: 4.45806884765625 | True pKd: 4.193819999694824\n",
      "Predicted pKd: 7.963722229003906 | True pKd: 9.221848487854004\n",
      "Predicted pKd: 8.642918586730957 | True pKd: 9.154901504516602\n",
      "Predicted pKd: 6.723454475402832 | True pKd: 6.681936740875244\n",
      "Predicted pKd: 8.436910629272461 | True pKd: 7.732828140258789\n",
      "Predicted pKd: 9.867993354797363 | True pKd: 11.204119682312012\n",
      "Predicted pKd: 7.141956329345703 | True pKd: 7.602059841156006\n",
      "Predicted pKd: 5.101373195648193 | True pKd: 4.115771293640137\n",
      "Predicted pKd: 6.5556793212890625 | True pKd: 5.045757293701172\n",
      "Predicted pKd: 8.919577598571777 | True pKd: 8.74472713470459\n",
      "Predicted pKd: 7.476598739624023 | True pKd: 3.0\n",
      "Predicted pKd: 4.676906585693359 | True pKd: 5.86966609954834\n",
      "Predicted pKd: 7.717782974243164 | True pKd: 6.15490198135376\n",
      "Predicted pKd: 4.963123798370361 | True pKd: 4.2441253662109375\n",
      "Predicted pKd: 5.787837028503418 | True pKd: 3.411168336868286\n",
      "Predicted pKd: 4.531727313995361 | True pKd: 5.220403671264648\n",
      "Predicted pKd: 8.035975456237793 | True pKd: 7.602059841156006\n",
      "Predicted pKd: 9.365612983703613 | True pKd: 9.95078182220459\n",
      "Predicted pKd: 4.747776508331299 | True pKd: 5.193819999694824\n",
      "Predicted pKd: 4.398655891418457 | True pKd: 4.764471530914307\n",
      "Predicted pKd: 7.006564140319824 | True pKd: 7.3665313720703125\n",
      "Predicted pKd: 5.687009811401367 | True pKd: 6.879426002502441\n",
      "Predicted pKd: 7.904146194458008 | True pKd: 9.91009521484375\n",
      "Predicted pKd: 6.879722595214844 | True pKd: 7.026872158050537\n",
      "Predicted pKd: 9.772736549377441 | True pKd: 9.301030158996582\n",
      "Predicted pKd: 6.187088966369629 | True pKd: 6.104025363922119\n",
      "Predicted pKd: 8.542160034179688 | True pKd: 7.903090000152588\n",
      "Predicted pKd: 5.96425724029541 | True pKd: 7.146301746368408\n",
      "Predicted pKd: 7.018007278442383 | True pKd: 8.542118072509766\n",
      "Predicted pKd: 7.786402702331543 | True pKd: 8.397939682006836\n",
      "Predicted pKd: 9.084911346435547 | True pKd: 9.59175968170166\n",
      "Predicted pKd: 8.870837211608887 | True pKd: 8.602060317993164\n",
      "Predicted pKd: 10.079347610473633 | True pKd: 10.441291809082031\n",
      "Predicted pKd: 8.433465957641602 | True pKd: 5.1674909591674805\n",
      "Predicted pKd: 8.12000560760498 | True pKd: 7.585026741027832\n",
      "Predicted pKd: 5.822691917419434 | True pKd: 6.698969841003418\n",
      "Predicted pKd: 4.541596412658691 | True pKd: 5.79587984085083\n",
      "Predicted pKd: 9.435081481933594 | True pKd: 8.036211967468262\n",
      "Predicted pKd: 5.540126800537109 | True pKd: 5.0087738037109375\n",
      "Predicted pKd: 6.398089408874512 | True pKd: 6.026872158050537\n",
      "Predicted pKd: 5.663569450378418 | True pKd: 5.339134693145752\n",
      "Predicted pKd: 10.032195091247559 | True pKd: 10.721246719360352\n",
      "Predicted pKd: 9.764496803283691 | True pKd: 9.146302223205566\n",
      "Predicted pKd: 5.905642509460449 | True pKd: 6.096909999847412\n",
      "Predicted pKd: 8.174351692199707 | True pKd: 9.267605781555176\n",
      "Predicted pKd: 7.540716171264648 | True pKd: 10.136676788330078\n",
      "Predicted pKd: 6.726653099060059 | True pKd: 5.79048490524292\n",
      "Predicted pKd: 5.440662384033203 | True pKd: 7.508638381958008\n",
      "Predicted pKd: 8.79991626739502 | True pKd: 7.958607196807861\n",
      "Predicted pKd: 8.199667930603027 | True pKd: 9.20273208618164\n",
      "Predicted pKd: 9.955406188964844 | True pKd: 10.698969841003418\n",
      "Predicted pKd: 7.28162956237793 | True pKd: 8.677781105041504\n",
      "Predicted pKd: 7.880216598510742 | True pKd: 9.20065975189209\n",
      "Predicted pKd: 6.063459396362305 | True pKd: 6.958607196807861\n",
      "Predicted pKd: 7.852792739868164 | True pKd: 5.397940158843994\n",
      "Predicted pKd: 5.850671768188477 | True pKd: 5.573488712310791\n",
      "Predicted pKd: 7.44760799407959 | True pKd: 5.721246242523193\n",
      "Predicted pKd: 6.92283821105957 | True pKd: 8.522878646850586\n",
      "Predicted pKd: 9.567776679992676 | True pKd: 7.892789840698242\n",
      "Predicted pKd: 7.4787445068359375 | True pKd: 6.93930196762085\n",
      "Predicted pKd: 9.051228523254395 | True pKd: 8.931814193725586\n",
      "Predicted pKd: 8.113727569580078 | True pKd: 10.301030158996582\n",
      "Predicted pKd: 10.624649047851562 | True pKd: 9.568635940551758\n",
      "Predicted pKd: 4.639153480529785 | True pKd: 4.346787452697754\n",
      "Predicted pKd: 10.044867515563965 | True pKd: 11.146302223205566\n",
      "Predicted pKd: 8.5370512008667 | True pKd: 9.537602424621582\n",
      "Predicted pKd: 9.867340087890625 | True pKd: 9.928117752075195\n",
      "Predicted pKd: 6.666935920715332 | True pKd: 6.6575775146484375\n",
      "Predicted pKd: 7.556462287902832 | True pKd: 6.50445556640625\n",
      "Predicted pKd: 8.46950912475586 | True pKd: 8.431797981262207\n",
      "Predicted pKd: 7.29990291595459 | True pKd: 7.79587984085083\n",
      "Predicted pKd: 5.990913391113281 | True pKd: 5.958607196807861\n",
      "Predicted pKd: 7.44841194152832 | True pKd: 6.79048490524292\n",
      "Predicted pKd: 8.496365547180176 | True pKd: 8.079355239868164\n",
      "Predicted pKd: 7.217714309692383 | True pKd: 7.844664096832275\n",
      "Predicted pKd: 8.670490264892578 | True pKd: 11.337242126464844\n",
      "Predicted pKd: 7.666103363037109 | True pKd: 6.694648742675781\n",
      "Predicted pKd: 5.12747859954834 | True pKd: 3.5721893310546875\n",
      "Predicted pKd: 9.707152366638184 | True pKd: 9.681936264038086\n",
      "Predicted pKd: 8.497737884521484 | True pKd: 8.414539337158203\n",
      "Predicted pKd: 5.780269622802734 | True pKd: 6.619788646697998\n",
      "Predicted pKd: 9.289506912231445 | True pKd: 8.576754570007324\n",
      "Predicted pKd: 6.519506454467773 | True pKd: 6.0\n",
      "Predicted pKd: 5.196916580200195 | True pKd: 4.872895240783691\n",
      "Predicted pKd: 5.464966773986816 | True pKd: 7.1674909591674805\n",
      "Predicted pKd: 10.350347518920898 | True pKd: 11.522878646850586\n",
      "Predicted pKd: 6.812999725341797 | True pKd: 6.252588272094727\n",
      "Predicted pKd: 5.191709518432617 | True pKd: 3.712198257446289\n",
      "Predicted pKd: 7.399380683898926 | True pKd: 6.583359718322754\n",
      "Predicted pKd: 10.350347518920898 | True pKd: 11.522878646850586\n",
      "Predicted pKd: 6.587352752685547 | True pKd: 9.301030158996582\n",
      "Predicted pKd: 7.941431999206543 | True pKd: 8.09691047668457\n",
      "Predicted pKd: 9.490850448608398 | True pKd: 10.886056900024414\n",
      "Predicted pKd: 9.722256660461426 | True pKd: 10.356547355651855\n",
      "Predicted pKd: 7.669795036315918 | True pKd: 7.065501689910889\n",
      "Predicted pKd: 10.184956550598145 | True pKd: 6.706416606903076\n",
      "Predicted pKd: 4.657698631286621 | True pKd: 5.431798458099365\n",
      "Predicted pKd: 5.05265998840332 | True pKd: 5.958607196807861\n",
      "Predicted pKd: 8.177968978881836 | True pKd: 8.22988510131836\n",
      "Predicted pKd: 7.964138031005859 | True pKd: 6.9430952072143555\n",
      "Predicted pKd: 5.917497634887695 | True pKd: 7.274088382720947\n",
      "Predicted pKd: 10.191205024719238 | True pKd: 9.850780487060547\n",
      "Predicted pKd: 5.045071125030518 | True pKd: 4.92081880569458\n",
      "Predicted pKd: 9.399327278137207 | True pKd: 9.30980396270752\n",
      "Predicted pKd: 12.744894981384277 | True pKd: 8.590066909790039\n",
      "Predicted pKd: 4.607583045959473 | True pKd: 4.431798458099365\n",
      "Predicted pKd: 13.86489200592041 | True pKd: 15.193819999694824\n",
      "Predicted pKd: 9.945003509521484 | True pKd: 10.568635940551758\n",
      "Predicted pKd: 8.82593822479248 | True pKd: 9.638272285461426\n",
      "Predicted pKd: 5.827824592590332 | True pKd: 5.638272285461426\n",
      "Predicted pKd: 5.545013427734375 | True pKd: 5.017728805541992\n",
      "Predicted pKd: 9.111889839172363 | True pKd: 6.575118541717529\n",
      "Predicted pKd: 5.068255424499512 | True pKd: 5.853871822357178\n",
      "Predicted pKd: 9.73047161102295 | True pKd: 10.079355239868164\n",
      "Predicted pKd: 11.567425727844238 | True pKd: 12.397939682006836\n",
      "Predicted pKd: 7.910483360290527 | True pKd: 6.465973854064941\n",
      "Predicted pKd: 7.407670021057129 | True pKd: 6.237321376800537\n",
      "Predicted pKd: 13.447641372680664 | True pKd: 12.74472713470459\n",
      "Predicted pKd: 8.458659172058105 | True pKd: 4.602059841156006\n",
      "Predicted pKd: 7.238252639770508 | True pKd: 8.356547355651855\n",
      "Predicted pKd: 8.662057876586914 | True pKd: 8.619789123535156\n",
      "Predicted pKd: 10.359172821044922 | True pKd: 7.136677265167236\n",
      "Predicted pKd: 8.831059455871582 | True pKd: 5.267606258392334\n",
      "Predicted pKd: 8.277853965759277 | True pKd: 9.154901504516602\n",
      "Predicted pKd: 12.053709030151367 | True pKd: 10.832682609558105\n",
      "Predicted pKd: 6.580638885498047 | True pKd: 7.522878646850586\n",
      "Predicted pKd: 8.173498153686523 | True pKd: 10.657577514648438\n",
      "Predicted pKd: 8.453317642211914 | True pKd: 7.481485843658447\n",
      "Predicted pKd: 6.657535552978516 | True pKd: 10.408935546875\n",
      "Predicted pKd: 4.764168739318848 | True pKd: 4.32239294052124\n",
      "Predicted pKd: 5.718695640563965 | True pKd: 5.455932140350342\n",
      "Predicted pKd: 8.509718894958496 | True pKd: 6.050610065460205\n",
      "Predicted pKd: 10.528310775756836 | True pKd: 9.568635940551758\n",
      "Predicted pKd: 7.436054229736328 | True pKd: 7.9871625900268555\n",
      "Predicted pKd: 8.297203063964844 | True pKd: 8.494850158691406\n",
      "Predicted pKd: 5.065167427062988 | True pKd: 9.154901504516602\n",
      "Predicted pKd: 9.098974227905273 | True pKd: 10.301030158996582\n",
      "Predicted pKd: 9.507858276367188 | True pKd: 8.823908805847168\n",
      "Predicted pKd: 7.94047737121582 | True pKd: 8.698969841003418\n",
      "Predicted pKd: 6.531243324279785 | True pKd: 5.744727611541748\n",
      "Predicted pKd: 7.137930870056152 | True pKd: 5.583359718322754\n",
      "Predicted pKd: 9.05871868133545 | True pKd: 8.823908805847168\n",
      "Predicted pKd: 7.213698387145996 | True pKd: 5.214670181274414\n",
      "Predicted pKd: 7.26092529296875 | True pKd: 7.602059841156006\n",
      "Predicted pKd: 5.504215240478516 | True pKd: 5.565431118011475\n",
      "Predicted pKd: 7.751760482788086 | True pKd: 6.879426002502441\n",
      "Predicted pKd: 6.340884208679199 | True pKd: 4.301030158996582\n",
      "Predicted pKd: 11.754301071166992 | True pKd: 12.130767822265625\n",
      "Predicted pKd: 5.4964141845703125 | True pKd: 7.899629592895508\n",
      "Predicted pKd: 6.967957496643066 | True pKd: 10.08092212677002\n",
      "Predicted pKd: 7.426379203796387 | True pKd: 7.165579319000244\n",
      "Predicted pKd: 6.426691055297852 | True pKd: 4.189095497131348\n",
      "Predicted pKd: 7.514862060546875 | True pKd: 9.294136047363281\n",
      "Predicted pKd: 9.298783302307129 | True pKd: 8.531652450561523\n",
      "Predicted pKd: 8.051676750183105 | True pKd: 8.801342964172363\n",
      "Predicted pKd: 5.9383955001831055 | True pKd: 6.361510753631592\n",
      "Predicted pKd: 5.149919509887695 | True pKd: 4.180456161499023\n",
      "Predicted pKd: 4.883328914642334 | True pKd: 7.543633937835693\n",
      "Predicted pKd: 7.267764091491699 | True pKd: 8.204815864562988\n",
      "Predicted pKd: 7.671645164489746 | True pKd: 6.6716203689575195\n",
      "Predicted pKd: 8.225320816040039 | True pKd: 5.508638381958008\n",
      "Predicted pKd: 4.721534729003906 | True pKd: 4.886056423187256\n",
      "Predicted pKd: 7.970708847045898 | True pKd: 6.853871822357178\n",
      "Predicted pKd: 7.398348808288574 | True pKd: 6.136677265167236\n",
      "Predicted pKd: 7.287630081176758 | True pKd: 9.508638381958008\n",
      "Predicted pKd: 9.726031303405762 | True pKd: 10.204119682312012\n",
      "Predicted pKd: 9.404622077941895 | True pKd: 9.346787452697754\n",
      "Predicted pKd: 9.954204559326172 | True pKd: 10.301030158996582\n",
      "Predicted pKd: 5.689910888671875 | True pKd: 7.20412015914917\n",
      "Predicted pKd: 8.366955757141113 | True pKd: 5.0\n",
      "Predicted pKd: 4.605632781982422 | True pKd: 4.410050392150879\n",
      "Predicted pKd: 10.231611251831055 | True pKd: 11.379863739013672\n",
      "Predicted pKd: 7.199623107910156 | True pKd: 7.847711563110352\n",
      "Predicted pKd: 8.035776138305664 | True pKd: 8.221848487854004\n",
      "Predicted pKd: 10.254732131958008 | True pKd: 10.61260986328125\n",
      "Predicted pKd: 6.183198928833008 | True pKd: 6.954677104949951\n",
      "Predicted pKd: 5.065064430236816 | True pKd: 6.013676166534424\n",
      "Predicted pKd: 7.298050880432129 | True pKd: 6.173925399780273\n",
      "Predicted pKd: 4.54351282119751 | True pKd: 4.084072589874268\n",
      "Predicted pKd: 7.169146537780762 | True pKd: 7.823908805847168\n",
      "Predicted pKd: 8.223868370056152 | True pKd: 5.2441253662109375\n",
      "Predicted pKd: 4.6115007400512695 | True pKd: 5.275723934173584\n",
      "Predicted pKd: 6.2467851638793945 | True pKd: 4.545155048370361\n",
      "Predicted pKd: 7.544921875 | True pKd: 6.602059841156006\n",
      "Predicted pKd: 4.96637487411499 | True pKd: 3.698970079421997\n",
      "Predicted pKd: 7.513360023498535 | True pKd: 5.79587984085083\n",
      "Predicted pKd: 8.204824447631836 | True pKd: 8.86012077331543\n",
      "Predicted pKd: 5.944214820861816 | True pKd: 7.397940158843994\n",
      "Predicted pKd: 8.175780296325684 | True pKd: 8.638272285461426\n",
      "Predicted pKd: 9.482380867004395 | True pKd: 12.638272285461426\n",
      "Predicted pKd: 7.207715034484863 | True pKd: 5.2441253662109375\n",
      "Predicted pKd: 6.252686500549316 | True pKd: 8.886056900024414\n",
      "Predicted pKd: 6.196474075317383 | True pKd: 4.84163761138916\n",
      "Predicted pKd: 7.570073127746582 | True pKd: 8.30980396270752\n",
      "Predicted pKd: 6.863250732421875 | True pKd: 5.8326826095581055\n",
      "Predicted pKd: 7.947075843811035 | True pKd: 9.045757293701172\n",
      "Predicted pKd: 5.45734977722168 | True pKd: 4.744727611541748\n",
      "Predicted pKd: 8.027314186096191 | True pKd: 6.946921348571777\n",
      "Predicted pKd: 6.996170997619629 | True pKd: 8.376750946044922\n",
      "Predicted pKd: 8.10925579071045 | True pKd: 7.4202165603637695\n",
      "Predicted pKd: 7.516313552856445 | True pKd: 7.804100513458252\n",
      "Predicted pKd: 7.2981414794921875 | True pKd: 6.92081880569458\n",
      "Predicted pKd: 7.278474807739258 | True pKd: 8.0\n",
      "Predicted pKd: 9.17998218536377 | True pKd: 8.96657657623291\n",
      "Predicted pKd: 5.571588516235352 | True pKd: 5.496209144592285\n",
      "Predicted pKd: 9.228983879089355 | True pKd: 8.71669864654541\n",
      "Predicted pKd: 9.392074584960938 | True pKd: 8.681936264038086\n",
      "Predicted pKd: 4.087119102478027 | True pKd: 4.113509178161621\n",
      "Predicted pKd: 5.599678993225098 | True pKd: 5.619788646697998\n",
      "Predicted pKd: 6.255580902099609 | True pKd: 10.375718116760254\n",
      "Predicted pKd: 9.712568283081055 | True pKd: 7.462181091308594\n",
      "Predicted pKd: 5.55565071105957 | True pKd: 6.301030158996582\n",
      "Predicted pKd: 6.887185096740723 | True pKd: 6.602059841156006\n",
      "Predicted pKd: 7.493927955627441 | True pKd: 10.356547355651855\n",
      "Predicted pKd: 5.6075544357299805 | True pKd: 8.026871681213379\n",
      "Predicted pKd: 4.630694389343262 | True pKd: 5.78515625\n",
      "Predicted pKd: 5.514961242675781 | True pKd: 6.148741722106934\n",
      "Predicted pKd: 7.787283897399902 | True pKd: 8.95860767364502\n",
      "Predicted pKd: 7.250815391540527 | True pKd: 6.50445556640625\n",
      "Predicted pKd: 6.038300514221191 | True pKd: 6.180456161499023\n",
      "Predicted pKd: 8.824234962463379 | True pKd: 10.749580383300781\n",
      "Predicted pKd: 5.038220405578613 | True pKd: 6.013676166534424\n",
      "Predicted pKd: 9.850288391113281 | True pKd: 9.146302223205566\n",
      "Predicted pKd: 6.768206596374512 | True pKd: 6.522878646850586\n",
      "Predicted pKd: 7.57596492767334 | True pKd: 8.707965850830078\n",
      "Predicted pKd: 5.618873596191406 | True pKd: 5.425968647003174\n",
      "Predicted pKd: 6.767642974853516 | True pKd: 9.730486869812012\n",
      "Predicted pKd: 8.496455192565918 | True pKd: 6.958607196807861\n",
      "Predicted pKd: 5.909915924072266 | True pKd: 10.321481704711914\n",
      "Predicted pKd: 9.255489349365234 | True pKd: 9.322393417358398\n",
      "Predicted pKd: 7.297548294067383 | True pKd: 9.161150932312012\n",
      "Predicted pKd: 9.171483993530273 | True pKd: 10.853872299194336\n",
      "Predicted pKd: 5.469233512878418 | True pKd: 6.718966484069824\n",
      "Predicted pKd: 7.666251182556152 | True pKd: 8.245651245117188\n",
      "Predicted pKd: 9.77712631225586 | True pKd: 9.602060317993164\n",
      "Predicted pKd: 6.201356887817383 | True pKd: 3.619788646697998\n",
      "Predicted pKd: 13.448861122131348 | True pKd: 12.408935546875\n",
      "Predicted pKd: 6.019443511962891 | True pKd: 5.8326826095581055\n",
      "Predicted pKd: 7.0175323486328125 | True pKd: 8.045757293701172\n",
      "Predicted pKd: 7.743013381958008 | True pKd: 6.088842391967773\n",
      "Predicted pKd: 4.717796802520752 | True pKd: 4.065501689910889\n",
      "Predicted pKd: 7.295058250427246 | True pKd: 6.397940158843994\n",
      "Predicted pKd: 8.925930976867676 | True pKd: 8.341988563537598\n",
      "Predicted pKd: 7.793418884277344 | True pKd: 6.505845546722412\n",
      "Predicted pKd: 8.9478759765625 | True pKd: 7.640164375305176\n",
      "Predicted pKd: 7.641887664794922 | True pKd: 5.3098039627075195\n",
      "Predicted pKd: 4.967533111572266 | True pKd: 5.161150932312012\n",
      "Predicted pKd: 8.581965446472168 | True pKd: 6.568636417388916\n",
      "Predicted pKd: 8.410755157470703 | True pKd: 8.213958740234375\n",
      "Predicted pKd: 9.076455116271973 | True pKd: 10.853872299194336\n",
      "Predicted pKd: 6.789963722229004 | True pKd: 7.3565473556518555\n",
      "Predicted pKd: 7.778177261352539 | True pKd: 7.850780963897705\n",
      "Predicted pKd: 7.155269622802734 | True pKd: 8.013228416442871\n",
      "Predicted pKd: 6.201847076416016 | True pKd: 4.3098039627075195\n",
      "Predicted pKd: 9.811367988586426 | True pKd: 6.380906581878662\n",
      "Predicted pKd: 8.313989639282227 | True pKd: 8.823908805847168\n",
      "Predicted pKd: 9.928163528442383 | True pKd: 8.850780487060547\n",
      "Predicted pKd: 9.049759864807129 | True pKd: 5.12493896484375\n",
      "Predicted pKd: 6.521755218505859 | True pKd: 7.568636417388916\n",
      "Predicted pKd: 4.956728935241699 | True pKd: 5.271646022796631\n",
      "Predicted pKd: 7.77977180480957 | True pKd: 7.361510753631592\n",
      "Predicted pKd: 4.909992218017578 | True pKd: 3.737548828125\n",
      "Predicted pKd: 7.197361946105957 | True pKd: 7.397940158843994\n",
      "Predicted pKd: 7.276224136352539 | True pKd: 6.6950788497924805\n",
      "Predicted pKd: 9.408048629760742 | True pKd: 9.20065975189209\n",
      "Predicted pKd: 9.400744438171387 | True pKd: 8.795880317687988\n",
      "Predicted pKd: 10.706074714660645 | True pKd: 9.756961822509766\n",
      "Predicted pKd: 4.741089820861816 | True pKd: 7.229147911071777\n",
      "Predicted pKd: 8.091534614562988 | True pKd: 8.173925399780273\n",
      "Predicted pKd: 9.277274131774902 | True pKd: 8.522878646850586\n",
      "Predicted pKd: 6.382992744445801 | True pKd: 6.143875598907471\n",
      "Predicted pKd: 8.169827461242676 | True pKd: 8.136082649230957\n",
      "Predicted pKd: 8.393789291381836 | True pKd: 6.786216735839844\n",
      "Predicted pKd: 6.919536590576172 | True pKd: 7.619788646697998\n",
      "Predicted pKd: 7.360572814941406 | True pKd: 6.414539337158203\n",
      "Predicted pKd: 6.971451759338379 | True pKd: 6.7695512771606445\n",
      "Predicted pKd: 8.336555480957031 | True pKd: 8.863279342651367\n",
      "Predicted pKd: 8.46509838104248 | True pKd: 10.301030158996582\n",
      "Predicted pKd: 7.578529357910156 | True pKd: 4.92081880569458\n",
      "Predicted pKd: 8.45645523071289 | True pKd: 7.490797519683838\n",
      "Predicted pKd: 7.630254745483398 | True pKd: 4.452225208282471\n",
      "Predicted pKd: 4.627618312835693 | True pKd: 4.958607196807861\n",
      "Predicted pKd: 7.554142951965332 | True pKd: 10.522878646850586\n",
      "Predicted pKd: 9.46544075012207 | True pKd: 9.552842140197754\n",
      "Predicted pKd: 4.482714653015137 | True pKd: 5.113509178161621\n",
      "Predicted pKd: 5.224511623382568 | True pKd: 3.698970079421997\n",
      "Predicted pKd: 10.278691291809082 | True pKd: 10.52432918548584\n",
      "Predicted pKd: 4.1864728927612305 | True pKd: 3.698970079421997\n",
      "Predicted pKd: 7.302417755126953 | True pKd: 7.698969841003418\n",
      "Predicted pKd: 10.604646682739258 | True pKd: 11.175873756408691\n",
      "Predicted pKd: 7.766244888305664 | True pKd: 6.041436195373535\n",
      "Predicted pKd: 9.043004989624023 | True pKd: 10.74472713470459\n",
      "Predicted pKd: 5.830747604370117 | True pKd: 7.677780628204346\n",
      "Predicted pKd: 7.293218612670898 | True pKd: 8.0\n",
      "Predicted pKd: 6.232564926147461 | True pKd: 4.2441253662109375\n",
      "Predicted pKd: 9.382437705993652 | True pKd: 8.230622291564941\n",
      "Predicted pKd: 8.776518821716309 | True pKd: 7.4685211181640625\n",
      "Predicted pKd: 7.545981407165527 | True pKd: 6.477555751800537\n",
      "Predicted pKd: 7.809842109680176 | True pKd: 5.473660945892334\n",
      "Predicted pKd: 10.081686019897461 | True pKd: 10.494850158691406\n",
      "Predicted pKd: 8.592888832092285 | True pKd: 9.537602424621582\n",
      "Predicted pKd: 7.459237098693848 | True pKd: 5.4202165603637695\n",
      "Predicted pKd: 9.088006019592285 | True pKd: 8.602060317993164\n",
      "Predicted pKd: 8.659051895141602 | True pKd: 8.154901504516602\n",
      "Predicted pKd: 7.299628257751465 | True pKd: 7.866461277008057\n",
      "Predicted pKd: 8.786652565002441 | True pKd: 10.52432918548584\n",
      "Predicted pKd: 5.3988847732543945 | True pKd: 7.79587984085083\n",
      "Predicted pKd: 8.611478805541992 | True pKd: 9.032451629638672\n",
      "Predicted pKd: 8.279464721679688 | True pKd: 8.397939682006836\n",
      "Predicted pKd: 8.172657012939453 | True pKd: 7.737548828125\n",
      "Predicted pKd: 4.709530830383301 | True pKd: 3.6439740657806396\n",
      "Predicted pKd: 5.357969284057617 | True pKd: 5.982966423034668\n",
      "Predicted pKd: 9.399194717407227 | True pKd: 9.301030158996582\n",
      "Predicted pKd: 7.954062461853027 | True pKd: 12.0\n",
      "Predicted pKd: 5.5164995193481445 | True pKd: 4.7695512771606445\n",
      "Predicted pKd: 6.098143577575684 | True pKd: 6.1524271965026855\n",
      "Predicted pKd: 12.041930198669434 | True pKd: 11.213248252868652\n",
      "Predicted pKd: 8.572232246398926 | True pKd: 9.619789123535156\n",
      "Predicted pKd: 7.028304100036621 | True pKd: 7.508638381958008\n",
      "Predicted pKd: 5.26872444152832 | True pKd: 5.501689434051514\n",
      "Predicted pKd: 6.800166130065918 | True pKd: 7.0\n",
      "Predicted pKd: 7.441864967346191 | True pKd: 7.150580406188965\n",
      "Predicted pKd: 10.216264724731445 | True pKd: 8.531652450561523\n",
      "Predicted pKd: 10.137828826904297 | True pKd: 10.447331428527832\n",
      "Predicted pKd: 8.2041015625 | True pKd: 9.91009521484375\n",
      "Predicted pKd: 8.495636940002441 | True pKd: 7.886056423187256\n",
      "Predicted pKd: 7.7065277099609375 | True pKd: 8.364516258239746\n",
      "Predicted pKd: 9.847126960754395 | True pKd: 9.041436195373535\n",
      "Predicted pKd: 4.676433563232422 | True pKd: 5.354577541351318\n",
      "Predicted pKd: 5.831306457519531 | True pKd: 6.259637355804443\n",
      "Predicted pKd: 9.397865295410156 | True pKd: 9.086186408996582\n",
      "Predicted pKd: 4.953200817108154 | True pKd: 3.209785223007202\n",
      "Predicted pKd: 5.88494873046875 | True pKd: 5.4202165603637695\n",
      "Predicted pKd: 8.170137405395508 | True pKd: 11.537602424621582\n",
      "Predicted pKd: 7.347504615783691 | True pKd: 7.764471530914307\n",
      "Predicted pKd: 6.572915077209473 | True pKd: 5.744727611541748\n",
      "Predicted pKd: 5.469382286071777 | True pKd: 6.958607196807861\n",
      "Predicted pKd: 5.127685546875 | True pKd: 6.2306227684021\n",
      "Predicted pKd: 5.355429649353027 | True pKd: 5.494850158691406\n",
      "Predicted pKd: 7.67604923248291 | True pKd: 7.425968647003174\n",
      "Predicted pKd: 9.06142807006836 | True pKd: 9.214670181274414\n",
      "Predicted pKd: 4.669974327087402 | True pKd: 5.045757293701172\n",
      "Predicted pKd: 3.9000375270843506 | True pKd: 4.886056423187256\n",
      "Predicted pKd: 8.344882011413574 | True pKd: 8.698969841003418\n",
      "Predicted pKd: 8.171767234802246 | True pKd: 7.917214393615723\n",
      "Predicted pKd: 7.658188819885254 | True pKd: 9.886056900024414\n",
      "Predicted pKd: 7.786876678466797 | True pKd: 6.71669864654541\n",
      "Predicted pKd: 7.257762908935547 | True pKd: 7.806875228881836\n",
      "Predicted pKd: 7.596975326538086 | True pKd: 7.995678424835205\n",
      "Predicted pKd: 7.2885284423828125 | True pKd: 6.844664096832275\n",
      "Predicted pKd: 5.597492218017578 | True pKd: 5.906578540802002\n",
      "Predicted pKd: 6.798581123352051 | True pKd: 6.045757293701172\n",
      "Predicted pKd: 9.79674243927002 | True pKd: 8.59175968170166\n",
      "Predicted pKd: 6.105257034301758 | True pKd: 9.107905387878418\n",
      "Predicted pKd: 8.488469123840332 | True pKd: 7.0\n",
      "Predicted pKd: 4.943999290466309 | True pKd: 5.970616340637207\n",
      "Predicted pKd: 7.077153205871582 | True pKd: 8.091514587402344\n",
      "Predicted pKd: 7.137327194213867 | True pKd: 10.410050392150879\n",
      "Predicted pKd: 6.495351791381836 | True pKd: 6.92081880569458\n",
      "Predicted pKd: 10.547430038452148 | True pKd: 11.50445556640625\n",
      "Predicted pKd: 7.693181991577148 | True pKd: 5.290729999542236\n",
      "Predicted pKd: 5.664685249328613 | True pKd: 6.879426002502441\n",
      "Predicted pKd: 6.3788604736328125 | True pKd: 8.238072395324707\n",
      "Predicted pKd: 9.393858909606934 | True pKd: 9.414539337158203\n",
      "Predicted pKd: 7.286740303039551 | True pKd: 9.004364967346191\n",
      "Predicted pKd: 8.07375431060791 | True pKd: 9.0\n",
      "Predicted pKd: 7.654349327087402 | True pKd: 8.522878646850586\n",
      "Predicted pKd: 8.178638458251953 | True pKd: 8.045757293701172\n",
      "Predicted pKd: 5.932509422302246 | True pKd: 7.698969841003418\n",
      "Predicted pKd: 6.9401750564575195 | True pKd: 6.698969841003418\n",
      "Predicted pKd: 9.026960372924805 | True pKd: 7.0452752113342285\n",
      "Predicted pKd: 3.526298761367798 | True pKd: 6.4202165603637695\n",
      "Predicted pKd: 4.918948173522949 | True pKd: 4.498940944671631\n",
      "Predicted pKd: 7.263470649719238 | True pKd: 6.92081880569458\n",
      "Predicted pKd: 8.397259712219238 | True pKd: 8.97469425201416\n",
      "Predicted pKd: 5.538104057312012 | True pKd: 5.493494987487793\n",
      "Predicted pKd: 10.508889198303223 | True pKd: 12.361510276794434\n",
      "Predicted pKd: 8.806318283081055 | True pKd: 8.494850158691406\n",
      "Predicted pKd: 10.584124565124512 | True pKd: 10.008773803710938\n",
      "Predicted pKd: 7.8361358642578125 | True pKd: 8.045757293701172\n",
      "Predicted pKd: 7.881694793701172 | True pKd: 7.853871822357178\n",
      "Predicted pKd: 7.639472007751465 | True pKd: 7.337242126464844\n",
      "Predicted pKd: 4.922301769256592 | True pKd: 3.6439740657806396\n",
      "Predicted pKd: 8.176396369934082 | True pKd: 8.063486099243164\n",
      "Predicted pKd: 5.537754058837891 | True pKd: 6.258848190307617\n",
      "Predicted pKd: 6.800537109375 | True pKd: 7.200659275054932\n",
      "Predicted pKd: 8.647360801696777 | True pKd: 8.95860767364502\n",
      "Predicted pKd: 5.102957725524902 | True pKd: 5.28066873550415\n",
      "Predicted pKd: 5.770795822143555 | True pKd: 6.853871822357178\n",
      "Predicted pKd: 7.293225288391113 | True pKd: 8.522878646850586\n",
      "Predicted pKd: 9.82870101928711 | True pKd: 9.16749095916748\n",
      "Predicted pKd: 7.0155229568481445 | True pKd: 6.910094738006592\n",
      "Predicted pKd: 7.6741485595703125 | True pKd: 8.0\n",
      "Predicted pKd: 9.669546127319336 | True pKd: 8.379863739013672\n",
      "Predicted pKd: 7.71830940246582 | True pKd: 6.387216091156006\n",
      "Predicted pKd: 6.311648368835449 | True pKd: 6.040958404541016\n",
      "Predicted pKd: 9.727002143859863 | True pKd: 9.690369606018066\n",
      "Predicted pKd: 8.016582489013672 | True pKd: 7.0\n",
      "Predicted pKd: 7.426752090454102 | True pKd: 7.698969841003418\n",
      "Predicted pKd: 4.48019552230835 | True pKd: 4.180456161499023\n",
      "Predicted pKd: 8.132009506225586 | True pKd: 8.102373123168945\n",
      "Predicted pKd: 6.951276779174805 | True pKd: 7.835647106170654\n",
      "Predicted pKd: 6.059544563293457 | True pKd: 8.022275924682617\n",
      "Predicted pKd: 6.026886940002441 | True pKd: 8.619789123535156\n",
      "Predicted pKd: 4.9533538818359375 | True pKd: 6.045757293701172\n",
      "Predicted pKd: 9.958097457885742 | True pKd: 8.795880317687988\n",
      "Predicted pKd: 5.268435955047607 | True pKd: 5.698969841003418\n",
      "Predicted pKd: 5.436073303222656 | True pKd: 6.537601947784424\n",
      "Predicted pKd: 9.11467456817627 | True pKd: 8.227678298950195\n",
      "Predicted pKd: 9.408406257629395 | True pKd: 9.481486320495605\n",
      "Predicted pKd: 6.230682373046875 | True pKd: 7.6575775146484375\n",
      "Predicted pKd: 9.629621505737305 | True pKd: 9.812479019165039\n",
      "Predicted pKd: 4.720528602600098 | True pKd: 4.92081880569458\n",
      "Predicted pKd: 6.02508544921875 | True pKd: 7.376750946044922\n",
      "Predicted pKd: 7.162876129150391 | True pKd: 7.384049892425537\n",
      "Predicted pKd: 5.76531982421875 | True pKd: 6.607303142547607\n",
      "Predicted pKd: 4.132204055786133 | True pKd: 4.6556077003479\n",
      "Predicted pKd: 9.28393840789795 | True pKd: 4.698969841003418\n",
      "Predicted pKd: 11.153532028198242 | True pKd: 10.431797981262207\n",
      "Predicted pKd: 4.138501167297363 | True pKd: 3.924453020095825\n",
      "Predicted pKd: 8.487829208374023 | True pKd: 8.376750946044922\n",
      "Predicted pKd: 5.5482635498046875 | True pKd: 6.207608222961426\n",
      "Predicted pKd: 5.943845748901367 | True pKd: 8.403403282165527\n",
      "Predicted pKd: 4.95997428894043 | True pKd: 5.017728805541992\n",
      "Predicted pKd: 7.5594682693481445 | True pKd: 10.522878646850586\n",
      "Predicted pKd: 8.17647647857666 | True pKd: 9.301030158996582\n",
      "Predicted pKd: 7.333386421203613 | True pKd: 7.703334808349609\n",
      "Predicted pKd: 7.513169288635254 | True pKd: 8.175873756408691\n",
      "Predicted pKd: 5.506989479064941 | True pKd: 5.494850158691406\n",
      "Predicted pKd: 6.467192649841309 | True pKd: 8.04000473022461\n",
      "Predicted pKd: 10.23071002960205 | True pKd: 10.844663619995117\n",
      "Predicted pKd: 7.328736305236816 | True pKd: 8.251811981201172\n",
      "Predicted pKd: 5.135051727294922 | True pKd: 3.853872060775757\n",
      "Predicted pKd: 7.4318342208862305 | True pKd: 6.272458553314209\n",
      "Predicted pKd: 8.000601768493652 | True pKd: 7.0\n",
      "Predicted pKd: 4.2818779945373535 | True pKd: 6.221848964691162\n",
      "Predicted pKd: 8.601593017578125 | True pKd: 5.15490198135376\n",
      "Predicted pKd: 8.318024635314941 | True pKd: 8.823908805847168\n",
      "Predicted pKd: 6.214432716369629 | True pKd: 5.568636417388916\n",
      "Predicted pKd: 10.37413501739502 | True pKd: 10.747146606445312\n",
      "Predicted pKd: 9.162849426269531 | True pKd: 11.928117752075195\n",
      "Predicted pKd: 6.3212175369262695 | True pKd: 7.086185932159424\n",
      "Predicted pKd: 7.465884208679199 | True pKd: 7.721246242523193\n",
      "Predicted pKd: 9.240854263305664 | True pKd: 10.443697929382324\n",
      "Predicted pKd: 9.351186752319336 | True pKd: 10.677781105041504\n",
      "Predicted pKd: 6.23306941986084 | True pKd: 5.853871822357178\n",
      "Predicted pKd: 9.412985801696777 | True pKd: 9.136676788330078\n",
      "Predicted pKd: 7.518898963928223 | True pKd: 6.747147083282471\n",
      "Predicted pKd: 8.422351837158203 | True pKd: 11.14448070526123\n",
      "Predicted pKd: 7.783231735229492 | True pKd: 9.886056900024414\n",
      "Predicted pKd: 7.972160339355469 | True pKd: 10.0\n",
      "Predicted pKd: 7.295357704162598 | True pKd: 7.92081880569458\n",
      "Predicted pKd: 10.87774658203125 | True pKd: 10.886056900024414\n",
      "Predicted pKd: 6.2643022537231445 | True pKd: 6.136677265167236\n",
      "Predicted pKd: 9.992056846618652 | True pKd: 8.142667770385742\n",
      "Predicted pKd: 6.819551467895508 | True pKd: 6.086185932159424\n",
      "Predicted pKd: 6.828498840332031 | True pKd: 7.742321491241455\n",
      "Predicted pKd: 5.835845947265625 | True pKd: 5.522878646850586\n",
      "Predicted pKd: 5.064004898071289 | True pKd: 4.136677265167236\n",
      "Predicted pKd: 7.300015449523926 | True pKd: 5.93930196762085\n",
      "Predicted pKd: 7.905078887939453 | True pKd: 8.337242126464844\n",
      "Predicted pKd: 9.270071029663086 | True pKd: 11.522878646850586\n",
      "Predicted pKd: 8.847997665405273 | True pKd: 7.0\n",
      "Predicted pKd: 7.392572402954102 | True pKd: 7.4685211181640625\n",
      "Predicted pKd: 9.407718658447266 | True pKd: 9.552842140197754\n",
      "Predicted pKd: 4.119880676269531 | True pKd: 4.64301872253418\n",
      "Predicted pKd: 7.278474807739258 | True pKd: 8.045757293701172\n",
      "Predicted pKd: 6.907013893127441 | True pKd: 10.769551277160645\n",
      "Predicted pKd: 6.111118316650391 | True pKd: 6.698969841003418\n",
      "Predicted pKd: 8.370514869689941 | True pKd: 7.073451995849609\n",
      "Predicted pKd: 6.6077470779418945 | True pKd: 6.638272285461426\n",
      "Predicted pKd: 4.91463041305542 | True pKd: 4.416801452636719\n",
      "Predicted pKd: 6.116681098937988 | True pKd: 5.534616947174072\n",
      "Predicted pKd: 6.757763862609863 | True pKd: 6.065501689910889\n",
      "Predicted pKd: 6.6887407302856445 | True pKd: 6.899629592895508\n",
      "Predicted pKd: 9.142918586730957 | True pKd: 9.455931663513184\n",
      "Predicted pKd: 5.552883148193359 | True pKd: 4.0347981452941895\n",
      "Predicted pKd: 5.613034248352051 | True pKd: 8.09691047668457\n",
      "Predicted pKd: 9.723343849182129 | True pKd: 10.368556022644043\n",
      "Predicted pKd: 11.062217712402344 | True pKd: 11.97469425201416\n",
      "Predicted pKd: 9.081972122192383 | True pKd: 9.214670181274414\n",
      "Predicted pKd: 8.904828071594238 | True pKd: 8.0\n",
      "Predicted pKd: 8.282173156738281 | True pKd: 8.102373123168945\n",
      "Predicted pKd: 7.000178337097168 | True pKd: 7.823908805847168\n",
      "Predicted pKd: 11.15855884552002 | True pKd: 9.74472713470459\n",
      "Predicted pKd: 8.254636764526367 | True pKd: 7.0\n",
      "Predicted pKd: 10.274216651916504 | True pKd: 8.593460083007812\n",
      "Predicted pKd: 7.422142028808594 | True pKd: 6.619788646697998\n",
      "Predicted pKd: 8.662178039550781 | True pKd: 9.793173789978027\n",
      "Predicted pKd: 5.701408386230469 | True pKd: 5.045757293701172\n",
      "Predicted pKd: 6.39546012878418 | True pKd: 7.856985092163086\n",
      "Predicted pKd: 9.502970695495605 | True pKd: 8.060481071472168\n",
      "Predicted pKd: 9.7718505859375 | True pKd: 10.131767272949219\n",
      "Predicted pKd: 10.175764083862305 | True pKd: 8.798603057861328\n",
      "Predicted pKd: 5.536498069763184 | True pKd: 8.079355239868164\n",
      "Predicted pKd: 8.37893009185791 | True pKd: 8.221848487854004\n",
      "Predicted pKd: 11.169636726379395 | True pKd: 10.638272285461426\n",
      "Predicted pKd: 7.772462844848633 | True pKd: 8.698969841003418\n",
      "Predicted pKd: 7.700453758239746 | True pKd: 10.022275924682617\n",
      "Predicted pKd: 6.3892669677734375 | True pKd: 4.2247538566589355\n",
      "Predicted pKd: 10.30136489868164 | True pKd: 10.254924774169922\n",
      "Predicted pKd: 8.312281608581543 | True pKd: 7.732828140258789\n",
      "Predicted pKd: 7.393014907836914 | True pKd: 7.199283123016357\n",
      "Predicted pKd: 7.483194351196289 | True pKd: 4.43889856338501\n",
      "Predicted pKd: 7.426752090454102 | True pKd: 6.60554838180542\n",
      "Predicted pKd: 9.549325942993164 | True pKd: 8.408935546875\n",
      "Predicted pKd: 6.771500587463379 | True pKd: 6.460923671722412\n",
      "Predicted pKd: 6.591054916381836 | True pKd: 5.0\n",
      "Predicted pKd: 10.347372055053711 | True pKd: 8.341988563537598\n",
      "Predicted pKd: 8.656898498535156 | True pKd: 7.95078182220459\n",
      "Predicted pKd: 8.638018608093262 | True pKd: 9.175873756408691\n",
      "Predicted pKd: 7.379512786865234 | True pKd: 6.630784034729004\n",
      "Predicted pKd: 7.19558048248291 | True pKd: 8.853872299194336\n",
      "Predicted pKd: 7.267932891845703 | True pKd: 4.15490198135376\n",
      "Predicted pKd: 4.646824836730957 | True pKd: 4.059483528137207\n",
      "Predicted pKd: 11.818039894104004 | True pKd: 10.408935546875\n",
      "Predicted pKd: 6.209339141845703 | True pKd: 5.425968647003174\n",
      "Predicted pKd: 4.923920631408691 | True pKd: 4.698969841003418\n",
      "Predicted pKd: 6.579710006713867 | True pKd: 5.721246242523193\n",
      "Predicted pKd: 7.128419876098633 | True pKd: 4.0\n",
      "Predicted pKd: 7.0347442626953125 | True pKd: 5.906578540802002\n",
      "Predicted pKd: 4.205636024475098 | True pKd: 3.9871628284454346\n",
      "Predicted pKd: 9.357830047607422 | True pKd: 9.0\n",
      "Predicted pKd: 4.531857490539551 | True pKd: 4.0\n",
      "Predicted pKd: 9.097957611083984 | True pKd: 9.602060317993164\n",
      "Predicted pKd: 8.955731391906738 | True pKd: 6.886056423187256\n",
      "Predicted pKd: 5.470208168029785 | True pKd: 4.958607196807861\n",
      "Predicted pKd: 4.9489336013793945 | True pKd: 3.522878646850586\n",
      "Predicted pKd: 9.538089752197266 | True pKd: 10.481486320495605\n",
      "Predicted pKd: 9.704082489013672 | True pKd: 9.0\n",
      "Predicted pKd: 7.234710693359375 | True pKd: 8.95860767364502\n",
      "Predicted pKd: 7.337715148925781 | True pKd: 6.77211332321167\n",
      "Predicted pKd: 5.544515609741211 | True pKd: 5.823908805847168\n",
      "Predicted pKd: 8.345560073852539 | True pKd: 7.866461277008057\n",
      "Predicted pKd: 13.44791316986084 | True pKd: 12.142667770385742\n",
      "Predicted pKd: 4.677434921264648 | True pKd: 4.481485843658447\n",
      "Predicted pKd: 9.9310941696167 | True pKd: 10.230622291564941\n",
      "Predicted pKd: 7.432372093200684 | True pKd: 7.397940158843994\n",
      "Predicted pKd: 8.94233226776123 | True pKd: 10.74472713470459\n",
      "Predicted pKd: 8.97718334197998 | True pKd: 8.387216567993164\n",
      "Predicted pKd: 8.503430366516113 | True pKd: 6.913640022277832\n",
      "Predicted pKd: 7.250662803649902 | True pKd: 8.259636878967285\n",
      "Predicted pKd: 9.046485900878906 | True pKd: 8.723538398742676\n",
      "Predicted pKd: 7.446109771728516 | True pKd: 7.15490198135376\n",
      "Predicted pKd: 5.591573715209961 | True pKd: 5.267606258392334\n",
      "Predicted pKd: 8.585902214050293 | True pKd: 8.505845069885254\n",
      "Predicted pKd: 7.7068634033203125 | True pKd: 7.025028228759766\n",
      "Predicted pKd: 6.761199951171875 | True pKd: 7.337242126464844\n",
      "Predicted pKd: 5.801200866699219 | True pKd: 7.515700340270996\n",
      "Predicted pKd: 7.724431037902832 | True pKd: 7.853871822357178\n",
      "Predicted pKd: 5.3340349197387695 | True pKd: 6.593459606170654\n",
      "Predicted pKd: 4.609533786773682 | True pKd: 3.749579906463623\n",
      "Predicted pKd: 7.291399955749512 | True pKd: 6.457174777984619\n",
      "Predicted pKd: 4.905648231506348 | True pKd: 4.557520389556885\n",
      "Predicted pKd: 8.387415885925293 | True pKd: 6.838632106781006\n",
      "Predicted pKd: 7.783511161804199 | True pKd: 7.77211332321167\n",
      "Predicted pKd: 6.11037540435791 | True pKd: 6.361510753631592\n",
      "Predicted pKd: 8.265359878540039 | True pKd: 8.30980396270752\n",
      "Predicted pKd: 7.797196388244629 | True pKd: 7.1674909591674805\n",
      "Predicted pKd: 7.416214942932129 | True pKd: 6.274088382720947\n",
      "Predicted pKd: 7.301444053649902 | True pKd: 9.251811981201172\n",
      "Predicted pKd: 7.305950164794922 | True pKd: 8.154901504516602\n",
      "Predicted pKd: 8.297255516052246 | True pKd: 11.522878646850586\n",
      "Predicted pKd: 11.711471557617188 | True pKd: 12.244125366210938\n",
      "Predicted pKd: 6.017600059509277 | True pKd: 4.0\n",
      "Predicted pKd: 5.553252220153809 | True pKd: 4.812479496002197\n",
      "Predicted pKd: 7.015355110168457 | True pKd: 5.638272285461426\n",
      "Predicted pKd: 6.734774589538574 | True pKd: 5.95078182220459\n",
      "Predicted pKd: 8.668512344360352 | True pKd: 8.698969841003418\n",
      "Predicted pKd: 9.291829109191895 | True pKd: 4.337242126464844\n",
      "Predicted pKd: 7.731698989868164 | True pKd: 6.080399036407471\n",
      "Predicted pKd: 10.055129051208496 | True pKd: 5.931814193725586\n",
      "Predicted pKd: 7.358470916748047 | True pKd: 9.28399658203125\n",
      "Predicted pKd: 8.083192825317383 | True pKd: 6.744727611541748\n",
      "Predicted pKd: 5.590970993041992 | True pKd: 4.12493896484375\n",
      "Predicted pKd: 6.996828079223633 | True pKd: 6.108462333679199\n",
      "Predicted pKd: 5.537337303161621 | True pKd: 6.596879482269287\n",
      "Predicted pKd: 6.052249908447266 | True pKd: 6.022276401519775\n",
      "Predicted pKd: 5.966775894165039 | True pKd: 5.777283668518066\n",
      "Predicted pKd: 7.338212013244629 | True pKd: 5.508638381958008\n",
      "Predicted pKd: 7.081729888916016 | True pKd: 4.698969841003418\n",
      "Predicted pKd: 8.675701141357422 | True pKd: 8.602060317993164\n",
      "Predicted pKd: 5.933042526245117 | True pKd: 5.79587984085083\n",
      "Predicted pKd: 6.12669563293457 | True pKd: 8.364516258239746\n",
      "Predicted pKd: 7.773464202880859 | True pKd: 5.414539337158203\n",
      "Predicted pKd: 9.281536102294922 | True pKd: 11.146302223205566\n",
      "Predicted pKd: 8.489956855773926 | True pKd: 6.761953830718994\n",
      "Predicted pKd: 7.325620651245117 | True pKd: 7.148741722106934\n",
      "Predicted pKd: 7.971927642822266 | True pKd: 7.886056423187256\n",
      "Predicted pKd: 9.613985061645508 | True pKd: 9.774690628051758\n",
      "Predicted pKd: 10.4312162399292 | True pKd: 10.698969841003418\n",
      "Predicted pKd: 9.757872581481934 | True pKd: 10.568635940551758\n",
      "Predicted pKd: 4.959712982177734 | True pKd: 4.3565473556518555\n",
      "Predicted pKd: 9.782169342041016 | True pKd: 9.414539337158203\n",
      "Predicted pKd: 5.460667610168457 | True pKd: 4.311580181121826\n",
      "Predicted pKd: 9.231488227844238 | True pKd: 7.638272285461426\n",
      "Predicted pKd: 5.640993118286133 | True pKd: 6.494850158691406\n",
      "Predicted pKd: 6.807955741882324 | True pKd: 7.15490198135376\n",
      "Predicted pKd: 8.305095672607422 | True pKd: 7.698969841003418\n",
      "Predicted pKd: 9.3878812789917 | True pKd: 9.301030158996582\n",
      "Predicted pKd: 8.63291072845459 | True pKd: 7.449771881103516\n",
      "Predicted pKd: 8.61059856414795 | True pKd: 8.826813697814941\n",
      "Predicted pKd: 9.05640697479248 | True pKd: 8.856985092163086\n",
      "Predicted pKd: 8.518452644348145 | True pKd: 5.721246242523193\n",
      "Predicted pKd: 6.046873092651367 | True pKd: 5.505845546722412\n",
      "Predicted pKd: 7.233065605163574 | True pKd: 7.6458916664123535\n",
      "Predicted pKd: 5.621352195739746 | True pKd: 7.0\n",
      "Predicted pKd: 10.775567054748535 | True pKd: 10.677781105041504\n",
      "Predicted pKd: 7.807638168334961 | True pKd: 4.20412015914917\n",
      "Predicted pKd: 7.763821601867676 | True pKd: 6.555955410003662\n",
      "Predicted pKd: 6.465606689453125 | True pKd: 4.146910667419434\n",
      "Predicted pKd: 4.897789478302002 | True pKd: 8.42021656036377\n",
      "Predicted pKd: 10.360177040100098 | True pKd: 10.747146606445312\n",
      "Predicted pKd: 9.117620468139648 | True pKd: 9.568635940551758\n",
      "Predicted pKd: 8.16671371459961 | True pKd: 8.339134216308594\n",
      "Predicted pKd: 9.690827369689941 | True pKd: 10.041436195373535\n",
      "Predicted pKd: 8.161809921264648 | True pKd: 7.459670543670654\n",
      "Predicted pKd: 6.797684669494629 | True pKd: 8.050609588623047\n",
      "Predicted pKd: 10.303566932678223 | True pKd: 10.568635940551758\n",
      "Predicted pKd: 10.838068008422852 | True pKd: 11.555954933166504\n",
      "Predicted pKd: 10.09194278717041 | True pKd: 10.962573051452637\n",
      "Predicted pKd: 13.439512252807617 | True pKd: 10.853872299194336\n",
      "Predicted pKd: 7.511113166809082 | True pKd: 8.522878646850586\n",
      "Predicted pKd: 9.327199935913086 | True pKd: 9.114073753356934\n",
      "Predicted pKd: 8.165197372436523 | True pKd: 8.179141998291016\n",
      "Predicted pKd: 11.050447463989258 | True pKd: 10.795880317687988\n",
      "Predicted pKd: 6.892955780029297 | True pKd: 6.346787452697754\n",
      "Predicted pKd: 5.791617393493652 | True pKd: 6.958607196807861\n",
      "Predicted pKd: 7.4931535720825195 | True pKd: 8.04963493347168\n",
      "Predicted pKd: 8.50474739074707 | True pKd: 7.531652450561523\n",
      "Predicted pKd: 7.359618186950684 | True pKd: 6.345823287963867\n",
      "Predicted pKd: 7.890088081359863 | True pKd: 5.593459606170654\n",
      "Predicted pKd: 6.407452583312988 | True pKd: 6.481485843658447\n",
      "Predicted pKd: 7.405130386352539 | True pKd: 7.4202165603637695\n",
      "Predicted pKd: 5.474658012390137 | True pKd: 8.251811981201172\n",
      "Predicted pKd: 4.952638626098633 | True pKd: 4.92081880569458\n",
      "Predicted pKd: 9.9812593460083 | True pKd: 10.327901840209961\n",
      "Predicted pKd: 8.59994125366211 | True pKd: 8.721246719360352\n",
      "Predicted pKd: 4.229345321655273 | True pKd: 5.187086582183838\n",
      "Predicted pKd: 8.66196346282959 | True pKd: 8.271646499633789\n",
      "Predicted pKd: 8.903769493103027 | True pKd: 4.619788646697998\n",
      "Predicted pKd: 6.940229415893555 | True pKd: 6.057000637054443\n",
      "Predicted pKd: 9.454339027404785 | True pKd: 9.236572265625\n",
      "Predicted pKd: 7.390362739562988 | True pKd: 6.552842140197754\n",
      "Predicted pKd: 9.075592041015625 | True pKd: 9.036211967468262\n",
      "Predicted pKd: 4.655141830444336 | True pKd: 3.7033348083496094\n",
      "Predicted pKd: 8.181350708007812 | True pKd: 9.42021656036377\n",
      "Predicted pKd: 6.658017158508301 | True pKd: 5.218244552612305\n",
      "Predicted pKd: 7.696033477783203 | True pKd: 6.264400959014893\n",
      "Predicted pKd: 7.460568428039551 | True pKd: 6.0\n",
      "Predicted pKd: 7.693174362182617 | True pKd: 6.522878646850586\n",
      "Predicted pKd: 4.683750629425049 | True pKd: 5.508638381958008\n",
      "Predicted pKd: 7.018091201782227 | True pKd: 5.096909999847412\n",
      "Predicted pKd: 6.269296646118164 | True pKd: 5.886056423187256\n",
      "Predicted pKd: 8.7045259475708 | True pKd: 9.818156242370605\n",
      "Predicted pKd: 5.546291351318359 | True pKd: 4.838632106781006\n",
      "Predicted pKd: 9.263501167297363 | True pKd: 11.522878646850586\n",
      "Predicted pKd: 6.54898738861084 | True pKd: 4.6575775146484375\n",
      "Predicted pKd: 8.370028495788574 | True pKd: 8.920818328857422\n",
      "Predicted pKd: 8.179883003234863 | True pKd: 7.889410495758057\n",
      "Predicted pKd: 6.657252311706543 | True pKd: 7.337242126464844\n",
      "Predicted pKd: 8.969442367553711 | True pKd: 8.0\n",
      "Predicted pKd: 7.438848495483398 | True pKd: 7.79587984085083\n",
      "Predicted pKd: 8.017322540283203 | True pKd: 8.726073265075684\n",
      "Predicted pKd: 8.665278434753418 | True pKd: 8.183095932006836\n",
      "Predicted pKd: 6.589917182922363 | True pKd: 3.3712024688720703\n",
      "Predicted pKd: 8.0096435546875 | True pKd: 7.910094738006592\n",
      "Predicted pKd: 9.045393943786621 | True pKd: 8.86966609954834\n",
      "Predicted pKd: 4.552008628845215 | True pKd: 4.221848964691162\n",
      "Predicted pKd: 12.743557929992676 | True pKd: 7.429457187652588\n",
      "Predicted pKd: 8.727107048034668 | True pKd: 10.384050369262695\n",
      "Predicted pKd: 7.767640113830566 | True pKd: 7.559091091156006\n",
      "Predicted pKd: 7.229188919067383 | True pKd: 6.643974304199219\n",
      "Predicted pKd: 6.690887451171875 | True pKd: 6.15490198135376\n",
      "Predicted pKd: 6.252806663513184 | True pKd: 6.552842140197754\n",
      "Predicted pKd: 6.281990051269531 | True pKd: 6.443697452545166\n",
      "Predicted pKd: 7.783679962158203 | True pKd: 6.946921348571777\n",
      "Predicted pKd: 6.083868026733398 | True pKd: 6.508638381958008\n",
      "Predicted pKd: 7.478468894958496 | True pKd: 7.853871822357178\n",
      "Predicted pKd: 9.138506889343262 | True pKd: 10.823908805847168\n",
      "Predicted pKd: 6.2552080154418945 | True pKd: 5.886056423187256\n",
      "Predicted pKd: 9.882218360900879 | True pKd: 10.531652450561523\n",
      "Predicted pKd: 7.559835433959961 | True pKd: 7.647817611694336\n",
      "Predicted pKd: 8.098189353942871 | True pKd: 9.619789123535156\n",
      "Predicted pKd: 7.972933769226074 | True pKd: 8.552842140197754\n",
      "Predicted pKd: 6.389216423034668 | True pKd: 6.459670543670654\n",
      "Predicted pKd: 9.40868854522705 | True pKd: 9.468521118164062\n",
      "Predicted pKd: 8.8023042678833 | True pKd: 9.787812232971191\n",
      "Predicted pKd: 4.261024475097656 | True pKd: 4.2441253662109375\n",
      "Predicted pKd: 9.31450080871582 | True pKd: 8.71669864654541\n",
      "Predicted pKd: 7.5063066482543945 | True pKd: 8.229147911071777\n",
      "Predicted pKd: 9.411176681518555 | True pKd: 9.142667770385742\n",
      "Predicted pKd: 7.432241439819336 | True pKd: 6.055517196655273\n",
      "Predicted pKd: 9.641233444213867 | True pKd: 12.0\n",
      "Predicted pKd: 8.316455841064453 | True pKd: 9.0\n",
      "Predicted pKd: 8.130775451660156 | True pKd: 8.886056900024414\n",
      "Predicted pKd: 4.9533538818359375 | True pKd: 5.674997329711914\n",
      "Predicted pKd: 9.444328308105469 | True pKd: 9.455931663513184\n",
      "Predicted pKd: 6.920848846435547 | True pKd: 8.698969841003418\n",
      "Predicted pKd: 7.291332244873047 | True pKd: 8.0\n",
      "Predicted pKd: 10.350347518920898 | True pKd: 11.698969841003418\n",
      "Predicted pKd: 9.521227836608887 | True pKd: 11.0\n",
      "Predicted pKd: 5.425175666809082 | True pKd: 4.812479496002197\n",
      "Predicted pKd: 9.076639175415039 | True pKd: 8.756961822509766\n",
      "Predicted pKd: 6.942730903625488 | True pKd: 6.062983989715576\n",
      "Predicted pKd: 4.418652534484863 | True pKd: 4.872895240783691\n",
      "Predicted pKd: 6.104351043701172 | True pKd: 5.958607196807861\n",
      "Predicted pKd: 9.791993141174316 | True pKd: 14.0\n",
      "Predicted pKd: 5.351045608520508 | True pKd: 7.142667293548584\n",
      "Predicted pKd: 4.79145622253418 | True pKd: 4.075203895568848\n",
      "Predicted pKd: 9.907733917236328 | True pKd: 10.447331428527832\n",
      "Predicted pKd: 7.486043930053711 | True pKd: 7.614393711090088\n",
      "Predicted pKd: 9.180261611938477 | True pKd: 10.341988563537598\n",
      "Predicted pKd: 6.131538391113281 | True pKd: 4.096909999847412\n",
      "Predicted pKd: 5.4991455078125 | True pKd: 6.337242126464844\n",
      "Predicted pKd: 7.433121681213379 | True pKd: 8.244125366210938\n",
      "Predicted pKd: 10.350347518920898 | True pKd: 11.522878646850586\n",
      "Predicted pKd: 8.166529655456543 | True pKd: 7.913640022277832\n",
      "Predicted pKd: 5.216426372528076 | True pKd: 5.376750946044922\n",
      "Predicted pKd: 10.368852615356445 | True pKd: 10.838631629943848\n",
      "Predicted pKd: 9.362348556518555 | True pKd: 9.853872299194336\n",
      "Predicted pKd: 7.952761650085449 | True pKd: 11.832682609558105\n",
      "Predicted pKd: 7.278624534606934 | True pKd: 6.586700439453125\n",
      "Predicted pKd: 6.130095481872559 | True pKd: 7.698969841003418\n",
      "Predicted pKd: 5.913775444030762 | True pKd: 8.040958404541016\n",
      "Predicted pKd: 9.069588661193848 | True pKd: 9.568635940551758\n",
      "Predicted pKd: 9.641639709472656 | True pKd: 9.555954933166504\n",
      "Predicted pKd: 9.993677139282227 | True pKd: 9.337242126464844\n",
      "Predicted pKd: 8.175780296325684 | True pKd: 8.638272285461426\n",
      "Predicted pKd: 5.510154724121094 | True pKd: 3.5003128051757812\n",
      "Predicted pKd: 5.258615493774414 | True pKd: 5.376750946044922\n",
      "Predicted pKd: 9.81037425994873 | True pKd: 10.690369606018066\n",
      "Predicted pKd: 8.433055877685547 | True pKd: 9.795880317687988\n",
      "Predicted pKd: 8.202886581420898 | True pKd: 8.638272285461426\n",
      "Predicted pKd: 8.175821304321289 | True pKd: 8.95860767364502\n",
      "Predicted pKd: 5.462779998779297 | True pKd: 3.1972262859344482\n",
      "Predicted pKd: 7.601934432983398 | True pKd: 8.050609588623047\n",
      "Predicted pKd: 7.891999244689941 | True pKd: 8.275724411010742\n",
      "Predicted pKd: 4.7933244705200195 | True pKd: 4.391473770141602\n",
      "Predicted pKd: 8.588983535766602 | True pKd: 10.365522384643555\n",
      "Predicted pKd: 9.360763549804688 | True pKd: 9.739928245544434\n",
      "Predicted pKd: 4.286508560180664 | True pKd: 5.958607196807861\n",
      "Predicted pKd: 9.063166618347168 | True pKd: 9.387216567993164\n",
      "Predicted pKd: 10.272034645080566 | True pKd: 10.826813697814941\n",
      "Predicted pKd: 5.0064005851745605 | True pKd: 5.427128314971924\n",
      "Predicted pKd: 8.93698501586914 | True pKd: 7.25492525100708\n",
      "Predicted pKd: 9.500588417053223 | True pKd: 6.543633937835693\n",
      "Predicted pKd: 8.27825927734375 | True pKd: 8.229147911071777\n",
      "Predicted pKd: 9.734071731567383 | True pKd: 9.739928245544434\n",
      "Predicted pKd: 5.170109272003174 | True pKd: 3.7670037746429443\n",
      "Predicted pKd: 5.622455596923828 | True pKd: 5.443697452545166\n",
      "Predicted pKd: 8.385661125183105 | True pKd: 6.707744121551514\n",
      "Predicted pKd: 6.682700157165527 | True pKd: 6.397940158843994\n",
      "Predicted pKd: 6.390111923217773 | True pKd: 3.795880079269409\n",
      "Predicted pKd: 8.700582504272461 | True pKd: 9.431797981262207\n",
      "Predicted pKd: 5.995783805847168 | True pKd: 6.892789840698242\n",
      "Predicted pKd: 9.831009864807129 | True pKd: 10.322393417358398\n",
      "Predicted pKd: 7.27058219909668 | True pKd: 7.148741722106934\n",
      "Predicted pKd: 6.407910346984863 | True pKd: 5.522878646850586\n",
      "Predicted pKd: 8.173129081726074 | True pKd: 8.107349395751953\n",
      "Predicted pKd: 6.261265754699707 | True pKd: 7.522878646850586\n",
      "Predicted pKd: 5.705048561096191 | True pKd: 5.585026741027832\n",
      "Predicted pKd: 5.837540626525879 | True pKd: 8.130767822265625\n",
      "Predicted pKd: 8.210291862487793 | True pKd: 7.798603057861328\n",
      "Predicted pKd: 9.40359115600586 | True pKd: 8.954676628112793\n",
      "Predicted pKd: 5.049088478088379 | True pKd: 6.600326061248779\n",
      "Predicted pKd: 8.630971908569336 | True pKd: 8.95860767364502\n",
      "Predicted pKd: 8.70464038848877 | True pKd: 10.815308570861816\n",
      "Predicted pKd: 5.667459487915039 | True pKd: 4.17587423324585\n",
      "Predicted pKd: 7.728854179382324 | True pKd: 7.677780628204346\n",
      "Predicted pKd: 6.510610580444336 | True pKd: 4.9871625900268555\n",
      "Predicted pKd: 8.285771369934082 | True pKd: 7.552842140197754\n",
      "Predicted pKd: 8.657683372497559 | True pKd: 8.522878646850586\n",
      "Predicted pKd: 7.121524810791016 | True pKd: 6.443697452545166\n",
      "Predicted pKd: 6.67669677734375 | True pKd: 9.002177238464355\n",
      "Predicted pKd: 9.845499038696289 | True pKd: 9.879426002502441\n",
      "Predicted pKd: 9.764349937438965 | True pKd: 8.397939682006836\n",
      "Predicted pKd: 8.613998413085938 | True pKd: 9.795880317687988\n",
      "Predicted pKd: 5.31642484664917 | True pKd: 6.886056423187256\n",
      "Predicted pKd: 7.650973320007324 | True pKd: 8.522878646850586\n",
      "Predicted pKd: 4.951633453369141 | True pKd: 4.400116920471191\n",
      "Predicted pKd: 5.808224678039551 | True pKd: 8.397939682006836\n",
      "Predicted pKd: 7.5273027420043945 | True pKd: 8.113509178161621\n",
      "Predicted pKd: 4.653000354766846 | True pKd: 5.221848964691162\n",
      "Predicted pKd: 7.099542617797852 | True pKd: 8.853872299194336\n",
      "Predicted pKd: 4.70827054977417 | True pKd: 4.92081880569458\n",
      "Predicted pKd: 8.293728828430176 | True pKd: 8.031517028808594\n",
      "Predicted pKd: 4.6770758628845215 | True pKd: 5.221848964691162\n",
      "Predicted pKd: 6.226743698120117 | True pKd: 6.638272285461426\n",
      "Predicted pKd: 9.148550987243652 | True pKd: 8.301030158996582\n",
      "Predicted pKd: 8.634010314941406 | True pKd: 8.30980396270752\n",
      "Predicted pKd: 10.247306823730469 | True pKd: 10.414539337158203\n",
      "Predicted pKd: 9.841169357299805 | True pKd: 9.254924774169922\n",
      "Predicted pKd: 9.861624717712402 | True pKd: 9.723538398742676\n",
      "Predicted pKd: 9.135043144226074 | True pKd: 8.726073265075684\n",
      "Predicted pKd: 7.428811073303223 | True pKd: 9.707743644714355\n",
      "Predicted pKd: 7.713588714599609 | True pKd: 8.522878646850586\n",
      "Predicted pKd: 9.415674209594727 | True pKd: 10.562249183654785\n",
      "Predicted pKd: 4.680208683013916 | True pKd: 5.935542106628418\n",
      "Predicted pKd: 4.73618221282959 | True pKd: 5.698969841003418\n",
      "Predicted pKd: 5.468828201293945 | True pKd: 5.4202165603637695\n",
      "Predicted pKd: 8.207304000854492 | True pKd: 9.853872299194336\n",
      "Predicted pKd: 5.917891502380371 | True pKd: 5.744727611541748\n",
      "Predicted pKd: 4.907693862915039 | True pKd: 5.707744121551514\n",
      "Predicted pKd: 4.540592193603516 | True pKd: 4.573488712310791\n",
      "Predicted pKd: 7.614258766174316 | True pKd: 8.221848487854004\n",
      "Predicted pKd: 7.397261619567871 | True pKd: 7.958607196807861\n",
      "Predicted pKd: 5.991915702819824 | True pKd: 5.207608222961426\n",
      "Predicted pKd: 10.095545768737793 | True pKd: 9.59175968170166\n",
      "Predicted pKd: 6.395350456237793 | True pKd: 6.50445556640625\n",
      "Predicted pKd: 6.811418533325195 | True pKd: 8.823908805847168\n",
      "Predicted pKd: 8.16069507598877 | True pKd: 8.185752868652344\n",
      "Predicted pKd: 6.916562080383301 | True pKd: 10.522878646850586\n",
      "Predicted pKd: 8.572012901306152 | True pKd: 9.0\n",
      "Predicted pKd: 5.391201972961426 | True pKd: 7.096909999847412\n",
      "Predicted pKd: 4.7417097091674805 | True pKd: 8.022275924682617\n",
      "Predicted pKd: 7.437341690063477 | True pKd: 7.958607196807861\n",
      "Predicted pKd: 4.3791680335998535 | True pKd: 5.721475124359131\n",
      "Predicted pKd: 14.718740463256836 | True pKd: 15.698969841003418\n",
      "Predicted pKd: 7.417795181274414 | True pKd: 8.30980396270752\n",
      "Predicted pKd: 5.680734634399414 | True pKd: 4.0\n",
      "Predicted pKd: 5.549647331237793 | True pKd: 5.744727611541748\n",
      "Predicted pKd: 6.4419755935668945 | True pKd: 4.2924299240112305\n",
      "Predicted pKd: 7.461493492126465 | True pKd: 8.110698699951172\n",
      "Predicted pKd: 7.277174949645996 | True pKd: 4.653646945953369\n",
      "Predicted pKd: 9.157007217407227 | True pKd: 8.74472713470459\n",
      "Predicted pKd: 6.526666641235352 | True pKd: 6.491361618041992\n",
      "Predicted pKd: 9.16999626159668 | True pKd: 8.481486320495605\n",
      "Predicted pKd: 5.828563690185547 | True pKd: 6.872895240783691\n",
      "Predicted pKd: 7.155036926269531 | True pKd: 7.0087738037109375\n",
      "Predicted pKd: 4.615365028381348 | True pKd: 5.619788646697998\n",
      "Predicted pKd: 9.459303855895996 | True pKd: 9.045757293701172\n",
      "Predicted pKd: 5.273726940155029 | True pKd: 6.853871822357178\n",
      "Predicted pKd: 5.316707611083984 | True pKd: 3.301029920578003\n",
      "Predicted pKd: 4.364498138427734 | True pKd: 4.583359718322754\n",
      "Predicted pKd: 10.097808837890625 | True pKd: 9.555954933166504\n",
      "Predicted pKd: 9.077017784118652 | True pKd: 9.236572265625\n",
      "Predicted pKd: 7.350074768066406 | True pKd: 7.924453258514404\n",
      "Predicted pKd: 7.757255554199219 | True pKd: 8.568635940551758\n",
      "Predicted pKd: 7.872896194458008 | True pKd: 10.886056900024414\n",
      "Predicted pKd: 7.278624534606934 | True pKd: 6.886056423187256\n",
      "Predicted pKd: 7.704187393188477 | True pKd: 7.575118541717529\n",
      "Predicted pKd: 7.492866516113281 | True pKd: 7.552842140197754\n",
      "Predicted pKd: 7.8459882736206055 | True pKd: 9.698969841003418\n",
      "Predicted pKd: 6.791806221008301 | True pKd: 10.301030158996582\n",
      "Predicted pKd: 4.539841651916504 | True pKd: 4.123205184936523\n",
      "Predicted pKd: 7.030662536621094 | True pKd: 6.109020233154297\n",
      "Predicted pKd: 4.426361083984375 | True pKd: 4.764471530914307\n",
      "Predicted pKd: 4.645519256591797 | True pKd: 4.721246242523193\n",
      "Predicted pKd: 8.607958793640137 | True pKd: 8.590066909790039\n",
      "Predicted pKd: 6.252367973327637 | True pKd: 5.93930196762085\n",
      "Predicted pKd: 6.293069839477539 | True pKd: 7.92081880569458\n",
      "Predicted pKd: 6.490487098693848 | True pKd: 6.494850158691406\n",
      "Predicted pKd: 4.957357406616211 | True pKd: 3.2471835613250732\n",
      "Predicted pKd: 10.07884407043457 | True pKd: 9.28399658203125\n",
      "Predicted pKd: 4.991762161254883 | True pKd: 3.5934598445892334\n",
      "Predicted pKd: 5.543591499328613 | True pKd: 5.958607196807861\n",
      "Predicted pKd: 9.449579238891602 | True pKd: 8.844663619995117\n",
      "Predicted pKd: 4.639184951782227 | True pKd: 4.3565473556518555\n",
      "Predicted pKd: 5.751379013061523 | True pKd: 7.978810787200928\n",
      "Predicted pKd: 9.585537910461426 | True pKd: 9.737548828125\n",
      "Predicted pKd: 6.597538948059082 | True pKd: 7.0\n",
      "Predicted pKd: 5.9901275634765625 | True pKd: 6.460923671722412\n",
      "Predicted pKd: 9.022159576416016 | True pKd: 6.0087738037109375\n",
      "Predicted pKd: 8.680033683776855 | True pKd: 8.728157997131348\n",
      "Predicted pKd: 9.792518615722656 | True pKd: 9.555954933166504\n",
      "Predicted pKd: 9.156667709350586 | True pKd: 9.793173789978027\n",
      "Predicted pKd: 6.062107086181641 | True pKd: 5.15490198135376\n",
      "Predicted pKd: 8.652238845825195 | True pKd: 8.95860767364502\n",
      "Predicted pKd: 7.1676788330078125 | True pKd: 9.0\n",
      "Predicted pKd: 5.9678239822387695 | True pKd: 6.600326061248779\n",
      "Predicted pKd: 7.752964019775391 | True pKd: 6.4202165603637695\n",
      "Predicted pKd: 7.590437889099121 | True pKd: 6.379863739013672\n",
      "Predicted pKd: 5.462653160095215 | True pKd: 4.096909999847412\n",
      "Predicted pKd: 9.392992973327637 | True pKd: 9.66353988647461\n",
      "Predicted pKd: 7.634546279907227 | True pKd: 8.522878646850586\n",
      "Predicted pKd: 9.826321601867676 | True pKd: 9.58004379272461\n",
      "Predicted pKd: 11.695993423461914 | True pKd: 9.95860767364502\n",
      "Predicted pKd: 7.425485610961914 | True pKd: 7.4685211181640625\n",
      "Predicted pKd: 4.420163631439209 | True pKd: 5.318758964538574\n",
      "Predicted pKd: 9.398114204406738 | True pKd: 9.0\n",
      "Predicted pKd: 10.188518524169922 | True pKd: 10.643974304199219\n",
      "Predicted pKd: 9.395576477050781 | True pKd: 9.366531372070312\n",
      "Predicted pKd: 8.729252815246582 | True pKd: 9.698969841003418\n",
      "Predicted pKd: 7.415132522583008 | True pKd: 7.0264105796813965\n",
      "Predicted pKd: 8.662225723266602 | True pKd: 8.116338729858398\n",
      "Predicted pKd: 9.404630661010742 | True pKd: 9.20065975189209\n",
      "Predicted pKd: 12.768406867980957 | True pKd: 13.882728576660156\n",
      "Predicted pKd: 8.179571151733398 | True pKd: 9.09691047668457\n",
      "Predicted pKd: 7.703582763671875 | True pKd: 7.392544746398926\n",
      "Predicted pKd: 6.630901336669922 | True pKd: 6.045757293701172\n",
      "Predicted pKd: 5.452154159545898 | True pKd: 5.505845546722412\n",
      "Predicted pKd: 6.225856781005859 | True pKd: 5.95078182220459\n",
      "Predicted pKd: 6.914048194885254 | True pKd: 8.42021656036377\n",
      "Predicted pKd: 4.953031539916992 | True pKd: 4.823908805847168\n",
      "Predicted pKd: 6.836067199707031 | True pKd: 6.744727611541748\n",
      "Predicted pKd: 9.574827194213867 | True pKd: 8.301030158996582\n",
      "Predicted pKd: 4.644295692443848 | True pKd: 4.2924299240112305\n",
      "Predicted pKd: 5.293510437011719 | True pKd: 4.301030158996582\n",
      "Predicted pKd: 9.720926284790039 | True pKd: 8.95078182220459\n",
      "Predicted pKd: 13.322758674621582 | True pKd: 12.552842140197754\n",
      "Predicted pKd: 10.583268165588379 | True pKd: 9.508638381958008\n",
      "Predicted pKd: 6.804450035095215 | True pKd: 7.236571788787842\n",
      "Predicted pKd: 8.261096954345703 | True pKd: 8.214670181274414\n",
      "Predicted pKd: 7.171687126159668 | True pKd: 5.92081880569458\n",
      "Predicted pKd: 6.875290870666504 | True pKd: 9.221848487854004\n",
      "Predicted pKd: 11.836047172546387 | True pKd: 11.443697929382324\n",
      "Predicted pKd: 8.161809921264648 | True pKd: 11.356547355651855\n",
      "Predicted pKd: 5.231535911560059 | True pKd: 5.301030158996582\n",
      "Predicted pKd: 9.720197677612305 | True pKd: 10.259636878967285\n",
      "Predicted pKd: 8.461272239685059 | True pKd: 6.413412570953369\n",
      "Predicted pKd: 8.855955123901367 | True pKd: 8.09691047668457\n",
      "Predicted pKd: 7.700040817260742 | True pKd: 8.070581436157227\n",
      "Predicted pKd: 9.3236083984375 | True pKd: 7.0\n",
      "Predicted pKd: 4.135407447814941 | True pKd: 4.756961822509766\n",
      "Predicted pKd: 7.674502372741699 | True pKd: 7.548213481903076\n",
      "Predicted pKd: 9.924332618713379 | True pKd: 10.152427673339844\n",
      "Predicted pKd: 6.887241363525391 | True pKd: 5.522878646850586\n",
      "Predicted pKd: 8.484198570251465 | True pKd: 8.1456937789917\n",
      "Predicted pKd: 6.614459037780762 | True pKd: 8.022275924682617\n",
      "Predicted pKd: 12.054944038391113 | True pKd: 11.96657657623291\n",
      "Predicted pKd: 9.00267219543457 | True pKd: 6.0\n",
      "Predicted pKd: 4.972826957702637 | True pKd: 4.619788646697998\n",
      "Predicted pKd: 5.941685676574707 | True pKd: 5.777283668518066\n",
      "Predicted pKd: 7.164737701416016 | True pKd: 9.0\n",
      "Predicted pKd: 9.480629920959473 | True pKd: 9.0\n",
      "Predicted pKd: 9.4036283493042 | True pKd: 8.568635940551758\n",
      "Predicted pKd: 8.895866394042969 | True pKd: 6.2790141105651855\n",
      "Predicted pKd: 5.849180221557617 | True pKd: 5.721246242523193\n",
      "Predicted pKd: 8.032230377197266 | True pKd: 7.698969841003418\n",
      "Predicted pKd: 4.568248748779297 | True pKd: 4.387216091156006\n",
      "Predicted pKd: 5.169973850250244 | True pKd: 4.221848964691162\n",
      "Predicted pKd: 8.101605415344238 | True pKd: 7.518557548522949\n",
      "Predicted pKd: 6.965598106384277 | True pKd: 6.886056423187256\n",
      "Predicted pKd: 9.70787239074707 | True pKd: 10.314258575439453\n",
      "Predicted pKd: 8.57141399383545 | True pKd: 9.522878646850586\n",
      "Predicted pKd: 6.8020782470703125 | True pKd: 7.180456161499023\n",
      "Predicted pKd: 8.975791931152344 | True pKd: 9.142667770385742\n",
      "Predicted pKd: 7.487914085388184 | True pKd: 5.698969841003418\n",
      "Predicted pKd: 7.302417755126953 | True pKd: 8.05453109741211\n",
      "Predicted pKd: 4.091337203979492 | True pKd: 3.698970079421997\n",
      "Predicted pKd: 7.635717391967773 | True pKd: 7.7695512771606445\n",
      "Predicted pKd: 8.433791160583496 | True pKd: 8.0\n",
      "Predicted pKd: 7.249629020690918 | True pKd: 6.0\n",
      "Predicted pKd: 7.358485221862793 | True pKd: 8.154901504516602\n",
      "Predicted pKd: 6.8104705810546875 | True pKd: 5.0\n",
      "Predicted pKd: 5.468263626098633 | True pKd: 4.336298942565918\n",
      "Predicted pKd: 6.558845520019531 | True pKd: 6.267606258392334\n",
      "Predicted pKd: 5.958580017089844 | True pKd: 3.7471470832824707\n",
      "Predicted pKd: 10.294768333435059 | True pKd: 10.739928245544434\n",
      "Predicted pKd: 9.296772956848145 | True pKd: 10.146302223205566\n",
      "Predicted pKd: 8.891647338867188 | True pKd: 9.853872299194336\n",
      "Predicted pKd: 5.001773357391357 | True pKd: 4.431798458099365\n",
      "Predicted pKd: 5.76531982421875 | True pKd: 7.402304649353027\n",
      "Predicted pKd: 6.870034217834473 | True pKd: 7.966576099395752\n",
      "Predicted pKd: 12.811297416687012 | True pKd: 13.152427673339844\n",
      "Predicted pKd: 7.377843856811523 | True pKd: 5.8326826095581055\n",
      "Predicted pKd: 9.83569049835205 | True pKd: 11.254924774169922\n",
      "Predicted pKd: 9.944351196289062 | True pKd: 10.154901504516602\n",
      "Predicted pKd: 4.37160587310791 | True pKd: 4.07572078704834\n",
      "Predicted pKd: 5.597696304321289 | True pKd: 4.619788646697998\n",
      "Predicted pKd: 4.883842945098877 | True pKd: 6.3205718994140625\n",
      "Predicted pKd: 6.778842926025391 | True pKd: 8.939302444458008\n",
      "Predicted pKd: 8.458659172058105 | True pKd: 4.612610340118408\n",
      "Predicted pKd: 4.50943660736084 | True pKd: 4.844664096832275\n",
      "Predicted pKd: 7.3170166015625 | True pKd: 8.619789123535156\n",
      "Predicted pKd: 9.86650276184082 | True pKd: 9.732828140258789\n",
      "Predicted pKd: 4.359507083892822 | True pKd: 4.958607196807861\n",
      "Predicted pKd: 9.40477180480957 | True pKd: 9.346787452697754\n",
      "Predicted pKd: 9.542140007019043 | True pKd: 10.850780487060547\n",
      "Predicted pKd: 9.588178634643555 | True pKd: 9.924452781677246\n",
      "Predicted pKd: 5.574785232543945 | True pKd: 6.924453258514404\n",
      "Predicted pKd: 8.494905471801758 | True pKd: 9.0\n",
      "Predicted pKd: 4.058324813842773 | True pKd: 3.3882765769958496\n",
      "Predicted pKd: 8.27066421508789 | True pKd: 8.494850158691406\n",
      "Predicted pKd: 6.913187026977539 | True pKd: 7.301030158996582\n",
      "Predicted pKd: 10.34300422668457 | True pKd: 10.322393417358398\n",
      "Predicted pKd: 6.527939796447754 | True pKd: 5.522878646850586\n",
      "Predicted pKd: 10.397233963012695 | True pKd: 10.447331428527832\n",
      "Predicted pKd: 10.725811004638672 | True pKd: 11.204119682312012\n",
      "Predicted pKd: 12.215240478515625 | True pKd: 12.04963493347168\n",
      "Predicted pKd: 7.461078643798828 | True pKd: 7.095284461975098\n",
      "Predicted pKd: 4.922488689422607 | True pKd: 5.7695512771606445\n",
      "Predicted pKd: 13.865703582763672 | True pKd: 15.0\n",
      "Predicted pKd: 8.63554859161377 | True pKd: 9.026871681213379\n",
      "Predicted pKd: 4.7130327224731445 | True pKd: 2.9586071968078613\n",
      "Predicted pKd: 6.130365371704102 | True pKd: 9.747146606445312\n",
      "Predicted pKd: 7.875903129577637 | True pKd: 8.154901504516602\n",
      "Predicted pKd: 7.444831848144531 | True pKd: 9.677781105041504\n",
      "Predicted pKd: 6.862513542175293 | True pKd: 5.3625102043151855\n",
      "Predicted pKd: 5.37625789642334 | True pKd: 4.823908805847168\n",
      "Predicted pKd: 4.776322364807129 | True pKd: 3.906578302383423\n",
      "Predicted pKd: 10.418089866638184 | True pKd: 11.935542106628418\n",
      "Predicted pKd: 9.407413482666016 | True pKd: 8.42021656036377\n",
      "Predicted pKd: 4.677383899688721 | True pKd: 3.6160051822662354\n",
      "Predicted pKd: 9.132719039916992 | True pKd: 8.42021656036377\n",
      "Predicted pKd: 7.163732528686523 | True pKd: 6.835647106170654\n",
      "Predicted pKd: 6.509519577026367 | True pKd: 5.744727611541748\n",
      "Predicted pKd: 9.116039276123047 | True pKd: 7.549750804901123\n",
      "Predicted pKd: 6.836841583251953 | True pKd: 7.721246242523193\n",
      "Predicted pKd: 7.950221061706543 | True pKd: 7.92081880569458\n",
      "Predicted pKd: 4.916291236877441 | True pKd: 4.728158473968506\n",
      "Predicted pKd: 5.633666038513184 | True pKd: 6.638272285461426\n",
      "Predicted pKd: 7.069978713989258 | True pKd: 7.412289142608643\n",
      "Predicted pKd: 9.71422290802002 | True pKd: 10.341988563537598\n",
      "Predicted pKd: 7.438632011413574 | True pKd: 8.058985710144043\n",
      "Predicted pKd: 7.154391288757324 | True pKd: 6.872895240783691\n",
      "Predicted pKd: 10.094585418701172 | True pKd: 10.943095207214355\n",
      "Predicted pKd: 13.449545860290527 | True pKd: 11.920818328857422\n",
      "Predicted pKd: 9.982670783996582 | True pKd: 10.20065975189209\n",
      "Predicted pKd: 5.25443696975708 | True pKd: 4.48811674118042\n",
      "Predicted pKd: 9.621950149536133 | True pKd: 7.505845546722412\n",
      "Predicted pKd: 5.917672157287598 | True pKd: 7.267606258392334\n",
      "Predicted pKd: 5.81440544128418 | True pKd: 5.251811981201172\n",
      "Predicted pKd: 10.297905921936035 | True pKd: 10.42021656036377\n",
      "Predicted pKd: 8.324799537658691 | True pKd: 7.698969841003418\n",
      "Predicted pKd: 5.93614387512207 | True pKd: 4.3098039627075195\n",
      "Predicted pKd: 9.403068542480469 | True pKd: 8.522878646850586\n",
      "Predicted pKd: 9.098867416381836 | True pKd: 8.823908805847168\n",
      "Predicted pKd: 10.150038719177246 | True pKd: 11.844663619995117\n",
      "Predicted pKd: 4.631634712219238 | True pKd: 4.886056423187256\n",
      "Predicted pKd: 4.648510932922363 | True pKd: 4.585026741027832\n",
      "Predicted pKd: 7.639669418334961 | True pKd: 8.060481071472168\n",
      "Predicted pKd: 5.1901750564575195 | True pKd: 4.92081880569458\n",
      "Predicted pKd: 9.088274002075195 | True pKd: 7.647817611694336\n",
      "Predicted pKd: 5.535974502563477 | True pKd: 5.28066873550415\n",
      "Predicted pKd: 6.413312911987305 | True pKd: 3.3535962104797363\n",
      "Predicted pKd: 5.556357383728027 | True pKd: 9.481486320495605\n",
      "Predicted pKd: 10.13110637664795 | True pKd: 8.079355239868164\n",
      "Predicted pKd: 8.556696891784668 | True pKd: 8.920818328857422\n",
      "Predicted pKd: 7.378902435302734 | True pKd: 6.552842140197754\n",
      "Predicted pKd: 6.176305770874023 | True pKd: 4.896196365356445\n",
      "Predicted pKd: 9.404711723327637 | True pKd: 9.301030158996582\n",
      "Predicted pKd: 8.28123664855957 | True pKd: 9.06550121307373\n",
      "Predicted pKd: 8.197294235229492 | True pKd: 7.77211332321167\n",
      "Predicted pKd: 4.6550493240356445 | True pKd: 4.522878646850586\n",
      "Predicted pKd: 9.062682151794434 | True pKd: 9.0\n",
      "Predicted pKd: 6.393349647521973 | True pKd: 5.886056423187256\n",
      "Predicted pKd: 5.709794044494629 | True pKd: 8.154901504516602\n",
      "Predicted pKd: 9.400964736938477 | True pKd: 8.698969841003418\n",
      "Predicted pKd: 6.611717224121094 | True pKd: 8.09691047668457\n",
      "Predicted pKd: 9.744087219238281 | True pKd: 10.617982864379883\n",
      "Predicted pKd: 6.000457763671875 | True pKd: 5.823908805847168\n",
      "Predicted pKd: 9.085240364074707 | True pKd: 9.585026741027832\n",
      "Predicted pKd: 9.0806884765625 | True pKd: 9.0\n",
      "Predicted pKd: 7.234819412231445 | True pKd: 8.408935546875\n",
      "Predicted pKd: 7.064202308654785 | True pKd: 7.180456161499023\n",
      "Predicted pKd: 6.8874711990356445 | True pKd: 9.0\n",
      "Predicted pKd: 7.386013031005859 | True pKd: 4.7931742668151855\n",
      "Predicted pKd: 9.084793090820312 | True pKd: 9.431797981262207\n",
      "Predicted pKd: 8.736709594726562 | True pKd: 7.4685211181640625\n",
      "Predicted pKd: 7.330379486083984 | True pKd: 8.522878646850586\n",
      "Predicted pKd: 7.764972686767578 | True pKd: 4.698969841003418\n",
      "Predicted pKd: 8.086349487304688 | True pKd: 8.356547355651855\n",
      "Predicted pKd: 9.456031799316406 | True pKd: 10.0\n",
      "Predicted pKd: 9.075979232788086 | True pKd: 6.723538398742676\n",
      "Predicted pKd: 8.002071380615234 | True pKd: 8.022275924682617\n",
      "Predicted pKd: 7.951011657714844 | True pKd: 5.702239513397217\n",
      "Predicted pKd: 7.928691864013672 | True pKd: 6.619788646697998\n",
      "Predicted pKd: 7.747341156005859 | True pKd: 7.602059841156006\n",
      "Predicted pKd: 9.4012451171875 | True pKd: 9.443697929382324\n",
      "Predicted pKd: 8.321234703063965 | True pKd: 8.308034896850586\n",
      "Predicted pKd: 5.579092025756836 | True pKd: 7.7695512771606445\n",
      "Predicted pKd: 8.727754592895508 | True pKd: 9.494850158691406\n",
      "Predicted pKd: 13.872995376586914 | True pKd: 15.091514587402344\n",
      "Predicted pKd: 8.881078720092773 | True pKd: 9.254924774169922\n",
      "Predicted pKd: 9.960308074951172 | True pKd: 11.041436195373535\n",
      "Predicted pKd: 8.797125816345215 | True pKd: 5.267606258392334\n",
      "Predicted pKd: 7.250662803649902 | True pKd: 8.452225685119629\n",
      "Predicted pKd: 6.431439399719238 | True pKd: 6.7695512771606445\n",
      "Predicted pKd: 8.76453971862793 | True pKd: 8.356547355651855\n",
      "Predicted pKd: 5.545413017272949 | True pKd: 5.268411159515381\n",
      "Predicted pKd: 8.184402465820312 | True pKd: 8.102373123168945\n",
      "Predicted pKd: 4.616357326507568 | True pKd: 4.444905757904053\n",
      "Predicted pKd: 5.547651290893555 | True pKd: 5.93930196762085\n",
      "Predicted pKd: 9.649870872497559 | True pKd: 9.301030158996582\n",
      "Predicted pKd: 8.62861442565918 | True pKd: 9.543634414672852\n",
      "Predicted pKd: 6.893641471862793 | True pKd: 8.301030158996582\n",
      "Predicted pKd: 10.357515335083008 | True pKd: 9.322393417358398\n",
      "Predicted pKd: 9.618175506591797 | True pKd: 10.522878646850586\n",
      "Predicted pKd: 5.721305847167969 | True pKd: 8.364516258239746\n",
      "Predicted pKd: 4.803391456604004 | True pKd: 3.966576337814331\n",
      "Predicted pKd: 7.638766288757324 | True pKd: 4.318758964538574\n",
      "Predicted pKd: 7.388101577758789 | True pKd: 4.8181562423706055\n",
      "Predicted pKd: 6.064536094665527 | True pKd: 6.962573528289795\n",
      "Predicted pKd: 6.363644599914551 | True pKd: 5.0809221267700195\n",
      "Predicted pKd: 10.409762382507324 | True pKd: 12.175873756408691\n",
      "Predicted pKd: 7.392183303833008 | True pKd: 7.200659275054932\n",
      "Predicted pKd: 4.654975891113281 | True pKd: 4.508638381958008\n",
      "Predicted pKd: 7.793795585632324 | True pKd: 7.431798458099365\n",
      "Predicted pKd: 7.6067399978637695 | True pKd: 6.643974304199219\n",
      "Predicted pKd: 4.906579494476318 | True pKd: 5.853871822357178\n",
      "Predicted pKd: 6.231442451477051 | True pKd: 7.255237579345703\n",
      "Predicted pKd: 9.100737571716309 | True pKd: 9.175873756408691\n",
      "Predicted pKd: 6.934521675109863 | True pKd: 6.628931999206543\n",
      "Predicted pKd: 10.35214614868164 | True pKd: 11.522878646850586\n",
      "Predicted pKd: 4.949066162109375 | True pKd: 6.886056423187256\n",
      "Predicted pKd: 8.263459205627441 | True pKd: 8.537602424621582\n",
      "Predicted pKd: 7.079654693603516 | True pKd: 8.267605781555176\n",
      "Predicted pKd: 5.05692195892334 | True pKd: 7.3665313720703125\n",
      "Predicted pKd: 7.983381271362305 | True pKd: 8.95860767364502\n",
      "Predicted pKd: 4.872866153717041 | True pKd: 8.364516258239746\n",
      "Predicted pKd: 7.684782981872559 | True pKd: 8.772112846374512\n",
      "Predicted pKd: 7.211858749389648 | True pKd: 5.397940158843994\n",
      "Predicted pKd: 8.612329483032227 | True pKd: 9.481486320495605\n",
      "Predicted pKd: 6.973446846008301 | True pKd: 7.723538398742676\n",
      "Predicted pKd: 7.5756683349609375 | True pKd: 5.4202165603637695\n",
      "Predicted pKd: 6.61982536315918 | True pKd: 7.301030158996582\n",
      "Predicted pKd: 5.953652381896973 | True pKd: 5.698969841003418\n",
      "Predicted pKd: 9.310369491577148 | True pKd: 9.954676628112793\n",
      "Predicted pKd: 9.399794578552246 | True pKd: 8.806875228881836\n",
      "Predicted pKd: 7.275634765625 | True pKd: 5.634511947631836\n",
      "Predicted pKd: 6.461949348449707 | True pKd: 4.239577293395996\n",
      "Predicted pKd: 9.717140197753906 | True pKd: 10.026871681213379\n",
      "Predicted pKd: 5.502513885498047 | True pKd: 4.8326826095581055\n",
      "Predicted pKd: 9.045705795288086 | True pKd: 10.74472713470459\n",
      "Predicted pKd: 10.014426231384277 | True pKd: 7.991399765014648\n",
      "Predicted pKd: 6.08781623840332 | True pKd: 9.013228416442871\n",
      "Predicted pKd: 9.964337348937988 | True pKd: 9.853872299194336\n",
      "Predicted pKd: 5.964326858520508 | True pKd: 5.826813697814941\n",
      "Predicted pKd: 7.296928405761719 | True pKd: 5.698969841003418\n",
      "Predicted pKd: 8.384368896484375 | True pKd: 7.718966484069824\n",
      "Predicted pKd: 8.501005172729492 | True pKd: 5.301030158996582\n",
      "Predicted pKd: 7.441180229187012 | True pKd: 8.583359718322754\n",
      "Predicted pKd: 6.094688415527344 | True pKd: 6.595166206359863\n",
      "Predicted pKd: 9.258322715759277 | True pKd: 10.853872299194336\n",
      "Predicted pKd: 7.838461875915527 | True pKd: 7.568636417388916\n",
      "Predicted pKd: 6.284167289733887 | True pKd: 13.230622291564941\n",
      "Predicted pKd: 6.780206680297852 | True pKd: 8.677781105041504\n",
      "Predicted pKd: 4.99110221862793 | True pKd: 3.698970079421997\n",
      "Predicted pKd: 7.45028018951416 | True pKd: 9.853872299194336\n",
      "Predicted pKd: 7.693428039550781 | True pKd: 8.522878646850586\n",
      "Predicted pKd: 7.981602668762207 | True pKd: 9.447331428527832\n",
      "Predicted pKd: 4.950872421264648 | True pKd: 3.698970079421997\n",
      "Predicted pKd: 9.92751407623291 | True pKd: 9.935542106628418\n",
      "Predicted pKd: 6.3486175537109375 | True pKd: 5.0\n",
      "Predicted pKd: 4.435164928436279 | True pKd: 4.7931742668151855\n",
      "Predicted pKd: 5.89808464050293 | True pKd: 6.15490198135376\n",
      "Predicted pKd: 5.628439903259277 | True pKd: 10.0\n",
      "Predicted pKd: 6.378328323364258 | True pKd: 5.698969841003418\n",
      "Predicted pKd: 6.519200325012207 | True pKd: 6.801342964172363\n",
      "Predicted pKd: 4.536004066467285 | True pKd: 4.425968647003174\n",
      "Predicted pKd: 9.058210372924805 | True pKd: 9.477556228637695\n",
      "Predicted pKd: 7.982047080993652 | True pKd: 8.50723934173584\n",
      "Predicted pKd: 5.404637336730957 | True pKd: 4.701147079467773\n",
      "Predicted pKd: 5.289285659790039 | True pKd: 4.096909999847412\n",
      "Predicted pKd: 8.354002952575684 | True pKd: 10.040958404541016\n",
      "Predicted pKd: 7.783369064331055 | True pKd: 5.44733190536499\n",
      "Predicted pKd: 7.651246070861816 | True pKd: 6.534616947174072\n",
      "Predicted pKd: 7.770251274108887 | True pKd: 6.982966423034668\n",
      "Predicted pKd: 4.970207214355469 | True pKd: 4.84163761138916\n",
      "Predicted pKd: 7.244453430175781 | True pKd: 6.236571788787842\n",
      "Predicted pKd: 8.735302925109863 | True pKd: 8.74472713470459\n",
      "Predicted pKd: 9.997437477111816 | True pKd: 8.114073753356934\n",
      "Predicted pKd: 8.159663200378418 | True pKd: 7.301030158996582\n",
      "Predicted pKd: 6.545005798339844 | True pKd: 6.517126560211182\n",
      "Predicted pKd: 5.879640579223633 | True pKd: 4.3098039627075195\n",
      "Predicted pKd: 5.338043212890625 | True pKd: 5.397940158843994\n",
      "Predicted pKd: 7.444870948791504 | True pKd: 9.214670181274414\n",
      "Predicted pKd: 5.549674034118652 | True pKd: 6.034327983856201\n",
      "Predicted pKd: 12.90791130065918 | True pKd: 13.565430641174316\n",
      "Predicted pKd: 8.037057876586914 | True pKd: 9.91009521484375\n",
      "Predicted pKd: 9.352154731750488 | True pKd: 9.341988563537598\n",
      "Predicted pKd: 9.068540573120117 | True pKd: 7.229147911071777\n",
      "Predicted pKd: 4.379781723022461 | True pKd: 4.207608222961426\n",
      "Predicted pKd: 7.257428169250488 | True pKd: 6.634511947631836\n",
      "Predicted pKd: 7.92011833190918 | True pKd: 8.364516258239746\n",
      "Predicted pKd: 7.223979949951172 | True pKd: 7.782516002655029\n",
      "Predicted pKd: 9.717268943786621 | True pKd: 9.935542106628418\n",
      "Predicted pKd: 4.650144577026367 | True pKd: 4.721246242523193\n",
      "Predicted pKd: 10.358193397521973 | True pKd: 10.769551277160645\n",
      "Predicted pKd: 5.6098175048828125 | True pKd: 5.92081880569458\n",
      "Predicted pKd: 9.564072608947754 | True pKd: 14.0\n",
      "Predicted pKd: 5.486762046813965 | True pKd: 4.9430952072143555\n",
      "Predicted pKd: 8.176471710205078 | True pKd: 9.698969841003418\n",
      "Predicted pKd: 5.569672584533691 | True pKd: 5.2865095138549805\n",
      "Predicted pKd: 4.653690814971924 | True pKd: 5.096909999847412\n",
      "Predicted pKd: 9.448662757873535 | True pKd: 11.455931663513184\n",
      "Predicted pKd: 6.578433036804199 | True pKd: 6.906578540802002\n",
      "Predicted pKd: 5.532651901245117 | True pKd: 4.15490198135376\n",
      "Predicted pKd: 8.171409606933594 | True pKd: 8.063486099243164\n",
      "Predicted pKd: 4.679618835449219 | True pKd: 4.698969841003418\n",
      "Predicted pKd: 8.04348087310791 | True pKd: 8.221848487854004\n",
      "Predicted pKd: 10.64602279663086 | True pKd: 11.175873756408691\n",
      "Predicted pKd: 7.66313362121582 | True pKd: 8.590066909790039\n",
      "Predicted pKd: 7.338108062744141 | True pKd: 4.728158473968506\n",
      "Predicted pKd: 13.868240356445312 | True pKd: 14.795880317687988\n",
      "Predicted pKd: 8.363187789916992 | True pKd: 9.327901840209961\n",
      "Predicted pKd: 4.702132225036621 | True pKd: 6.301030158996582\n",
      "Predicted pKd: 5.614500045776367 | True pKd: 4.679853916168213\n",
      "Predicted pKd: 7.479861259460449 | True pKd: 7.688246250152588\n",
      "Predicted pKd: 5.603090286254883 | True pKd: 5.508638381958008\n",
      "Predicted pKd: 4.702583312988281 | True pKd: 3.698970079421997\n",
      "Predicted pKd: 9.407306671142578 | True pKd: 9.29242992401123\n",
      "Predicted pKd: 7.2242021560668945 | True pKd: 6.229147911071777\n",
      "Predicted pKd: 7.760939598083496 | True pKd: 6.217527389526367\n",
      "Predicted pKd: 5.585671424865723 | True pKd: 5.896196365356445\n",
      "Predicted pKd: 11.015213012695312 | True pKd: 10.920818328857422\n",
      "Predicted pKd: 7.435379981994629 | True pKd: 8.058985710144043\n",
      "Predicted pKd: 7.989519119262695 | True pKd: 7.853871822357178\n",
      "Predicted pKd: 7.293796539306641 | True pKd: 7.397940158843994\n",
      "Predicted pKd: 4.716053009033203 | True pKd: 4.229147911071777\n",
      "Predicted pKd: 5.815817832946777 | True pKd: 8.221848487854004\n",
      "Predicted pKd: 7.446210861206055 | True pKd: 9.251811981201172\n",
      "Predicted pKd: 8.581262588500977 | True pKd: 6.93930196762085\n",
      "Predicted pKd: 6.260795593261719 | True pKd: 5.522878646850586\n",
      "Predicted pKd: 7.674883842468262 | True pKd: 6.917214393615723\n",
      "Predicted pKd: 5.593325614929199 | True pKd: 3.853872060775757\n",
      "Predicted pKd: 5.991641998291016 | True pKd: 5.958607196807861\n",
      "Predicted pKd: 5.91159725189209 | True pKd: 8.0\n",
      "Predicted pKd: 8.499390602111816 | True pKd: 6.146301746368408\n",
      "Predicted pKd: 6.933672904968262 | True pKd: 5.79587984085083\n",
      "Predicted pKd: 6.129814147949219 | True pKd: 6.638272285461426\n",
      "Predicted pKd: 4.690670013427734 | True pKd: 5.221848964691162\n",
      "Predicted pKd: 10.23882007598877 | True pKd: 10.279014587402344\n",
      "Predicted pKd: 8.587432861328125 | True pKd: 9.431797981262207\n",
      "Predicted pKd: 6.791335105895996 | True pKd: 5.4921441078186035\n",
      "Predicted pKd: 7.219118118286133 | True pKd: 7.017728805541992\n",
      "Predicted pKd: 4.705968379974365 | True pKd: 4.397940158843994\n",
      "Predicted pKd: 5.74545955657959 | True pKd: 5.408935546875\n",
      "Predicted pKd: 4.564550399780273 | True pKd: 4.431798458099365\n",
      "Predicted pKd: 6.797554969787598 | True pKd: 7.9430952072143555\n",
      "Predicted pKd: 8.584240913391113 | True pKd: 7.462181091308594\n",
      "Predicted pKd: 8.048029899597168 | True pKd: 10.113509178161621\n",
      "Predicted pKd: 5.505283355712891 | True pKd: 5.10568380355835\n",
      "Predicted pKd: 7.542970657348633 | True pKd: 7.0347981452941895\n",
      "Predicted pKd: 5.032619476318359 | True pKd: 4.853871822357178\n",
      "Predicted pKd: 6.517978668212891 | True pKd: 7.508638381958008\n",
      "Predicted pKd: 6.118345260620117 | True pKd: 4.397940158843994\n",
      "Predicted pKd: 7.435262680053711 | True pKd: 7.44733190536499\n",
      "Predicted pKd: 9.306356430053711 | True pKd: 10.025028228759766\n",
      "Predicted pKd: 7.828723907470703 | True pKd: 8.95860767364502\n",
      "Predicted pKd: 5.59004020690918 | True pKd: 6.455932140350342\n",
      "Predicted pKd: 5.786100387573242 | True pKd: 6.0\n",
      "Predicted pKd: 5.131121635437012 | True pKd: 6.821022987365723\n",
      "Predicted pKd: 7.401715278625488 | True pKd: 8.53461742401123\n",
      "Predicted pKd: 7.323210716247559 | True pKd: 7.397940158843994\n",
      "Predicted pKd: 9.146062850952148 | True pKd: 6.580044269561768\n",
      "Predicted pKd: 8.012969970703125 | True pKd: 8.764472007751465\n",
      "Predicted pKd: 8.153021812438965 | True pKd: 8.301030158996582\n",
      "Predicted pKd: 10.079748153686523 | True pKd: 4.853871822357178\n",
      "Predicted pKd: 9.404984474182129 | True pKd: 9.318758964538574\n",
      "Predicted pKd: 7.282171249389648 | True pKd: 4.531652450561523\n",
      "Predicted pKd: 7.298191070556641 | True pKd: 8.221848487854004\n",
      "Predicted pKd: 5.209042072296143 | True pKd: 5.055517196655273\n",
      "Predicted pKd: 9.340707778930664 | True pKd: 8.832682609558105\n",
      "Predicted pKd: 5.488633155822754 | True pKd: 6.28399658203125\n",
      "Predicted pKd: 9.082646369934082 | True pKd: 9.20273208618164\n",
      "Predicted pKd: 5.467358589172363 | True pKd: 6.476253509521484\n",
      "Predicted pKd: 7.3065338134765625 | True pKd: 8.806875228881836\n",
      "Predicted pKd: 6.207734107971191 | True pKd: 5.335358142852783\n",
      "Predicted pKd: 8.588644027709961 | True pKd: 8.175873756408691\n",
      "Predicted pKd: 7.677717208862305 | True pKd: 9.886056900024414\n",
      "Predicted pKd: 8.232697486877441 | True pKd: 6.92081880569458\n",
      "Predicted pKd: 7.863164901733398 | True pKd: 7.031517028808594\n",
      "Predicted pKd: 9.78371810913086 | True pKd: 10.698969841003418\n",
      "Predicted pKd: 5.951364517211914 | True pKd: 5.367542743682861\n",
      "Predicted pKd: 8.786474227905273 | True pKd: 9.49079704284668\n",
      "Predicted pKd: 7.299628257751465 | True pKd: 7.508638381958008\n",
      "Predicted pKd: 4.958413124084473 | True pKd: 3.698970079421997\n",
      "Predicted pKd: 5.0490241050720215 | True pKd: 4.387216091156006\n",
      "Predicted pKd: 6.874275207519531 | True pKd: 7.2306227684021\n",
      "Predicted pKd: 6.138704299926758 | True pKd: 9.114073753356934\n",
      "Predicted pKd: 9.436684608459473 | True pKd: 7.690369606018066\n",
      "Predicted pKd: 9.045393943786621 | True pKd: 9.318758964538574\n",
      "Predicted pKd: 5.559715270996094 | True pKd: 4.853871822357178\n",
      "Predicted pKd: 6.8532304763793945 | True pKd: 6.0\n",
      "Predicted pKd: 5.548059463500977 | True pKd: 6.010105609893799\n",
      "Predicted pKd: 9.726106643676758 | True pKd: 10.19791030883789\n",
      "Predicted pKd: 6.926388740539551 | True pKd: 8.522878646850586\n",
      "Predicted pKd: 6.043848037719727 | True pKd: 5.92081880569458\n",
      "Predicted pKd: 6.960538864135742 | True pKd: 4.705533981323242\n",
      "Predicted pKd: 7.311612129211426 | True pKd: 8.301030158996582\n",
      "Predicted pKd: 8.070775985717773 | True pKd: 8.61260986328125\n",
      "Predicted pKd: 6.041402816772461 | True pKd: 5.0\n",
      "Predicted pKd: 7.314027786254883 | True pKd: 8.376750946044922\n",
      "Predicted pKd: 5.759513854980469 | True pKd: 9.468521118164062\n",
      "Predicted pKd: 9.07376766204834 | True pKd: 8.148130416870117\n",
      "Predicted pKd: 6.767884254455566 | True pKd: 5.982966423034668\n",
      "Predicted pKd: 5.466452598571777 | True pKd: 5.4788618087768555\n",
      "Predicted pKd: 10.33786678314209 | True pKd: 9.301030158996582\n",
      "Predicted pKd: 5.008221626281738 | True pKd: 6.600326061248779\n",
      "Predicted pKd: 4.85816764831543 | True pKd: 4.958607196807861\n",
      "Predicted pKd: 8.042790412902832 | True pKd: 7.0\n",
      "Predicted pKd: 6.469915390014648 | True pKd: 7.408935546875\n",
      "Predicted pKd: 4.681300163269043 | True pKd: 4.585026741027832\n",
      "Predicted pKd: 9.26452922821045 | True pKd: 9.130767822265625\n",
      "Predicted pKd: 7.087553977966309 | True pKd: 4.705533981323242\n",
      "Predicted pKd: 9.505492210388184 | True pKd: 9.838631629943848\n",
      "Predicted pKd: 7.405121803283691 | True pKd: 7.218244552612305\n",
      "Predicted pKd: 9.054893493652344 | True pKd: 7.267606258392334\n",
      "Predicted pKd: 6.6962995529174805 | True pKd: 8.13430404663086\n",
      "Predicted pKd: 9.408300399780273 | True pKd: 8.896196365356445\n",
      "Predicted pKd: 5.46826171875 | True pKd: 5.567030906677246\n",
      "Predicted pKd: 5.512351989746094 | True pKd: 5.295849323272705\n",
      "Predicted pKd: 5.512539863586426 | True pKd: 5.102373123168945\n",
      "Predicted pKd: 8.590087890625 | True pKd: 10.112382888793945\n",
      "Predicted pKd: 6.673968315124512 | True pKd: 7.026872158050537\n",
      "Predicted pKd: 5.802671432495117 | True pKd: 8.154901504516602\n",
      "Predicted pKd: 9.92325210571289 | True pKd: 10.228412628173828\n",
      "Predicted pKd: 6.092341423034668 | True pKd: 6.966576099395752\n",
      "Predicted pKd: 7.353697776794434 | True pKd: 5.384049892425537\n",
      "Predicted pKd: 6.679288864135742 | True pKd: 8.508638381958008\n",
      "Predicted pKd: 4.956279754638672 | True pKd: 5.142667293548584\n",
      "Predicted pKd: 4.539200782775879 | True pKd: 4.12493896484375\n",
      "Predicted pKd: 7.904150009155273 | True pKd: 8.204815864562988\n",
      "Predicted pKd: 4.914772987365723 | True pKd: 4.485452175140381\n",
      "Predicted pKd: 7.38014030456543 | True pKd: 6.714442729949951\n",
      "Predicted pKd: 7.396561622619629 | True pKd: 7.698969841003418\n",
      "Predicted pKd: 7.103407859802246 | True pKd: 8.040958404541016\n",
      "Predicted pKd: 4.126164436340332 | True pKd: 3.8894102573394775\n",
      "Predicted pKd: 5.582195281982422 | True pKd: 2.9586071968078613\n",
      "Predicted pKd: 10.374739646911621 | True pKd: 10.455931663513184\n",
      "Predicted pKd: 9.068572998046875 | True pKd: 9.206908226013184\n",
      "Predicted pKd: 7.270052909851074 | True pKd: 11.568635940551758\n",
      "Predicted pKd: 5.467369079589844 | True pKd: 5.568636417388916\n",
      "Predicted pKd: 8.162371635437012 | True pKd: 7.318758964538574\n",
      "Predicted pKd: 12.041912078857422 | True pKd: 10.361510276794434\n",
      "Predicted pKd: 5.982767105102539 | True pKd: 7.2306227684021\n",
      "Predicted pKd: 5.241936683654785 | True pKd: 5.4685211181640625\n",
      "Predicted pKd: 13.090944290161133 | True pKd: 10.0\n",
      "Predicted pKd: 7.480875015258789 | True pKd: 7.147520065307617\n",
      "Predicted pKd: 7.576672554016113 | True pKd: 4.8181562423706055\n",
      "Predicted pKd: 8.154783248901367 | True pKd: 7.917214393615723\n",
      "Predicted pKd: 8.70333194732666 | True pKd: 7.15490198135376\n",
      "Predicted pKd: 5.470139503479004 | True pKd: 6.229147911071777\n",
      "Predicted pKd: 10.18494987487793 | True pKd: 8.477556228637695\n",
      "Predicted pKd: 9.136297225952148 | True pKd: 8.74472713470459\n",
      "Predicted pKd: 9.367547035217285 | True pKd: 8.254924774169922\n",
      "Predicted pKd: 8.400328636169434 | True pKd: 8.045757293701172\n",
      "Predicted pKd: 9.055108070373535 | True pKd: 9.16749095916748\n",
      "Predicted pKd: 4.633337020874023 | True pKd: 4.886056423187256\n",
      "Predicted pKd: 5.214232921600342 | True pKd: 5.677780628204346\n",
      "Predicted pKd: 5.00571870803833 | True pKd: 4.546681880950928\n",
      "Predicted pKd: 7.404775619506836 | True pKd: 7.9871625900268555\n",
      "Predicted pKd: 11.131834030151367 | True pKd: 11.653647422790527\n",
      "Predicted pKd: 4.71750020980835 | True pKd: 4.886056423187256\n",
      "Predicted pKd: 5.2896575927734375 | True pKd: 5.903090000152588\n",
      "Predicted pKd: 9.608644485473633 | True pKd: 9.279014587402344\n",
      "Predicted pKd: 7.207854270935059 | True pKd: 7.92081880569458\n",
      "Predicted pKd: 6.940742492675781 | True pKd: 7.619788646697998\n",
      "Predicted pKd: 8.711487770080566 | True pKd: 10.74472713470459\n",
      "Predicted pKd: 6.11545467376709 | True pKd: 9.879426002502441\n",
      "Predicted pKd: 6.112392425537109 | True pKd: 6.183095932006836\n",
      "Predicted pKd: 9.422624588012695 | True pKd: 8.531652450561523\n",
      "Predicted pKd: 5.126123428344727 | True pKd: 6.233587265014648\n",
      "Predicted pKd: 7.201032638549805 | True pKd: 7.318758964538574\n",
      "Predicted pKd: 7.57548713684082 | True pKd: 5.337242126464844\n",
      "Predicted pKd: 6.891568183898926 | True pKd: 6.490797519683838\n",
      "Predicted pKd: 6.054821014404297 | True pKd: 7.79587984085083\n",
      "Predicted pKd: 8.346538543701172 | True pKd: 10.698969841003418\n",
      "Predicted pKd: 5.060781002044678 | True pKd: 3.585026741027832\n",
      "Predicted pKd: 7.955073356628418 | True pKd: 7.508638381958008\n",
      "Predicted pKd: 10.429760932922363 | True pKd: 11.041436195373535\n",
      "Predicted pKd: 9.73170280456543 | True pKd: 6.397940158843994\n",
      "Predicted pKd: 7.1585798263549805 | True pKd: 8.221848487854004\n",
      "Predicted pKd: 7.994752883911133 | True pKd: 7.0404815673828125\n",
      "Predicted pKd: 5.209556579589844 | True pKd: 6.267606258392334\n",
      "Predicted pKd: 7.460193634033203 | True pKd: 5.906578540802002\n",
      "Predicted pKd: 7.941179275512695 | True pKd: 10.832682609558105\n",
      "Predicted pKd: 9.097957611083984 | True pKd: 9.055517196655273\n",
      "Predicted pKd: 9.91994571685791 | True pKd: 9.48678207397461\n",
      "Predicted pKd: 6.568685531616211 | True pKd: 5.906693935394287\n",
      "Predicted pKd: 9.977785110473633 | True pKd: 11.146302223205566\n",
      "Predicted pKd: 6.881955146789551 | True pKd: 6.041436195373535\n",
      "Predicted pKd: 4.823054313659668 | True pKd: 5.214670181274414\n",
      "Predicted pKd: 7.472407341003418 | True pKd: 10.522878646850586\n",
      "Predicted pKd: 10.219817161560059 | True pKd: 8.602060317993164\n",
      "Predicted pKd: 8.635193824768066 | True pKd: 10.481486320495605\n",
      "Predicted pKd: 7.418461799621582 | True pKd: 7.6575775146484375\n",
      "Predicted pKd: 9.207277297973633 | True pKd: 9.531652450561523\n",
      "Predicted pKd: 7.277387619018555 | True pKd: 7.004364967346191\n",
      "Predicted pKd: 6.445405006408691 | True pKd: 4.647817611694336\n",
      "Predicted pKd: 9.341545104980469 | True pKd: 9.866460800170898\n",
      "Predicted pKd: 8.583272933959961 | True pKd: 7.275723934173584\n",
      "Predicted pKd: 9.839179039001465 | True pKd: 11.806875228881836\n",
      "Predicted pKd: 6.670612335205078 | True pKd: 6.045757293701172\n",
      "Predicted pKd: 10.353515625 | True pKd: 11.431797981262207\n",
      "Predicted pKd: 9.22523307800293 | True pKd: 10.341988563537598\n",
      "Predicted pKd: 9.06139850616455 | True pKd: 9.585026741027832\n",
      "Predicted pKd: 10.718182563781738 | True pKd: 10.562249183654785\n",
      "Predicted pKd: 10.515670776367188 | True pKd: 7.886056423187256\n",
      "Predicted pKd: 9.512418746948242 | True pKd: 10.892789840698242\n",
      "Predicted pKd: 4.934967041015625 | True pKd: 4.636387825012207\n",
      "Predicted pKd: 10.689348220825195 | True pKd: 11.230622291564941\n",
      "Predicted pKd: 4.687679767608643 | True pKd: 4.397940158843994\n",
      "Predicted pKd: 9.83569049835205 | True pKd: 11.230622291564941\n",
      "Predicted pKd: 9.351935386657715 | True pKd: 9.09691047668457\n",
      "Predicted pKd: 7.288663864135742 | True pKd: 8.522878646850586\n",
      "Predicted pKd: 3.736163854598999 | True pKd: 4.665546417236328\n",
      "Predicted pKd: 6.278553009033203 | True pKd: 8.107349395751953\n",
      "Predicted pKd: 10.209342956542969 | True pKd: 11.0\n",
      "Predicted pKd: 10.293646812438965 | True pKd: 9.954676628112793\n",
      "Predicted pKd: 8.257567405700684 | True pKd: 7.9430952072143555\n",
      "Predicted pKd: 7.719278335571289 | True pKd: 8.493494987487793\n",
      "Predicted pKd: 6.236420631408691 | True pKd: 5.522878646850586\n",
      "Predicted pKd: 7.388882637023926 | True pKd: 7.251811981201172\n",
      "Predicted pKd: 6.260557174682617 | True pKd: 13.230622291564941\n",
      "Predicted pKd: 10.294593811035156 | True pKd: 10.812479019165039\n",
      "Predicted pKd: 7.204181671142578 | True pKd: 4.688246250152588\n",
      "Predicted pKd: 10.341343879699707 | True pKd: 10.341988563537598\n",
      "Predicted pKd: 7.404894828796387 | True pKd: 6.026872158050537\n",
      "Predicted pKd: 7.878949165344238 | True pKd: 8.045757293701172\n",
      "Predicted pKd: 6.115784645080566 | True pKd: 4.612610340118408\n",
      "Predicted pKd: 10.103076934814453 | True pKd: 9.204119682312012\n",
      "Predicted pKd: 5.262593746185303 | True pKd: 8.079355239868164\n",
      "Predicted pKd: 8.36703872680664 | True pKd: 9.306273460388184\n",
      "Predicted pKd: 7.189340591430664 | True pKd: 7.721246242523193\n",
      "Predicted pKd: 9.492526054382324 | True pKd: 8.585026741027832\n",
      "Predicted pKd: 8.405694961547852 | True pKd: 8.698969841003418\n",
      "Predicted pKd: 10.37413501739502 | True pKd: 10.747146606445312\n",
      "Predicted pKd: 10.934561729431152 | True pKd: 10.193819999694824\n",
      "Predicted pKd: 5.290970802307129 | True pKd: 6.698969841003418\n",
      "Predicted pKd: 8.501951217651367 | True pKd: 7.712198257446289\n",
      "Predicted pKd: 8.559895515441895 | True pKd: 8.251811981201172\n",
      "Predicted pKd: 4.67889928817749 | True pKd: 4.481485843658447\n",
      "Predicted pKd: 4.176222801208496 | True pKd: 4.04672384262085\n",
      "Predicted pKd: 6.046974182128906 | True pKd: 5.638272285461426\n",
      "Predicted pKd: 4.8706159591674805 | True pKd: 5.537601947784424\n",
      "Predicted pKd: 4.568013668060303 | True pKd: 5.236571788787842\n",
      "Predicted pKd: 7.261196136474609 | True pKd: 11.522878646850586\n",
      "Predicted pKd: 5.184442520141602 | True pKd: 5.524328708648682\n",
      "Predicted pKd: 7.544797897338867 | True pKd: 6.8181562423706055\n",
      "Predicted pKd: 7.564680099487305 | True pKd: 6.585026741027832\n",
      "Predicted pKd: 10.499274253845215 | True pKd: 6.346787452697754\n",
      "Predicted pKd: 7.231822967529297 | True pKd: 7.886056423187256\n",
      "Predicted pKd: 4.5702314376831055 | True pKd: 6.0809221267700195\n",
      "Predicted pKd: 6.315964698791504 | True pKd: 5.853871822357178\n",
      "Predicted pKd: 9.406415939331055 | True pKd: 9.508638381958008\n",
      "Predicted pKd: 7.41793155670166 | True pKd: 5.518557548522949\n",
      "Predicted pKd: 4.176994800567627 | True pKd: 4.539102077484131\n",
      "Predicted pKd: 10.621781349182129 | True pKd: 5.677780628204346\n",
      "Predicted pKd: 7.124338150024414 | True pKd: 7.221848964691162\n",
      "Predicted pKd: 5.459015846252441 | True pKd: 6.224025726318359\n",
      "Predicted pKd: 9.441994667053223 | True pKd: 9.30980396270752\n",
      "Predicted pKd: 7.056526184082031 | True pKd: 7.412289142608643\n",
      "Predicted pKd: 8.313239097595215 | True pKd: 8.251811981201172\n",
      "Predicted pKd: 10.264334678649902 | True pKd: 10.623422622680664\n",
      "Predicted pKd: 8.280380249023438 | True pKd: 8.366531372070312\n",
      "Predicted pKd: 7.381988525390625 | True pKd: 6.749579906463623\n",
      "Predicted pKd: 4.494160175323486 | True pKd: 4.180456161499023\n",
      "Predicted pKd: 5.480716705322266 | True pKd: 3.9718356132507324\n",
      "Predicted pKd: 7.2732744216918945 | True pKd: 7.701147079467773\n",
      "Predicted pKd: 7.389247894287109 | True pKd: 6.33068323135376\n",
      "Predicted pKd: 9.0393705368042 | True pKd: 8.356547355651855\n",
      "Predicted pKd: 9.067279815673828 | True pKd: 9.086186408996582\n",
      "Predicted pKd: 4.103185653686523 | True pKd: 4.698969841003418\n",
      "Predicted pKd: 8.681558609008789 | True pKd: 8.402304649353027\n",
      "Predicted pKd: 5.468086242675781 | True pKd: 5.8181562423706055\n",
      "Predicted pKd: 5.784316062927246 | True pKd: 5.698969841003418\n",
      "Predicted pKd: 4.135794639587402 | True pKd: 3.698970079421997\n",
      "Predicted pKd: 12.776360511779785 | True pKd: 13.739928245544434\n",
      "Predicted pKd: 9.079622268676758 | True pKd: 7.361510753631592\n",
      "Predicted pKd: 10.339937210083008 | True pKd: 10.61260986328125\n",
      "Predicted pKd: 8.494296073913574 | True pKd: 5.301030158996582\n",
      "Predicted pKd: 9.74960708618164 | True pKd: 8.279014587402344\n",
      "Predicted pKd: 5.17229700088501 | True pKd: 3.795880079269409\n",
      "Predicted pKd: 5.554081916809082 | True pKd: 5.698969841003418\n",
      "Predicted pKd: 8.625092506408691 | True pKd: 10.356547355651855\n",
      "Predicted pKd: 6.904273986816406 | True pKd: 4.935542106628418\n",
      "Predicted pKd: 7.559928894042969 | True pKd: 6.619788646697998\n",
      "Predicted pKd: 5.855769157409668 | True pKd: 6.355561256408691\n",
      "Predicted pKd: 5.607068061828613 | True pKd: 6.1674909591674805\n",
      "Predicted pKd: 5.8488874435424805 | True pKd: 6.0\n",
      "Predicted pKd: 8.518807411193848 | True pKd: 9.522878646850586\n",
      "Predicted pKd: 8.093576431274414 | True pKd: 7.518557548522949\n",
      "Predicted pKd: 5.990130424499512 | True pKd: 5.638272285461426\n",
      "Predicted pKd: 7.626100540161133 | True pKd: 8.522878646850586\n",
      "Predicted pKd: 8.451271057128906 | True pKd: 4.806875228881836\n",
      "Predicted pKd: 7.432155609130859 | True pKd: 7.863279342651367\n",
      "Predicted pKd: 7.447687149047852 | True pKd: 8.045757293701172\n",
      "Predicted pKd: 12.818232536315918 | True pKd: 11.899629592895508\n",
      "Predicted pKd: 7.749320983886719 | True pKd: 7.661543369293213\n",
      "Predicted pKd: 8.950207710266113 | True pKd: 7.97469425201416\n",
      "Predicted pKd: 4.9436163902282715 | True pKd: 6.0\n",
      "Predicted pKd: 9.069310188293457 | True pKd: 8.899629592895508\n",
      "Predicted pKd: 6.062040328979492 | True pKd: 5.744727611541748\n",
      "Predicted pKd: 4.849549293518066 | True pKd: 5.050610065460205\n",
      "Predicted pKd: 9.407047271728516 | True pKd: 9.356547355651855\n",
      "Predicted pKd: 4.45051908493042 | True pKd: 3.2790143489837646\n",
      "Predicted pKd: 6.804962158203125 | True pKd: 6.0\n",
      "Predicted pKd: 9.050683975219727 | True pKd: 8.378823280334473\n",
      "Predicted pKd: 6.92689323425293 | True pKd: 6.551293849945068\n",
      "Predicted pKd: 5.610518455505371 | True pKd: 4.787812232971191\n",
      "Predicted pKd: 6.034393310546875 | True pKd: 5.638272285461426\n",
      "Predicted pKd: 6.260735511779785 | True pKd: 5.278189182281494\n",
      "Predicted pKd: 6.702259063720703 | True pKd: 9.795880317687988\n",
      "Predicted pKd: 6.203505516052246 | True pKd: 7.718966484069824\n",
      "Predicted pKd: 9.182859420776367 | True pKd: 10.06550121307373\n",
      "Predicted pKd: 11.693421363830566 | True pKd: 12.346787452697754\n",
      "Predicted pKd: 8.870798110961914 | True pKd: 9.346787452697754\n",
      "Predicted pKd: 8.287808418273926 | True pKd: 10.040958404541016\n",
      "Predicted pKd: 4.985776901245117 | True pKd: 5.573488712310791\n",
      "Predicted pKd: 9.824562072753906 | True pKd: 11.301030158996582\n",
      "Predicted pKd: 9.47194766998291 | True pKd: 9.414539337158203\n",
      "Predicted pKd: 5.514077186584473 | True pKd: 4.60554838180542\n",
      "Predicted pKd: 8.666906356811523 | True pKd: 9.73518180847168\n",
      "Predicted pKd: 7.39586067199707 | True pKd: 5.571865081787109\n",
      "Predicted pKd: 8.183015823364258 | True pKd: 8.853872299194336\n",
      "Predicted pKd: 7.395880699157715 | True pKd: 5.8326826095581055\n",
      "Predicted pKd: 9.332212448120117 | True pKd: 9.537602424621582\n",
      "Predicted pKd: 4.719944000244141 | True pKd: 4.92081880569458\n",
      "Predicted pKd: 4.649055480957031 | True pKd: 3.586700201034546\n",
      "Predicted pKd: 4.180914402008057 | True pKd: 3.698970079421997\n",
      "Predicted pKd: 6.340802192687988 | True pKd: 9.0\n",
      "Predicted pKd: 4.957697868347168 | True pKd: 4.92081880569458\n",
      "Predicted pKd: 11.709636688232422 | True pKd: 11.935542106628418\n",
      "Predicted pKd: 7.902148246765137 | True pKd: 7.982966423034668\n",
      "Predicted pKd: 7.2151689529418945 | True pKd: 8.060481071472168\n",
      "Predicted pKd: 5.724635124206543 | True pKd: 7.236571788787842\n",
      "Predicted pKd: 8.487631797790527 | True pKd: 6.946921348571777\n",
      "Predicted pKd: 7.444632530212402 | True pKd: 10.221848487854004\n",
      "Predicted pKd: 8.047255516052246 | True pKd: 6.663540363311768\n",
      "Predicted pKd: 8.246597290039062 | True pKd: 10.303643226623535\n",
      "Predicted pKd: 6.405331611633301 | True pKd: 8.28399658203125\n",
      "Predicted pKd: 4.494340896606445 | True pKd: 3.698970079421997\n",
      "Predicted pKd: 8.005570411682129 | True pKd: 6.17587423324585\n",
      "Predicted pKd: 7.55059814453125 | True pKd: 9.09691047668457\n",
      "Predicted pKd: 4.431097984313965 | True pKd: 3.823908805847168\n",
      "Predicted pKd: 8.330327987670898 | True pKd: 7.638272285461426\n",
      "Predicted pKd: 4.683714866638184 | True pKd: 5.221848964691162\n",
      "Predicted pKd: 4.0734052658081055 | True pKd: 4.882728576660156\n",
      "Predicted pKd: 7.648629188537598 | True pKd: 7.777283668518066\n",
      "Predicted pKd: 7.259890556335449 | True pKd: 6.01863431930542\n",
      "Predicted pKd: 5.596479415893555 | True pKd: 7.0809221267700195\n",
      "Predicted pKd: 7.358057022094727 | True pKd: 7.698969841003418\n",
      "Predicted pKd: 9.299422264099121 | True pKd: 7.229147911071777\n",
      "Predicted pKd: 6.151071548461914 | True pKd: 3.8326826095581055\n",
      "Predicted pKd: 10.218964576721191 | True pKd: 10.414539337158203\n",
      "Predicted pKd: 8.552071571350098 | True pKd: 9.739928245544434\n",
      "Predicted pKd: 8.863104820251465 | True pKd: 7.114073753356934\n",
      "Predicted pKd: 7.317079544067383 | True pKd: 8.301030158996582\n",
      "Predicted pKd: 5.91899299621582 | True pKd: 6.301030158996582\n",
      "Predicted pKd: 5.559060096740723 | True pKd: 6.1674909591674805\n",
      "Predicted pKd: 6.713131904602051 | True pKd: 5.221848964691162\n",
      "Predicted pKd: 10.338805198669434 | True pKd: 8.431797981262207\n",
      "Predicted pKd: 7.720895767211914 | True pKd: 7.28399658203125\n",
      "Predicted pKd: 10.45247745513916 | True pKd: 10.0\n",
      "Predicted pKd: 7.070652008056641 | True pKd: 5.236571788787842\n",
      "Predicted pKd: 6.566400527954102 | True pKd: 6.0491485595703125\n",
      "Predicted pKd: 7.794253349304199 | True pKd: 8.343901634216309\n",
      "Predicted pKd: 7.598335266113281 | True pKd: 6.812479496002197\n",
      "Predicted pKd: 6.266463279724121 | True pKd: 6.221848964691162\n",
      "Predicted pKd: 6.337998390197754 | True pKd: 6.853871822357178\n",
      "Predicted pKd: 4.707049369812012 | True pKd: 4.471083164215088\n",
      "Predicted pKd: 7.170808792114258 | True pKd: 6.301030158996582\n",
      "Predicted pKd: 5.880059242248535 | True pKd: 6.6038007736206055\n",
      "Predicted pKd: 4.609164714813232 | True pKd: 6.931814193725586\n",
      "Predicted pKd: 11.684980392456055 | True pKd: 10.314258575439453\n",
      "Predicted pKd: 9.825882911682129 | True pKd: 10.602060317993164\n",
      "Predicted pKd: 6.250543594360352 | True pKd: 6.457174777984619\n",
      "Predicted pKd: 9.926026344299316 | True pKd: 10.195860862731934\n",
      "Predicted pKd: 6.844705581665039 | True pKd: 6.935542106628418\n",
      "Predicted pKd: 4.560122489929199 | True pKd: 4.86012077331543\n",
      "Predicted pKd: 7.606989860534668 | True pKd: 7.4685211181640625\n",
      "Predicted pKd: 7.399689674377441 | True pKd: 6.0\n",
      "Predicted pKd: 10.0759859085083 | True pKd: 9.070070266723633\n",
      "Predicted pKd: 5.070519924163818 | True pKd: 5.886056423187256\n",
      "Predicted pKd: 4.99186897277832 | True pKd: 5.867000102996826\n",
      "Predicted pKd: 5.552221298217773 | True pKd: 5.850780963897705\n",
      "Predicted pKd: 7.75568962097168 | True pKd: 7.3665313720703125\n",
      "Predicted pKd: 5.859389305114746 | True pKd: 8.017728805541992\n",
      "Predicted pKd: 10.039749145507812 | True pKd: 10.66353988647461\n",
      "Predicted pKd: 8.852680206298828 | True pKd: 8.181774139404297\n",
      "Predicted pKd: 5.652983665466309 | True pKd: 8.013228416442871\n",
      "Predicted pKd: 8.16012191772461 | True pKd: 8.655608177185059\n",
      "Predicted pKd: 12.083443641662598 | True pKd: 11.667561531066895\n",
      "Predicted pKd: 7.484326362609863 | True pKd: 8.57839584350586\n",
      "Predicted pKd: 7.688443183898926 | True pKd: 4.3565473556518555\n",
      "Predicted pKd: 7.63334846496582 | True pKd: 10.301030158996582\n",
      "Predicted pKd: 7.589890480041504 | True pKd: 6.903090000152588\n",
      "Predicted pKd: 6.234972953796387 | True pKd: 7.823908805847168\n",
      "Predicted pKd: 10.142536163330078 | True pKd: 9.555954933166504\n",
      "Predicted pKd: 5.978499412536621 | True pKd: 5.580044269561768\n",
      "Predicted pKd: 9.306915283203125 | True pKd: 9.815308570861816\n",
      "Predicted pKd: 10.083213806152344 | True pKd: 8.522878646850586\n",
      "Predicted pKd: 4.91898250579834 | True pKd: 6.233587265014648\n",
      "Predicted pKd: 6.438939094543457 | True pKd: 10.301030158996582\n",
      "Predicted pKd: 6.913934707641602 | True pKd: 7.346787452697754\n",
      "Predicted pKd: 6.973355293273926 | True pKd: 9.522878646850586\n",
      "Predicted pKd: 6.633657455444336 | True pKd: 8.638272285461426\n",
      "Predicted pKd: 4.680075645446777 | True pKd: 4.17587423324585\n",
      "Predicted pKd: 6.22871208190918 | True pKd: 6.443697452545166\n",
      "Predicted pKd: 5.44605827331543 | True pKd: 4.829738140106201\n",
      "Predicted pKd: 9.102680206298828 | True pKd: 8.494850158691406\n",
      "Predicted pKd: 6.214034080505371 | True pKd: 11.602060317993164\n",
      "Predicted pKd: 7.18636417388916 | True pKd: 6.886056423187256\n",
      "Predicted pKd: 9.476930618286133 | True pKd: 7.619788646697998\n",
      "Predicted pKd: 9.660348892211914 | True pKd: 8.175873756408691\n",
      "Predicted pKd: 7.922239303588867 | True pKd: 6.221848964691162\n",
      "Predicted pKd: 10.082716941833496 | True pKd: 10.91009521484375\n",
      "Predicted pKd: 6.061704635620117 | True pKd: 4.221848964691162\n",
      "Predicted pKd: 9.412178039550781 | True pKd: 8.54668140411377\n",
      "Predicted pKd: 7.365612983703613 | True pKd: 6.539102077484131\n",
      "Predicted pKd: 4.283352851867676 | True pKd: 5.552842140197754\n",
      "Predicted pKd: 5.984309196472168 | True pKd: 5.408935546875\n",
      "Predicted pKd: 7.67396354675293 | True pKd: 6.548213481903076\n",
      "Predicted pKd: 6.716401100158691 | True pKd: 6.171275615692139\n",
      "Predicted pKd: 7.234942436218262 | True pKd: 7.698969841003418\n",
      "Predicted pKd: 9.404333114624023 | True pKd: 9.275724411010742\n",
      "Predicted pKd: 7.73621940612793 | True pKd: 8.522878646850586\n",
      "Predicted pKd: 12.3499116897583 | True pKd: 12.49079704284668\n",
      "Predicted pKd: 7.538935661315918 | True pKd: 6.508638381958008\n",
      "Predicted pKd: 9.40423583984375 | True pKd: 9.29242992401123\n",
      "Predicted pKd: 6.844120025634766 | True pKd: 6.853871822357178\n",
      "Predicted pKd: 12.795198440551758 | True pKd: 10.244887351989746\n",
      "Predicted pKd: 9.766522407531738 | True pKd: 11.09691047668457\n",
      "Predicted pKd: 13.864239692687988 | True pKd: 15.214670181274414\n",
      "Predicted pKd: 4.951723098754883 | True pKd: 6.602059841156006\n",
      "Predicted pKd: 7.7032575607299805 | True pKd: 6.917214393615723\n",
      "Predicted pKd: 9.742003440856934 | True pKd: 9.0\n",
      "Predicted pKd: 9.436322212219238 | True pKd: 7.92081880569458\n",
      "Predicted pKd: 8.843547821044922 | True pKd: 7.2306227684021\n",
      "Predicted pKd: 4.469696044921875 | True pKd: 5.193819999694824\n",
      "Predicted pKd: 8.45645523071289 | True pKd: 7.602059841156006\n",
      "Predicted pKd: 7.185302734375 | True pKd: 6.903090000152588\n",
      "Predicted pKd: 6.87007999420166 | True pKd: 7.187086582183838\n",
      "Predicted pKd: 7.703641891479492 | True pKd: 6.847711563110352\n",
      "Predicted pKd: 8.534849166870117 | True pKd: 8.294992446899414\n",
      "Predicted pKd: 8.644460678100586 | True pKd: 7.301030158996582\n",
      "Predicted pKd: 7.568216323852539 | True pKd: 7.031517028808594\n",
      "Predicted pKd: 9.402199745178223 | True pKd: 9.187087059020996\n",
      "Predicted pKd: 8.598675727844238 | True pKd: 9.709965705871582\n",
      "Predicted pKd: 9.403030395507812 | True pKd: 9.408935546875\n",
      "Predicted pKd: 4.353714942932129 | True pKd: 3.9586071968078613\n",
      "Predicted pKd: 5.76580810546875 | True pKd: 6.542118072509766\n",
      "Predicted pKd: 7.290022850036621 | True pKd: 5.910094738006592\n",
      "Predicted pKd: 8.55034351348877 | True pKd: 8.494850158691406\n",
      "Predicted pKd: 7.619244575500488 | True pKd: 7.79587984085083\n",
      "Predicted pKd: 7.509153366088867 | True pKd: 5.744727611541748\n",
      "Predicted pKd: 10.150038719177246 | True pKd: 12.079355239868164\n",
      "Predicted pKd: 9.157464027404785 | True pKd: 8.769551277160645\n",
      "Predicted pKd: 8.206534385681152 | True pKd: 8.031517028808594\n",
      "Predicted pKd: 4.1783037185668945 | True pKd: 6.721246242523193\n",
      "Predicted pKd: 6.954230308532715 | True pKd: 6.494850158691406\n",
      "Predicted pKd: 7.705638885498047 | True pKd: 6.917214393615723\n",
      "Predicted pKd: 9.115513801574707 | True pKd: 9.721246719360352\n",
      "Predicted pKd: 9.238677978515625 | True pKd: 8.026871681213379\n",
      "Predicted pKd: 9.751327514648438 | True pKd: 9.920818328857422\n",
      "Predicted pKd: 7.013587951660156 | True pKd: 8.133712768554688\n",
      "Predicted pKd: 5.1915693283081055 | True pKd: 4.565431118011475\n",
      "Predicted pKd: 10.503950119018555 | True pKd: 9.568635940551758\n",
      "Predicted pKd: 9.030862808227539 | True pKd: 7.879426002502441\n",
      "Predicted pKd: 7.19558048248291 | True pKd: 8.853872299194336\n",
      "Predicted pKd: 8.703387260437012 | True pKd: 8.876148223876953\n",
      "Predicted pKd: 9.039863586425781 | True pKd: 10.414539337158203\n",
      "Predicted pKd: 9.929579734802246 | True pKd: 10.193819999694824\n",
      "Predicted pKd: 9.831060409545898 | True pKd: 10.361510276794434\n",
      "Predicted pKd: 10.516440391540527 | True pKd: 10.798603057861328\n",
      "Predicted pKd: 7.005187034606934 | True pKd: 5.12493896484375\n",
      "Predicted pKd: 3.6783788204193115 | True pKd: 6.619788646697998\n",
      "Predicted pKd: 5.07427978515625 | True pKd: 5.221848964691162\n",
      "Predicted pKd: 4.969188213348389 | True pKd: 4.397940158843994\n",
      "Predicted pKd: 5.673270225524902 | True pKd: 5.460923671722412\n",
      "Predicted pKd: 6.913784980773926 | True pKd: 8.154901504516602\n",
      "Predicted pKd: 9.796908378601074 | True pKd: 8.793173789978027\n",
      "Predicted pKd: 7.208590507507324 | True pKd: 3.92081880569458\n",
      "Predicted pKd: 8.82219409942627 | True pKd: 7.823908805847168\n",
      "Predicted pKd: 10.396783828735352 | True pKd: 10.623422622680664\n",
      "Predicted pKd: 5.967484474182129 | True pKd: 5.638272285461426\n",
      "Predicted pKd: 7.362224578857422 | True pKd: 4.995678424835205\n",
      "Predicted pKd: 7.192723274230957 | True pKd: 9.657577514648438\n",
      "Predicted pKd: 8.527589797973633 | True pKd: 6.301030158996582\n",
      "Predicted pKd: 8.126776695251465 | True pKd: 7.145693778991699\n",
      "Predicted pKd: 6.106481552124023 | True pKd: 5.826813697814941\n",
      "Predicted pKd: 7.999442100524902 | True pKd: 7.146301746368408\n",
      "Predicted pKd: 6.337592124938965 | True pKd: 5.346787452697754\n",
      "Predicted pKd: 5.565944671630859 | True pKd: 5.142667293548584\n",
      "Predicted pKd: 9.402495384216309 | True pKd: 9.040958404541016\n",
      "Predicted pKd: 5.475058555603027 | True pKd: 8.031984329223633\n",
      "Predicted pKd: 4.674530029296875 | True pKd: 3.397939920425415\n",
      "Predicted pKd: 9.980607032775879 | True pKd: 6.92081880569458\n",
      "Predicted pKd: 9.067423820495605 | True pKd: 8.28988265991211\n",
      "Predicted pKd: 9.620749473571777 | True pKd: 12.78515625\n",
      "Predicted pKd: 5.473721504211426 | True pKd: 9.0\n",
      "Predicted pKd: 7.7076520919799805 | True pKd: 7.732828140258789\n",
      "Predicted pKd: 6.776114463806152 | True pKd: 8.045757293701172\n",
      "Predicted pKd: 5.132253646850586 | True pKd: 4.180456161499023\n",
      "Predicted pKd: 4.677491188049316 | True pKd: 5.3098039627075195\n",
      "Predicted pKd: 5.8053131103515625 | True pKd: 5.602059841156006\n",
      "Predicted pKd: 7.736842155456543 | True pKd: 8.143875122070312\n",
      "Predicted pKd: 9.074037551879883 | True pKd: 9.148741722106934\n",
      "Predicted pKd: 5.534603118896484 | True pKd: 5.397940158843994\n",
      "Predicted pKd: 7.705574989318848 | True pKd: 6.070580959320068\n",
      "Predicted pKd: 7.784806251525879 | True pKd: 10.0\n",
      "Predicted pKd: 6.007959365844727 | True pKd: 10.321481704711914\n",
      "Predicted pKd: 7.494599342346191 | True pKd: 7.281498432159424\n",
      "Predicted pKd: 8.170619010925293 | True pKd: 11.721246719360352\n",
      "Predicted pKd: 9.403719902038574 | True pKd: 9.050609588623047\n",
      "Predicted pKd: 7.720393180847168 | True pKd: 8.95078182220459\n",
      "Predicted pKd: 7.70277214050293 | True pKd: 8.12378215789795\n",
      "Predicted pKd: 5.931182861328125 | True pKd: 5.28066873550415\n",
      "Predicted pKd: 4.546329975128174 | True pKd: 4.575118541717529\n",
      "Predicted pKd: 6.341488838195801 | True pKd: 6.301030158996582\n",
      "Predicted pKd: 8.496832847595215 | True pKd: 8.555954933166504\n",
      "Predicted pKd: 6.334101676940918 | True pKd: 9.221848487854004\n",
      "Predicted pKd: 6.50901985168457 | True pKd: 5.744727611541748\n",
      "Predicted pKd: 9.403985023498535 | True pKd: 8.669586181640625\n",
      "Predicted pKd: 6.289257049560547 | True pKd: 7.853871822357178\n",
      "Predicted pKd: 8.576995849609375 | True pKd: 8.017728805541992\n",
      "Predicted pKd: 10.830953598022461 | True pKd: 8.698969841003418\n",
      "Predicted pKd: 5.60501766204834 | True pKd: 5.408935546875\n",
      "Predicted pKd: 8.758712768554688 | True pKd: 7.38827657699585\n",
      "Predicted pKd: 7.2329912185668945 | True pKd: 6.430625915527344\n",
      "Predicted pKd: 8.75390338897705 | True pKd: 7.004364967346191\n",
      "Predicted pKd: 6.611540794372559 | True pKd: 6.251811981201172\n",
      "Predicted pKd: 5.607783317565918 | True pKd: 4.703334808349609\n",
      "Predicted pKd: 9.16292953491211 | True pKd: 6.522878646850586\n",
      "Predicted pKd: 2.9189486503601074 | True pKd: 3.301029920578003\n",
      "Predicted pKd: 4.382275581359863 | True pKd: 4.958607196807861\n",
      "Predicted pKd: 4.913721084594727 | True pKd: 4.3098039627075195\n",
      "Predicted pKd: 4.362601280212402 | True pKd: 5.124360084533691\n",
      "Predicted pKd: 5.830306053161621 | True pKd: 6.494850158691406\n",
      "Predicted pKd: 6.9113359451293945 | True pKd: 6.958607196807861\n",
      "Predicted pKd: 6.495348930358887 | True pKd: 6.698969841003418\n",
      "Predicted pKd: 5.001987934112549 | True pKd: 4.823908805847168\n",
      "Predicted pKd: 5.640131950378418 | True pKd: 6.301030158996582\n",
      "Predicted pKd: 8.158915519714355 | True pKd: 7.882728576660156\n",
      "Predicted pKd: 4.215391159057617 | True pKd: 3.725842237472534\n",
      "Predicted pKd: 5.881984710693359 | True pKd: 5.638272285461426\n",
      "Predicted pKd: 7.650659561157227 | True pKd: 8.628931999206543\n",
      "Predicted pKd: 9.235366821289062 | True pKd: 7.677780628204346\n",
      "Predicted pKd: 5.654414176940918 | True pKd: 8.397939682006836\n",
      "Predicted pKd: 6.808568000793457 | True pKd: 7.15490198135376\n",
      "Predicted pKd: 9.745159149169922 | True pKd: 8.379863739013672\n",
      "Predicted pKd: 7.3092145919799805 | True pKd: 8.397939682006836\n",
      "Predicted pKd: 12.352259635925293 | True pKd: 7.882728576660156\n",
      "Predicted pKd: 8.715279579162598 | True pKd: 5.638272285461426\n",
      "Predicted pKd: 7.674142837524414 | True pKd: 8.184422492980957\n",
      "Predicted pKd: 9.069588661193848 | True pKd: 9.05453109741211\n",
      "Predicted pKd: 8.28314208984375 | True pKd: 7.497572898864746\n",
      "Predicted pKd: 5.684905052185059 | True pKd: 3.79048490524292\n",
      "Predicted pKd: 10.49748420715332 | True pKd: 7.4202165603637695\n",
      "Predicted pKd: 4.84127140045166 | True pKd: 3.9586071968078613\n",
      "Predicted pKd: 4.930567741394043 | True pKd: 6.236571788787842\n",
      "Predicted pKd: 9.534387588500977 | True pKd: 9.790485382080078\n",
      "Predicted pKd: 7.241851806640625 | True pKd: 7.247951507568359\n",
      "Predicted pKd: 7.342835426330566 | True pKd: 7.79587984085083\n",
      "Predicted pKd: 6.914655685424805 | True pKd: 8.638272285461426\n",
      "Predicted pKd: 7.949674606323242 | True pKd: 7.628931999206543\n",
      "Predicted pKd: 6.082947731018066 | True pKd: 5.838632106781006\n",
      "Predicted pKd: 6.010652542114258 | True pKd: 7.431798458099365\n",
      "Predicted pKd: 6.640885353088379 | True pKd: 6.494850158691406\n",
      "Predicted pKd: 7.408892631530762 | True pKd: 5.886056423187256\n",
      "Predicted pKd: 12.040410995483398 | True pKd: 10.552842140197754\n",
      "Predicted pKd: 8.409859657287598 | True pKd: 9.301030158996582\n",
      "Predicted pKd: 10.08156967163086 | True pKd: 6.0\n",
      "Predicted pKd: 4.85371208190918 | True pKd: 3.92081880569458\n",
      "Predicted pKd: 7.703664779663086 | True pKd: 8.335357666015625\n",
      "Predicted pKd: 8.789159774780273 | True pKd: 11.0\n",
      "Predicted pKd: 10.320005416870117 | True pKd: 9.251811981201172\n",
      "Predicted pKd: 7.694543838500977 | True pKd: 8.039053916931152\n",
      "Predicted pKd: 5.490860939025879 | True pKd: 4.251811981201172\n",
      "Predicted pKd: 8.581591606140137 | True pKd: 9.28399658203125\n",
      "Predicted pKd: 8.165190696716309 | True pKd: 8.549751281738281\n",
      "Predicted pKd: 8.200698852539062 | True pKd: 8.228412628173828\n",
      "Predicted pKd: 7.70205020904541 | True pKd: 6.7695512771606445\n",
      "Predicted pKd: 9.31470775604248 | True pKd: 6.853871822357178\n",
      "Predicted pKd: 8.253108978271484 | True pKd: 7.568636417388916\n",
      "Predicted pKd: 8.1759033203125 | True pKd: 6.651695251464844\n",
      "Predicted pKd: 8.17552661895752 | True pKd: 8.078313827514648\n",
      "Predicted pKd: 7.293225288391113 | True pKd: 8.585026741027832\n",
      "Predicted pKd: 4.578047752380371 | True pKd: 5.115204811096191\n",
      "Predicted pKd: 7.772029876708984 | True pKd: 6.739928722381592\n",
      "Predicted pKd: 7.349431037902832 | True pKd: 6.79048490524292\n",
      "Predicted pKd: 6.715010643005371 | True pKd: 7.698969841003418\n",
      "Predicted pKd: 7.300348281860352 | True pKd: 8.397939682006836\n",
      "Predicted pKd: 6.996305465698242 | True pKd: 8.193819999694824\n",
      "Predicted pKd: 5.572220802307129 | True pKd: 4.489455223083496\n",
      "Predicted pKd: 7.785416603088379 | True pKd: 2.823908805847168\n",
      "Predicted pKd: 9.388792991638184 | True pKd: 5.425968647003174\n",
      "Predicted pKd: 6.676677703857422 | True pKd: 8.351639747619629\n",
      "Predicted pKd: 4.95488977432251 | True pKd: 5.0087738037109375\n",
      "Predicted pKd: 8.164411544799805 | True pKd: 8.32697868347168\n",
      "Predicted pKd: 7.420710563659668 | True pKd: 6.202040195465088\n",
      "Predicted pKd: 6.316141128540039 | True pKd: 9.221848487854004\n",
      "Predicted pKd: 5.541996955871582 | True pKd: 2.712198257446289\n",
      "Predicted pKd: 4.90989351272583 | True pKd: 4.60554838180542\n",
      "Predicted pKd: 6.831295967102051 | True pKd: 6.725841999053955\n",
      "Predicted pKd: 8.166394233703613 | True pKd: 8.261219024658203\n",
      "Predicted pKd: 8.202591896057129 | True pKd: 6.086185932159424\n",
      "Predicted pKd: 9.651570320129395 | True pKd: 8.279014587402344\n",
      "Predicted pKd: 9.388876914978027 | True pKd: 10.991399765014648\n",
      "Predicted pKd: 10.080976486206055 | True pKd: 8.838631629943848\n",
      "Predicted pKd: 8.377918243408203 | True pKd: 10.42021656036377\n",
      "Predicted pKd: 13.464812278747559 | True pKd: 11.920818328857422\n",
      "Predicted pKd: 8.3858060836792 | True pKd: 9.522878646850586\n",
      "Predicted pKd: 8.593947410583496 | True pKd: 7.490797519683838\n",
      "Predicted pKd: 8.536083221435547 | True pKd: 9.917214393615723\n",
      "Predicted pKd: 9.96023178100586 | True pKd: 10.481486320495605\n",
      "Predicted pKd: 8.815098762512207 | True pKd: 11.698969841003418\n",
      "Predicted pKd: 5.772971153259277 | True pKd: 6.267606258392334\n",
      "Predicted pKd: 8.160005569458008 | True pKd: 8.151810646057129\n",
      "Predicted pKd: 9.413926124572754 | True pKd: 6.2306227684021\n",
      "Predicted pKd: 7.3242645263671875 | True pKd: 7.853871822357178\n",
      "Predicted pKd: 6.7694597244262695 | True pKd: 8.537602424621582\n",
      "Predicted pKd: 4.780453681945801 | True pKd: 4.886056423187256\n",
      "Predicted pKd: 9.194106101989746 | True pKd: 9.146302223205566\n",
      "Predicted pKd: 6.079455375671387 | True pKd: 5.0\n",
      "Predicted pKd: 5.823833465576172 | True pKd: 4.522878646850586\n",
      "Predicted pKd: 5.350590705871582 | True pKd: 6.220403671264648\n",
      "Predicted pKd: 10.366972923278809 | True pKd: 10.455931663513184\n",
      "Predicted pKd: 9.341142654418945 | True pKd: 9.036211967468262\n",
      "Predicted pKd: 10.090843200683594 | True pKd: 10.692503929138184\n",
      "Predicted pKd: 8.608088493347168 | True pKd: 8.397939682006836\n",
      "Predicted pKd: 12.630475997924805 | True pKd: 12.879426002502441\n",
      "Predicted pKd: 9.43839168548584 | True pKd: 9.279014587402344\n",
      "Predicted pKd: 7.311160087585449 | True pKd: 8.12493896484375\n",
      "Predicted pKd: 8.410035133361816 | True pKd: 8.301030158996582\n",
      "Predicted pKd: 9.458698272705078 | True pKd: 9.136676788330078\n",
      "Predicted pKd: 4.872380256652832 | True pKd: 4.522878646850586\n",
      "Predicted pKd: 9.541563034057617 | True pKd: 9.339134216308594\n",
      "Predicted pKd: 9.211990356445312 | True pKd: 7.732828140258789\n",
      "Predicted pKd: 6.700323104858398 | True pKd: 4.917214393615723\n",
      "Predicted pKd: 5.156760215759277 | True pKd: 4.677780628204346\n",
      "Predicted pKd: 7.637941360473633 | True pKd: 7.804100513458252\n",
      "Predicted pKd: 4.555384635925293 | True pKd: 3.602060079574585\n",
      "Predicted pKd: 8.714874267578125 | True pKd: 8.97469425201416\n",
      "Predicted pKd: 9.090312004089355 | True pKd: 7.962573528289795\n",
      "Predicted pKd: 5.121362209320068 | True pKd: 5.79587984085083\n",
      "Predicted pKd: 8.849298477172852 | True pKd: 7.0883097648620605\n",
      "Predicted pKd: 6.731325149536133 | True pKd: 5.886056423187256\n",
      "Predicted pKd: 4.499021053314209 | True pKd: 4.342944145202637\n",
      "Predicted pKd: 9.835766792297363 | True pKd: 10.78515625\n",
      "Predicted pKd: 6.24027156829834 | True pKd: 6.173925399780273\n",
      "Predicted pKd: 6.80192756652832 | True pKd: 6.522878646850586\n",
      "Predicted pKd: 9.2073392868042 | True pKd: 7.2306227684021\n",
      "Predicted pKd: 5.564353942871094 | True pKd: 5.050610065460205\n",
      "Predicted pKd: 4.290188789367676 | True pKd: 3.7235381603240967\n",
      "Predicted pKd: 5.461909294128418 | True pKd: 4.777283668518066\n",
      "Predicted pKd: 7.628011703491211 | True pKd: 8.079355239868164\n",
      "Predicted pKd: 5.0047478675842285 | True pKd: 4.0\n",
      "Predicted pKd: 7.904633522033691 | True pKd: 7.6575775146484375\n",
      "Predicted pKd: 5.765982627868652 | True pKd: 7.698969841003418\n",
      "Predicted pKd: 6.9087419509887695 | True pKd: 7.698969841003418\n",
      "Predicted pKd: 8.000868797302246 | True pKd: 7.903090000152588\n",
      "Predicted pKd: 8.151235580444336 | True pKd: 7.97469425201416\n",
      "Predicted pKd: 7.756036758422852 | True pKd: 8.90308952331543\n",
      "Predicted pKd: 9.076152801513672 | True pKd: 8.107905387878418\n",
      "Predicted pKd: 4.508267402648926 | True pKd: 4.207608222961426\n",
      "Predicted pKd: 4.494295597076416 | True pKd: 5.698969841003418\n",
      "Predicted pKd: 8.256032943725586 | True pKd: 8.327901840209961\n",
      "Predicted pKd: 6.087192535400391 | True pKd: 6.0\n",
      "Predicted pKd: 7.8563995361328125 | True pKd: 9.769551277160645\n",
      "Predicted pKd: 6.716218948364258 | True pKd: 13.657577514648438\n",
      "Predicted pKd: 10.03701400756836 | True pKd: 10.181114196777344\n",
      "Predicted pKd: 8.181510925292969 | True pKd: 6.823908805847168\n",
      "Predicted pKd: 9.777174949645996 | True pKd: 10.114073753356934\n",
      "Predicted pKd: 9.405621528625488 | True pKd: 9.16749095916748\n",
      "Predicted pKd: 8.58525562286377 | True pKd: 8.542118072509766\n",
      "Predicted pKd: 5.653835296630859 | True pKd: 5.431798458099365\n",
      "Predicted pKd: 9.449743270874023 | True pKd: 9.823908805847168\n",
      "Predicted pKd: 8.476860046386719 | True pKd: 11.045757293701172\n",
      "Predicted pKd: 6.609613418579102 | True pKd: 6.886056423187256\n",
      "Predicted pKd: 7.139259338378906 | True pKd: 8.677781105041504\n",
      "Predicted pKd: 6.385455131530762 | True pKd: 4.675717353820801\n",
      "Predicted pKd: 7.655918121337891 | True pKd: 8.686132431030273\n",
      "Predicted pKd: 6.866530418395996 | True pKd: 4.896196365356445\n",
      "Predicted pKd: 9.403538703918457 | True pKd: 8.327901840209961\n",
      "Predicted pKd: 8.644912719726562 | True pKd: 8.30980396270752\n",
      "Predicted pKd: 10.626997947692871 | True pKd: 10.049148559570312\n",
      "Predicted pKd: 4.718997001647949 | True pKd: 5.193819999694824\n",
      "Predicted pKd: 4.837166786193848 | True pKd: 4.568636417388916\n",
      "Predicted pKd: 5.519344329833984 | True pKd: 5.434152126312256\n",
      "Predicted pKd: 5.264127731323242 | True pKd: 4.958607196807861\n",
      "Predicted pKd: 10.029536247253418 | True pKd: 9.49079704284668\n",
      "Predicted pKd: 8.879708290100098 | True pKd: 9.0\n",
      "Predicted pKd: 6.921019554138184 | True pKd: 6.619788646697998\n",
      "Predicted pKd: 11.793055534362793 | True pKd: 10.327901840209961\n",
      "Predicted pKd: 8.944021224975586 | True pKd: 9.036211967468262\n",
      "Predicted pKd: 9.856710433959961 | True pKd: 5.114073753356934\n",
      "Predicted pKd: 8.7352294921875 | True pKd: 9.698969841003418\n",
      "Predicted pKd: 9.40540599822998 | True pKd: 9.42021656036377\n",
      "Predicted pKd: 9.064644813537598 | True pKd: 8.148130416870117\n",
      "Predicted pKd: 8.464632034301758 | True pKd: 10.74472713470459\n",
      "Predicted pKd: 9.861729621887207 | True pKd: 8.818156242370605\n",
      "Predicted pKd: 9.392690658569336 | True pKd: 7.6458916664123535\n",
      "Predicted pKd: 6.855229377746582 | True pKd: 10.397939682006836\n",
      "Predicted pKd: 8.163006782531738 | True pKd: 8.063486099243164\n",
      "Predicted pKd: 8.562019348144531 | True pKd: 9.0\n",
      "Predicted pKd: 5.138464450836182 | True pKd: 6.113509178161621\n",
      "Predicted pKd: 7.249575614929199 | True pKd: 5.4685211181640625\n",
      "Predicted pKd: 5.73546028137207 | True pKd: 7.045757293701172\n",
      "Predicted pKd: 10.032195091247559 | True pKd: 10.721246719360352\n",
      "Predicted pKd: 8.389835357666016 | True pKd: 9.045757293701172\n",
      "Predicted pKd: 9.091381072998047 | True pKd: 7.403402805328369\n",
      "Predicted pKd: 10.869338035583496 | True pKd: 12.690369606018066\n",
      "Predicted pKd: 7.209148406982422 | True pKd: 6.156144618988037\n",
      "Predicted pKd: 7.317079544067383 | True pKd: 9.173925399780273\n",
      "Predicted pKd: 5.832736968994141 | True pKd: 8.301030158996582\n",
      "Predicted pKd: 5.555342674255371 | True pKd: 5.522878646850586\n",
      "Predicted pKd: 5.478496551513672 | True pKd: 5.301030158996582\n",
      "Predicted pKd: 6.072850227355957 | True pKd: 7.397940158843994\n",
      "Predicted pKd: 5.375694274902344 | True pKd: 6.050610065460205\n",
      "Predicted pKd: 4.919809341430664 | True pKd: 4.723538398742676\n",
      "Predicted pKd: 5.466568946838379 | True pKd: 5.747147083282471\n",
      "Predicted pKd: 7.704418182373047 | True pKd: 6.548213481903076\n",
      "Predicted pKd: 6.075442314147949 | True pKd: 4.318758964538574\n",
      "Predicted pKd: 6.604806900024414 | True pKd: 5.619788646697998\n",
      "Predicted pKd: 6.11281681060791 | True pKd: 5.428291320800781\n",
      "Predicted pKd: 6.082180023193359 | True pKd: 4.50445556640625\n",
      "Predicted pKd: 4.59153413772583 | True pKd: 4.444905757904053\n",
      "Predicted pKd: 8.949779510498047 | True pKd: 7.221848964691162\n",
      "Predicted pKd: 8.386652946472168 | True pKd: 8.0\n",
      "Predicted pKd: 7.4561920166015625 | True pKd: 6.517126560211182\n",
      "Predicted pKd: 7.415899276733398 | True pKd: 7.236571788787842\n",
      "Predicted pKd: 9.670205116271973 | True pKd: 7.602059841156006\n",
      "Predicted pKd: 7.631446838378906 | True pKd: 7.3565473556518555\n",
      "Predicted pKd: 9.050000190734863 | True pKd: 9.28399658203125\n",
      "Predicted pKd: 8.527436256408691 | True pKd: 8.42021656036377\n",
      "Predicted pKd: 7.704471588134766 | True pKd: 7.995678424835205\n",
      "Predicted pKd: 6.325954437255859 | True pKd: 6.6556077003479\n",
      "Predicted pKd: 7.202993392944336 | True pKd: 5.557520389556885\n",
      "Predicted pKd: 5.28355598449707 | True pKd: 5.462181091308594\n",
      "Predicted pKd: 9.442693710327148 | True pKd: 9.221848487854004\n",
      "Predicted pKd: 9.402382850646973 | True pKd: 9.327901840209961\n",
      "Predicted pKd: 5.469970703125 | True pKd: 6.677780628204346\n",
      "Predicted pKd: 9.450642585754395 | True pKd: 10.0\n",
      "Predicted pKd: 7.646817207336426 | True pKd: 7.480172157287598\n",
      "Predicted pKd: 8.25477409362793 | True pKd: 8.657577514648438\n",
      "Predicted pKd: 9.222612380981445 | True pKd: 8.175873756408691\n",
      "Predicted pKd: 8.429513931274414 | True pKd: 6.055517196655273\n",
      "Predicted pKd: 5.024851322174072 | True pKd: 6.160521984100342\n",
      "Predicted pKd: 13.865230560302734 | True pKd: 15.229147911071777\n",
      "Predicted pKd: 10.556801795959473 | True pKd: 9.341988563537598\n",
      "Predicted pKd: 10.585326194763184 | True pKd: 10.562249183654785\n",
      "Predicted pKd: 9.50257682800293 | True pKd: 10.322393417358398\n",
      "Predicted pKd: 7.620345115661621 | True pKd: 8.677781105041504\n",
      "Predicted pKd: 8.047602653503418 | True pKd: 6.142667293548584\n",
      "Predicted pKd: 6.305704116821289 | True pKd: 7.568636417388916\n",
      "Predicted pKd: 7.975978851318359 | True pKd: 7.698969841003418\n",
      "Predicted pKd: 8.175637245178223 | True pKd: 8.063486099243164\n",
      "Predicted pKd: 5.023557186126709 | True pKd: 3.8096683025360107\n",
      "Predicted pKd: 5.469297409057617 | True pKd: 3.2479515075683594\n",
      "Predicted pKd: 7.75677490234375 | True pKd: 5.477555751800537\n",
      "Predicted pKd: 7.701580047607422 | True pKd: 7.494850158691406\n",
      "Predicted pKd: 8.94950008392334 | True pKd: 6.387216091156006\n",
      "Predicted pKd: 8.165345191955566 | True pKd: 8.230622291564941\n",
      "Predicted pKd: 4.312650680541992 | True pKd: 5.200659275054932\n",
      "Predicted pKd: 8.613448143005371 | True pKd: 8.97881031036377\n",
      "Predicted pKd: 9.466707229614258 | True pKd: 9.632643699645996\n",
      "Predicted pKd: 7.822942733764648 | True pKd: 7.086185932159424\n",
      "Predicted pKd: 4.970357894897461 | True pKd: 7.677780628204346\n",
      "Predicted pKd: 6.552629470825195 | True pKd: 6.337242126464844\n",
      "Predicted pKd: 7.553765296936035 | True pKd: 7.070580959320068\n",
      "Predicted pKd: 7.955915451049805 | True pKd: 5.994390487670898\n",
      "Predicted pKd: 12.01452350616455 | True pKd: 12.698969841003418\n",
      "Predicted pKd: 6.23306941986084 | True pKd: 5.853871822357178\n",
      "Predicted pKd: 7.2124834060668945 | True pKd: 7.148741722106934\n",
      "Predicted pKd: 8.1759033203125 | True pKd: 7.2708353996276855\n",
      "Predicted pKd: 10.546377182006836 | True pKd: 9.568635940551758\n",
      "Predicted pKd: 7.840553283691406 | True pKd: 5.455932140350342\n",
      "Predicted pKd: 9.69670581817627 | True pKd: 9.804100036621094\n",
      "Predicted pKd: 9.15650463104248 | True pKd: 8.026871681213379\n",
      "Predicted pKd: 4.936906337738037 | True pKd: 4.4685211181640625\n",
      "Predicted pKd: 5.697414398193359 | True pKd: 5.549750804901123\n",
      "Predicted pKd: 4.135104179382324 | True pKd: 5.006563663482666\n",
      "Predicted pKd: 8.8333158493042 | True pKd: 9.0\n",
      "Predicted pKd: 9.966236114501953 | True pKd: 9.95860767364502\n",
      "Predicted pKd: 5.997235298156738 | True pKd: 3.346787452697754\n",
      "Predicted pKd: 6.190607070922852 | True pKd: 8.723538398742676\n",
      "Predicted pKd: 5.270886421203613 | True pKd: 7.187086582183838\n",
      "Predicted pKd: 9.407100677490234 | True pKd: 9.244125366210938\n",
      "Predicted pKd: 5.524453163146973 | True pKd: 3.9788107872009277\n",
      "Predicted pKd: 6.432981491088867 | True pKd: 6.744727611541748\n",
      "Predicted pKd: 8.372603416442871 | True pKd: 5.301030158996582\n",
      "Predicted pKd: 6.081388473510742 | True pKd: 4.721246242523193\n",
      "Predicted pKd: 9.39640998840332 | True pKd: 9.468521118164062\n",
      "Predicted pKd: 4.499912261962891 | True pKd: 4.886056423187256\n",
      "Predicted pKd: 5.179539680480957 | True pKd: 4.879426002502441\n",
      "Predicted pKd: 8.00855827331543 | True pKd: 7.4202165603637695\n",
      "Predicted pKd: 9.073165893554688 | True pKd: 8.853872299194336\n",
      "Predicted pKd: 5.631671905517578 | True pKd: 6.057991981506348\n",
      "Predicted pKd: 9.745270729064941 | True pKd: 10.732828140258789\n",
      "Predicted pKd: 9.109467506408691 | True pKd: 8.892789840698242\n",
      "Predicted pKd: 9.977869033813477 | True pKd: 10.221848487854004\n",
      "Predicted pKd: 9.636568069458008 | True pKd: 9.991399765014648\n",
      "Predicted pKd: 7.705653190612793 | True pKd: 6.917214393615723\n",
      "Predicted pKd: 9.133721351623535 | True pKd: 6.1674909591674805\n",
      "Predicted pKd: 7.324944496154785 | True pKd: 4.2924299240112305\n",
      "Predicted pKd: 8.279172897338867 | True pKd: 8.468521118164062\n",
      "Predicted pKd: 7.847879409790039 | True pKd: 10.0\n",
      "Predicted pKd: 7.05253791809082 | True pKd: 8.728157997131348\n",
      "Predicted pKd: 10.607575416564941 | True pKd: 8.698969841003418\n",
      "Predicted pKd: 13.867490768432617 | True pKd: 15.0\n",
      "Predicted pKd: 5.726449012756348 | True pKd: 5.728158473968506\n",
      "Predicted pKd: 5.846393585205078 | True pKd: 5.443697452545166\n",
      "Predicted pKd: 5.005105972290039 | True pKd: 5.567030906677246\n",
      "Predicted pKd: 7.688451766967773 | True pKd: 7.602059841156006\n",
      "Predicted pKd: 6.010110855102539 | True pKd: 6.7695512771606445\n",
      "Predicted pKd: 7.80891227722168 | True pKd: 6.634511947631836\n",
      "Predicted pKd: 9.395181655883789 | True pKd: 9.136676788330078\n",
      "Predicted pKd: 6.280126571655273 | True pKd: 7.251811981201172\n",
      "Predicted pKd: 6.31794548034668 | True pKd: 6.0\n",
      "Predicted pKd: 8.629145622253418 | True pKd: 7.0087738037109375\n",
      "Predicted pKd: 9.39775562286377 | True pKd: 8.59175968170166\n",
      "Predicted pKd: 4.5593438148498535 | True pKd: 5.251811981201172\n",
      "Predicted pKd: 7.327293395996094 | True pKd: 8.146302223205566\n",
      "Predicted pKd: 7.313684463500977 | True pKd: 4.467245578765869\n",
      "Predicted pKd: 9.403613090515137 | True pKd: 9.161150932312012\n",
      "Predicted pKd: 7.376307487487793 | True pKd: 7.408935546875\n",
      "Predicted pKd: 9.805645942687988 | True pKd: 8.146302223205566\n",
      "Predicted pKd: 10.420295715332031 | True pKd: 10.681936264038086\n",
      "Predicted pKd: 6.377067565917969 | True pKd: 4.9871625900268555\n",
      "Predicted pKd: 9.386547088623047 | True pKd: 9.041436195373535\n",
      "Predicted pKd: 7.297784805297852 | True pKd: 5.187086582183838\n",
      "Predicted pKd: 8.501815795898438 | True pKd: 8.279014587402344\n",
      "Predicted pKd: 7.171270370483398 | True pKd: 7.79587984085083\n",
      "Predicted pKd: 10.209795951843262 | True pKd: 9.301030158996582\n",
      "Predicted pKd: 6.820673942565918 | True pKd: 6.086185932159424\n",
      "Predicted pKd: 10.493124961853027 | True pKd: 10.747146606445312\n",
      "Predicted pKd: 7.643411636352539 | True pKd: 8.326058387756348\n",
      "Predicted pKd: 7.4194135665893555 | True pKd: 5.79587984085083\n",
      "Predicted pKd: 5.815060615539551 | True pKd: 6.507239818572998\n",
      "Predicted pKd: 6.51993465423584 | True pKd: 8.09691047668457\n",
      "Predicted pKd: 6.164239883422852 | True pKd: 5.835647106170654\n",
      "Predicted pKd: 8.145801544189453 | True pKd: 6.896196365356445\n",
      "Predicted pKd: 6.856298446655273 | True pKd: 7.698969841003418\n",
      "Predicted pKd: 8.820009231567383 | True pKd: 10.221848487854004\n",
      "Predicted pKd: 5.797472953796387 | True pKd: 6.79587984085083\n",
      "Predicted pKd: 6.065825462341309 | True pKd: 9.619789123535156\n",
      "Predicted pKd: 9.046069145202637 | True pKd: 9.29242992401123\n",
      "Predicted pKd: 9.530679702758789 | True pKd: 10.146302223205566\n",
      "Predicted pKd: 9.23388385772705 | True pKd: 9.301030158996582\n",
      "Predicted pKd: 9.057623863220215 | True pKd: 8.543634414672852\n",
      "Predicted pKd: 6.682697296142578 | True pKd: 6.4685211181640625\n",
      "Predicted pKd: 6.0761003494262695 | True pKd: 4.214670181274414\n",
      "Predicted pKd: 7.852659225463867 | True pKd: 5.568636417388916\n",
      "Predicted pKd: 7.175209045410156 | True pKd: 7.619788646697998\n",
      "Predicted pKd: 7.386716842651367 | True pKd: 6.44733190536499\n",
      "Predicted pKd: 8.654226303100586 | True pKd: 8.522878646850586\n",
      "Predicted pKd: 4.939554214477539 | True pKd: 9.221848487854004\n",
      "Predicted pKd: 6.306962966918945 | True pKd: 6.581698894500732\n",
      "Predicted pKd: 6.899348258972168 | True pKd: 6.744727611541748\n",
      "Predicted pKd: 5.993117332458496 | True pKd: 4.812479496002197\n",
      "Predicted pKd: 4.862295627593994 | True pKd: 4.0\n",
      "Predicted pKd: 6.134664535522461 | True pKd: 5.7695512771606445\n",
      "Predicted pKd: 4.6604509353637695 | True pKd: 4.337242126464844\n",
      "Predicted pKd: 8.169699668884277 | True pKd: 8.229147911071777\n",
      "Predicted pKd: 6.251555442810059 | True pKd: 3.886056661605835\n",
      "Predicted pKd: 8.229612350463867 | True pKd: 8.214670181274414\n",
      "Predicted pKd: 7.297264099121094 | True pKd: 8.522878646850586\n",
      "Predicted pKd: 8.453837394714355 | True pKd: 8.726073265075684\n",
      "Predicted pKd: 5.624411582946777 | True pKd: 6.906578540802002\n",
      "Predicted pKd: 7.504931449890137 | True pKd: 4.567672252655029\n",
      "Predicted pKd: 6.2720947265625 | True pKd: 7.522878646850586\n",
      "Predicted pKd: 5.574814796447754 | True pKd: 4.798603057861328\n",
      "Predicted pKd: 9.929759979248047 | True pKd: 9.369571685791016\n",
      "Predicted pKd: 4.602780342102051 | True pKd: 3.522878646850586\n",
      "Predicted pKd: 10.669651985168457 | True pKd: 9.322393417358398\n",
      "Predicted pKd: 9.363184928894043 | True pKd: 10.853872299194336\n",
      "Predicted pKd: 9.521040916442871 | True pKd: 9.449771881103516\n",
      "Predicted pKd: 8.098119735717773 | True pKd: 9.008773803710938\n",
      "Predicted pKd: 9.215503692626953 | True pKd: 7.764471530914307\n",
      "Predicted pKd: 8.171639442443848 | True pKd: 7.982966423034668\n",
      "Predicted pKd: 8.697600364685059 | True pKd: 12.0\n",
      "Predicted pKd: 5.982342720031738 | True pKd: 6.055517196655273\n",
      "Predicted pKd: 9.853057861328125 | True pKd: 10.96657657623291\n",
      "Predicted pKd: 6.47346305847168 | True pKd: 5.903090000152588\n",
      "Predicted pKd: 7.863637924194336 | True pKd: 6.966576099395752\n",
      "Predicted pKd: 8.57020092010498 | True pKd: 8.356547355651855\n",
      "Predicted pKd: 7.7214813232421875 | True pKd: 8.28399658203125\n",
      "Predicted pKd: 10.445796966552734 | True pKd: 11.0\n",
      "Predicted pKd: 6.151623725891113 | True pKd: 7.585026741027832\n",
      "Predicted pKd: 8.426003456115723 | True pKd: 11.14448070526123\n",
      "Predicted pKd: 7.313231468200684 | True pKd: 8.721246719360352\n",
      "Predicted pKd: 5.680367469787598 | True pKd: 8.522878646850586\n",
      "Predicted pKd: 9.774629592895508 | True pKd: 9.818156242370605\n",
      "Predicted pKd: 4.672675132751465 | True pKd: 3.761953830718994\n",
      "Predicted pKd: 10.479706764221191 | True pKd: 12.623422622680664\n",
      "Predicted pKd: 6.484007835388184 | True pKd: 9.301030158996582\n",
      "Predicted pKd: 6.9249982833862305 | True pKd: 6.7695512771606445\n",
      "Predicted pKd: 8.183015823364258 | True pKd: 8.853872299194336\n",
      "Predicted pKd: 8.200244903564453 | True pKd: 7.892789840698242\n",
      "Predicted pKd: 6.029158592224121 | True pKd: 7.812479496002197\n",
      "Predicted pKd: 8.660073280334473 | True pKd: 9.408935546875\n",
      "Predicted pKd: 7.636294364929199 | True pKd: 5.522878646850586\n",
      "Predicted pKd: 5.295555114746094 | True pKd: 7.259637355804443\n",
      "Predicted pKd: 5.802400588989258 | True pKd: 7.619788646697998\n",
      "Predicted pKd: 9.5252685546875 | True pKd: 10.86966609954834\n",
      "Predicted pKd: 8.351607322692871 | True pKd: 7.6575775146484375\n",
      "Predicted pKd: 10.054783821105957 | True pKd: 7.389339923858643\n",
      "Predicted pKd: 7.373024940490723 | True pKd: 7.718966484069824\n",
      "Predicted pKd: 7.361743927001953 | True pKd: 8.154901504516602\n",
      "Predicted pKd: 8.580865859985352 | True pKd: 10.522878646850586\n",
      "Predicted pKd: 8.664229393005371 | True pKd: 9.924452781677246\n",
      "Predicted pKd: 7.704131126403809 | True pKd: 7.4685211181640625\n",
      "Predicted pKd: 10.570050239562988 | True pKd: 11.0\n",
      "Predicted pKd: 9.40552043914795 | True pKd: 9.236572265625\n",
      "Predicted pKd: 7.3180389404296875 | True pKd: 8.795880317687988\n",
      "Predicted pKd: 9.124699592590332 | True pKd: 7.723538398742676\n",
      "Predicted pKd: 8.253009796142578 | True pKd: 8.102373123168945\n",
      "Predicted pKd: 7.297698020935059 | True pKd: 7.187086582183838\n",
      "Predicted pKd: 13.8717622756958 | True pKd: 14.408935546875\n",
      "Predicted pKd: 4.285066604614258 | True pKd: 5.12493896484375\n",
      "Predicted pKd: 11.714285850524902 | True pKd: 11.244887351989746\n",
      "Predicted pKd: 4.484589576721191 | True pKd: 4.931814193725586\n",
      "Predicted pKd: 9.086150169372559 | True pKd: 8.465973854064941\n",
      "Predicted pKd: 9.92593765258789 | True pKd: 9.701147079467773\n",
      "Predicted pKd: 4.764265060424805 | True pKd: 4.376750946044922\n",
      "Predicted pKd: 7.382268905639648 | True pKd: 5.602059841156006\n",
      "Predicted pKd: 7.948092460632324 | True pKd: 7.8326826095581055\n",
      "Predicted pKd: 8.204350471496582 | True pKd: 8.686132431030273\n",
      "Predicted pKd: 8.587730407714844 | True pKd: 9.537602424621582\n",
      "Predicted pKd: 9.58544921875 | True pKd: 8.552842140197754\n",
      "Predicted pKd: 9.397873878479004 | True pKd: 8.457174301147461\n",
      "Predicted pKd: 5.903703689575195 | True pKd: 9.154901504516602\n",
      "Predicted pKd: 7.21254825592041 | True pKd: 7.259637355804443\n",
      "Predicted pKd: 7.8770647048950195 | True pKd: 9.382999420166016\n",
      "Predicted pKd: 7.122265815734863 | True pKd: 7.412289142608643\n",
      "Predicted pKd: 6.069973945617676 | True pKd: 5.638272285461426\n",
      "Predicted pKd: 8.852916717529297 | True pKd: 8.154901504516602\n",
      "Predicted pKd: 9.428437232971191 | True pKd: 10.356547355651855\n",
      "Predicted pKd: 5.996099472045898 | True pKd: 5.490797519683838\n",
      "Predicted pKd: 7.280309677124023 | True pKd: 5.3565473556518555\n",
      "Predicted pKd: 7.777133941650391 | True pKd: 7.414539337158203\n",
      "Predicted pKd: 9.401524543762207 | True pKd: 9.376750946044922\n",
      "Predicted pKd: 9.65665340423584 | True pKd: 10.327901840209961\n",
      "Predicted pKd: 9.411700248718262 | True pKd: 9.337242126464844\n",
      "Predicted pKd: 8.713017463684082 | True pKd: 7.318758964538574\n",
      "Predicted pKd: 5.539638519287109 | True pKd: 4.07572078704834\n",
      "Predicted pKd: 5.422607421875 | True pKd: 5.549750804901123\n",
      "Predicted pKd: 7.958600997924805 | True pKd: 15.0\n",
      "Predicted pKd: 8.569722175598145 | True pKd: 8.022275924682617\n",
      "Predicted pKd: 8.760543823242188 | True pKd: 8.998266220092773\n",
      "Predicted pKd: 10.078770637512207 | True pKd: 8.508638381958008\n",
      "Predicted pKd: 7.421604156494141 | True pKd: 7.500312805175781\n",
      "Predicted pKd: 7.635148048400879 | True pKd: 7.522878646850586\n",
      "Predicted pKd: 4.099235534667969 | True pKd: 4.853871822357178\n",
      "Predicted pKd: 9.375811576843262 | True pKd: 11.254924774169922\n",
      "Predicted pKd: 4.9533538818359375 | True pKd: 5.619788646697998\n",
      "Predicted pKd: 6.975600242614746 | True pKd: 6.709965229034424\n",
      "Predicted pKd: 5.65140438079834 | True pKd: 6.2441253662109375\n",
      "Predicted pKd: 6.071712493896484 | True pKd: 6.585026741027832\n",
      "Predicted pKd: 8.760966300964355 | True pKd: 7.0\n",
      "Predicted pKd: 7.768564224243164 | True pKd: 5.32239294052124\n",
      "Predicted pKd: 8.587430000305176 | True pKd: 8.718966484069824\n",
      "Predicted pKd: 6.6540117263793945 | True pKd: 6.045757293701172\n",
      "Predicted pKd: 8.210144996643066 | True pKd: 9.455931663513184\n",
      "Predicted pKd: 7.644469261169434 | True pKd: 6.494850158691406\n",
      "Predicted pKd: 10.445510864257812 | True pKd: 11.447331428527832\n",
      "Predicted pKd: 6.64323616027832 | True pKd: 6.585026741027832\n",
      "Predicted pKd: 7.397878646850586 | True pKd: 7.376750946044922\n",
      "Predicted pKd: 8.700660705566406 | True pKd: 9.229147911071777\n",
      "Predicted pKd: 5.863579750061035 | True pKd: 5.619788646697998\n",
      "Predicted pKd: 7.021658897399902 | True pKd: 4.690369606018066\n",
      "Predicted pKd: 4.994718551635742 | True pKd: 4.455932140350342\n",
      "Predicted pKd: 5.571009635925293 | True pKd: 6.039529323577881\n",
      "Predicted pKd: 9.283203125 | True pKd: 9.341988563537598\n",
      "Predicted pKd: 7.778951644897461 | True pKd: 7.109579086303711\n",
      "Predicted pKd: 9.178147315979004 | True pKd: 9.034798622131348\n",
      "Predicted pKd: 8.671415328979492 | True pKd: 9.593460083007812\n",
      "Predicted pKd: 5.325559616088867 | True pKd: 6.823908805847168\n",
      "Predicted pKd: 9.520848274230957 | True pKd: 11.0\n",
      "Predicted pKd: 8.06358528137207 | True pKd: 8.207608222961426\n",
      "Predicted pKd: 10.255226135253906 | True pKd: 10.50445556640625\n",
      "Predicted pKd: 9.711715698242188 | True pKd: 9.752026557922363\n",
      "Predicted pKd: 7.288596153259277 | True pKd: 5.43770694732666\n",
      "Predicted pKd: 5.512791633605957 | True pKd: 4.187086582183838\n",
      "Predicted pKd: 7.471692085266113 | True pKd: 9.045757293701172\n",
      "Predicted pKd: 7.7235107421875 | True pKd: 8.364516258239746\n",
      "Predicted pKd: 8.16650104522705 | True pKd: 10.57348918914795\n",
      "Predicted pKd: 6.4890899658203125 | True pKd: 7.026872158050537\n",
      "Predicted pKd: 4.673343658447266 | True pKd: 4.086185932159424\n",
      "Predicted pKd: 4.640893459320068 | True pKd: 4.9430952072143555\n",
      "Predicted pKd: 6.732972145080566 | True pKd: 5.966576099395752\n",
      "Predicted pKd: 5.072810173034668 | True pKd: 6.7695512771606445\n",
      "Predicted pKd: 8.158004760742188 | True pKd: 7.058488368988037\n",
      "Predicted pKd: 7.780508995056152 | True pKd: 7.0\n",
      "Predicted pKd: 4.342949867248535 | True pKd: 2.0\n",
      "Predicted pKd: 9.870816230773926 | True pKd: 10.322393417358398\n",
      "Predicted pKd: 4.751733779907227 | True pKd: 6.3205718994140625\n",
      "Predicted pKd: 8.644843101501465 | True pKd: 8.97469425201416\n",
      "Predicted pKd: 8.97201919555664 | True pKd: 7.958607196807861\n",
      "Predicted pKd: 6.681404113769531 | True pKd: 7.096909999847412\n",
      "Predicted pKd: 4.6103363037109375 | True pKd: 4.444905757904053\n",
      "Predicted pKd: 10.562764167785645 | True pKd: 10.995678901672363\n",
      "Predicted pKd: 8.435914993286133 | True pKd: 7.632644176483154\n",
      "Predicted pKd: 7.496010780334473 | True pKd: 7.318758964538574\n",
      "Predicted pKd: 6.768131256103516 | True pKd: 7.206908226013184\n",
      "Predicted pKd: 7.530264854431152 | True pKd: 10.657577514648438\n",
      "Predicted pKd: 5.51170539855957 | True pKd: 4.1348958015441895\n",
      "Predicted pKd: 7.117036819458008 | True pKd: 6.79048490524292\n",
      "Predicted pKd: 7.701346397399902 | True pKd: 6.070580959320068\n",
      "Predicted pKd: 7.706203460693359 | True pKd: 7.588380336761475\n",
      "Predicted pKd: 5.451111793518066 | True pKd: 5.528708457946777\n",
      "Predicted pKd: 9.407479286193848 | True pKd: 8.872895240783691\n",
      "Predicted pKd: 7.774138450622559 | True pKd: 4.698969841003418\n",
      "Predicted pKd: 6.256037712097168 | True pKd: 6.315154552459717\n",
      "Predicted pKd: 7.279911994934082 | True pKd: 6.267606258392334\n",
      "Predicted pKd: 6.082792282104492 | True pKd: 5.041436195373535\n",
      "Predicted pKd: 8.643583297729492 | True pKd: 6.752763271331787\n",
      "Predicted pKd: 8.159092903137207 | True pKd: 8.060481071472168\n",
      "Predicted pKd: 8.627440452575684 | True pKd: 10.356547355651855\n",
      "Predicted pKd: 10.036008834838867 | True pKd: 6.698969841003418\n",
      "Predicted pKd: 8.101374626159668 | True pKd: 7.4202165603637695\n",
      "Predicted pKd: 7.782093048095703 | True pKd: 5.896196365356445\n",
      "Predicted pKd: 6.279520034790039 | True pKd: 6.317854881286621\n",
      "Predicted pKd: 8.26506519317627 | True pKd: 8.346787452697754\n",
      "Predicted pKd: 7.161913871765137 | True pKd: 7.102373123168945\n",
      "Predicted pKd: 7.284243583679199 | True pKd: 8.06701946258545\n",
      "Predicted pKd: 10.07884407043457 | True pKd: 10.010994911193848\n",
      "Predicted pKd: 4.950881004333496 | True pKd: 5.022276401519775\n",
      "Predicted pKd: 5.118823051452637 | True pKd: 7.481485843658447\n",
      "Predicted pKd: 8.419559478759766 | True pKd: 9.0\n",
      "Predicted pKd: 9.579437255859375 | True pKd: 13.95860767364502\n",
      "Predicted pKd: 6.181988716125488 | True pKd: 5.958607196807861\n",
      "Predicted pKd: 7.666481971740723 | True pKd: 8.522878646850586\n",
      "Predicted pKd: 9.873043060302734 | True pKd: 9.90308952331543\n",
      "Predicted pKd: 7.319821357727051 | True pKd: 9.657577514648438\n",
      "Predicted pKd: 4.135104179382324 | True pKd: 4.728158473968506\n",
      "Predicted pKd: 5.980104446411133 | True pKd: 6.50307035446167\n",
      "Predicted pKd: 8.559419631958008 | True pKd: 11.175873756408691\n",
      "Predicted pKd: 7.711539268493652 | True pKd: 7.376750946044922\n",
      "Predicted pKd: 9.607328414916992 | True pKd: 12.146302223205566\n",
      "Predicted pKd: 9.522391319274902 | True pKd: 7.591760158538818\n",
      "Predicted pKd: 8.175894737243652 | True pKd: 8.468521118164062\n",
      "Predicted pKd: 4.716190338134766 | True pKd: 4.92081880569458\n",
      "Predicted pKd: 4.942461967468262 | True pKd: 6.518557548522949\n",
      "Predicted pKd: 9.406095504760742 | True pKd: 9.207608222961426\n",
      "Predicted pKd: 7.881687164306641 | True pKd: 4.301030158996582\n",
      "Predicted pKd: 8.177788734436035 | True pKd: 9.397939682006836\n",
      "Predicted pKd: 6.938139915466309 | True pKd: 8.001740455627441\n",
      "Predicted pKd: 8.640971183776855 | True pKd: 8.728157997131348\n",
      "Predicted pKd: 9.362184524536133 | True pKd: 9.397939682006836\n",
      "Predicted pKd: 10.147666931152344 | True pKd: 11.818156242370605\n",
      "Predicted pKd: 4.659688949584961 | True pKd: 5.15490198135376\n",
      "Predicted pKd: 7.249799728393555 | True pKd: 6.931814193725586\n",
      "Predicted pKd: 9.592212677001953 | True pKd: 11.0\n",
      "Predicted pKd: 7.228331565856934 | True pKd: 5.946921348571777\n",
      "Predicted pKd: 7.326700210571289 | True pKd: 7.2441253662109375\n",
      "Predicted pKd: 6.6688127517700195 | True pKd: 5.886056423187256\n",
      "Predicted pKd: 7.627974510192871 | True pKd: 8.677781105041504\n",
      "Predicted pKd: 9.11904239654541 | True pKd: 8.962573051452637\n",
      "Predicted pKd: 5.196235656738281 | True pKd: 2.628932237625122\n",
      "Predicted pKd: 6.469784736633301 | True pKd: 9.327901840209961\n",
      "Predicted pKd: 6.00355339050293 | True pKd: 5.477555751800537\n",
      "Predicted pKd: 7.677803039550781 | True pKd: 8.559090614318848\n",
      "Predicted pKd: 6.012367248535156 | True pKd: 2.6861326694488525\n",
      "Predicted pKd: 4.963336944580078 | True pKd: 3.3819518089294434\n",
      "Predicted pKd: 10.133712768554688 | True pKd: 8.522878646850586\n",
      "Predicted pKd: 9.741898536682129 | True pKd: 9.823908805847168\n",
      "Predicted pKd: 7.215997695922852 | True pKd: 5.95078182220459\n",
      "Predicted pKd: 9.057796478271484 | True pKd: 8.159266471862793\n",
      "Predicted pKd: 7.773592948913574 | True pKd: 8.431797981262207\n",
      "Predicted pKd: 9.399659156799316 | True pKd: 9.161150932312012\n",
      "Predicted pKd: 9.946661949157715 | True pKd: 8.522878646850586\n",
      "Predicted pKd: 8.807180404663086 | True pKd: 5.1191864013671875\n",
      "Predicted pKd: 7.483552932739258 | True pKd: 7.262012481689453\n",
      "Predicted pKd: 5.408586502075195 | True pKd: 6.524328708648682\n",
      "Predicted pKd: 5.613833427429199 | True pKd: 5.28066873550415\n",
      "Predicted pKd: 7.297743797302246 | True pKd: 5.6575775146484375\n",
      "Predicted pKd: 6.878298759460449 | True pKd: 8.58004379272461\n",
      "Predicted pKd: 4.704504013061523 | True pKd: 4.709965229034424\n",
      "Predicted pKd: 8.63902759552002 | True pKd: 7.7798919677734375\n",
      "Predicted pKd: 6.8431291580200195 | True pKd: 9.045757293701172\n",
      "Predicted pKd: 8.21361255645752 | True pKd: 6.062983989715576\n",
      "Predicted pKd: 9.573504447937012 | True pKd: 10.698969841003418\n",
      "Predicted pKd: 7.401617050170898 | True pKd: 7.126679420471191\n",
      "Predicted pKd: 5.467253684997559 | True pKd: 5.074687957763672\n",
      "Predicted pKd: 7.787454605102539 | True pKd: 12.0\n",
      "Predicted pKd: 7.413854598999023 | True pKd: 5.010550022125244\n",
      "Predicted pKd: 6.115861892700195 | True pKd: 5.636387825012207\n",
      "Predicted pKd: 4.906308174133301 | True pKd: 4.0\n",
      "Predicted pKd: 13.443761825561523 | True pKd: 12.397939682006836\n",
      "Predicted pKd: 10.661056518554688 | True pKd: 12.379863739013672\n",
      "Predicted pKd: 6.47501277923584 | True pKd: 5.602059841156006\n",
      "Predicted pKd: 11.120097160339355 | True pKd: 10.119186401367188\n",
      "Predicted pKd: 6.415921211242676 | True pKd: 7.079354763031006\n",
      "Predicted pKd: 5.468371391296387 | True pKd: 6.92081880569458\n",
      "Predicted pKd: 8.43136978149414 | True pKd: 7.040958404541016\n",
      "Predicted pKd: 6.195964813232422 | True pKd: 10.397939682006836\n",
      "Predicted pKd: 5.459139823913574 | True pKd: 5.397940158843994\n",
      "Predicted pKd: 5.394147872924805 | True pKd: 5.688246250152588\n",
      "Predicted pKd: 4.159994602203369 | True pKd: 4.801342964172363\n",
      "Predicted pKd: 9.8445463180542 | True pKd: 6.991399765014648\n",
      "Predicted pKd: 6.729891777038574 | True pKd: 6.15490198135376\n",
      "Predicted pKd: 9.633563041687012 | True pKd: 10.522878646850586\n",
      "Predicted pKd: 8.812578201293945 | True pKd: 8.397939682006836\n",
      "Predicted pKd: 10.429746627807617 | True pKd: 9.51855754852295\n",
      "Predicted pKd: 5.514126777648926 | True pKd: 4.889410495758057\n",
      "Predicted pKd: 4.875432014465332 | True pKd: 4.337242126464844\n",
      "Predicted pKd: 7.03962516784668 | True pKd: 7.066512584686279\n",
      "Predicted pKd: 8.606866836547852 | True pKd: 8.767004013061523\n",
      "Predicted pKd: 6.584872245788574 | True pKd: 6.0\n",
      "Predicted pKd: 4.940903663635254 | True pKd: 4.675717353820801\n",
      "Predicted pKd: 4.652223587036133 | True pKd: 5.096909999847412\n",
      "Predicted pKd: 7.424449920654297 | True pKd: 6.709965229034424\n",
      "Predicted pKd: 5.214005470275879 | True pKd: 2.8210229873657227\n",
      "Predicted pKd: 6.92268180847168 | True pKd: 6.899629592895508\n",
      "Predicted pKd: 8.172028541564941 | True pKd: 8.058985710144043\n",
      "Predicted pKd: 6.178055763244629 | True pKd: 5.0\n",
      "Predicted pKd: 9.52687931060791 | True pKd: 11.102373123168945\n",
      "Predicted pKd: 9.401016235351562 | True pKd: 9.638272285461426\n",
      "Predicted pKd: 10.432762145996094 | True pKd: 11.812479019165039\n",
      "Predicted pKd: 10.079977035522461 | True pKd: 10.69680404663086\n",
      "Predicted pKd: 9.635787963867188 | True pKd: 6.643974304199219\n",
      "Predicted pKd: 8.107010841369629 | True pKd: 7.619788646697998\n",
      "Predicted pKd: 7.323365211486816 | True pKd: 8.251811981201172\n",
      "Predicted pKd: 4.995970726013184 | True pKd: 5.221848964691162\n",
      "Predicted pKd: 9.928743362426758 | True pKd: 10.543634414672852\n",
      "Predicted pKd: 5.430878639221191 | True pKd: 5.77211332321167\n",
      "Predicted pKd: 10.442404747009277 | True pKd: 9.681936264038086\n",
      "Predicted pKd: 9.477391242980957 | True pKd: 8.886056900024414\n",
      "Predicted pKd: 7.763745307922363 | True pKd: 8.935542106628418\n",
      "Predicted pKd: 7.434111595153809 | True pKd: 7.92081880569458\n",
      "Predicted pKd: 7.726166725158691 | True pKd: 8.522878646850586\n",
      "Predicted pKd: 9.49346923828125 | True pKd: 10.886056900024414\n",
      "Predicted pKd: 4.542157173156738 | True pKd: 4.444905757904053\n",
      "Predicted pKd: 7.608609199523926 | True pKd: 9.522878646850586\n",
      "Predicted pKd: 4.709249496459961 | True pKd: 5.259637355804443\n",
      "Predicted pKd: 9.034355163574219 | True pKd: 9.823908805847168\n",
      "Predicted pKd: 9.658975601196289 | True pKd: 9.772112846374512\n",
      "Predicted pKd: 8.16207218170166 | True pKd: 8.212539672851562\n",
      "Predicted pKd: 6.207100868225098 | True pKd: 7.095825672149658\n",
      "Predicted pKd: 8.102746963500977 | True pKd: 8.397939682006836\n",
      "Predicted pKd: 10.415895462036133 | True pKd: 10.175873756408691\n",
      "Predicted pKd: 5.176980495452881 | True pKd: 4.935542106628418\n",
      "Predicted pKd: 9.103187561035156 | True pKd: 9.237546920776367\n",
      "Predicted pKd: 7.510615348815918 | True pKd: 5.522878646850586\n",
      "Predicted pKd: 8.500167846679688 | True pKd: 6.958607196807861\n",
      "Predicted pKd: 4.474024772644043 | True pKd: 4.688246250152588\n",
      "Predicted pKd: 7.364537239074707 | True pKd: 9.154901504516602\n",
      "Predicted pKd: 5.538433074951172 | True pKd: 5.057991981506348\n",
      "Predicted pKd: 6.073264122009277 | True pKd: 6.434152126312256\n",
      "Predicted pKd: 4.940250396728516 | True pKd: 5.2924299240112305\n",
      "Predicted pKd: 6.635476112365723 | True pKd: 6.602059841156006\n",
      "Predicted pKd: 8.5216646194458 | True pKd: 6.946921348571777\n",
      "Predicted pKd: 5.13845157623291 | True pKd: 3.715343713760376\n",
      "Predicted pKd: 10.3252592086792 | True pKd: 8.379863739013672\n",
      "Predicted pKd: 7.291797637939453 | True pKd: 6.387216091156006\n",
      "Predicted pKd: 10.883833885192871 | True pKd: 10.187087059020996\n",
      "Predicted pKd: 5.087989807128906 | True pKd: 7.3665313720703125\n",
      "Predicted pKd: 6.817231178283691 | True pKd: 8.060481071472168\n",
      "Predicted pKd: 10.215649604797363 | True pKd: 9.50445556640625\n",
      "Predicted pKd: 8.149234771728516 | True pKd: 7.829738140106201\n",
      "Predicted pKd: 6.525423049926758 | True pKd: 6.031408309936523\n",
      "Predicted pKd: 8.241957664489746 | True pKd: 9.421360969543457\n",
      "Predicted pKd: 9.879583358764648 | True pKd: 8.826813697814941\n",
      "Predicted pKd: 4.694612503051758 | True pKd: 4.15490198135376\n",
      "Predicted pKd: 7.571508407592773 | True pKd: 4.958607196807861\n",
      "Predicted pKd: 5.767016410827637 | True pKd: 7.455932140350342\n",
      "Predicted pKd: 5.516522407531738 | True pKd: 5.2494916915893555\n",
      "Predicted pKd: 8.155040740966797 | True pKd: 7.742321491241455\n",
      "Predicted pKd: 6.416694641113281 | True pKd: 4.92081880569458\n",
      "Predicted pKd: 5.504480361938477 | True pKd: 4.777283668518066\n",
      "Predicted pKd: 8.732080459594727 | True pKd: 5.267606258392334\n",
      "Predicted pKd: 7.287487983703613 | True pKd: 4.161150932312012\n",
      "Predicted pKd: 6.992265701293945 | True pKd: 9.853872299194336\n",
      "Predicted pKd: 5.409201622009277 | True pKd: 5.7695512771606445\n",
      "Predicted pKd: 11.205838203430176 | True pKd: 10.74472713470459\n",
      "Predicted pKd: 7.418158531188965 | True pKd: 6.429457187652588\n",
      "Predicted pKd: 12.761334419250488 | True pKd: 12.570247650146484\n",
      "Predicted pKd: 5.856782913208008 | True pKd: 5.79587984085083\n",
      "Predicted pKd: 7.161872863769531 | True pKd: 8.301030158996582\n",
      "Predicted pKd: 6.7384748458862305 | True pKd: 7.602059841156006\n",
      "Predicted pKd: 6.673096656799316 | True pKd: 6.0\n",
      "Predicted pKd: 7.712862014770508 | True pKd: 7.744727611541748\n",
      "Predicted pKd: 7.525257110595703 | True pKd: 13.681936264038086\n",
      "Predicted pKd: 5.468234062194824 | True pKd: 3.7471470832824707\n",
      "Predicted pKd: 9.399781227111816 | True pKd: 8.815308570861816\n",
      "Predicted pKd: 4.967357635498047 | True pKd: 4.92081880569458\n",
      "Predicted pKd: 7.484192848205566 | True pKd: 6.872895240783691\n",
      "Predicted pKd: 5.962510108947754 | True pKd: 5.353596210479736\n",
      "Predicted pKd: 6.082056999206543 | True pKd: 8.040958404541016\n",
      "Predicted pKd: 8.589709281921387 | True pKd: 7.3665313720703125\n",
      "Predicted pKd: 7.5594682693481445 | True pKd: 9.853872299194336\n",
      "Predicted pKd: 9.408501625061035 | True pKd: 9.397939682006836\n",
      "Predicted pKd: 4.553712844848633 | True pKd: 4.801342964172363\n",
      "Predicted pKd: 5.785839080810547 | True pKd: 8.221848487854004\n",
      "Predicted pKd: 8.696564674377441 | True pKd: 13.886056900024414\n",
      "Predicted pKd: 4.743588447570801 | True pKd: 8.42021656036377\n",
      "Predicted pKd: 4.479025840759277 | True pKd: 4.7695512771606445\n",
      "Predicted pKd: 8.0443696975708 | True pKd: 10.301030158996582\n",
      "Predicted pKd: 9.208975791931152 | True pKd: 10.114073753356934\n",
      "Predicted pKd: 8.922813415527344 | True pKd: 8.397939682006836\n",
      "Predicted pKd: 9.74611759185791 | True pKd: 6.079354763031006\n",
      "Predicted pKd: 9.41109561920166 | True pKd: 9.113509178161621\n",
      "Predicted pKd: 7.480917930603027 | True pKd: 5.251811981201172\n",
      "Predicted pKd: 4.532739162445068 | True pKd: 4.342944145202637\n",
      "Predicted pKd: 7.3525896072387695 | True pKd: 8.586700439453125\n",
      "Predicted pKd: 8.666275978088379 | True pKd: 7.79587984085083\n",
      "Predicted pKd: 6.938899040222168 | True pKd: 7.6556077003479\n",
      "Predicted pKd: 7.446109771728516 | True pKd: 7.598599433898926\n",
      "Predicted pKd: 6.884122848510742 | True pKd: 6.477555751800537\n",
      "Predicted pKd: 9.736454963684082 | True pKd: 9.58004379272461\n",
      "Predicted pKd: 9.932499885559082 | True pKd: 9.991399765014648\n",
      "Predicted pKd: 9.40224552154541 | True pKd: 9.244125366210938\n",
      "Predicted pKd: 7.672489166259766 | True pKd: 7.4685211181640625\n",
      "Predicted pKd: 4.706565856933594 | True pKd: 5.552842140197754\n",
      "Predicted pKd: 9.813703536987305 | True pKd: 10.114073753356934\n",
      "Predicted pKd: 5.941685676574707 | True pKd: 5.7695512771606445\n",
      "Predicted pKd: 8.588614463806152 | True pKd: 8.041436195373535\n",
      "Predicted pKd: 6.629244804382324 | True pKd: 6.568636417388916\n",
      "Predicted pKd: 6.267765045166016 | True pKd: 4.838632106781006\n",
      "Predicted pKd: 6.513309478759766 | True pKd: 11.698969841003418\n",
      "Predicted pKd: 9.044873237609863 | True pKd: 9.712198257446289\n",
      "Predicted pKd: 7.765738487243652 | True pKd: 9.0\n",
      "Predicted pKd: 7.3603010177612305 | True pKd: 7.028260231018066\n",
      "Predicted pKd: 9.532797813415527 | True pKd: 10.896196365356445\n",
      "Predicted pKd: 9.725902557373047 | True pKd: 9.322393417358398\n",
      "Predicted pKd: 9.383440971374512 | True pKd: 11.079355239868164\n",
      "Predicted pKd: 6.270722389221191 | True pKd: 5.142667293548584\n",
      "Predicted pKd: 5.792444229125977 | True pKd: 5.6575775146484375\n",
      "Predicted pKd: 8.904004096984863 | True pKd: 8.826813697814941\n",
      "Predicted pKd: 7.047229766845703 | True pKd: 8.136676788330078\n",
      "Predicted pKd: 6.203769683837891 | True pKd: 5.8326826095581055\n",
      "Predicted pKd: 10.589703559875488 | True pKd: 13.58004379272461\n",
      "Predicted pKd: 5.186845779418945 | True pKd: 4.187086582183838\n",
      "Predicted pKd: 4.520888328552246 | True pKd: 3.698970079421997\n",
      "Predicted pKd: 4.766375541687012 | True pKd: 7.207608222961426\n",
      "Predicted pKd: 7.3824357986450195 | True pKd: 7.350665092468262\n",
      "Predicted pKd: 9.88939094543457 | True pKd: 11.254924774169922\n",
      "Predicted pKd: 4.704565048217773 | True pKd: 4.3625102043151855\n",
      "Predicted pKd: 8.951294898986816 | True pKd: 6.591760158538818\n",
      "Predicted pKd: 9.90886116027832 | True pKd: 8.267605781555176\n",
      "Predicted pKd: 6.245456695556641 | True pKd: 2.728158473968506\n",
      "Predicted pKd: 8.496455192565918 | True pKd: 6.958607196807861\n",
      "Predicted pKd: 7.34133243560791 | True pKd: 11.14448070526123\n",
      "Predicted pKd: 8.177322387695312 | True pKd: 8.481486320495605\n",
      "Predicted pKd: 9.074703216552734 | True pKd: 9.16749095916748\n",
      "Predicted pKd: 8.955504417419434 | True pKd: 6.0\n",
      "Predicted pKd: 5.9190568923950195 | True pKd: 5.815308570861816\n",
      "Predicted pKd: 7.708931922912598 | True pKd: 5.522878646850586\n",
      "Predicted pKd: 10.456210136413574 | True pKd: 8.270025253295898\n",
      "Predicted pKd: 5.427770614624023 | True pKd: 5.207608222961426\n",
      "Predicted pKd: 7.767182350158691 | True pKd: 9.317854881286621\n",
      "Predicted pKd: 5.468453407287598 | True pKd: 6.116338729858398\n",
      "Predicted pKd: 4.984172821044922 | True pKd: 5.248323440551758\n",
      "Predicted pKd: 6.764643669128418 | True pKd: 6.823908805847168\n",
      "Predicted pKd: 7.460109710693359 | True pKd: 7.148741722106934\n",
      "Predicted pKd: 6.7456159591674805 | True pKd: 10.455931663513184\n",
      "Predicted pKd: 4.661054611206055 | True pKd: 5.602059841156006\n",
      "Predicted pKd: 5.451613426208496 | True pKd: 5.031517028808594\n",
      "Predicted pKd: 5.790722846984863 | True pKd: 5.443697452545166\n",
      "Predicted pKd: 6.378951072692871 | True pKd: 5.443697452545166\n",
      "Predicted pKd: 5.976997375488281 | True pKd: 6.619788646697998\n",
      "Predicted pKd: 6.068692207336426 | True pKd: 10.585026741027832\n",
      "Predicted pKd: 6.1360015869140625 | True pKd: 5.602059841156006\n",
      "Predicted pKd: 7.639723777770996 | True pKd: 8.0\n",
      "Predicted pKd: 6.783869743347168 | True pKd: 6.3665313720703125\n",
      "Predicted pKd: 7.0638580322265625 | True pKd: 8.619789123535156\n",
      "Predicted pKd: 12.980484008789062 | True pKd: 13.308034896850586\n",
      "Predicted pKd: 7.674961090087891 | True pKd: 7.149966716766357\n",
      "Predicted pKd: 10.094093322753906 | True pKd: 10.42021656036377\n",
      "Predicted pKd: 7.317254066467285 | True pKd: 7.017728805541992\n",
      "Predicted pKd: 8.373347282409668 | True pKd: 8.251811981201172\n",
      "Predicted pKd: 6.191205978393555 | True pKd: 6.397940158843994\n",
      "Predicted pKd: 9.54806137084961 | True pKd: 7.114073753356934\n",
      "Predicted pKd: 5.372815132141113 | True pKd: 5.431798458099365\n",
      "Predicted pKd: 4.95540714263916 | True pKd: 5.221848964691162\n",
      "Predicted pKd: 5.62473201751709 | True pKd: 7.0\n",
      "Predicted pKd: 7.6863908767700195 | True pKd: 7.585026741027832\n",
      "Predicted pKd: 5.455487251281738 | True pKd: 5.809668064117432\n",
      "Predicted pKd: 6.438145637512207 | True pKd: 10.356547355651855\n",
      "Predicted pKd: 7.766609191894531 | True pKd: 7.7695512771606445\n",
      "Predicted pKd: 8.139657020568848 | True pKd: 10.78515625\n",
      "Predicted pKd: 6.954383850097656 | True pKd: 8.806875228881836\n",
      "Predicted pKd: 7.565082550048828 | True pKd: 6.866461277008057\n",
      "Predicted pKd: 5.933409690856934 | True pKd: 5.744727611541748\n",
      "Predicted pKd: 5.471879005432129 | True pKd: 5.735182285308838\n",
      "Predicted pKd: 4.535179138183594 | True pKd: 4.8181562423706055\n",
      "Predicted pKd: 9.079622268676758 | True pKd: 7.301030158996582\n",
      "Predicted pKd: 9.122671127319336 | True pKd: 9.244125366210938\n",
      "Predicted pKd: 9.557145118713379 | True pKd: 9.431797981262207\n",
      "Predicted pKd: 6.164484977722168 | True pKd: 5.472370147705078\n",
      "Predicted pKd: 5.549647331237793 | True pKd: 5.906578540802002\n",
      "Predicted pKd: 8.271347999572754 | True pKd: 8.998266220092773\n",
      "Predicted pKd: 9.071650505065918 | True pKd: 9.301030158996582\n",
      "Predicted pKd: 9.710151672363281 | True pKd: 10.187087059020996\n",
      "Predicted pKd: 10.122319221496582 | True pKd: 8.939302444458008\n",
      "Predicted pKd: 4.972129821777344 | True pKd: 2.4659738540649414\n",
      "Predicted pKd: 9.139548301696777 | True pKd: 9.95860767364502\n",
      "Predicted pKd: 7.139228820800781 | True pKd: 7.619788646697998\n",
      "Predicted pKd: 9.772374153137207 | True pKd: 9.114073753356934\n",
      "Predicted pKd: 6.18787956237793 | True pKd: 6.15490198135376\n",
      "Predicted pKd: 6.919100761413574 | True pKd: 9.522878646850586\n",
      "Predicted pKd: 6.677845001220703 | True pKd: 5.632644176483154\n",
      "Predicted pKd: 6.1695451736450195 | True pKd: 3.619788646697998\n",
      "Predicted pKd: 9.806852340698242 | True pKd: 10.279014587402344\n",
      "Predicted pKd: 4.6560587882995605 | True pKd: 4.494850158691406\n",
      "Predicted pKd: 4.8663787841796875 | True pKd: 4.567030906677246\n",
      "Predicted pKd: 7.8391523361206055 | True pKd: 7.638272285461426\n",
      "Predicted pKd: 7.052300453186035 | True pKd: 7.92081880569458\n",
      "Predicted pKd: 7.486569404602051 | True pKd: 10.698969841003418\n",
      "Predicted pKd: 7.337252616882324 | True pKd: 7.698969841003418\n",
      "Predicted pKd: 6.5694780349731445 | True pKd: 6.036211967468262\n",
      "Predicted pKd: 9.756977081298828 | True pKd: 10.906578063964844\n",
      "Predicted pKd: 9.761301040649414 | True pKd: 10.42945671081543\n",
      "Predicted pKd: 8.604292869567871 | True pKd: 9.886056900024414\n",
      "Predicted pKd: 4.127719402313232 | True pKd: 4.903090000152588\n",
      "Predicted pKd: 5.279173851013184 | True pKd: 5.580044269561768\n",
      "Predicted pKd: 7.19028377532959 | True pKd: 8.013228416442871\n",
      "Predicted pKd: 7.608659744262695 | True pKd: 8.221848487854004\n",
      "Predicted pKd: 5.559118270874023 | True pKd: 4.096909999847412\n",
      "Predicted pKd: 8.588990211486816 | True pKd: 6.337242126464844\n",
      "Predicted pKd: 10.039836883544922 | True pKd: 8.95078182220459\n",
      "Predicted pKd: 9.965814590454102 | True pKd: 10.397939682006836\n",
      "Predicted pKd: 5.580933570861816 | True pKd: 4.376750946044922\n",
      "Predicted pKd: 5.552221298217773 | True pKd: 5.97469425201416\n",
      "Predicted pKd: 9.361236572265625 | True pKd: 10.175873756408691\n",
      "Predicted pKd: 7.705436706542969 | True pKd: 6.070580959320068\n",
      "Predicted pKd: 7.22503662109375 | True pKd: 11.709965705871582\n",
      "Predicted pKd: 8.661706924438477 | True pKd: 7.821022987365723\n",
      "Predicted pKd: 3.707817316055298 | True pKd: 5.698969841003418\n",
      "Predicted pKd: 7.319632530212402 | True pKd: 6.164309501647949\n",
      "Predicted pKd: 6.295844078063965 | True pKd: 1.3925449848175049\n",
      "Predicted pKd: 9.740591049194336 | True pKd: 10.175873756408691\n",
      "Predicted pKd: 5.398992538452148 | True pKd: 5.853871822357178\n",
      "Predicted pKd: 6.604310035705566 | True pKd: 4.92081880569458\n",
      "Predicted pKd: 9.338370323181152 | True pKd: 6.7695512771606445\n",
      "Predicted pKd: 10.50167179107666 | True pKd: 10.812479019165039\n",
      "Predicted pKd: 7.455226898193359 | True pKd: 7.165579319000244\n",
      "Predicted pKd: 9.384361267089844 | True pKd: 9.853872299194336\n",
      "Predicted pKd: 4.9087018966674805 | True pKd: 4.220403671264648\n",
      "Predicted pKd: 9.44581413269043 | True pKd: 10.114073753356934\n",
      "Predicted pKd: 7.258561134338379 | True pKd: 9.602060317993164\n",
      "Predicted pKd: 9.554173469543457 | True pKd: 9.886056900024414\n",
      "Predicted pKd: 6.836062431335449 | True pKd: 6.821022987365723\n",
      "Predicted pKd: 7.271692276000977 | True pKd: 7.721246242523193\n",
      "Predicted pKd: 7.179720878601074 | True pKd: 5.221848964691162\n",
      "Predicted pKd: 12.96837329864502 | True pKd: 13.114638328552246\n",
      "Predicted pKd: 10.17287540435791 | True pKd: 8.175873756408691\n",
      "Predicted pKd: 4.921127796173096 | True pKd: 4.723538398742676\n",
      "Predicted pKd: 5.436944007873535 | True pKd: 5.072116374969482\n",
      "Predicted pKd: 8.279783248901367 | True pKd: 8.207608222961426\n",
      "Predicted pKd: 9.458551406860352 | True pKd: 9.91009521484375\n",
      "Predicted pKd: 5.1475043296813965 | True pKd: 6.267606258392334\n",
      "Predicted pKd: 7.669147491455078 | True pKd: 10.152427673339844\n",
      "Predicted pKd: 8.505578994750977 | True pKd: 8.279014587402344\n",
      "Predicted pKd: 6.328926086425781 | True pKd: 7.721246242523193\n",
      "Predicted pKd: 6.837978363037109 | True pKd: 9.0\n",
      "Predicted pKd: 9.177783966064453 | True pKd: 9.154901504516602\n",
      "Predicted pKd: 8.944343566894531 | True pKd: 7.361510753631592\n",
      "Predicted pKd: 7.6729326248168945 | True pKd: 7.703334808349609\n",
      "Predicted pKd: 7.7662811279296875 | True pKd: 5.838632106781006\n",
      "Predicted pKd: 5.049338340759277 | True pKd: 4.844664096832275\n",
      "Predicted pKd: 6.470241546630859 | True pKd: 5.0\n",
      "Predicted pKd: 5.606183052062988 | True pKd: 5.823908805847168\n",
      "Predicted pKd: 5.494187355041504 | True pKd: 5.180456161499023\n",
      "Predicted pKd: 8.101669311523438 | True pKd: 7.133121967315674\n",
      "Predicted pKd: 4.525622367858887 | True pKd: 4.477555751800537\n",
      "Predicted pKd: 7.778953552246094 | True pKd: 7.518557548522949\n",
      "Predicted pKd: 6.975986480712891 | True pKd: 8.130767822265625\n",
      "Predicted pKd: 6.790044784545898 | True pKd: 5.92081880569458\n",
      "Predicted pKd: 12.77425479888916 | True pKd: 13.567030906677246\n",
      "Predicted pKd: 5.842414855957031 | True pKd: 5.096909999847412\n",
      "Predicted pKd: 6.895886421203613 | True pKd: 6.591760158538818\n",
      "Predicted pKd: 6.234033584594727 | True pKd: 6.1191864013671875\n",
      "Predicted pKd: 8.491678237915039 | True pKd: 9.221848487854004\n",
      "Predicted pKd: 8.093111991882324 | True pKd: 5.994390487670898\n",
      "Predicted pKd: 8.05615234375 | True pKd: 7.3565473556518555\n",
      "Predicted pKd: 13.75182056427002 | True pKd: 9.154901504516602\n",
      "Predicted pKd: 6.353837013244629 | True pKd: 4.397940158843994\n",
      "Predicted pKd: 8.83938217163086 | True pKd: 9.638272285461426\n",
      "Predicted pKd: 7.495290756225586 | True pKd: 12.468521118164062\n",
      "Predicted pKd: 9.402389526367188 | True pKd: 9.0\n",
      "Predicted pKd: 10.37413501739502 | True pKd: 10.747146606445312\n",
      "Predicted pKd: 7.478311538696289 | True pKd: 9.244125366210938\n",
      "Predicted pKd: 7.161126136779785 | True pKd: 7.958607196807861\n",
      "Predicted pKd: 7.276699066162109 | True pKd: 4.602059841156006\n",
      "Predicted pKd: 6.635409355163574 | True pKd: 9.045757293701172\n",
      "Predicted pKd: 9.712423324584961 | True pKd: 7.585026741027832\n",
      "Predicted pKd: 6.885034561157227 | True pKd: 6.602059841156006\n",
      "Predicted pKd: 9.85854721069336 | True pKd: 9.677781105041504\n",
      "Predicted pKd: 9.759193420410156 | True pKd: 10.146302223205566\n",
      "Predicted pKd: 6.401435852050781 | True pKd: 7.602059841156006\n",
      "Predicted pKd: 8.147918701171875 | True pKd: 5.187086582183838\n",
      "Predicted pKd: 7.336470603942871 | True pKd: 4.906578540802002\n",
      "Predicted pKd: 4.700431823730469 | True pKd: 3.7520267963409424\n",
      "Predicted pKd: 9.303275108337402 | True pKd: 7.508638381958008\n",
      "Predicted pKd: 7.498323440551758 | True pKd: 8.321481704711914\n",
      "Predicted pKd: 8.551461219787598 | True pKd: 8.71669864654541\n",
      "Predicted pKd: 12.807388305664062 | True pKd: 12.186418533325195\n",
      "Predicted pKd: 6.16384220123291 | True pKd: 7.823908805847168\n",
      "Predicted pKd: 7.211305618286133 | True pKd: 5.161150932312012\n",
      "Predicted pKd: 9.952482223510742 | True pKd: 9.443697929382324\n",
      "Predicted pKd: 7.427994728088379 | True pKd: 6.272458553314209\n",
      "Predicted pKd: 6.201441764831543 | True pKd: 4.44733190536499\n",
      "Predicted pKd: 9.516845703125 | True pKd: 11.0\n",
      "Predicted pKd: 5.503090858459473 | True pKd: 5.0371575355529785\n",
      "Predicted pKd: 8.28449821472168 | True pKd: 9.09691047668457\n",
      "Predicted pKd: 9.401412010192871 | True pKd: 9.301030158996582\n",
      "Predicted pKd: 6.618686676025391 | True pKd: 5.0\n",
      "Predicted pKd: 6.759942054748535 | True pKd: 6.096909999847412\n",
      "Predicted pKd: 5.966775894165039 | True pKd: 5.79587984085083\n",
      "Predicted pKd: 5.471617698669434 | True pKd: 5.86012077331543\n",
      "Predicted pKd: 5.036303520202637 | True pKd: 6.047502517700195\n",
      "Predicted pKd: 4.951633453369141 | True pKd: 4.619788646697998\n",
      "Predicted pKd: 9.83575439453125 | True pKd: 10.230622291564941\n",
      "Predicted pKd: 7.081233024597168 | True pKd: 6.3665313720703125\n",
      "Predicted pKd: 8.656333923339844 | True pKd: 8.95860767364502\n",
      "Predicted pKd: 9.49215316772461 | True pKd: 10.086186408996582\n",
      "Predicted pKd: 4.86623477935791 | True pKd: 5.070580959320068\n",
      "Predicted pKd: 5.467259407043457 | True pKd: 7.397940158843994\n",
      "Predicted pKd: 6.041370391845703 | True pKd: 6.004364967346191\n",
      "Predicted pKd: 7.762162208557129 | True pKd: 5.77211332321167\n",
      "Predicted pKd: 7.201071739196777 | True pKd: 5.552842140197754\n",
      "Predicted pKd: 7.313902854919434 | True pKd: 7.75448751449585\n",
      "Predicted pKd: 9.181360244750977 | True pKd: 9.756961822509766\n",
      "Predicted pKd: 8.54934024810791 | True pKd: 7.92081880569458\n",
      "Predicted pKd: 5.5482177734375 | True pKd: 5.15490198135376\n",
      "Predicted pKd: 7.396485328674316 | True pKd: 5.465973854064941\n",
      "Predicted pKd: 6.9042816162109375 | True pKd: 7.348721981048584\n",
      "Predicted pKd: 7.964529991149902 | True pKd: 9.040958404541016\n",
      "Predicted pKd: 4.950387954711914 | True pKd: 4.75448751449585\n",
      "Predicted pKd: 12.721681594848633 | True pKd: 13.349692344665527\n",
      "Predicted pKd: 10.22418212890625 | True pKd: 10.924452781677246\n",
      "Predicted pKd: 5.864767074584961 | True pKd: 5.92081880569458\n",
      "Predicted pKd: 9.405381202697754 | True pKd: 8.557519912719727\n",
      "Predicted pKd: 9.274279594421387 | True pKd: 8.698969841003418\n",
      "Predicted pKd: 8.179571151733398 | True pKd: 9.09691047668457\n",
      "Predicted pKd: 5.415226936340332 | True pKd: 7.787812232971191\n",
      "Predicted pKd: 9.049930572509766 | True pKd: 8.254924774169922\n",
      "Predicted pKd: 4.9761552810668945 | True pKd: 3.698970079421997\n",
      "Predicted pKd: 9.522189140319824 | True pKd: 11.0\n",
      "Predicted pKd: 12.04582691192627 | True pKd: 9.97469425201416\n",
      "Predicted pKd: 11.090510368347168 | True pKd: 10.74472713470459\n",
      "Predicted pKd: 9.409777641296387 | True pKd: 9.16749095916748\n",
      "Predicted pKd: 9.54096794128418 | True pKd: 11.638272285461426\n",
      "Predicted pKd: 6.507684707641602 | True pKd: 6.045757293701172\n",
      "Predicted pKd: 7.686576843261719 | True pKd: 8.522878646850586\n",
      "Predicted pKd: 7.2124834060668945 | True pKd: 7.2924299240112305\n",
      "Predicted pKd: 9.358440399169922 | True pKd: 9.95860767364502\n",
      "Predicted pKd: 6.660919189453125 | True pKd: 6.714442729949951\n",
      "Predicted pKd: 7.354515075683594 | True pKd: 8.33161449432373\n",
      "Predicted pKd: 9.633563041687012 | True pKd: 10.28399658203125\n",
      "Predicted pKd: 8.851682662963867 | True pKd: 7.221848964691162\n",
      "Predicted pKd: 6.942779541015625 | True pKd: 8.154901504516602\n",
      "Predicted pKd: 6.384832382202148 | True pKd: 3.823908805847168\n",
      "Predicted pKd: 7.256996154785156 | True pKd: 8.361510276794434\n",
      "Predicted pKd: 9.19584846496582 | True pKd: 7.568636417388916\n",
      "Predicted pKd: 5.987442970275879 | True pKd: 6.665546417236328\n",
      "Predicted pKd: 6.878231048583984 | True pKd: 7.4202165603637695\n",
      "Predicted pKd: 9.74550724029541 | True pKd: 8.698969841003418\n",
      "Predicted pKd: 9.132580757141113 | True pKd: 9.397939682006836\n",
      "Predicted pKd: 5.6303300857543945 | True pKd: 9.698969841003418\n",
      "Predicted pKd: 10.668130874633789 | True pKd: 9.747146606445312\n",
      "Predicted pKd: 5.860342979431152 | True pKd: 3.8728952407836914\n",
      "Predicted pKd: 4.970232963562012 | True pKd: 4.352617263793945\n",
      "Predicted pKd: 12.844025611877441 | True pKd: 13.649751663208008\n",
      "Predicted pKd: 6.91639518737793 | True pKd: 6.494850158691406\n",
      "Predicted pKd: 9.660710334777832 | True pKd: 10.301030158996582\n",
      "Predicted pKd: 6.703061103820801 | True pKd: 7.017728805541992\n",
      "Predicted pKd: 6.825930595397949 | True pKd: 6.522878646850586\n",
      "Predicted pKd: 5.184442520141602 | True pKd: 5.600326061248779\n",
      "Predicted pKd: 6.501626014709473 | True pKd: 5.443697452545166\n",
      "Predicted pKd: 5.633428573608398 | True pKd: 6.050610065460205\n",
      "Predicted pKd: 10.053436279296875 | True pKd: 10.494850158691406\n",
      "Predicted pKd: 7.975259780883789 | True pKd: 8.045757293701172\n",
      "Predicted pKd: 7.4702253341674805 | True pKd: 7.6575775146484375\n",
      "Predicted pKd: 10.041573524475098 | True pKd: 8.114073753356934\n",
      "Predicted pKd: 4.972092628479004 | True pKd: 4.2306227684021\n",
      "Predicted pKd: 6.016934394836426 | True pKd: 4.337242126464844\n",
      "Predicted pKd: 5.237174987792969 | True pKd: 7.431798458099365\n",
      "Predicted pKd: 8.387718200683594 | True pKd: 8.185087203979492\n",
      "Predicted pKd: 13.864391326904297 | True pKd: 14.769551277160645\n",
      "Predicted pKd: 9.813346862792969 | True pKd: 9.0\n",
      "Predicted pKd: 5.584189414978027 | True pKd: 5.376750946044922\n",
      "Predicted pKd: 8.241640090942383 | True pKd: 8.214670181274414\n",
      "Predicted pKd: 5.07235860824585 | True pKd: 3.853872060775757\n",
      "Predicted pKd: 8.898412704467773 | True pKd: 8.455931663513184\n",
      "Predicted pKd: 7.976431846618652 | True pKd: 7.394694805145264\n",
      "Predicted pKd: 7.732405662536621 | True pKd: 8.037631034851074\n",
      "Predicted pKd: 6.2763166427612305 | True pKd: 6.28399658203125\n",
      "Predicted pKd: 5.133949279785156 | True pKd: 4.602059841156006\n",
      "Predicted pKd: 6.91854190826416 | True pKd: 5.6575775146484375\n",
      "Predicted pKd: 8.172175407409668 | True pKd: 8.657577514648438\n",
      "Predicted pKd: 7.373859405517578 | True pKd: 6.7798919677734375\n",
      "Predicted pKd: 5.124171257019043 | True pKd: 4.042871952056885\n",
      "Predicted pKd: 4.350522994995117 | True pKd: 4.397940158843994\n",
      "Predicted pKd: 7.591217041015625 | True pKd: 7.879426002502441\n",
      "Predicted pKd: 12.78985595703125 | True pKd: 11.774690628051758\n",
      "Predicted pKd: 5.500699996948242 | True pKd: 5.481485843658447\n",
      "Predicted pKd: 9.257411003112793 | True pKd: 8.917214393615723\n",
      "Predicted pKd: 9.357333183288574 | True pKd: 9.146302223205566\n",
      "Predicted pKd: 6.900444984436035 | True pKd: 6.3665313720703125\n",
      "Predicted pKd: 9.398720741271973 | True pKd: 8.387216567993164\n",
      "Predicted pKd: 8.3499174118042 | True pKd: 9.045757293701172\n",
      "Predicted pKd: 7.6931352615356445 | True pKd: 5.619788646697998\n",
      "Predicted pKd: 8.224358558654785 | True pKd: 7.602059841156006\n",
      "Predicted pKd: 6.289036750793457 | True pKd: 13.230622291564941\n",
      "Predicted pKd: 7.441570281982422 | True pKd: 8.026871681213379\n",
      "Predicted pKd: 5.59322452545166 | True pKd: 6.490931987762451\n",
      "Predicted pKd: 9.5466947555542 | True pKd: 9.107905387878418\n",
      "Predicted pKd: 5.701601028442383 | True pKd: 7.251811981201172\n",
      "Predicted pKd: 7.965899467468262 | True pKd: 6.698969841003418\n",
      "Predicted pKd: 10.059396743774414 | True pKd: 8.812479019165039\n",
      "Predicted pKd: 4.978302478790283 | True pKd: 4.9871625900268555\n",
      "Predicted pKd: 10.504122734069824 | True pKd: 11.361510276794434\n",
      "Predicted pKd: 7.435262680053711 | True pKd: 6.114638805389404\n",
      "Predicted pKd: 8.726757049560547 | True pKd: 7.585026741027832\n",
      "Predicted pKd: 8.471561431884766 | True pKd: 1.3187587261199951\n",
      "Predicted pKd: 8.402132034301758 | True pKd: 7.2790141105651855\n",
      "Predicted pKd: 8.666545867919922 | True pKd: 9.714442253112793\n",
      "Predicted pKd: 9.036330223083496 | True pKd: 9.0\n",
      "Predicted pKd: 6.669184684753418 | True pKd: 6.962573528289795\n",
      "Predicted pKd: 4.8438639640808105 | True pKd: 3.4685211181640625\n",
      "Predicted pKd: 5.682155609130859 | True pKd: 8.508638381958008\n",
      "Predicted pKd: 7.408473968505859 | True pKd: 8.494850158691406\n",
      "Predicted pKd: 7.609975814819336 | True pKd: 7.854492664337158\n",
      "Predicted pKd: 7.126594543457031 | True pKd: 6.698969841003418\n",
      "Predicted pKd: 6.188820838928223 | True pKd: 6.698969841003418\n",
      "Predicted pKd: 8.995064735412598 | True pKd: 8.236572265625\n",
      "Predicted pKd: 4.450706481933594 | True pKd: 4.211831569671631\n",
      "Predicted pKd: 12.039785385131836 | True pKd: 12.207608222961426\n",
      "Predicted pKd: 4.9545512199401855 | True pKd: 5.241845607757568\n",
      "Predicted pKd: 8.001928329467773 | True pKd: 9.413413047790527\n",
      "Predicted pKd: 7.680384635925293 | True pKd: 5.522878646850586\n",
      "Predicted pKd: 6.858007431030273 | True pKd: 6.045757293701172\n",
      "Predicted pKd: 10.280182838439941 | True pKd: 10.543634414672852\n",
      "Predicted pKd: 5.580699920654297 | True pKd: 5.279840469360352\n",
      "Predicted pKd: 6.936196327209473 | True pKd: 6.809668064117432\n",
      "Predicted pKd: 6.433900833129883 | True pKd: 3.007932662963867\n",
      "Predicted pKd: 9.787270545959473 | True pKd: 9.50445556640625\n",
      "Predicted pKd: 8.243142127990723 | True pKd: 8.998266220092773\n",
      "Predicted pKd: 7.4554243087768555 | True pKd: 10.0\n",
      "Predicted pKd: 8.533926963806152 | True pKd: 10.154901504516602\n",
      "Predicted pKd: 9.516693115234375 | True pKd: 9.494850158691406\n",
      "Predicted pKd: 7.134828567504883 | True pKd: 6.442492961883545\n",
      "Predicted pKd: 6.7562408447265625 | True pKd: 5.079354763031006\n",
      "Predicted pKd: 7.278332710266113 | True pKd: 4.739928722381592\n",
      "Predicted pKd: 8.406188011169434 | True pKd: 5.638272285461426\n",
      "Predicted pKd: 9.098857879638672 | True pKd: 9.443697929382324\n",
      "Predicted pKd: 9.712132453918457 | True pKd: 9.586700439453125\n",
      "Predicted pKd: 6.160112380981445 | True pKd: 6.0\n",
      "Predicted pKd: 4.957322597503662 | True pKd: 5.040005207061768\n",
      "Predicted pKd: 5.742393493652344 | True pKd: 7.443697452545166\n",
      "Predicted pKd: 8.636507987976074 | True pKd: 10.474955558776855\n",
      "Predicted pKd: 8.20639705657959 | True pKd: 9.045757293701172\n",
      "Predicted pKd: 4.407344818115234 | True pKd: 4.744727611541748\n",
      "Predicted pKd: 7.83936882019043 | True pKd: 7.692503929138184\n",
      "Predicted pKd: 5.970335960388184 | True pKd: 3.795880079269409\n",
      "Predicted pKd: 9.115266799926758 | True pKd: 8.468521118164062\n",
      "Predicted pKd: 6.035366058349609 | True pKd: 6.698969841003418\n",
      "Predicted pKd: 7.790594100952148 | True pKd: 7.079354763031006\n",
      "Predicted pKd: 5.930342674255371 | True pKd: 7.756961822509766\n",
      "Predicted pKd: 7.841141700744629 | True pKd: 10.759450912475586\n",
      "Predicted pKd: 7.341302871704102 | True pKd: 5.8326826095581055\n",
      "Predicted pKd: 5.530611038208008 | True pKd: 3.0061230659484863\n",
      "Predicted pKd: 5.151924133300781 | True pKd: 3.5702476501464844\n",
      "Predicted pKd: 9.40414810180664 | True pKd: 9.130767822265625\n",
      "Predicted pKd: 4.357739448547363 | True pKd: 3.4685211181640625\n",
      "Predicted pKd: 8.25493049621582 | True pKd: 8.95860767364502\n",
      "Predicted pKd: 6.33001708984375 | True pKd: 6.935542106628418\n",
      "Predicted pKd: 7.566747665405273 | True pKd: 4.882728576660156\n",
      "Predicted pKd: 8.646252632141113 | True pKd: 8.431797981262207\n",
      "Predicted pKd: 8.450393676757812 | True pKd: 5.161150932312012\n",
      "Predicted pKd: 8.143318176269531 | True pKd: 7.84163761138916\n",
      "Predicted pKd: 6.191385269165039 | True pKd: 6.267606258392334\n",
      "Predicted pKd: 9.089070320129395 | True pKd: 9.267605781555176\n",
      "Predicted pKd: 5.48355770111084 | True pKd: 6.026872158050537\n",
      "Predicted pKd: 8.83560562133789 | True pKd: 9.267605781555176\n",
      "Predicted pKd: 10.119316101074219 | True pKd: 9.508638381958008\n",
      "Predicted pKd: 6.302228927612305 | True pKd: 5.179141998291016\n",
      "Predicted pKd: 8.433613777160645 | True pKd: 7.318758964538574\n",
      "Predicted pKd: 9.90027141571045 | True pKd: 9.838631629943848\n",
      "Predicted pKd: 7.17811393737793 | True pKd: 7.958607196807861\n",
      "Predicted pKd: 5.2889204025268555 | True pKd: 3.950782060623169\n",
      "Predicted pKd: 9.632329940795898 | True pKd: 10.58004379272461\n",
      "Predicted pKd: 4.135104179382324 | True pKd: 4.91542387008667\n",
      "Predicted pKd: 6.455284118652344 | True pKd: 4.232844352722168\n",
      "Predicted pKd: 6.153512001037598 | True pKd: 5.207608222961426\n",
      "Predicted pKd: 5.210605621337891 | True pKd: 6.32239294052124\n",
      "Predicted pKd: 6.044612884521484 | True pKd: 6.221848964691162\n",
      "Predicted pKd: 9.431597709655762 | True pKd: 9.0\n",
      "Predicted pKd: 7.0978851318359375 | True pKd: 7.096909999847412\n",
      "Predicted pKd: 5.446819305419922 | True pKd: 5.161150932312012\n",
      "Predicted pKd: 7.349488258361816 | True pKd: 7.677780628204346\n",
      "Predicted pKd: 7.770944595336914 | True pKd: 8.275724411010742\n",
      "Predicted pKd: 5.843427658081055 | True pKd: 7.053056716918945\n",
      "Predicted pKd: 5.0445404052734375 | True pKd: 5.0\n",
      "Predicted pKd: 7.436527252197266 | True pKd: 6.50445556640625\n",
      "Predicted pKd: 5.655805587768555 | True pKd: 3.522878646850586\n",
      "Predicted pKd: 6.200405120849609 | True pKd: 8.443697929382324\n",
      "Predicted pKd: 7.845134735107422 | True pKd: 10.677781105041504\n",
      "Predicted pKd: 7.216193199157715 | True pKd: 8.387216567993164\n",
      "Predicted pKd: 6.028680801391602 | True pKd: 5.688246250152588\n",
      "Predicted pKd: 4.862994194030762 | True pKd: 4.0809221267700195\n",
      "Predicted pKd: 7.27324104309082 | True pKd: 6.4202165603637695\n",
      "Predicted pKd: 10.603738784790039 | True pKd: 9.455931663513184\n",
      "Predicted pKd: 6.92689323425293 | True pKd: 6.070580959320068\n",
      "Predicted pKd: 5.55535888671875 | True pKd: 6.1687703132629395\n",
      "Predicted pKd: 8.11093807220459 | True pKd: 9.698969841003418\n",
      "Predicted pKd: 8.029070854187012 | True pKd: 7.71669864654541\n",
      "Predicted pKd: 5.2938103675842285 | True pKd: 7.301030158996582\n",
      "Predicted pKd: 12.057408332824707 | True pKd: 10.4485502243042\n",
      "Predicted pKd: 4.8356523513793945 | True pKd: 4.585026741027832\n",
      "Predicted pKd: 10.592278480529785 | True pKd: 11.50445556640625\n",
      "Predicted pKd: 9.9031343460083 | True pKd: 10.041436195373535\n",
      "Predicted pKd: 10.316377639770508 | True pKd: 10.341988563537598\n",
      "Predicted pKd: 8.553253173828125 | True pKd: 9.568635940551758\n",
      "Predicted pKd: 8.182082176208496 | True pKd: 7.380906581878662\n",
      "Predicted pKd: 9.115513801574707 | True pKd: 8.86966609954834\n",
      "Predicted pKd: 4.72606086730957 | True pKd: 4.361510753631592\n",
      "Predicted pKd: 7.433786392211914 | True pKd: 6.542118072509766\n",
      "Predicted pKd: 5.1769514083862305 | True pKd: 7.259637355804443\n",
      "Predicted pKd: 8.454585075378418 | True pKd: 7.619788646697998\n",
      "Predicted pKd: 7.4506120681762695 | True pKd: 8.619789123535156\n",
      "Predicted pKd: 5.805066108703613 | True pKd: 5.107905387878418\n",
      "Predicted pKd: 8.301350593566895 | True pKd: 5.721246242523193\n",
      "Predicted pKd: 8.81105899810791 | True pKd: 8.356547355651855\n",
      "Predicted pKd: 5.964326858520508 | True pKd: 5.838632106781006\n",
      "Predicted pKd: 7.30640983581543 | True pKd: 8.322393417358398\n",
      "Predicted pKd: 6.10911750793457 | True pKd: 6.0809221267700195\n",
      "Predicted pKd: 6.004901885986328 | True pKd: 7.12493896484375\n",
      "Predicted pKd: 8.290600776672363 | True pKd: 10.236572265625\n",
      "Predicted pKd: 9.791993141174316 | True pKd: 14.0\n",
      "Predicted pKd: 8.918188095092773 | True pKd: 10.74472713470459\n",
      "Predicted pKd: 8.828027725219727 | True pKd: 8.619789123535156\n",
      "Predicted pKd: 6.487771987915039 | True pKd: 8.522878646850586\n",
      "Predicted pKd: 6.23306941986084 | True pKd: 5.853871822357178\n",
      "Predicted pKd: 8.258096694946289 | True pKd: 5.397940158843994\n",
      "Predicted pKd: 8.413809776306152 | True pKd: 7.522878646850586\n",
      "Predicted pKd: 7.448402404785156 | True pKd: 9.69680404663086\n",
      "Predicted pKd: 7.279270172119141 | True pKd: 6.017728805541992\n",
      "Predicted pKd: 7.821166038513184 | True pKd: 8.07572078704834\n",
      "Predicted pKd: 6.283708572387695 | True pKd: 7.096909999847412\n",
      "Predicted pKd: 5.018691062927246 | True pKd: 8.508638381958008\n",
      "Predicted pKd: 9.40794849395752 | True pKd: 9.251811981201172\n",
      "Predicted pKd: 5.013860702514648 | True pKd: 4.92081880569458\n",
      "Predicted pKd: 10.398873329162598 | True pKd: 10.455931663513184\n",
      "Predicted pKd: 9.151521682739258 | True pKd: 7.844664096832275\n",
      "Predicted pKd: 7.705926895141602 | True pKd: 9.443697929382324\n",
      "Predicted pKd: 5.017482280731201 | True pKd: 6.15490198135376\n",
      "Predicted pKd: 5.57037353515625 | True pKd: 6.040958404541016\n",
      "Predicted pKd: 8.481029510498047 | True pKd: 6.337242126464844\n",
      "Predicted pKd: 7.052121162414551 | True pKd: 7.360513687133789\n",
      "Predicted pKd: 8.6618070602417 | True pKd: 9.467246055603027\n",
      "Predicted pKd: 7.938274383544922 | True pKd: 8.221848487854004\n",
      "Predicted pKd: 4.1311845779418945 | True pKd: 4.73400354385376\n",
      "Predicted pKd: 8.049139976501465 | True pKd: 10.301030158996582\n",
      "Predicted pKd: 4.897789478302002 | True pKd: 4.546681880950928\n",
      "Predicted pKd: 10.1324462890625 | True pKd: 5.823908805847168\n",
      "Predicted pKd: 9.10866641998291 | True pKd: 9.0\n",
      "Predicted pKd: 5.536831855773926 | True pKd: 3.698970079421997\n",
      "Predicted pKd: 6.870613098144531 | True pKd: 8.0\n",
      "Predicted pKd: 8.559020042419434 | True pKd: 7.50307035446167\n",
      "Predicted pKd: 9.282267570495605 | True pKd: 8.681936264038086\n",
      "Predicted pKd: 10.863849639892578 | True pKd: 10.74472713470459\n",
      "Predicted pKd: 10.350347518920898 | True pKd: 11.522878646850586\n",
      "Predicted pKd: 6.377605438232422 | True pKd: 9.74472713470459\n",
      "Predicted pKd: 7.808854103088379 | True pKd: 6.28066873550415\n",
      "Predicted pKd: 5.724752426147461 | True pKd: 6.723538398742676\n",
      "Predicted pKd: 6.399442672729492 | True pKd: 7.522878646850586\n",
      "Predicted pKd: 7.330944061279297 | True pKd: 4.826813697814941\n",
      "Predicted pKd: 4.539638519287109 | True pKd: 4.297569274902344\n",
      "Predicted pKd: 8.271390914916992 | True pKd: 7.712198257446289\n",
      "Predicted pKd: 13.457926750183105 | True pKd: 12.619789123535156\n",
      "Predicted pKd: 10.507625579833984 | True pKd: 10.756961822509766\n",
      "Predicted pKd: 4.708070755004883 | True pKd: 4.863279342651367\n",
      "Predicted pKd: 7.32281494140625 | True pKd: 7.958607196807861\n",
      "Predicted pKd: 9.446450233459473 | True pKd: 9.602060317993164\n",
      "Predicted pKd: 7.3147478103637695 | True pKd: 8.522878646850586\n",
      "Predicted pKd: 8.998555183410645 | True pKd: 6.821022987365723\n",
      "Predicted pKd: 8.428091049194336 | True pKd: 7.522878646850586\n",
      "Predicted pKd: 8.777602195739746 | True pKd: 9.0\n",
      "Predicted pKd: 7.9665422439575195 | True pKd: 7.844664096832275\n",
      "Predicted pKd: 9.524740219116211 | True pKd: 10.408935546875\n",
      "Predicted pKd: 7.759489059448242 | True pKd: 7.3098039627075195\n",
      "Predicted pKd: 6.400307655334473 | True pKd: 7.71669864654541\n",
      "Predicted pKd: 4.989868640899658 | True pKd: 4.2441253662109375\n",
      "Predicted pKd: 4.883345603942871 | True pKd: 3.92081880569458\n",
      "Predicted pKd: 7.426153182983398 | True pKd: 7.226213455200195\n",
      "Predicted pKd: 5.944146156311035 | True pKd: 5.79587984085083\n",
      "Predicted pKd: 5.419360160827637 | True pKd: 6.031517028808594\n",
      "Predicted pKd: 4.288776397705078 | True pKd: 3.886056661605835\n",
      "Predicted pKd: 7.320662498474121 | True pKd: 8.180456161499023\n",
      "Predicted pKd: 4.999678611755371 | True pKd: 4.84163761138916\n",
      "Predicted pKd: 6.718905448913574 | True pKd: 7.260427474975586\n",
      "Predicted pKd: 4.254608154296875 | True pKd: 4.7695512771606445\n",
      "Predicted pKd: 7.483037948608398 | True pKd: 4.452225208282471\n",
      "Predicted pKd: 8.592490196228027 | True pKd: 7.0\n",
      "Predicted pKd: 6.894598960876465 | True pKd: 10.16749095916748\n",
      "Predicted pKd: 7.307934761047363 | True pKd: 7.431798458099365\n",
      "Predicted pKd: 7.777608871459961 | True pKd: 7.289882659912109\n",
      "Predicted pKd: 8.406167984008789 | True pKd: 7.602059841156006\n",
      "Predicted pKd: 6.0446577072143555 | True pKd: 4.744727611541748\n",
      "Predicted pKd: 7.302223205566406 | True pKd: 7.4685211181640625\n",
      "Predicted pKd: 5.296054363250732 | True pKd: 4.275723934173584\n",
      "Predicted pKd: 8.662450790405273 | True pKd: 9.126679420471191\n",
      "Predicted pKd: 8.916683197021484 | True pKd: 9.804100036621094\n",
      "Predicted pKd: 4.9569926261901855 | True pKd: 5.28399658203125\n",
      "Predicted pKd: 10.819308280944824 | True pKd: 10.920818328857422\n",
      "Predicted pKd: 8.1095609664917 | True pKd: 7.387216091156006\n",
      "Predicted pKd: 9.303025245666504 | True pKd: 8.522878646850586\n",
      "Predicted pKd: 7.483921051025391 | True pKd: 8.11861515045166\n",
      "Predicted pKd: 7.022369384765625 | True pKd: 7.455932140350342\n",
      "Predicted pKd: 5.359611511230469 | True pKd: 5.200659275054932\n",
      "Predicted pKd: 6.194518089294434 | True pKd: 9.28399658203125\n",
      "Predicted pKd: 6.524200439453125 | True pKd: 7.522878646850586\n",
      "Predicted pKd: 9.129079818725586 | True pKd: 7.886056423187256\n",
      "Predicted pKd: 6.2236785888671875 | True pKd: 5.8181562423706055\n",
      "Predicted pKd: 7.307276725769043 | True pKd: 8.522878646850586\n",
      "Predicted pKd: 9.067407608032227 | True pKd: 8.0\n",
      "Predicted pKd: 6.029657363891602 | True pKd: 6.397940158843994\n",
      "Predicted pKd: 9.993285179138184 | True pKd: 6.455932140350342\n",
      "Predicted pKd: 9.072696685791016 | True pKd: 8.0\n",
      "Predicted pKd: 7.1892194747924805 | True pKd: 4.542118072509766\n",
      "Predicted pKd: 5.400480270385742 | True pKd: 4.557520389556885\n",
      "Predicted pKd: 9.923727989196777 | True pKd: 9.0\n",
      "Predicted pKd: 4.1312456130981445 | True pKd: 5.013228416442871\n",
      "Predicted pKd: 5.115679740905762 | True pKd: 4.876148223876953\n",
      "Predicted pKd: 4.651642799377441 | True pKd: 5.221848964691162\n",
      "Predicted pKd: 12.627671241760254 | True pKd: 14.119186401367188\n",
      "Predicted pKd: 13.38742733001709 | True pKd: 12.552842140197754\n",
      "Predicted pKd: 5.924412727355957 | True pKd: 6.876148223876953\n",
      "Predicted pKd: 7.428289413452148 | True pKd: 5.518557548522949\n",
      "Predicted pKd: 8.657089233398438 | True pKd: 8.402304649353027\n",
      "Predicted pKd: 6.409825325012207 | True pKd: 6.431798458099365\n",
      "Predicted pKd: 7.983952522277832 | True pKd: 7.477555751800537\n",
      "Predicted pKd: 8.067520141601562 | True pKd: 7.4202165603637695\n",
      "Predicted pKd: 10.371225357055664 | True pKd: 11.079355239868164\n",
      "Predicted pKd: 5.006540298461914 | True pKd: 3.698970079421997\n",
      "Predicted pKd: 4.926304817199707 | True pKd: 5.026872158050537\n",
      "Predicted pKd: 10.4168062210083 | True pKd: 8.522878646850586\n",
      "Predicted pKd: 9.406318664550781 | True pKd: 9.08092212677002\n",
      "Predicted pKd: 6.576230049133301 | True pKd: 6.823908805847168\n",
      "Predicted pKd: 6.578888893127441 | True pKd: 6.431798458099365\n",
      "Predicted pKd: 7.767348289489746 | True pKd: 9.20065975189209\n",
      "Predicted pKd: 6.315279006958008 | True pKd: 6.924453258514404\n",
      "Predicted pKd: 8.666448593139648 | True pKd: 9.815308570861816\n",
      "Predicted pKd: 8.742834091186523 | True pKd: 5.638272285461426\n",
      "Predicted pKd: 7.576325416564941 | True pKd: 12.49079704284668\n",
      "Predicted pKd: 4.923920631408691 | True pKd: 4.698969841003418\n",
      "Predicted pKd: 4.727862358093262 | True pKd: 4.301030158996582\n",
      "Predicted pKd: 7.710243225097656 | True pKd: 5.4685211181640625\n",
      "Predicted pKd: 7.427534103393555 | True pKd: 9.221848487854004\n",
      "Predicted pKd: 7.675154685974121 | True pKd: 6.847711563110352\n",
      "Predicted pKd: 4.9232683181762695 | True pKd: 1.6197887659072876\n",
      "Predicted pKd: 9.739978790283203 | True pKd: 6.397940158843994\n",
      "Predicted pKd: 7.249752998352051 | True pKd: 8.387216567993164\n",
      "Predicted pKd: 7.195878028869629 | True pKd: 6.924453258514404\n",
      "Predicted pKd: 7.675148963928223 | True pKd: 7.070580959320068\n",
      "Predicted pKd: 6.4533281326293945 | True pKd: 8.638272285461426\n",
      "Predicted pKd: 10.041573524475098 | True pKd: 8.230622291564941\n",
      "Predicted pKd: 6.251564979553223 | True pKd: 6.6216020584106445\n",
      "Predicted pKd: 7.392841339111328 | True pKd: 7.0404815673828125\n",
      "Predicted pKd: 7.350830078125 | True pKd: 8.886056900024414\n",
      "Predicted pKd: 7.758297920227051 | True pKd: 5.126679420471191\n",
      "Predicted pKd: 10.568853378295898 | True pKd: 10.690369606018066\n",
      "Predicted pKd: 12.036587715148926 | True pKd: 9.931814193725586\n",
      "Predicted pKd: 7.050045013427734 | True pKd: 9.619789123535156\n",
      "Predicted pKd: 8.96886920928955 | True pKd: 9.522878646850586\n",
      "Predicted pKd: 4.736227512359619 | True pKd: 5.853871822357178\n",
      "Predicted pKd: 8.505899429321289 | True pKd: 7.079354763031006\n",
      "Predicted pKd: 6.177233695983887 | True pKd: 8.0\n",
      "Predicted pKd: 4.978110313415527 | True pKd: 4.744727611541748\n",
      "Predicted pKd: 9.054214477539062 | True pKd: 8.397939682006836\n",
      "Predicted pKd: 10.360177040100098 | True pKd: 10.747146606445312\n",
      "Predicted pKd: 8.18085765838623 | True pKd: 10.480172157287598\n",
      "Predicted pKd: 8.889717102050781 | True pKd: 6.434152126312256\n",
      "Predicted pKd: 9.354500770568848 | True pKd: 8.931814193725586\n",
      "Predicted pKd: 7.286370277404785 | True pKd: 8.09691047668457\n",
      "Predicted pKd: 8.210562705993652 | True pKd: 7.431798458099365\n",
      "Predicted pKd: 4.953902721405029 | True pKd: 5.28399658203125\n",
      "Predicted pKd: 4.80566930770874 | True pKd: 4.7695512771606445\n",
      "Predicted pKd: 6.727114677429199 | True pKd: 5.552842140197754\n",
      "Predicted pKd: 9.034355163574219 | True pKd: 9.468521118164062\n",
      "Predicted pKd: 9.716215133666992 | True pKd: 9.114073753356934\n",
      "Predicted pKd: 6.1148529052734375 | True pKd: 5.0\n",
      "Predicted pKd: 6.246284484863281 | True pKd: 7.376750946044922\n",
      "Predicted pKd: 6.742335319519043 | True pKd: 4.1337127685546875\n",
      "Predicted pKd: 6.136849403381348 | True pKd: 12.0\n",
      "Predicted pKd: 7.711674690246582 | True pKd: 8.187755584716797\n",
      "Predicted pKd: 7.4445600509643555 | True pKd: 7.236571788787842\n",
      "Predicted pKd: 8.869029998779297 | True pKd: 8.175873756408691\n",
      "Predicted pKd: 5.543663024902344 | True pKd: 5.55439567565918\n",
      "Predicted pKd: 10.686264038085938 | True pKd: 10.397939682006836\n",
      "Predicted pKd: 6.397799491882324 | True pKd: 7.522878646850586\n",
      "Predicted pKd: 5.829279899597168 | True pKd: 4.838632106781006\n",
      "Predicted pKd: 5.241118431091309 | True pKd: 5.6038007736206055\n",
      "Predicted pKd: 7.573436737060547 | True pKd: 7.229147911071777\n",
      "Predicted pKd: 8.628535270690918 | True pKd: 6.903090000152588\n",
      "Predicted pKd: 8.619926452636719 | True pKd: 8.939302444458008\n",
      "Predicted pKd: 9.066248893737793 | True pKd: 9.392544746398926\n",
      "Predicted pKd: 7.135920524597168 | True pKd: 5.640164375305176\n",
      "Predicted pKd: 5.651206016540527 | True pKd: 8.356547355651855\n",
      "Predicted pKd: 8.521949768066406 | True pKd: 8.621602058410645\n",
      "Predicted pKd: 13.862222671508789 | True pKd: 15.193819999694824\n",
      "Predicted pKd: 8.83153247833252 | True pKd: 10.698969841003418\n",
      "Predicted pKd: 5.570822715759277 | True pKd: 6.598599433898926\n",
      "Predicted pKd: 8.509079933166504 | True pKd: 6.93930196762085\n",
      "Predicted pKd: 4.966835975646973 | True pKd: 3.698970079421997\n",
      "Predicted pKd: 7.446158409118652 | True pKd: 11.477556228637695\n",
      "Predicted pKd: 8.728075981140137 | True pKd: 9.379863739013672\n",
      "Predicted pKd: 9.398031234741211 | True pKd: 8.686132431030273\n",
      "Predicted pKd: 5.996099472045898 | True pKd: 5.486782550811768\n",
      "Predicted pKd: 8.146798133850098 | True pKd: 7.377786159515381\n",
      "Predicted pKd: 9.957053184509277 | True pKd: 10.221848487854004\n",
      "Predicted pKd: 5.856010437011719 | True pKd: 6.546681880950928\n",
      "Predicted pKd: 10.65395736694336 | True pKd: 12.301030158996582\n",
      "Predicted pKd: 8.646501541137695 | True pKd: 8.619789123535156\n",
      "Predicted pKd: 7.407971382141113 | True pKd: 6.374687671661377\n",
      "Predicted pKd: 5.404644966125488 | True pKd: 4.004364967346191\n",
      "Predicted pKd: 6.705641746520996 | True pKd: 6.2441253662109375\n",
      "Predicted pKd: 5.034997940063477 | True pKd: 5.522878646850586\n",
      "Predicted pKd: 6.911698341369629 | True pKd: 5.812479496002197\n",
      "Predicted pKd: 8.174166679382324 | True pKd: 8.698969841003418\n",
      "Predicted pKd: 6.900005340576172 | True pKd: 8.494850158691406\n",
      "Predicted pKd: 7.213223457336426 | True pKd: 8.0\n",
      "Predicted pKd: 5.920093536376953 | True pKd: 6.443697452545166\n",
      "Predicted pKd: 7.5116682052612305 | True pKd: 8.376750946044922\n",
      "Predicted pKd: 8.114106178283691 | True pKd: 7.327902317047119\n",
      "Predicted pKd: 10.344982147216797 | True pKd: 10.850780487060547\n",
      "Predicted pKd: 9.144697189331055 | True pKd: 8.148741722106934\n",
      "Predicted pKd: 8.191267967224121 | True pKd: 7.9871625900268555\n",
      "Predicted pKd: 7.434592247009277 | True pKd: 7.602059841156006\n",
      "Predicted pKd: 7.676353454589844 | True pKd: 8.522878646850586\n",
      "Predicted pKd: 6.125459671020508 | True pKd: 5.397940158843994\n",
      "Predicted pKd: 8.67026138305664 | True pKd: 6.71669864654541\n",
      "Predicted pKd: 6.727633476257324 | True pKd: 4.92081880569458\n",
      "Predicted pKd: 6.316466331481934 | True pKd: 5.619788646697998\n",
      "Predicted pKd: 8.658096313476562 | True pKd: 8.552842140197754\n",
      "Predicted pKd: 9.722451210021973 | True pKd: 9.73518180847168\n",
      "Predicted pKd: 7.617617607116699 | True pKd: 8.677781105041504\n",
      "Predicted pKd: 9.760395050048828 | True pKd: 8.764472007751465\n",
      "Predicted pKd: 9.081352233886719 | True pKd: 9.251811981201172\n",
      "Predicted pKd: 7.633597373962402 | True pKd: 8.522878646850586\n",
      "Predicted pKd: 4.51717472076416 | True pKd: 3.698970079421997\n",
      "Predicted pKd: 4.864500999450684 | True pKd: 4.958607196807861\n",
      "Predicted pKd: 8.689656257629395 | True pKd: 7.0\n",
      "Predicted pKd: 6.401760101318359 | True pKd: 7.50445556640625\n",
      "Predicted pKd: 9.448281288146973 | True pKd: 5.92081880569458\n",
      "Predicted pKd: 7.908820152282715 | True pKd: 7.812479496002197\n",
      "Predicted pKd: 8.646157264709473 | True pKd: 8.0\n",
      "Predicted pKd: 8.139791488647461 | True pKd: 7.79587984085083\n",
      "Predicted pKd: 7.305254936218262 | True pKd: 4.6556077003479\n",
      "Predicted pKd: 8.821542739868164 | True pKd: 7.806875228881836\n",
      "Predicted pKd: 8.008770942687988 | True pKd: 8.221848487854004\n",
      "Predicted pKd: 7.118219375610352 | True pKd: 7.346787452697754\n",
      "Predicted pKd: 8.587071418762207 | True pKd: 8.361510276794434\n",
      "Predicted pKd: 6.600910186767578 | True pKd: 10.301030158996582\n",
      "Predicted pKd: 6.044910430908203 | True pKd: 5.9020490646362305\n",
      "Predicted pKd: 7.627754211425781 | True pKd: 8.301030158996582\n",
      "Predicted pKd: 8.751554489135742 | True pKd: 10.74472713470459\n",
      "Predicted pKd: 7.663878440856934 | True pKd: 6.619788646697998\n",
      "Predicted pKd: 4.512375831604004 | True pKd: 5.7695512771606445\n",
      "Predicted pKd: 9.269010543823242 | True pKd: 9.060481071472168\n",
      "Predicted pKd: 5.013269424438477 | True pKd: 4.4685211181640625\n",
      "Predicted pKd: 6.715829849243164 | True pKd: 7.397940158843994\n",
      "Predicted pKd: 6.303255081176758 | True pKd: 5.6575775146484375\n",
      "Predicted pKd: 4.940471649169922 | True pKd: 5.397940158843994\n",
      "Predicted pKd: 5.593829154968262 | True pKd: 6.313363552093506\n",
      "Predicted pKd: 8.591639518737793 | True pKd: 9.769551277160645\n",
      "Predicted pKd: 5.349893569946289 | True pKd: 5.970616340637207\n",
      "Predicted pKd: 9.45486068725586 | True pKd: 9.522878646850586\n",
      "Predicted pKd: 5.438617706298828 | True pKd: 8.086186408996582\n",
      "Predicted pKd: 5.4419708251953125 | True pKd: 4.471083164215088\n",
      "Predicted pKd: 6.091136932373047 | True pKd: 7.815308570861816\n",
      "Predicted pKd: 8.664528846740723 | True pKd: 9.143875122070312\n",
      "Predicted pKd: 7.789028167724609 | True pKd: 9.045757293701172\n",
      "Predicted pKd: 5.477412223815918 | True pKd: 5.6575775146484375\n",
      "Predicted pKd: 7.17578125 | True pKd: 6.6950788497924805\n",
      "Predicted pKd: 6.7513532638549805 | True pKd: 7.522878646850586\n",
      "Predicted pKd: 8.002922058105469 | True pKd: 7.552842140197754\n",
      "Predicted pKd: 10.475616455078125 | True pKd: 11.146302223205566\n",
      "Predicted pKd: 5.572079658508301 | True pKd: 5.886056423187256\n",
      "Predicted pKd: 8.013851165771484 | True pKd: 11.0\n",
      "Predicted pKd: 7.189054489135742 | True pKd: 10.318758964538574\n",
      "Predicted pKd: 6.391583442687988 | True pKd: 5.301030158996582\n",
      "Predicted pKd: 4.97230339050293 | True pKd: 4.815308570861816\n",
      "Predicted pKd: 8.399996757507324 | True pKd: 5.56383752822876\n",
      "Predicted pKd: 7.782235145568848 | True pKd: 8.311579704284668\n",
      "Predicted pKd: 8.586816787719727 | True pKd: 9.823908805847168\n",
      "Predicted pKd: 7.2817487716674805 | True pKd: 6.585026741027832\n",
      "Predicted pKd: 8.966666221618652 | True pKd: 6.0087738037109375\n",
      "Predicted pKd: 6.598797798156738 | True pKd: 6.991399765014648\n",
      "Predicted pKd: 4.831432342529297 | True pKd: 8.045757293701172\n",
      "Predicted pKd: 7.991728782653809 | True pKd: 6.266000747680664\n",
      "Predicted pKd: 8.268874168395996 | True pKd: 8.356547355651855\n",
      "Predicted pKd: 7.593770980834961 | True pKd: 6.522878646850586\n",
      "Predicted pKd: 7.429162979125977 | True pKd: 6.954677104949951\n",
      "Predicted pKd: 5.469572067260742 | True pKd: 7.455932140350342\n",
      "Predicted pKd: 4.622981071472168 | True pKd: 7.376750946044922\n",
      "Predicted pKd: 9.108560562133789 | True pKd: 9.408935546875\n",
      "Predicted pKd: 6.294074058532715 | True pKd: 7.71669864654541\n",
      "Predicted pKd: 6.2054443359375 | True pKd: 7.537601947784424\n",
      "Predicted pKd: 6.005669593811035 | True pKd: 6.497572898864746\n",
      "Predicted pKd: 6.970226287841797 | True pKd: 7.419075012207031\n",
      "Predicted pKd: 5.340837478637695 | True pKd: 7.744727611541748\n",
      "Predicted pKd: 4.741180896759033 | True pKd: 3.2291479110717773\n",
      "Predicted pKd: 8.514725685119629 | True pKd: 8.542118072509766\n",
      "Predicted pKd: 7.309220314025879 | True pKd: 8.522878646850586\n",
      "Predicted pKd: 5.65328311920166 | True pKd: 6.187086582183838\n",
      "Predicted pKd: 8.665525436401367 | True pKd: 9.214670181274414\n",
      "Predicted pKd: 4.886289596557617 | True pKd: 5.327902317047119\n",
      "Predicted pKd: 7.695656776428223 | True pKd: 7.585026741027832\n",
      "Predicted pKd: 10.620088577270508 | True pKd: 11.102373123168945\n",
      "Predicted pKd: 5.44460391998291 | True pKd: 5.375718116760254\n",
      "Predicted pKd: 6.812694549560547 | True pKd: 10.443697929382324\n",
      "Predicted pKd: 5.489902496337891 | True pKd: 5.104025363922119\n",
      "Predicted pKd: 6.778342247009277 | True pKd: 6.297569274902344\n",
      "Predicted pKd: 11.468012809753418 | True pKd: 11.602060317993164\n",
      "Predicted pKd: 8.047255516052246 | True pKd: 6.798603057861328\n",
      "Predicted pKd: 5.501176834106445 | True pKd: 6.041436195373535\n",
      "Predicted pKd: 6.065862655639648 | True pKd: 5.675717353820801\n",
      "Predicted pKd: 7.94676399230957 | True pKd: 7.077274322509766\n",
      "Predicted pKd: 10.079524993896484 | True pKd: 8.739928245544434\n",
      "Predicted pKd: 7.650973320007324 | True pKd: 8.552842140197754\n",
      "Predicted pKd: 10.229609489440918 | True pKd: 8.279014587402344\n",
      "Predicted pKd: 8.043537139892578 | True pKd: 7.46432638168335\n",
      "Predicted pKd: 7.537334442138672 | True pKd: 5.337242126464844\n",
      "Predicted pKd: 10.041470527648926 | True pKd: 10.397939682006836\n",
      "Predicted pKd: 9.317736625671387 | True pKd: 8.935542106628418\n",
      "Predicted pKd: 7.939776420593262 | True pKd: 11.698969841003418\n",
      "Predicted pKd: 4.93464994430542 | True pKd: 4.896196365356445\n",
      "Predicted pKd: 4.555484771728516 | True pKd: 3.698970079421997\n",
      "Predicted pKd: 9.065963745117188 | True pKd: 9.045757293701172\n",
      "Predicted pKd: 5.902917861938477 | True pKd: 5.397940158843994\n",
      "Predicted pKd: 6.567412376403809 | True pKd: 6.443697452545166\n",
      "Predicted pKd: 6.486751556396484 | True pKd: 4.150580406188965\n",
      "Predicted pKd: 7.328923225402832 | True pKd: 7.494850158691406\n",
      "Predicted pKd: 5.4991455078125 | True pKd: 6.193819999694824\n",
      "Predicted pKd: 8.152688980102539 | True pKd: 8.120330810546875\n",
      "Predicted pKd: 9.25487232208252 | True pKd: 7.040958404541016\n",
      "Predicted pKd: 4.45116662979126 | True pKd: 5.721246242523193\n",
      "Predicted pKd: 7.126909255981445 | True pKd: 7.260427474975586\n",
      "Predicted pKd: 9.492537498474121 | True pKd: 11.06550121307373\n",
      "Predicted pKd: 5.466266632080078 | True pKd: 5.291579246520996\n",
      "Predicted pKd: 10.492769241333008 | True pKd: 11.653647422790527\n",
      "Predicted pKd: 4.575970649719238 | True pKd: 3.698970079421997\n",
      "Predicted pKd: 8.455586433410645 | True pKd: 8.568635940551758\n",
      "Predicted pKd: 8.524566650390625 | True pKd: 7.455932140350342\n",
      "Predicted pKd: 9.402063369750977 | True pKd: 9.508638381958008\n",
      "Predicted pKd: 9.400289535522461 | True pKd: 9.161150932312012\n",
      "Predicted pKd: 4.596307754516602 | True pKd: 4.211124897003174\n",
      "Predicted pKd: 4.943190574645996 | True pKd: 3.860121011734009\n",
      "Predicted pKd: 9.22470760345459 | True pKd: 10.494850158691406\n",
      "Predicted pKd: 5.355960845947266 | True pKd: 6.852014541625977\n",
      "Predicted pKd: 6.846015930175781 | True pKd: 5.397940158843994\n",
      "Predicted pKd: 7.190058708190918 | True pKd: 6.6575775146484375\n",
      "Predicted pKd: 4.9498186111450195 | True pKd: 4.92081880569458\n",
      "Predicted pKd: 9.693557739257812 | True pKd: 8.254924774169922\n",
      "Predicted pKd: 8.476337432861328 | True pKd: 6.337242126464844\n",
      "Predicted pKd: 9.07784652709961 | True pKd: 9.0\n",
      "Predicted pKd: 5.46864128112793 | True pKd: 5.982966423034668\n",
      "Predicted pKd: 10.268243789672852 | True pKd: 11.204119682312012\n",
      "Predicted pKd: 9.401087760925293 | True pKd: 9.229147911071777\n",
      "Predicted pKd: 8.396476745605469 | True pKd: 9.175873756408691\n",
      "Predicted pKd: 7.20765495300293 | True pKd: 6.92081880569458\n",
      "Predicted pKd: 4.355790615081787 | True pKd: 4.4921441078186035\n",
      "Predicted pKd: 8.842076301574707 | True pKd: 7.913640022277832\n",
      "Predicted pKd: 9.545524597167969 | True pKd: 11.244125366210938\n",
      "Predicted pKd: 8.258478164672852 | True pKd: 8.585026741027832\n",
      "Predicted pKd: 6.02198600769043 | True pKd: 5.455932140350342\n",
      "Predicted pKd: 5.499602317810059 | True pKd: 4.732828140258789\n",
      "Predicted pKd: 6.592212677001953 | True pKd: 6.267606258392334\n",
      "Predicted pKd: 5.504480361938477 | True pKd: 4.764471530914307\n",
      "Predicted pKd: 10.139607429504395 | True pKd: 9.49079704284668\n",
      "Predicted pKd: 12.038093566894531 | True pKd: 11.823908805847168\n",
      "Predicted pKd: 8.417423248291016 | True pKd: 6.935542106628418\n",
      "Predicted pKd: 11.690667152404785 | True pKd: 9.74472713470459\n",
      "Predicted pKd: 7.961087226867676 | True pKd: 6.471083164215088\n",
      "Predicted pKd: 8.968674659729004 | True pKd: 9.804100036621094\n",
      "Predicted pKd: 6.205869674682617 | True pKd: 6.481485843658447\n",
      "Predicted pKd: 13.867490768432617 | True pKd: 15.301030158996582\n",
      "Predicted pKd: 7.955153465270996 | True pKd: 10.632643699645996\n",
      "Predicted pKd: 7.586234092712402 | True pKd: 9.619789123535156\n",
      "Predicted pKd: 7.358717918395996 | True pKd: 11.769551277160645\n",
      "Predicted pKd: 5.344390869140625 | True pKd: 5.031517028808594\n",
      "Predicted pKd: 7.686612129211426 | True pKd: 14.119186401367188\n",
      "Predicted pKd: 9.438905715942383 | True pKd: 7.677780628204346\n",
      "Predicted pKd: 8.564278602600098 | True pKd: 7.886056423187256\n",
      "Predicted pKd: 7.431216239929199 | True pKd: 9.301030158996582\n",
      "Predicted pKd: 6.180328369140625 | True pKd: 6.530178070068359\n",
      "Predicted pKd: 6.467917442321777 | True pKd: 8.356547355651855\n",
      "Predicted pKd: 7.643333435058594 | True pKd: 6.397940158843994\n",
      "Predicted pKd: 6.95003604888916 | True pKd: 8.542118072509766\n",
      "Predicted pKd: 6.67974853515625 | True pKd: 7.4685211181640625\n",
      "Predicted pKd: 7.303434371948242 | True pKd: 7.425968647003174\n",
      "Predicted pKd: 9.45908260345459 | True pKd: 8.935542106628418\n",
      "Predicted pKd: 4.674996852874756 | True pKd: 5.15490198135376\n",
      "Predicted pKd: 7.577807426452637 | True pKd: 5.1674909591674805\n",
      "Predicted pKd: 7.306629180908203 | True pKd: 4.71669864654541\n",
      "Predicted pKd: 8.659256935119629 | True pKd: 10.657577514648438\n",
      "Predicted pKd: 5.532414436340332 | True pKd: 4.879426002502441\n",
      "Predicted pKd: 6.675169944763184 | True pKd: 6.0\n",
      "Predicted pKd: 7.531977653503418 | True pKd: 5.698969841003418\n",
      "Predicted pKd: 7.75154972076416 | True pKd: 7.602059841156006\n",
      "Predicted pKd: 6.620552062988281 | True pKd: 8.698969841003418\n",
      "Predicted pKd: 5.6018524169921875 | True pKd: 4.346787452697754\n",
      "Predicted pKd: 8.291157722473145 | True pKd: 8.721246719360352\n",
      "Predicted pKd: 7.766927719116211 | True pKd: 7.568636417388916\n",
      "Predicted pKd: 9.398052215576172 | True pKd: 8.889410018920898\n",
      "Predicted pKd: 7.814298629760742 | True pKd: 6.408935546875\n",
      "Predicted pKd: 4.555154800415039 | True pKd: 4.221848964691162\n",
      "Predicted pKd: 6.604880332946777 | True pKd: 6.747147083282471\n",
      "Predicted pKd: 6.8570556640625 | True pKd: 6.464705944061279\n",
      "Predicted pKd: 9.161595344543457 | True pKd: 9.0\n",
      "Predicted pKd: 8.27768611907959 | True pKd: 8.74472713470459\n",
      "Predicted pKd: 10.049735069274902 | True pKd: 7.397940158843994\n",
      "Predicted pKd: 9.405769348144531 | True pKd: 9.154901504516602\n",
      "Predicted pKd: 4.894079208374023 | True pKd: 3.221848726272583\n",
      "Predicted pKd: 5.469308853149414 | True pKd: 7.0438313484191895\n",
      "Predicted pKd: 6.9649505615234375 | True pKd: 5.721246242523193\n",
      "Predicted pKd: 9.304021835327148 | True pKd: 9.177831649780273\n",
      "Predicted pKd: 8.525921821594238 | True pKd: 5.853871822357178\n",
      "Predicted pKd: 6.9394330978393555 | True pKd: 7.892789840698242\n",
      "Predicted pKd: 6.480984687805176 | True pKd: 6.376750946044922\n",
      "Predicted pKd: 4.540386199951172 | True pKd: 3.698970079421997\n",
      "Predicted pKd: 8.561532020568848 | True pKd: 11.0\n",
      "Predicted pKd: 5.978537559509277 | True pKd: 5.958607196807861\n",
      "Predicted pKd: 8.954731941223145 | True pKd: 7.935542106628418\n",
      "Predicted pKd: 4.668774127960205 | True pKd: 5.393618583679199\n",
      "Predicted pKd: 8.233911514282227 | True pKd: 9.301030158996582\n",
      "Predicted pKd: 12.046393394470215 | True pKd: 11.207608222961426\n",
      "Predicted pKd: 6.726215362548828 | True pKd: 5.522878646850586\n",
      "Predicted pKd: 8.117765426635742 | True pKd: 6.413412570953369\n",
      "Predicted pKd: 9.573974609375 | True pKd: 9.737548828125\n",
      "Predicted pKd: 5.82243537902832 | True pKd: 8.0\n",
      "Predicted pKd: 4.992325782775879 | True pKd: 5.374687671661377\n",
      "Predicted pKd: 8.336897850036621 | True pKd: 7.508638381958008\n",
      "Predicted pKd: 7.401617050170898 | True pKd: 7.568636417388916\n",
      "Predicted pKd: 7.204920768737793 | True pKd: 6.180456161499023\n",
      "Predicted pKd: 4.689925193786621 | True pKd: 4.843753814697266\n",
      "Predicted pKd: 9.245702743530273 | True pKd: 5.041436195373535\n",
      "Predicted pKd: 5.026956558227539 | True pKd: 4.113509178161621\n",
      "Predicted pKd: 11.131110191345215 | True pKd: 10.356547355651855\n",
      "Predicted pKd: 9.40615177154541 | True pKd: 9.0\n",
      "Predicted pKd: 12.787846565246582 | True pKd: 12.68824577331543\n",
      "Predicted pKd: 4.659477233886719 | True pKd: 3.8210229873657227\n",
      "Predicted pKd: 4.710898399353027 | True pKd: 4.669586181640625\n",
      "Predicted pKd: 6.113614082336426 | True pKd: 6.889410495758057\n",
      "Predicted pKd: 5.824902534484863 | True pKd: 4.853871822357178\n",
      "Predicted pKd: 7.935268402099609 | True pKd: 7.739928722381592\n",
      "Predicted pKd: 6.287449836730957 | True pKd: 8.619789123535156\n",
      "Predicted pKd: 4.460127830505371 | True pKd: 4.302770614624023\n",
      "Predicted pKd: 4.845019340515137 | True pKd: 7.221848964691162\n",
      "Predicted pKd: 10.191205024719238 | True pKd: 9.747146606445312\n",
      "Predicted pKd: 7.138226509094238 | True pKd: 8.267605781555176\n",
      "Predicted pKd: 5.273003578186035 | True pKd: 10.07572078704834\n",
      "Predicted pKd: 8.573248863220215 | True pKd: 7.578395843505859\n",
      "Predicted pKd: 8.588210105895996 | True pKd: 7.414539337158203\n",
      "Predicted pKd: 9.065691947937012 | True pKd: 9.12493896484375\n",
      "Predicted pKd: 7.528769493103027 | True pKd: 8.95078182220459\n",
      "Predicted pKd: 4.851369857788086 | True pKd: 5.251811981201172\n",
      "Predicted pKd: 6.263105392456055 | True pKd: 7.669586181640625\n",
      "Predicted pKd: 9.062682151794434 | True pKd: 8.931814193725586\n",
      "Predicted pKd: 9.410338401794434 | True pKd: 9.387216567993164\n",
      "Predicted pKd: 7.377579689025879 | True pKd: 7.341988563537598\n",
      "Predicted pKd: 5.286094665527344 | True pKd: 5.15490198135376\n",
      "Predicted pKd: 7.536696434020996 | True pKd: 7.798603057861328\n",
      "Predicted pKd: 7.461507797241211 | True pKd: 8.055517196655273\n",
      "Predicted pKd: 8.344661712646484 | True pKd: 5.2441253662109375\n",
      "Predicted pKd: 6.709903717041016 | True pKd: 8.71669864654541\n",
      "Predicted pKd: 4.119009971618652 | True pKd: 3.522878646850586\n",
      "Predicted pKd: 5.613034248352051 | True pKd: 8.275724411010742\n",
      "Predicted pKd: 8.214372634887695 | True pKd: 5.991399765014648\n",
      "Predicted pKd: 6.245862007141113 | True pKd: 6.301030158996582\n",
      "Predicted pKd: 9.74267292022705 | True pKd: 9.954676628112793\n",
      "Predicted pKd: 9.708963394165039 | True pKd: 9.730486869812012\n",
      "Predicted pKd: 9.576895713806152 | True pKd: 4.92081880569458\n",
      "Predicted pKd: 6.66810417175293 | True pKd: 8.356547355651855\n",
      "Predicted pKd: 8.186185836791992 | True pKd: 8.920818328857422\n",
      "Predicted pKd: 5.4937238693237305 | True pKd: 4.619788646697998\n",
      "Predicted pKd: 9.357217788696289 | True pKd: 7.585026741027832\n",
      "Predicted pKd: 5.933026313781738 | True pKd: 7.070580959320068\n",
      "Predicted pKd: 5.821372985839844 | True pKd: 6.448550224304199\n",
      "Predicted pKd: 5.537517547607422 | True pKd: 5.0\n",
      "Predicted pKd: 8.039708137512207 | True pKd: 8.602060317993164\n",
      "Predicted pKd: 6.4725751876831055 | True pKd: 6.458420753479004\n",
      "Predicted pKd: 4.948125839233398 | True pKd: 3.698970079421997\n",
      "Predicted pKd: 6.870227813720703 | True pKd: 5.698969841003418\n",
      "Predicted pKd: 6.758501052856445 | True pKd: 6.7798919677734375\n",
      "Predicted pKd: 8.177940368652344 | True pKd: 8.397939682006836\n",
      "Predicted pKd: 4.977755546569824 | True pKd: 4.5100417137146\n",
      "Predicted pKd: 6.009810447692871 | True pKd: 5.2306227684021\n",
      "Predicted pKd: 12.053872108459473 | True pKd: 13.48678207397461\n",
      "Predicted pKd: 6.100469589233398 | True pKd: 4.211831569671631\n",
      "Predicted pKd: 10.418773651123047 | True pKd: 8.653647422790527\n",
      "Predicted pKd: 9.404678344726562 | True pKd: 9.468521118164062\n",
      "Predicted pKd: 5.745131492614746 | True pKd: 7.088842391967773\n",
      "Predicted pKd: 8.599555015563965 | True pKd: 9.455931663513184\n",
      "Predicted pKd: 4.935826778411865 | True pKd: 5.3098039627075195\n",
      "Predicted pKd: 8.485207557678223 | True pKd: 5.408935546875\n",
      "Predicted pKd: 5.461936950683594 | True pKd: 8.698969841003418\n",
      "Predicted pKd: 5.467517852783203 | True pKd: 4.530178070068359\n",
      "Predicted pKd: 6.311134338378906 | True pKd: 7.903090000152588\n",
      "Predicted pKd: 4.643574237823486 | True pKd: 5.301030158996582\n",
      "Predicted pKd: 5.042548179626465 | True pKd: 6.379863739013672\n",
      "Predicted pKd: 4.548290252685547 | True pKd: 4.991399765014648\n",
      "Predicted pKd: 6.65445613861084 | True pKd: 7.1524271965026855\n",
      "Predicted pKd: 10.702094078063965 | True pKd: 10.114073753356934\n",
      "Predicted pKd: 6.643192291259766 | True pKd: 6.677780628204346\n",
      "Predicted pKd: 6.5461835861206055 | True pKd: 5.494850158691406\n",
      "Predicted pKd: 10.460883140563965 | True pKd: 8.924452781677246\n",
      "Predicted pKd: 7.119208335876465 | True pKd: 6.730486869812012\n",
      "Predicted pKd: 9.770085334777832 | True pKd: 9.279014587402344\n",
      "Predicted pKd: 6.807976722717285 | True pKd: 7.337242126464844\n",
      "Predicted pKd: 10.191169738769531 | True pKd: 10.602060317993164\n",
      "Predicted pKd: 10.625005722045898 | True pKd: 11.376750946044922\n",
      "Predicted pKd: 9.70648193359375 | True pKd: 9.505845069885254\n",
      "Predicted pKd: 7.127435684204102 | True pKd: 6.543633937835693\n",
      "Predicted pKd: 9.502317428588867 | True pKd: 8.091514587402344\n",
      "Predicted pKd: 7.31944465637207 | True pKd: 10.698969841003418\n",
      "Predicted pKd: 4.970836639404297 | True pKd: 4.721246242523193\n",
      "Predicted pKd: 10.320796012878418 | True pKd: 12.0\n",
      "Predicted pKd: 7.673785209655762 | True pKd: 8.335357666015625\n",
      "Predicted pKd: 8.546037673950195 | True pKd: 8.0\n",
      "Predicted pKd: 10.030080795288086 | True pKd: 8.920818328857422\n",
      "Predicted pKd: 8.782074928283691 | True pKd: 9.892789840698242\n",
      "Predicted pKd: 9.058154106140137 | True pKd: 9.508638381958008\n",
      "Predicted pKd: 9.780900955200195 | True pKd: 10.055517196655273\n",
      "Predicted pKd: 7.309220314025879 | True pKd: 8.431797981262207\n",
      "Predicted pKd: 7.540061950683594 | True pKd: 8.113509178161621\n",
      "Predicted pKd: 6.626089096069336 | True pKd: 5.427128314971924\n",
      "Predicted pKd: 6.666131019592285 | True pKd: 7.298431873321533\n",
      "Predicted pKd: 10.298148155212402 | True pKd: 10.886056900024414\n",
      "Predicted pKd: 8.796711921691895 | True pKd: 9.787812232971191\n",
      "Predicted pKd: 12.803062438964844 | True pKd: 13.586700439453125\n",
      "Predicted pKd: 5.467462539672852 | True pKd: 5.84163761138916\n",
      "Predicted pKd: 5.469152450561523 | True pKd: 5.347753524780273\n",
      "Predicted pKd: 9.34926700592041 | True pKd: 7.481485843658447\n",
      "Predicted pKd: 7.4033355712890625 | True pKd: 6.237321376800537\n",
      "Predicted pKd: 7.45323371887207 | True pKd: 7.096909999847412\n",
      "Predicted pKd: 4.471835136413574 | True pKd: 3.698970079421997\n",
      "Predicted pKd: 7.3651018142700195 | True pKd: 4.889410495758057\n",
      "Predicted pKd: 8.178638458251953 | True pKd: 8.045757293701172\n",
      "Predicted pKd: 8.679024696350098 | True pKd: 8.853872299194336\n",
      "Predicted pKd: 9.504692077636719 | True pKd: 9.931814193725586\n",
      "Predicted pKd: 13.754443168640137 | True pKd: 13.455931663513184\n",
      "Predicted pKd: 7.611939430236816 | True pKd: 8.079355239868164\n",
      "Predicted pKd: 9.397139549255371 | True pKd: 8.263603210449219\n",
      "Predicted pKd: 13.448888778686523 | True pKd: 8.20065975189209\n",
      "Predicted pKd: 7.670871734619141 | True pKd: 6.6716203689575195\n",
      "Predicted pKd: 4.136569023132324 | True pKd: 4.917214393615723\n",
      "Predicted pKd: 9.58090591430664 | True pKd: 9.193819999694824\n",
      "Predicted pKd: 9.259139060974121 | True pKd: 9.279840469360352\n",
      "Predicted pKd: 13.39358139038086 | True pKd: 12.552842140197754\n",
      "Predicted pKd: 7.259639739990234 | True pKd: 7.721246242523193\n",
      "Predicted pKd: 11.132105827331543 | True pKd: 10.74472713470459\n",
      "Predicted pKd: 7.772265434265137 | True pKd: 7.742321491241455\n",
      "Predicted pKd: 6.126862525939941 | True pKd: 6.602059841156006\n",
      "Predicted pKd: 4.675248146057129 | True pKd: 5.221848964691162\n",
      "Predicted pKd: 7.541629791259766 | True pKd: 7.3565473556518555\n",
      "Predicted pKd: 8.66484546661377 | True pKd: 8.378823280334473\n",
      "Predicted pKd: 7.326020240783691 | True pKd: 8.251811981201172\n",
      "Predicted pKd: 11.713374137878418 | True pKd: 11.137868881225586\n",
      "Predicted pKd: 9.661102294921875 | True pKd: 8.920818328857422\n",
      "Predicted pKd: 4.701738357543945 | True pKd: 6.301030158996582\n",
      "Predicted pKd: 8.298528671264648 | True pKd: 8.337242126464844\n",
      "Predicted pKd: 9.344937324523926 | True pKd: 11.494850158691406\n",
      "Predicted pKd: 8.066085815429688 | True pKd: 11.12493896484375\n",
      "Predicted pKd: 8.642413139343262 | True pKd: 9.126679420471191\n",
      "Predicted pKd: 7.789450645446777 | True pKd: 8.130182266235352\n",
      "Predicted pKd: 7.782787322998047 | True pKd: 5.481485843658447\n",
      "Predicted pKd: 8.423036575317383 | True pKd: 5.721246242523193\n",
      "Predicted pKd: 13.869855880737305 | True pKd: 10.408935546875\n",
      "Predicted pKd: 11.077871322631836 | True pKd: 12.041436195373535\n",
      "Predicted pKd: 10.076974868774414 | True pKd: 7.747147083282471\n",
      "Predicted pKd: 7.328581809997559 | True pKd: 6.823908805847168\n",
      "Predicted pKd: 6.368230819702148 | True pKd: 5.698969841003418\n",
      "Predicted pKd: 9.400812149047852 | True pKd: 9.142667770385742\n",
      "Predicted pKd: 5.378678321838379 | True pKd: 7.522878646850586\n",
      "Predicted pKd: 6.886938095092773 | True pKd: 4.966576099395752\n",
      "Predicted pKd: 5.545413017272949 | True pKd: 5.6675615310668945\n",
      "Predicted pKd: 9.154205322265625 | True pKd: 9.221848487854004\n",
      "Predicted pKd: 9.793431282043457 | True pKd: 10.462181091308594\n",
      "Predicted pKd: 7.85935115814209 | True pKd: 8.004364967346191\n",
      "Predicted pKd: 8.173896789550781 | True pKd: 10.485452651977539\n",
      "Predicted pKd: 8.15828800201416 | True pKd: 7.903090000152588\n",
      "Predicted pKd: 5.554344177246094 | True pKd: 6.040958404541016\n",
      "Predicted pKd: 8.248189926147461 | True pKd: 7.161150932312012\n",
      "Predicted pKd: 7.210516929626465 | True pKd: 6.508638381958008\n",
      "Predicted pKd: 7.672733306884766 | True pKd: 6.917214393615723\n",
      "Predicted pKd: 6.792186737060547 | True pKd: 7.0\n",
      "Predicted pKd: 4.7077178955078125 | True pKd: 4.79587984085083\n",
      "Predicted pKd: 7.832882881164551 | True pKd: 5.92081880569458\n",
      "Predicted pKd: 5.550626754760742 | True pKd: 3.2448878288269043\n",
      "Predicted pKd: 6.677994728088379 | True pKd: 7.517126560211182\n",
      "Predicted pKd: 4.8864970207214355 | True pKd: 4.235076904296875\n",
      "Predicted pKd: 8.024456024169922 | True pKd: 8.823908805847168\n",
      "Predicted pKd: 7.759893417358398 | True pKd: 8.826813697814941\n",
      "Predicted pKd: 8.646374702453613 | True pKd: 8.379863739013672\n",
      "Predicted pKd: 7.439692497253418 | True pKd: 6.92081880569458\n",
      "Predicted pKd: 7.42790412902832 | True pKd: 7.257275104522705\n",
      "Predicted pKd: 5.966185569763184 | True pKd: 5.638272285461426\n",
      "Predicted pKd: 9.769434928894043 | True pKd: 9.0\n",
      "Predicted pKd: 8.520846366882324 | True pKd: 5.568636417388916\n",
      "Predicted pKd: 8.658853530883789 | True pKd: 10.087778091430664\n",
      "Predicted pKd: 8.054685592651367 | True pKd: 5.698969841003418\n",
      "Predicted pKd: 5.251977443695068 | True pKd: 6.094203948974609\n",
      "Predicted pKd: 8.495802879333496 | True pKd: 9.522878646850586\n",
      "Predicted pKd: 8.547405242919922 | True pKd: 8.431797981262207\n",
      "Predicted pKd: 9.285135269165039 | True pKd: 10.408935546875\n",
      "Predicted pKd: 9.464271545410156 | True pKd: 8.962573051452637\n",
      "Predicted pKd: 8.66616439819336 | True pKd: 9.568635940551758\n",
      "Predicted pKd: 9.710958480834961 | True pKd: 10.431797981262207\n",
      "Predicted pKd: 7.408552169799805 | True pKd: 7.3205718994140625\n",
      "Predicted pKd: 8.161456108093262 | True pKd: 8.221848487854004\n",
      "Predicted pKd: 4.677441596984863 | True pKd: 5.221848964691162\n",
      "Predicted pKd: 5.978419303894043 | True pKd: 6.2831621170043945\n",
      "Predicted pKd: 9.08306884765625 | True pKd: 9.723538398742676\n",
      "Predicted pKd: 6.402810096740723 | True pKd: 8.643974304199219\n",
      "Predicted pKd: 4.12734317779541 | True pKd: 3.698970079421997\n",
      "Predicted pKd: 10.02590560913086 | True pKd: 11.301030158996582\n",
      "Predicted pKd: 9.706157684326172 | True pKd: 9.041436195373535\n",
      "Predicted pKd: 9.289365768432617 | True pKd: 8.543634414672852\n",
      "Predicted pKd: 7.3858489990234375 | True pKd: 7.2132487297058105\n",
      "Predicted pKd: 6.104911804199219 | True pKd: 5.889410495758057\n",
      "Predicted pKd: 7.896902084350586 | True pKd: 6.6575775146484375\n",
      "Predicted pKd: 5.828038215637207 | True pKd: 7.677780628204346\n",
      "Predicted pKd: 6.692652702331543 | True pKd: 8.602060317993164\n",
      "Predicted pKd: 7.424859046936035 | True pKd: 6.735182285308838\n",
      "Predicted pKd: 8.581653594970703 | True pKd: 9.088842391967773\n",
      "Predicted pKd: 6.256037712097168 | True pKd: 6.591760158538818\n",
      "Predicted pKd: 9.966904640197754 | True pKd: 7.602059841156006\n",
      "Predicted pKd: 4.923920631408691 | True pKd: 5.07572078704834\n",
      "Predicted pKd: 7.30512809753418 | True pKd: 6.585026741027832\n",
      "Predicted pKd: 7.449296951293945 | True pKd: 8.970616340637207\n",
      "Predicted pKd: 8.659947395324707 | True pKd: 8.886056900024414\n",
      "Predicted pKd: 7.444994926452637 | True pKd: 10.09691047668457\n",
      "Predicted pKd: 9.432909965515137 | True pKd: 7.1674909591674805\n",
      "Predicted pKd: 6.098506927490234 | True pKd: 9.013228416442871\n",
      "Predicted pKd: 10.810730934143066 | True pKd: 9.522878646850586\n",
      "Predicted pKd: 8.420928955078125 | True pKd: 7.739928722381592\n",
      "Predicted pKd: 7.2254791259765625 | True pKd: 8.050609588623047\n",
      "Predicted pKd: 8.98314380645752 | True pKd: 7.3625102043151855\n",
      "Predicted pKd: 8.730388641357422 | True pKd: 9.045757293701172\n",
      "Predicted pKd: 8.464509963989258 | True pKd: 7.732828140258789\n",
      "Predicted pKd: 6.530490875244141 | True pKd: 9.154901504516602\n",
      "Predicted pKd: 9.405016899108887 | True pKd: 8.823908805847168\n",
      "Predicted pKd: 9.781137466430664 | True pKd: 10.707743644714355\n",
      "Predicted pKd: 7.177888870239258 | True pKd: 8.853872299194336\n",
      "Predicted pKd: 8.858976364135742 | True pKd: 9.366531372070312\n",
      "Predicted pKd: 9.40041446685791 | True pKd: 9.0\n",
      "Predicted pKd: 9.516430854797363 | True pKd: 11.119186401367188\n",
      "Predicted pKd: 4.639545440673828 | True pKd: 4.026872158050537\n",
      "Predicted pKd: 5.450439453125 | True pKd: 9.896196365356445\n",
      "Predicted pKd: 10.14377212524414 | True pKd: 10.42021656036377\n",
      "Predicted pKd: 7.189606666564941 | True pKd: 7.823908805847168\n",
      "Predicted pKd: 10.265365600585938 | True pKd: 11.07572078704834\n",
      "Predicted pKd: 4.175159454345703 | True pKd: 5.497572898864746\n",
      "Predicted pKd: 9.578246116638184 | True pKd: 8.823908805847168\n",
      "Predicted pKd: 10.052833557128906 | True pKd: 8.698969841003418\n",
      "Predicted pKd: 7.6708269119262695 | True pKd: 6.847711563110352\n",
      "Predicted pKd: 8.759763717651367 | True pKd: 10.384050369262695\n",
      "Predicted pKd: 8.567282676696777 | True pKd: 8.630784034729004\n",
      "Predicted pKd: 7.345684051513672 | True pKd: 5.674689769744873\n",
      "Predicted pKd: 9.123903274536133 | True pKd: 9.07572078704834\n",
      "Predicted pKd: 10.629498481750488 | True pKd: 10.244125366210938\n",
      "Predicted pKd: 7.463028907775879 | True pKd: 7.7695512771606445\n",
      "Predicted pKd: 5.344390869140625 | True pKd: 5.031517028808594\n",
      "Predicted pKd: 7.376030921936035 | True pKd: 9.237321853637695\n",
      "Predicted pKd: 7.779214859008789 | True pKd: 5.522878646850586\n",
      "Predicted pKd: 9.780900955200195 | True pKd: 10.055517196655273\n",
      "Predicted pKd: 4.374528884887695 | True pKd: 4.136677265167236\n",
      "Predicted pKd: 9.430322647094727 | True pKd: 9.346787452697754\n",
      "Predicted pKd: 12.035850524902344 | True pKd: 10.251811981201172\n",
      "Predicted pKd: 9.297025680541992 | True pKd: 9.632643699645996\n",
      "Predicted pKd: 9.209473609924316 | True pKd: 10.698969841003418\n",
      "Predicted pKd: 6.27028751373291 | True pKd: 3.886056661605835\n",
      "Predicted pKd: 6.480876922607422 | True pKd: 3.8150248527526855\n",
      "Predicted pKd: 7.681714057922363 | True pKd: 8.221848487854004\n",
      "Predicted pKd: 6.100598335266113 | True pKd: 6.221848964691162\n",
      "Predicted pKd: 7.055084228515625 | True pKd: 8.151810646057129\n",
      "Predicted pKd: 8.955953598022461 | True pKd: 5.92081880569458\n",
      "Predicted pKd: 6.703888893127441 | True pKd: 6.7695512771606445\n",
      "Predicted pKd: 7.599896430969238 | True pKd: 7.4685211181640625\n",
      "Predicted pKd: 10.795938491821289 | True pKd: 10.531652450561523\n",
      "Predicted pKd: 7.5362701416015625 | True pKd: 6.602059841156006\n",
      "Predicted pKd: 4.6805620193481445 | True pKd: 5.086185932159424\n",
      "Predicted pKd: 5.469965934753418 | True pKd: 6.583359718322754\n",
      "Predicted pKd: 8.191089630126953 | True pKd: 5.268411159515381\n",
      "Predicted pKd: 9.921792030334473 | True pKd: 9.609065055847168\n",
      "Predicted pKd: 5.252588272094727 | True pKd: 6.823908805847168\n",
      "Predicted pKd: 7.3459672927856445 | True pKd: 6.809668064117432\n",
      "Predicted pKd: 12.718502044677734 | True pKd: 9.452225685119629\n",
      "Predicted pKd: 9.814780235290527 | True pKd: 7.879426002502441\n",
      "Predicted pKd: 6.4003095626831055 | True pKd: 5.744727611541748\n",
      "Predicted pKd: 4.968432426452637 | True pKd: 3.244964122772217\n",
      "Predicted pKd: 7.88723087310791 | True pKd: 6.663540363311768\n",
      "Predicted pKd: 8.468792915344238 | True pKd: 8.1456937789917\n",
      "Predicted pKd: 6.853109359741211 | True pKd: 7.113509178161621\n",
      "Predicted pKd: 6.080696105957031 | True pKd: 7.480172157287598\n",
      "Predicted pKd: 9.358123779296875 | True pKd: 7.341988563537598\n",
      "Predicted pKd: 9.069550514221191 | True pKd: 9.397939682006836\n",
      "Predicted pKd: 5.171072006225586 | True pKd: 2.9913997650146484\n",
      "Predicted pKd: 6.724061965942383 | True pKd: 6.692503929138184\n",
      "Predicted pKd: 13.636114120483398 | True pKd: 15.0\n",
      "Predicted pKd: 7.683499336242676 | True pKd: 7.267606258392334\n",
      "Predicted pKd: 9.38410758972168 | True pKd: 7.2924299240112305\n",
      "Predicted pKd: 7.441180229187012 | True pKd: 8.74472713470459\n",
      "Predicted pKd: 5.61933708190918 | True pKd: 4.978810787200928\n",
      "Predicted pKd: 6.515677452087402 | True pKd: 4.508638381958008\n",
      "Predicted pKd: 7.290404319763184 | True pKd: 7.507239818572998\n",
      "Predicted pKd: 4.602311611175537 | True pKd: 5.78515625\n",
      "Predicted pKd: 8.411998748779297 | True pKd: 7.20412015914917\n",
      "Predicted pKd: 7.079868316650391 | True pKd: 7.79587984085083\n",
      "Predicted pKd: 9.116039276123047 | True pKd: 9.301030158996582\n",
      "Predicted pKd: 7.657576560974121 | True pKd: 8.590066909790039\n",
      "Predicted pKd: 5.512999534606934 | True pKd: 5.931814193725586\n",
      "Predicted pKd: 4.6499834060668945 | True pKd: 3.339134454727173\n",
      "Predicted pKd: 9.863774299621582 | True pKd: 11.397939682006836\n",
      "Predicted pKd: 7.989528656005859 | True pKd: 7.698969841003418\n",
      "Predicted pKd: 4.1057844161987305 | True pKd: 4.100179672241211\n",
      "Predicted pKd: 9.736080169677734 | True pKd: 10.494850158691406\n",
      "Predicted pKd: 7.979140281677246 | True pKd: 8.110698699951172\n",
      "Predicted pKd: 9.282915115356445 | True pKd: 9.924452781677246\n",
      "Predicted pKd: 7.366594314575195 | True pKd: 7.183758735656738\n",
      "Predicted pKd: 7.439235687255859 | True pKd: 9.6757173538208\n",
      "Predicted pKd: 6.239879608154297 | True pKd: 5.8181562423706055\n",
      "Predicted pKd: 8.896845817565918 | True pKd: 8.09691047668457\n",
      "Predicted pKd: 9.097957611083984 | True pKd: 9.163043022155762\n",
      "Predicted pKd: 7.096188545227051 | True pKd: 6.744727611541748\n",
      "Predicted pKd: 6.643082618713379 | True pKd: 6.602059841156006\n",
      "Predicted pKd: 9.06946086883545 | True pKd: 9.163043022155762\n",
      "Predicted pKd: 9.399250984191895 | True pKd: 8.489455223083496\n",
      "Predicted pKd: 4.676441192626953 | True pKd: 5.045757293701172\n",
      "Predicted pKd: 5.149688720703125 | True pKd: 4.698969841003418\n",
      "Predicted pKd: 9.7138032913208 | True pKd: 10.91009521484375\n",
      "Predicted pKd: 6.904136657714844 | True pKd: 4.677780628204346\n",
      "Predicted pKd: 9.673702239990234 | True pKd: 9.49079704284668\n",
      "Predicted pKd: 8.520956039428711 | True pKd: 5.3565473556518555\n",
      "Predicted pKd: 9.45305061340332 | True pKd: 8.86966609954834\n",
      "Predicted pKd: 6.859258651733398 | True pKd: 6.494850158691406\n",
      "Predicted pKd: 9.40198040008545 | True pKd: 9.130767822265625\n",
      "Predicted pKd: 7.441797256469727 | True pKd: 9.301030158996582\n",
      "Predicted pKd: 9.831741333007812 | True pKd: 11.850780487060547\n",
      "Predicted pKd: 5.184449195861816 | True pKd: 4.021819591522217\n",
      "Predicted pKd: 6.90347957611084 | True pKd: 8.207608222961426\n",
      "Predicted pKd: 5.567761421203613 | True pKd: 3.2426040172576904\n",
      "Predicted pKd: 9.91610336303711 | True pKd: 11.114073753356934\n",
      "Predicted pKd: 7.483485221862793 | True pKd: 7.694648742675781\n",
      "Predicted pKd: 7.738040924072266 | True pKd: 8.823908805847168\n",
      "Predicted pKd: 6.130823135375977 | True pKd: 6.315154552459717\n",
      "Predicted pKd: 7.677431106567383 | True pKd: 8.119758605957031\n",
      "Predicted pKd: 6.873398780822754 | True pKd: 6.823908805847168\n",
      "Predicted pKd: 4.934858322143555 | True pKd: 5.443697452545166\n",
      "Predicted pKd: 9.07909870147705 | True pKd: 9.327901840209961\n",
      "Predicted pKd: 6.433046340942383 | True pKd: 6.130181789398193\n",
      "Predicted pKd: 8.737235069274902 | True pKd: 9.698969841003418\n",
      "Predicted pKd: 6.592297554016113 | True pKd: 7.221848964691162\n",
      "Predicted pKd: 8.222260475158691 | True pKd: 8.301030158996582\n",
      "Predicted pKd: 9.347338676452637 | True pKd: 9.677781105041504\n",
      "Predicted pKd: 8.768157005310059 | True pKd: 8.95860767364502\n",
      "Predicted pKd: 5.348470687866211 | True pKd: 5.327902317047119\n",
      "Predicted pKd: 5.830066680908203 | True pKd: 5.397940158843994\n",
      "Predicted pKd: 6.371866226196289 | True pKd: 7.251811981201172\n",
      "Predicted pKd: 9.924556732177734 | True pKd: 9.935542106628418\n",
      "Predicted pKd: 6.40186882019043 | True pKd: 9.173925399780273\n",
      "Predicted pKd: 7.551679611206055 | True pKd: 7.774690628051758\n",
      "Predicted pKd: 6.851058006286621 | True pKd: 4.490797519683838\n",
      "Predicted pKd: 5.245206356048584 | True pKd: 4.0809221267700195\n",
      "Predicted pKd: 8.65290355682373 | True pKd: 7.79587984085083\n",
      "Predicted pKd: 6.822050094604492 | True pKd: 5.477555751800537\n",
      "Predicted pKd: 5.884365081787109 | True pKd: 6.477555751800537\n",
      "Predicted pKd: 6.608737945556641 | True pKd: 6.528708457946777\n",
      "Predicted pKd: 4.920912742614746 | True pKd: 5.275723934173584\n",
      "Predicted pKd: 5.589153289794922 | True pKd: 5.638272285461426\n",
      "Predicted pKd: 10.553802490234375 | True pKd: 10.130767822265625\n",
      "Predicted pKd: 9.163801193237305 | True pKd: 8.943095207214355\n",
      "Predicted pKd: 9.417679786682129 | True pKd: 10.795880317687988\n",
      "Predicted pKd: 7.446601867675781 | True pKd: 10.602060317993164\n",
      "Predicted pKd: 7.279533386230469 | True pKd: 9.004803657531738\n",
      "Predicted pKd: 4.878006935119629 | True pKd: 4.240332126617432\n",
      "Predicted pKd: 10.300675392150879 | True pKd: 10.826813697814941\n",
      "Predicted pKd: 7.461078643798828 | True pKd: 8.08092212677002\n",
      "Predicted pKd: 6.019379615783691 | True pKd: 6.0\n",
      "Predicted pKd: 8.990493774414062 | True pKd: 7.229147911071777\n",
      "Predicted pKd: 6.511836051940918 | True pKd: 6.367542743682861\n",
      "Predicted pKd: 9.892618179321289 | True pKd: 10.681936264038086\n",
      "Predicted pKd: 6.119346618652344 | True pKd: 3.97469425201416\n",
      "Predicted pKd: 7.7672576904296875 | True pKd: 7.2932820320129395\n",
      "Predicted pKd: 6.282766342163086 | True pKd: 5.823908805847168\n",
      "Predicted pKd: 8.817082405090332 | True pKd: 8.823908805847168\n",
      "Predicted pKd: 7.708039283752441 | True pKd: 6.070580959320068\n",
      "Predicted pKd: 6.622136116027832 | True pKd: 9.191788673400879\n",
      "Predicted pKd: 4.091021537780762 | True pKd: 3.522878646850586\n",
      "Predicted pKd: 7.61380672454834 | True pKd: 7.4685211181640625\n",
      "Predicted pKd: 5.706151962280273 | True pKd: 6.146301746368408\n",
      "Predicted pKd: 7.673391342163086 | True pKd: 8.070581436157227\n",
      "Predicted pKd: 6.814556121826172 | True pKd: 6.0\n",
      "Predicted pKd: 5.513702392578125 | True pKd: 5.913640022277832\n",
      "Predicted pKd: 5.690150260925293 | True pKd: 4.0\n",
      "Predicted pKd: 7.653998374938965 | True pKd: 8.522878646850586\n",
      "Predicted pKd: 4.692951202392578 | True pKd: 5.017276763916016\n",
      "Predicted pKd: 7.403231620788574 | True pKd: 6.692503929138184\n",
      "Predicted pKd: 8.904166221618652 | True pKd: 9.787812232971191\n",
      "Predicted pKd: 4.9141058921813965 | True pKd: 2.522878646850586\n",
      "Predicted pKd: 7.361712455749512 | True pKd: 7.245651721954346\n",
      "Predicted pKd: 6.008258819580078 | True pKd: 7.744727611541748\n",
      "Predicted pKd: 4.805938720703125 | True pKd: 6.0\n",
      "Predicted pKd: 9.40806770324707 | True pKd: 9.130767822265625\n",
      "Predicted pKd: 8.158707618713379 | True pKd: 5.221848964691162\n",
      "Predicted pKd: 7.439353942871094 | True pKd: 6.79587984085083\n",
      "Predicted pKd: 7.295357704162598 | True pKd: 8.58004379272461\n",
      "Predicted pKd: 5.472153663635254 | True pKd: 5.97469425201416\n",
      "Predicted pKd: 9.4113187789917 | True pKd: 8.376750946044922\n",
      "Predicted pKd: 4.496188163757324 | True pKd: 4.879426002502441\n",
      "Predicted pKd: 10.150436401367188 | True pKd: 6.910094738006592\n",
      "Predicted pKd: 5.695265769958496 | True pKd: 4.9281182289123535\n",
      "Predicted pKd: 5.001863479614258 | True pKd: 5.065501689910889\n",
      "Predicted pKd: 4.9850263595581055 | True pKd: 5.07572078704834\n",
      "Predicted pKd: 5.241858005523682 | True pKd: 8.045757293701172\n",
      "Predicted pKd: 7.409589767456055 | True pKd: 5.346787452697754\n",
      "Predicted pKd: 7.642091751098633 | True pKd: 7.954677104949951\n",
      "Predicted pKd: 7.60594367980957 | True pKd: 7.749579906463623\n",
      "Predicted pKd: 5.358098030090332 | True pKd: 6.823908805847168\n",
      "Predicted pKd: 7.214909553527832 | True pKd: 9.154901504516602\n",
      "Predicted pKd: 7.277387619018555 | True pKd: 6.92081880569458\n",
      "Predicted pKd: 10.079093933105469 | True pKd: 10.935542106628418\n",
      "Predicted pKd: 9.518362998962402 | True pKd: 10.30980396270752\n",
      "Predicted pKd: 7.616114616394043 | True pKd: 6.619788646697998\n",
      "Predicted pKd: 5.699898719787598 | True pKd: 4.60554838180542\n",
      "Predicted pKd: 8.609670639038086 | True pKd: 8.522878646850586\n",
      "Predicted pKd: 6.2999162673950195 | True pKd: 6.596879482269287\n",
      "Predicted pKd: 7.332937240600586 | True pKd: 8.303643226623535\n",
      "Predicted pKd: 9.13766860961914 | True pKd: 8.148741722106934\n",
      "Predicted pKd: 7.4214982986450195 | True pKd: 6.482804298400879\n",
      "Predicted pKd: 4.5318603515625 | True pKd: 4.0\n",
      "Predicted pKd: 7.876558303833008 | True pKd: 8.853872299194336\n",
      "Predicted pKd: 9.401142120361328 | True pKd: 9.267605781555176\n",
      "Predicted pKd: 7.696684837341309 | True pKd: 8.160521507263184\n",
      "Predicted pKd: 10.323298454284668 | True pKd: 11.301030158996582\n",
      "Predicted pKd: 7.390213966369629 | True pKd: 7.130768299102783\n",
      "Predicted pKd: 8.401827812194824 | True pKd: 9.522878646850586\n",
      "Predicted pKd: 5.539638519287109 | True pKd: 3.742321491241455\n",
      "Predicted pKd: 10.529818534851074 | True pKd: 12.041436195373535\n",
      "Predicted pKd: 9.398133277893066 | True pKd: 9.107905387878418\n",
      "Predicted pKd: 8.586621284484863 | True pKd: 7.568636417388916\n",
      "Predicted pKd: 10.571115493774414 | True pKd: 10.301030158996582\n",
      "Predicted pKd: 5.575352668762207 | True pKd: 2.853872060775757\n",
      "Predicted pKd: 10.394198417663574 | True pKd: 10.50445556640625\n",
      "Predicted pKd: 6.035372734069824 | True pKd: 4.327902317047119\n",
      "Predicted pKd: 9.816465377807617 | True pKd: 11.079355239868164\n",
      "Predicted pKd: 8.984525680541992 | True pKd: 7.474955081939697\n",
      "Predicted pKd: 6.703309059143066 | True pKd: 8.397939682006836\n",
      "Predicted pKd: 7.158074378967285 | True pKd: 8.294992446899414\n",
      "Predicted pKd: 8.09508991241455 | True pKd: 7.801342964172363\n",
      "Predicted pKd: 7.676800727844238 | True pKd: 6.070580959320068\n",
      "Predicted pKd: 5.9860334396362305 | True pKd: 5.443697452545166\n",
      "Predicted pKd: 9.116039276123047 | True pKd: 8.045757293701172\n",
      "Predicted pKd: 7.518792152404785 | True pKd: 10.301030158996582\n",
      "Predicted pKd: 8.636483192443848 | True pKd: 7.096909999847412\n",
      "Predicted pKd: 7.428289413452148 | True pKd: 7.041436195373535\n",
      "Predicted pKd: 8.680152893066406 | True pKd: 8.602060317993164\n",
      "Predicted pKd: 7.748932838439941 | True pKd: 7.0\n",
      "Predicted pKd: 4.372701644897461 | True pKd: 3.568636178970337\n",
      "Predicted pKd: 9.402579307556152 | True pKd: 6.591760158538818\n",
      "Predicted pKd: 5.314192295074463 | True pKd: 5.346787452697754\n",
      "Predicted pKd: 5.268915176391602 | True pKd: 5.0\n",
      "Predicted pKd: 7.79908561706543 | True pKd: 9.045757293701172\n",
      "Predicted pKd: 13.877293586730957 | True pKd: 15.142667770385742\n",
      "Predicted pKd: 4.61396598815918 | True pKd: 4.619788646697998\n",
      "Predicted pKd: 7.516583442687988 | True pKd: 11.709965705871582\n",
      "Predicted pKd: 7.707599639892578 | True pKd: 8.835647583007812\n",
      "Predicted pKd: 8.665085792541504 | True pKd: 9.90308952331543\n",
      "Predicted pKd: 8.196959495544434 | True pKd: 8.414539337158203\n",
      "Predicted pKd: 4.925340175628662 | True pKd: 4.723538398742676\n",
      "Predicted pKd: 8.713850975036621 | True pKd: 5.2441253662109375\n",
      "Predicted pKd: 4.537118434906006 | True pKd: 4.0\n",
      "Predicted pKd: 4.971343040466309 | True pKd: 4.0\n",
      "Predicted pKd: 7.3873186111450195 | True pKd: 7.301030158996582\n",
      "Predicted pKd: 5.895771026611328 | True pKd: 8.95860767364502\n",
      "Predicted pKd: 4.997458457946777 | True pKd: 3.966576337814331\n",
      "Predicted pKd: 7.420358657836914 | True pKd: 6.519992828369141\n",
      "Predicted pKd: 7.687753677368164 | True pKd: 13.892789840698242\n",
      "Predicted pKd: 4.533454895019531 | True pKd: 4.35852575302124\n",
      "Predicted pKd: 9.411340713500977 | True pKd: 7.522878646850586\n",
      "Predicted pKd: 7.516827583312988 | True pKd: 8.677781105041504\n",
      "Predicted pKd: 8.591527938842773 | True pKd: 6.698969841003418\n",
      "Predicted pKd: 5.212254524230957 | True pKd: 2.489454984664917\n",
      "Predicted pKd: 4.627354621887207 | True pKd: 4.397940158843994\n",
      "Predicted pKd: 6.840180397033691 | True pKd: 10.664742469787598\n",
      "Predicted pKd: 7.292828559875488 | True pKd: 8.301030158996582\n",
      "Predicted pKd: 7.482134819030762 | True pKd: 8.239577293395996\n",
      "Predicted pKd: 9.32345199584961 | True pKd: 9.806875228881836\n",
      "Predicted pKd: 8.752753257751465 | True pKd: 7.97469425201416\n",
      "Predicted pKd: 7.7842302322387695 | True pKd: 8.09691047668457\n",
      "Predicted pKd: 9.096237182617188 | True pKd: 9.481486320495605\n",
      "Predicted pKd: 4.836432456970215 | True pKd: 5.346787452697754\n",
      "Predicted pKd: 9.105730056762695 | True pKd: 9.886056900024414\n",
      "Predicted pKd: 5.470643997192383 | True pKd: 5.158015251159668\n",
      "Predicted pKd: 8.637421607971191 | True pKd: 6.070580959320068\n",
      "Predicted pKd: 9.404130935668945 | True pKd: 9.275724411010742\n",
      "Predicted pKd: 7.420469284057617 | True pKd: 6.6575775146484375\n",
      "Predicted pKd: 4.708385467529297 | True pKd: 4.886056423187256\n",
      "Predicted pKd: 9.32815170288086 | True pKd: 8.863279342651367\n",
      "Predicted pKd: 5.435688018798828 | True pKd: 5.206209659576416\n",
      "Predicted pKd: 5.3745832443237305 | True pKd: 3.301029920578003\n",
      "Predicted pKd: 8.438379287719727 | True pKd: 9.585026741027832\n",
      "Predicted pKd: 8.582235336303711 | True pKd: 8.86012077331543\n",
      "Predicted pKd: 7.646463394165039 | True pKd: 7.787812232971191\n",
      "Predicted pKd: 6.205953598022461 | True pKd: 6.546681880950928\n",
      "Predicted pKd: 7.677716255187988 | True pKd: 8.95078182220459\n",
      "Predicted pKd: 8.157861709594727 | True pKd: 11.721246719360352\n",
      "Predicted pKd: 4.679228782653809 | True pKd: 4.7695512771606445\n",
      "Predicted pKd: 4.928657531738281 | True pKd: 7.826813697814941\n",
      "Predicted pKd: 8.969265937805176 | True pKd: 7.97469425201416\n",
      "Predicted pKd: 8.204730033874512 | True pKd: 7.853871822357178\n",
      "Predicted pKd: 4.708998680114746 | True pKd: 6.036211967468262\n",
      "Predicted pKd: 8.350770950317383 | True pKd: 8.079355239868164\n",
      "Predicted pKd: 5.350720405578613 | True pKd: 5.443697452545166\n",
      "Predicted pKd: 9.875150680541992 | True pKd: 8.943095207214355\n",
      "Predicted pKd: 8.351667404174805 | True pKd: 8.259636878967285\n",
      "Predicted pKd: 6.0055389404296875 | True pKd: 4.744727611541748\n",
      "Predicted pKd: 7.013762474060059 | True pKd: 6.821022987365723\n",
      "Predicted pKd: 8.417293548583984 | True pKd: 8.481486320495605\n",
      "Predicted pKd: 5.670598983764648 | True pKd: 4.971022129058838\n",
      "Predicted pKd: 9.658209800720215 | True pKd: 8.0\n",
      "Predicted pKd: 4.950273513793945 | True pKd: 4.352617263793945\n",
      "Predicted pKd: 5.914825439453125 | True pKd: 7.823908805847168\n",
      "Predicted pKd: 7.302417755126953 | True pKd: 8.102373123168945\n",
      "Predicted pKd: 4.881684303283691 | True pKd: 5.397940158843994\n",
      "Predicted pKd: 5.725162506103516 | True pKd: 8.585026741027832\n",
      "Predicted pKd: 5.294793128967285 | True pKd: 4.568636417388916\n",
      "Predicted pKd: 8.085301399230957 | True pKd: 5.619788646697998\n",
      "Predicted pKd: 9.879294395446777 | True pKd: 9.230622291564941\n",
      "Predicted pKd: 7.246323585510254 | True pKd: 7.744727611541748\n",
      "Predicted pKd: 7.876691818237305 | True pKd: 8.045757293701172\n",
      "Predicted pKd: 9.505942344665527 | True pKd: 10.51855754852295\n",
      "Predicted pKd: 10.662297248840332 | True pKd: 12.0\n",
      "Predicted pKd: 9.451041221618652 | True pKd: 9.568635940551758\n",
      "Predicted pKd: 8.19140338897705 | True pKd: 8.09691047668457\n",
      "Predicted pKd: 8.09508991241455 | True pKd: 7.221848964691162\n",
      "Predicted pKd: 8.367966651916504 | True pKd: 7.531652450561523\n",
      "Predicted pKd: 5.435257911682129 | True pKd: 5.28399658203125\n",
      "Predicted pKd: 8.218894958496094 | True pKd: 8.95860767364502\n",
      "Predicted pKd: 4.166080474853516 | True pKd: 4.567030906677246\n",
      "Predicted pKd: 6.774205207824707 | True pKd: 9.730486869812012\n",
      "Predicted pKd: 5.8892011642456055 | True pKd: 5.4685211181640625\n",
      "Predicted pKd: 7.279911994934082 | True pKd: 6.522878646850586\n",
      "Predicted pKd: 4.9532976150512695 | True pKd: 3.698970079421997\n",
      "Predicted pKd: 10.35040283203125 | True pKd: 11.732828140258789\n",
      "Predicted pKd: 10.097841262817383 | True pKd: 10.405607223510742\n",
      "Predicted pKd: 5.898097991943359 | True pKd: 6.233587265014648\n",
      "Predicted pKd: 8.422501564025879 | True pKd: 7.638272285461426\n",
      "Predicted pKd: 8.646780014038086 | True pKd: 7.431798458099365\n",
      "Predicted pKd: 9.398612022399902 | True pKd: 9.187087059020996\n",
      "Predicted pKd: 9.4378023147583 | True pKd: 8.838631629943848\n",
      "Predicted pKd: 9.214502334594727 | True pKd: 13.886056900024414\n",
      "Predicted pKd: 7.89267635345459 | True pKd: 8.42021656036377\n",
      "Predicted pKd: 7.67475700378418 | True pKd: 6.7695512771606445\n",
      "Predicted pKd: 4.405210018157959 | True pKd: 5.28399658203125\n",
      "Predicted pKd: 10.030092239379883 | True pKd: 8.844663619995117\n",
      "Predicted pKd: 9.49435043334961 | True pKd: 11.568635940551758\n",
      "Predicted pKd: 5.49139404296875 | True pKd: 5.481485843658447\n",
      "Predicted pKd: 9.758034706115723 | True pKd: 8.669586181640625\n",
      "Predicted pKd: 8.555924415588379 | True pKd: 7.844664096832275\n",
      "Predicted pKd: 8.055253028869629 | True pKd: 8.446117401123047\n",
      "Predicted pKd: 4.643377304077148 | True pKd: 4.568636417388916\n",
      "Predicted pKd: 9.016223907470703 | True pKd: 11.050122261047363\n",
      "Predicted pKd: 9.626437187194824 | True pKd: 9.728157997131348\n",
      "Predicted pKd: 8.182784080505371 | True pKd: 5.92081880569458\n",
      "Predicted pKd: 10.180718421936035 | True pKd: 9.95078182220459\n",
      "Predicted pKd: 4.802011489868164 | True pKd: 3.860121011734009\n",
      "Predicted pKd: 8.51102066040039 | True pKd: 8.356547355651855\n",
      "Predicted pKd: 7.8501386642456055 | True pKd: 7.133121967315674\n",
      "Predicted pKd: 10.58028793334961 | True pKd: 11.568635940551758\n",
      "Predicted pKd: 4.932441711425781 | True pKd: 4.744727611541748\n",
      "Predicted pKd: 7.356564521789551 | True pKd: 5.384049892425537\n",
      "Predicted pKd: 7.0353851318359375 | True pKd: 7.045757293701172\n",
      "Predicted pKd: 6.161376953125 | True pKd: 7.0245680809021\n",
      "Predicted pKd: 9.383024215698242 | True pKd: 8.66353988647461\n",
      "Predicted pKd: 9.836653709411621 | True pKd: 10.20065975189209\n",
      "Predicted pKd: 8.154620170593262 | True pKd: 7.809668064117432\n",
      "Predicted pKd: 8.195488929748535 | True pKd: 7.585026741027832\n",
      "Predicted pKd: 7.586247444152832 | True pKd: 9.0\n",
      "Predicted pKd: 7.293856620788574 | True pKd: 5.782516002655029\n",
      "Predicted pKd: 8.17855167388916 | True pKd: 9.522878646850586\n",
      "Predicted pKd: 7.701573371887207 | True pKd: 6.548213481903076\n",
      "Predicted pKd: 6.428367614746094 | True pKd: 7.749579906463623\n",
      "Predicted pKd: 7.902681350708008 | True pKd: 8.568635940551758\n",
      "Predicted pKd: 7.667445182800293 | True pKd: 8.17457389831543\n",
      "Predicted pKd: 5.989461898803711 | True pKd: 4.0809221267700195\n",
      "Predicted pKd: 5.8330278396606445 | True pKd: 7.7695512771606445\n",
      "Predicted pKd: 7.481337547302246 | True pKd: 7.995678424835205\n",
      "Predicted pKd: 8.294196128845215 | True pKd: 8.537602424621582\n",
      "Predicted pKd: 7.412595748901367 | True pKd: 9.0\n",
      "Predicted pKd: 8.401715278625488 | True pKd: 8.879426002502441\n",
      "Predicted pKd: 8.784584045410156 | True pKd: 8.998266220092773\n",
      "Predicted pKd: 9.402079582214355 | True pKd: 9.207608222961426\n",
      "Predicted pKd: 7.278459548950195 | True pKd: 7.376750946044922\n",
      "Predicted pKd: 10.350347518920898 | True pKd: 11.522878646850586\n",
      "Predicted pKd: 8.180171966552734 | True pKd: 10.774690628051758\n",
      "Predicted pKd: 10.10069751739502 | True pKd: 8.58004379272461\n",
      "Predicted pKd: 8.340638160705566 | True pKd: 2.823908805847168\n",
      "Predicted pKd: 8.92755126953125 | True pKd: 8.230622291564941\n",
      "Predicted pKd: 4.667405128479004 | True pKd: 5.033389091491699\n",
      "Predicted pKd: 8.18242359161377 | True pKd: 7.623423099517822\n",
      "Predicted pKd: 7.312497138977051 | True pKd: 8.146302223205566\n",
      "Predicted pKd: 5.893341064453125 | True pKd: 7.0\n",
      "Predicted pKd: 13.95954418182373 | True pKd: 15.180456161499023\n",
      "Predicted pKd: 7.201075553894043 | True pKd: 7.7695512771606445\n",
      "Predicted pKd: 4.620112419128418 | True pKd: 5.494850158691406\n",
      "Predicted pKd: 9.553866386413574 | True pKd: 9.769551277160645\n",
      "Predicted pKd: 7.509364128112793 | True pKd: 6.749579906463623\n",
      "Predicted pKd: 7.493168830871582 | True pKd: 6.20412015914917\n",
      "Predicted pKd: 4.130176544189453 | True pKd: 4.679853916168213\n",
      "Predicted pKd: 6.211583137512207 | True pKd: 8.552842140197754\n",
      "Predicted pKd: 4.830005645751953 | True pKd: 8.040958404541016\n",
      "Predicted pKd: 5.004861831665039 | True pKd: 5.764471530914307\n",
      "Predicted pKd: 11.692636489868164 | True pKd: 12.481486320495605\n",
      "Predicted pKd: 9.334192276000977 | True pKd: 10.154901504516602\n",
      "Predicted pKd: 9.017081260681152 | True pKd: 8.602060317993164\n",
      "Predicted pKd: 5.589712142944336 | True pKd: 7.229147911071777\n",
      "Predicted pKd: 7.405250549316406 | True pKd: 6.202040195465088\n",
      "Predicted pKd: 8.991570472717285 | True pKd: 7.640164375305176\n",
      "Predicted pKd: 10.119040489196777 | True pKd: 10.114073753356934\n",
      "Predicted pKd: 7.370393753051758 | True pKd: 7.958607196807861\n",
      "Predicted pKd: 4.649043083190918 | True pKd: 4.619788646697998\n",
      "Predicted pKd: 7.646432876586914 | True pKd: 6.576754093170166\n",
      "Predicted pKd: 9.953478813171387 | True pKd: 10.366531372070312\n",
      "Predicted pKd: 8.669054985046387 | True pKd: 10.073143005371094\n",
      "Predicted pKd: 7.7469482421875 | True pKd: 7.9430952072143555\n",
      "Predicted pKd: 7.226834297180176 | True pKd: 7.978810787200928\n",
      "Predicted pKd: 8.38244342803955 | True pKd: 8.549751281738281\n",
      "Predicted pKd: 5.402531623840332 | True pKd: 5.397940158843994\n",
      "Predicted pKd: 10.085503578186035 | True pKd: 10.42021656036377\n",
      "Predicted pKd: 6.511757850646973 | True pKd: 7.481485843658447\n",
      "Predicted pKd: 7.428581237792969 | True pKd: 8.07675552368164\n",
      "Predicted pKd: 6.778464317321777 | True pKd: 5.725841999053955\n",
      "Predicted pKd: 9.272998809814453 | True pKd: 9.552842140197754\n",
      "Predicted pKd: 6.842703819274902 | True pKd: 7.17587423324585\n",
      "Predicted pKd: 8.168070793151855 | True pKd: 7.982966423034668\n",
      "Predicted pKd: 5.7703351974487305 | True pKd: 5.267606258392334\n",
      "Predicted pKd: 8.064262390136719 | True pKd: 9.737548828125\n",
      "Predicted pKd: 6.095198631286621 | True pKd: 4.462181091308594\n",
      "Predicted pKd: 7.834233283996582 | True pKd: 8.060481071472168\n",
      "Predicted pKd: 5.190314292907715 | True pKd: 3.051098346710205\n",
      "Predicted pKd: 5.265254974365234 | True pKd: 4.222573280334473\n",
      "Predicted pKd: 7.288551330566406 | True pKd: 7.744727611541748\n",
      "Predicted pKd: 8.170127868652344 | True pKd: 8.107349395751953\n",
      "Predicted pKd: 5.726409912109375 | True pKd: 10.327901840209961\n",
      "Predicted pKd: 8.680670738220215 | True pKd: 8.95860767364502\n",
      "Predicted pKd: 5.957531929016113 | True pKd: 2.863279342651367\n",
      "Predicted pKd: 8.591999053955078 | True pKd: 10.251811981201172\n",
      "Predicted pKd: 6.790188789367676 | True pKd: 6.0\n",
      "Predicted pKd: 8.247000694274902 | True pKd: 8.221848487854004\n",
      "Predicted pKd: 7.243119239807129 | True pKd: 7.318758964538574\n",
      "Predicted pKd: 5.520679473876953 | True pKd: 4.612610340118408\n",
      "Predicted pKd: 7.704218864440918 | True pKd: 8.698969841003418\n",
      "Predicted pKd: 6.315970420837402 | True pKd: 6.698969841003418\n",
      "Predicted pKd: 7.390815734863281 | True pKd: 6.399026870727539\n",
      "Predicted pKd: 5.566540718078613 | True pKd: 5.958607196807861\n",
      "Predicted pKd: 9.921245574951172 | True pKd: 8.698969841003418\n",
      "Predicted pKd: 5.175610542297363 | True pKd: 4.698969841003418\n",
      "Predicted pKd: 8.839435577392578 | True pKd: 9.95860767364502\n",
      "Predicted pKd: 8.257528305053711 | True pKd: 8.060481071472168\n",
      "Predicted pKd: 7.7741804122924805 | True pKd: 7.114073753356934\n",
      "Predicted pKd: 5.131460189819336 | True pKd: 4.431798458099365\n",
      "Predicted pKd: 5.591733932495117 | True pKd: 6.619788646697998\n",
      "Predicted pKd: 9.71822452545166 | True pKd: 10.341988563537598\n",
      "Predicted pKd: 9.3236722946167 | True pKd: 8.90308952331543\n",
      "Predicted pKd: 9.144296646118164 | True pKd: 7.698969841003418\n",
      "Predicted pKd: 4.6576104164123535 | True pKd: 5.15490198135376\n",
      "Predicted pKd: 5.025190830230713 | True pKd: 4.473660945892334\n",
      "Predicted pKd: 7.742607116699219 | True pKd: 7.612610340118408\n",
      "Predicted pKd: 9.057798385620117 | True pKd: 9.154901504516602\n",
      "Predicted pKd: 5.044087886810303 | True pKd: 6.453457355499268\n",
      "Predicted pKd: 7.688912391662598 | True pKd: 12.69680404663086\n",
      "Predicted pKd: 9.40224838256836 | True pKd: 9.431797981262207\n",
      "Predicted pKd: 4.978821754455566 | True pKd: 3.698970079421997\n",
      "Predicted pKd: 5.507646560668945 | True pKd: 5.2441253662109375\n",
      "Predicted pKd: 5.602007865905762 | True pKd: 4.136677265167236\n",
      "Predicted pKd: 10.350347518920898 | True pKd: 11.522878646850586\n",
      "Predicted pKd: 7.299628257751465 | True pKd: 7.259637355804443\n",
      "Predicted pKd: 6.8666181564331055 | True pKd: 5.886056423187256\n",
      "Predicted pKd: 8.565093994140625 | True pKd: 7.853871822357178\n",
      "Predicted pKd: 6.285893440246582 | True pKd: 6.327902317047119\n",
      "Predicted pKd: 9.755231857299805 | True pKd: 9.202040672302246\n",
      "Predicted pKd: 7.303095817565918 | True pKd: 8.508638381958008\n",
      "Predicted pKd: 4.454594612121582 | True pKd: 4.829738140106201\n",
      "Predicted pKd: 6.690918922424316 | True pKd: 5.7695512771606445\n",
      "Predicted pKd: 7.417183876037598 | True pKd: 5.133121967315674\n",
      "Predicted pKd: 7.208345413208008 | True pKd: 5.126679420471191\n",
      "Predicted pKd: 9.424825668334961 | True pKd: 9.728157997131348\n",
      "Predicted pKd: 6.937590599060059 | True pKd: 6.498940944671631\n",
      "Predicted pKd: 7.378170967102051 | True pKd: 4.607303142547607\n",
      "Predicted pKd: 5.788951873779297 | True pKd: 4.0\n",
      "Predicted pKd: 6.548137664794922 | True pKd: 7.454692840576172\n",
      "Predicted pKd: 9.175780296325684 | True pKd: 7.677780628204346\n",
      "Predicted pKd: 9.026960372924805 | True pKd: 7.472370147705078\n",
      "Predicted pKd: 5.008747100830078 | True pKd: 5.1337127685546875\n",
      "Predicted pKd: 6.917085647583008 | True pKd: 8.301030158996582\n",
      "Predicted pKd: 7.323528289794922 | True pKd: 6.543633937835693\n",
      "Predicted pKd: 4.955955505371094 | True pKd: 5.132532596588135\n",
      "Predicted pKd: 7.389148712158203 | True pKd: 6.131943702697754\n",
      "Predicted pKd: 7.301161766052246 | True pKd: 6.214670181274414\n",
      "Predicted pKd: 6.161376953125 | True pKd: 7.17587423324585\n",
      "Predicted pKd: 5.638039588928223 | True pKd: 4.910094738006592\n",
      "Predicted pKd: 7.957928657531738 | True pKd: 7.397940158843994\n",
      "Predicted pKd: 10.04195499420166 | True pKd: 9.114073753356934\n",
      "Predicted pKd: 5.031929016113281 | True pKd: 5.93930196762085\n",
      "Predicted pKd: 6.260557174682617 | True pKd: 13.230622291564941\n",
      "Predicted pKd: 4.941615104675293 | True pKd: 5.130768299102783\n",
      "Predicted pKd: 7.671317100524902 | True pKd: 8.522878646850586\n",
      "Predicted pKd: 9.399975776672363 | True pKd: 9.443697929382324\n",
      "Predicted pKd: 5.487401962280273 | True pKd: 4.823908805847168\n",
      "Predicted pKd: 8.18244457244873 | True pKd: 9.258848190307617\n",
      "Predicted pKd: 7.886561393737793 | True pKd: 8.397939682006836\n",
      "Predicted pKd: 12.040471076965332 | True pKd: 7.136677265167236\n",
      "Predicted pKd: 7.265566825866699 | True pKd: 4.232102394104004\n",
      "Predicted pKd: 8.662793159484863 | True pKd: 9.954676628112793\n",
      "Predicted pKd: 10.598957061767578 | True pKd: 9.508638381958008\n",
      "Predicted pKd: 8.01916217803955 | True pKd: 7.886056423187256\n",
      "Predicted pKd: 6.019443511962891 | True pKd: 5.823908805847168\n",
      "Predicted pKd: 5.418493270874023 | True pKd: 5.022276401519775\n",
      "Predicted pKd: 4.849845886230469 | True pKd: 3.795880079269409\n",
      "Predicted pKd: 6.166189193725586 | True pKd: 6.06048059463501\n",
      "Predicted pKd: 7.259304046630859 | True pKd: 6.84163761138916\n",
      "Predicted pKd: 7.726282119750977 | True pKd: 6.536107063293457\n",
      "Predicted pKd: 9.103121757507324 | True pKd: 9.251811981201172\n",
      "Predicted pKd: 5.26197624206543 | True pKd: 4.508638381958008\n",
      "Predicted pKd: 9.694002151489258 | True pKd: 8.97881031036377\n",
      "Predicted pKd: 6.825971603393555 | True pKd: 7.337242126464844\n",
      "Predicted pKd: 4.622977256774902 | True pKd: 4.318758964538574\n",
      "Predicted pKd: 8.574856758117676 | True pKd: 7.040958404541016\n",
      "Predicted pKd: 8.172175407409668 | True pKd: 8.657577514648438\n",
      "Predicted pKd: 7.341200828552246 | True pKd: 4.92081880569458\n",
      "Predicted pKd: 6.897066116333008 | True pKd: 7.136677265167236\n",
      "Predicted pKd: 7.39506721496582 | True pKd: 7.239577293395996\n",
      "Predicted pKd: 7.389081954956055 | True pKd: 7.187086582183838\n",
      "Predicted pKd: 6.866954803466797 | True pKd: 6.698969841003418\n",
      "Predicted pKd: 5.847240447998047 | True pKd: 5.031517028808594\n",
      "Predicted pKd: 9.06946086883545 | True pKd: 9.602060317993164\n",
      "Predicted pKd: 5.005969047546387 | True pKd: 5.500312805175781\n",
      "Predicted pKd: 9.539268493652344 | True pKd: 9.737548828125\n",
      "Predicted pKd: 8.550573348999023 | True pKd: 7.562249660491943\n",
      "Predicted pKd: 9.12282943725586 | True pKd: 8.943095207214355\n",
      "Predicted pKd: 9.595108985900879 | True pKd: 8.638272285461426\n",
      "Predicted pKd: 8.818944931030273 | True pKd: 10.52432918548584\n",
      "Predicted pKd: 7.295248031616211 | True pKd: 6.823908805847168\n",
      "Predicted pKd: 9.261780738830566 | True pKd: 7.931814193725586\n",
      "Predicted pKd: 6.408534049987793 | True pKd: 7.777283668518066\n",
      "Predicted pKd: 8.604203224182129 | True pKd: 8.481486320495605\n",
      "Predicted pKd: 8.735990524291992 | True pKd: 12.0\n",
      "Predicted pKd: 9.117095947265625 | True pKd: 8.920818328857422\n",
      "Predicted pKd: 8.60517692565918 | True pKd: 11.193819999694824\n",
      "Predicted pKd: 7.612378120422363 | True pKd: 7.863279342651367\n",
      "Predicted pKd: 4.644649982452393 | True pKd: 5.0\n",
      "Predicted pKd: 9.795262336730957 | True pKd: 11.0\n",
      "Predicted pKd: 4.668199062347412 | True pKd: 4.423658847808838\n",
      "Predicted pKd: 8.478806495666504 | True pKd: 6.413412570953369\n",
      "Predicted pKd: 6.170584678649902 | True pKd: 11.602060317993164\n",
      "Predicted pKd: 7.427736282348633 | True pKd: 8.29242992401123\n",
      "Predicted pKd: 7.702933311462402 | True pKd: 7.970616340637207\n",
      "Predicted pKd: 8.0634765625 | True pKd: 6.7798919677734375\n",
      "Predicted pKd: 8.4922456741333 | True pKd: 3.50445556640625\n",
      "Predicted pKd: 8.610225677490234 | True pKd: 10.154901504516602\n",
      "Predicted pKd: 7.7230224609375 | True pKd: 8.522878646850586\n",
      "Predicted pKd: 7.290363311767578 | True pKd: 6.481485843658447\n",
      "Predicted pKd: 8.28204345703125 | True pKd: 8.443697929382324\n",
      "Predicted pKd: 6.736612319946289 | True pKd: 6.675717353820801\n",
      "Predicted pKd: 6.450893402099609 | True pKd: 6.458420753479004\n",
      "Predicted pKd: 6.776846885681152 | True pKd: 8.698969841003418\n",
      "Predicted pKd: 9.400774955749512 | True pKd: 9.327901840209961\n",
      "Predicted pKd: 7.914525032043457 | True pKd: 8.102373123168945\n",
      "Predicted pKd: 8.08380126953125 | True pKd: 7.698969841003418\n",
      "Predicted pKd: 9.139922142028809 | True pKd: 10.698969841003418\n",
      "Predicted pKd: 5.0391364097595215 | True pKd: 4.585026741027832\n",
      "Predicted pKd: 10.458789825439453 | True pKd: 9.812479019165039\n",
      "Predicted pKd: 8.144673347473145 | True pKd: 8.537602424621582\n",
      "Predicted pKd: 7.271008491516113 | True pKd: 11.645891189575195\n",
      "Predicted pKd: 9.062714576721191 | True pKd: 9.619789123535156\n",
      "Predicted pKd: 5.31648063659668 | True pKd: 7.568636417388916\n",
      "Predicted pKd: 8.670502662658691 | True pKd: 9.90308952331543\n",
      "Predicted pKd: 7.455680847167969 | True pKd: 6.709965229034424\n",
      "Predicted pKd: 9.573504447937012 | True pKd: 6.896196365356445\n",
      "Predicted pKd: 5.210452556610107 | True pKd: 7.096909999847412\n",
      "Predicted pKd: 6.733185768127441 | True pKd: 6.301030158996582\n",
      "Predicted pKd: 6.266932487487793 | True pKd: 5.718966484069824\n",
      "Predicted pKd: 6.91595458984375 | True pKd: 8.148741722106934\n",
      "Predicted pKd: 7.301448822021484 | True pKd: 7.130768299102783\n",
      "Predicted pKd: 4.709364891052246 | True pKd: 5.92081880569458\n",
      "Predicted pKd: 9.05154037475586 | True pKd: 8.74472713470459\n",
      "Predicted pKd: 5.956988334655762 | True pKd: 5.161150932312012\n",
      "Predicted pKd: 9.308258056640625 | True pKd: 9.379863739013672\n",
      "Predicted pKd: 8.328371047973633 | True pKd: 8.102373123168945\n",
      "Predicted pKd: 7.884206771850586 | True pKd: 9.795880317687988\n",
      "Predicted pKd: 10.058241844177246 | True pKd: 4.906578540802002\n",
      "Predicted pKd: 6.084867477416992 | True pKd: 5.534616947174072\n",
      "Predicted pKd: 7.441648483276367 | True pKd: 5.346787452697754\n",
      "Predicted pKd: 8.178617477416992 | True pKd: 9.045757293701172\n",
      "Predicted pKd: 6.480443954467773 | True pKd: 8.301030158996582\n",
      "Predicted pKd: 9.50262451171875 | True pKd: 9.356547355651855\n",
      "Predicted pKd: 7.066140174865723 | True pKd: 7.767004013061523\n",
      "Predicted pKd: 7.601675987243652 | True pKd: 9.886056900024414\n",
      "Predicted pKd: 4.088374614715576 | True pKd: 3.698970079421997\n",
      "Predicted pKd: 10.911993980407715 | True pKd: 11.49079704284668\n",
      "Predicted pKd: 4.538777828216553 | True pKd: 3.9586071968078613\n",
      "Predicted pKd: 7.322296142578125 | True pKd: 5.031517028808594\n",
      "Predicted pKd: 6.99668025970459 | True pKd: 4.705533981323242\n",
      "Predicted pKd: 9.06491756439209 | True pKd: 8.769551277160645\n",
      "Predicted pKd: 8.069701194763184 | True pKd: 7.508638381958008\n",
      "Predicted pKd: 7.438506126403809 | True pKd: 6.906578540802002\n",
      "Predicted pKd: 7.29990291595459 | True pKd: 7.522878646850586\n",
      "Predicted pKd: 8.933989524841309 | True pKd: 9.853872299194336\n",
      "Predicted pKd: 7.443120956420898 | True pKd: 9.657577514648438\n",
      "Predicted pKd: 11.015007972717285 | True pKd: 10.823908805847168\n",
      "Predicted pKd: 7.4843549728393555 | True pKd: 7.903090000152588\n",
      "Predicted pKd: 4.934292793273926 | True pKd: 5.065501689910889\n",
      "Predicted pKd: 8.271571159362793 | True pKd: 8.67162036895752\n",
      "Predicted pKd: 9.958602905273438 | True pKd: 9.669586181640625\n",
      "Predicted pKd: 7.534493446350098 | True pKd: 7.3565473556518555\n",
      "Predicted pKd: 10.454960823059082 | True pKd: 8.939302444458008\n",
      "Predicted pKd: 6.4816083908081055 | True pKd: 3.976747512817383\n",
      "Predicted pKd: 7.399669647216797 | True pKd: 5.522878646850586\n",
      "Predicted pKd: 10.430397987365723 | True pKd: 11.204119682312012\n",
      "Predicted pKd: 4.744416236877441 | True pKd: 3.5243287086486816\n",
      "Predicted pKd: 6.622689247131348 | True pKd: 6.958607196807861\n",
      "Predicted pKd: 9.60844612121582 | True pKd: 14.537602424621582\n",
      "Predicted pKd: 9.526899337768555 | True pKd: 8.585026741027832\n",
      "Predicted pKd: 4.41586971282959 | True pKd: 3.555955171585083\n",
      "Predicted pKd: 6.074803352355957 | True pKd: 4.496209144592285\n",
      "Predicted pKd: 4.7161664962768555 | True pKd: 4.886056423187256\n",
      "Predicted pKd: 7.44349479675293 | True pKd: 6.954677104949951\n",
      "Predicted pKd: 8.730117797851562 | True pKd: 5.886056423187256\n",
      "Predicted pKd: 6.864147186279297 | True pKd: 7.3565473556518555\n",
      "Predicted pKd: 8.391351699829102 | True pKd: 7.817300319671631\n",
      "Predicted pKd: 6.431492805480957 | True pKd: 5.301030158996582\n",
      "Predicted pKd: 9.380783081054688 | True pKd: 7.4788618087768555\n",
      "Predicted pKd: 10.411799430847168 | True pKd: 7.462181091308594\n",
      "Predicted pKd: 5.445252418518066 | True pKd: 3.698970079421997\n",
      "Predicted pKd: 7.178421974182129 | True pKd: 9.017728805541992\n",
      "Predicted pKd: 7.419410705566406 | True pKd: 6.307153224945068\n",
      "Predicted pKd: 5.792863845825195 | True pKd: 8.698969841003418\n",
      "Predicted pKd: 8.702107429504395 | True pKd: 9.408935546875\n",
      "Predicted pKd: 9.219698905944824 | True pKd: 8.0\n",
      "Predicted pKd: 8.66557788848877 | True pKd: 9.721246719360352\n",
      "Predicted pKd: 4.713878631591797 | True pKd: 4.812479496002197\n",
      "Predicted pKd: 5.6815032958984375 | True pKd: 6.552842140197754\n",
      "Predicted pKd: 5.936821937561035 | True pKd: 7.585026741027832\n",
      "Predicted pKd: 7.684242248535156 | True pKd: 8.522878646850586\n",
      "Predicted pKd: 5.071338653564453 | True pKd: 6.307153224945068\n",
      "Predicted pKd: 8.671683311462402 | True pKd: 7.991399765014648\n",
      "Predicted pKd: 5.987448692321777 | True pKd: 6.756961822509766\n",
      "Predicted pKd: 8.458398818969727 | True pKd: 5.698969841003418\n",
      "Predicted pKd: 7.705142974853516 | True pKd: 7.4509968757629395\n",
      "Predicted pKd: 6.908217430114746 | True pKd: 6.663540363311768\n",
      "Predicted pKd: 9.766200065612793 | True pKd: 8.322393417358398\n",
      "Predicted pKd: 9.271491050720215 | True pKd: 9.041436195373535\n",
      "Predicted pKd: 4.355110168457031 | True pKd: 4.065501689910889\n",
      "Predicted pKd: 7.7660369873046875 | True pKd: 7.610834121704102\n",
      "Predicted pKd: 13.864516258239746 | True pKd: 10.537602424621582\n",
      "Predicted pKd: 6.464644432067871 | True pKd: 7.482804298400879\n",
      "Predicted pKd: 6.1837663650512695 | True pKd: 8.045757293701172\n",
      "Predicted pKd: 8.396012306213379 | True pKd: 8.801342964172363\n",
      "Predicted pKd: 5.543663024902344 | True pKd: 5.92081880569458\n",
      "Predicted pKd: 4.875147819519043 | True pKd: 5.718966484069824\n",
      "Predicted pKd: 5.935640335083008 | True pKd: 5.07572078704834\n",
      "Predicted pKd: 6.885266304016113 | True pKd: 7.114073753356934\n",
      "Predicted pKd: 9.225329399108887 | True pKd: 8.026871681213379\n",
      "Predicted pKd: 8.43983268737793 | True pKd: 5.935542106628418\n",
      "Predicted pKd: 6.260557174682617 | True pKd: 13.230622291564941\n",
      "Predicted pKd: 5.534816741943359 | True pKd: 6.15490198135376\n",
      "Predicted pKd: 7.396588325500488 | True pKd: 5.588380336761475\n",
      "Predicted pKd: 9.11904239654541 | True pKd: 9.091514587402344\n",
      "Predicted pKd: 4.881255626678467 | True pKd: 4.84163761138916\n",
      "Predicted pKd: 5.110833644866943 | True pKd: 4.384049892425537\n",
      "Predicted pKd: 7.423737525939941 | True pKd: 6.798603057861328\n",
      "Predicted pKd: 5.494378089904785 | True pKd: 4.040005207061768\n",
      "Predicted pKd: 4.2859392166137695 | True pKd: 6.221848964691162\n",
      "Predicted pKd: 7.624144554138184 | True pKd: 7.221848964691162\n",
      "Predicted pKd: 12.774279594421387 | True pKd: 13.657577514648438\n",
      "Predicted pKd: 10.552641868591309 | True pKd: 9.568635940551758\n",
      "Predicted pKd: 4.85875129699707 | True pKd: 4.677780628204346\n",
      "Predicted pKd: 7.674230575561523 | True pKd: 7.588380336761475\n",
      "Predicted pKd: 8.272529602050781 | True pKd: 7.045757293701172\n",
      "Predicted pKd: 8.629167556762695 | True pKd: 8.30980396270752\n",
      "Predicted pKd: 5.455084800720215 | True pKd: 3.698970079421997\n",
      "Predicted pKd: 4.495318412780762 | True pKd: 5.0\n",
      "Predicted pKd: 6.7592058181762695 | True pKd: 7.585026741027832\n",
      "Predicted pKd: 9.971388816833496 | True pKd: 11.341988563537598\n",
      "Predicted pKd: 5.012091636657715 | True pKd: 4.5100417137146\n",
      "Predicted pKd: 9.40446949005127 | True pKd: 9.356547355651855\n",
      "Predicted pKd: 8.579687118530273 | True pKd: 9.602060317993164\n",
      "Predicted pKd: 5.609990119934082 | True pKd: 6.096909999847412\n",
      "Predicted pKd: 4.981053829193115 | True pKd: 5.289036750793457\n",
      "Predicted pKd: 6.19936466217041 | True pKd: 9.522878646850586\n",
      "Predicted pKd: 7.75102424621582 | True pKd: 8.279840469360352\n",
      "Predicted pKd: 7.432223320007324 | True pKd: 8.698969841003418\n",
      "Predicted pKd: 6.899195671081543 | True pKd: 4.913640022277832\n",
      "Predicted pKd: 8.528780937194824 | True pKd: 8.728157997131348\n",
      "Predicted pKd: 8.097548484802246 | True pKd: 5.568636417388916\n",
      "Predicted pKd: 4.711245536804199 | True pKd: 5.180456161499023\n",
      "Predicted pKd: 8.663384437561035 | True pKd: 9.681936264038086\n",
      "Predicted pKd: 8.534141540527344 | True pKd: 8.294992446899414\n",
      "Predicted pKd: 7.277230262756348 | True pKd: 6.121478080749512\n",
      "Predicted pKd: 7.434836387634277 | True pKd: 6.638272285461426\n",
      "Predicted pKd: 4.6088175773620605 | True pKd: 6.931814193725586\n",
      "Predicted pKd: 4.540345668792725 | True pKd: 4.6556077003479\n",
      "Predicted pKd: 9.18130874633789 | True pKd: 7.462181091308594\n",
      "Predicted pKd: 9.258500099182129 | True pKd: 9.254924774169922\n",
      "Predicted pKd: 4.716429710388184 | True pKd: 4.886056423187256\n",
      "Predicted pKd: 9.123903274536133 | True pKd: 8.95860767364502\n",
      "Predicted pKd: 9.184602737426758 | True pKd: 8.886056900024414\n",
      "Predicted pKd: 8.158146858215332 | True pKd: 8.58004379272461\n",
      "Predicted pKd: 5.929478645324707 | True pKd: 5.4685211181640625\n",
      "Predicted pKd: 5.8546295166015625 | True pKd: 5.102373123168945\n",
      "Predicted pKd: 6.249035835266113 | True pKd: 7.0245680809021\n",
      "Predicted pKd: 7.3075361251831055 | True pKd: 6.79048490524292\n",
      "Predicted pKd: 7.752033233642578 | True pKd: 8.638272285461426\n",
      "Predicted pKd: 9.233930587768555 | True pKd: 7.267606258392334\n",
      "Predicted pKd: 9.40139389038086 | True pKd: 9.173925399780273\n",
      "Predicted pKd: 5.165408134460449 | True pKd: 4.187086582183838\n",
      "Predicted pKd: 5.599520683288574 | True pKd: 5.744727611541748\n",
      "Predicted pKd: 8.069685935974121 | True pKd: 8.397939682006836\n",
      "Predicted pKd: 7.636819839477539 | True pKd: 11.30980396270752\n",
      "Predicted pKd: 8.645917892456055 | True pKd: 8.795880317687988\n",
      "Predicted pKd: 9.701327323913574 | True pKd: 10.602060317993164\n",
      "Predicted pKd: 9.156795501708984 | True pKd: 9.0\n",
      "Predicted pKd: 9.909392356872559 | True pKd: 10.181114196777344\n",
      "Predicted pKd: 7.801791191101074 | True pKd: 7.086185932159424\n",
      "Predicted pKd: 8.185518264770508 | True pKd: 8.063486099243164\n",
      "Predicted pKd: 8.235187530517578 | True pKd: 7.707744121551514\n",
      "Predicted pKd: 10.181682586669922 | True pKd: 10.653647422790527\n",
      "Predicted pKd: 9.715682983398438 | True pKd: 9.71669864654541\n",
      "Predicted pKd: 7.281655311584473 | True pKd: 6.4202165603637695\n",
      "Predicted pKd: 5.799496650695801 | True pKd: 7.289882659912109\n",
      "Predicted pKd: 13.45013427734375 | True pKd: 13.42021656036377\n",
      "Predicted pKd: 4.532796859741211 | True pKd: 4.879426002502441\n",
      "Predicted pKd: 3.541989326477051 | True pKd: 6.337242126464844\n",
      "Predicted pKd: 9.411164283752441 | True pKd: 9.522878646850586\n",
      "Predicted pKd: 6.261103630065918 | True pKd: 5.064492702484131\n",
      "Predicted pKd: 5.77931022644043 | True pKd: 3.903090000152588\n",
      "Predicted pKd: 9.872936248779297 | True pKd: 8.397939682006836\n",
      "Predicted pKd: 10.360177040100098 | True pKd: 10.747146606445312\n",
      "Predicted pKd: 8.318163871765137 | True pKd: 8.397939682006836\n",
      "Predicted pKd: 5.608345031738281 | True pKd: 6.2343316078186035\n",
      "Predicted pKd: 9.46780776977539 | True pKd: 8.96657657623291\n",
      "Predicted pKd: 6.30894660949707 | True pKd: 5.481485843658447\n",
      "Predicted pKd: 8.222941398620605 | True pKd: 8.95860767364502\n",
      "Predicted pKd: 8.725696563720703 | True pKd: 6.43889856338501\n",
      "Predicted pKd: 8.289557456970215 | True pKd: 8.80966854095459\n",
      "Predicted pKd: 7.432372093200684 | True pKd: 7.146301746368408\n",
      "Predicted pKd: 7.401074409484863 | True pKd: 6.238824367523193\n",
      "Predicted pKd: 9.076639175415039 | True pKd: 8.283162117004395\n",
      "Predicted pKd: 7.107169151306152 | True pKd: 6.0087738037109375\n",
      "Predicted pKd: 6.041268348693848 | True pKd: 5.886056423187256\n",
      "Predicted pKd: 9.192317962646484 | True pKd: 10.12493896484375\n",
      "Predicted pKd: 6.692499160766602 | True pKd: 7.107905387878418\n",
      "Predicted pKd: 4.971320152282715 | True pKd: 5.1857523918151855\n",
      "Predicted pKd: 8.93757438659668 | True pKd: 10.74472713470459\n",
      "Predicted pKd: 7.882201194763184 | True pKd: 5.023191452026367\n",
      "Predicted pKd: 7.66922664642334 | True pKd: 8.160521507263184\n",
      "Predicted pKd: 9.034355163574219 | True pKd: 9.0\n",
      "Predicted pKd: 6.114706039428711 | True pKd: 5.77211332321167\n",
      "Predicted pKd: 7.624031066894531 | True pKd: 6.602059841156006\n",
      "Predicted pKd: 8.494296073913574 | True pKd: 5.301030158996582\n",
      "Predicted pKd: 7.471149444580078 | True pKd: 7.749579906463623\n",
      "Predicted pKd: 6.866456031799316 | True pKd: 8.050609588623047\n",
      "Predicted pKd: 5.670886039733887 | True pKd: 8.026871681213379\n",
      "Predicted pKd: 5.533487319946289 | True pKd: 5.397940158843994\n",
      "Predicted pKd: 5.601898193359375 | True pKd: 5.327902317047119\n",
      "Predicted pKd: 6.929862022399902 | True pKd: 6.924453258514404\n",
      "Predicted pKd: 7.942534446716309 | True pKd: 6.586700439453125\n",
      "Predicted pKd: 8.202886581420898 | True pKd: 8.882728576660156\n",
      "Predicted pKd: 7.5890045166015625 | True pKd: 10.455931663513184\n",
      "Predicted pKd: 7.90126895904541 | True pKd: 9.376750946044922\n",
      "Predicted pKd: 7.128302574157715 | True pKd: 8.0\n",
      "Predicted pKd: 6.264065742492676 | True pKd: 5.994390487670898\n",
      "Predicted pKd: 7.7626495361328125 | True pKd: 8.812479019165039\n",
      "Predicted pKd: 10.350347518920898 | True pKd: 11.522878646850586\n",
      "Predicted pKd: 10.139726638793945 | True pKd: 10.114073753356934\n",
      "Predicted pKd: 9.401792526245117 | True pKd: 9.657577514648438\n",
      "Predicted pKd: 5.597809791564941 | True pKd: 7.853871822357178\n",
      "Predicted pKd: 9.060805320739746 | True pKd: 9.148741722106934\n",
      "Predicted pKd: 6.597020149230957 | True pKd: 7.872895240783691\n",
      "Predicted pKd: 8.32479476928711 | True pKd: 10.301030158996582\n",
      "Predicted pKd: 7.054108619689941 | True pKd: 7.8181562423706055\n",
      "Predicted pKd: 8.655782699584961 | True pKd: 8.619789123535156\n",
      "Predicted pKd: 4.959256172180176 | True pKd: 5.202040195465088\n",
      "Predicted pKd: 6.240133285522461 | True pKd: 4.97469425201416\n",
      "Predicted pKd: 8.321707725524902 | True pKd: 8.853872299194336\n",
      "Predicted pKd: 8.277242660522461 | True pKd: 7.995678424835205\n",
      "Predicted pKd: 8.43825912475586 | True pKd: 6.146301746368408\n",
      "Predicted pKd: 5.996612548828125 | True pKd: 8.552842140197754\n",
      "Predicted pKd: 5.014545440673828 | True pKd: 5.777283668518066\n",
      "Predicted pKd: 13.44814682006836 | True pKd: 9.142667770385742\n",
      "Predicted pKd: 7.648215293884277 | True pKd: 8.565430641174316\n",
      "Predicted pKd: 7.112537384033203 | True pKd: 6.9072794914245605\n",
      "Predicted pKd: 10.364500999450684 | True pKd: 8.041436195373535\n",
      "Predicted pKd: 7.969710350036621 | True pKd: 8.337242126464844\n",
      "Predicted pKd: 9.25479793548584 | True pKd: 9.397939682006836\n",
      "Predicted pKd: 10.22950553894043 | True pKd: 10.850780487060547\n",
      "Predicted pKd: 7.589816093444824 | True pKd: 8.522878646850586\n",
      "Predicted pKd: 6.872314453125 | True pKd: 7.462181091308594\n",
      "Predicted pKd: 9.81882095336914 | True pKd: 11.397939682006836\n",
      "Predicted pKd: 5.348470687866211 | True pKd: 5.327902317047119\n",
      "Predicted pKd: 8.664701461791992 | True pKd: 9.651695251464844\n",
      "Predicted pKd: 7.378896713256836 | True pKd: 6.659555912017822\n",
      "Predicted pKd: 8.439983367919922 | True pKd: 7.749579906463623\n",
      "Predicted pKd: 5.268182754516602 | True pKd: 4.698969841003418\n",
      "Predicted pKd: 8.174166679382324 | True pKd: 8.698969841003418\n",
      "Predicted pKd: 6.735172271728516 | True pKd: 6.0\n",
      "Predicted pKd: 7.673206329345703 | True pKd: 6.917214393615723\n",
      "Predicted pKd: 4.525392532348633 | True pKd: 4.211831569671631\n",
      "Predicted pKd: 6.385005950927734 | True pKd: 5.15490198135376\n",
      "Predicted pKd: 6.707270622253418 | True pKd: 9.679853439331055\n",
      "Predicted pKd: 7.428145408630371 | True pKd: 9.236572265625\n",
      "Predicted pKd: 4.995870590209961 | True pKd: 5.073657512664795\n",
      "Predicted pKd: 6.200223922729492 | True pKd: 6.522878646850586\n",
      "Predicted pKd: 11.6879301071167 | True pKd: 8.540607452392578\n",
      "Predicted pKd: 7.217469215393066 | True pKd: 7.801342964172363\n",
      "Predicted pKd: 5.516349792480469 | True pKd: 5.853871822357178\n",
      "Predicted pKd: 7.6194963455200195 | True pKd: 8.397939682006836\n",
      "Predicted pKd: 7.483888626098633 | True pKd: 7.03810453414917\n",
      "Predicted pKd: 4.601367950439453 | True pKd: 4.882728576660156\n",
      "Predicted pKd: 9.40703296661377 | True pKd: 9.508638381958008\n",
      "Predicted pKd: 7.871735572814941 | True pKd: 7.586700439453125\n",
      "Predicted pKd: 8.707426071166992 | True pKd: 8.856985092163086\n",
      "Predicted pKd: 4.896608352661133 | True pKd: 3.397939920425415\n",
      "Predicted pKd: 8.175894737243652 | True pKd: 8.537602424621582\n",
      "Predicted pKd: 10.350347518920898 | True pKd: 11.522878646850586\n",
      "Predicted pKd: 6.179990768432617 | True pKd: 5.431798458099365\n",
      "Predicted pKd: 8.518499374389648 | True pKd: 4.896196365356445\n",
      "Predicted pKd: 5.879717826843262 | True pKd: 5.958607196807861\n",
      "Predicted pKd: 5.745326995849609 | True pKd: 5.537601947784424\n",
      "Predicted pKd: 9.357184410095215 | True pKd: 5.114073753356934\n",
      "Predicted pKd: 9.785529136657715 | True pKd: 10.341988563537598\n",
      "Predicted pKd: 9.922277450561523 | True pKd: 10.481486320495605\n",
      "Predicted pKd: 7.134177207946777 | True pKd: 7.340083599090576\n",
      "Predicted pKd: 5.916380882263184 | True pKd: 4.0\n",
      "Predicted pKd: 10.119316101074219 | True pKd: 9.508638381958008\n",
      "Predicted pKd: 4.510711193084717 | True pKd: 4.0\n",
      "Predicted pKd: 8.668498039245605 | True pKd: 9.51855754852295\n",
      "Predicted pKd: 9.305198669433594 | True pKd: 7.602059841156006\n",
      "Predicted pKd: 10.050459861755371 | True pKd: 11.041436195373535\n",
      "Predicted pKd: 5.602299690246582 | True pKd: 5.311580181121826\n",
      "Predicted pKd: 10.580126762390137 | True pKd: 11.279014587402344\n",
      "Predicted pKd: 7.892913818359375 | True pKd: 9.95860767364502\n",
      "Predicted pKd: 8.27554702758789 | True pKd: 8.508638381958008\n",
      "Predicted pKd: 9.419548034667969 | True pKd: 7.537601947784424\n",
      "Predicted pKd: 8.071017265319824 | True pKd: 9.254924774169922\n",
      "Predicted pKd: 12.747049331665039 | True pKd: 13.790485382080078\n",
      "Predicted pKd: 5.511401176452637 | True pKd: 4.876148223876953\n",
      "Predicted pKd: 7.435174942016602 | True pKd: 5.0\n",
      "Predicted pKd: 7.7813005447387695 | True pKd: 7.2306227684021\n",
      "Predicted pKd: 8.362724304199219 | True pKd: 8.276544570922852\n",
      "Predicted pKd: 10.404266357421875 | True pKd: 11.114073753356934\n",
      "Predicted pKd: 9.829097747802734 | True pKd: 10.769551277160645\n",
      "Predicted pKd: 7.282538414001465 | True pKd: 7.397940158843994\n",
      "Predicted pKd: 6.135054588317871 | True pKd: 6.889410495758057\n",
      "Predicted pKd: 5.1383585929870605 | True pKd: 4.443697452545166\n",
      "Predicted pKd: 8.488852500915527 | True pKd: 7.93930196762085\n",
      "Predicted pKd: 7.701513290405273 | True pKd: 7.517126560211182\n",
      "Predicted pKd: 6.267635345458984 | True pKd: 7.397940158843994\n",
      "Predicted pKd: 6.919369697570801 | True pKd: 8.301030158996582\n",
      "Predicted pKd: 8.075312614440918 | True pKd: 7.32239294052124\n",
      "Predicted pKd: 5.53746223449707 | True pKd: 5.663540363311768\n",
      "Predicted pKd: 6.209475517272949 | True pKd: 7.308918476104736\n",
      "Predicted pKd: 12.045669555664062 | True pKd: 10.552842140197754\n",
      "Predicted pKd: 5.468338966369629 | True pKd: 6.0087738037109375\n",
      "Predicted pKd: 8.158204078674316 | True pKd: 8.284832954406738\n",
      "Predicted pKd: 10.370458602905273 | True pKd: 10.50445556640625\n",
      "Predicted pKd: 4.907614707946777 | True pKd: 5.134304046630859\n",
      "Predicted pKd: 6.775275230407715 | True pKd: 7.337242126464844\n",
      "Predicted pKd: 5.958454132080078 | True pKd: 7.744727611541748\n",
      "Predicted pKd: 7.442864418029785 | True pKd: 10.267605781555176\n",
      "Predicted pKd: 6.801360130310059 | True pKd: 5.079354763031006\n",
      "Predicted pKd: 8.651036262512207 | True pKd: 9.872895240783691\n",
      "Predicted pKd: 7.797025680541992 | True pKd: 7.397940158843994\n",
      "Predicted pKd: 8.08757209777832 | True pKd: 8.853872299194336\n",
      "Predicted pKd: 4.67888069152832 | True pKd: 4.295849323272705\n",
      "Predicted pKd: 7.138463973999023 | True pKd: 6.543633937835693\n",
      "Predicted pKd: 5.441288948059082 | True pKd: 4.879426002502441\n",
      "Predicted pKd: 5.432700157165527 | True pKd: 5.659555912017822\n",
      "Predicted pKd: 9.480738639831543 | True pKd: 9.619789123535156\n",
      "Predicted pKd: 8.771138191223145 | True pKd: 9.638272285461426\n",
      "Predicted pKd: 6.633933067321777 | True pKd: 7.677780628204346\n",
      "Predicted pKd: 5.538482666015625 | True pKd: 5.142667293548584\n",
      "Predicted pKd: 8.915766716003418 | True pKd: 8.455931663513184\n",
      "Predicted pKd: 4.135384559631348 | True pKd: 4.301030158996582\n",
      "Predicted pKd: 6.953610420227051 | True pKd: 7.397940158843994\n",
      "Predicted pKd: 9.653810501098633 | True pKd: 7.982966423034668\n",
      "Predicted pKd: 5.175167083740234 | True pKd: 5.744727611541748\n",
      "Predicted pKd: 7.212349891662598 | True pKd: 6.744727611541748\n",
      "Predicted pKd: 4.5483503341674805 | True pKd: 4.712198257446289\n",
      "Predicted pKd: 6.4465436935424805 | True pKd: 4.863279342651367\n",
      "Predicted pKd: 6.560406684875488 | True pKd: 7.0\n",
      "Predicted pKd: 7.870538711547852 | True pKd: 7.787812232971191\n",
      "Predicted pKd: 9.451191902160645 | True pKd: 9.585026741027832\n",
      "Predicted pKd: 7.8187456130981445 | True pKd: 6.677780628204346\n",
      "Predicted pKd: 5.022931098937988 | True pKd: 4.7695512771606445\n",
      "Predicted pKd: 7.785360336303711 | True pKd: 6.97469425201416\n",
      "Predicted pKd: 6.202541351318359 | True pKd: 7.0\n",
      "Predicted pKd: 6.095738410949707 | True pKd: 7.045757293701172\n",
      "Predicted pKd: 9.756956100463867 | True pKd: 9.61260986328125\n",
      "Predicted pKd: 4.7096052169799805 | True pKd: 4.367542743682861\n",
      "Predicted pKd: 6.048157691955566 | True pKd: 6.267606258392334\n",
      "Predicted pKd: 5.465389251708984 | True pKd: 4.301030158996582\n",
      "Predicted pKd: 5.172805309295654 | True pKd: 2.8827288150787354\n",
      "Predicted pKd: 7.185407638549805 | True pKd: 7.084072589874268\n",
      "Predicted pKd: 6.789820671081543 | True pKd: 8.045757293701172\n",
      "Predicted pKd: 8.777602195739746 | True pKd: 9.079355239868164\n",
      "Predicted pKd: 5.188988208770752 | True pKd: 5.79048490524292\n",
      "Predicted pKd: 6.45328426361084 | True pKd: 4.659555912017822\n",
      "Predicted pKd: 4.126721382141113 | True pKd: 4.059981822967529\n",
      "Predicted pKd: 6.962297439575195 | True pKd: 6.460923671722412\n",
      "Predicted pKd: 4.669869422912598 | True pKd: 4.494850158691406\n",
      "Predicted pKd: 5.994498252868652 | True pKd: 8.552842140197754\n",
      "Predicted pKd: 5.586481094360352 | True pKd: 5.882728576660156\n",
      "Predicted pKd: 9.975770950317383 | True pKd: 10.431797981262207\n",
      "Predicted pKd: 9.593005180358887 | True pKd: 9.275724411010742\n",
      "Predicted pKd: 10.510308265686035 | True pKd: 11.681936264038086\n",
      "Predicted pKd: 7.702714920043945 | True pKd: 7.149966716766357\n",
      "Predicted pKd: 4.611570358276367 | True pKd: 5.0\n",
      "Predicted pKd: 8.675178527832031 | True pKd: 5.638272285461426\n",
      "Predicted pKd: 7.531142234802246 | True pKd: 9.091514587402344\n",
      "Predicted pKd: 7.605289459228516 | True pKd: 6.187755107879639\n",
      "Predicted pKd: 7.792466163635254 | True pKd: 6.102373123168945\n",
      "Predicted pKd: 7.2376909255981445 | True pKd: 8.397939682006836\n",
      "Predicted pKd: 7.516726493835449 | True pKd: 10.301030158996582\n",
      "Predicted pKd: 8.843216896057129 | True pKd: 8.22988510131836\n",
      "Predicted pKd: 6.138154029846191 | True pKd: 6.379863739013672\n",
      "Predicted pKd: 7.095879554748535 | True pKd: 6.931814193725586\n",
      "Predicted pKd: 9.541327476501465 | True pKd: 10.850780487060547\n",
      "Predicted pKd: 6.629895210266113 | True pKd: 6.6575775146484375\n",
      "Predicted pKd: 8.197213172912598 | True pKd: 5.815308570861816\n",
      "Predicted pKd: 5.081357479095459 | True pKd: 4.15490198135376\n",
      "Predicted pKd: 7.312034606933594 | True pKd: 8.522878646850586\n",
      "Predicted pKd: 9.751259803771973 | True pKd: 9.935542106628418\n",
      "Predicted pKd: 5.516354560852051 | True pKd: 6.258848190307617\n",
      "Predicted pKd: 10.293402671813965 | True pKd: 9.939302444458008\n",
      "Predicted pKd: 7.708991050720215 | True pKd: 9.0\n",
      "Predicted pKd: 9.115513801574707 | True pKd: 9.267605781555176\n",
      "Predicted pKd: 9.594157218933105 | True pKd: 8.279014587402344\n",
      "Predicted pKd: 9.451493263244629 | True pKd: 9.0\n",
      "Predicted pKd: 7.261446952819824 | True pKd: 7.924453258514404\n",
      "Predicted pKd: 6.236419677734375 | True pKd: 6.327902317047119\n",
      "Predicted pKd: 4.710307598114014 | True pKd: 4.424812316894531\n",
      "Predicted pKd: 5.156517028808594 | True pKd: 4.889410495758057\n",
      "Predicted pKd: 7.699726104736328 | True pKd: 8.184422492980957\n",
      "Predicted pKd: 5.203756332397461 | True pKd: 6.376750946044922\n",
      "Predicted pKd: 5.89597225189209 | True pKd: 5.221848964691162\n",
      "Predicted pKd: 6.7352752685546875 | True pKd: 6.058985710144043\n",
      "Predicted pKd: 5.476127624511719 | True pKd: 3.9586071968078613\n",
      "Predicted pKd: 9.56401252746582 | True pKd: 9.370590209960938\n",
      "Predicted pKd: 7.348416328430176 | True pKd: 11.522878646850586\n",
      "Predicted pKd: 5.857807159423828 | True pKd: 6.384049892425537\n",
      "Predicted pKd: 4.451177597045898 | True pKd: 3.5353615283966064\n",
      "Predicted pKd: 5.530301094055176 | True pKd: 4.481485843658447\n",
      "Predicted pKd: 7.042860984802246 | True pKd: 8.698969841003418\n",
      "Predicted pKd: 12.662049293518066 | True pKd: 13.892789840698242\n",
      "Predicted pKd: 6.707583427429199 | True pKd: 4.9871625900268555\n",
      "Predicted pKd: 4.929644584655762 | True pKd: 4.161150932312012\n",
      "Predicted pKd: 11.041435241699219 | True pKd: 10.585026741027832\n",
      "Predicted pKd: 8.696611404418945 | True pKd: 8.920818328857422\n",
      "Predicted pKd: 7.940089225769043 | True pKd: 6.142667293548584\n",
      "Predicted pKd: 5.533080101013184 | True pKd: 5.0\n",
      "Predicted pKd: 6.81245231628418 | True pKd: 6.823908805847168\n",
      "Predicted pKd: 9.31723403930664 | True pKd: 9.073143005371094\n",
      "Predicted pKd: 7.171649932861328 | True pKd: 8.721246719360352\n",
      "Predicted pKd: 6.390469551086426 | True pKd: 7.301030158996582\n",
      "Predicted pKd: 8.138134002685547 | True pKd: 8.698969841003418\n",
      "Predicted pKd: 7.678102493286133 | True pKd: 7.047691822052002\n",
      "Predicted pKd: 8.379281044006348 | True pKd: 6.838632106781006\n",
      "Predicted pKd: 6.306984901428223 | True pKd: 5.79048490524292\n",
      "Predicted pKd: 4.486050128936768 | True pKd: 4.549750804901123\n",
      "Predicted pKd: 8.152266502380371 | True pKd: 6.313363552093506\n",
      "Predicted pKd: 9.589064598083496 | True pKd: 6.25492525100708\n",
      "Predicted pKd: 9.402359962463379 | True pKd: 8.602060317993164\n",
      "Predicted pKd: 5.486727714538574 | True pKd: 2.982966661453247\n",
      "Predicted pKd: 7.184048652648926 | True pKd: 5.251811981201172\n",
      "Predicted pKd: 5.111215591430664 | True pKd: 4.327902317047119\n",
      "Predicted pKd: 7.824804306030273 | True pKd: 6.276544094085693\n",
      "Predicted pKd: 4.419266700744629 | True pKd: 4.221848964691162\n",
      "Predicted pKd: 9.40332317352295 | True pKd: 9.408935546875\n",
      "Predicted pKd: 5.746532440185547 | True pKd: 6.236571788787842\n",
      "Predicted pKd: 7.299628257751465 | True pKd: 7.77211332321167\n",
      "Predicted pKd: 7.420135498046875 | True pKd: 6.376750946044922\n",
      "Predicted pKd: 7.0666046142578125 | True pKd: 7.0\n",
      "Predicted pKd: 7.220844268798828 | True pKd: 6.407823085784912\n",
      "Predicted pKd: 8.527811050415039 | True pKd: 5.958607196807861\n",
      "Predicted pKd: 7.671657562255859 | True pKd: 8.160521507263184\n",
      "Predicted pKd: 8.415876388549805 | True pKd: 6.935542106628418\n",
      "Predicted pKd: 9.084354400634766 | True pKd: 9.267605781555176\n",
      "Predicted pKd: 9.436456680297852 | True pKd: 8.379863739013672\n",
      "Predicted pKd: 6.245830535888672 | True pKd: 6.346787452697754\n",
      "Predicted pKd: 7.296546936035156 | True pKd: 5.782516002655029\n",
      "Predicted pKd: 5.964594841003418 | True pKd: 5.698969841003418\n",
      "Predicted pKd: 4.53127384185791 | True pKd: 4.681936740875244\n",
      "Predicted pKd: 5.4879302978515625 | True pKd: 4.512861728668213\n",
      "Predicted pKd: 6.707257270812988 | True pKd: 7.382999897003174\n",
      "Predicted pKd: 7.909694671630859 | True pKd: 8.013228416442871\n",
      "Predicted pKd: 7.7091875076293945 | True pKd: 8.397939682006836\n",
      "Predicted pKd: 6.390501022338867 | True pKd: 6.542118072509766\n",
      "Predicted pKd: 6.620218276977539 | True pKd: 4.239577293395996\n",
      "Predicted pKd: 5.007498741149902 | True pKd: 4.568636417388916\n",
      "Predicted pKd: 10.008641242980957 | True pKd: 10.481486320495605\n",
      "Predicted pKd: 8.231682777404785 | True pKd: 8.230622291564941\n",
      "Predicted pKd: 7.4506120681762695 | True pKd: 10.06550121307373\n",
      "Predicted pKd: 4.118828296661377 | True pKd: 3.698970079421997\n",
      "Predicted pKd: 7.438630104064941 | True pKd: 9.0\n",
      "Predicted pKd: 6.613099098205566 | True pKd: 6.853871822357178\n",
      "Predicted pKd: 8.503643035888672 | True pKd: 6.591760158538818\n",
      "Predicted pKd: 7.8809919357299805 | True pKd: 7.1674909591674805\n",
      "Predicted pKd: 10.37413501739502 | True pKd: 10.747146606445312\n",
      "Predicted pKd: 4.7145538330078125 | True pKd: 5.221848964691162\n",
      "Predicted pKd: 10.470430374145508 | True pKd: 10.543634414672852\n",
      "Predicted pKd: 7.821645736694336 | True pKd: 9.338187217712402\n",
      "Predicted pKd: 8.200836181640625 | True pKd: 8.698969841003418\n",
      "Predicted pKd: 8.262162208557129 | True pKd: 8.537602424621582\n",
      "Predicted pKd: 7.482672691345215 | True pKd: 7.844664096832275\n",
      "Predicted pKd: 4.094151496887207 | True pKd: 4.692503929138184\n",
      "Predicted pKd: 7.526471138000488 | True pKd: 8.041436195373535\n",
      "Predicted pKd: 5.580992698669434 | True pKd: 9.677781105041504\n",
      "Predicted pKd: 7.459414482116699 | True pKd: 9.232102394104004\n",
      "Predicted pKd: 5.467042922973633 | True pKd: 5.677780628204346\n",
      "Predicted pKd: 12.045106887817383 | True pKd: 11.619789123535156\n",
      "Predicted pKd: 10.18406867980957 | True pKd: 8.886056900024414\n",
      "Predicted pKd: 7.248270034790039 | True pKd: 8.09691047668457\n",
      "Predicted pKd: 9.350131034851074 | True pKd: 8.853872299194336\n",
      "Predicted pKd: 8.149234771728516 | True pKd: 7.552842140197754\n",
      "Predicted pKd: 8.012336730957031 | True pKd: 7.698969841003418\n",
      "Predicted pKd: 5.169997215270996 | True pKd: 3.7798919677734375\n",
      "Predicted pKd: 8.248916625976562 | True pKd: 6.380906581878662\n",
      "Predicted pKd: 9.796428680419922 | True pKd: 9.86966609954834\n",
      "Predicted pKd: 7.449333190917969 | True pKd: 8.064493179321289\n",
      "Predicted pKd: 7.082755088806152 | True pKd: 6.0087738037109375\n",
      "Predicted pKd: 7.773592948913574 | True pKd: 8.431797981262207\n",
      "Predicted pKd: 5.603823661804199 | True pKd: 9.04963493347168\n",
      "Predicted pKd: 6.135976791381836 | True pKd: 10.537602424621582\n",
      "Predicted pKd: 8.581381797790527 | True pKd: 7.970616340637207\n",
      "Predicted pKd: 4.861372947692871 | True pKd: 4.43889856338501\n",
      "Predicted pKd: 5.803928375244141 | True pKd: 7.764471530914307\n",
      "Predicted pKd: 6.031000137329102 | True pKd: 4.552842140197754\n",
      "Predicted pKd: 4.67039680480957 | True pKd: 9.0\n",
      "Predicted pKd: 9.096237182617188 | True pKd: 9.0\n",
      "Predicted pKd: 7.153230667114258 | True pKd: 5.6575775146484375\n",
      "Predicted pKd: 8.800623893737793 | True pKd: 13.886056900024414\n",
      "Predicted pKd: 7.77938175201416 | True pKd: 7.184422016143799\n",
      "Predicted pKd: 8.852154731750488 | True pKd: 8.230622291564941\n",
      "Predicted pKd: 13.444109916687012 | True pKd: 12.552842140197754\n",
      "Predicted pKd: 6.151601791381836 | True pKd: 5.251037120819092\n",
      "Predicted pKd: 9.598361015319824 | True pKd: 9.795880317687988\n",
      "Predicted pKd: 6.747916221618652 | True pKd: 8.522878646850586\n",
      "Predicted pKd: 8.66513729095459 | True pKd: 10.006564140319824\n",
      "Predicted pKd: 9.093698501586914 | True pKd: 8.337242126464844\n",
      "Predicted pKd: 7.308605194091797 | True pKd: 7.721246242523193\n",
      "Predicted pKd: 10.339614868164062 | True pKd: 8.602060317993164\n",
      "Predicted pKd: 9.899807929992676 | True pKd: 10.97881031036377\n",
      "Predicted pKd: 12.817814826965332 | True pKd: 7.0920515060424805\n",
      "Predicted pKd: 7.483007431030273 | True pKd: 7.761953830718994\n",
      "Predicted pKd: 5.473462104797363 | True pKd: 6.537601947784424\n",
      "Predicted pKd: 6.27943229675293 | True pKd: 6.897566318511963\n",
      "Predicted pKd: 8.534926414489746 | True pKd: 6.602059841156006\n",
      "Predicted pKd: 7.704221725463867 | True pKd: 8.366531372070312\n",
      "Predicted pKd: 5.601712226867676 | True pKd: 2.823908805847168\n",
      "Predicted pKd: 7.568032264709473 | True pKd: 4.0\n",
      "Predicted pKd: 6.040125846862793 | True pKd: 6.07572078704834\n",
      "Predicted pKd: 9.55416488647461 | True pKd: 9.370590209960938\n",
      "Predicted pKd: 9.54802417755127 | True pKd: 8.154901504516602\n",
      "Predicted pKd: 7.296176910400391 | True pKd: 6.2306227684021\n",
      "Predicted pKd: 6.235464096069336 | True pKd: 4.0\n",
      "Predicted pKd: 7.7923431396484375 | True pKd: 7.431798458099365\n",
      "Predicted pKd: 8.670914649963379 | True pKd: 8.301030158996582\n",
      "Predicted pKd: 7.6565961837768555 | True pKd: 8.686132431030273\n",
      "Predicted pKd: 8.99760913848877 | True pKd: 9.142667770385742\n",
      "Predicted pKd: 8.415285110473633 | True pKd: 9.0\n",
      "Predicted pKd: 10.429261207580566 | True pKd: 10.041436195373535\n",
      "Predicted pKd: 9.452988624572754 | True pKd: 6.25492525100708\n",
      "Predicted pKd: 6.474505424499512 | True pKd: 7.2865095138549805\n",
      "Predicted pKd: 8.475000381469727 | True pKd: 8.1456937789917\n",
      "Predicted pKd: 7.482196807861328 | True pKd: 8.185752868652344\n",
      "Predicted pKd: 7.761465072631836 | True pKd: 8.721246719360352\n",
      "Predicted pKd: 6.089045524597168 | True pKd: 4.555955410003662\n",
      "Predicted pKd: 9.173919677734375 | True pKd: 8.522878646850586\n",
      "Predicted pKd: 8.190003395080566 | True pKd: 8.585026741027832\n",
      "Predicted pKd: 4.948530197143555 | True pKd: 5.612610340118408\n",
      "Predicted pKd: 6.855696678161621 | True pKd: 6.643974304199219\n",
      "Predicted pKd: 6.308780670166016 | True pKd: 4.823908805847168\n",
      "Predicted pKd: 7.605433464050293 | True pKd: 10.30980396270752\n",
      "Predicted pKd: 10.804827690124512 | True pKd: 10.537602424621582\n",
      "Predicted pKd: 6.785017013549805 | True pKd: 8.102373123168945\n",
      "Predicted pKd: 7.779965400695801 | True pKd: 7.7695512771606445\n",
      "Predicted pKd: 5.751379013061523 | True pKd: 8.113509178161621\n",
      "Predicted pKd: 4.535456657409668 | True pKd: 3.698970079421997\n",
      "Predicted pKd: 6.849480628967285 | True pKd: 5.477555751800537\n",
      "Predicted pKd: 7.483316421508789 | True pKd: 8.21538257598877\n",
      "Predicted pKd: 9.159647941589355 | True pKd: 10.78515625\n",
      "Predicted pKd: 7.570904731750488 | True pKd: 11.366531372070312\n",
      "Predicted pKd: 10.266765594482422 | True pKd: 11.913640022277832\n",
      "Predicted pKd: 8.822687149047852 | True pKd: 9.267605781555176\n",
      "Predicted pKd: 4.995312213897705 | True pKd: 5.500312805175781\n",
      "Predicted pKd: 7.570391654968262 | True pKd: 8.003050804138184\n",
      "Predicted pKd: 4.683511257171631 | True pKd: 5.221848964691162\n",
      "Predicted pKd: 9.40228271484375 | True pKd: 9.28399658203125\n",
      "Predicted pKd: 7.286370277404785 | True pKd: 8.677781105041504\n",
      "Predicted pKd: 9.538631439208984 | True pKd: 9.602060317993164\n",
      "Predicted pKd: 5.405585289001465 | True pKd: 7.431798458099365\n",
      "Predicted pKd: 7.164152145385742 | True pKd: 7.026872158050537\n",
      "Predicted pKd: 8.427937507629395 | True pKd: 5.97469425201416\n",
      "Predicted pKd: 8.700600624084473 | True pKd: 8.882728576660156\n",
      "Predicted pKd: 8.79538631439209 | True pKd: 5.1191864013671875\n",
      "Predicted pKd: 9.715682983398438 | True pKd: 9.49079704284668\n",
      "Predicted pKd: 4.933114051818848 | True pKd: 7.522878646850586\n",
      "Predicted pKd: 7.302842140197754 | True pKd: 8.207608222961426\n",
      "Predicted pKd: 11.508946418762207 | True pKd: 7.551293849945068\n",
      "Predicted pKd: 7.648231506347656 | True pKd: 8.609065055847168\n",
      "Predicted pKd: 6.2611236572265625 | True pKd: 6.958607196807861\n",
      "Predicted pKd: 4.694592475891113 | True pKd: 6.79587984085083\n",
      "Predicted pKd: 10.270428657531738 | True pKd: 8.602060317993164\n",
      "Predicted pKd: 5.012602806091309 | True pKd: 5.832833766937256\n",
      "Predicted pKd: 6.137683868408203 | True pKd: 6.591760158538818\n",
      "Predicted pKd: 5.283290386199951 | True pKd: 3.698970079421997\n",
      "Predicted pKd: 7.7236328125 | True pKd: 6.739928722381592\n",
      "Predicted pKd: 8.667844772338867 | True pKd: 9.756961822509766\n",
      "Predicted pKd: 7.37501335144043 | True pKd: 6.732828140258789\n",
      "Predicted pKd: 7.305950164794922 | True pKd: 8.619789123535156\n",
      "Predicted pKd: 8.436022758483887 | True pKd: 4.301030158996582\n",
      "Predicted pKd: 4.5213623046875 | True pKd: 3.725842237472534\n",
      "Predicted pKd: 8.271027565002441 | True pKd: 8.95860767364502\n",
      "Predicted pKd: 6.314201354980469 | True pKd: 6.050610065460205\n",
      "Predicted pKd: 5.695755958557129 | True pKd: 6.843753814697266\n",
      "Predicted pKd: 7.4614458084106445 | True pKd: 8.12493896484375\n",
      "Predicted pKd: 4.177837371826172 | True pKd: 3.79048490524292\n",
      "Predicted pKd: 9.3322172164917 | True pKd: 9.632643699645996\n",
      "Predicted pKd: 6.005669593811035 | True pKd: 6.508638381958008\n",
      "Predicted pKd: 4.666776180267334 | True pKd: 5.15490198135376\n",
      "Predicted pKd: 4.949066162109375 | True pKd: 4.92081880569458\n",
      "Predicted pKd: 8.022485733032227 | True pKd: 8.318758964538574\n",
      "Predicted pKd: 6.583854675292969 | True pKd: 7.028724193572998\n",
      "Predicted pKd: 4.877823829650879 | True pKd: 3.9788107872009277\n",
      "Predicted pKd: 8.611166000366211 | True pKd: 7.3665313720703125\n",
      "Predicted pKd: 9.400758743286133 | True pKd: 9.267605781555176\n",
      "Predicted pKd: 7.394783020019531 | True pKd: 6.651695251464844\n",
      "Predicted pKd: 6.642853736877441 | True pKd: 6.443697452545166\n",
      "Predicted pKd: 6.476546287536621 | True pKd: 4.037630558013916\n",
      "Predicted pKd: 5.404840469360352 | True pKd: 6.399026870727539\n",
      "Predicted pKd: 8.831302642822266 | True pKd: 9.301030158996582\n",
      "Predicted pKd: 8.717989921569824 | True pKd: 8.455931663513184\n",
      "Predicted pKd: 4.920610427856445 | True pKd: 5.2932820320129395\n",
      "Predicted pKd: 9.60538101196289 | True pKd: 8.079355239868164\n",
      "Predicted pKd: 5.67317008972168 | True pKd: 7.15490198135376\n",
      "Predicted pKd: 5.642847061157227 | True pKd: 5.8181562423706055\n",
      "Predicted pKd: 7.027769088745117 | True pKd: 7.823908805847168\n",
      "Predicted pKd: 7.053145408630371 | True pKd: 5.665546417236328\n",
      "Predicted pKd: 7.266423225402832 | True pKd: 9.0\n",
      "Predicted pKd: 4.905276298522949 | True pKd: 4.95078182220459\n",
      "Predicted pKd: 7.968173980712891 | True pKd: 8.431797981262207\n",
      "Predicted pKd: 9.243047714233398 | True pKd: 8.230622291564941\n",
      "Predicted pKd: 6.300301551818848 | True pKd: 6.92081880569458\n",
      "Predicted pKd: 7.572269439697266 | True pKd: 8.92154312133789\n",
      "Predicted pKd: 4.770355701446533 | True pKd: 5.022276401519775\n",
      "Predicted pKd: 13.450668334960938 | True pKd: 12.221848487854004\n",
      "Predicted pKd: 5.470891952514648 | True pKd: 5.913640022277832\n",
      "Predicted pKd: 6.375189781188965 | True pKd: 9.29242992401123\n",
      "Predicted pKd: 5.540620803833008 | True pKd: 3.3071529865264893\n",
      "Predicted pKd: 4.517189025878906 | True pKd: 3.698970079421997\n",
      "Predicted pKd: 7.4314775466918945 | True pKd: 6.307153224945068\n",
      "Predicted pKd: 9.117666244506836 | True pKd: 10.214670181274414\n",
      "Predicted pKd: 7.009997367858887 | True pKd: 7.782516002655029\n",
      "Predicted pKd: 8.883079528808594 | True pKd: 7.552842140197754\n",
      "Predicted pKd: 7.734044075012207 | True pKd: 7.481485843658447\n",
      "Predicted pKd: 5.56826114654541 | True pKd: 6.040958404541016\n",
      "Predicted pKd: 8.293301582336426 | True pKd: 6.562249660491943\n",
      "Predicted pKd: 8.778782844543457 | True pKd: 8.726073265075684\n",
      "Predicted pKd: 6.837771415710449 | True pKd: 8.602060317993164\n",
      "Predicted pKd: 6.1767168045043945 | True pKd: 4.742321491241455\n",
      "Predicted pKd: 10.36476993560791 | True pKd: 10.431797981262207\n",
      "Predicted pKd: 6.479487419128418 | True pKd: 7.017728805541992\n",
      "Predicted pKd: 6.903533935546875 | True pKd: 4.555955410003662\n",
      "Predicted pKd: 6.146753311157227 | True pKd: 5.107905387878418\n",
      "Predicted pKd: 7.728828430175781 | True pKd: 6.301030158996582\n",
      "Predicted pKd: 9.44351577758789 | True pKd: 10.414539337158203\n",
      "Predicted pKd: 6.712608337402344 | True pKd: 7.774690628051758\n",
      "Predicted pKd: 4.971593856811523 | True pKd: 6.570247650146484\n",
      "Predicted pKd: 7.691733360290527 | True pKd: 7.823908805847168\n",
      "Predicted pKd: 7.3170166015625 | True pKd: 8.583359718322754\n",
      "Predicted pKd: 8.556696891784668 | True pKd: 8.90308952331543\n",
      "Predicted pKd: 8.323936462402344 | True pKd: 7.698969841003418\n",
      "Predicted pKd: 9.063178062438965 | True pKd: 9.026871681213379\n",
      "Predicted pKd: 6.0163373947143555 | True pKd: 6.055517196655273\n",
      "Predicted pKd: 7.184442520141602 | True pKd: 6.4685211181640625\n",
      "Predicted pKd: 7.427762985229492 | True pKd: 6.835647106170654\n",
      "Predicted pKd: 9.221080780029297 | True pKd: 9.61260986328125\n",
      "Predicted pKd: 10.463356971740723 | True pKd: 11.230622291564941\n",
      "Predicted pKd: 8.884451866149902 | True pKd: 7.229147911071777\n",
      "Predicted pKd: 7.159895896911621 | True pKd: 8.142667770385742\n",
      "Predicted pKd: 9.065917015075684 | True pKd: 8.557519912719727\n",
      "Predicted pKd: 8.598386764526367 | True pKd: 7.728158473968506\n",
      "Predicted pKd: 6.328783988952637 | True pKd: 6.148130416870117\n",
      "Predicted pKd: 6.270722389221191 | True pKd: 4.958607196807861\n",
      "Predicted pKd: 7.478246688842773 | True pKd: 8.280668258666992\n",
      "Predicted pKd: 9.435696601867676 | True pKd: 7.508638381958008\n",
      "Predicted pKd: 5.469413757324219 | True pKd: 5.156144618988037\n",
      "Predicted pKd: 5.061709403991699 | True pKd: 5.578395843505859\n",
      "Predicted pKd: 7.389705657958984 | True pKd: 5.27327299118042\n",
      "Predicted pKd: 5.467983245849609 | True pKd: 6.181774139404297\n",
      "Predicted pKd: 8.6725435256958 | True pKd: 9.221848487854004\n",
      "Predicted pKd: 9.741260528564453 | True pKd: 10.238072395324707\n",
      "Predicted pKd: 8.28457260131836 | True pKd: 8.30980396270752\n",
      "Predicted pKd: 9.036138534545898 | True pKd: 9.154901504516602\n",
      "Predicted pKd: 7.957879066467285 | True pKd: 4.910094738006592\n",
      "Predicted pKd: 10.490655899047852 | True pKd: 11.61260986328125\n",
      "Predicted pKd: 5.950921058654785 | True pKd: 8.026871681213379\n",
      "Predicted pKd: 4.711915016174316 | True pKd: 3.3439018726348877\n",
      "Predicted pKd: 5.370410919189453 | True pKd: 5.221848964691162\n",
      "Predicted pKd: 9.367254257202148 | True pKd: 8.58004379272461\n",
      "Predicted pKd: 8.728180885314941 | True pKd: 8.163043022155762\n",
      "Predicted pKd: 6.8950347900390625 | True pKd: 7.114073753356934\n",
      "Predicted pKd: 8.589666366577148 | True pKd: 9.638272285461426\n",
      "Predicted pKd: 7.424016952514648 | True pKd: 6.749579906463623\n",
      "Predicted pKd: 7.407303810119629 | True pKd: 4.764471530914307\n",
      "Predicted pKd: 5.404585838317871 | True pKd: 5.744727611541748\n",
      "Predicted pKd: 13.841897964477539 | True pKd: 15.0\n",
      "Predicted pKd: 9.937202453613281 | True pKd: 9.08092212677002\n",
      "Predicted pKd: 5.109267234802246 | True pKd: 5.397940158843994\n",
      "Predicted pKd: 6.163832664489746 | True pKd: 6.251811981201172\n",
      "Predicted pKd: 6.857152938842773 | True pKd: 8.522878646850586\n",
      "Predicted pKd: 8.549483299255371 | True pKd: 9.0\n",
      "Predicted pKd: 10.458443641662598 | True pKd: 9.341988563537598\n",
      "Predicted pKd: 10.278801918029785 | True pKd: 10.58004379272461\n",
      "Predicted pKd: 7.251739501953125 | True pKd: 5.301030158996582\n",
      "Predicted pKd: 6.218340873718262 | True pKd: 6.739928722381592\n",
      "Predicted pKd: 6.146782875061035 | True pKd: 5.585026741027832\n",
      "Predicted pKd: 5.9509172439575195 | True pKd: 3.886056661605835\n",
      "Predicted pKd: 7.497464179992676 | True pKd: 6.853871822357178\n",
      "Predicted pKd: 10.143973350524902 | True pKd: 8.747146606445312\n",
      "Predicted pKd: 7.576301574707031 | True pKd: 7.798603057861328\n",
      "Predicted pKd: 8.509882926940918 | True pKd: 6.913640022277832\n",
      "Predicted pKd: 6.204067230224609 | True pKd: 5.602059841156006\n",
      "Predicted pKd: 8.499390602111816 | True pKd: 6.146301746368408\n",
      "Predicted pKd: 9.52173900604248 | True pKd: 10.408935546875\n",
      "Predicted pKd: 6.325954437255859 | True pKd: 6.301030158996582\n",
      "Predicted pKd: 8.409001350402832 | True pKd: 10.95860767364502\n",
      "Predicted pKd: 6.056841850280762 | True pKd: 4.982966423034668\n",
      "Predicted pKd: 11.442234992980957 | True pKd: 9.95078182220459\n",
      "Predicted pKd: 8.321306228637695 | True pKd: 9.28399658203125\n",
      "Predicted pKd: 8.297367095947266 | True pKd: 7.161150932312012\n",
      "Predicted pKd: 7.19038200378418 | True pKd: 6.197910785675049\n",
      "Predicted pKd: 8.567282676696777 | True pKd: 8.638272285461426\n",
      "Predicted pKd: 9.39900016784668 | True pKd: 9.193819999694824\n",
      "Predicted pKd: 9.449872970581055 | True pKd: 9.455931663513184\n",
      "Predicted pKd: 4.56385612487793 | True pKd: 6.568636417388916\n",
      "Predicted pKd: 8.612313270568848 | True pKd: 8.30980396270752\n",
      "Predicted pKd: 10.862739562988281 | True pKd: 10.050122261047363\n",
      "Predicted pKd: 10.993325233459473 | True pKd: 8.58004379272461\n",
      "Predicted pKd: 7.3594560623168945 | True pKd: 7.619788646697998\n",
      "Predicted pKd: 6.135394096374512 | True pKd: 4.079354763031006\n",
      "Predicted pKd: 4.95997428894043 | True pKd: 4.514278411865234\n",
      "Predicted pKd: 4.659463882446289 | True pKd: 4.3665313720703125\n",
      "Predicted pKd: 4.533246040344238 | True pKd: 4.903090000152588\n",
      "Predicted pKd: 7.291411399841309 | True pKd: 8.301030158996582\n",
      "Predicted pKd: 9.086902618408203 | True pKd: 8.638272285461426\n",
      "Predicted pKd: 8.762176513671875 | True pKd: 6.274905681610107\n",
      "Predicted pKd: 6.273634910583496 | True pKd: 7.397940158843994\n",
      "Predicted pKd: 5.720095634460449 | True pKd: 8.364516258239746\n",
      "Predicted pKd: 6.120094299316406 | True pKd: 4.361510753631592\n",
      "Predicted pKd: 5.802671432495117 | True pKd: 8.0\n",
      "Predicted pKd: 5.283232688903809 | True pKd: 4.958607196807861\n",
      "Predicted pKd: 5.0047478675842285 | True pKd: 3.170696258544922\n",
      "Predicted pKd: 7.306580543518066 | True pKd: 7.92081880569458\n",
      "Predicted pKd: 8.73073959350586 | True pKd: 9.698969841003418\n",
      "Predicted pKd: 8.579826354980469 | True pKd: 8.455931663513184\n",
      "Predicted pKd: 13.756930351257324 | True pKd: 8.0\n",
      "Predicted pKd: 6.8152923583984375 | True pKd: 5.477555751800537\n",
      "Predicted pKd: 10.080092430114746 | True pKd: 7.78515625\n",
      "Predicted pKd: 8.233491897583008 | True pKd: 7.815308570861816\n",
      "Predicted pKd: 6.795563697814941 | True pKd: 7.161150932312012\n",
      "Predicted pKd: 8.865206718444824 | True pKd: 9.91009521484375\n",
      "Predicted pKd: 9.402791023254395 | True pKd: 9.207608222961426\n",
      "Predicted pKd: 10.72999095916748 | True pKd: 9.0\n",
      "Predicted pKd: 10.485823631286621 | True pKd: 10.552842140197754\n",
      "Predicted pKd: 5.503548622131348 | True pKd: 7.602059841156006\n",
      "Predicted pKd: 7.415132522583008 | True pKd: 7.148130416870117\n",
      "Predicted pKd: 7.072443962097168 | True pKd: 5.1260986328125\n",
      "Predicted pKd: 7.506468772888184 | True pKd: 7.823908805847168\n",
      "Predicted pKd: 8.664292335510254 | True pKd: 8.853872299194336\n",
      "Predicted pKd: 6.887002944946289 | True pKd: 7.301030158996582\n",
      "Predicted pKd: 7.307720184326172 | True pKd: 7.619788646697998\n",
      "Predicted pKd: 6.331287384033203 | True pKd: 9.74472713470459\n",
      "Predicted pKd: 9.952287673950195 | True pKd: 10.481486320495605\n",
      "Predicted pKd: 4.2012786865234375 | True pKd: 4.087778091430664\n",
      "Predicted pKd: 6.795535087585449 | True pKd: 6.0\n",
      "Predicted pKd: 4.646321773529053 | True pKd: 4.431798458099365\n",
      "Predicted pKd: 5.865818023681641 | True pKd: 6.576754093170166\n",
      "Predicted pKd: 4.44522762298584 | True pKd: 4.92081880569458\n",
      "Predicted pKd: 7.4214982986450195 | True pKd: 7.481485843658447\n",
      "Predicted pKd: 9.429258346557617 | True pKd: 9.61260986328125\n",
      "Predicted pKd: 6.175050735473633 | True pKd: 4.638272285461426\n",
      "Predicted pKd: 5.798577308654785 | True pKd: 8.455931663513184\n",
      "Predicted pKd: 9.13143253326416 | True pKd: 8.726073265075684\n",
      "Predicted pKd: 7.295018196105957 | True pKd: 6.387216091156006\n",
      "Predicted pKd: 6.657670021057129 | True pKd: 6.585026741027832\n",
      "Predicted pKd: 4.933688640594482 | True pKd: 6.744727611541748\n",
      "Predicted pKd: 9.330621719360352 | True pKd: 8.838631629943848\n",
      "Predicted pKd: 8.889102935791016 | True pKd: 9.0\n",
      "Predicted pKd: 8.980798721313477 | True pKd: 6.214670181274414\n",
      "Predicted pKd: 10.15529727935791 | True pKd: 10.769551277160645\n",
      "Predicted pKd: 6.723493576049805 | True pKd: 8.585026741027832\n",
      "Predicted pKd: 8.416996002197266 | True pKd: 5.712198257446289\n",
      "Predicted pKd: 8.730297088623047 | True pKd: 8.193819999694824\n",
      "Predicted pKd: 6.70832633972168 | True pKd: 6.568636417388916\n",
      "Predicted pKd: 7.259639739990234 | True pKd: 8.09097957611084\n",
      "Predicted pKd: 7.429547309875488 | True pKd: 7.443697452545166\n",
      "Predicted pKd: 4.697538375854492 | True pKd: 2.97469425201416\n",
      "Predicted pKd: 6.922472953796387 | True pKd: 6.552842140197754\n",
      "Predicted pKd: 7.21683406829834 | True pKd: 6.886056423187256\n",
      "Predicted pKd: 4.385765075683594 | True pKd: 2.0\n",
      "Predicted pKd: 6.044440269470215 | True pKd: 3.636388063430786\n",
      "Predicted pKd: 7.304961204528809 | True pKd: 8.522878646850586\n",
      "Predicted pKd: 6.994182586669922 | True pKd: 7.619788646697998\n",
      "Predicted pKd: 5.62471866607666 | True pKd: 8.815308570861816\n",
      "Predicted pKd: 7.233675956726074 | True pKd: 7.677780628204346\n",
      "Predicted pKd: 6.04737663269043 | True pKd: 5.0\n",
      "Predicted pKd: 8.657073020935059 | True pKd: 9.57839584350586\n",
      "Predicted pKd: 9.221376419067383 | True pKd: 8.681936264038086\n",
      "Predicted pKd: 6.406335830688477 | True pKd: 7.602059841156006\n",
      "Predicted pKd: 7.432372093200684 | True pKd: 5.97469425201416\n",
      "Predicted pKd: 11.01901626586914 | True pKd: 10.74472713470459\n",
      "Predicted pKd: 9.406179428100586 | True pKd: 9.136676788330078\n",
      "Predicted pKd: 8.321490287780762 | True pKd: 7.146301746368408\n",
      "Predicted pKd: 8.249946594238281 | True pKd: 8.95860767364502\n",
      "Predicted pKd: 6.027885437011719 | True pKd: 7.045757293701172\n",
      "Predicted pKd: 4.113475799560547 | True pKd: 3.8268136978149414\n",
      "Predicted pKd: 6.956976890563965 | True pKd: 4.455932140350342\n",
      "Predicted pKd: 4.506776332855225 | True pKd: 4.084072589874268\n",
      "Predicted pKd: 9.171529769897461 | True pKd: 7.236571788787842\n",
      "Predicted pKd: 5.819731712341309 | True pKd: 6.866461277008057\n",
      "Predicted pKd: 8.114998817443848 | True pKd: 8.102373123168945\n",
      "Predicted pKd: 8.544820785522461 | True pKd: 4.896196365356445\n",
      "Predicted pKd: 9.158345222473145 | True pKd: 9.721246719360352\n",
      "Predicted pKd: 8.873249053955078 | True pKd: 9.146302223205566\n",
      "Predicted pKd: 9.55920696258545 | True pKd: 8.86966609954834\n",
      "Predicted pKd: 7.703934669494629 | True pKd: 8.160521507263184\n",
      "Predicted pKd: 7.248223304748535 | True pKd: 7.649752140045166\n",
      "Predicted pKd: 7.629926681518555 | True pKd: 7.910094738006592\n",
      "Predicted pKd: 6.037078857421875 | True pKd: 5.0\n",
      "Predicted pKd: 7.297163963317871 | True pKd: 6.346787452697754\n",
      "Predicted pKd: 7.969731330871582 | True pKd: 8.017728805541992\n",
      "Predicted pKd: 6.184952735900879 | True pKd: 5.889410495758057\n",
      "Predicted pKd: 9.65151596069336 | True pKd: 10.721246719360352\n",
      "Predicted pKd: 10.304058074951172 | True pKd: 8.67162036895752\n",
      "Predicted pKd: 8.759218215942383 | True pKd: 9.102373123168945\n",
      "Predicted pKd: 6.856723785400391 | True pKd: 5.995678424835205\n",
      "Predicted pKd: 7.438632011413574 | True pKd: 9.52143383026123\n",
      "Predicted pKd: 7.4214982986450195 | True pKd: 7.79587984085083\n",
      "Predicted pKd: 9.785877227783203 | True pKd: 10.279014587402344\n",
      "Predicted pKd: 7.226848602294922 | True pKd: 6.434152126312256\n",
      "Predicted pKd: 4.534541130065918 | True pKd: 3.698970079421997\n",
      "Predicted pKd: 4.931763648986816 | True pKd: 4.677780628204346\n",
      "Predicted pKd: 7.559206008911133 | True pKd: 8.16430950164795\n",
      "Predicted pKd: 8.036589622497559 | True pKd: 6.0\n",
      "Predicted pKd: 5.152324676513672 | True pKd: 5.79587984085083\n",
      "Predicted pKd: 6.37239933013916 | True pKd: 5.709965229034424\n",
      "Predicted pKd: 9.425078392028809 | True pKd: 9.48678207397461\n",
      "Predicted pKd: 7.579855918884277 | True pKd: 7.0\n",
      "Predicted pKd: 7.950651168823242 | True pKd: 4.443697452545166\n",
      "Predicted pKd: 9.44968318939209 | True pKd: 9.481486320495605\n",
      "Predicted pKd: 9.739629745483398 | True pKd: 10.13430404663086\n",
      "Predicted pKd: 9.147825241088867 | True pKd: 9.991399765014648\n",
      "Predicted pKd: 10.582452774047852 | True pKd: 10.991399765014648\n",
      "Predicted pKd: 6.495043754577637 | True pKd: 4.84163761138916\n",
      "Predicted pKd: 4.53376579284668 | True pKd: 3.698970079421997\n",
      "Predicted pKd: 9.412178039550781 | True pKd: 8.882728576660156\n",
      "Predicted pKd: 5.467105865478516 | True pKd: 5.28399658203125\n",
      "Predicted pKd: 10.588003158569336 | True pKd: 10.568635940551758\n",
      "Predicted pKd: 7.287067413330078 | True pKd: 9.173925399780273\n",
      "Predicted pKd: 7.441982269287109 | True pKd: 6.838632106781006\n",
      "Predicted pKd: 4.953514099121094 | True pKd: 3.698970079421997\n",
      "Predicted pKd: 6.0043134689331055 | True pKd: 5.054531574249268\n",
      "Predicted pKd: 9.665231704711914 | True pKd: 4.25492525100708\n",
      "Predicted pKd: 6.968441009521484 | True pKd: 6.982966423034668\n",
      "Predicted pKd: 4.9541168212890625 | True pKd: 5.139063358306885\n",
      "Predicted pKd: 9.785855293273926 | True pKd: 7.623423099517822\n",
      "Predicted pKd: 8.828055381774902 | True pKd: 8.970616340637207\n",
      "Predicted pKd: 9.086150169372559 | True pKd: 8.619789123535156\n",
      "Predicted pKd: 7.773592948913574 | True pKd: 7.698969841003418\n",
      "Predicted pKd: 9.074000358581543 | True pKd: 8.560667037963867\n",
      "Predicted pKd: 8.495643615722656 | True pKd: 8.537602424621582\n",
      "Predicted pKd: 9.516693115234375 | True pKd: 9.301030158996582\n",
      "Predicted pKd: 8.233990669250488 | True pKd: 7.337242126464844\n",
      "Predicted pKd: 6.309730529785156 | True pKd: 6.823908805847168\n",
      "Predicted pKd: 9.353536605834961 | True pKd: 11.055517196655273\n",
      "Predicted pKd: 7.771688461303711 | True pKd: 8.853872299194336\n",
      "Predicted pKd: 8.198046684265137 | True pKd: 7.301030158996582\n",
      "Predicted pKd: 7.708348274230957 | True pKd: 7.698969841003418\n",
      "Predicted pKd: 7.813164710998535 | True pKd: 7.021363258361816\n",
      "Predicted pKd: 5.703798294067383 | True pKd: 6.585026741027832\n",
      "Predicted pKd: 5.941679000854492 | True pKd: 7.221848964691162\n",
      "Predicted pKd: 6.138662338256836 | True pKd: 6.453457355499268\n",
      "Predicted pKd: 10.873706817626953 | True pKd: 10.886056900024414\n",
      "Predicted pKd: 7.390619277954102 | True pKd: 6.3705902099609375\n",
      "Predicted pKd: 8.947747230529785 | True pKd: 8.74472713470459\n",
      "Predicted pKd: 4.603979110717773 | True pKd: 5.207608222961426\n",
      "Predicted pKd: 7.425662994384766 | True pKd: 7.095284461975098\n",
      "Predicted pKd: 8.345189094543457 | True pKd: 8.022275924682617\n",
      "Predicted pKd: 5.513298988342285 | True pKd: 5.301030158996582\n",
      "Predicted pKd: 9.708626747131348 | True pKd: 9.4485502243042\n",
      "Predicted pKd: 9.517828941345215 | True pKd: 11.0\n",
      "Predicted pKd: 10.432866096496582 | True pKd: 10.522878646850586\n",
      "Predicted pKd: 9.84888744354248 | True pKd: 11.818156242370605\n",
      "Predicted pKd: 6.98776912689209 | True pKd: 7.09312629699707\n",
      "Predicted pKd: 5.982767105102539 | True pKd: 7.728158473968506\n",
      "Predicted pKd: 7.64260196685791 | True pKd: 7.337242126464844\n",
      "Predicted pKd: 4.539252281188965 | True pKd: 4.04672384262085\n",
      "Predicted pKd: 9.221080780029297 | True pKd: 9.58004379272461\n",
      "Predicted pKd: 4.6482977867126465 | True pKd: 4.3565473556518555\n",
      "Predicted pKd: 6.045687675476074 | True pKd: 5.522878646850586\n",
      "Predicted pKd: 9.337931632995605 | True pKd: 8.78515625\n",
      "Predicted pKd: 8.022781372070312 | True pKd: 6.146301746368408\n",
      "Predicted pKd: 4.2864532470703125 | True pKd: 5.193819999694824\n",
      "Predicted pKd: 6.866954803466797 | True pKd: 6.77211332321167\n",
      "Predicted pKd: 6.576310157775879 | True pKd: 5.619788646697998\n",
      "Predicted pKd: 9.677057266235352 | True pKd: 8.49079704284668\n",
      "Predicted pKd: 4.646283149719238 | True pKd: 5.0\n",
      "Predicted pKd: 5.208837509155273 | True pKd: 4.384049892425537\n",
      "Predicted pKd: 5.472167015075684 | True pKd: 5.78515625\n",
      "Predicted pKd: 5.162578105926514 | True pKd: 4.522878646850586\n",
      "Predicted pKd: 9.583537101745605 | True pKd: 14.12493896484375\n",
      "Predicted pKd: 7.112490653991699 | True pKd: 8.136082649230957\n",
      "Predicted pKd: 7.357488632202148 | True pKd: 7.3565473556518555\n",
      "Predicted pKd: 8.028092384338379 | True pKd: 8.95860767364502\n",
      "Predicted pKd: 4.69437313079834 | True pKd: 2.9586071968078613\n",
      "Predicted pKd: 8.16650104522705 | True pKd: 7.6716203689575195\n",
      "Predicted pKd: 5.467227935791016 | True pKd: 4.489455223083496\n",
      "Predicted pKd: 4.659582138061523 | True pKd: 4.4685211181640625\n",
      "Predicted pKd: 7.255021095275879 | True pKd: 3.387216091156006\n",
      "Predicted pKd: 7.782693862915039 | True pKd: 7.0\n",
      "Predicted pKd: 7.151937484741211 | True pKd: 10.515700340270996\n",
      "Predicted pKd: 6.3768510818481445 | True pKd: 8.698969841003418\n",
      "Predicted pKd: 10.196388244628906 | True pKd: 9.920818328857422\n",
      "Predicted pKd: 7.60835075378418 | True pKd: 6.79587984085083\n",
      "Predicted pKd: 6.041229248046875 | True pKd: 6.1191864013671875\n",
      "Predicted pKd: 7.2879743576049805 | True pKd: 6.443697452545166\n",
      "Predicted pKd: 9.928398132324219 | True pKd: 10.263603210449219\n",
      "Predicted pKd: 7.700533866882324 | True pKd: 8.823908805847168\n",
      "Predicted pKd: 6.404105186462402 | True pKd: 7.301030158996582\n",
      "Predicted pKd: 10.089582443237305 | True pKd: 10.97881031036377\n",
      "Predicted pKd: 10.234164237976074 | True pKd: 11.114073753356934\n",
      "Predicted pKd: 7.917934417724609 | True pKd: 6.586700439453125\n",
      "Predicted pKd: 9.146683692932129 | True pKd: 8.301030158996582\n",
      "Predicted pKd: 6.667266845703125 | True pKd: 6.823908805847168\n",
      "Predicted pKd: 7.675703048706055 | True pKd: 8.263603210449219\n",
      "Predicted pKd: 9.924306869506836 | True pKd: 9.0\n",
      "Predicted pKd: 6.659736633300781 | True pKd: 4.578395843505859\n",
      "Predicted pKd: 4.443994998931885 | True pKd: 4.844664096832275\n",
      "Predicted pKd: 5.4679412841796875 | True pKd: 6.892789840698242\n",
      "Predicted pKd: 7.665265083312988 | True pKd: 7.2831621170043945\n",
      "Predicted pKd: 9.30100154876709 | True pKd: 9.97881031036377\n",
      "Predicted pKd: 8.30097770690918 | True pKd: 7.958607196807861\n",
      "Predicted pKd: 9.914562225341797 | True pKd: 11.204119682312012\n",
      "Predicted pKd: 7.2728071212768555 | True pKd: 5.471083164215088\n",
      "Predicted pKd: 6.847393035888672 | True pKd: 4.568636417388916\n",
      "Predicted pKd: 8.353203773498535 | True pKd: 7.610834121704102\n",
      "Predicted pKd: 6.793158531188965 | True pKd: 5.0\n",
      "Predicted pKd: 13.86410903930664 | True pKd: 13.017728805541992\n",
      "Predicted pKd: 9.836441993713379 | True pKd: 7.267606258392334\n",
      "Predicted pKd: 9.278461456298828 | True pKd: 6.653646945953369\n",
      "Predicted pKd: 8.07065486907959 | True pKd: 8.886056900024414\n",
      "Predicted pKd: 7.960766792297363 | True pKd: 7.598599433898926\n",
      "Predicted pKd: 8.093158721923828 | True pKd: 12.142667770385742\n",
      "Predicted pKd: 10.177114486694336 | True pKd: 13.221848487854004\n",
      "Predicted pKd: 5.469418525695801 | True pKd: 6.844664096832275\n",
      "Predicted pKd: 7.599327087402344 | True pKd: 9.886056900024414\n",
      "Predicted pKd: 9.406319618225098 | True pKd: 9.30980396270752\n",
      "Predicted pKd: 9.074028015136719 | True pKd: 9.20065975189209\n",
      "Predicted pKd: 5.331173896789551 | True pKd: 3.5316526889801025\n",
      "Predicted pKd: 5.7943620681762695 | True pKd: 8.036211967468262\n",
      "Predicted pKd: 8.901352882385254 | True pKd: 8.09691047668457\n",
      "Predicted pKd: 9.012423515319824 | True pKd: 7.3565473556518555\n",
      "Predicted pKd: 7.292047500610352 | True pKd: 7.161150932312012\n",
      "Predicted pKd: 7.607804298400879 | True pKd: 8.66353988647461\n",
      "Predicted pKd: 8.987618446350098 | True pKd: 9.408935546875\n",
      "Predicted pKd: 8.490500450134277 | True pKd: 4.555955410003662\n",
      "Predicted pKd: 9.0707426071167 | True pKd: 8.95078182220459\n",
      "Predicted pKd: 7.293679237365723 | True pKd: 6.543633937835693\n",
      "Predicted pKd: 7.1731767654418945 | True pKd: 7.28399658203125\n",
      "Predicted pKd: 6.903722763061523 | True pKd: 5.886056423187256\n",
      "Predicted pKd: 7.308965682983398 | True pKd: 8.655608177185059\n",
      "Predicted pKd: 10.019798278808594 | True pKd: 7.17587423324585\n",
      "Predicted pKd: 6.583432197570801 | True pKd: 7.32975435256958\n",
      "Predicted pKd: 10.471087455749512 | True pKd: 8.481486320495605\n",
      "Predicted pKd: 9.656970024108887 | True pKd: 8.920818328857422\n",
      "Predicted pKd: 6.63261604309082 | True pKd: 3.9430952072143555\n",
      "Predicted pKd: 6.273862838745117 | True pKd: 5.0\n",
      "Predicted pKd: 6.507179260253906 | True pKd: 8.920818328857422\n",
      "Predicted pKd: 4.627062797546387 | True pKd: 4.301030158996582\n",
      "Predicted pKd: 10.403302192687988 | True pKd: 10.632643699645996\n",
      "Predicted pKd: 8.172636985778809 | True pKd: 9.345823287963867\n",
      "Predicted pKd: 5.4663496017456055 | True pKd: 6.2313618659973145\n",
      "Predicted pKd: 5.480352401733398 | True pKd: 6.026872158050537\n",
      "Predicted pKd: 8.650094032287598 | True pKd: 8.686132431030273\n",
      "Predicted pKd: 9.098974227905273 | True pKd: 10.146302223205566\n",
      "Predicted pKd: 9.313661575317383 | True pKd: 10.50445556640625\n",
      "Predicted pKd: 5.906979560852051 | True pKd: 7.829738140106201\n",
      "Predicted pKd: 7.421751022338867 | True pKd: 7.36351203918457\n",
      "Predicted pKd: 8.63243293762207 | True pKd: 8.154901504516602\n",
      "Predicted pKd: 8.308252334594727 | True pKd: 5.903090000152588\n",
      "Predicted pKd: 6.9688873291015625 | True pKd: 6.537601947784424\n",
      "Predicted pKd: 8.434998512268066 | True pKd: 6.698969841003418\n",
      "Predicted pKd: 7.955474853515625 | True pKd: 6.524038314819336\n",
      "Predicted pKd: 7.461078643798828 | True pKd: 7.007888317108154\n",
      "Predicted pKd: 5.29622745513916 | True pKd: 4.442492961883545\n",
      "Predicted pKd: 7.900251388549805 | True pKd: 8.522878646850586\n",
      "Predicted pKd: 7.080848693847656 | True pKd: 7.412289142608643\n",
      "Predicted pKd: 13.894797325134277 | True pKd: 14.638272285461426\n",
      "Predicted pKd: 5.607187271118164 | True pKd: 5.759450912475586\n",
      "Predicted pKd: 10.148204803466797 | True pKd: 8.769551277160645\n",
      "Predicted pKd: 4.654352188110352 | True pKd: 4.7695512771606445\n",
      "Predicted pKd: 7.327401161193848 | True pKd: 7.508638381958008\n",
      "Predicted pKd: 9.08306884765625 | True pKd: 10.12493896484375\n",
      "Predicted pKd: 8.280481338500977 | True pKd: 9.366531372070312\n",
      "Predicted pKd: 13.883774757385254 | True pKd: 13.95860767364502\n",
      "Predicted pKd: 7.082284927368164 | True pKd: 4.86966609954834\n",
      "Predicted pKd: 5.19265079498291 | True pKd: 6.431798458099365\n",
      "Predicted pKd: 6.884172439575195 | True pKd: 6.623423099517822\n",
      "Predicted pKd: 8.502681732177734 | True pKd: 8.207608222961426\n",
      "Predicted pKd: 9.42726993560791 | True pKd: 10.772112846374512\n",
      "Predicted pKd: 4.651789665222168 | True pKd: 4.1191864013671875\n",
      "Predicted pKd: 7.456608772277832 | True pKd: 3.8013429641723633\n",
      "Predicted pKd: 7.8519287109375 | True pKd: 7.114073753356934\n",
      "Predicted pKd: 5.830534934997559 | True pKd: 7.677780628204346\n",
      "Predicted pKd: 6.47822380065918 | True pKd: 7.108462333679199\n",
      "Predicted pKd: 8.758926391601562 | True pKd: 9.102373123168945\n",
      "Predicted pKd: 8.506183624267578 | True pKd: 6.935542106628418\n",
      "Predicted pKd: 9.58463191986084 | True pKd: 9.193819999694824\n",
      "Predicted pKd: 10.080976486206055 | True pKd: 8.924452781677246\n",
      "Predicted pKd: 4.9533538818359375 | True pKd: 6.040958404541016\n",
      "Predicted pKd: 7.115911483764648 | True pKd: 10.657577514648438\n",
      "Predicted pKd: 6.738025665283203 | True pKd: 5.6575775146484375\n",
      "Predicted pKd: 4.712148189544678 | True pKd: 5.259637355804443\n",
      "Predicted pKd: 9.524296760559082 | True pKd: 8.254924774169922\n",
      "Predicted pKd: 8.616899490356445 | True pKd: 10.522878646850586\n",
      "Predicted pKd: 6.878727912902832 | True pKd: 6.236571788787842\n",
      "Predicted pKd: 7.7323808670043945 | True pKd: 8.0\n",
      "Predicted pKd: 7.342170715332031 | True pKd: 6.079354763031006\n",
      "Predicted pKd: 9.432474136352539 | True pKd: 9.161150932312012\n",
      "Predicted pKd: 4.536067962646484 | True pKd: 4.728158473968506\n",
      "Predicted pKd: 6.1502275466918945 | True pKd: 5.872895240783691\n",
      "Predicted pKd: 6.937321662902832 | True pKd: 7.853871822357178\n",
      "Predicted pKd: 5.834957122802734 | True pKd: 7.744727611541748\n",
      "Predicted pKd: 6.609990119934082 | True pKd: 7.065501689910889\n",
      "Predicted pKd: 6.419299125671387 | True pKd: 3.2501091957092285\n",
      "Predicted pKd: 4.773662567138672 | True pKd: 5.259637355804443\n",
      "Predicted pKd: 7.80922794342041 | True pKd: 9.397939682006836\n",
      "Predicted pKd: 11.71398639678955 | True pKd: 9.602060317993164\n",
      "Predicted pKd: 8.254661560058594 | True pKd: 7.568636417388916\n",
      "Predicted pKd: 7.441864967346191 | True pKd: 8.058985710144043\n",
      "Predicted pKd: 7.774162292480469 | True pKd: 8.481486320495605\n",
      "Predicted pKd: 9.91156005859375 | True pKd: 9.146302223205566\n",
      "Predicted pKd: 9.33778190612793 | True pKd: 7.6675615310668945\n",
      "Predicted pKd: 9.404021263122559 | True pKd: 8.431797981262207\n",
      "Predicted pKd: 10.00205135345459 | True pKd: 9.721246719360352\n",
      "Predicted pKd: 6.701442718505859 | True pKd: 6.619788646697998\n",
      "Predicted pKd: 10.308393478393555 | True pKd: 10.379863739013672\n",
      "Predicted pKd: 5.817715644836426 | True pKd: 8.045757293701172\n",
      "Predicted pKd: 7.703841209411621 | True pKd: 7.246417045593262\n",
      "Predicted pKd: 4.940471649169922 | True pKd: 2.712937593460083\n",
      "Predicted pKd: 7.444866180419922 | True pKd: 9.95860767364502\n",
      "Predicted pKd: 6.4109601974487305 | True pKd: 10.09691047668457\n",
      "Predicted pKd: 6.294797897338867 | True pKd: 6.581698894500732\n",
      "Predicted pKd: 6.750402450561523 | True pKd: 6.863279342651367\n",
      "Predicted pKd: 6.2410173416137695 | True pKd: 6.71669864654541\n",
      "Predicted pKd: 6.925327301025391 | True pKd: 6.7931742668151855\n",
      "Predicted pKd: 9.209761619567871 | True pKd: 10.51855754852295\n",
      "Predicted pKd: 8.645362854003906 | True pKd: 5.847711563110352\n",
      "Predicted pKd: 8.657264709472656 | True pKd: 7.061980724334717\n",
      "Predicted pKd: 9.240541458129883 | True pKd: 8.732828140258789\n",
      "Predicted pKd: 9.759749412536621 | True pKd: 9.991399765014648\n",
      "Predicted pKd: 10.805150032043457 | True pKd: 10.537602424621582\n",
      "Predicted pKd: 9.063677787780762 | True pKd: 9.431797981262207\n",
      "Predicted pKd: 7.412925720214844 | True pKd: 7.551293849945068\n",
      "Predicted pKd: 7.485187530517578 | True pKd: 6.705533981323242\n",
      "Predicted pKd: 7.488460540771484 | True pKd: 6.725841999053955\n",
      "Predicted pKd: 7.19558048248291 | True pKd: 9.09691047668457\n",
      "Predicted pKd: 10.351030349731445 | True pKd: 11.175873756408691\n",
      "Predicted pKd: 10.246819496154785 | True pKd: 8.060481071472168\n",
      "Predicted pKd: 8.172918319702148 | True pKd: 8.063486099243164\n",
      "Predicted pKd: 7.4010515213012695 | True pKd: 7.214670181274414\n",
      "Predicted pKd: 9.840633392333984 | True pKd: 10.818156242370605\n",
      "Predicted pKd: 4.520609378814697 | True pKd: 3.698970079421997\n",
      "Predicted pKd: 4.947300910949707 | True pKd: 5.1674909591674805\n",
      "Predicted pKd: 7.2760467529296875 | True pKd: 8.522878646850586\n",
      "Predicted pKd: 9.26736068725586 | True pKd: 9.677781105041504\n",
      "Predicted pKd: 7.607174873352051 | True pKd: 5.97469425201416\n",
      "Predicted pKd: 8.691219329833984 | True pKd: 11.522878646850586\n",
      "Predicted pKd: 9.40286922454834 | True pKd: 9.387216567993164\n",
      "Predicted pKd: 10.307571411132812 | True pKd: 11.769551277160645\n",
      "Predicted pKd: 5.900396347045898 | True pKd: 8.853872299194336\n",
      "Predicted pKd: 9.599430084228516 | True pKd: 12.494850158691406\n",
      "Predicted pKd: 9.266002655029297 | True pKd: 10.379863739013672\n",
      "Predicted pKd: 13.864510536193848 | True pKd: 14.619789123535156\n",
      "Predicted pKd: 13.858906745910645 | True pKd: 15.494850158691406\n",
      "Predicted pKd: 8.065600395202637 | True pKd: 8.28399658203125\n",
      "Predicted pKd: 9.108538627624512 | True pKd: 8.102373123168945\n",
      "Predicted pKd: 7.121562957763672 | True pKd: 8.102373123168945\n",
      "Predicted pKd: 4.729531288146973 | True pKd: 4.2865095138549805\n",
      "Predicted pKd: 7.613133430480957 | True pKd: 8.728157997131348\n",
      "Predicted pKd: 9.365967750549316 | True pKd: 6.675717353820801\n",
      "Predicted pKd: 6.846643447875977 | True pKd: 8.638272285461426\n",
      "Predicted pKd: 6.683058738708496 | True pKd: 9.481486320495605\n",
      "Predicted pKd: 5.052792072296143 | True pKd: 5.568636417388916\n",
      "Predicted pKd: 5.727205276489258 | True pKd: 4.903090000152588\n",
      "Predicted pKd: 7.436144828796387 | True pKd: 7.4685211181640625\n",
      "Predicted pKd: 10.595392227172852 | True pKd: 8.623422622680664\n",
      "Predicted pKd: 8.032620429992676 | True pKd: 7.844664096832275\n",
      "Predicted pKd: 9.510090827941895 | True pKd: 8.221848487854004\n",
      "Predicted pKd: 10.09286880493164 | True pKd: 5.568636417388916\n",
      "Predicted pKd: 7.397336006164551 | True pKd: 6.109020233154297\n",
      "Predicted pKd: 9.732316970825195 | True pKd: 9.649751663208008\n",
      "Predicted pKd: 4.92018985748291 | True pKd: 8.031984329223633\n",
      "Predicted pKd: 7.443992614746094 | True pKd: 8.045757293701172\n",
      "Predicted pKd: 6.258907318115234 | True pKd: 4.397940158843994\n",
      "Predicted pKd: 11.199664115905762 | True pKd: 10.619789123535156\n",
      "Predicted pKd: 7.099818229675293 | True pKd: 7.275723934173584\n",
      "Predicted pKd: 8.034591674804688 | True pKd: 8.657577514648438\n",
      "Predicted pKd: 9.578605651855469 | True pKd: 8.59175968170166\n",
      "Predicted pKd: 5.455609321594238 | True pKd: 5.057991981506348\n",
      "Predicted pKd: 9.082779884338379 | True pKd: 6.92081880569458\n",
      "Predicted pKd: 6.09967041015625 | True pKd: 5.463441371917725\n",
      "Predicted pKd: 7.879173278808594 | True pKd: 7.263603687286377\n",
      "Predicted pKd: 6.061517715454102 | True pKd: 5.4202165603637695\n",
      "Predicted pKd: 9.5819091796875 | True pKd: 10.756961822509766\n",
      "Predicted pKd: 5.983205795288086 | True pKd: 8.07572078704834\n",
      "Predicted pKd: 7.6687517166137695 | True pKd: 7.954677104949951\n",
      "Predicted pKd: 7.332032203674316 | True pKd: 5.115771293640137\n",
      "Predicted pKd: 12.053351402282715 | True pKd: 11.614394187927246\n",
      "Predicted pKd: 5.045389175415039 | True pKd: 3.97469425201416\n",
      "Predicted pKd: 6.0388593673706055 | True pKd: 5.924453258514404\n",
      "Predicted pKd: 8.329259872436523 | True pKd: 8.102373123168945\n",
      "Predicted pKd: 6.680034637451172 | True pKd: 7.866461277008057\n",
      "Predicted pKd: 7.765597343444824 | True pKd: 9.721246719360352\n",
      "Predicted pKd: 5.156195163726807 | True pKd: 6.92081880569458\n",
      "Predicted pKd: 6.776398658752441 | True pKd: 9.537602424621582\n",
      "Predicted pKd: 10.601743698120117 | True pKd: 11.279014587402344\n",
      "Predicted pKd: 10.78203296661377 | True pKd: 11.230622291564941\n",
      "Predicted pKd: 7.235818862915039 | True pKd: 7.346787452697754\n",
      "Predicted pKd: 10.524789810180664 | True pKd: 8.838631629943848\n",
      "Predicted pKd: 4.130051612854004 | True pKd: 4.931814193725586\n",
      "Predicted pKd: 4.998607158660889 | True pKd: 5.427128314971924\n",
      "Predicted pKd: 9.869990348815918 | True pKd: 10.204119682312012\n",
      "Predicted pKd: 7.72474479675293 | True pKd: 8.468521118164062\n",
      "Predicted pKd: 7.282489776611328 | True pKd: 7.913640022277832\n",
      "Predicted pKd: 8.754780769348145 | True pKd: 9.58004379272461\n",
      "Predicted pKd: 8.580206871032715 | True pKd: 9.275724411010742\n",
      "Predicted pKd: 7.776771545410156 | True pKd: 6.850780963897705\n",
      "Predicted pKd: 6.388308525085449 | True pKd: 7.452225208282471\n",
      "Predicted pKd: 7.25283145904541 | True pKd: 5.156144618988037\n",
      "Predicted pKd: 7.163022041320801 | True pKd: 6.698969841003418\n",
      "Predicted pKd: 9.471670150756836 | True pKd: 12.795880317687988\n",
      "Predicted pKd: 7.256996154785156 | True pKd: 8.397939682006836\n",
      "Predicted pKd: 9.176348686218262 | True pKd: 10.214670181274414\n",
      "Predicted pKd: 6.931403160095215 | True pKd: 8.795880317687988\n",
      "Predicted pKd: 7.330102920532227 | True pKd: 7.408935546875\n",
      "Predicted pKd: 9.402828216552734 | True pKd: 9.091514587402344\n",
      "Predicted pKd: 7.690709114074707 | True pKd: 8.221848487854004\n",
      "Predicted pKd: 8.177322387695312 | True pKd: 8.481486320495605\n",
      "Predicted pKd: 10.27178955078125 | True pKd: 10.531652450561523\n",
      "Predicted pKd: 9.7130126953125 | True pKd: 9.82973861694336\n",
      "Predicted pKd: 6.363703727722168 | True pKd: 8.0\n",
      "Predicted pKd: 5.6697235107421875 | True pKd: 7.173925399780273\n",
      "Predicted pKd: 6.647696495056152 | True pKd: 8.301030158996582\n",
      "Predicted pKd: 4.848848819732666 | True pKd: 4.180456161499023\n",
      "Predicted pKd: 8.468069076538086 | True pKd: 6.555955410003662\n",
      "Predicted pKd: 7.429436683654785 | True pKd: 6.552842140197754\n",
      "Predicted pKd: 5.521026611328125 | True pKd: 4.397940158843994\n",
      "Predicted pKd: 4.947360038757324 | True pKd: 6.0\n",
      "Predicted pKd: 5.332226753234863 | True pKd: 4.4509968757629395\n",
      "Predicted pKd: 8.468243598937988 | True pKd: 8.1456937789917\n",
      "Predicted pKd: 6.840654373168945 | True pKd: 8.397939682006836\n",
      "Predicted pKd: 7.308226585388184 | True pKd: 7.4685211181640625\n",
      "Predicted pKd: 8.145333290100098 | True pKd: 7.25492525100708\n",
      "Predicted pKd: 6.91334342956543 | True pKd: 8.193819999694824\n",
      "Predicted pKd: 8.296037673950195 | True pKd: 9.161150932312012\n",
      "Predicted pKd: 8.73056411743164 | True pKd: 7.879426002502441\n",
      "Predicted pKd: 7.228014945983887 | True pKd: 5.9871625900268555\n",
      "Predicted pKd: 5.426007270812988 | True pKd: 5.275723934173584\n",
      "Predicted pKd: 7.20570182800293 | True pKd: 6.455932140350342\n",
      "Predicted pKd: 9.33430004119873 | True pKd: 9.610834121704102\n",
      "Predicted pKd: 8.358965873718262 | True pKd: 8.017728805541992\n",
      "Predicted pKd: 4.515770435333252 | True pKd: 3.698970079421997\n",
      "Predicted pKd: 9.556416511535645 | True pKd: 8.95860767364502\n",
      "Predicted pKd: 9.467334747314453 | True pKd: 9.95860767364502\n",
      "Predicted pKd: 10.644464492797852 | True pKd: 8.107905387878418\n",
      "Predicted pKd: 9.024911880493164 | True pKd: 9.175873756408691\n",
      "Predicted pKd: 9.503586769104004 | True pKd: 10.531652450561523\n",
      "Predicted pKd: 5.556197166442871 | True pKd: 8.364516258239746\n",
      "Predicted pKd: 4.280418395996094 | True pKd: 5.318758964538574\n",
      "Predicted pKd: 9.353958129882812 | True pKd: 9.761954307556152\n",
      "Predicted pKd: 6.742778778076172 | True pKd: 7.522878646850586\n",
      "Predicted pKd: 5.4211015701293945 | True pKd: 5.376750946044922\n",
      "Predicted pKd: 9.399726867675781 | True pKd: 9.48678207397461\n",
      "Predicted pKd: 5.220331192016602 | True pKd: 6.221848964691162\n",
      "Predicted pKd: 5.161520957946777 | True pKd: 5.6575775146484375\n",
      "Predicted pKd: 13.449070930480957 | True pKd: 13.119186401367188\n",
      "Predicted pKd: 6.075933456420898 | True pKd: 6.924453258514404\n",
      "Predicted pKd: 5.289855480194092 | True pKd: 9.0\n",
      "Predicted pKd: 8.868429183959961 | True pKd: 7.06048059463501\n",
      "Predicted pKd: 5.882147789001465 | True pKd: 5.619788646697998\n",
      "Predicted pKd: 9.24016284942627 | True pKd: 10.995678901672363\n",
      "Predicted pKd: 5.799069404602051 | True pKd: 8.522878646850586\n",
      "Predicted pKd: 4.534492492675781 | True pKd: 4.675717353820801\n",
      "Predicted pKd: 5.802041053771973 | True pKd: 6.9871625900268555\n",
      "Predicted pKd: 9.109467506408691 | True pKd: 9.031517028808594\n",
      "Predicted pKd: 9.395102500915527 | True pKd: 9.356547355651855\n",
      "Predicted pKd: 9.062394142150879 | True pKd: 8.537602424621582\n",
      "Predicted pKd: 7.673482894897461 | True pKd: 6.070580959320068\n",
      "Predicted pKd: 8.278132438659668 | True pKd: 7.669586181640625\n",
      "Predicted pKd: 6.59221076965332 | True pKd: 6.725841999053955\n",
      "Predicted pKd: 9.399316787719727 | True pKd: 8.790485382080078\n",
      "Predicted pKd: 7.393792152404785 | True pKd: 6.430625915527344\n",
      "Predicted pKd: 8.087272644042969 | True pKd: 7.619788646697998\n",
      "Predicted pKd: 6.4781694412231445 | True pKd: 6.114073753356934\n",
      "Predicted pKd: 6.164973258972168 | True pKd: 5.337242126464844\n",
      "Predicted pKd: 4.926924705505371 | True pKd: 4.2247538566589355\n",
      "Predicted pKd: 10.631070137023926 | True pKd: 11.175873756408691\n",
      "Predicted pKd: 7.671063423156738 | True pKd: 7.517126560211182\n",
      "Predicted pKd: 7.439906120300293 | True pKd: 8.154901504516602\n",
      "Predicted pKd: 9.86837387084961 | True pKd: 9.462181091308594\n",
      "Predicted pKd: 9.519835472106934 | True pKd: 9.737548828125\n",
      "Predicted pKd: 4.839583396911621 | True pKd: 8.677781105041504\n",
      "Predicted pKd: 10.080899238586426 | True pKd: 8.86966609954834\n",
      "Predicted pKd: 7.178644180297852 | True pKd: 11.709965705871582\n",
      "Predicted pKd: 6.092705726623535 | True pKd: 5.677780628204346\n",
      "Predicted pKd: 6.662961959838867 | True pKd: 6.585026741027832\n",
      "Predicted pKd: 13.446675300598145 | True pKd: 12.638272285461426\n",
      "Predicted pKd: 8.299159049987793 | True pKd: 8.221848487854004\n",
      "Predicted pKd: 5.2837371826171875 | True pKd: 5.60554838180542\n",
      "Predicted pKd: 7.711127281188965 | True pKd: 8.382999420166016\n",
      "Predicted pKd: 9.560794830322266 | True pKd: 6.958607196807861\n",
      "Predicted pKd: 7.707144737243652 | True pKd: 7.136677265167236\n",
      "Predicted pKd: 5.201839447021484 | True pKd: 8.447331428527832\n",
      "Predicted pKd: 8.20324993133545 | True pKd: 8.889410018920898\n",
      "Predicted pKd: 7.261041641235352 | True pKd: 5.251811981201172\n",
      "Predicted pKd: 6.085180282592773 | True pKd: 5.0\n",
      "Predicted pKd: 9.45923137664795 | True pKd: 8.175873756408691\n",
      "Predicted pKd: 6.46943473815918 | True pKd: 6.6575775146484375\n",
      "Predicted pKd: 6.237454414367676 | True pKd: 7.15490198135376\n",
      "Predicted pKd: 8.263348579406738 | True pKd: 8.366531372070312\n",
      "Predicted pKd: 13.43852424621582 | True pKd: 10.677781105041504\n",
      "Predicted pKd: 5.266260147094727 | True pKd: 4.522878646850586\n",
      "Predicted pKd: 5.602016448974609 | True pKd: 3.7212464809417725\n",
      "Predicted pKd: 8.291821479797363 | True pKd: 8.677781105041504\n",
      "Predicted pKd: 5.131957054138184 | True pKd: 3.1140737533569336\n",
      "Predicted pKd: 4.129802703857422 | True pKd: 3.698970079421997\n",
      "Predicted pKd: 9.305429458618164 | True pKd: 9.114073753356934\n",
      "Predicted pKd: 9.58090591430664 | True pKd: 9.221848487854004\n",
      "Predicted pKd: 5.504524230957031 | True pKd: 4.701147079467773\n",
      "Predicted pKd: 7.311888694763184 | True pKd: 5.602059841156006\n",
      "Predicted pKd: 8.507753372192383 | True pKd: 7.079354763031006\n",
      "Predicted pKd: 10.023286819458008 | True pKd: 10.28399658203125\n",
      "Predicted pKd: 8.753883361816406 | True pKd: 8.022275924682617\n",
      "Predicted pKd: 10.191320419311523 | True pKd: 10.269217491149902\n",
      "Predicted pKd: 4.8619890213012695 | True pKd: 6.045757293701172\n",
      "Predicted pKd: 7.219520568847656 | True pKd: 7.92081880569458\n",
      "Predicted pKd: 7.277387619018555 | True pKd: 7.0\n",
      "Predicted pKd: 7.765966415405273 | True pKd: 6.747147083282471\n",
      "Predicted pKd: 9.716300964355469 | True pKd: 9.581698417663574\n",
      "Predicted pKd: 6.511131286621094 | True pKd: 5.744727611541748\n",
      "Predicted pKd: 4.323085784912109 | True pKd: 6.517126560211182\n",
      "Predicted pKd: 4.287823677062988 | True pKd: 4.301030158996582\n",
      "Predicted pKd: 4.856513023376465 | True pKd: 4.387216091156006\n",
      "Predicted pKd: 7.9575653076171875 | True pKd: 10.653647422790527\n",
      "Predicted pKd: 10.220489501953125 | True pKd: 10.61618423461914\n",
      "Predicted pKd: 4.776875972747803 | True pKd: 7.207608222961426\n",
      "Predicted pKd: 9.095008850097656 | True pKd: 8.698969841003418\n",
      "Predicted pKd: 6.100598335266113 | True pKd: 6.229147911071777\n",
      "Predicted pKd: 4.076526165008545 | True pKd: 3.522878646850586\n",
      "Predicted pKd: 7.679448127746582 | True pKd: 6.341988563537598\n",
      "Predicted pKd: 9.403535842895508 | True pKd: 8.899629592895508\n",
      "Predicted pKd: 5.562129974365234 | True pKd: 4.227678298950195\n",
      "Predicted pKd: 12.802878379821777 | True pKd: 13.180456161499023\n",
      "Predicted pKd: 5.469244003295898 | True pKd: 7.031984329223633\n",
      "Predicted pKd: 7.766583442687988 | True pKd: 7.966576099395752\n",
      "Predicted pKd: 9.400589942932129 | True pKd: 9.107905387878418\n",
      "Predicted pKd: 8.485215187072754 | True pKd: 11.109020233154297\n",
      "Predicted pKd: 5.455909729003906 | True pKd: 5.161150932312012\n",
      "Predicted pKd: 5.224835395812988 | True pKd: 7.602059841156006\n",
      "Predicted pKd: 5.054917812347412 | True pKd: 6.070580959320068\n",
      "Predicted pKd: 6.972357749938965 | True pKd: 6.494850158691406\n",
      "Predicted pKd: 5.192511558532715 | True pKd: 5.93930196762085\n",
      "Predicted pKd: 9.931281089782715 | True pKd: 10.395773887634277\n",
      "Predicted pKd: 7.271692276000977 | True pKd: 7.844664096832275\n",
      "Predicted pKd: 5.049468040466309 | True pKd: 5.096909999847412\n",
      "Predicted pKd: 8.165894508361816 | True pKd: 8.452225685119629\n",
      "Predicted pKd: 6.065862655639648 | True pKd: 6.0\n",
      "Predicted pKd: 8.052273750305176 | True pKd: 8.602060317993164\n",
      "Predicted pKd: 5.4658660888671875 | True pKd: 5.9430952072143555\n",
      "Predicted pKd: 9.048468589782715 | True pKd: 7.638272285461426\n",
      "Predicted pKd: 9.045798301696777 | True pKd: 9.079355239868164\n",
      "Predicted pKd: 4.803217887878418 | True pKd: 5.193819999694824\n",
      "Predicted pKd: 8.164384841918945 | True pKd: 10.54515552520752\n",
      "Predicted pKd: 6.7318220138549805 | True pKd: 6.145086765289307\n",
      "Predicted pKd: 5.569014549255371 | True pKd: 5.050610065460205\n",
      "Predicted pKd: 9.866244316101074 | True pKd: 10.379863739013672\n",
      "Predicted pKd: 4.8244242668151855 | True pKd: 4.698969841003418\n",
      "Predicted pKd: 5.1699981689453125 | True pKd: 9.221848487854004\n",
      "Predicted pKd: 5.7633867263793945 | True pKd: 5.040958404541016\n",
      "Predicted pKd: 4.944890975952148 | True pKd: 3.698970079421997\n",
      "Predicted pKd: 10.45531177520752 | True pKd: 10.079355239868164\n",
      "Predicted pKd: 5.693874359130859 | True pKd: 7.585026741027832\n",
      "Predicted pKd: 4.668534278869629 | True pKd: 4.958607196807861\n",
      "Predicted pKd: 10.485225677490234 | True pKd: 11.254924774169922\n",
      "Predicted pKd: 9.939312934875488 | True pKd: 10.931814193725586\n",
      "Predicted pKd: 9.801811218261719 | True pKd: 10.204119682312012\n",
      "Predicted pKd: 9.447571754455566 | True pKd: 9.721246719360352\n",
      "Predicted pKd: 8.159409523010254 | True pKd: 8.09691047668457\n",
      "Predicted pKd: 5.196713447570801 | True pKd: 8.0\n",
      "Predicted pKd: 9.859001159667969 | True pKd: 10.431797981262207\n",
      "Predicted pKd: 10.306341171264648 | True pKd: 10.361510276794434\n",
      "Predicted pKd: 8.797144889831543 | True pKd: 9.886056900024414\n",
      "Predicted pKd: 8.66727066040039 | True pKd: 10.060481071472168\n",
      "Predicted pKd: 9.993677139282227 | True pKd: 9.337242126464844\n",
      "Predicted pKd: 10.032099723815918 | True pKd: 9.49079704284668\n",
      "Predicted pKd: 9.4031343460083 | True pKd: 9.301030158996582\n",
      "Predicted pKd: 3.934399366378784 | True pKd: 3.92081880569458\n",
      "Predicted pKd: 9.334794044494629 | True pKd: 7.585026741027832\n",
      "Predicted pKd: 7.444866180419922 | True pKd: 10.320571899414062\n",
      "Predicted pKd: 5.918464660644531 | True pKd: 2.823908805847168\n",
      "Predicted pKd: 9.967550277709961 | True pKd: 10.06550121307373\n",
      "Predicted pKd: 7.398333549499512 | True pKd: 6.193819999694824\n",
      "Predicted pKd: 9.406875610351562 | True pKd: 9.207608222961426\n",
      "Predicted pKd: 5.561863899230957 | True pKd: 6.732828140258789\n",
      "Predicted pKd: 5.056096076965332 | True pKd: 6.537601947784424\n",
      "Predicted pKd: 6.7822065353393555 | True pKd: 8.154901504516602\n",
      "Predicted pKd: 4.930085182189941 | True pKd: 4.723538398742676\n",
      "Predicted pKd: 9.989810943603516 | True pKd: 9.361510276794434\n",
      "Predicted pKd: 6.998482704162598 | True pKd: 10.515700340270996\n",
      "Predicted pKd: 7.77436637878418 | True pKd: 7.844664096832275\n",
      "Predicted pKd: 7.375766754150391 | True pKd: 11.14448070526123\n",
      "Predicted pKd: 10.392097473144531 | True pKd: 10.49079704284668\n",
      "Predicted pKd: 7.498496055603027 | True pKd: 7.853871822357178\n",
      "Predicted pKd: 9.9754638671875 | True pKd: 9.707743644714355\n",
      "Predicted pKd: 9.791993141174316 | True pKd: 14.0\n",
      "Predicted pKd: 8.657093048095703 | True pKd: 8.154901504516602\n",
      "Predicted pKd: 7.885854721069336 | True pKd: 8.74472713470459\n",
      "Predicted pKd: 9.404570579528809 | True pKd: 9.387216567993164\n",
      "Predicted pKd: 8.279994010925293 | True pKd: 7.473660945892334\n",
      "Predicted pKd: 6.467199325561523 | True pKd: 4.931814193725586\n",
      "Predicted pKd: 9.413029670715332 | True pKd: 9.175873756408691\n",
      "Predicted pKd: 6.336235046386719 | True pKd: 6.6575775146484375\n",
      "Predicted pKd: 10.291918754577637 | True pKd: 7.879426002502441\n",
      "Predicted pKd: 8.033758163452148 | True pKd: 7.486782550811768\n",
      "Predicted pKd: 8.276671409606934 | True pKd: 8.327901840209961\n",
      "Predicted pKd: 6.00972843170166 | True pKd: 5.2865095138549805\n",
      "Predicted pKd: 9.283771514892578 | True pKd: 8.943095207214355\n",
      "Predicted pKd: 7.700918197631836 | True pKd: 7.6716203689575195\n",
      "Predicted pKd: 8.982473373413086 | True pKd: 8.431797981262207\n",
      "Predicted pKd: 4.812049865722656 | True pKd: 4.79587984085083\n",
      "Predicted pKd: 8.711984634399414 | True pKd: 7.2306227684021\n",
      "Predicted pKd: 7.285663604736328 | True pKd: 7.226945400238037\n",
      "Predicted pKd: 10.36476993560791 | True pKd: 10.397939682006836\n",
      "Predicted pKd: 9.400190353393555 | True pKd: 9.387216567993164\n",
      "Predicted pKd: 9.09911823272705 | True pKd: 9.537602424621582\n",
      "Predicted pKd: 8.574359893798828 | True pKd: 8.767004013061523\n",
      "Predicted pKd: 7.480388641357422 | True pKd: 8.168769836425781\n",
      "Predicted pKd: 10.982492446899414 | True pKd: 10.681936264038086\n",
      "Predicted pKd: 6.44969367980957 | True pKd: 6.161150932312012\n",
      "Predicted pKd: 7.435349464416504 | True pKd: 4.625251770019531\n",
      "Predicted pKd: 8.194075584411621 | True pKd: 5.966576099395752\n",
      "Predicted pKd: 6.14698600769043 | True pKd: 3.982966661453247\n",
      "Predicted pKd: 9.398038864135742 | True pKd: 9.494850158691406\n",
      "Predicted pKd: 9.95154857635498 | True pKd: 8.397939682006836\n",
      "Predicted pKd: 8.245079040527344 | True pKd: 5.886056423187256\n",
      "Predicted pKd: 4.701825141906738 | True pKd: 2.9586071968078613\n",
      "Predicted pKd: 5.395561218261719 | True pKd: 5.376750946044922\n",
      "Predicted pKd: 4.792412757873535 | True pKd: 7.207608222961426\n",
      "Predicted pKd: 7.241247177124023 | True pKd: 6.954677104949951\n",
      "Predicted pKd: 6.380348205566406 | True pKd: 6.045757293701172\n",
      "Predicted pKd: 8.586840629577637 | True pKd: 9.494850158691406\n",
      "Predicted pKd: 6.138327598571777 | True pKd: 6.354577541351318\n",
      "Predicted pKd: 5.14492130279541 | True pKd: 4.761953830718994\n",
      "Predicted pKd: 8.01995849609375 | True pKd: 7.79587984085083\n",
      "Predicted pKd: 8.525144577026367 | True pKd: 5.045757293701172\n",
      "Predicted pKd: 4.49916410446167 | True pKd: 2.698970079421997\n",
      "Predicted pKd: 7.484635353088379 | True pKd: 6.946921348571777\n",
      "Predicted pKd: 5.802345275878906 | True pKd: 6.728158473968506\n",
      "Predicted pKd: 7.454065322875977 | True pKd: 10.397939682006836\n",
      "Predicted pKd: 7.409256935119629 | True pKd: 8.721246719360352\n",
      "Predicted pKd: 8.342955589294434 | True pKd: 6.380906581878662\n",
      "Predicted pKd: 5.911310195922852 | True pKd: 5.481485843658447\n",
      "Predicted pKd: 8.3267822265625 | True pKd: 8.102373123168945\n",
      "Predicted pKd: 6.912921905517578 | True pKd: 6.522878646850586\n",
      "Predicted pKd: 10.631036758422852 | True pKd: 10.677781105041504\n",
      "Predicted pKd: 4.988082408905029 | True pKd: 5.2673468589782715\n",
      "Predicted pKd: 3.303828001022339 | True pKd: 3.853872060775757\n",
      "Predicted pKd: 9.39315128326416 | True pKd: 9.161150932312012\n",
      "Predicted pKd: 7.078337669372559 | True pKd: 8.468521118164062\n",
      "Predicted pKd: 8.600021362304688 | True pKd: 9.657577514648438\n",
      "Predicted pKd: 7.810096740722656 | True pKd: 7.7695512771606445\n",
      "Predicted pKd: 7.419055938720703 | True pKd: 5.221125602722168\n",
      "Predicted pKd: 6.127077102661133 | True pKd: 6.031050205230713\n",
      "Predicted pKd: 9.834299087524414 | True pKd: 10.555954933166504\n",
      "Predicted pKd: 8.613746643066406 | True pKd: 7.0\n",
      "Predicted pKd: 7.672130584716797 | True pKd: 7.575118541717529\n",
      "Predicted pKd: 9.93661880493164 | True pKd: 10.051097869873047\n",
      "Predicted pKd: 8.172540664672852 | True pKd: 8.397939682006836\n",
      "Predicted pKd: 8.975237846374512 | True pKd: 8.756961822509766\n",
      "Predicted pKd: 9.575746536254883 | True pKd: 9.301030158996582\n",
      "Predicted pKd: 7.252488136291504 | True pKd: 8.136676788330078\n",
      "Predicted pKd: 9.792993545532227 | True pKd: 9.175873756408691\n",
      "Predicted pKd: 4.645253658294678 | True pKd: 5.193819999694824\n",
      "Predicted pKd: 9.72486400604248 | True pKd: 7.414539337158203\n",
      "Predicted pKd: 3.6293280124664307 | True pKd: 6.443697452545166\n",
      "Predicted pKd: 8.018072128295898 | True pKd: 7.0\n",
      "Predicted pKd: 6.099790573120117 | True pKd: 5.7695512771606445\n",
      "Predicted pKd: 5.149800777435303 | True pKd: 9.221848487854004\n",
      "Predicted pKd: 10.790182113647461 | True pKd: 8.537602424621582\n",
      "Predicted pKd: 5.594193458557129 | True pKd: 5.6575775146484375\n",
      "Predicted pKd: 5.458931922912598 | True pKd: 8.455931663513184\n",
      "Predicted pKd: 7.697563171386719 | True pKd: 8.17457389831543\n",
      "Predicted pKd: 7.450278282165527 | True pKd: 8.698969841003418\n",
      "Predicted pKd: 7.259650230407715 | True pKd: 7.522878646850586\n",
      "Predicted pKd: 8.594625473022461 | True pKd: 9.585026741027832\n",
      "Predicted pKd: 4.866827011108398 | True pKd: 7.619788646697998\n",
      "Predicted pKd: 7.300789833068848 | True pKd: 6.376750946044922\n",
      "Predicted pKd: 10.083585739135742 | True pKd: 10.896196365356445\n",
      "Predicted pKd: 4.913719177246094 | True pKd: 4.519992828369141\n",
      "Predicted pKd: 7.736763000488281 | True pKd: 5.552842140197754\n",
      "Predicted pKd: 7.177864074707031 | True pKd: 5.692503929138184\n",
      "Predicted pKd: 6.752213478088379 | True pKd: 5.223299026489258\n",
      "Predicted pKd: 8.591692924499512 | True pKd: 7.17587423324585\n",
      "Predicted pKd: 5.157500267028809 | True pKd: 4.431798458099365\n",
      "Predicted pKd: 6.261898994445801 | True pKd: 6.0\n",
      "Predicted pKd: 10.126692771911621 | True pKd: 8.832682609558105\n",
      "Predicted pKd: 5.534242630004883 | True pKd: 5.92081880569458\n",
      "Predicted pKd: 8.054898262023926 | True pKd: 11.0\n",
      "Predicted pKd: 4.66583251953125 | True pKd: 5.096909999847412\n",
      "Predicted pKd: 8.275686264038086 | True pKd: 8.522878646850586\n",
      "Predicted pKd: 7.748650550842285 | True pKd: 7.721246242523193\n",
      "Predicted pKd: 10.201693534851074 | True pKd: 10.623422622680664\n",
      "Predicted pKd: 7.3242645263671875 | True pKd: 8.367542266845703\n",
      "Predicted pKd: 7.705273628234863 | True pKd: 7.694648742675781\n",
      "Predicted pKd: 9.644381523132324 | True pKd: 11.175873756408691\n",
      "Predicted pKd: 10.050163269042969 | True pKd: 9.886056900024414\n",
      "Predicted pKd: 7.679303169250488 | True pKd: 7.0809221267700195\n",
      "Predicted pKd: 13.962039947509766 | True pKd: 15.0\n",
      "Predicted pKd: 4.17717981338501 | True pKd: 3.698970079421997\n",
      "Predicted pKd: 6.227884292602539 | True pKd: 3.7644715309143066\n",
      "Predicted pKd: 8.023362159729004 | True pKd: 6.036211967468262\n",
      "Predicted pKd: 6.740530967712402 | True pKd: 7.142667293548584\n",
      "Predicted pKd: 7.207653999328613 | True pKd: 7.4685211181640625\n",
      "Predicted pKd: 7.923552513122559 | True pKd: 7.924453258514404\n",
      "Predicted pKd: 7.73494815826416 | True pKd: 8.040958404541016\n",
      "Predicted pKd: 8.754759788513184 | True pKd: 7.9871625900268555\n",
      "Predicted pKd: 6.660749435424805 | True pKd: 8.3233060836792\n",
      "Predicted pKd: 5.55927848815918 | True pKd: 5.619788646697998\n",
      "Predicted pKd: 7.428811073303223 | True pKd: 8.444905281066895\n",
      "Predicted pKd: 4.926207542419434 | True pKd: 3.1758742332458496\n",
      "Predicted pKd: 5.65478515625 | True pKd: 6.301030158996582\n",
      "Predicted pKd: 7.4138689041137695 | True pKd: 9.087778091430664\n",
      "Predicted pKd: 9.556870460510254 | True pKd: 11.397939682006836\n",
      "Predicted pKd: 10.904321670532227 | True pKd: 10.95860767364502\n",
      "Predicted pKd: 6.421808242797852 | True pKd: 8.356547355651855\n",
      "Predicted pKd: 4.7406110763549805 | True pKd: 3.7825160026550293\n",
      "Predicted pKd: 7.287099838256836 | True pKd: 5.32975435256958\n",
      "Predicted pKd: 8.01810359954834 | True pKd: 8.301030158996582\n",
      "Predicted pKd: 5.232683181762695 | True pKd: 7.050610065460205\n",
      "Predicted pKd: 7.478797912597656 | True pKd: 7.301030158996582\n",
      "Predicted pKd: 4.646519660949707 | True pKd: 3.744727611541748\n",
      "Predicted pKd: 5.135465621948242 | True pKd: 4.508638381958008\n",
      "Predicted pKd: 4.5578413009643555 | True pKd: 5.193819999694824\n",
      "Predicted pKd: 6.151140213012695 | True pKd: 7.84163761138916\n",
      "Predicted pKd: 9.060284614562988 | True pKd: 9.698969841003418\n",
      "Predicted pKd: 7.721920013427734 | True pKd: 8.238823890686035\n",
      "Predicted pKd: 5.470706939697266 | True pKd: 5.739928722381592\n",
      "Predicted pKd: 5.43379020690918 | True pKd: 5.659555912017822\n",
      "Predicted pKd: 10.651232719421387 | True pKd: 10.51855754852295\n",
      "Predicted pKd: 7.673728942871094 | True pKd: 8.402304649353027\n",
      "Predicted pKd: 5.74091911315918 | True pKd: 5.045757293701172\n",
      "Predicted pKd: 6.936773300170898 | True pKd: 6.551293849945068\n",
      "Predicted pKd: 9.034969329833984 | True pKd: 8.20065975189209\n",
      "Predicted pKd: 5.532492637634277 | True pKd: 3.318758726119995\n",
      "Predicted pKd: 5.2967400550842285 | True pKd: 7.07572078704834\n",
      "Predicted pKd: 13.449170112609863 | True pKd: 12.677781105041504\n",
      "Predicted pKd: 6.861799240112305 | True pKd: 6.7931742668151855\n",
      "Predicted pKd: 6.839570999145508 | True pKd: 6.455932140350342\n",
      "Predicted pKd: 7.478207588195801 | True pKd: 7.193819999694824\n",
      "Predicted pKd: 7.19256591796875 | True pKd: 4.619788646697998\n",
      "Predicted pKd: 7.780386924743652 | True pKd: 8.187087059020996\n",
      "Predicted pKd: 8.029906272888184 | True pKd: 8.602060317993164\n",
      "Predicted pKd: 7.484498977661133 | True pKd: 6.382999897003174\n",
      "Predicted pKd: 4.953200817108154 | True pKd: 4.07572078704834\n",
      "Predicted pKd: 9.841248512268066 | True pKd: 6.530178070068359\n",
      "Predicted pKd: 4.661309242248535 | True pKd: 3.348431348800659\n",
      "Predicted pKd: 9.509950637817383 | True pKd: 11.568635940551758\n",
      "Predicted pKd: 9.315105438232422 | True pKd: 10.146302223205566\n",
      "Predicted pKd: 7.699333190917969 | True pKd: 12.0\n",
      "Predicted pKd: 7.19558048248291 | True pKd: 8.853872299194336\n",
      "Predicted pKd: 6.198982238769531 | True pKd: 5.79587984085083\n",
      "Predicted pKd: 9.135537147521973 | True pKd: 9.0\n",
      "Predicted pKd: 4.939001560211182 | True pKd: 6.3665313720703125\n",
      "Predicted pKd: 9.321513175964355 | True pKd: 9.06550121307373\n",
      "Predicted pKd: 5.499995231628418 | True pKd: 3.351639986038208\n",
      "Predicted pKd: 4.954118728637695 | True pKd: 5.178486347198486\n",
      "Predicted pKd: 7.717079162597656 | True pKd: 6.522878646850586\n",
      "Predicted pKd: 9.460038185119629 | True pKd: 9.0\n",
      "Predicted pKd: 10.625008583068848 | True pKd: 5.070580959320068\n",
      "Predicted pKd: 7.453128814697266 | True pKd: 7.431798458099365\n",
      "Predicted pKd: 9.486387252807617 | True pKd: 9.414539337158203\n",
      "Predicted pKd: 5.054841995239258 | True pKd: 8.602060317993164\n",
      "Predicted pKd: 4.575054168701172 | True pKd: 6.036211967468262\n",
      "Predicted pKd: 7.670804023742676 | True pKd: 8.146302223205566\n",
      "Predicted pKd: 6.511584281921387 | True pKd: 6.6575775146484375\n",
      "Predicted pKd: 7.670809745788574 | True pKd: 6.522878646850586\n",
      "Predicted pKd: 9.751954078674316 | True pKd: 10.361510276794434\n",
      "Predicted pKd: 6.760411262512207 | True pKd: 9.221848487854004\n",
      "Predicted pKd: 7.735190391540527 | True pKd: 7.552842140197754\n",
      "Predicted pKd: 9.499972343444824 | True pKd: 9.275724411010742\n",
      "Predicted pKd: 9.406532287597656 | True pKd: 9.431797981262207\n",
      "Predicted pKd: 4.530821800231934 | True pKd: 4.679853916168213\n",
      "Predicted pKd: 5.318690299987793 | True pKd: 8.585026741027832\n",
      "Predicted pKd: 5.15765380859375 | True pKd: 4.92081880569458\n",
      "Predicted pKd: 6.922250747680664 | True pKd: 6.251811981201172\n",
      "Predicted pKd: 6.790562629699707 | True pKd: 7.665546417236328\n",
      "Predicted pKd: 7.908638954162598 | True pKd: 7.397940158843994\n",
      "Predicted pKd: 6.076546669006348 | True pKd: 4.585026741027832\n",
      "Predicted pKd: 7.626377105712891 | True pKd: 7.79587984085083\n",
      "Predicted pKd: 5.851926803588867 | True pKd: 7.677780628204346\n",
      "Predicted pKd: 5.796015739440918 | True pKd: 6.886056423187256\n",
      "Predicted pKd: 8.46187973022461 | True pKd: 8.698969841003418\n",
      "Predicted pKd: 9.406855583190918 | True pKd: 9.397939682006836\n",
      "Predicted pKd: 5.170292854309082 | True pKd: 6.199283123016357\n",
      "Predicted pKd: 5.722254753112793 | True pKd: 2.8664610385894775\n",
      "Predicted pKd: 9.267398834228516 | True pKd: 9.301030158996582\n",
      "Predicted pKd: 4.988455772399902 | True pKd: 2.8728952407836914\n",
      "Predicted pKd: 6.774044036865234 | True pKd: 7.28399658203125\n",
      "Predicted pKd: 4.895440578460693 | True pKd: 4.414539337158203\n",
      "Predicted pKd: 7.182860374450684 | True pKd: 7.397940158843994\n",
      "Predicted pKd: 5.9016618728637695 | True pKd: 6.307153224945068\n",
      "Predicted pKd: 8.501514434814453 | True pKd: 8.627087593078613\n",
      "Predicted pKd: 8.372152328491211 | True pKd: 8.853872299194336\n",
      "Predicted pKd: 6.376640319824219 | True pKd: 6.6575775146484375\n",
      "Predicted pKd: 7.601428985595703 | True pKd: 9.886056900024414\n",
      "Predicted pKd: 7.403231620788574 | True pKd: 7.32239294052124\n",
      "Predicted pKd: 6.746947288513184 | True pKd: 7.882728576660156\n",
      "Predicted pKd: 7.659667015075684 | True pKd: 9.886056900024414\n",
      "Predicted pKd: 9.92406177520752 | True pKd: 10.02410888671875\n",
      "Predicted pKd: 4.130624771118164 | True pKd: 4.625251770019531\n",
      "Predicted pKd: 7.101072311401367 | True pKd: 8.040958404541016\n",
      "Predicted pKd: 5.715479850769043 | True pKd: 5.508638381958008\n",
      "Predicted pKd: 4.386074066162109 | True pKd: 4.337242126464844\n",
      "Predicted pKd: 8.937186241149902 | True pKd: 8.74472713470459\n",
      "Predicted pKd: 5.216630935668945 | True pKd: 5.590066909790039\n",
      "Predicted pKd: 7.819079399108887 | True pKd: 8.258060455322266\n",
      "Predicted pKd: 7.437740325927734 | True pKd: 4.642065048217773\n",
      "Predicted pKd: 4.348544597625732 | True pKd: 5.958607196807861\n",
      "Predicted pKd: 7.185811996459961 | True pKd: 7.207608222961426\n",
      "Predicted pKd: 4.7632527351379395 | True pKd: 5.0\n",
      "Predicted pKd: 9.518601417541504 | True pKd: 5.995678424835205\n",
      "Predicted pKd: 6.225503921508789 | True pKd: 5.537601947784424\n",
      "Predicted pKd: 7.786345481872559 | True pKd: 8.886056900024414\n",
      "Predicted pKd: 9.310153007507324 | True pKd: 9.477556228637695\n",
      "Predicted pKd: 9.400933265686035 | True pKd: 9.050609588623047\n",
      "Predicted pKd: 4.972044944763184 | True pKd: 4.109579086303711\n",
      "Predicted pKd: 6.199702262878418 | True pKd: 6.546681880950928\n",
      "Predicted pKd: 7.814367294311523 | True pKd: 8.552842140197754\n",
      "Predicted pKd: 9.363033294677734 | True pKd: 9.361510276794434\n",
      "Predicted pKd: 8.389806747436523 | True pKd: 7.484126091003418\n",
      "Predicted pKd: 6.0963640213012695 | True pKd: 5.60554838180542\n",
      "Predicted pKd: 4.5171003341674805 | True pKd: 4.829738140106201\n",
      "Predicted pKd: 6.868044853210449 | True pKd: 6.0\n",
      "Predicted pKd: 8.775901794433594 | True pKd: 9.041436195373535\n",
      "Predicted pKd: 9.517040252685547 | True pKd: 9.690369606018066\n",
      "Predicted pKd: 7.786876678466797 | True pKd: 6.643974304199219\n",
      "Predicted pKd: 8.953506469726562 | True pKd: 7.3625102043151855\n",
      "Predicted pKd: 7.520669937133789 | True pKd: 10.677781105041504\n",
      "Predicted pKd: 7.215231895446777 | True pKd: 8.397939682006836\n",
      "Predicted pKd: 7.522421836853027 | True pKd: 7.207608222961426\n",
      "Predicted pKd: 7.9871063232421875 | True pKd: 7.844664096832275\n",
      "Predicted pKd: 8.59223461151123 | True pKd: 8.728157997131348\n",
      "Predicted pKd: 4.083374500274658 | True pKd: 4.410050392150879\n",
      "Predicted pKd: 9.267766952514648 | True pKd: 9.0\n",
      "Predicted pKd: 9.849836349487305 | True pKd: 8.175873756408691\n",
      "Predicted pKd: 7.397826194763184 | True pKd: 7.025488376617432\n",
      "Predicted pKd: 12.04782772064209 | True pKd: 11.795880317687988\n",
      "Predicted pKd: 7.059205055236816 | True pKd: 6.638272285461426\n",
      "Predicted pKd: 8.770601272583008 | True pKd: 13.221848487854004\n",
      "Predicted pKd: 4.20720100402832 | True pKd: 7.251811981201172\n",
      "Predicted pKd: 7.02970027923584 | True pKd: 11.522878646850586\n",
      "Predicted pKd: 6.940512657165527 | True pKd: 7.298431873321533\n",
      "Predicted pKd: 7.629166603088379 | True pKd: 4.982966423034668\n",
      "Predicted pKd: 6.391027450561523 | True pKd: 6.397940158843994\n",
      "Predicted pKd: 9.057958602905273 | True pKd: 8.920818328857422\n",
      "Predicted pKd: 6.846517562866211 | True pKd: 6.92081880569458\n",
      "Predicted pKd: 7.057432174682617 | True pKd: 7.412289142608643\n",
      "Predicted pKd: 6.06056022644043 | True pKd: 5.6270880699157715\n",
      "Predicted pKd: 6.162468910217285 | True pKd: 9.28399658203125\n",
      "Predicted pKd: 10.384734153747559 | True pKd: 11.041436195373535\n",
      "Predicted pKd: 10.609949111938477 | True pKd: 9.739928245544434\n",
      "Predicted pKd: 8.2211275100708 | True pKd: 7.091515064239502\n",
      "Predicted pKd: 7.703827857971191 | True pKd: 7.1313557624816895\n",
      "Predicted pKd: 9.177783966064453 | True pKd: 8.86966609954834\n",
      "Predicted pKd: 9.063028335571289 | True pKd: 8.96657657623291\n",
      "Predicted pKd: 5.654153823852539 | True pKd: 4.801342964172363\n",
      "Predicted pKd: 9.066041946411133 | True pKd: 9.619789123535156\n",
      "Predicted pKd: 9.259705543518066 | True pKd: 7.275723934173584\n",
      "Predicted pKd: 7.3603010177612305 | True pKd: 4.130181789398193\n",
      "Predicted pKd: 6.011931419372559 | True pKd: 9.09691047668457\n",
      "Predicted pKd: 6.56313419342041 | True pKd: 6.889410495758057\n",
      "Predicted pKd: 7.732060432434082 | True pKd: 7.180456161499023\n",
      "Predicted pKd: 5.440691947937012 | True pKd: 5.863279342651367\n",
      "Predicted pKd: 6.695008277893066 | True pKd: 7.259637355804443\n",
      "Predicted pKd: 7.702906608581543 | True pKd: 8.184422492980957\n",
      "Predicted pKd: 10.350347518920898 | True pKd: 11.522878646850586\n",
      "Predicted pKd: 9.87347412109375 | True pKd: 10.341988563537598\n",
      "Predicted pKd: 4.956279754638672 | True pKd: 5.142667293548584\n",
      "Predicted pKd: 14.826387405395508 | True pKd: 15.698969841003418\n",
      "Predicted pKd: 5.792205810546875 | True pKd: 6.600326061248779\n",
      "Predicted pKd: 9.398334503173828 | True pKd: 9.130767822265625\n",
      "Predicted pKd: 5.155667304992676 | True pKd: 4.508638381958008\n",
      "Predicted pKd: 9.924588203430176 | True pKd: 8.78515625\n",
      "Predicted pKd: 5.639025688171387 | True pKd: 5.6575775146484375\n",
      "Predicted pKd: 7.758572578430176 | True pKd: 7.619788646697998\n",
      "Predicted pKd: 5.887803077697754 | True pKd: 8.187087059020996\n",
      "Predicted pKd: 8.017610549926758 | True pKd: 8.221848487854004\n",
      "Predicted pKd: 8.225674629211426 | True pKd: 8.279840469360352\n",
      "Predicted pKd: 7.882551193237305 | True pKd: 8.364516258239746\n",
      "Predicted pKd: 7.446109771728516 | True pKd: 7.025488376617432\n",
      "Predicted pKd: 6.253457069396973 | True pKd: 4.397940158843994\n",
      "Predicted pKd: 9.740964889526367 | True pKd: 9.494850158691406\n",
      "Predicted pKd: 6.754179000854492 | True pKd: 7.1191864013671875\n",
      "Predicted pKd: 8.321341514587402 | True pKd: 7.698969841003418\n",
      "Predicted pKd: 5.477128028869629 | True pKd: 3.853872060775757\n",
      "Predicted pKd: 9.4122953414917 | True pKd: 9.187087059020996\n",
      "Predicted pKd: 9.695435523986816 | True pKd: 9.379863739013672\n",
      "Predicted pKd: 8.380143165588379 | True pKd: 7.698969841003418\n",
      "Predicted pKd: 8.957341194152832 | True pKd: 9.853872299194336\n",
      "Predicted pKd: 9.278688430786133 | True pKd: 6.361510753631592\n",
      "Predicted pKd: 7.847255706787109 | True pKd: 8.889410018920898\n",
      "Predicted pKd: 9.130073547363281 | True pKd: 11.51855754852295\n",
      "Predicted pKd: 8.27348804473877 | True pKd: 9.026871681213379\n",
      "Predicted pKd: 5.19078254699707 | True pKd: 4.522878646850586\n",
      "Predicted pKd: 8.16978645324707 | True pKd: 7.198596477508545\n",
      "Predicted pKd: 7.647365570068359 | True pKd: 6.397940158843994\n",
      "Predicted pKd: 6.910011291503906 | True pKd: 6.114073753356934\n",
      "Predicted pKd: 4.232885360717773 | True pKd: 4.15676736831665\n",
      "Predicted pKd: 7.061764717102051 | True pKd: 6.777283668518066\n",
      "Predicted pKd: 7.229976654052734 | True pKd: 6.647817611694336\n",
      "Predicted pKd: 6.091174125671387 | True pKd: 6.970616340637207\n",
      "Predicted pKd: 9.457632064819336 | True pKd: 9.031517028808594\n",
      "Predicted pKd: 5.905902862548828 | True pKd: 6.698969841003418\n",
      "Predicted pKd: 5.636392593383789 | True pKd: 5.0\n",
      "Predicted pKd: 7.484971046447754 | True pKd: 9.397939682006836\n",
      "Predicted pKd: 4.597292900085449 | True pKd: 4.100179672241211\n",
      "Predicted pKd: 5.800549507141113 | True pKd: 4.946921348571777\n",
      "Predicted pKd: 8.843233108520508 | True pKd: 8.0\n",
      "Predicted pKd: 7.855319976806641 | True pKd: 5.568636417388916\n",
      "Predicted pKd: 6.804993629455566 | True pKd: 5.0\n",
      "Predicted pKd: 5.467829704284668 | True pKd: 4.962573528289795\n",
      "Predicted pKd: 8.346137046813965 | True pKd: 7.886056423187256\n",
      "Predicted pKd: 5.32358455657959 | True pKd: 5.107905387878418\n",
      "Predicted pKd: 4.576135635375977 | True pKd: 5.0087738037109375\n",
      "Predicted pKd: 8.703343391418457 | True pKd: 8.728157997131348\n",
      "Predicted pKd: 5.031929016113281 | True pKd: 5.712198257446289\n",
      "Predicted pKd: 10.516512870788574 | True pKd: 9.379863739013672\n",
      "Predicted pKd: 9.078386306762695 | True pKd: 9.089909553527832\n",
      "Predicted pKd: 6.746702194213867 | True pKd: 5.677780628204346\n",
      "Predicted pKd: 12.048051834106445 | True pKd: 10.008331298828125\n",
      "Predicted pKd: 7.258152961730957 | True pKd: 8.210419654846191\n",
      "Predicted pKd: 7.229923248291016 | True pKd: 7.400116920471191\n",
      "Predicted pKd: 6.587867736816406 | True pKd: 9.28399658203125\n",
      "Predicted pKd: 4.9533538818359375 | True pKd: 5.744727611541748\n",
      "Predicted pKd: 8.516866683959961 | True pKd: 5.15490198135376\n",
      "Predicted pKd: 9.400556564331055 | True pKd: 8.281497955322266\n",
      "Predicted pKd: 6.625646591186523 | True pKd: 5.823908805847168\n",
      "Predicted pKd: 4.544151782989502 | True pKd: 4.457174777984619\n",
      "Predicted pKd: 6.046893119812012 | True pKd: 5.522878646850586\n",
      "Predicted pKd: 9.449633598327637 | True pKd: 6.481485843658447\n",
      "Predicted pKd: 9.908599853515625 | True pKd: 9.322393417358398\n",
      "Predicted pKd: 4.923920631408691 | True pKd: 4.7695512771606445\n",
      "Predicted pKd: 5.970246315002441 | True pKd: 5.829738140106201\n",
      "Predicted pKd: 7.780025482177734 | True pKd: 7.653646945953369\n",
      "Predicted pKd: 8.492446899414062 | True pKd: 5.2441253662109375\n",
      "Predicted pKd: 8.641143798828125 | True pKd: 9.602060317993164\n",
      "Predicted pKd: 9.430011749267578 | True pKd: 9.193819999694824\n",
      "Predicted pKd: 4.135104179382324 | True pKd: 4.95078182220459\n",
      "Predicted pKd: 6.163969039916992 | True pKd: 4.070580959320068\n",
      "Predicted pKd: 6.829724311828613 | True pKd: 5.223299026489258\n",
      "Predicted pKd: 9.303377151489258 | True pKd: 7.71669864654541\n",
      "Predicted pKd: 8.668517112731934 | True pKd: 9.425969123840332\n",
      "Predicted pKd: 6.907937049865723 | True pKd: 8.568635940551758\n",
      "Predicted pKd: 6.719418525695801 | True pKd: 8.154901504516602\n",
      "Predicted pKd: 5.635471343994141 | True pKd: 6.698969841003418\n",
      "Predicted pKd: 5.52327823638916 | True pKd: 5.617982864379883\n",
      "Predicted pKd: 7.674001693725586 | True pKd: 7.752026557922363\n",
      "Predicted pKd: 5.273374557495117 | True pKd: 4.17587423324585\n",
      "Predicted pKd: 13.454282760620117 | True pKd: 8.251811981201172\n",
      "Predicted pKd: 7.304961204528809 | True pKd: 7.744727611541748\n",
      "Predicted pKd: 5.187719821929932 | True pKd: 5.187755107879639\n",
      "Predicted pKd: 7.360716819763184 | True pKd: 5.301030158996582\n",
      "Predicted pKd: 6.611153602600098 | True pKd: 6.392544746398926\n",
      "Predicted pKd: 8.561580657958984 | True pKd: 7.518557548522949\n",
      "Predicted pKd: 5.464055061340332 | True pKd: 5.612610340118408\n",
      "Predicted pKd: 8.742966651916504 | True pKd: 10.815308570861816\n",
      "Predicted pKd: 9.40381908416748 | True pKd: 9.698969841003418\n",
      "Predicted pKd: 9.550997734069824 | True pKd: 11.397939682006836\n",
      "Predicted pKd: 4.345953941345215 | True pKd: 5.346787452697754\n",
      "Predicted pKd: 4.497034072875977 | True pKd: 4.686132907867432\n",
      "Predicted pKd: 7.233393669128418 | True pKd: 6.876148223876953\n",
      "Predicted pKd: 6.109090805053711 | True pKd: 5.739928722381592\n",
      "Predicted pKd: 7.671714782714844 | True pKd: 6.6716203689575195\n",
      "Predicted pKd: 7.930787086486816 | True pKd: 5.023191452026367\n",
      "Predicted pKd: 8.6616792678833 | True pKd: 6.617982864379883\n",
      "Predicted pKd: 7.632965087890625 | True pKd: 5.301030158996582\n",
      "Predicted pKd: 7.183699607849121 | True pKd: 7.79587984085083\n",
      "Predicted pKd: 7.3922529220581055 | True pKd: 7.229147911071777\n",
      "Predicted pKd: 7.441733360290527 | True pKd: 6.798603057861328\n",
      "Predicted pKd: 11.69638729095459 | True pKd: 11.221848487854004\n",
      "Predicted pKd: 5.025596618652344 | True pKd: 4.408935546875\n",
      "Predicted pKd: 4.679345607757568 | True pKd: 3.7011468410491943\n",
      "Predicted pKd: 7.081770896911621 | True pKd: 5.92081880569458\n",
      "Predicted pKd: 8.310399055480957 | True pKd: 7.698969841003418\n",
      "Predicted pKd: 7.783903121948242 | True pKd: 7.844664096832275\n",
      "Predicted pKd: 5.7227678298950195 | True pKd: 6.4685211181640625\n",
      "Predicted pKd: 7.960892677307129 | True pKd: 8.698969841003418\n",
      "Predicted pKd: 6.015373229980469 | True pKd: 3.6458916664123535\n",
      "Predicted pKd: 8.262728691101074 | True pKd: 7.7695512771606445\n",
      "Predicted pKd: 5.054298400878906 | True pKd: 3.92081880569458\n",
      "Predicted pKd: 9.99412727355957 | True pKd: 10.96657657623291\n",
      "Predicted pKd: 7.432926177978516 | True pKd: 5.669586181640625\n",
      "Predicted pKd: 7.785586357116699 | True pKd: 6.269217491149902\n",
      "Predicted pKd: 5.519493103027344 | True pKd: 4.721246242523193\n",
      "Predicted pKd: 9.925176620483398 | True pKd: 9.821022987365723\n",
      "Predicted pKd: 9.918048858642578 | True pKd: 9.568635940551758\n",
      "Predicted pKd: 5.260277271270752 | True pKd: 7.2924299240112305\n",
      "Predicted pKd: 7.302988052368164 | True pKd: 5.838632106781006\n",
      "Predicted pKd: 4.879131317138672 | True pKd: 5.214670181274414\n",
      "Predicted pKd: 7.971473693847656 | True pKd: 8.060481071472168\n",
      "Predicted pKd: 5.05221700668335 | True pKd: 5.267606258392334\n",
      "Predicted pKd: 7.177865982055664 | True pKd: 5.455932140350342\n",
      "Predicted pKd: 5.071359157562256 | True pKd: 4.879426002502441\n",
      "Predicted pKd: 5.572973251342773 | True pKd: 8.882728576660156\n",
      "Predicted pKd: 4.439663887023926 | True pKd: 3.698970079421997\n",
      "Predicted pKd: 10.440872192382812 | True pKd: 7.462181091308594\n",
      "Predicted pKd: 10.621478080749512 | True pKd: 8.146302223205566\n",
      "Predicted pKd: 5.752674102783203 | True pKd: 5.01863431930542\n",
      "Predicted pKd: 10.307897567749023 | True pKd: 10.97469425201416\n",
      "Predicted pKd: 8.16580867767334 | True pKd: 8.329753875732422\n",
      "Predicted pKd: 4.676085948944092 | True pKd: 4.6458916664123535\n",
      "Predicted pKd: 5.146345138549805 | True pKd: 4.889410495758057\n",
      "Predicted pKd: 9.972797393798828 | True pKd: 10.142667770385742\n",
      "Predicted pKd: 6.092421531677246 | True pKd: 4.6575775146484375\n",
      "Predicted pKd: 4.6801323890686035 | True pKd: 5.221848964691162\n",
      "Predicted pKd: 5.138227462768555 | True pKd: 4.387216091156006\n",
      "Predicted pKd: 5.637234687805176 | True pKd: 5.698969841003418\n",
      "Predicted pKd: 7.859811782836914 | True pKd: 9.28399658203125\n",
      "Predicted pKd: 7.673310279846191 | True pKd: 7.995678424835205\n",
      "Predicted pKd: 6.304141998291016 | True pKd: 10.0\n",
      "Predicted pKd: 9.080748558044434 | True pKd: 9.769551277160645\n",
      "Predicted pKd: 8.929916381835938 | True pKd: 7.25492525100708\n",
      "Predicted pKd: 6.704069137573242 | True pKd: 8.939302444458008\n",
      "Predicted pKd: 6.80364990234375 | True pKd: 6.0\n",
      "Predicted pKd: 5.959465026855469 | True pKd: 4.337242126464844\n",
      "Predicted pKd: 6.885611534118652 | True pKd: 9.086186408996582\n",
      "Predicted pKd: 8.400723457336426 | True pKd: 9.548213958740234\n",
      "Predicted pKd: 6.290914535522461 | True pKd: 7.521433353424072\n",
      "Predicted pKd: 9.402658462524414 | True pKd: 8.698969841003418\n",
      "Predicted pKd: 10.262768745422363 | True pKd: 10.42021656036377\n",
      "Predicted pKd: 4.943073272705078 | True pKd: 5.28399658203125\n",
      "Predicted pKd: 7.774330139160156 | True pKd: 5.92081880569458\n",
      "Predicted pKd: 4.717982769012451 | True pKd: 4.886056423187256\n",
      "Predicted pKd: 6.847316741943359 | True pKd: 7.214670181274414\n",
      "Predicted pKd: 9.957913398742676 | True pKd: 10.154901504516602\n",
      "Predicted pKd: 4.643247127532959 | True pKd: 3.091515064239502\n",
      "Predicted pKd: 9.096314430236816 | True pKd: 9.0\n",
      "Predicted pKd: 5.916376113891602 | True pKd: 5.531652450561523\n",
      "Predicted pKd: 5.471430778503418 | True pKd: 5.876148223876953\n",
      "Predicted pKd: 6.283702850341797 | True pKd: 5.994390487670898\n",
      "Predicted pKd: 6.078278541564941 | True pKd: 5.7695512771606445\n",
      "Predicted pKd: 7.094040870666504 | True pKd: 6.4788618087768555\n",
      "Predicted pKd: 5.493975639343262 | True pKd: 5.692503929138184\n",
      "Predicted pKd: 4.922181129455566 | True pKd: 3.823908805847168\n",
      "Predicted pKd: 4.540558815002441 | True pKd: 4.0\n",
      "Predicted pKd: 9.5399169921875 | True pKd: 10.481486320495605\n",
      "Predicted pKd: 7.430798530578613 | True pKd: 8.193819999694824\n",
      "Predicted pKd: 8.865976333618164 | True pKd: 7.221848964691162\n",
      "Predicted pKd: 8.449172973632812 | True pKd: 7.568636417388916\n",
      "Predicted pKd: 8.023550987243652 | True pKd: 7.3565473556518555\n",
      "Predicted pKd: 9.403119087219238 | True pKd: 9.154901504516602\n",
      "Predicted pKd: 13.45161247253418 | True pKd: 13.508638381958008\n",
      "Predicted pKd: 6.084867477416992 | True pKd: 5.602059841156006\n",
      "Predicted pKd: 6.831683158874512 | True pKd: 6.331614017486572\n",
      "Predicted pKd: 7.298304557800293 | True pKd: 6.113509178161621\n",
      "Predicted pKd: 5.471280097961426 | True pKd: 7.180456161499023\n",
      "Predicted pKd: 5.773648262023926 | True pKd: 3.411168336868286\n",
      "Predicted pKd: 9.305447578430176 | True pKd: 10.522878646850586\n",
      "Predicted pKd: 6.2611236572265625 | True pKd: 7.301030158996582\n",
      "Predicted pKd: 9.412666320800781 | True pKd: 9.20065975189209\n",
      "Predicted pKd: 4.209877014160156 | True pKd: 3.7235381603240967\n",
      "Predicted pKd: 7.922492980957031 | True pKd: 7.92081880569458\n",
      "Predicted pKd: 7.709318161010742 | True pKd: 8.522878646850586\n",
      "Predicted pKd: 9.400500297546387 | True pKd: 9.267605781555176\n",
      "Predicted pKd: 5.448574066162109 | True pKd: 5.040958404541016\n",
      "Predicted pKd: 6.691305160522461 | True pKd: 7.033858299255371\n",
      "Predicted pKd: 7.447295188903809 | True pKd: 10.045757293701172\n",
      "Predicted pKd: 8.571324348449707 | True pKd: 9.769551277160645\n",
      "Predicted pKd: 8.011425018310547 | True pKd: 7.619788646697998\n",
      "Predicted pKd: 7.779160499572754 | True pKd: 6.850780963897705\n",
      "Predicted pKd: 8.890473365783691 | True pKd: 9.091514587402344\n",
      "Predicted pKd: 10.356673240661621 | True pKd: 10.58004379272461\n",
      "Predicted pKd: 6.043637275695801 | True pKd: 5.0\n",
      "Predicted pKd: 6.164735794067383 | True pKd: 4.991399765014648\n",
      "Predicted pKd: 6.739392280578613 | True pKd: 6.698969841003418\n",
      "Predicted pKd: 8.665937423706055 | True pKd: 9.50445556640625\n",
      "Predicted pKd: 7.979632377624512 | True pKd: 8.698969841003418\n",
      "Predicted pKd: 8.271533012390137 | True pKd: 8.119186401367188\n",
      "Predicted pKd: 6.734986305236816 | True pKd: 5.77211332321167\n",
      "Predicted pKd: 8.61189079284668 | True pKd: 8.226944923400879\n",
      "Predicted pKd: 7.428581237792969 | True pKd: 7.585026741027832\n",
      "Predicted pKd: 10.892212867736816 | True pKd: 6.301030158996582\n",
      "Predicted pKd: 8.418503761291504 | True pKd: 9.585026741027832\n",
      "Predicted pKd: 10.63638973236084 | True pKd: 8.962573051452637\n",
      "Predicted pKd: 8.17855167388916 | True pKd: 9.522878646850586\n",
      "Predicted pKd: 8.242354393005371 | True pKd: 7.581698894500732\n",
      "Predicted pKd: 9.401954650878906 | True pKd: 9.301030158996582\n",
      "Predicted pKd: 7.457758903503418 | True pKd: 7.379863739013672\n",
      "Predicted pKd: 7.762717247009277 | True pKd: 7.341988563537598\n",
      "Predicted pKd: 8.616921424865723 | True pKd: 9.962573051452637\n",
      "Predicted pKd: 5.980365753173828 | True pKd: 6.334418773651123\n",
      "Predicted pKd: 4.955506801605225 | True pKd: 5.187086582183838\n",
      "Predicted pKd: 8.15278434753418 | True pKd: 8.063486099243164\n",
      "Predicted pKd: 6.508378028869629 | True pKd: 5.537601947784424\n",
      "Predicted pKd: 8.699336051940918 | True pKd: 8.86012077331543\n",
      "Predicted pKd: 9.850128173828125 | True pKd: 10.431797981262207\n",
      "Predicted pKd: 5.491510391235352 | True pKd: 5.28399658203125\n",
      "Predicted pKd: 7.167167663574219 | True pKd: 5.552842140197754\n",
      "Predicted pKd: 10.526993751525879 | True pKd: 11.204119682312012\n",
      "Predicted pKd: 8.696564674377441 | True pKd: 14.0\n",
      "Predicted pKd: 9.184714317321777 | True pKd: 9.0\n",
      "Predicted pKd: 7.28426456451416 | True pKd: 7.692503929138184\n",
      "Predicted pKd: 8.021594047546387 | True pKd: 9.51855754852295\n",
      "Predicted pKd: 4.640365123748779 | True pKd: 5.221848964691162\n",
      "Predicted pKd: 7.673192024230957 | True pKd: 6.070580959320068\n",
      "Predicted pKd: 9.412683486938477 | True pKd: 9.187087059020996\n",
      "Predicted pKd: 7.4214982986450195 | True pKd: 6.7798919677734375\n",
      "Predicted pKd: 10.08354377746582 | True pKd: 10.079876899719238\n",
      "Predicted pKd: 9.325946807861328 | True pKd: 9.801342964172363\n",
      "Predicted pKd: 6.97028923034668 | True pKd: 7.568636417388916\n",
      "Predicted pKd: 6.730321884155273 | True pKd: 9.30980396270752\n",
      "Predicted pKd: 4.697935104370117 | True pKd: 4.397940158843994\n",
      "Predicted pKd: 7.540148735046387 | True pKd: 9.0\n",
      "Predicted pKd: 5.159467697143555 | True pKd: 4.387216091156006\n",
      "Predicted pKd: 6.499351501464844 | True pKd: 4.163675785064697\n",
      "Predicted pKd: 5.592329978942871 | True pKd: 5.92081880569458\n",
      "Predicted pKd: 4.751437187194824 | True pKd: 5.481485843658447\n",
      "Predicted pKd: 5.045327186584473 | True pKd: 5.97469425201416\n",
      "Predicted pKd: 5.8836259841918945 | True pKd: 6.6038007736206055\n",
      "Predicted pKd: 5.262169361114502 | True pKd: 5.970616340637207\n",
      "Predicted pKd: 5.935029029846191 | True pKd: 5.28399658203125\n",
      "Predicted pKd: 6.828413009643555 | True pKd: 6.698969841003418\n",
      "Predicted pKd: 4.527148246765137 | True pKd: 4.696804046630859\n",
      "Predicted pKd: 7.4934844970703125 | True pKd: 6.508638381958008\n",
      "Predicted pKd: 5.0718183517456055 | True pKd: 4.958607196807861\n",
      "Predicted pKd: 4.884407997131348 | True pKd: 4.337242126464844\n",
      "Predicted pKd: 9.944482803344727 | True pKd: 10.568635940551758\n",
      "Predicted pKd: 9.777523040771484 | True pKd: 10.798603057861328\n",
      "Predicted pKd: 7.439302444458008 | True pKd: 7.879426002502441\n",
      "Predicted pKd: 9.40303897857666 | True pKd: 8.555954933166504\n",
      "Predicted pKd: 9.079278945922852 | True pKd: 9.53017807006836\n",
      "Predicted pKd: 6.050107002258301 | True pKd: 4.346787452697754\n",
      "Predicted pKd: 10.4312162399292 | True pKd: 10.698969841003418\n",
      "Predicted pKd: 6.192411422729492 | True pKd: 4.3098039627075195\n",
      "Predicted pKd: 7.10196590423584 | True pKd: 5.0\n",
      "Predicted pKd: 7.421683311462402 | True pKd: 5.659555912017822\n",
      "Predicted pKd: 4.858980178833008 | True pKd: 4.489455223083496\n",
      "Predicted pKd: 5.014492034912109 | True pKd: 3.92081880569458\n",
      "Predicted pKd: 9.0707426071167 | True pKd: 8.815308570861816\n",
      "Predicted pKd: 6.621977806091309 | True pKd: 5.653646945953369\n",
      "Predicted pKd: 8.179035186767578 | True pKd: 9.09691047668457\n",
      "Predicted pKd: 7.553519248962402 | True pKd: 6.853871822357178\n",
      "Predicted pKd: 7.720926284790039 | True pKd: 8.060481071472168\n",
      "Predicted pKd: 6.087854385375977 | True pKd: 8.537602424621582\n",
      "Predicted pKd: 4.700024127960205 | True pKd: 5.240332126617432\n",
      "Predicted pKd: 4.875785827636719 | True pKd: 4.207608222961426\n",
      "Predicted pKd: 5.562067985534668 | True pKd: 6.477555751800537\n",
      "Predicted pKd: 7.461078643798828 | True pKd: 7.580044269561768\n",
      "Predicted pKd: 7.31130313873291 | True pKd: 6.638272285461426\n",
      "Predicted pKd: 9.618026733398438 | True pKd: 9.455931663513184\n",
      "Predicted pKd: 7.36771297454834 | True pKd: 7.638272285461426\n",
      "Predicted pKd: 8.49743938446045 | True pKd: 4.623423099517822\n",
      "Predicted pKd: 4.648285865783691 | True pKd: 5.15490198135376\n",
      "Predicted pKd: 8.065292358398438 | True pKd: 5.815308570861816\n",
      "Predicted pKd: 8.684021949768066 | True pKd: 8.886056900024414\n",
      "Predicted pKd: 12.838226318359375 | True pKd: 13.68824577331543\n",
      "Predicted pKd: 7.486956596374512 | True pKd: 9.193819999694824\n",
      "Predicted pKd: 7.965214729309082 | True pKd: 8.431797981262207\n",
      "Predicted pKd: 7.992966651916504 | True pKd: 7.892789840698242\n",
      "Predicted pKd: 7.788519859313965 | True pKd: 7.638272285461426\n",
      "Predicted pKd: 6.382972717285156 | True pKd: 4.537601947784424\n",
      "Predicted pKd: 7.073030471801758 | True pKd: 7.79587984085083\n",
      "Predicted pKd: 7.365217208862305 | True pKd: 7.866461277008057\n",
      "Predicted pKd: 13.447409629821777 | True pKd: 12.387216567993164\n",
      "Predicted pKd: 7.445703506469727 | True pKd: 5.823908805847168\n",
      "Predicted pKd: 7.59697151184082 | True pKd: 8.522878646850586\n",
      "Predicted pKd: 8.543821334838867 | True pKd: 8.337242126464844\n",
      "Predicted pKd: 7.500484466552734 | True pKd: 8.113509178161621\n",
      "Predicted pKd: 7.676639556884766 | True pKd: 6.548213481903076\n",
      "Predicted pKd: 7.069921493530273 | True pKd: 8.346787452697754\n",
      "Predicted pKd: 4.935472011566162 | True pKd: 4.2865095138549805\n",
      "Predicted pKd: 8.521713256835938 | True pKd: 8.236572265625\n",
      "Predicted pKd: 9.930033683776855 | True pKd: 9.90308952331543\n",
      "Predicted pKd: 6.36342716217041 | True pKd: 7.698969841003418\n",
      "Predicted pKd: 7.671260833740234 | True pKd: 8.070581436157227\n",
      "Predicted pKd: 7.43253231048584 | True pKd: 10.95860767364502\n",
      "Predicted pKd: 4.488471984863281 | True pKd: 5.351640224456787\n",
      "Predicted pKd: 4.064582824707031 | True pKd: 4.158015251159668\n",
      "Predicted pKd: 4.490180015563965 | True pKd: 6.070580959320068\n",
      "Predicted pKd: 9.070995330810547 | True pKd: 6.86012077331543\n",
      "Predicted pKd: 7.564455032348633 | True pKd: 7.721246242523193\n",
      "Predicted pKd: 5.452334403991699 | True pKd: 7.677780628204346\n",
      "Predicted pKd: 6.853464126586914 | True pKd: 7.022276401519775\n",
      "Predicted pKd: 8.655695915222168 | True pKd: 9.154901504516602\n",
      "Predicted pKd: 6.958676338195801 | True pKd: 6.474955081939697\n",
      "Predicted pKd: 5.414460182189941 | True pKd: 4.004364967346191\n",
      "Predicted pKd: 9.11467456817627 | True pKd: 7.696804046630859\n",
      "Predicted pKd: 9.940719604492188 | True pKd: 9.48678207397461\n",
      "Predicted pKd: 9.06197738647461 | True pKd: 8.74472713470459\n",
      "Predicted pKd: 5.159452438354492 | True pKd: 4.43770694732666\n",
      "Predicted pKd: 5.373578071594238 | True pKd: 3.698970079421997\n",
      "Predicted pKd: 5.713812828063965 | True pKd: 5.79587984085083\n",
      "Predicted pKd: 10.373726844787598 | True pKd: 12.230622291564941\n",
      "Predicted pKd: 4.995329856872559 | True pKd: 3.698970079421997\n",
      "Predicted pKd: 6.711348533630371 | True pKd: 9.30980396270752\n",
      "Predicted pKd: 9.587384223937988 | True pKd: 9.823908805847168\n",
      "Predicted pKd: 5.470616340637207 | True pKd: 4.86012077331543\n",
      "Predicted pKd: 8.21186351776123 | True pKd: 6.3098039627075195\n",
      "Predicted pKd: 10.208219528198242 | True pKd: 9.462181091308594\n",
      "Predicted pKd: 10.097808837890625 | True pKd: 9.251811981201172\n",
      "Predicted pKd: 6.471418380737305 | True pKd: 6.79587984085083\n",
      "Predicted pKd: 6.831687927246094 | True pKd: 8.397939682006836\n",
      "Predicted pKd: 5.156316757202148 | True pKd: 3.853872060775757\n",
      "Predicted pKd: 7.55496883392334 | True pKd: 7.95078182220459\n",
      "Predicted pKd: 4.775729179382324 | True pKd: 6.4202165603637695\n",
      "Predicted pKd: 10.079719543457031 | True pKd: 10.334419250488281\n",
      "Predicted pKd: 9.921856880187988 | True pKd: 8.508638381958008\n",
      "Predicted pKd: 5.820440292358398 | True pKd: 6.229147911071777\n",
      "Predicted pKd: 6.182646751403809 | True pKd: 8.107905387878418\n",
      "Predicted pKd: 8.664405822753906 | True pKd: 6.602059841156006\n",
      "Predicted pKd: 4.6412835121154785 | True pKd: 5.045757293701172\n",
      "Predicted pKd: 8.534141540527344 | True pKd: 8.301030158996582\n",
      "Predicted pKd: 7.910322189331055 | True pKd: 10.397939682006836\n",
      "Predicted pKd: 6.719557762145996 | True pKd: 5.17587423324585\n",
      "Predicted pKd: 9.957094192504883 | True pKd: 10.481486320495605\n",
      "Predicted pKd: 6.077004432678223 | True pKd: 4.6575775146484375\n",
      "Predicted pKd: 5.5077619552612305 | True pKd: 7.677780628204346\n",
      "Predicted pKd: 4.7189178466796875 | True pKd: 4.886056423187256\n",
      "Predicted pKd: 8.792791366577148 | True pKd: 9.011887550354004\n",
      "Predicted pKd: 6.214659690856934 | True pKd: 9.698969841003418\n",
      "Predicted pKd: 6.6932172775268555 | True pKd: 6.045757293701172\n",
      "Predicted pKd: 9.680919647216797 | True pKd: 11.146302223205566\n",
      "Predicted pKd: 5.295993804931641 | True pKd: 4.823908805847168\n",
      "Predicted pKd: 9.491053581237793 | True pKd: 10.455931663513184\n",
      "Predicted pKd: 9.721510887145996 | True pKd: 10.401209831237793\n",
      "Predicted pKd: 6.400376319885254 | True pKd: 7.44733190536499\n",
      "Predicted pKd: 5.716370582580566 | True pKd: 6.86966609954834\n",
      "Predicted pKd: 6.367609977722168 | True pKd: 5.6575775146484375\n",
      "Predicted pKd: 10.426894187927246 | True pKd: 9.301030158996582\n",
      "Predicted pKd: 7.270733833312988 | True pKd: 7.823908805847168\n",
      "Predicted pKd: 6.857651710510254 | True pKd: 4.6716203689575195\n",
      "Predicted pKd: 7.971278190612793 | True pKd: 9.698969841003418\n",
      "Predicted pKd: 5.636519432067871 | True pKd: 4.60554838180542\n",
      "Predicted pKd: 4.650537967681885 | True pKd: 4.7695512771606445\n",
      "Predicted pKd: 5.660795211791992 | True pKd: 4.749579906463623\n",
      "Predicted pKd: 5.46511173248291 | True pKd: 6.346787452697754\n",
      "Predicted pKd: 8.316424369812012 | True pKd: 7.15490198135376\n",
      "Predicted pKd: 9.798155784606934 | True pKd: 9.97881031036377\n",
      "Predicted pKd: 7.382026672363281 | True pKd: 3.5214335918426514\n",
      "Predicted pKd: 6.177542686462402 | True pKd: 5.86012077331543\n",
      "Predicted pKd: 6.966097831726074 | True pKd: 5.698969841003418\n",
      "Predicted pKd: 8.052353858947754 | True pKd: 7.15490198135376\n",
      "Predicted pKd: 5.670598983764648 | True pKd: 5.518557548522949\n",
      "Predicted pKd: 9.719907760620117 | True pKd: 9.59175968170166\n",
      "Predicted pKd: 7.096992492675781 | True pKd: 10.410050392150879\n",
      "Predicted pKd: 10.351948738098145 | True pKd: 10.826813697814941\n",
      "Predicted pKd: 7.267269134521484 | True pKd: 5.7695512771606445\n",
      "Predicted pKd: 6.606285095214844 | True pKd: 7.0\n",
      "Predicted pKd: 9.668728828430176 | True pKd: 7.602059841156006\n",
      "Predicted pKd: 8.567505836486816 | True pKd: 9.0\n",
      "Predicted pKd: 5.931690216064453 | True pKd: 1.6020599603652954\n",
      "Predicted pKd: 6.5792341232299805 | True pKd: 7.602059841156006\n",
      "Predicted pKd: 5.898818016052246 | True pKd: 5.638272285461426\n",
      "Predicted pKd: 8.793004989624023 | True pKd: 8.95860767364502\n",
      "Predicted pKd: 10.145048141479492 | True pKd: 10.690369606018066\n",
      "Predicted pKd: 9.952313423156738 | True pKd: 8.838631629943848\n",
      "Predicted pKd: 6.969829559326172 | True pKd: 8.102373123168945\n",
      "Predicted pKd: 4.498229026794434 | True pKd: 3.596879482269287\n",
      "Predicted pKd: 5.593657493591309 | True pKd: 5.455932140350342\n",
      "Predicted pKd: 10.183724403381348 | True pKd: 8.739928245544434\n",
      "Predicted pKd: 11.68161392211914 | True pKd: 10.86966609954834\n",
      "Predicted pKd: 10.469522476196289 | True pKd: 10.50445556640625\n",
      "Predicted pKd: 6.094160079956055 | True pKd: 3.301029920578003\n",
      "Predicted pKd: 5.544960021972656 | True pKd: 5.327902317047119\n",
      "Predicted pKd: 7.435460090637207 | True pKd: 7.823908805847168\n",
      "Predicted pKd: 5.415657997131348 | True pKd: 6.224025726318359\n",
      "Predicted pKd: 8.5221586227417 | True pKd: 8.060481071472168\n",
      "Predicted pKd: 4.969664096832275 | True pKd: 4.130768299102783\n",
      "Predicted pKd: 4.912929534912109 | True pKd: 5.455932140350342\n",
      "Predicted pKd: 8.284128189086914 | True pKd: 6.744727611541748\n",
      "Predicted pKd: 5.934852600097656 | True pKd: 7.444905757904053\n",
      "Predicted pKd: 7.384761810302734 | True pKd: 5.79587984085083\n",
      "Predicted pKd: 5.603305816650391 | True pKd: 8.204119682312012\n",
      "Predicted pKd: 14.758529663085938 | True pKd: 13.229147911071777\n",
      "Predicted pKd: 7.705251693725586 | True pKd: 8.58004379272461\n",
      "Predicted pKd: 7.395208358764648 | True pKd: 5.133121967315674\n",
      "Predicted pKd: 9.065963745117188 | True pKd: 9.468521118164062\n",
      "Predicted pKd: 5.0059332847595215 | True pKd: 6.007596969604492\n",
      "Predicted pKd: 9.700215339660645 | True pKd: 10.707743644714355\n",
      "Predicted pKd: 9.423501968383789 | True pKd: 10.387216567993164\n",
      "Predicted pKd: 6.187276840209961 | True pKd: 5.2790141105651855\n",
      "Predicted pKd: 7.111092567443848 | True pKd: 6.9871625900268555\n",
      "Predicted pKd: 7.622123718261719 | True pKd: 8.522878646850586\n",
      "Predicted pKd: 7.6120405197143555 | True pKd: 7.787812232971191\n",
      "Predicted pKd: 7.484949111938477 | True pKd: 8.069050788879395\n",
      "Predicted pKd: 4.536758899688721 | True pKd: 4.0\n",
      "Predicted pKd: 5.477858543395996 | True pKd: 5.723538398742676\n",
      "Predicted pKd: 7.621000289916992 | True pKd: 6.628931999206543\n",
      "Predicted pKd: 8.159459114074707 | True pKd: 8.193819999694824\n",
      "Predicted pKd: 9.707576751708984 | True pKd: 9.462181091308594\n",
      "Predicted pKd: 7.778953552246094 | True pKd: 7.414539337158203\n",
      "Predicted pKd: 4.19666862487793 | True pKd: 5.774690628051758\n",
      "Predicted pKd: 9.530887603759766 | True pKd: 9.522878646850586\n",
      "Predicted pKd: 8.516887664794922 | True pKd: 6.443697452545166\n",
      "Predicted pKd: 5.533989906311035 | True pKd: 5.663540363311768\n",
      "Predicted pKd: 5.614325523376465 | True pKd: 6.337242126464844\n",
      "Predicted pKd: 10.47036361694336 | True pKd: 10.51855754852295\n",
      "Predicted pKd: 8.274641036987305 | True pKd: 8.443697929382324\n",
      "Predicted pKd: 7.705355644226074 | True pKd: 6.917214393615723\n",
      "Predicted pKd: 8.251974105834961 | True pKd: 6.096909999847412\n",
      "Predicted pKd: 7.218669891357422 | True pKd: 7.084072589874268\n",
      "Predicted pKd: 5.072911262512207 | True pKd: 5.026872158050537\n",
      "Predicted pKd: 9.406425476074219 | True pKd: 9.173925399780273\n",
      "Predicted pKd: 7.650973320007324 | True pKd: 8.431797981262207\n",
      "Predicted pKd: 9.406074523925781 | True pKd: 9.318758964538574\n",
      "Predicted pKd: 10.15529727935791 | True pKd: 10.769551277160645\n",
      "Predicted pKd: 10.360177040100098 | True pKd: 10.747146606445312\n",
      "Predicted pKd: 7.492164611816406 | True pKd: 6.978810787200928\n",
      "Predicted pKd: 11.711214065551758 | True pKd: 10.274087905883789\n",
      "Predicted pKd: 6.174666404724121 | True pKd: 4.669586181640625\n",
      "Predicted pKd: 4.358569145202637 | True pKd: 3.886056661605835\n",
      "Predicted pKd: 4.3617401123046875 | True pKd: 2.4814860820770264\n",
      "Predicted pKd: 10.219359397888184 | True pKd: 9.935542106628418\n",
      "Predicted pKd: 7.444509506225586 | True pKd: 5.387216091156006\n",
      "Predicted pKd: 9.716215133666992 | True pKd: 9.079355239868164\n",
      "Predicted pKd: 8.598937034606934 | True pKd: 9.086186408996582\n",
      "Predicted pKd: 4.676962852478027 | True pKd: 4.12493896484375\n",
      "Predicted pKd: 4.683084487915039 | True pKd: 5.221848964691162\n",
      "Predicted pKd: 8.266313552856445 | True pKd: 8.346787452697754\n",
      "Predicted pKd: 10.12961196899414 | True pKd: 10.455931663513184\n",
      "Predicted pKd: 6.998562812805176 | True pKd: 6.107905387878418\n",
      "Predicted pKd: 9.402078628540039 | True pKd: 9.09691047668457\n",
      "Predicted pKd: 5.159623622894287 | True pKd: 4.443697452545166\n",
      "Predicted pKd: 6.586134910583496 | True pKd: 7.346787452697754\n",
      "Predicted pKd: 10.820368766784668 | True pKd: 8.632643699645996\n",
      "Predicted pKd: 10.40134334564209 | True pKd: 11.279014587402344\n",
      "Predicted pKd: 5.469266891479492 | True pKd: 5.512861728668213\n",
      "Predicted pKd: 8.505471229553223 | True pKd: 7.490797519683838\n",
      "Predicted pKd: 7.393129348754883 | True pKd: 7.823908805847168\n",
      "Predicted pKd: 8.826363563537598 | True pKd: 9.943095207214355\n",
      "Predicted pKd: 11.16594123840332 | True pKd: 10.795880317687988\n",
      "Predicted pKd: 4.866726398468018 | True pKd: 4.207608222961426\n",
      "Predicted pKd: 5.232192039489746 | True pKd: 4.214670181274414\n",
      "Predicted pKd: 7.674154281616211 | True pKd: 6.37161111831665\n",
      "Predicted pKd: 4.9028239250183105 | True pKd: 5.259637355804443\n",
      "Predicted pKd: 7.942310333251953 | True pKd: 8.823908805847168\n",
      "Predicted pKd: 7.973166465759277 | True pKd: 9.146302223205566\n",
      "Predicted pKd: 9.911870956420898 | True pKd: 8.555954933166504\n",
      "Predicted pKd: 4.838372230529785 | True pKd: 5.958607196807861\n",
      "Predicted pKd: 7.32281494140625 | True pKd: 8.379863739013672\n",
      "Predicted pKd: 5.653342247009277 | True pKd: 7.744727611541748\n",
      "Predicted pKd: 9.784501075744629 | True pKd: 9.254924774169922\n",
      "Predicted pKd: 9.11815357208252 | True pKd: 7.067526340484619\n",
      "Predicted pKd: 8.708976745605469 | True pKd: 9.853872299194336\n",
      "Predicted pKd: 5.607773780822754 | True pKd: 8.742321014404297\n",
      "Predicted pKd: 4.631618976593018 | True pKd: 4.764471530914307\n",
      "Predicted pKd: 5.335783004760742 | True pKd: 9.337242126464844\n",
      "Predicted pKd: 9.976346969604492 | True pKd: 9.214670181274414\n",
      "Predicted pKd: 4.8575873374938965 | True pKd: 6.221848964691162\n",
      "Predicted pKd: 4.4922590255737305 | True pKd: 5.431798458099365\n",
      "Predicted pKd: 7.412379264831543 | True pKd: 7.533132553100586\n",
      "Predicted pKd: 9.398179054260254 | True pKd: 9.060481071472168\n",
      "Predicted pKd: 8.042749404907227 | True pKd: 6.853871822357178\n",
      "Predicted pKd: 5.635984420776367 | True pKd: 4.696804046630859\n",
      "Predicted pKd: 7.228951454162598 | True pKd: 6.395773887634277\n",
      "Predicted pKd: 4.527156829833984 | True pKd: 4.978810787200928\n",
      "Predicted pKd: 6.044534683227539 | True pKd: 5.524328708648682\n",
      "Predicted pKd: 5.978499412536621 | True pKd: 5.591760158538818\n",
      "Predicted pKd: 6.15590763092041 | True pKd: 9.0\n",
      "Predicted pKd: 7.370850563049316 | True pKd: 10.301030158996582\n",
      "Predicted pKd: 7.3913373947143555 | True pKd: 7.161150932312012\n",
      "Predicted pKd: 8.524791717529297 | True pKd: 11.0\n",
      "Predicted pKd: 12.152946472167969 | True pKd: 7.8326826095581055\n",
      "Predicted pKd: 4.645589828491211 | True pKd: 4.408935546875\n",
      "Predicted pKd: 7.561697006225586 | True pKd: 9.251811981201172\n",
      "Predicted pKd: 5.815422058105469 | True pKd: 5.7931742668151855\n",
      "Predicted pKd: 6.276966094970703 | True pKd: 6.568636417388916\n",
      "Predicted pKd: 4.74044132232666 | True pKd: 4.958607196807861\n",
      "Predicted pKd: 6.503763198852539 | True pKd: 9.191788673400879\n",
      "Predicted pKd: 9.81222915649414 | True pKd: 11.397939682006836\n",
      "Predicted pKd: 5.183019638061523 | True pKd: 2.2941362857818604\n",
      "Predicted pKd: 9.312514305114746 | True pKd: 9.68824577331543\n",
      "Predicted pKd: 8.638872146606445 | True pKd: 8.939302444458008\n",
      "Predicted pKd: 5.514337539672852 | True pKd: 4.764471530914307\n",
      "Predicted pKd: 6.172632217407227 | True pKd: 5.109020233154297\n",
      "Predicted pKd: 8.804184913635254 | True pKd: 8.259636878967285\n",
      "Predicted pKd: 10.422155380249023 | True pKd: 10.886056900024414\n",
      "Predicted pKd: 7.298480987548828 | True pKd: 6.3565473556518555\n",
      "Predicted pKd: 6.205815315246582 | True pKd: 5.161150932312012\n",
      "Predicted pKd: 5.9037322998046875 | True pKd: 5.036211967468262\n",
      "Predicted pKd: 7.414549827575684 | True pKd: 6.815308570861816\n",
      "Predicted pKd: 4.920615196228027 | True pKd: 4.892789840698242\n",
      "Predicted pKd: 7.251739501953125 | True pKd: 4.551293849945068\n",
      "Predicted pKd: 8.670731544494629 | True pKd: 8.886056900024414\n",
      "Predicted pKd: 5.202983856201172 | True pKd: 6.707744121551514\n",
      "Predicted pKd: 5.160389423370361 | True pKd: 6.375718116760254\n",
      "Predicted pKd: 4.978513717651367 | True pKd: 5.031517028808594\n",
      "Predicted pKd: 9.859322547912598 | True pKd: 10.543634414672852\n",
      "Predicted pKd: 8.890846252441406 | True pKd: 10.74472713470459\n",
      "Predicted pKd: 4.531627655029297 | True pKd: 4.0\n",
      "Predicted pKd: 10.287659645080566 | True pKd: 9.995678901672363\n",
      "Predicted pKd: 7.532761573791504 | True pKd: 2.886056661605835\n",
      "Predicted pKd: 7.671643257141113 | True pKd: 8.184422492980957\n",
      "Predicted pKd: 5.14820671081543 | True pKd: 5.301030158996582\n",
      "Predicted pKd: 5.066926002502441 | True pKd: 4.376750946044922\n",
      "Predicted pKd: 6.575434684753418 | True pKd: 8.920818328857422\n",
      "Predicted pKd: 12.049312591552734 | True pKd: 10.199970245361328\n",
      "Predicted pKd: 8.158309936523438 | True pKd: 7.886056423187256\n",
      "Predicted pKd: 5.899168014526367 | True pKd: 7.221848964691162\n",
      "Predicted pKd: 9.022765159606934 | True pKd: 10.54515552520752\n",
      "Predicted pKd: 5.856467247009277 | True pKd: 7.721246242523193\n",
      "Predicted pKd: 12.746639251708984 | True pKd: 13.469799995422363\n",
      "Predicted pKd: 10.350347518920898 | True pKd: 11.522878646850586\n",
      "Predicted pKd: 10.584555625915527 | True pKd: 9.136676788330078\n",
      "Predicted pKd: 6.628072738647461 | True pKd: 6.7695512771606445\n",
      "Predicted pKd: 5.759095191955566 | True pKd: 6.522878646850586\n",
      "Predicted pKd: 8.149596214294434 | True pKd: 6.946921348571777\n",
      "Predicted pKd: 5.371883392333984 | True pKd: 5.220403671264648\n",
      "Predicted pKd: 9.310369491577148 | True pKd: 9.67162036895752\n",
      "Predicted pKd: 7.9760847091674805 | True pKd: 11.011441230773926\n",
      "Predicted pKd: 9.709988594055176 | True pKd: 9.305395126342773\n",
      "Predicted pKd: 8.494688987731934 | True pKd: 8.552842140197754\n",
      "Predicted pKd: 6.874734878540039 | True pKd: 6.221848964691162\n",
      "Predicted pKd: 5.465682029724121 | True pKd: 6.325139045715332\n",
      "Predicted pKd: 8.732699394226074 | True pKd: 10.0\n",
      "Predicted pKd: 8.173148155212402 | True pKd: 8.111259460449219\n",
      "Predicted pKd: 6.207292556762695 | True pKd: 6.546681880950928\n",
      "Predicted pKd: 7.529336929321289 | True pKd: 5.337242126464844\n",
      "Predicted pKd: 6.371705055236816 | True pKd: 5.443697452545166\n",
      "Predicted pKd: 9.371297836303711 | True pKd: 11.254924774169922\n",
      "Predicted pKd: 6.4253082275390625 | True pKd: 6.50445556640625\n",
      "Predicted pKd: 6.179072380065918 | True pKd: 6.31247091293335\n",
      "Predicted pKd: 6.062440872192383 | True pKd: 6.4685211181640625\n",
      "Predicted pKd: 10.42319107055664 | True pKd: 9.555954933166504\n",
      "Predicted pKd: 9.048308372497559 | True pKd: 9.494850158691406\n",
      "Predicted pKd: 5.812405586242676 | True pKd: 7.591760158538818\n",
      "Predicted pKd: 12.023903846740723 | True pKd: 11.364516258239746\n",
      "Predicted pKd: 9.525152206420898 | True pKd: 10.86966609954834\n",
      "Predicted pKd: 7.440866470336914 | True pKd: 10.721246719360352\n",
      "Predicted pKd: 10.199687004089355 | True pKd: 10.414539337158203\n",
      "Predicted pKd: 5.07078742980957 | True pKd: 4.6575775146484375\n",
      "Predicted pKd: 5.43239688873291 | True pKd: 6.823908805847168\n",
      "Predicted pKd: 8.869074821472168 | True pKd: 7.4685211181640625\n",
      "Predicted pKd: 10.229947090148926 | True pKd: 9.568635940551758\n",
      "Predicted pKd: 8.110968589782715 | True pKd: 3.4559319019317627\n",
      "Predicted pKd: 4.657876968383789 | True pKd: 5.15490198135376\n",
      "Predicted pKd: 4.539327621459961 | True pKd: 4.917214393615723\n",
      "Predicted pKd: 9.406453132629395 | True pKd: 8.11861515045166\n",
      "Predicted pKd: 9.21252155303955 | True pKd: 9.568635940551758\n",
      "Predicted pKd: 8.694397926330566 | True pKd: 8.853872299194336\n",
      "Predicted pKd: 6.790765762329102 | True pKd: 5.568636417388916\n",
      "Predicted pKd: 6.812318801879883 | True pKd: 8.638272285461426\n",
      "Predicted pKd: 9.375604629516602 | True pKd: 9.602060317993164\n",
      "Predicted pKd: 5.280003547668457 | True pKd: 5.494850158691406\n",
      "Predicted pKd: 9.076160430908203 | True pKd: 8.107905387878418\n",
      "Predicted pKd: 7.071349143981934 | True pKd: 7.301030158996582\n",
      "Predicted pKd: 4.703446388244629 | True pKd: 3.924453020095825\n",
      "Predicted pKd: 10.400602340698242 | True pKd: 10.777283668518066\n",
      "Predicted pKd: 4.218419075012207 | True pKd: 3.698970079421997\n",
      "Predicted pKd: 10.60388469696045 | True pKd: 7.379863739013672\n",
      "Predicted pKd: 6.865779876708984 | True pKd: 4.798603057861328\n",
      "Predicted pKd: 6.826080322265625 | True pKd: 5.838632106781006\n",
      "Predicted pKd: 5.850583076477051 | True pKd: 6.381951808929443\n",
      "Predicted pKd: 6.561629295349121 | True pKd: 6.698969841003418\n",
      "Predicted pKd: 6.2365827560424805 | True pKd: 5.301030158996582\n",
      "Predicted pKd: 7.473503112792969 | True pKd: 7.749579906463623\n",
      "Predicted pKd: 9.502614974975586 | True pKd: 5.935542106628418\n",
      "Predicted pKd: 6.898491859436035 | True pKd: 8.086186408996582\n",
      "Predicted pKd: 7.456117630004883 | True pKd: 6.92081880569458\n",
      "Predicted pKd: 7.650420188903809 | True pKd: 7.698969841003418\n",
      "Predicted pKd: 7.777074813842773 | True pKd: 8.136676788330078\n",
      "Predicted pKd: 4.809999465942383 | True pKd: 5.301030158996582\n",
      "Predicted pKd: 7.8154296875 | True pKd: 8.728157997131348\n",
      "Predicted pKd: 6.69631290435791 | True pKd: 8.55129337310791\n",
      "Predicted pKd: 7.274070739746094 | True pKd: 7.242603778839111\n",
      "Predicted pKd: 5.111719608306885 | True pKd: 6.233587265014648\n",
      "Predicted pKd: 13.937872886657715 | True pKd: 15.318758964538574\n",
      "Predicted pKd: 4.736205101013184 | True pKd: 3.586700201034546\n",
      "Predicted pKd: 6.886399269104004 | True pKd: 8.42021656036377\n",
      "Predicted pKd: 9.065695762634277 | True pKd: 8.790485382080078\n",
      "Predicted pKd: 4.719847679138184 | True pKd: 3.698970079421997\n",
      "Predicted pKd: 4.708413124084473 | True pKd: 4.508638381958008\n",
      "Predicted pKd: 12.77908992767334 | True pKd: 10.50445556640625\n",
      "Predicted pKd: 6.8272905349731445 | True pKd: 7.026872158050537\n",
      "Predicted pKd: 6.620718955993652 | True pKd: 6.698969841003418\n",
      "Predicted pKd: 7.441797256469727 | True pKd: 9.117475509643555\n",
      "Predicted pKd: 8.592514038085938 | True pKd: 9.790485382080078\n",
      "Predicted pKd: 8.20386791229248 | True pKd: 4.443697452545166\n",
      "Predicted pKd: 6.961536407470703 | True pKd: 7.585026741027832\n",
      "Predicted pKd: 6.948216438293457 | True pKd: 7.7695512771606445\n",
      "Predicted pKd: 6.988399505615234 | True pKd: 5.906578540802002\n",
      "Predicted pKd: 7.3901262283325195 | True pKd: 7.3565473556518555\n",
      "Predicted pKd: 9.748870849609375 | True pKd: 10.447331428527832\n",
      "Predicted pKd: 7.481989860534668 | True pKd: 7.823908805847168\n",
      "Predicted pKd: 9.452836990356445 | True pKd: 9.107905387878418\n",
      "Predicted pKd: 5.514077186584473 | True pKd: 4.970616340637207\n",
      "Predicted pKd: 11.245749473571777 | True pKd: 10.657577514648438\n",
      "Predicted pKd: 4.520316123962402 | True pKd: 4.903090000152588\n",
      "Predicted pKd: 5.416324615478516 | True pKd: 5.301030158996582\n",
      "Predicted pKd: 7.665159225463867 | True pKd: 9.06550121307373\n",
      "Predicted pKd: 10.654370307922363 | True pKd: 11.431797981262207\n",
      "Predicted pKd: 7.447671890258789 | True pKd: 9.95860767364502\n",
      "Predicted pKd: 7.105053901672363 | True pKd: 6.397940158843994\n",
      "Predicted pKd: 7.290518760681152 | True pKd: 5.978810787200928\n",
      "Predicted pKd: 6.731789588928223 | True pKd: 6.60554838180542\n",
      "Predicted pKd: 5.422713279724121 | True pKd: 5.0\n",
      "Predicted pKd: 4.178397178649902 | True pKd: 4.679853916168213\n",
      "Predicted pKd: 5.297693252563477 | True pKd: 7.397940158843994\n",
      "Predicted pKd: 6.6524457931518555 | True pKd: 8.698969841003418\n",
      "Predicted pKd: 7.415160179138184 | True pKd: 6.25492525100708\n",
      "Predicted pKd: 6.591221809387207 | True pKd: 6.935542106628418\n",
      "Predicted pKd: 6.720481872558594 | True pKd: 6.494850158691406\n",
      "Predicted pKd: 7.2885284423828125 | True pKd: 7.0\n",
      "Predicted pKd: 7.991766929626465 | True pKd: 7.6716203689575195\n",
      "Predicted pKd: 8.669466018676758 | True pKd: 7.84163761138916\n",
      "Predicted pKd: 7.922250747680664 | True pKd: 8.790485382080078\n",
      "Predicted pKd: 6.336123466491699 | True pKd: 5.443697452545166\n",
      "Predicted pKd: 4.377443313598633 | True pKd: 4.823908805847168\n",
      "Predicted pKd: 7.631026268005371 | True pKd: 8.899629592895508\n",
      "Predicted pKd: 6.3023529052734375 | True pKd: 6.823908805847168\n",
      "Predicted pKd: 6.7644853591918945 | True pKd: 5.619788646697998\n",
      "Predicted pKd: 5.603806495666504 | True pKd: 6.823908805847168\n",
      "Predicted pKd: 6.766550064086914 | True pKd: 6.301030158996582\n",
      "Predicted pKd: 9.083322525024414 | True pKd: 9.16749095916748\n",
      "Predicted pKd: 7.736350059509277 | True pKd: 7.397940158843994\n",
      "Predicted pKd: 7.483687400817871 | True pKd: 8.838631629943848\n",
      "Predicted pKd: 8.019623756408691 | True pKd: 8.017728805541992\n",
      "Predicted pKd: 5.3754777908325195 | True pKd: 7.221848964691162\n",
      "Predicted pKd: 6.106986999511719 | True pKd: 5.560667514801025\n",
      "Predicted pKd: 4.30877685546875 | True pKd: 2.0\n",
      "Predicted pKd: 6.819460868835449 | True pKd: 7.067018985748291\n",
      "Predicted pKd: 8.33725357055664 | True pKd: 6.79587984085083\n",
      "Predicted pKd: 10.405680656433105 | True pKd: 10.397939682006836\n",
      "Predicted pKd: 5.936685562133789 | True pKd: 5.92081880569458\n",
      "Predicted pKd: 9.403443336486816 | True pKd: 8.844663619995117\n",
      "Predicted pKd: 7.248970985412598 | True pKd: 5.251811981201172\n",
      "Predicted pKd: 5.308437347412109 | True pKd: 4.497572898864746\n",
      "Predicted pKd: 10.116105079650879 | True pKd: 8.58004379272461\n",
      "Predicted pKd: 9.77834415435791 | True pKd: 11.568635940551758\n",
      "Predicted pKd: 8.578436851501465 | True pKd: 5.15490198135376\n",
      "Predicted pKd: 8.577714920043945 | True pKd: 11.351639747619629\n",
      "Predicted pKd: 7.413412094116211 | True pKd: 6.05207633972168\n",
      "Predicted pKd: 7.627412796020508 | True pKd: 7.787812232971191\n",
      "Predicted pKd: 5.978809356689453 | True pKd: 5.522878646850586\n",
      "Predicted pKd: 7.434983253479004 | True pKd: 7.193819999694824\n",
      "Predicted pKd: 4.534477710723877 | True pKd: 4.958607196807861\n",
      "Predicted pKd: 7.8689775466918945 | True pKd: 8.250263214111328\n",
      "Predicted pKd: 10.360177040100098 | True pKd: 10.747146606445312\n",
      "Predicted pKd: 6.319191932678223 | True pKd: 8.0\n",
      "Predicted pKd: 10.192431449890137 | True pKd: 8.769551277160645\n",
      "Predicted pKd: 7.242586135864258 | True pKd: 5.903090000152588\n",
      "Predicted pKd: 9.744304656982422 | True pKd: 8.95078182220459\n",
      "Predicted pKd: 8.527436256408691 | True pKd: 8.408935546875\n",
      "Predicted pKd: 5.453570365905762 | True pKd: 4.1444807052612305\n",
      "Predicted pKd: 6.885560035705566 | True pKd: 7.92081880569458\n",
      "Predicted pKd: 9.136788368225098 | True pKd: 8.468521118164062\n",
      "Predicted pKd: 8.161555290222168 | True pKd: 8.107349395751953\n",
      "Predicted pKd: 5.624407768249512 | True pKd: 6.376750946044922\n",
      "Predicted pKd: 4.635261535644531 | True pKd: 5.552842140197754\n",
      "Predicted pKd: 6.460705757141113 | True pKd: 4.705533981323242\n",
      "Predicted pKd: 5.20456600189209 | True pKd: 5.7695512771606445\n",
      "Predicted pKd: 4.85734224319458 | True pKd: 4.397940158843994\n",
      "Predicted pKd: 8.319100379943848 | True pKd: 8.677781105041504\n",
      "Predicted pKd: 4.462956428527832 | True pKd: 3.698970079421997\n",
      "Predicted pKd: 5.385274887084961 | True pKd: 6.815308570861816\n",
      "Predicted pKd: 7.258417129516602 | True pKd: 8.221848487854004\n",
      "Predicted pKd: 7.411126136779785 | True pKd: 7.305394649505615\n",
      "Predicted pKd: 8.303243637084961 | True pKd: 7.28399658203125\n",
      "Predicted pKd: 5.490606307983398 | True pKd: 3.7798919677734375\n",
      "Predicted pKd: 8.272278785705566 | True pKd: 9.818156242370605\n",
      "Predicted pKd: 6.80964469909668 | True pKd: 7.406713962554932\n",
      "Predicted pKd: 8.663917541503906 | True pKd: 10.070581436157227\n",
      "Predicted pKd: 5.691046714782715 | True pKd: 4.643974304199219\n",
      "Predicted pKd: 9.070448875427246 | True pKd: 8.614394187927246\n",
      "Predicted pKd: 6.654986381530762 | True pKd: 5.431798458099365\n",
      "Predicted pKd: 5.476136207580566 | True pKd: 4.7695512771606445\n",
      "Predicted pKd: 4.983283042907715 | True pKd: 5.761953830718994\n",
      "Predicted pKd: 5.808961868286133 | True pKd: 7.481485843658447\n",
      "Predicted pKd: 7.431216239929199 | True pKd: 8.041436195373535\n",
      "Predicted pKd: 6.386069297790527 | True pKd: 6.493494987487793\n",
      "Predicted pKd: 6.756842613220215 | True pKd: 8.397939682006836\n",
      "Predicted pKd: 8.755009651184082 | True pKd: 12.0\n",
      "Predicted pKd: 4.370299816131592 | True pKd: 4.570247650146484\n",
      "Predicted pKd: 8.159228324890137 | True pKd: 11.12493896484375\n",
      "Predicted pKd: 10.188521385192871 | True pKd: 10.204119682312012\n",
      "Predicted pKd: 6.4227142333984375 | True pKd: 2.846489906311035\n",
      "Predicted pKd: 6.508526802062988 | True pKd: 9.677781105041504\n",
      "Predicted pKd: 7.702037811279297 | True pKd: 7.661543369293213\n",
      "Predicted pKd: 6.749744415283203 | True pKd: 8.95078182220459\n",
      "Predicted pKd: 5.950577735900879 | True pKd: 2.795880079269409\n",
      "Predicted pKd: 5.2644147872924805 | True pKd: 3.698970079421997\n",
      "Predicted pKd: 4.958948612213135 | True pKd: 4.962573528289795\n",
      "Predicted pKd: 6.726120948791504 | True pKd: 6.978810787200928\n",
      "Predicted pKd: 9.404799461364746 | True pKd: 8.812479019165039\n",
      "Predicted pKd: 6.218340873718262 | True pKd: 6.079354763031006\n",
      "Predicted pKd: 8.56713581085205 | True pKd: 10.397939682006836\n",
      "Predicted pKd: 8.5216646194458 | True pKd: 7.022276401519775\n",
      "Predicted pKd: 10.487476348876953 | True pKd: 10.677781105041504\n",
      "Predicted pKd: 13.86803913116455 | True pKd: 15.236572265625\n",
      "Predicted pKd: 6.869790077209473 | True pKd: 5.92081880569458\n",
      "Predicted pKd: 8.582813262939453 | True pKd: 10.522878646850586\n",
      "Predicted pKd: 7.321639060974121 | True pKd: 7.602059841156006\n",
      "Predicted pKd: 7.626316070556641 | True pKd: 8.522878646850586\n",
      "Predicted pKd: 5.916804313659668 | True pKd: 5.79587984085083\n",
      "Predicted pKd: 8.066000938415527 | True pKd: 8.301030158996582\n",
      "Predicted pKd: 7.705926895141602 | True pKd: 8.070581436157227\n",
      "Predicted pKd: 8.28841781616211 | True pKd: 8.408935546875\n",
      "Predicted pKd: 7.184706687927246 | True pKd: 6.247183799743652\n",
      "Predicted pKd: 6.298078536987305 | True pKd: 10.356547355651855\n",
      "Predicted pKd: 7.279911994934082 | True pKd: 6.269217491149902\n",
      "Predicted pKd: 5.269280433654785 | True pKd: 3.508638381958008\n",
      "Predicted pKd: 10.080709457397461 | True pKd: 11.026871681213379\n",
      "Predicted pKd: 8.500646591186523 | True pKd: 5.555955410003662\n",
      "Predicted pKd: 9.174883842468262 | True pKd: 9.221848487854004\n",
      "Predicted pKd: 5.5461883544921875 | True pKd: 5.3098039627075195\n",
      "Predicted pKd: 7.624446868896484 | True pKd: 8.585026741027832\n",
      "Predicted pKd: 7.431246757507324 | True pKd: 7.568636417388916\n",
      "Predicted pKd: 8.57201862335205 | True pKd: 9.414539337158203\n",
      "Predicted pKd: 6.232317924499512 | True pKd: 4.677780628204346\n",
      "Predicted pKd: 8.23885726928711 | True pKd: 9.698969841003418\n",
      "Predicted pKd: 7.514743804931641 | True pKd: 7.602059841156006\n",
      "Predicted pKd: 9.183917999267578 | True pKd: 10.939302444458008\n",
      "Predicted pKd: 9.971353530883789 | True pKd: 7.92081880569458\n",
      "Predicted pKd: 5.374184608459473 | True pKd: 10.698969841003418\n",
      "Predicted pKd: 7.14559268951416 | True pKd: 7.958607196807861\n",
      "Predicted pKd: 7.446158409118652 | True pKd: 8.619789123535156\n",
      "Predicted pKd: 5.127884864807129 | True pKd: 5.677780628204346\n",
      "Predicted pKd: 7.633500099182129 | True pKd: 8.777283668518066\n",
      "Predicted pKd: 7.717633247375488 | True pKd: 6.004364967346191\n",
      "Predicted pKd: 5.468000411987305 | True pKd: 4.78515625\n",
      "Predicted pKd: 6.116036415100098 | True pKd: 5.826813697814941\n",
      "Predicted pKd: 7.195448875427246 | True pKd: 5.910094738006592\n",
      "Predicted pKd: 9.274415969848633 | True pKd: 8.90308952331543\n",
      "Predicted pKd: 5.887102127075195 | True pKd: 4.903090000152588\n",
      "Predicted pKd: 5.430360794067383 | True pKd: 7.136677265167236\n",
      "Predicted pKd: 7.70564079284668 | True pKd: 8.146302223205566\n",
      "Predicted pKd: 6.798325538635254 | True pKd: 6.3665313720703125\n",
      "Predicted pKd: 9.179688453674316 | True pKd: 9.91009521484375\n",
      "Predicted pKd: 9.062299728393555 | True pKd: 9.585026741027832\n",
      "Predicted pKd: 8.070722579956055 | True pKd: 9.026871681213379\n",
      "Predicted pKd: 5.588315010070801 | True pKd: 6.32239294052124\n",
      "Predicted pKd: 4.924587726593018 | True pKd: 4.247951507568359\n",
      "Predicted pKd: 7.464354515075684 | True pKd: 6.744727611541748\n",
      "Predicted pKd: 6.084280014038086 | True pKd: 6.200659275054932\n",
      "Predicted pKd: 9.073610305786133 | True pKd: 9.468521118164062\n",
      "Predicted pKd: 10.701644897460938 | True pKd: 10.832682609558105\n",
      "Predicted pKd: 7.856441497802734 | True pKd: 8.322393417358398\n",
      "Predicted pKd: 7.444866180419922 | True pKd: 8.444905281066895\n",
      "Predicted pKd: 5.859105110168457 | True pKd: 5.431798458099365\n",
      "Predicted pKd: 9.539856910705566 | True pKd: 9.886056900024414\n",
      "Predicted pKd: 9.414671897888184 | True pKd: 10.204119682312012\n",
      "Predicted pKd: 8.99827766418457 | True pKd: 9.142667770385742\n",
      "Predicted pKd: 5.907021522521973 | True pKd: 5.353596210479736\n",
      "Predicted pKd: 8.000309944152832 | True pKd: 9.017728805541992\n",
      "Predicted pKd: 9.177783966064453 | True pKd: 9.267605781555176\n",
      "Predicted pKd: 5.447231292724609 | True pKd: 3.982966661453247\n",
      "Predicted pKd: 10.158097267150879 | True pKd: 9.790485382080078\n",
      "Predicted pKd: 9.48965835571289 | True pKd: 9.091514587402344\n",
      "Predicted pKd: 9.408890724182129 | True pKd: 9.20065975189209\n",
      "Predicted pKd: 4.5456085205078125 | True pKd: 3.602060079574585\n",
      "Predicted pKd: 9.303085327148438 | True pKd: 10.0\n",
      "Predicted pKd: 5.0181074142456055 | True pKd: 5.7931742668151855\n",
      "Predicted pKd: 5.715940475463867 | True pKd: 6.3565473556518555\n",
      "Predicted pKd: 4.631178855895996 | True pKd: 3.522878646850586\n",
      "Predicted pKd: 6.3255510330200195 | True pKd: 7.346787452697754\n",
      "Predicted pKd: 4.503499984741211 | True pKd: 4.712198257446289\n",
      "Predicted pKd: 10.421401977539062 | True pKd: 11.681936264038086\n",
      "Predicted pKd: 5.056535720825195 | True pKd: 5.744727611541748\n",
      "Predicted pKd: 9.194496154785156 | True pKd: 7.954677104949951\n",
      "Predicted pKd: 8.086012840270996 | True pKd: 8.251811981201172\n",
      "Predicted pKd: 7.669983863830566 | True pKd: 7.392544746398926\n",
      "Predicted pKd: 7.2153425216674805 | True pKd: 6.543633937835693\n",
      "Predicted pKd: 6.084827423095703 | True pKd: 8.045757293701172\n",
      "Predicted pKd: 5.23529052734375 | True pKd: 5.275723934173584\n",
      "Predicted pKd: 7.244108200073242 | True pKd: 6.576754093170166\n",
      "Predicted pKd: 6.022006034851074 | True pKd: 5.823908805847168\n",
      "Predicted pKd: 7.763059616088867 | True pKd: 8.823908805847168\n",
      "Predicted pKd: 7.129338264465332 | True pKd: 6.623423099517822\n",
      "Predicted pKd: 7.997358322143555 | True pKd: 9.0\n",
      "Predicted pKd: 10.37413501739502 | True pKd: 10.747146606445312\n",
      "Predicted pKd: 10.228336334228516 | True pKd: 8.229147911071777\n",
      "Predicted pKd: 9.387324333190918 | True pKd: 8.376750946044922\n",
      "Predicted pKd: 7.673807144165039 | True pKd: 7.111820697784424\n",
      "Predicted pKd: 10.026320457458496 | True pKd: 12.379863739013672\n",
      "Predicted pKd: 7.551199913024902 | True pKd: 8.229147911071777\n",
      "Predicted pKd: 5.948659896850586 | True pKd: 5.425968647003174\n",
      "Predicted pKd: 6.453970909118652 | True pKd: 5.221848964691162\n",
      "Predicted pKd: 9.481294631958008 | True pKd: 8.568635940551758\n",
      "Predicted pKd: 6.389646530151367 | True pKd: 8.0\n",
      "Predicted pKd: 9.800237655639648 | True pKd: 8.71669864654541\n",
      "Predicted pKd: 8.613091468811035 | True pKd: 9.677781105041504\n",
      "Predicted pKd: 7.385688781738281 | True pKd: 8.53461742401123\n",
      "Predicted pKd: 7.554186820983887 | True pKd: 7.221848964691162\n",
      "Predicted pKd: 9.106532096862793 | True pKd: 8.823908805847168\n",
      "Predicted pKd: 6.097660064697266 | True pKd: 5.4685211181640625\n",
      "Predicted pKd: 5.9067583084106445 | True pKd: 5.06048059463501\n",
      "Predicted pKd: 7.911612510681152 | True pKd: 7.787812232971191\n",
      "Predicted pKd: 7.703067779541016 | True pKd: 6.6716203689575195\n",
      "Predicted pKd: 7.503162384033203 | True pKd: 7.455932140350342\n",
      "Predicted pKd: 5.951364517211914 | True pKd: 5.379863739013672\n",
      "Predicted pKd: 6.740693092346191 | True pKd: 7.2441253662109375\n",
      "Predicted pKd: 9.093698501586914 | True pKd: 7.568636417388916\n",
      "Predicted pKd: 11.69005012512207 | True pKd: 11.345823287963867\n",
      "Predicted pKd: 5.620984077453613 | True pKd: 5.431798458099365\n",
      "Predicted pKd: 6.630338668823242 | True pKd: 8.698969841003418\n",
      "Predicted pKd: 11.449508666992188 | True pKd: 11.602060317993164\n",
      "Predicted pKd: 5.469230651855469 | True pKd: 6.302770614624023\n",
      "Predicted pKd: 5.18388557434082 | True pKd: 5.630784034729004\n",
      "Predicted pKd: 6.377403259277344 | True pKd: 4.95078182220459\n",
      "Predicted pKd: 7.266068458557129 | True pKd: 6.096909999847412\n",
      "Predicted pKd: 10.679522514343262 | True pKd: 10.32697868347168\n",
      "Predicted pKd: 6.297398567199707 | True pKd: 6.619788646697998\n",
      "Predicted pKd: 8.867894172668457 | True pKd: 8.728157997131348\n",
      "Predicted pKd: 7.052121162414551 | True pKd: 7.3565473556518555\n",
      "Predicted pKd: 9.326476097106934 | True pKd: 8.756961822509766\n",
      "Predicted pKd: 6.162599563598633 | True pKd: 5.301030158996582\n",
      "Predicted pKd: 8.270092010498047 | True pKd: 8.455931663513184\n",
      "Predicted pKd: 5.192801475524902 | True pKd: 2.705533742904663\n",
      "Predicted pKd: 4.999077796936035 | True pKd: 6.267606258392334\n",
      "Predicted pKd: 9.371993064880371 | True pKd: 9.206908226013184\n",
      "Predicted pKd: 7.763318061828613 | True pKd: 7.431798458099365\n",
      "Predicted pKd: 4.287082672119141 | True pKd: 4.301030158996582\n",
      "Predicted pKd: 9.273993492126465 | True pKd: 8.74472713470459\n",
      "Predicted pKd: 9.552699089050293 | True pKd: 8.322393417358398\n",
      "Predicted pKd: 4.704184532165527 | True pKd: 4.3705902099609375\n",
      "Predicted pKd: 4.612589359283447 | True pKd: 4.552842140197754\n",
      "Predicted pKd: 9.528942108154297 | True pKd: 11.387216567993164\n",
      "Predicted pKd: 7.434695243835449 | True pKd: 7.6575775146484375\n",
      "Predicted pKd: 7.93581485748291 | True pKd: 5.698969841003418\n",
      "Predicted pKd: 5.246777057647705 | True pKd: 5.6575775146484375\n",
      "Predicted pKd: 8.7803955078125 | True pKd: 8.113509178161621\n",
      "Predicted pKd: 5.10996150970459 | True pKd: 3.4814860820770264\n",
      "Predicted pKd: 5.254467010498047 | True pKd: 7.619788646697998\n",
      "Predicted pKd: 8.067923545837402 | True pKd: 7.698969841003418\n",
      "Predicted pKd: 5.4167680740356445 | True pKd: 4.524328708648682\n",
      "Predicted pKd: 4.6803083419799805 | True pKd: 4.619788646697998\n",
      "Predicted pKd: 4.376428604125977 | True pKd: 4.764471530914307\n",
      "Predicted pKd: 8.888813972473145 | True pKd: 8.749580383300781\n",
      "Predicted pKd: 6.248261451721191 | True pKd: 4.9871625900268555\n",
      "Predicted pKd: 5.5440168380737305 | True pKd: 5.175223350524902\n",
      "Predicted pKd: 8.21361255645752 | True pKd: 8.238072395324707\n",
      "Predicted pKd: 9.39631175994873 | True pKd: 9.42021656036377\n",
      "Predicted pKd: 4.095901012420654 | True pKd: 5.275723934173584\n",
      "Predicted pKd: 8.857110977172852 | True pKd: 8.301030158996582\n",
      "Predicted pKd: 10.790325164794922 | True pKd: 10.987162590026855\n",
      "Predicted pKd: 11.305112838745117 | True pKd: 11.602060317993164\n",
      "Predicted pKd: 8.597029685974121 | True pKd: 6.619788646697998\n",
      "Predicted pKd: 6.413664817810059 | True pKd: 3.7819900512695312\n",
      "Predicted pKd: 6.738373756408691 | True pKd: 6.537601947784424\n",
      "Predicted pKd: 8.312311172485352 | True pKd: 6.4202165603637695\n",
      "Predicted pKd: 5.542411804199219 | True pKd: 4.91829252243042\n",
      "Predicted pKd: 6.890026092529297 | True pKd: 8.193819999694824\n",
      "Predicted pKd: 9.714048385620117 | True pKd: 9.501689910888672\n",
      "Predicted pKd: 8.545239448547363 | True pKd: 8.207608222961426\n",
      "Predicted pKd: 6.059225082397461 | True pKd: 6.315154552459717\n",
      "Predicted pKd: 8.512961387634277 | True pKd: 5.221848964691162\n",
      "Predicted pKd: 5.101353645324707 | True pKd: 2.8847224712371826\n",
      "Predicted pKd: 7.556285858154297 | True pKd: 7.146910667419434\n",
      "Predicted pKd: 6.065237998962402 | True pKd: 6.3665313720703125\n",
      "Predicted pKd: 6.389548301696777 | True pKd: 6.50445556640625\n",
      "Predicted pKd: 8.666524887084961 | True pKd: 8.175873756408691\n",
      "Predicted pKd: 5.850865364074707 | True pKd: 8.449771881103516\n",
      "Predicted pKd: 4.558061599731445 | True pKd: 2.698970079421997\n",
      "Predicted pKd: 5.835321426391602 | True pKd: 8.207608222961426\n",
      "Predicted pKd: 6.365391731262207 | True pKd: 7.301030158996582\n",
      "Predicted pKd: 4.481019020080566 | True pKd: 4.92081880569458\n",
      "Predicted pKd: 10.548640251159668 | True pKd: 11.602060317993164\n",
      "Predicted pKd: 8.585943222045898 | True pKd: 7.361510753631592\n",
      "Predicted pKd: 4.350522994995117 | True pKd: 4.3665313720703125\n",
      "Predicted pKd: 9.401543617248535 | True pKd: 9.455931663513184\n",
      "Predicted pKd: 5.0109124183654785 | True pKd: 5.045757293701172\n",
      "Predicted pKd: 7.763820648193359 | True pKd: 9.0\n",
      "Predicted pKd: 6.196825981140137 | True pKd: 5.276544094085693\n",
      "Predicted pKd: 9.138545989990234 | True pKd: 8.494850158691406\n",
      "Predicted pKd: 5.912559509277344 | True pKd: 4.328827381134033\n",
      "Predicted pKd: 7.670619964599609 | True pKd: 8.070581436157227\n",
      "Predicted pKd: 7.99417781829834 | True pKd: 7.0\n",
      "Predicted pKd: 9.49330997467041 | True pKd: 10.795880317687988\n",
      "Predicted pKd: 9.402256965637207 | True pKd: 9.142667770385742\n",
      "Predicted pKd: 9.15705394744873 | True pKd: 7.698969841003418\n",
      "Predicted pKd: 9.058627128601074 | True pKd: 8.74472713470459\n",
      "Predicted pKd: 4.544320106506348 | True pKd: 3.698970079421997\n",
      "Predicted pKd: 7.261815071105957 | True pKd: 9.301030158996582\n",
      "Predicted pKd: 7.302842140197754 | True pKd: 7.79587984085083\n",
      "Predicted pKd: 5.6367645263671875 | True pKd: 5.835647106170654\n",
      "Predicted pKd: 6.334665298461914 | True pKd: 6.317854881286621\n",
      "Predicted pKd: 10.561695098876953 | True pKd: 11.175873756408691\n",
      "Predicted pKd: 6.916632652282715 | True pKd: 8.154901504516602\n",
      "Predicted pKd: 7.251886367797852 | True pKd: 6.764471530914307\n",
      "Predicted pKd: 7.425485610961914 | True pKd: 5.93930196762085\n",
      "Predicted pKd: 6.884783744812012 | True pKd: 4.924453258514404\n",
      "Predicted pKd: 9.102680206298828 | True pKd: 9.337242126464844\n",
      "Predicted pKd: 5.3480024337768555 | True pKd: 4.812479496002197\n",
      "Predicted pKd: 5.978809356689453 | True pKd: 5.531652450561523\n",
      "Predicted pKd: 4.999218940734863 | True pKd: 3.3819518089294434\n",
      "Predicted pKd: 10.680182456970215 | True pKd: 8.643974304199219\n",
      "Predicted pKd: 8.32995319366455 | True pKd: 8.102373123168945\n",
      "Predicted pKd: 5.467013359069824 | True pKd: 5.609065055847168\n",
      "Predicted pKd: 6.843780517578125 | True pKd: 9.537602424621582\n",
      "Predicted pKd: 10.626884460449219 | True pKd: 10.723538398742676\n",
      "Predicted pKd: 7.210456848144531 | True pKd: 5.094203948974609\n",
      "Predicted pKd: 8.491168022155762 | True pKd: 8.207608222961426\n",
      "Predicted pKd: 9.40624713897705 | True pKd: 8.95860767364502\n",
      "Predicted pKd: 6.643769264221191 | True pKd: 5.853871822357178\n",
      "Predicted pKd: 8.28941822052002 | True pKd: 12.120330810546875\n",
      "Predicted pKd: 5.952363967895508 | True pKd: 9.0\n",
      "Predicted pKd: 8.27865982055664 | True pKd: 8.102373123168945\n",
      "Predicted pKd: 8.33653450012207 | True pKd: 7.79587984085083\n",
      "Predicted pKd: 10.613637924194336 | True pKd: 8.856985092163086\n",
      "Predicted pKd: 5.581025123596191 | True pKd: 4.460171222686768\n",
      "Predicted pKd: 7.390030860900879 | True pKd: 6.026872158050537\n",
      "Predicted pKd: 4.641938209533691 | True pKd: 5.585026741027832\n",
      "Predicted pKd: 7.962336540222168 | True pKd: 5.251811981201172\n",
      "Predicted pKd: 7.389307975769043 | True pKd: 6.804100513458252\n",
      "Predicted pKd: 9.399487495422363 | True pKd: 8.790485382080078\n",
      "Predicted pKd: 9.034969329833984 | True pKd: 7.910094738006592\n",
      "Predicted pKd: 5.557901382446289 | True pKd: 4.161150932312012\n",
      "Predicted pKd: 4.642001152038574 | True pKd: 4.130768299102783\n",
      "Predicted pKd: 6.899068832397461 | True pKd: 8.522878646850586\n",
      "Predicted pKd: 5.944414138793945 | True pKd: 7.823908805847168\n",
      "Predicted pKd: 4.705057144165039 | True pKd: 3.698970079421997\n",
      "Predicted pKd: 7.950124740600586 | True pKd: 11.434152603149414\n",
      "Predicted pKd: 9.204401016235352 | True pKd: 7.92081880569458\n",
      "Predicted pKd: 6.729618072509766 | True pKd: 5.4685211181640625\n",
      "Predicted pKd: 9.77099895477295 | True pKd: 10.531652450561523\n",
      "Predicted pKd: 9.274344444274902 | True pKd: 10.90308952331543\n",
      "Predicted pKd: 5.92488956451416 | True pKd: 5.15490198135376\n",
      "Predicted pKd: 5.617653846740723 | True pKd: 3.9871628284454346\n",
      "Predicted pKd: 7.25047492980957 | True pKd: 8.431797981262207\n",
      "Predicted pKd: 6.430241584777832 | True pKd: 7.728158473968506\n",
      "Predicted pKd: 8.29844856262207 | True pKd: 9.823908805847168\n",
      "Predicted pKd: 4.138606548309326 | True pKd: 4.281913757324219\n",
      "Predicted pKd: 6.027811050415039 | True pKd: 7.045757293701172\n",
      "Predicted pKd: 9.331619262695312 | True pKd: 9.431797981262207\n",
      "Predicted pKd: 5.188368797302246 | True pKd: 4.7695512771606445\n",
      "Predicted pKd: 5.654414176940918 | True pKd: 8.552842140197754\n",
      "Predicted pKd: 7.374905586242676 | True pKd: 8.721246719360352\n",
      "Predicted pKd: 6.881657600402832 | True pKd: 4.966576099395752\n",
      "Predicted pKd: 8.509718894958496 | True pKd: 6.0\n",
      "Predicted pKd: 9.444015502929688 | True pKd: 9.229147911071777\n",
      "Predicted pKd: 5.731122970581055 | True pKd: 6.397940158843994\n",
      "Predicted pKd: 8.266719818115234 | True pKd: 6.580044269561768\n",
      "Predicted pKd: 6.831871032714844 | True pKd: 7.180456161499023\n",
      "Predicted pKd: 9.40797233581543 | True pKd: 9.031517028808594\n",
      "Predicted pKd: 4.52679443359375 | True pKd: 4.815308570861816\n",
      "Predicted pKd: 4.9317426681518555 | True pKd: 5.496209144592285\n",
      "Predicted pKd: 7.25197696685791 | True pKd: 7.906578540802002\n",
      "Predicted pKd: 4.607679843902588 | True pKd: 4.801342964172363\n",
      "Predicted pKd: 8.669621467590332 | True pKd: 9.82973861694336\n",
      "Predicted pKd: 9.795531272888184 | True pKd: 10.131767272949219\n",
      "Predicted pKd: 7.958975791931152 | True pKd: 7.508638381958008\n",
      "Predicted pKd: 9.910745620727539 | True pKd: 7.732828140258789\n",
      "Predicted pKd: 6.3912153244018555 | True pKd: 5.07572078704834\n",
      "Predicted pKd: 9.437207221984863 | True pKd: 9.769551277160645\n",
      "Predicted pKd: 5.432465553283691 | True pKd: 6.958607196807861\n",
      "Predicted pKd: 7.798810005187988 | True pKd: 6.515700340270996\n",
      "Predicted pKd: 9.403895378112793 | True pKd: 9.494850158691406\n",
      "Predicted pKd: 9.184480667114258 | True pKd: 8.276544570922852\n",
      "Predicted pKd: 9.058797836303711 | True pKd: 8.853872299194336\n",
      "Predicted pKd: 4.513246536254883 | True pKd: 5.017728805541992\n",
      "Predicted pKd: 7.289390563964844 | True pKd: 7.096909999847412\n",
      "Predicted pKd: 7.169245719909668 | True pKd: 9.619789123535156\n",
      "Predicted pKd: 7.496834754943848 | True pKd: 6.777283668518066\n",
      "Predicted pKd: 5.938758850097656 | True pKd: 7.161150932312012\n",
      "Predicted pKd: 4.7147064208984375 | True pKd: 4.221848964691162\n",
      "Predicted pKd: 8.270753860473633 | True pKd: 5.698969841003418\n",
      "Predicted pKd: 7.486996650695801 | True pKd: 5.698969841003418\n",
      "Predicted pKd: 6.2270402908325195 | True pKd: 6.173277378082275\n",
      "Predicted pKd: 7.865992546081543 | True pKd: 6.677780628204346\n",
      "Predicted pKd: 8.1224946975708 | True pKd: 6.397940158843994\n",
      "Predicted pKd: 5.668520927429199 | True pKd: 4.221848964691162\n",
      "Predicted pKd: 7.804490089416504 | True pKd: 7.892789840698242\n",
      "Predicted pKd: 6.170160293579102 | True pKd: 9.28399658203125\n",
      "Predicted pKd: 6.301567077636719 | True pKd: 7.15490198135376\n",
      "Predicted pKd: 9.06723690032959 | True pKd: 8.236572265625\n",
      "Predicted pKd: 6.974963188171387 | True pKd: 7.236571788787842\n",
      "Predicted pKd: 6.843732833862305 | True pKd: 6.0\n",
      "Predicted pKd: 5.729745864868164 | True pKd: 5.463441371917725\n",
      "Predicted pKd: 4.546918869018555 | True pKd: 4.0\n",
      "Predicted pKd: 9.096314430236816 | True pKd: 9.455931663513184\n",
      "Predicted pKd: 7.181425094604492 | True pKd: 6.782516002655029\n",
      "Predicted pKd: 5.167876243591309 | True pKd: 5.79587984085083\n",
      "Predicted pKd: 4.9232401847839355 | True pKd: 5.09366512298584\n",
      "Predicted pKd: 8.502973556518555 | True pKd: 6.958607196807861\n",
      "Predicted pKd: 9.47467041015625 | True pKd: 9.379863739013672\n",
      "Predicted pKd: 10.649239540100098 | True pKd: 7.142667293548584\n",
      "Predicted pKd: 9.395869255065918 | True pKd: 9.447331428527832\n",
      "Predicted pKd: 7.3477582931518555 | True pKd: 7.7931742668151855\n",
      "Predicted pKd: 4.521886825561523 | True pKd: 4.954677104949951\n",
      "Predicted pKd: 7.59248161315918 | True pKd: 6.801342964172363\n",
      "Predicted pKd: 7.586580276489258 | True pKd: 10.522878646850586\n",
      "Predicted pKd: 4.899794101715088 | True pKd: 6.376750946044922\n",
      "Predicted pKd: 6.818437576293945 | True pKd: 9.154901504516602\n",
      "Predicted pKd: 5.612984657287598 | True pKd: 3.369572162628174\n",
      "Predicted pKd: 8.914257049560547 | True pKd: 10.322393417358398\n",
      "Predicted pKd: 7.424859046936035 | True pKd: 5.203425884246826\n",
      "Predicted pKd: 9.321545600891113 | True pKd: 8.647817611694336\n",
      "Predicted pKd: 9.009003639221191 | True pKd: 7.623423099517822\n",
      "Predicted pKd: 5.559715270996094 | True pKd: 5.261219501495361\n",
      "Predicted pKd: 8.641152381896973 | True pKd: 8.522878646850586\n",
      "Predicted pKd: 9.184700012207031 | True pKd: 10.698969841003418\n",
      "Predicted pKd: 7.703566551208496 | True pKd: 7.431798458099365\n",
      "Predicted pKd: 9.404850006103516 | True pKd: 8.815308570861816\n",
      "Predicted pKd: 8.517245292663574 | True pKd: 7.15490198135376\n",
      "Predicted pKd: 7.414303779602051 | True pKd: 6.640164375305176\n",
      "Predicted pKd: 9.875844955444336 | True pKd: 9.204119682312012\n",
      "Predicted pKd: 6.62498664855957 | True pKd: 9.376750946044922\n",
      "Predicted pKd: 10.133862495422363 | True pKd: 9.301030158996582\n",
      "Predicted pKd: 4.609421730041504 | True pKd: 3.931814193725586\n",
      "Predicted pKd: 7.70673942565918 | True pKd: 8.769551277160645\n",
      "Predicted pKd: 8.070931434631348 | True pKd: 8.508638381958008\n",
      "Predicted pKd: 7.228152275085449 | True pKd: 7.92081880569458\n",
      "Predicted pKd: 9.505627632141113 | True pKd: 10.494850158691406\n",
      "Predicted pKd: 9.048308372497559 | True pKd: 9.431797981262207\n",
      "Predicted pKd: 5.880887985229492 | True pKd: 6.508638381958008\n",
      "Predicted pKd: 7.53414249420166 | True pKd: 6.602059841156006\n",
      "Predicted pKd: 7.184167861938477 | True pKd: 8.568635940551758\n",
      "Predicted pKd: 7.674322128295898 | True pKd: 6.917214393615723\n",
      "Predicted pKd: 7.0067901611328125 | True pKd: 8.0\n",
      "Predicted pKd: 9.07506275177002 | True pKd: 8.414539337158203\n",
      "Predicted pKd: 8.19693374633789 | True pKd: 9.787812232971191\n",
      "Predicted pKd: 4.680447578430176 | True pKd: 5.221848964691162\n",
      "Predicted pKd: 6.658633232116699 | True pKd: 8.207608222961426\n",
      "Predicted pKd: 9.403115272521973 | True pKd: 8.583359718322754\n",
      "Predicted pKd: 6.070672988891602 | True pKd: 7.79048490524292\n",
      "Predicted pKd: 7.29990291595459 | True pKd: 7.86012077331543\n",
      "Predicted pKd: 8.090690612792969 | True pKd: 9.091514587402344\n",
      "Predicted pKd: 8.484326362609863 | True pKd: 7.9871625900268555\n",
      "Predicted pKd: 8.440435409545898 | True pKd: 3.6716203689575195\n",
      "Predicted pKd: 10.43077564239502 | True pKd: 9.739928245544434\n",
      "Predicted pKd: 9.394343376159668 | True pKd: 8.677781105041504\n",
      "Predicted pKd: 6.664855003356934 | True pKd: 7.173925399780273\n",
      "Predicted pKd: 8.072969436645508 | True pKd: 7.497572898864746\n",
      "Predicted pKd: 6.482061386108398 | True pKd: 4.277777671813965\n",
      "Predicted pKd: 6.164239883422852 | True pKd: 5.844664096832275\n",
      "Predicted pKd: 9.936199188232422 | True pKd: 10.267605781555176\n",
      "Predicted pKd: 9.30926513671875 | True pKd: 10.414539337158203\n",
      "Predicted pKd: 7.3388566970825195 | True pKd: 5.376750946044922\n",
      "Predicted pKd: 7.845702171325684 | True pKd: 8.221848487854004\n",
      "Predicted pKd: 7.433984756469727 | True pKd: 8.221848487854004\n",
      "Predicted pKd: 9.067423820495605 | True pKd: 9.08092212677002\n",
      "Predicted pKd: 8.603331565856934 | True pKd: 8.421360969543457\n",
      "Predicted pKd: 4.654120445251465 | True pKd: 3.7703182697296143\n",
      "Predicted pKd: 5.350720405578613 | True pKd: 5.585026741027832\n",
      "Predicted pKd: 7.675520896911621 | True pKd: 8.835647583007812\n",
      "Predicted pKd: 7.585864067077637 | True pKd: 4.823908805847168\n",
      "Predicted pKd: 4.730977535247803 | True pKd: 3.3946950435638428\n",
      "Predicted pKd: 4.926304817199707 | True pKd: 5.026872158050537\n",
      "Predicted pKd: 5.810214996337891 | True pKd: 5.045757293701172\n",
      "Predicted pKd: 7.7866926193237305 | True pKd: 8.207608222961426\n",
      "Predicted pKd: 8.085707664489746 | True pKd: 9.568635940551758\n",
      "Predicted pKd: 9.802285194396973 | True pKd: 10.161150932312012\n",
      "Predicted pKd: 7.42423152923584 | True pKd: 9.0\n",
      "Predicted pKd: 6.509749412536621 | True pKd: 6.815308570861816\n",
      "Predicted pKd: 9.11902141571045 | True pKd: 6.863279342651367\n",
      "Predicted pKd: 4.15966796875 | True pKd: 3.698970079421997\n",
      "Predicted pKd: 8.603433609008789 | True pKd: 7.863279342651367\n",
      "Predicted pKd: 6.854399681091309 | True pKd: 5.568636417388916\n",
      "Predicted pKd: 7.366594314575195 | True pKd: 7.393618583679199\n",
      "Predicted pKd: 4.838937759399414 | True pKd: 4.3665313720703125\n",
      "Predicted pKd: 9.229043006896973 | True pKd: 9.091514587402344\n",
      "Predicted pKd: 6.6513566970825195 | True pKd: 7.79587984085083\n",
      "Predicted pKd: 7.282538414001465 | True pKd: 7.522878646850586\n",
      "Predicted pKd: 9.397242546081543 | True pKd: 9.251811981201172\n",
      "Predicted pKd: 4.542966842651367 | True pKd: 4.31247091293335\n",
      "Predicted pKd: 5.399251937866211 | True pKd: 7.0\n",
      "Predicted pKd: 5.811798095703125 | True pKd: 3.742321491241455\n",
      "Predicted pKd: 7.520153045654297 | True pKd: 5.679853916168213\n",
      "Predicted pKd: 9.357386589050293 | True pKd: 8.681936264038086\n",
      "Predicted pKd: 7.7341508865356445 | True pKd: 8.040958404541016\n",
      "Predicted pKd: 8.80275821685791 | True pKd: 9.114073753356934\n",
      "Predicted pKd: 6.738622665405273 | True pKd: 7.494850158691406\n",
      "Predicted pKd: 10.025749206542969 | True pKd: 9.756961822509766\n",
      "Predicted pKd: 7.596682548522949 | True pKd: 8.823908805847168\n",
      "Predicted pKd: 5.191534996032715 | True pKd: 5.045757293701172\n",
      "Predicted pKd: 6.931637763977051 | True pKd: 7.7798919677734375\n",
      "Predicted pKd: 7.438759803771973 | True pKd: 7.585026741027832\n",
      "Predicted pKd: 4.236880302429199 | True pKd: 7.236571788787842\n",
      "Predicted pKd: 5.622165679931641 | True pKd: 5.744727611541748\n",
      "Predicted pKd: 5.637613296508789 | True pKd: 6.698969841003418\n",
      "Predicted pKd: 10.631568908691406 | True pKd: 3.628932237625122\n",
      "Predicted pKd: 10.369136810302734 | True pKd: 10.747146606445312\n",
      "Predicted pKd: 7.783369064331055 | True pKd: 5.698969841003418\n",
      "Predicted pKd: 9.680793762207031 | True pKd: 9.079355239868164\n",
      "Predicted pKd: 8.576578140258789 | True pKd: 9.0\n",
      "Predicted pKd: 5.4642333984375 | True pKd: 5.207608222961426\n",
      "Predicted pKd: 10.097808837890625 | True pKd: 9.251811981201172\n",
      "Predicted pKd: 4.656130313873291 | True pKd: 5.096909999847412\n",
      "Predicted pKd: 7.406223297119141 | True pKd: 5.301030158996582\n",
      "Predicted pKd: 6.398979187011719 | True pKd: 7.958607196807861\n",
      "Predicted pKd: 4.512669563293457 | True pKd: 3.8096683025360107\n",
      "Predicted pKd: 6.652266502380371 | True pKd: 7.28483247756958\n",
      "Predicted pKd: 7.4610595703125 | True pKd: 8.913640022277832\n",
      "Predicted pKd: 7.399036407470703 | True pKd: 6.6216020584106445\n",
      "Predicted pKd: 9.821355819702148 | True pKd: 9.71669864654541\n",
      "Predicted pKd: 6.843332290649414 | True pKd: 8.12493896484375\n",
      "Predicted pKd: 9.402112007141113 | True pKd: 9.050609588623047\n",
      "Predicted pKd: 8.098284721374512 | True pKd: 8.356547355651855\n",
      "Predicted pKd: 8.354872703552246 | True pKd: 5.886056423187256\n",
      "Predicted pKd: 8.52093505859375 | True pKd: 7.978810787200928\n",
      "Predicted pKd: 8.508570671081543 | True pKd: 7.690369606018066\n",
      "Predicted pKd: 9.091541290283203 | True pKd: 6.585026741027832\n",
      "Predicted pKd: 9.271812438964844 | True pKd: 9.20065975189209\n",
      "Predicted pKd: 4.717100143432617 | True pKd: 4.214670181274414\n",
      "Predicted pKd: 6.115541458129883 | True pKd: 3.9586071968078613\n",
      "Predicted pKd: 8.508744239807129 | True pKd: 8.279014587402344\n",
      "Predicted pKd: 8.26106071472168 | True pKd: 8.408935546875\n",
      "Predicted pKd: 9.11467456817627 | True pKd: 8.920818328857422\n",
      "Predicted pKd: 7.094301223754883 | True pKd: 10.410050392150879\n",
      "Predicted pKd: 7.419219970703125 | True pKd: 10.229147911071777\n",
      "Predicted pKd: 7.856738090515137 | True pKd: 7.586700439453125\n",
      "Predicted pKd: 8.636743545532227 | True pKd: 7.823908805847168\n",
      "Predicted pKd: 6.504871368408203 | True pKd: 6.537601947784424\n",
      "Predicted pKd: 8.260420799255371 | True pKd: 10.0\n",
      "Predicted pKd: 7.23765754699707 | True pKd: 8.749580383300781\n",
      "Predicted pKd: 7.386871337890625 | True pKd: 5.2932820320129395\n",
      "Predicted pKd: 4.563482284545898 | True pKd: 3.853872060775757\n",
      "Predicted pKd: 7.660342216491699 | True pKd: 5.251811981201172\n",
      "Predicted pKd: 8.460824012756348 | True pKd: 6.9430952072143555\n",
      "Predicted pKd: 9.3579740524292 | True pKd: 7.537601947784424\n",
      "Predicted pKd: 6.8919782638549805 | True pKd: 6.477555751800537\n",
      "Predicted pKd: 8.278029441833496 | True pKd: 8.28399658203125\n",
      "Predicted pKd: 9.892295837402344 | True pKd: 10.943095207214355\n",
      "Predicted pKd: 5.009367942810059 | True pKd: 5.315154552459717\n",
      "Predicted pKd: 5.0554656982421875 | True pKd: 5.4685211181640625\n",
      "Predicted pKd: 9.795053482055664 | True pKd: 10.079355239868164\n",
      "Predicted pKd: 7.406789779663086 | True pKd: 8.619789123535156\n",
      "Predicted pKd: 4.969379901885986 | True pKd: 5.178486347198486\n",
      "Predicted pKd: 6.606009483337402 | True pKd: 7.665546417236328\n",
      "Predicted pKd: 10.359338760375977 | True pKd: 11.886056900024414\n",
      "Predicted pKd: 7.778925895690918 | True pKd: 5.3665313720703125\n",
      "Predicted pKd: 7.835575103759766 | True pKd: 8.221848487854004\n",
      "Predicted pKd: 4.6494927406311035 | True pKd: 4.327902317047119\n",
      "Predicted pKd: 4.935420989990234 | True pKd: 6.031517028808594\n",
      "Predicted pKd: 12.602702140808105 | True pKd: 13.48678207397461\n",
      "Predicted pKd: 7.698647499084473 | True pKd: 9.406713485717773\n",
      "Predicted pKd: 7.566632270812988 | True pKd: 10.301030158996582\n",
      "Predicted pKd: 6.125506401062012 | True pKd: 4.221848964691162\n",
      "Predicted pKd: 5.4991455078125 | True pKd: 6.062983989715576\n",
      "Predicted pKd: 8.498369216918945 | True pKd: 7.505845546722412\n",
      "Predicted pKd: 6.747854232788086 | True pKd: 9.522878646850586\n",
      "Predicted pKd: 5.100246906280518 | True pKd: 6.679853916168213\n",
      "Predicted pKd: 5.579097747802734 | True pKd: 8.070581436157227\n",
      "Predicted pKd: 9.730571746826172 | True pKd: 10.07883358001709\n",
      "Predicted pKd: 7.126614570617676 | True pKd: 7.507239818572998\n",
      "Predicted pKd: 9.254195213317871 | True pKd: 8.698969841003418\n",
      "Predicted pKd: 8.17233657836914 | True pKd: 8.178486824035645\n",
      "Predicted pKd: 9.450357437133789 | True pKd: 7.7695512771606445\n",
      "Predicted pKd: 6.129295349121094 | True pKd: 7.337242126464844\n",
      "Predicted pKd: 10.531988143920898 | True pKd: 11.698969841003418\n",
      "Predicted pKd: 10.879408836364746 | True pKd: 11.146302223205566\n",
      "Predicted pKd: 7.485011100769043 | True pKd: 6.850780963897705\n",
      "Predicted pKd: 5.688193321228027 | True pKd: 5.200659275054932\n",
      "Predicted pKd: 9.591571807861328 | True pKd: 10.721246719360352\n",
      "Predicted pKd: 9.084980964660645 | True pKd: 7.917214393615723\n",
      "Predicted pKd: 7.708047866821289 | True pKd: 8.721246719360352\n",
      "Predicted pKd: 5.876336097717285 | True pKd: 5.113509178161621\n",
      "Predicted pKd: 4.958115577697754 | True pKd: 3.698970079421997\n",
      "Predicted pKd: 8.864211082458496 | True pKd: 4.518557548522949\n",
      "Predicted pKd: 7.789828300476074 | True pKd: 8.183095932006836\n",
      "Predicted pKd: 5.227176666259766 | True pKd: 5.045757293701172\n",
      "Predicted pKd: 7.7237091064453125 | True pKd: 6.576754093170166\n",
      "Predicted pKd: 5.823273658752441 | True pKd: 6.906578540802002\n",
      "Predicted pKd: 6.846892356872559 | True pKd: 9.221848487854004\n",
      "Predicted pKd: 4.542177200317383 | True pKd: 4.087778091430664\n",
      "Predicted pKd: 12.791814804077148 | True pKd: 13.130767822265625\n",
      "Predicted pKd: 10.403399467468262 | True pKd: 10.361510276794434\n",
      "Predicted pKd: 6.511131286621094 | True pKd: 5.903090000152588\n",
      "Predicted pKd: 7.459414482116699 | True pKd: 9.397939682006836\n",
      "Predicted pKd: 8.17233657836914 | True pKd: 11.677781105041504\n",
      "Predicted pKd: 9.551595687866211 | True pKd: 8.279014587402344\n",
      "Predicted pKd: 6.328176498413086 | True pKd: 7.346787452697754\n",
      "Predicted pKd: 8.188762664794922 | True pKd: 9.20273208618164\n",
      "Predicted pKd: 12.056538581848145 | True pKd: 12.721246719360352\n",
      "Predicted pKd: 7.524086952209473 | True pKd: 6.596879482269287\n",
      "Predicted pKd: 6.550933837890625 | True pKd: 5.343188762664795\n",
      "Predicted pKd: 7.066590309143066 | True pKd: 7.301030158996582\n",
      "Predicted pKd: 7.692193984985352 | True pKd: 10.602060317993164\n",
      "Predicted pKd: 8.225318908691406 | True pKd: 4.826813697814941\n",
      "Predicted pKd: 7.315545082092285 | True pKd: 8.522878646850586\n",
      "Predicted pKd: 6.933269500732422 | True pKd: 9.376750946044922\n",
      "Predicted pKd: 5.468076705932617 | True pKd: 5.966576099395752\n",
      "Predicted pKd: 9.594146728515625 | True pKd: 9.508638381958008\n",
      "Predicted pKd: 9.352558135986328 | True pKd: 9.850780487060547\n",
      "Predicted pKd: 6.383951187133789 | True pKd: 4.744727611541748\n",
      "Predicted pKd: 7.764120101928711 | True pKd: 8.769551277160645\n",
      "Predicted pKd: 7.231744766235352 | True pKd: 7.033389091491699\n",
      "Predicted pKd: 10.69299602508545 | True pKd: 9.522878646850586\n",
      "Predicted pKd: 9.516693115234375 | True pKd: 8.154901504516602\n",
      "Predicted pKd: 4.740819931030273 | True pKd: 3.698970079421997\n",
      "Predicted pKd: 5.064003944396973 | True pKd: 6.221848964691162\n",
      "Predicted pKd: 6.911609649658203 | True pKd: 5.92081880569458\n",
      "Predicted pKd: 6.2939605712890625 | True pKd: 8.387216567993164\n",
      "Predicted pKd: 5.014002799987793 | True pKd: 6.238882064819336\n",
      "Predicted pKd: 9.242677688598633 | True pKd: 8.187087059020996\n",
      "Predicted pKd: 8.17789363861084 | True pKd: 8.823908805847168\n",
      "Predicted pKd: 5.189314365386963 | True pKd: 4.522878646850586\n",
      "Predicted pKd: 6.465381622314453 | True pKd: 8.698969841003418\n",
      "Predicted pKd: 8.398900985717773 | True pKd: 5.92081880569458\n",
      "Predicted pKd: 4.510828018188477 | True pKd: 4.815308570861816\n",
      "Predicted pKd: 7.403231620788574 | True pKd: 7.958607196807861\n",
      "Predicted pKd: 4.519834041595459 | True pKd: 4.0\n",
      "Predicted pKd: 9.962874412536621 | True pKd: 9.204119682312012\n",
      "Predicted pKd: 10.418773651123047 | True pKd: 8.879426002502441\n",
      "Predicted pKd: 7.428773880004883 | True pKd: 5.728158473968506\n",
      "Predicted pKd: 9.896068572998047 | True pKd: 9.477556228637695\n",
      "Predicted pKd: 7.446601867675781 | True pKd: 5.343901634216309\n",
      "Predicted pKd: 7.322497367858887 | True pKd: 6.75448751449585\n",
      "Predicted pKd: 8.639111518859863 | True pKd: 8.728157997131348\n",
      "Predicted pKd: 6.309079170227051 | True pKd: 6.698969841003418\n",
      "Predicted pKd: 9.712127685546875 | True pKd: 10.20065975189209\n",
      "Predicted pKd: 10.304537773132324 | True pKd: 10.677781105041504\n",
      "Predicted pKd: 8.158485412597656 | True pKd: 11.677781105041504\n",
      "Predicted pKd: 7.703413009643555 | True pKd: 6.6716203689575195\n",
      "Predicted pKd: 7.612071990966797 | True pKd: 6.759450912475586\n",
      "Predicted pKd: 9.40884780883789 | True pKd: 9.09691047668457\n",
      "Predicted pKd: 9.088007926940918 | True pKd: 9.408935546875\n",
      "Predicted pKd: 8.437559127807617 | True pKd: 6.2306227684021\n",
      "Predicted pKd: 4.713866710662842 | True pKd: 4.60554838180542\n",
      "Predicted pKd: 8.38709545135498 | True pKd: 9.114073753356934\n",
      "Predicted pKd: 5.17683219909668 | True pKd: 7.260427474975586\n",
      "Predicted pKd: 8.552071571350098 | True pKd: 9.74472713470459\n",
      "Predicted pKd: 8.173882484436035 | True pKd: 11.677781105041504\n",
      "Predicted pKd: 7.012448310852051 | True pKd: 9.0\n",
      "Predicted pKd: 8.667162895202637 | True pKd: 6.617982864379883\n",
      "Predicted pKd: 7.6596527099609375 | True pKd: 7.010995388031006\n",
      "Predicted pKd: 5.2401628494262695 | True pKd: 5.744727611541748\n",
      "Predicted pKd: 5.720576286315918 | True pKd: 6.3205718994140625\n",
      "Predicted pKd: 8.16704273223877 | True pKd: 8.055024147033691\n",
      "Predicted pKd: 4.962166786193848 | True pKd: 4.872895240783691\n",
      "Predicted pKd: 9.71405029296875 | True pKd: 9.714442253112793\n",
      "Predicted pKd: 5.576359748840332 | True pKd: 5.28399658203125\n",
      "Predicted pKd: 5.275518417358398 | True pKd: 4.698969841003418\n",
      "Predicted pKd: 7.674884796142578 | True pKd: 7.4509968757629395\n",
      "Predicted pKd: 4.463318824768066 | True pKd: 3.698970079421997\n",
      "Predicted pKd: 9.208073616027832 | True pKd: 9.091514587402344\n",
      "Predicted pKd: 6.611361503601074 | True pKd: 6.068033695220947\n",
      "Predicted pKd: 7.1713457107543945 | True pKd: 7.086185932159424\n",
      "Predicted pKd: 7.1250200271606445 | True pKd: 6.562249660491943\n",
      "Predicted pKd: 9.451493263244629 | True pKd: 9.07572078704834\n",
      "Predicted pKd: 10.261131286621094 | True pKd: 10.71669864654541\n",
      "Predicted pKd: 6.592067718505859 | True pKd: 10.045757293701172\n",
      "Predicted pKd: 5.589097023010254 | True pKd: 5.397940158843994\n",
      "Predicted pKd: 7.429957389831543 | True pKd: 7.92081880569458\n",
      "Predicted pKd: 4.851405620574951 | True pKd: 7.698969841003418\n",
      "Predicted pKd: 7.498327255249023 | True pKd: 8.655608177185059\n",
      "Predicted pKd: 7.294730186462402 | True pKd: 8.0\n",
      "Predicted pKd: 9.145441055297852 | True pKd: 9.756961822509766\n",
      "Predicted pKd: 4.527059555053711 | True pKd: 4.625251770019531\n",
      "Predicted pKd: 6.568685531616211 | True pKd: 5.721246242523193\n",
      "Predicted pKd: 7.896754264831543 | True pKd: 9.20065975189209\n",
      "Predicted pKd: 8.664782524108887 | True pKd: 8.035268783569336\n",
      "Predicted pKd: 8.181350708007812 | True pKd: 9.42021656036377\n",
      "Predicted pKd: 10.02114200592041 | True pKd: 7.806875228881836\n",
      "Predicted pKd: 7.945351600646973 | True pKd: 8.204815864562988\n",
      "Predicted pKd: 7.428289413452148 | True pKd: 7.337242126464844\n",
      "Predicted pKd: 10.360177040100098 | True pKd: 10.747146606445312\n",
      "Predicted pKd: 4.621611595153809 | True pKd: 4.583359718322754\n",
      "Predicted pKd: 6.812543869018555 | True pKd: 7.455932140350342\n",
      "Predicted pKd: 7.790493965148926 | True pKd: 7.342944145202637\n",
      "Predicted pKd: 7.7923431396484375 | True pKd: 7.2306227684021\n",
      "Predicted pKd: 5.419730186462402 | True pKd: 5.430625915527344\n",
      "Predicted pKd: 9.17345905303955 | True pKd: 10.698969841003418\n",
      "Predicted pKd: 6.034625053405762 | True pKd: 5.458420753479004\n",
      "Predicted pKd: 7.702856063842773 | True pKd: 7.216811180114746\n",
      "Predicted pKd: 4.9533538818359375 | True pKd: 5.677780628204346\n",
      "Predicted pKd: 4.615654468536377 | True pKd: 6.931814193725586\n",
      "Predicted pKd: 4.426967620849609 | True pKd: 9.230622291564941\n",
      "Predicted pKd: 4.474156379699707 | True pKd: 4.8181562423706055\n",
      "Predicted pKd: 4.528437614440918 | True pKd: 4.821022987365723\n",
      "Predicted pKd: 7.442895889282227 | True pKd: 8.886056900024414\n",
      "Predicted pKd: 5.032462120056152 | True pKd: 4.823908805847168\n",
      "Predicted pKd: 8.285078048706055 | True pKd: 11.823908805847168\n",
      "Predicted pKd: 6.7833099365234375 | True pKd: 8.327901840209961\n",
      "Predicted pKd: 7.4125566482543945 | True pKd: 7.007888317108154\n",
      "Predicted pKd: 12.862716674804688 | True pKd: 13.634511947631836\n",
      "Predicted pKd: 8.593293190002441 | True pKd: 6.481485843658447\n",
      "Predicted pKd: 8.233809471130371 | True pKd: 8.920818328857422\n",
      "Predicted pKd: 5.982998847961426 | True pKd: 6.508638381958008\n",
      "Predicted pKd: 7.151519775390625 | True pKd: 7.397940158843994\n",
      "Predicted pKd: 4.920397758483887 | True pKd: 5.240332126617432\n",
      "Predicted pKd: 9.489790916442871 | True pKd: 6.397940158843994\n",
      "Predicted pKd: 7.360502243041992 | True pKd: 6.809668064117432\n",
      "Predicted pKd: 9.711280822753906 | True pKd: 10.036211967468262\n",
      "Predicted pKd: 6.136488914489746 | True pKd: 5.392544746398926\n",
      "Predicted pKd: 9.409886360168457 | True pKd: 9.481486320495605\n",
      "Predicted pKd: 4.55540657043457 | True pKd: 4.970616340637207\n",
      "Predicted pKd: 9.09154987335205 | True pKd: 9.327901840209961\n",
      "Predicted pKd: 7.472400665283203 | True pKd: 6.924453258514404\n",
      "Predicted pKd: 6.076189041137695 | True pKd: 7.552842140197754\n",
      "Predicted pKd: 6.854903221130371 | True pKd: 7.045757293701172\n",
      "Predicted pKd: 4.918163299560547 | True pKd: 4.416801452636719\n",
      "Predicted pKd: 6.909406661987305 | True pKd: 6.643974304199219\n",
      "Predicted pKd: 8.489225387573242 | True pKd: 5.0\n",
      "Predicted pKd: 9.096055030822754 | True pKd: 11.244125366210938\n",
      "Predicted pKd: 8.185287475585938 | True pKd: 8.348722457885742\n",
      "Predicted pKd: 4.853815078735352 | True pKd: 4.214670181274414\n",
      "Predicted pKd: 9.245912551879883 | True pKd: 8.146302223205566\n",
      "Predicted pKd: 7.174994468688965 | True pKd: 8.568635940551758\n",
      "Predicted pKd: 5.593833923339844 | True pKd: 5.387216091156006\n",
      "Predicted pKd: 7.662424087524414 | True pKd: 7.619788646697998\n",
      "Predicted pKd: 7.428289413452148 | True pKd: 5.712198257446289\n",
      "Predicted pKd: 4.421534538269043 | True pKd: 3.32790207862854\n",
      "Predicted pKd: 7.784912109375 | True pKd: 8.173925399780273\n",
      "Predicted pKd: 7.481383323669434 | True pKd: 9.698969841003418\n",
      "Predicted pKd: 5.4492034912109375 | True pKd: 5.721246242523193\n",
      "Predicted pKd: 6.618724822998047 | True pKd: 7.050610065460205\n",
      "Predicted pKd: 7.296744346618652 | True pKd: 6.434152126312256\n",
      "Predicted pKd: 9.053638458251953 | True pKd: 9.207608222961426\n",
      "Predicted pKd: 7.161231994628906 | True pKd: 9.004803657531738\n",
      "Predicted pKd: 13.45693588256836 | True pKd: 10.823908805847168\n",
      "Predicted pKd: 6.029391288757324 | True pKd: 4.387216091156006\n",
      "Predicted pKd: 4.681318283081055 | True pKd: 5.15490198135376\n",
      "Predicted pKd: 7.409206390380859 | True pKd: 5.991399765014648\n",
      "Predicted pKd: 8.53293514251709 | True pKd: 9.920818328857422\n",
      "Predicted pKd: 5.0196919441223145 | True pKd: 5.573488712310791\n",
      "Predicted pKd: 6.111025810241699 | True pKd: 7.33068323135376\n",
      "Predicted pKd: 4.933873176574707 | True pKd: 5.275723934173584\n",
      "Predicted pKd: 5.46809196472168 | True pKd: 4.690369606018066\n",
      "Predicted pKd: 7.773317337036133 | True pKd: 8.481486320495605\n",
      "Predicted pKd: 7.2896881103515625 | True pKd: 6.978810787200928\n",
      "Predicted pKd: 7.6922149658203125 | True pKd: 6.301030158996582\n",
      "Predicted pKd: 5.533946990966797 | True pKd: 5.79048490524292\n",
      "Predicted pKd: 7.300015449523926 | True pKd: 5.866461277008057\n",
      "Predicted pKd: 9.587763786315918 | True pKd: 12.041436195373535\n",
      "Predicted pKd: 5.472597122192383 | True pKd: 5.747147083282471\n",
      "Predicted pKd: 7.156181335449219 | True pKd: 5.744727611541748\n",
      "Predicted pKd: 5.02745246887207 | True pKd: 5.829738140106201\n",
      "Predicted pKd: 4.871553421020508 | True pKd: 5.3665313720703125\n",
      "Predicted pKd: 9.317242622375488 | True pKd: 8.74472713470459\n",
      "Predicted pKd: 9.032537460327148 | True pKd: 9.322393417358398\n",
      "Predicted pKd: 7.293218612670898 | True pKd: 7.619788646697998\n",
      "Predicted pKd: 4.990866661071777 | True pKd: 4.92081880569458\n",
      "Predicted pKd: 8.070775985717773 | True pKd: 8.681936264038086\n",
      "Predicted pKd: 9.173831939697266 | True pKd: 8.522878646850586\n",
      "Predicted pKd: 9.984044075012207 | True pKd: 9.677781105041504\n",
      "Predicted pKd: 7.584869384765625 | True pKd: 6.752026557922363\n",
      "Predicted pKd: 7.436898231506348 | True pKd: 7.301030158996582\n",
      "Predicted pKd: 9.726499557495117 | True pKd: 9.690369606018066\n",
      "Predicted pKd: 8.189221382141113 | True pKd: 5.327902317047119\n",
      "Predicted pKd: 4.681671142578125 | True pKd: 4.0087738037109375\n",
      "Predicted pKd: 7.9498748779296875 | True pKd: 9.698969841003418\n",
      "Predicted pKd: 7.54349422454834 | True pKd: 9.397939682006836\n",
      "Predicted pKd: 8.019413948059082 | True pKd: 7.522878646850586\n",
      "Predicted pKd: 7.434104919433594 | True pKd: 7.267606258392334\n",
      "Predicted pKd: 10.236977577209473 | True pKd: 12.0\n",
      "Predicted pKd: 9.064711570739746 | True pKd: 8.602060317993164\n",
      "Predicted pKd: 6.655699729919434 | True pKd: 5.903090000152588\n",
      "Predicted pKd: 7.092852592468262 | True pKd: 7.508638381958008\n",
      "Predicted pKd: 6.891356468200684 | True pKd: 9.619789123535156\n",
      "Predicted pKd: 5.523388862609863 | True pKd: 3.798602819442749\n",
      "Predicted pKd: 6.796030044555664 | True pKd: 6.241845607757568\n",
      "Predicted pKd: 9.44985294342041 | True pKd: 8.853872299194336\n",
      "Predicted pKd: 9.06386661529541 | True pKd: 8.721246719360352\n",
      "Predicted pKd: 5.968109130859375 | True pKd: 5.113509178161621\n",
      "Predicted pKd: 10.306741714477539 | True pKd: 10.97881031036377\n",
      "Predicted pKd: 6.529486656188965 | True pKd: 6.050610065460205\n",
      "Predicted pKd: 5.402064323425293 | True pKd: 5.1191864013671875\n",
      "Predicted pKd: 9.924263000488281 | True pKd: 10.221848487854004\n",
      "Predicted pKd: 6.943503379821777 | True pKd: 7.161150932312012\n",
      "Predicted pKd: 7.674032211303711 | True pKd: 7.752026557922363\n",
      "Predicted pKd: 7.650235176086426 | True pKd: 3.522878646850586\n",
      "Predicted pKd: 5.541996955871582 | True pKd: 4.991399765014648\n",
      "Predicted pKd: 8.644885063171387 | True pKd: 8.698969841003418\n",
      "Predicted pKd: 8.453109741210938 | True pKd: 8.175873756408691\n",
      "Predicted pKd: 5.099699020385742 | True pKd: 4.602059841156006\n",
      "Predicted pKd: 7.463421821594238 | True pKd: 5.8326826095581055\n",
      "Predicted pKd: 7.450194358825684 | True pKd: 5.886056423187256\n",
      "Predicted pKd: 9.1438627243042 | True pKd: 9.366531372070312\n",
      "Predicted pKd: 6.450893402099609 | True pKd: 6.458420753479004\n",
      "Predicted pKd: 9.066149711608887 | True pKd: 9.154901504516602\n",
      "Predicted pKd: 10.166375160217285 | True pKd: 9.543634414672852\n",
      "Predicted pKd: 7.572109222412109 | True pKd: 6.590066909790039\n",
      "Predicted pKd: 4.721254348754883 | True pKd: 4.886056423187256\n",
      "Predicted pKd: 6.768231391906738 | True pKd: 7.79587984085083\n",
      "Predicted pKd: 8.934833526611328 | True pKd: 7.221848964691162\n",
      "Predicted pKd: 8.923583984375 | True pKd: 7.494850158691406\n",
      "Predicted pKd: 7.285640716552734 | True pKd: 5.782516002655029\n",
      "Predicted pKd: 5.171825408935547 | True pKd: 8.327901840209961\n",
      "Predicted pKd: 4.62239408493042 | True pKd: 5.0\n",
      "Predicted pKd: 9.450626373291016 | True pKd: 7.698969841003418\n",
      "Predicted pKd: 6.139082908630371 | True pKd: 5.568636417388916\n",
      "Predicted pKd: 7.561463356018066 | True pKd: 8.09691047668457\n",
      "Predicted pKd: 8.348557472229004 | True pKd: 8.017728805541992\n",
      "Predicted pKd: 5.010214328765869 | True pKd: 6.013676166534424\n",
      "Predicted pKd: 6.588850021362305 | True pKd: 7.551293849945068\n",
      "Predicted pKd: 10.127276420593262 | True pKd: 10.982966423034668\n",
      "Predicted pKd: 13.041313171386719 | True pKd: 12.26280689239502\n",
      "Predicted pKd: 7.278474807739258 | True pKd: 7.638272285461426\n",
      "Predicted pKd: 9.120609283447266 | True pKd: 9.0\n",
      "Predicted pKd: 7.9027605056762695 | True pKd: 7.2441253662109375\n",
      "Predicted pKd: 7.6694488525390625 | True pKd: 8.638272285461426\n",
      "Predicted pKd: 9.715544700622559 | True pKd: 9.43770694732666\n",
      "Predicted pKd: 9.836441993713379 | True pKd: 7.267606258392334\n",
      "Predicted pKd: 6.675191879272461 | True pKd: 7.262012481689453\n",
      "Predicted pKd: 5.235543727874756 | True pKd: 3.698970079421997\n",
      "Predicted pKd: 4.291675567626953 | True pKd: 4.6575775146484375\n",
      "Predicted pKd: 9.572750091552734 | True pKd: 9.230622291564941\n",
      "Predicted pKd: 7.349396705627441 | True pKd: 7.623423099517822\n",
      "Predicted pKd: 7.670072555541992 | True pKd: 8.039053916931152\n",
      "Predicted pKd: 5.429080963134766 | True pKd: 4.97469425201416\n",
      "Predicted pKd: 4.991518020629883 | True pKd: 6.376750946044922\n",
      "Predicted pKd: 7.7126874923706055 | True pKd: 8.217527389526367\n",
      "Predicted pKd: 9.6422700881958 | True pKd: 9.602060317993164\n",
      "Predicted pKd: 7.780337333679199 | True pKd: 7.0\n",
      "Predicted pKd: 5.916597366333008 | True pKd: 5.79587984085083\n",
      "Predicted pKd: 8.465456008911133 | True pKd: 8.254924774169922\n",
      "Predicted pKd: 6.707837104797363 | True pKd: 6.28399658203125\n",
      "Predicted pKd: 9.439647674560547 | True pKd: 9.07572078704834\n",
      "Predicted pKd: 10.375062942504883 | True pKd: 9.61260986328125\n",
      "Predicted pKd: 7.675502777099609 | True pKd: 8.07572078704834\n",
      "Predicted pKd: 8.610241889953613 | True pKd: 6.92081880569458\n",
      "Predicted pKd: 5.578383445739746 | True pKd: 6.050610065460205\n",
      "Predicted pKd: 6.805689811706543 | True pKd: 9.537602424621582\n",
      "Predicted pKd: 5.916376113891602 | True pKd: 5.543633937835693\n",
      "Predicted pKd: 8.717459678649902 | True pKd: 12.0\n",
      "Predicted pKd: 7.315966606140137 | True pKd: 8.595166206359863\n",
      "Predicted pKd: 7.709068298339844 | True pKd: 7.149966716766357\n",
      "Predicted pKd: 7.2128705978393555 | True pKd: 8.045757293701172\n",
      "Predicted pKd: 9.607625007629395 | True pKd: 12.935542106628418\n",
      "Predicted pKd: 9.553531646728516 | True pKd: 9.920818328857422\n",
      "Predicted pKd: 8.623740196228027 | True pKd: 7.275723934173584\n",
      "Predicted pKd: 8.6073579788208 | True pKd: 9.041436195373535\n",
      "Predicted pKd: 5.174605369567871 | True pKd: 3.346787452697754\n",
      "Predicted pKd: 4.89693021774292 | True pKd: 4.92081880569458\n",
      "Predicted pKd: 7.480953216552734 | True pKd: 6.630784034729004\n",
      "Predicted pKd: 7.659971237182617 | True pKd: 8.698969841003418\n",
      "Predicted pKd: 7.777810096740723 | True pKd: 5.747147083282471\n",
      "Predicted pKd: 8.1118803024292 | True pKd: 3.661543607711792\n",
      "Predicted pKd: 6.204067230224609 | True pKd: 3.906578302383423\n",
      "Predicted pKd: 7.161993026733398 | True pKd: 9.301030158996582\n",
      "Predicted pKd: 9.154720306396484 | True pKd: 9.356547355651855\n",
      "Predicted pKd: 9.453411102294922 | True pKd: 9.230622291564941\n",
      "Predicted pKd: 11.095502853393555 | True pKd: 11.698969841003418\n",
      "Predicted pKd: 5.593294143676758 | True pKd: 6.359518527984619\n",
      "Predicted pKd: 9.408547401428223 | True pKd: 7.966576099395752\n",
      "Predicted pKd: 5.320062637329102 | True pKd: 7.040958404541016\n",
      "Predicted pKd: 4.838871002197266 | True pKd: 5.200659275054932\n",
      "Predicted pKd: 7.908990859985352 | True pKd: 4.653646945953369\n",
      "Predicted pKd: 5.090893745422363 | True pKd: 6.552842140197754\n",
      "Predicted pKd: 5.663573265075684 | True pKd: 5.4179368019104\n",
      "Predicted pKd: 10.255057334899902 | True pKd: 10.322393417358398\n",
      "Predicted pKd: 8.668432235717773 | True pKd: 8.455931663513184\n",
      "Predicted pKd: 6.115818977355957 | True pKd: 7.236571788787842\n",
      "Predicted pKd: 7.269536018371582 | True pKd: 7.0\n",
      "Predicted pKd: 7.505606651306152 | True pKd: 8.61618423461914\n",
      "Predicted pKd: 7.442365646362305 | True pKd: 9.464705467224121\n",
      "Predicted pKd: 12.438640594482422 | True pKd: 13.681936264038086\n",
      "Predicted pKd: 7.5465087890625 | True pKd: 7.886056423187256\n",
      "Predicted pKd: 6.435338973999023 | True pKd: 7.823908805847168\n",
      "Predicted pKd: 5.552305221557617 | True pKd: 5.091515064239502\n",
      "Predicted pKd: 9.07007122039795 | True pKd: 9.267605781555176\n",
      "Predicted pKd: 6.829962730407715 | True pKd: 8.397939682006836\n",
      "Predicted pKd: 6.635650634765625 | True pKd: 5.679853916168213\n",
      "Predicted pKd: 8.270037651062012 | True pKd: 7.394694805145264\n",
      "Predicted pKd: 9.083120346069336 | True pKd: 9.154901504516602\n",
      "Predicted pKd: 7.9945220947265625 | True pKd: 7.031517028808594\n",
      "Predicted pKd: 5.869728088378906 | True pKd: 6.946921348571777\n",
      "Predicted pKd: 5.61225700378418 | True pKd: 5.954677104949951\n",
      "Predicted pKd: 4.535494804382324 | True pKd: 4.774690628051758\n",
      "Predicted pKd: 4.985958099365234 | True pKd: 4.130768299102783\n",
      "Predicted pKd: 6.123266220092773 | True pKd: 4.154282093048096\n",
      "Predicted pKd: 6.757565498352051 | True pKd: 5.838632106781006\n",
      "Predicted pKd: 9.316158294677734 | True pKd: 9.790485382080078\n",
      "Predicted pKd: 10.415369987487793 | True pKd: 11.322393417358398\n",
      "Predicted pKd: 7.1040191650390625 | True pKd: 6.9871625900268555\n",
      "Predicted pKd: 9.399173736572266 | True pKd: 9.408935546875\n",
      "Predicted pKd: 10.345962524414062 | True pKd: 8.623422622680664\n",
      "Predicted pKd: 7.63287353515625 | True pKd: 6.690369606018066\n",
      "Predicted pKd: 4.833483695983887 | True pKd: 5.275723934173584\n",
      "Predicted pKd: 4.293524742126465 | True pKd: 5.886056423187256\n",
      "Predicted pKd: 6.244558334350586 | True pKd: 6.130768299102783\n",
      "Predicted pKd: 9.216154098510742 | True pKd: 8.114073753356934\n",
      "Predicted pKd: 4.960637092590332 | True pKd: 3.698970079421997\n",
      "Predicted pKd: 9.326836585998535 | True pKd: 9.477556228637695\n",
      "Predicted pKd: 9.404806137084961 | True pKd: 9.537602424621582\n",
      "Predicted pKd: 6.203978538513184 | True pKd: 4.560667514801025\n",
      "Predicted pKd: 9.115711212158203 | True pKd: 8.74472713470459\n",
      "Predicted pKd: 7.708952903747559 | True pKd: 7.752026557922363\n",
      "Predicted pKd: 9.944116592407227 | True pKd: 9.301030158996582\n",
      "Predicted pKd: 6.471076011657715 | True pKd: 4.886056423187256\n",
      "Predicted pKd: 7.444918632507324 | True pKd: 5.413412570953369\n",
      "Predicted pKd: 10.510366439819336 | True pKd: 12.643974304199219\n",
      "Predicted pKd: 6.731624603271484 | True pKd: 6.035740375518799\n",
      "Predicted pKd: 9.654252052307129 | True pKd: 8.114073753356934\n",
      "Predicted pKd: 9.425164222717285 | True pKd: 9.71669864654541\n",
      "Predicted pKd: 7.62126350402832 | True pKd: 8.823908805847168\n",
      "Predicted pKd: 7.21656608581543 | True pKd: 9.397939682006836\n",
      "Predicted pKd: 5.0112409591674805 | True pKd: 6.600326061248779\n",
      "Predicted pKd: 7.293540000915527 | True pKd: 5.86012077331543\n",
      "Predicted pKd: 8.368279457092285 | True pKd: 5.92081880569458\n",
      "Predicted pKd: 4.93580436706543 | True pKd: 4.482804298400879\n",
      "Predicted pKd: 9.114123344421387 | True pKd: 8.795880317687988\n",
      "Predicted pKd: 4.8511762619018555 | True pKd: 3.522878646850586\n",
      "Predicted pKd: 8.280510902404785 | True pKd: 8.102373123168945\n",
      "Predicted pKd: 6.48858642578125 | True pKd: 6.721246242523193\n",
      "Predicted pKd: 6.939055442810059 | True pKd: 4.966576099395752\n",
      "Predicted pKd: 5.941354751586914 | True pKd: 9.522878646850586\n",
      "Predicted pKd: 8.692879676818848 | True pKd: 14.0\n",
      "Predicted pKd: 7.778931617736816 | True pKd: 8.041436195373535\n",
      "Predicted pKd: 6.758155822753906 | True pKd: 5.7695512771606445\n",
      "Predicted pKd: 9.245148658752441 | True pKd: 8.431797981262207\n",
      "Predicted pKd: 8.639284133911133 | True pKd: 7.38827657699585\n",
      "Predicted pKd: 9.522507667541504 | True pKd: 9.46092414855957\n",
      "Predicted pKd: 6.961816787719727 | True pKd: 6.677780628204346\n",
      "Predicted pKd: 7.203948974609375 | True pKd: 7.301030158996582\n",
      "Predicted pKd: 5.759321212768555 | True pKd: 4.889410495758057\n",
      "Predicted pKd: 4.553083419799805 | True pKd: 3.7695510387420654\n",
      "Predicted pKd: 7.77977180480957 | True pKd: 7.079354763031006\n",
      "Predicted pKd: 6.7736406326293945 | True pKd: 7.586700439453125\n",
      "Predicted pKd: 4.727015495300293 | True pKd: 6.850780963897705\n",
      "Predicted pKd: 8.602871894836426 | True pKd: 8.721246719360352\n",
      "Predicted pKd: 5.905160903930664 | True pKd: 5.096909999847412\n",
      "Predicted pKd: 7.712998390197754 | True pKd: 8.698969841003418\n",
      "Predicted pKd: 6.161273956298828 | True pKd: 7.455932140350342\n",
      "Predicted pKd: 7.764206886291504 | True pKd: 6.395773887634277\n",
      "Predicted pKd: 10.091691970825195 | True pKd: 10.91009521484375\n",
      "Predicted pKd: 9.120827674865723 | True pKd: 10.107905387878418\n",
      "Predicted pKd: 8.689763069152832 | True pKd: 9.09691047668457\n",
      "Predicted pKd: 9.715702056884766 | True pKd: 9.728157997131348\n",
      "Predicted pKd: 8.585183143615723 | True pKd: 9.08092212677002\n",
      "Predicted pKd: 8.041245460510254 | True pKd: 7.698969841003418\n",
      "Predicted pKd: 7.127938270568848 | True pKd: 7.013228416442871\n",
      "Predicted pKd: 4.540691375732422 | True pKd: 3.698970079421997\n",
      "Predicted pKd: 7.314297676086426 | True pKd: 8.645891189575195\n",
      "Predicted pKd: 4.676226615905762 | True pKd: 4.02410888671875\n",
      "Predicted pKd: 7.244453430175781 | True pKd: 6.235076904296875\n",
      "Predicted pKd: 9.148698806762695 | True pKd: 9.455931663513184\n",
      "Predicted pKd: 7.389805793762207 | True pKd: 8.769551277160645\n",
      "Predicted pKd: 4.847408294677734 | True pKd: 6.443697452545166\n",
      "Predicted pKd: 6.018747329711914 | True pKd: 5.688246250152588\n",
      "Predicted pKd: 9.08547306060791 | True pKd: 9.494850158691406\n",
      "Predicted pKd: 7.437108993530273 | True pKd: 7.7798919677734375\n",
      "Predicted pKd: 7.763362884521484 | True pKd: 6.537601947784424\n",
      "Predicted pKd: 8.23193073272705 | True pKd: 8.657577514648438\n",
      "Predicted pKd: 6.886361122131348 | True pKd: 6.756961822509766\n",
      "Predicted pKd: 4.897047996520996 | True pKd: 7.698969841003418\n",
      "Predicted pKd: 6.783056259155273 | True pKd: 7.958607196807861\n",
      "Predicted pKd: 12.032875061035156 | True pKd: 8.058488845825195\n",
      "Predicted pKd: 6.057861328125 | True pKd: 3.823908805847168\n",
      "Predicted pKd: 4.934545516967773 | True pKd: 5.853871822357178\n",
      "Predicted pKd: 5.469443321228027 | True pKd: 5.387216091156006\n",
      "Predicted pKd: 12.784648895263672 | True pKd: 13.690369606018066\n",
      "Predicted pKd: 4.31295108795166 | True pKd: 4.698969841003418\n",
      "Predicted pKd: 7.298191070556641 | True pKd: 7.823908805847168\n",
      "Predicted pKd: 8.181679725646973 | True pKd: 9.823908805847168\n",
      "Predicted pKd: 9.521184921264648 | True pKd: 11.0\n",
      "Predicted pKd: 5.349541664123535 | True pKd: 4.379863739013672\n",
      "Predicted pKd: 8.110669136047363 | True pKd: 6.414539337158203\n",
      "Predicted pKd: 7.350399017333984 | True pKd: 7.7695512771606445\n",
      "Predicted pKd: 6.459882736206055 | True pKd: 6.6575775146484375\n",
      "Predicted pKd: 8.268559455871582 | True pKd: 8.552842140197754\n",
      "Predicted pKd: 7.657688140869141 | True pKd: 8.698969841003418\n",
      "Predicted pKd: 6.320095062255859 | True pKd: 5.619788646697998\n",
      "Predicted pKd: 7.2256574630737305 | True pKd: 7.744727611541748\n",
      "Predicted pKd: 5.133995532989502 | True pKd: 5.93930196762085\n",
      "Predicted pKd: 9.405434608459473 | True pKd: 9.397939682006836\n",
      "Predicted pKd: 7.307934761047363 | True pKd: 7.585026741027832\n",
      "Predicted pKd: 7.2461957931518555 | True pKd: 6.017728805541992\n",
      "Predicted pKd: 8.080646514892578 | True pKd: 6.452225208282471\n",
      "Predicted pKd: 4.714139938354492 | True pKd: 4.92081880569458\n",
      "Predicted pKd: 8.591931343078613 | True pKd: 9.628931999206543\n",
      "Predicted pKd: 9.835747718811035 | True pKd: 10.131767272949219\n",
      "Predicted pKd: 6.945842742919922 | True pKd: 5.886056423187256\n",
      "Predicted pKd: 7.610294342041016 | True pKd: 7.221848964691162\n",
      "Predicted pKd: 4.141016960144043 | True pKd: 3.698970079421997\n",
      "Predicted pKd: 4.133609771728516 | True pKd: 3.698970079421997\n",
      "Predicted pKd: 4.93507194519043 | True pKd: 3.976747512817383\n",
      "Predicted pKd: 8.446356773376465 | True pKd: 6.045757293701172\n",
      "Predicted pKd: 4.127719402313232 | True pKd: 4.982966423034668\n",
      "Predicted pKd: 6.815128326416016 | True pKd: 8.886056900024414\n",
      "Predicted pKd: 8.518807411193848 | True pKd: 9.769551277160645\n",
      "Predicted pKd: 10.530038833618164 | True pKd: 9.49079704284668\n",
      "Predicted pKd: 7.4346818923950195 | True pKd: 6.892789840698242\n",
      "Predicted pKd: 9.942468643188477 | True pKd: 10.279014587402344\n",
      "Predicted pKd: 9.2833890914917 | True pKd: 9.397939682006836\n",
      "Predicted pKd: 8.98207950592041 | True pKd: 6.552842140197754\n",
      "Predicted pKd: 9.405182838439941 | True pKd: 9.337242126464844\n",
      "Predicted pKd: 4.653906345367432 | True pKd: 5.096909999847412\n",
      "Predicted pKd: 4.166903495788574 | True pKd: 3.924453020095825\n",
      "Predicted pKd: 6.029352188110352 | True pKd: 6.0\n",
      "Predicted pKd: 9.961141586303711 | True pKd: 10.638272285461426\n",
      "Predicted pKd: 11.698263168334961 | True pKd: 10.013228416442871\n",
      "Predicted pKd: 9.66480827331543 | True pKd: 11.397939682006836\n",
      "Predicted pKd: 5.764649391174316 | True pKd: 5.568636417388916\n",
      "Predicted pKd: 7.701104164123535 | True pKd: 7.703334808349609\n",
      "Predicted pKd: 4.514296531677246 | True pKd: 4.0\n",
      "Predicted pKd: 7.296048164367676 | True pKd: 4.7931742668151855\n",
      "Predicted pKd: 5.860820770263672 | True pKd: 7.15490198135376\n",
      "Predicted pKd: 9.221376419067383 | True pKd: 8.643974304199219\n",
      "Predicted pKd: 7.905576705932617 | True pKd: 8.114073753356934\n",
      "Predicted pKd: 7.717155456542969 | True pKd: 8.28399658203125\n",
      "Predicted pKd: 5.471430778503418 | True pKd: 6.018181324005127\n",
      "Predicted pKd: 4.720536231994629 | True pKd: 4.640164375305176\n",
      "Predicted pKd: 5.7607879638671875 | True pKd: 6.732828140258789\n",
      "Predicted pKd: 8.063982963562012 | True pKd: 6.102373123168945\n",
      "Predicted pKd: 9.687337875366211 | True pKd: 9.879426002502441\n",
      "Predicted pKd: 6.68873405456543 | True pKd: 4.481485843658447\n",
      "Predicted pKd: 7.6260881423950195 | True pKd: 6.3260579109191895\n",
      "Predicted pKd: 6.457542419433594 | True pKd: 4.767004013061523\n",
      "Predicted pKd: 5.236354827880859 | True pKd: 5.106793403625488\n",
      "Predicted pKd: 6.547306060791016 | True pKd: 9.497572898864746\n",
      "Predicted pKd: 4.669166564941406 | True pKd: 4.494850158691406\n",
      "Predicted pKd: 6.260557174682617 | True pKd: 13.230622291564941\n",
      "Predicted pKd: 5.425966262817383 | True pKd: 8.09691047668457\n",
      "Predicted pKd: 8.040068626403809 | True pKd: 8.154901504516602\n",
      "Predicted pKd: 4.536214828491211 | True pKd: 4.549750804901123\n",
      "Predicted pKd: 7.000619888305664 | True pKd: 6.086185932159424\n",
      "Predicted pKd: 8.503430366516113 | True pKd: 6.913640022277832\n",
      "Predicted pKd: 9.976053237915039 | True pKd: 10.477556228637695\n",
      "Predicted pKd: 10.077095031738281 | True pKd: 10.636387825012207\n",
      "Predicted pKd: 6.145473480224609 | True pKd: 5.777283668518066\n",
      "Predicted pKd: 7.172760963439941 | True pKd: 8.036211967468262\n",
      "Predicted pKd: 9.660504341125488 | True pKd: 11.95078182220459\n",
      "Predicted pKd: 10.232275009155273 | True pKd: 10.568635940551758\n",
      "Predicted pKd: 5.623878479003906 | True pKd: 4.6675615310668945\n",
      "Predicted pKd: 8.698363304138184 | True pKd: 6.752763271331787\n",
      "Predicted pKd: 7.689031600952148 | True pKd: 8.522878646850586\n",
      "Predicted pKd: 8.204660415649414 | True pKd: 8.896196365356445\n",
      "Predicted pKd: 7.941873550415039 | True pKd: 6.3665313720703125\n",
      "Predicted pKd: 6.772425651550293 | True pKd: 6.522878646850586\n",
      "Predicted pKd: 8.117448806762695 | True pKd: 10.214670181274414\n",
      "Predicted pKd: 7.5559186935424805 | True pKd: 7.387216091156006\n",
      "Predicted pKd: 7.510245323181152 | True pKd: 10.455931663513184\n",
      "Predicted pKd: 8.365646362304688 | True pKd: 7.643974304199219\n",
      "Predicted pKd: 7.772700309753418 | True pKd: 8.769551277160645\n",
      "Predicted pKd: 6.571199417114258 | True pKd: 7.774690628051758\n",
      "Predicted pKd: 9.102641105651855 | True pKd: 9.920818328857422\n",
      "Predicted pKd: 4.952332973480225 | True pKd: 5.543633937835693\n",
      "Predicted pKd: 6.119813919067383 | True pKd: 10.0\n",
      "Predicted pKd: 5.58167839050293 | True pKd: 8.079355239868164\n",
      "Predicted pKd: 6.37855339050293 | True pKd: 6.458420753479004\n",
      "Predicted pKd: 5.439807891845703 | True pKd: 5.978810787200928\n",
      "Predicted pKd: 7.781411170959473 | True pKd: 7.317854881286621\n",
      "Predicted pKd: 8.175588607788086 | True pKd: 7.055517196655273\n",
      "Predicted pKd: 4.8345947265625 | True pKd: 7.585026741027832\n",
      "Predicted pKd: 8.187079429626465 | True pKd: 8.657577514648438\n",
      "Predicted pKd: 6.2552080154418945 | True pKd: 4.75448751449585\n",
      "Predicted pKd: 8.92236328125 | True pKd: 8.602060317993164\n",
      "Predicted pKd: 10.621146202087402 | True pKd: 10.602060317993164\n",
      "Predicted pKd: 7.341034889221191 | True pKd: 9.034798622131348\n",
      "Predicted pKd: 5.578598976135254 | True pKd: 5.163675785064697\n",
      "Predicted pKd: 5.469109535217285 | True pKd: 5.484126091003418\n",
      "Predicted pKd: 9.740259170532227 | True pKd: 9.872895240783691\n",
      "Predicted pKd: 4.130528926849365 | True pKd: 4.351640224456787\n",
      "Predicted pKd: 5.436073303222656 | True pKd: 6.542118072509766\n",
      "Predicted pKd: 7.683291435241699 | True pKd: 6.910094738006592\n",
      "Predicted pKd: 7.871432304382324 | True pKd: 8.146302223205566\n",
      "Predicted pKd: 7.393693923950195 | True pKd: 6.570247650146484\n",
      "Predicted pKd: 8.859164237976074 | True pKd: 8.455931663513184\n",
      "Predicted pKd: 7.518630027770996 | True pKd: 10.079355239868164\n",
      "Predicted pKd: 9.100488662719727 | True pKd: 10.698969841003418\n",
      "Predicted pKd: 6.744278907775879 | True pKd: 4.882728576660156\n",
      "Predicted pKd: 7.726282119750977 | True pKd: 8.3936185836792\n",
      "Predicted pKd: 7.631601333618164 | True pKd: 7.931814193725586\n",
      "Predicted pKd: 7.730875015258789 | True pKd: 5.431798458099365\n",
      "Predicted pKd: 5.456382751464844 | True pKd: 6.300162315368652\n",
      "Predicted pKd: 10.452641487121582 | True pKd: 10.602060317993164\n",
      "Predicted pKd: 8.00865364074707 | True pKd: 9.017728805541992\n",
      "Predicted pKd: 6.010674476623535 | True pKd: 6.148741722106934\n",
      "Predicted pKd: 8.432843208312988 | True pKd: 9.795880317687988\n",
      "Predicted pKd: 6.203500747680664 | True pKd: 4.698969841003418\n",
      "Predicted pKd: 8.625933647155762 | True pKd: 5.787812232971191\n",
      "Predicted pKd: 7.7540693283081055 | True pKd: 7.712198257446289\n",
      "Predicted pKd: 9.712380409240723 | True pKd: 9.514278411865234\n",
      "Predicted pKd: 8.261533737182617 | True pKd: 8.886056900024414\n",
      "Predicted pKd: 7.580089569091797 | True pKd: 6.406713962554932\n",
      "Predicted pKd: 7.001712799072266 | True pKd: 6.749579906463623\n",
      "Predicted pKd: 4.613840103149414 | True pKd: 4.6575775146484375\n",
      "Predicted pKd: 5.468835830688477 | True pKd: 5.543633937835693\n",
      "Predicted pKd: 6.253148078918457 | True pKd: 3.823908805847168\n",
      "Predicted pKd: 5.018111228942871 | True pKd: 5.9454522132873535\n",
      "Predicted pKd: 6.120232582092285 | True pKd: 5.602059841156006\n",
      "Predicted pKd: 9.301348686218262 | True pKd: 9.632643699645996\n",
      "Predicted pKd: 7.1742401123046875 | True pKd: 9.263603210449219\n",
      "Predicted pKd: 9.322694778442383 | True pKd: 9.28399658203125\n",
      "Predicted pKd: 7.432956695556641 | True pKd: 6.408935546875\n",
      "Predicted pKd: 11.145347595214844 | True pKd: 10.886056900024414\n",
      "Predicted pKd: 4.859652519226074 | True pKd: 3.744727611541748\n",
      "Predicted pKd: 4.65817403793335 | True pKd: 4.721246242523193\n",
      "Predicted pKd: 5.754987716674805 | True pKd: 3.698970079421997\n",
      "Predicted pKd: 7.5300798416137695 | True pKd: 7.7695512771606445\n",
      "Predicted pKd: 6.210206985473633 | True pKd: 5.552842140197754\n",
      "Predicted pKd: 5.884160995483398 | True pKd: 8.449771881103516\n",
      "Predicted pKd: 7.301936149597168 | True pKd: 7.619788646697998\n",
      "Predicted pKd: 5.499556541442871 | True pKd: 4.7798919677734375\n",
      "Predicted pKd: 6.8961992263793945 | True pKd: 9.468521118164062\n",
      "Predicted pKd: 9.404057502746582 | True pKd: 9.229147911071777\n",
      "Predicted pKd: 8.51474380493164 | True pKd: 5.397940158843994\n",
      "Predicted pKd: 10.184845924377441 | True pKd: 11.91009521484375\n",
      "Predicted pKd: 4.105998992919922 | True pKd: 3.698970079421997\n",
      "Predicted pKd: 8.496455192565918 | True pKd: 6.958607196807861\n",
      "Predicted pKd: 7.5023956298828125 | True pKd: 7.638272285461426\n",
      "Predicted pKd: 7.012346267700195 | True pKd: 8.224753379821777\n",
      "Predicted pKd: 7.074779510498047 | True pKd: 6.638272285461426\n",
      "Predicted pKd: 9.204401016235352 | True pKd: 7.913640022277832\n",
      "Predicted pKd: 4.867384910583496 | True pKd: 4.581698894500732\n",
      "Predicted pKd: 5.03237247467041 | True pKd: 6.886056423187256\n",
      "Predicted pKd: 9.314949989318848 | True pKd: 10.041436195373535\n",
      "Predicted pKd: 6.244983673095703 | True pKd: 5.71669864654541\n",
      "Predicted pKd: 4.126091957092285 | True pKd: 4.0\n",
      "Predicted pKd: 5.138165473937988 | True pKd: 5.455932140350342\n",
      "Predicted pKd: 5.488633155822754 | True pKd: 6.4685211181640625\n",
      "Predicted pKd: 8.3051118850708 | True pKd: 7.443697452545166\n",
      "Predicted pKd: 5.158962726593018 | True pKd: 5.136677265167236\n",
      "Predicted pKd: 5.0853071212768555 | True pKd: 6.0\n",
      "Predicted pKd: 9.769037246704102 | True pKd: 9.653647422790527\n",
      "Predicted pKd: 10.451201438903809 | True pKd: 10.987162590026855\n",
      "Predicted pKd: 5.253763198852539 | True pKd: 3.9430952072143555\n",
      "Predicted pKd: 9.961613655090332 | True pKd: 10.756961822509766\n",
      "Predicted pKd: 9.19201374053955 | True pKd: 8.001740455627441\n",
      "Predicted pKd: 7.073061943054199 | True pKd: 7.180456161499023\n",
      "Predicted pKd: 8.69618034362793 | True pKd: 8.721246719360352\n",
      "Predicted pKd: 7.33126163482666 | True pKd: 6.9871625900268555\n",
      "Predicted pKd: 4.938584327697754 | True pKd: 5.377786159515381\n",
      "Predicted pKd: 4.629697799682617 | True pKd: 4.443697452545166\n",
      "Predicted pKd: 7.5946855545043945 | True pKd: 7.853871822357178\n",
      "Predicted pKd: 4.121641159057617 | True pKd: 4.12493896484375\n",
      "Predicted pKd: 9.4022855758667 | True pKd: 9.508638381958008\n",
      "Predicted pKd: 9.32450008392334 | True pKd: 8.892789840698242\n",
      "Predicted pKd: 6.553179740905762 | True pKd: 6.747147083282471\n",
      "Predicted pKd: 9.396507263183594 | True pKd: 9.180456161499023\n",
      "Predicted pKd: 4.621809959411621 | True pKd: 5.327902317047119\n",
      "Predicted pKd: 10.535252571105957 | True pKd: 9.568635940551758\n",
      "Predicted pKd: 7.042486190795898 | True pKd: 10.136676788330078\n",
      "Predicted pKd: 9.070867538452148 | True pKd: 8.229147911071777\n",
      "Predicted pKd: 7.606942176818848 | True pKd: 7.882728576660156\n",
      "Predicted pKd: 7.707723617553711 | True pKd: 8.481486320495605\n",
      "Predicted pKd: 8.995989799499512 | True pKd: 7.95078182220459\n",
      "Predicted pKd: 8.176362991333008 | True pKd: 7.844664096832275\n",
      "Predicted pKd: 9.131879806518555 | True pKd: 12.0\n",
      "Predicted pKd: 6.39063835144043 | True pKd: 7.346787452697754\n",
      "Predicted pKd: 7.630632400512695 | True pKd: 8.221848487854004\n",
      "Predicted pKd: 5.479488372802734 | True pKd: 7.97469425201416\n",
      "Predicted pKd: 7.255795478820801 | True pKd: 7.7695512771606445\n",
      "Predicted pKd: 8.803479194641113 | True pKd: 8.638272285461426\n",
      "Predicted pKd: 5.467032432556152 | True pKd: 6.7695512771606445\n",
      "Predicted pKd: 10.534462928771973 | True pKd: 11.0\n",
      "Predicted pKd: 6.536789894104004 | True pKd: 7.551293849945068\n",
      "Predicted pKd: 10.85583782196045 | True pKd: 9.943095207214355\n",
      "Predicted pKd: 4.772222518920898 | True pKd: 6.744727611541748\n",
      "Predicted pKd: 8.497931480407715 | True pKd: 4.50445556640625\n",
      "Predicted pKd: 7.951223373413086 | True pKd: 2.823908805847168\n",
      "Predicted pKd: 4.608157157897949 | True pKd: 4.259637355804443\n",
      "Predicted pKd: 8.4519624710083 | True pKd: 8.0\n",
      "Predicted pKd: 6.819842338562012 | True pKd: 7.742321491241455\n",
      "Predicted pKd: 8.144139289855957 | True pKd: 7.906578540802002\n",
      "Predicted pKd: 4.210158824920654 | True pKd: 4.3098039627075195\n",
      "Predicted pKd: 5.999874114990234 | True pKd: 7.013228416442871\n",
      "Predicted pKd: 7.605408668518066 | True pKd: 4.522878646850586\n",
      "Predicted pKd: 4.529343128204346 | True pKd: 4.712198257446289\n",
      "Predicted pKd: 4.718612194061279 | True pKd: 4.004364967346191\n",
      "Predicted pKd: 3.5750162601470947 | True pKd: 5.187086582183838\n",
      "Predicted pKd: 9.078386306762695 | True pKd: 9.638272285461426\n",
      "Predicted pKd: 6.598311424255371 | True pKd: 8.721246719360352\n",
      "Predicted pKd: 9.92627239227295 | True pKd: 9.621602058410645\n",
      "Predicted pKd: 8.023513793945312 | True pKd: 8.221848487854004\n",
      "Predicted pKd: 10.329629898071289 | True pKd: 9.543634414672852\n",
      "Predicted pKd: 6.156378746032715 | True pKd: 9.28399658203125\n",
      "Predicted pKd: 9.86267375946045 | True pKd: 7.995678424835205\n",
      "Predicted pKd: 10.2156343460083 | True pKd: 10.175873756408691\n",
      "Predicted pKd: 7.483795166015625 | True pKd: 5.337242126464844\n",
      "Predicted pKd: 4.72945499420166 | True pKd: 5.0\n",
      "Predicted pKd: 9.621476173400879 | True pKd: 7.9871625900268555\n",
      "Predicted pKd: 5.411172866821289 | True pKd: 6.0\n",
      "Predicted pKd: 7.774993896484375 | True pKd: 7.20412015914917\n",
      "Predicted pKd: 6.0043134689331055 | True pKd: 5.06048059463501\n",
      "Predicted pKd: 7.037378311157227 | True pKd: 4.966576099395752\n",
      "Predicted pKd: 10.497069358825684 | True pKd: 13.801342964172363\n",
      "Predicted pKd: 9.556293487548828 | True pKd: 10.267605781555176\n",
      "Predicted pKd: 11.083574295043945 | True pKd: 10.920818328857422\n",
      "Predicted pKd: 4.531634330749512 | True pKd: 4.688246250152588\n",
      "Predicted pKd: 9.151257514953613 | True pKd: 10.95078182220459\n",
      "Predicted pKd: 8.80836296081543 | True pKd: 7.387216091156006\n",
      "Predicted pKd: 6.199785232543945 | True pKd: 4.7798919677734375\n",
      "Predicted pKd: 8.895940780639648 | True pKd: 6.886056423187256\n",
      "Predicted pKd: 7.50701904296875 | True pKd: 7.180456161499023\n",
      "Predicted pKd: 6.288200378417969 | True pKd: 7.251811981201172\n",
      "Predicted pKd: 9.131185531616211 | True pKd: 7.688246250152588\n",
      "Predicted pKd: 9.94943904876709 | True pKd: 10.031517028808594\n",
      "Predicted pKd: 6.843153953552246 | True pKd: 8.0\n",
      "Predicted pKd: 9.292919158935547 | True pKd: 7.95078182220459\n",
      "Predicted pKd: 9.787344932556152 | True pKd: 6.380906581878662\n",
      "Predicted pKd: 7.180652618408203 | True pKd: 6.698969841003418\n",
      "Predicted pKd: 7.245149612426758 | True pKd: 11.826813697814941\n",
      "Predicted pKd: 5.503857612609863 | True pKd: 5.632644176483154\n",
      "Predicted pKd: 8.663009643554688 | True pKd: 9.761954307556152\n",
      "Predicted pKd: 9.452908515930176 | True pKd: 8.455931663513184\n",
      "Predicted pKd: 5.387869834899902 | True pKd: 6.698969841003418\n",
      "Predicted pKd: 6.975187301635742 | True pKd: 8.060481071472168\n",
      "Predicted pKd: 8.956470489501953 | True pKd: 6.886056423187256\n",
      "Predicted pKd: 10.203490257263184 | True pKd: 9.643974304199219\n",
      "Predicted pKd: 12.044046401977539 | True pKd: 11.795880317687988\n",
      "Predicted pKd: 13.947870254516602 | True pKd: 14.481486320495605\n",
      "Predicted pKd: 4.9233245849609375 | True pKd: 4.3705902099609375\n",
      "Predicted pKd: 9.632962226867676 | True pKd: 9.879426002502441\n",
      "Predicted pKd: 6.109090805053711 | True pKd: 5.732828140258789\n",
      "Predicted pKd: 9.902498245239258 | True pKd: 9.279014587402344\n",
      "Predicted pKd: 8.912959098815918 | True pKd: 8.74472713470459\n",
      "Predicted pKd: 7.623701095581055 | True pKd: 7.133121967315674\n",
      "Predicted pKd: 10.685864448547363 | True pKd: 12.91009521484375\n",
      "Predicted pKd: 10.53565502166748 | True pKd: 9.279014587402344\n",
      "Predicted pKd: 9.069802284240723 | True pKd: 9.619789123535156\n",
      "Predicted pKd: 5.591737747192383 | True pKd: 5.318758964538574\n",
      "Predicted pKd: 7.317144393920898 | True pKd: 7.522878646850586\n",
      "Predicted pKd: 8.675318717956543 | True pKd: 9.769551277160645\n",
      "Predicted pKd: 6.718652725219727 | True pKd: 9.468521118164062\n",
      "Predicted pKd: 10.34728717803955 | True pKd: 9.322393417358398\n",
      "Predicted pKd: 6.858936309814453 | True pKd: 4.9871625900268555\n",
      "Predicted pKd: 9.969785690307617 | True pKd: 9.213958740234375\n",
      "Predicted pKd: 5.565823554992676 | True pKd: 6.550058841705322\n",
      "Predicted pKd: 4.979245185852051 | True pKd: 3.030118465423584\n",
      "Predicted pKd: 4.875415802001953 | True pKd: 9.698969841003418\n",
      "Predicted pKd: 4.544583320617676 | True pKd: 3.698970079421997\n",
      "Predicted pKd: 7.576223373413086 | True pKd: 6.3565473556518555\n",
      "Predicted pKd: 10.587234497070312 | True pKd: 7.995678424835205\n",
      "Predicted pKd: 9.2073392868042 | True pKd: 7.477555751800537\n",
      "Predicted pKd: 6.4483442306518555 | True pKd: 3.3205721378326416\n",
      "Predicted pKd: 7.249220848083496 | True pKd: 7.847711563110352\n",
      "Predicted pKd: 7.434849739074707 | True pKd: 6.429457187652588\n",
      "Predicted pKd: 4.956728935241699 | True pKd: 5.508638381958008\n",
      "Predicted pKd: 9.709755897521973 | True pKd: 10.259636878967285\n",
      "Predicted pKd: 7.149137496948242 | True pKd: 9.055517196655273\n",
      "Predicted pKd: 7.856086730957031 | True pKd: 13.739928245544434\n",
      "Predicted pKd: 9.498092651367188 | True pKd: 9.070581436157227\n",
      "Predicted pKd: 9.928913116455078 | True pKd: 9.047207832336426\n",
      "Predicted pKd: 8.252387046813965 | True pKd: 6.991825580596924\n",
      "Predicted pKd: 7.415366172790527 | True pKd: 6.079354763031006\n",
      "Predicted pKd: 6.147218704223633 | True pKd: 4.896196365356445\n",
      "Predicted pKd: 6.163943290710449 | True pKd: 5.675717353820801\n",
      "Predicted pKd: 6.842235565185547 | True pKd: 5.6675615310668945\n",
      "Predicted pKd: 4.941352844238281 | True pKd: 4.826813697814941\n",
      "Predicted pKd: 4.949249267578125 | True pKd: 6.484299659729004\n",
      "Predicted pKd: 5.771553039550781 | True pKd: 6.3098039627075195\n",
      "Predicted pKd: 6.041040420532227 | True pKd: 5.055517196655273\n",
      "Predicted pKd: 8.180547714233398 | True pKd: 7.886056423187256\n",
      "Predicted pKd: 4.58774995803833 | True pKd: 4.970616340637207\n",
      "Predicted pKd: 8.08312702178955 | True pKd: 8.399026870727539\n",
      "Predicted pKd: 7.645933151245117 | True pKd: 7.43889856338501\n",
      "Predicted pKd: 8.673481941223145 | True pKd: 6.537601947784424\n",
      "Predicted pKd: 10.026951789855957 | True pKd: 9.991399765014648\n",
      "Predicted pKd: 7.96636962890625 | True pKd: 8.301030158996582\n",
      "Predicted pKd: 6.699165344238281 | True pKd: 6.004364967346191\n",
      "Predicted pKd: 5.872982025146484 | True pKd: 8.017728805541992\n",
      "Predicted pKd: 5.504278182983398 | True pKd: 6.301030158996582\n",
      "Predicted pKd: 7.286527633666992 | True pKd: 5.096909999847412\n",
      "Predicted pKd: 6.996735572814941 | True pKd: 6.970616340637207\n",
      "Predicted pKd: 10.28782844543457 | True pKd: 9.943095207214355\n",
      "Predicted pKd: 6.725165367126465 | True pKd: 8.698969841003418\n",
      "Predicted pKd: 7.040665626525879 | True pKd: 10.154901504516602\n",
      "Predicted pKd: 6.544277191162109 | True pKd: 5.2924299240112305\n",
      "Predicted pKd: 6.328330039978027 | True pKd: 6.459670543670654\n",
      "Predicted pKd: 5.020351886749268 | True pKd: 5.522878646850586\n",
      "Predicted pKd: 8.28844165802002 | True pKd: 8.267605781555176\n",
      "Predicted pKd: 7.603105545043945 | True pKd: 9.886056900024414\n",
      "Predicted pKd: 11.695676803588867 | True pKd: 11.95860767364502\n",
      "Predicted pKd: 5.1895012855529785 | True pKd: 3.591420888900757\n",
      "Predicted pKd: 6.631444931030273 | True pKd: 7.79587984085083\n",
      "Predicted pKd: 6.843070983886719 | True pKd: 8.0\n",
      "Predicted pKd: 9.412554740905762 | True pKd: 8.739928245544434\n",
      "Predicted pKd: 4.957446098327637 | True pKd: 4.917214393615723\n",
      "Predicted pKd: 8.596537590026855 | True pKd: 8.657577514648438\n",
      "Predicted pKd: 8.143400192260742 | True pKd: 9.301030158996582\n",
      "Predicted pKd: 9.551916122436523 | True pKd: 14.09691047668457\n",
      "Predicted pKd: 7.706944465637207 | True pKd: 6.548213481903076\n",
      "Predicted pKd: 8.084260940551758 | True pKd: 8.801342964172363\n",
      "Predicted pKd: 9.417092323303223 | True pKd: 10.254924774169922\n",
      "Predicted pKd: 9.230027198791504 | True pKd: 10.397939682006836\n",
      "Predicted pKd: 6.598849296569824 | True pKd: 5.886056423187256\n",
      "Predicted pKd: 9.214008331298828 | True pKd: 8.602060317993164\n",
      "Predicted pKd: 6.919271469116211 | True pKd: 8.207608222961426\n",
      "Predicted pKd: 5.533571243286133 | True pKd: 6.376750946044922\n",
      "Predicted pKd: 7.4212799072265625 | True pKd: 5.308918476104736\n",
      "Predicted pKd: 4.519282341003418 | True pKd: 4.829738140106201\n",
      "Predicted pKd: 8.670788764953613 | True pKd: 8.619789123535156\n",
      "Predicted pKd: 4.917769432067871 | True pKd: 5.259637355804443\n",
      "Predicted pKd: 13.864601135253906 | True pKd: 14.508638381958008\n",
      "Predicted pKd: 5.467918395996094 | True pKd: 6.958607196807861\n",
      "Predicted pKd: 5.839130401611328 | True pKd: 7.088842391967773\n",
      "Predicted pKd: 7.25712776184082 | True pKd: 8.221848487854004\n",
      "Predicted pKd: 8.000176429748535 | True pKd: 8.346787452697754\n",
      "Predicted pKd: 5.074663162231445 | True pKd: 4.823908805847168\n",
      "Predicted pKd: 8.26305103302002 | True pKd: 7.9430952072143555\n",
      "Predicted pKd: 5.9835052490234375 | True pKd: 6.0\n",
      "Predicted pKd: 6.0485992431640625 | True pKd: 5.429457187652588\n",
      "Predicted pKd: 9.927190780639648 | True pKd: 10.756961822509766\n",
      "Predicted pKd: 8.58430290222168 | True pKd: 6.096909999847412\n",
      "Predicted pKd: 7.444300651550293 | True pKd: 9.0\n",
      "Predicted pKd: 10.02705192565918 | True pKd: 10.079355239868164\n",
      "Predicted pKd: 9.615082740783691 | True pKd: 8.777283668518066\n",
      "Predicted pKd: 7.940611839294434 | True pKd: 8.021363258361816\n",
      "Predicted pKd: 6.159720420837402 | True pKd: 5.03810453414917\n",
      "Predicted pKd: 8.179789543151855 | True pKd: 11.522878646850586\n",
      "Predicted pKd: 9.734952926635742 | True pKd: 9.57839584350586\n",
      "Predicted pKd: 7.5365142822265625 | True pKd: 7.619788646697998\n",
      "Predicted pKd: 8.099984169006348 | True pKd: 7.844664096832275\n",
      "Predicted pKd: 8.16030502319336 | True pKd: 8.42021656036377\n",
      "Predicted pKd: 9.077423095703125 | True pKd: 8.079355239868164\n",
      "Predicted pKd: 7.500481605529785 | True pKd: 7.79587984085083\n",
      "Predicted pKd: 7.6845598220825195 | True pKd: 7.886056423187256\n",
      "Predicted pKd: 4.8700337409973145 | True pKd: 7.481485843658447\n",
      "Predicted pKd: 6.130657196044922 | True pKd: 5.179798603057861\n",
      "Predicted pKd: 8.952640533447266 | True pKd: 9.221848487854004\n",
      "Predicted pKd: 9.086798667907715 | True pKd: 8.055517196655273\n",
      "Predicted pKd: 9.058627128601074 | True pKd: 8.267605781555176\n",
      "Predicted pKd: 7.857765197753906 | True pKd: 9.769551277160645\n",
      "Predicted pKd: 5.275935173034668 | True pKd: 3.698970079421997\n",
      "Predicted pKd: 13.165966033935547 | True pKd: 12.552842140197754\n",
      "Predicted pKd: 5.595205307006836 | True pKd: 6.229147911071777\n",
      "Predicted pKd: 7.312034606933594 | True pKd: 8.585026741027832\n",
      "Predicted pKd: 10.050163269042969 | True pKd: 9.886056900024414\n",
      "Predicted pKd: 9.176519393920898 | True pKd: 10.853872299194336\n",
      "Predicted pKd: 5.629330635070801 | True pKd: 5.853871822357178\n",
      "Predicted pKd: 8.387738227844238 | True pKd: 8.017728805541992\n",
      "Predicted pKd: 4.903331756591797 | True pKd: 3.221848726272583\n",
      "Predicted pKd: 9.732481002807617 | True pKd: 6.397940158843994\n",
      "Predicted pKd: 7.612543106079102 | True pKd: 8.301030158996582\n",
      "Predicted pKd: 8.380640983581543 | True pKd: 4.518557548522949\n",
      "Predicted pKd: 9.438437461853027 | True pKd: 5.903090000152588\n",
      "Predicted pKd: 9.067423820495605 | True pKd: 7.696804046630859\n",
      "Predicted pKd: 6.236310005187988 | True pKd: 9.026871681213379\n",
      "Predicted pKd: 7.941242218017578 | True pKd: 10.149967193603516\n",
      "Predicted pKd: 8.591452598571777 | True pKd: 8.438899040222168\n",
      "Predicted pKd: 5.767125129699707 | True pKd: 5.391473770141602\n",
      "Predicted pKd: 7.392247200012207 | True pKd: 6.600326061248779\n",
      "Predicted pKd: 7.391828536987305 | True pKd: 6.602059841156006\n",
      "Predicted pKd: 10.432866096496582 | True pKd: 10.522878646850586\n",
      "Predicted pKd: 6.172328948974609 | True pKd: 5.301030158996582\n",
      "Predicted pKd: 9.425978660583496 | True pKd: 7.408935546875\n",
      "Predicted pKd: 4.736057758331299 | True pKd: 6.6575775146484375\n",
      "Predicted pKd: 5.1487627029418945 | True pKd: 9.221848487854004\n",
      "Predicted pKd: 4.941794395446777 | True pKd: 6.301030158996582\n",
      "Predicted pKd: 4.720305442810059 | True pKd: 4.92081880569458\n",
      "Predicted pKd: 7.762552261352539 | True pKd: 4.522878646850586\n",
      "Predicted pKd: 9.56637191772461 | True pKd: 8.74472713470459\n",
      "Predicted pKd: 7.48349666595459 | True pKd: 7.091515064239502\n",
      "Predicted pKd: 6.6235246658325195 | True pKd: 7.009217262268066\n",
      "Predicted pKd: 6.117853164672852 | True pKd: 10.0\n",
      "Predicted pKd: 7.516124725341797 | True pKd: 6.251811981201172\n",
      "Predicted pKd: 5.269959449768066 | True pKd: 5.705533981323242\n",
      "Predicted pKd: 8.62952709197998 | True pKd: 8.97469425201416\n",
      "Predicted pKd: 5.56235408782959 | True pKd: 5.586700439453125\n",
      "Predicted pKd: 12.052445411682129 | True pKd: 10.173925399780273\n",
      "Predicted pKd: 6.199060440063477 | True pKd: 5.15490198135376\n",
      "Predicted pKd: 6.29714298248291 | True pKd: 6.3665313720703125\n",
      "Predicted pKd: 9.064369201660156 | True pKd: 8.815308570861816\n",
      "Predicted pKd: 5.53756046295166 | True pKd: 4.279840469360352\n",
      "Predicted pKd: 9.476229667663574 | True pKd: 9.275724411010742\n",
      "Predicted pKd: 11.706985473632812 | True pKd: 10.394695281982422\n",
      "Predicted pKd: 7.265006065368652 | True pKd: 5.886056423187256\n",
      "Predicted pKd: 8.154620170593262 | True pKd: 11.050609588623047\n",
      "Predicted pKd: 12.836736679077148 | True pKd: 10.066513061523438\n",
      "Predicted pKd: 9.397368431091309 | True pKd: 8.774690628051758\n",
      "Predicted pKd: 4.996205806732178 | True pKd: 3.311580181121826\n",
      "Predicted pKd: 5.576441764831543 | True pKd: 7.7695512771606445\n",
      "Predicted pKd: 4.958963394165039 | True pKd: 5.130768299102783\n",
      "Predicted pKd: 6.23306941986084 | True pKd: 5.853871822357178\n",
      "Predicted pKd: 8.668142318725586 | True pKd: 9.68824577331543\n",
      "Predicted pKd: 7.297022819519043 | True pKd: 8.522878646850586\n",
      "Predicted pKd: 6.315031051635742 | True pKd: 4.853871822357178\n",
      "Predicted pKd: 5.359856605529785 | True pKd: 5.568636417388916\n",
      "Predicted pKd: 10.203204154968262 | True pKd: 10.42021656036377\n",
      "Predicted pKd: 8.057437896728516 | True pKd: 5.0\n",
      "Predicted pKd: 8.938789367675781 | True pKd: 6.431798458099365\n",
      "Predicted pKd: 9.114123344421387 | True pKd: 9.251811981201172\n",
      "Predicted pKd: 6.305419921875 | True pKd: 6.698969841003418\n",
      "Predicted pKd: 8.316448211669922 | True pKd: 8.102373123168945\n",
      "Predicted pKd: 8.54459285736084 | True pKd: 9.698969841003418\n",
      "Predicted pKd: 7.569683074951172 | True pKd: 9.154901504516602\n",
      "Predicted pKd: 9.48725414276123 | True pKd: 9.073143005371094\n",
      "Predicted pKd: 6.046454429626465 | True pKd: 8.823908805847168\n",
      "Predicted pKd: 7.680168151855469 | True pKd: 6.575118541717529\n",
      "Predicted pKd: 10.23842716217041 | True pKd: 10.95078182220459\n",
      "Predicted pKd: 8.251927375793457 | True pKd: 10.045757293701172\n",
      "Predicted pKd: 4.939816474914551 | True pKd: 5.721246242523193\n",
      "Predicted pKd: 5.205409049987793 | True pKd: 4.801342964172363\n",
      "Predicted pKd: 6.0014495849609375 | True pKd: 5.555955410003662\n",
      "Predicted pKd: 4.832308769226074 | True pKd: 4.193819999694824\n",
      "Predicted pKd: 6.249302864074707 | True pKd: 8.086186408996582\n",
      "Predicted pKd: 5.263064384460449 | True pKd: 5.60554838180542\n",
      "Predicted pKd: 9.935468673706055 | True pKd: 7.838632106781006\n",
      "Predicted pKd: 8.53584098815918 | True pKd: 8.481486320495605\n",
      "Predicted pKd: 9.225786209106445 | True pKd: 9.30980396270752\n",
      "Predicted pKd: 6.227974891662598 | True pKd: 4.698969841003418\n",
      "Predicted pKd: 7.530893325805664 | True pKd: 6.705533981323242\n",
      "Predicted pKd: 4.644068241119385 | True pKd: 5.148741722106934\n",
      "Predicted pKd: 7.852561950683594 | True pKd: 6.677780628204346\n",
      "Predicted pKd: 4.2589874267578125 | True pKd: 4.158640384674072\n",
      "Predicted pKd: 4.854351997375488 | True pKd: 5.7695512771606445\n",
      "Predicted pKd: 8.176730155944824 | True pKd: 9.954676628112793\n",
      "Predicted pKd: 9.002177238464355 | True pKd: 8.698969841003418\n",
      "Predicted pKd: 6.804539680480957 | True pKd: 7.774690628051758\n",
      "Predicted pKd: 9.83481216430664 | True pKd: 11.146302223205566\n",
      "Predicted pKd: 4.710492134094238 | True pKd: 4.07572078704834\n",
      "Predicted pKd: 4.9625139236450195 | True pKd: 4.568636417388916\n",
      "Predicted pKd: 7.183144569396973 | True pKd: 7.480172157287598\n",
      "Predicted pKd: 7.704568862915039 | True pKd: 8.119758605957031\n",
      "Predicted pKd: 8.197868347167969 | True pKd: 10.28735065460205\n",
      "Predicted pKd: 5.881540298461914 | True pKd: 6.0\n",
      "Predicted pKd: 6.932757377624512 | True pKd: 8.568635940551758\n",
      "Predicted pKd: 6.216907501220703 | True pKd: 9.008773803710938\n",
      "Predicted pKd: 9.39696216583252 | True pKd: 8.759450912475586\n",
      "Predicted pKd: 7.447196006774902 | True pKd: 9.301030158996582\n",
      "Predicted pKd: 8.501815795898438 | True pKd: 8.279014587402344\n",
      "Predicted pKd: 8.538105010986328 | True pKd: 5.15490198135376\n",
      "Predicted pKd: 7.306027412414551 | True pKd: 6.361510753631592\n",
      "Predicted pKd: 8.948640823364258 | True pKd: 6.552842140197754\n",
      "Predicted pKd: 6.643590927124023 | True pKd: 8.301030158996582\n",
      "Predicted pKd: 7.745965003967285 | True pKd: 5.677780628204346\n",
      "Predicted pKd: 6.868989944458008 | True pKd: 6.602059841156006\n",
      "Predicted pKd: 6.399900436401367 | True pKd: 6.522878646850586\n",
      "Predicted pKd: 6.988718032836914 | True pKd: 7.552842140197754\n",
      "Predicted pKd: 5.670313835144043 | True pKd: 6.425968647003174\n",
      "Predicted pKd: 6.95052433013916 | True pKd: 5.619788646697998\n",
      "Predicted pKd: 6.260557174682617 | True pKd: 13.230622291564941\n",
      "Predicted pKd: 8.33055591583252 | True pKd: 6.518557548522949\n",
      "Predicted pKd: 8.93016242980957 | True pKd: 7.229147911071777\n",
      "Predicted pKd: 9.495780944824219 | True pKd: 8.764472007751465\n",
      "Predicted pKd: 9.050851821899414 | True pKd: 9.318758964538574\n",
      "Predicted pKd: 5.871767044067383 | True pKd: 6.217527389526367\n",
      "Predicted pKd: 4.707103252410889 | True pKd: 3.8664610385894775\n",
      "Predicted pKd: 9.075226783752441 | True pKd: 9.50445556640625\n",
      "Predicted pKd: 7.28159236907959 | True pKd: 5.0039262771606445\n",
      "Predicted pKd: 8.347635269165039 | True pKd: 8.447331428527832\n",
      "Predicted pKd: 5.320436477661133 | True pKd: 7.591760158538818\n",
      "Predicted pKd: 7.290496826171875 | True pKd: 5.958607196807861\n",
      "Predicted pKd: 4.759883880615234 | True pKd: 4.9430952072143555\n",
      "Predicted pKd: 5.591547012329102 | True pKd: 6.193819999694824\n",
      "Predicted pKd: 8.788496017456055 | True pKd: 7.698969841003418\n",
      "Predicted pKd: 7.400289535522461 | True pKd: 5.906578540802002\n",
      "Predicted pKd: 8.167156219482422 | True pKd: 8.063486099243164\n",
      "Predicted pKd: 9.076639175415039 | True pKd: 9.09691047668457\n",
      "Predicted pKd: 4.663668632507324 | True pKd: 4.436519145965576\n",
      "Predicted pKd: 3.6265249252319336 | True pKd: 3.636388063430786\n",
      "Predicted pKd: 9.530887603759766 | True pKd: 9.920818328857422\n",
      "Predicted pKd: 6.762876510620117 | True pKd: 7.575118541717529\n",
      "Predicted pKd: 6.848880767822266 | True pKd: 6.1191864013671875\n",
      "Predicted pKd: 7.292047500610352 | True pKd: 7.522878646850586\n",
      "Predicted pKd: 8.281428337097168 | True pKd: 13.602060317993164\n",
      "Predicted pKd: 7.51704216003418 | True pKd: 13.301030158996582\n",
      "Predicted pKd: 6.921008110046387 | True pKd: 6.455932140350342\n",
      "Predicted pKd: 9.068540573120117 | True pKd: 7.744727611541748\n",
      "Predicted pKd: 4.479025840759277 | True pKd: 4.585026741027832\n",
      "Predicted pKd: 8.883157730102539 | True pKd: 10.114073753356934\n",
      "Predicted pKd: 7.9768781661987305 | True pKd: 7.036211967468262\n",
      "Predicted pKd: 4.685637474060059 | True pKd: 5.221848964691162\n",
      "Predicted pKd: 7.697057723999023 | True pKd: 8.397939682006836\n",
      "Predicted pKd: 6.893587112426758 | True pKd: 7.744727611541748\n",
      "Predicted pKd: 6.6184234619140625 | True pKd: 5.0\n",
      "Predicted pKd: 5.684554100036621 | True pKd: 3.8827288150787354\n",
      "Predicted pKd: 5.15350341796875 | True pKd: 5.602059841156006\n",
      "Predicted pKd: 7.287203788757324 | True pKd: 8.522878646850586\n",
      "Predicted pKd: 8.50818920135498 | True pKd: 7.723538398742676\n",
      "Predicted pKd: 6.951353073120117 | True pKd: 7.886056423187256\n",
      "Predicted pKd: 9.089545249938965 | True pKd: 8.602060317993164\n",
      "Predicted pKd: 5.026339054107666 | True pKd: 5.045757293701172\n",
      "Predicted pKd: 5.82016658782959 | True pKd: 8.0\n",
      "Predicted pKd: 8.529004096984863 | True pKd: 9.237321853637695\n",
      "Predicted pKd: 5.469918251037598 | True pKd: 5.387216091156006\n",
      "Predicted pKd: 7.4278564453125 | True pKd: 10.154901504516602\n",
      "Predicted pKd: 9.112900733947754 | True pKd: 8.73518180847168\n",
      "Predicted pKd: 4.4983320236206055 | True pKd: 4.712198257446289\n",
      "Predicted pKd: 9.083762168884277 | True pKd: 9.148741722106934\n",
      "Predicted pKd: 8.417423248291016 | True pKd: 6.935542106628418\n",
      "Predicted pKd: 10.267897605895996 | True pKd: 10.522878646850586\n",
      "Predicted pKd: 8.354940414428711 | True pKd: 7.698969841003418\n",
      "Predicted pKd: 11.697541236877441 | True pKd: 10.86966609954834\n",
      "Predicted pKd: 9.572391510009766 | True pKd: 8.725842475891113\n",
      "Predicted pKd: 7.770626068115234 | True pKd: 8.920818328857422\n",
      "Predicted pKd: 6.64498233795166 | True pKd: 7.958607196807861\n",
      "Predicted pKd: 4.664461135864258 | True pKd: 4.559091091156006\n",
      "Predicted pKd: 10.367888450622559 | True pKd: 11.254924774169922\n",
      "Predicted pKd: 10.030861854553223 | True pKd: 10.279014587402344\n",
      "Predicted pKd: 7.227635383605957 | True pKd: 5.4698004722595215\n",
      "Predicted pKd: 8.354050636291504 | True pKd: 7.638272285461426\n",
      "Predicted pKd: 8.228984832763672 | True pKd: 8.728157997131348\n",
      "Predicted pKd: 7.427853584289551 | True pKd: 5.376750946044922\n",
      "Predicted pKd: 9.1080322265625 | True pKd: 10.54515552520752\n",
      "Predicted pKd: 7.423632621765137 | True pKd: 8.924452781677246\n",
      "Predicted pKd: 7.479471206665039 | True pKd: 8.111259460449219\n",
      "Predicted pKd: 9.797969818115234 | True pKd: 8.555954933166504\n",
      "Predicted pKd: 13.98198127746582 | True pKd: 15.236572265625\n",
      "Predicted pKd: 12.633045196533203 | True pKd: 12.42945671081543\n",
      "Predicted pKd: 9.870820999145508 | True pKd: 10.772112846374512\n",
      "Predicted pKd: 4.290017127990723 | True pKd: 4.494850158691406\n",
      "Predicted pKd: 9.41002082824707 | True pKd: 9.16749095916748\n",
      "Predicted pKd: 5.436404228210449 | True pKd: 4.879426002502441\n",
      "Predicted pKd: 9.540699005126953 | True pKd: 9.28399658203125\n",
      "Predicted pKd: 7.676427841186523 | True pKd: 6.070580959320068\n",
      "Predicted pKd: 6.070351600646973 | True pKd: 10.0\n",
      "Predicted pKd: 8.59492301940918 | True pKd: 9.236572265625\n",
      "Predicted pKd: 9.403042793273926 | True pKd: 9.721246719360352\n",
      "Predicted pKd: 5.734745979309082 | True pKd: 7.698969841003418\n",
      "Predicted pKd: 8.403528213500977 | True pKd: 9.422508239746094\n",
      "Predicted pKd: 7.370425224304199 | True pKd: 4.747147083282471\n",
      "Predicted pKd: 9.078451156616211 | True pKd: 9.275724411010742\n",
      "Predicted pKd: 10.190505027770996 | True pKd: 9.732828140258789\n",
      "Predicted pKd: 8.005301475524902 | True pKd: 11.011441230773926\n",
      "Predicted pKd: 9.725885391235352 | True pKd: 9.647817611694336\n",
      "Predicted pKd: 4.122206211090088 | True pKd: 4.387216091156006\n",
      "Predicted pKd: 9.404040336608887 | True pKd: 9.036211967468262\n",
      "Predicted pKd: 5.200464725494385 | True pKd: 3.7827794551849365\n",
      "Predicted pKd: 5.505043029785156 | True pKd: 4.86012077331543\n",
      "Predicted pKd: 7.48801326751709 | True pKd: 10.95860767364502\n",
      "Predicted pKd: 7.559024810791016 | True pKd: 7.0087738037109375\n",
      "Predicted pKd: 7.442557334899902 | True pKd: 10.0\n",
      "Predicted pKd: 6.760998725891113 | True pKd: 6.643974304199219\n",
      "Predicted pKd: 6.781667709350586 | True pKd: 7.508638381958008\n",
      "Predicted pKd: 7.299298286437988 | True pKd: 7.107905387878418\n",
      "Predicted pKd: 5.081758499145508 | True pKd: 5.522878646850586\n",
      "Predicted pKd: 8.825979232788086 | True pKd: 6.3665313720703125\n",
      "Predicted pKd: 7.388548851013184 | True pKd: 4.6556077003479\n",
      "Predicted pKd: 4.505060195922852 | True pKd: 3.2006595134735107\n",
      "Predicted pKd: 7.734611511230469 | True pKd: 5.60554838180542\n",
      "Predicted pKd: 7.328449249267578 | True pKd: 6.543633937835693\n",
      "Predicted pKd: 7.353000640869141 | True pKd: 4.3098039627075195\n",
      "Predicted pKd: 7.3824357986450195 | True pKd: 7.515700340270996\n",
      "Predicted pKd: 7.286527633666992 | True pKd: 5.221848964691162\n",
      "Predicted pKd: 9.402657508850098 | True pKd: 8.97881031036377\n",
      "Predicted pKd: 6.314223289489746 | True pKd: 4.92081880569458\n",
      "Predicted pKd: 7.9193525314331055 | True pKd: 6.632644176483154\n",
      "Predicted pKd: 10.934293746948242 | True pKd: 11.920818328857422\n",
      "Predicted pKd: 10.358478546142578 | True pKd: 12.136676788330078\n",
      "Predicted pKd: 5.134387016296387 | True pKd: 4.508638381958008\n",
      "Predicted pKd: 8.657570838928223 | True pKd: 4.38827657699585\n",
      "Predicted pKd: 4.622434616088867 | True pKd: 4.677780628204346\n",
      "Predicted pKd: 7.7248430252075195 | True pKd: 7.4685211181640625\n",
      "Predicted pKd: 4.663668632507324 | True pKd: 4.431798458099365\n",
      "Predicted pKd: 5.509703636169434 | True pKd: 4.301030158996582\n",
      "Predicted pKd: 9.12282943725586 | True pKd: 9.387216567993164\n",
      "Predicted pKd: 4.983068943023682 | True pKd: 4.298431873321533\n",
      "Predicted pKd: 9.932126998901367 | True pKd: 9.812479019165039\n",
      "Predicted pKd: 6.655699729919434 | True pKd: 5.838632106781006\n",
      "Predicted pKd: 7.816597938537598 | True pKd: 7.823908805847168\n",
      "Predicted pKd: 9.409488677978516 | True pKd: 9.036211967468262\n",
      "Predicted pKd: 7.717144966125488 | True pKd: 6.744727611541748\n",
      "Predicted pKd: 4.8359174728393555 | True pKd: 5.829738140106201\n",
      "Predicted pKd: 4.677730560302734 | True pKd: 4.92081880569458\n",
      "Predicted pKd: 5.961757659912109 | True pKd: 5.79587984085083\n",
      "Predicted pKd: 4.209413051605225 | True pKd: 4.087246894836426\n",
      "Predicted pKd: 9.136258125305176 | True pKd: 9.0\n",
      "Predicted pKd: 7.313447952270508 | True pKd: 6.675717353820801\n",
      "Predicted pKd: 4.468131065368652 | True pKd: 4.764471530914307\n",
      "Predicted pKd: 6.869419097900391 | True pKd: 6.318758964538574\n",
      "Predicted pKd: 6.831683158874512 | True pKd: 5.853871822357178\n",
      "Predicted pKd: 5.119287967681885 | True pKd: 6.382999897003174\n",
      "Predicted pKd: 6.493185997009277 | True pKd: 7.546681880950928\n",
      "Predicted pKd: 7.791816711425781 | True pKd: 7.739928722381592\n",
      "Predicted pKd: 7.525449752807617 | True pKd: 8.508638381958008\n",
      "Predicted pKd: 8.55904769897461 | True pKd: 9.709965705871582\n",
      "Predicted pKd: 8.57699966430664 | True pKd: 10.397939682006836\n",
      "Predicted pKd: 6.00972843170166 | True pKd: 5.301030158996582\n",
      "Predicted pKd: 7.674249649047852 | True pKd: 7.431798458099365\n",
      "Predicted pKd: 9.799798965454102 | True pKd: 11.204119682312012\n",
      "Predicted pKd: 5.416473388671875 | True pKd: 3.4559319019317627\n",
      "Predicted pKd: 11.210679054260254 | True pKd: 10.537602424621582\n",
      "Predicted pKd: 6.374345779418945 | True pKd: 6.458420753479004\n",
      "Predicted pKd: 7.67244815826416 | True pKd: 7.661543369293213\n",
      "Predicted pKd: 7.010926246643066 | True pKd: 6.92081880569458\n",
      "Predicted pKd: 5.028426170349121 | True pKd: 4.15490198135376\n",
      "Predicted pKd: 10.287302017211914 | True pKd: 10.812479019165039\n",
      "Predicted pKd: 6.856779098510742 | True pKd: 6.892789840698242\n",
      "Predicted pKd: 8.976723670959473 | True pKd: 8.638272285461426\n",
      "Predicted pKd: 6.407934188842773 | True pKd: 3.7490923404693604\n",
      "Predicted pKd: 7.448892593383789 | True pKd: 7.102373123168945\n",
      "Predicted pKd: 10.086726188659668 | True pKd: 9.80966854095459\n",
      "Predicted pKd: 9.39822769165039 | True pKd: 9.173925399780273\n",
      "Predicted pKd: 5.436694145202637 | True pKd: 5.376750946044922\n",
      "Predicted pKd: 13.434575080871582 | True pKd: 8.721246719360352\n",
      "Predicted pKd: 8.857110977172852 | True pKd: 7.9871625900268555\n",
      "Predicted pKd: 7.293225288391113 | True pKd: 8.154901504516602\n",
      "Predicted pKd: 4.525995254516602 | True pKd: 5.31247091293335\n",
      "Predicted pKd: 5.958832740783691 | True pKd: 5.552842140197754\n",
      "Predicted pKd: 5.632181167602539 | True pKd: 6.823908805847168\n",
      "Predicted pKd: 9.499024391174316 | True pKd: 7.7931742668151855\n",
      "Predicted pKd: 9.950469017028809 | True pKd: 12.175873756408691\n",
      "Predicted pKd: 9.39716625213623 | True pKd: 9.0\n",
      "Predicted pKd: 8.335517883300781 | True pKd: 8.537602424621582\n",
      "Predicted pKd: 6.71381950378418 | True pKd: 5.798603057861328\n",
      "Predicted pKd: 5.305109024047852 | True pKd: 5.040958404541016\n",
      "Predicted pKd: 4.356378555297852 | True pKd: 4.443697452545166\n",
      "Predicted pKd: 5.772640228271484 | True pKd: 4.75448751449585\n",
      "Predicted pKd: 9.730031967163086 | True pKd: 8.954676628112793\n",
      "Predicted pKd: 7.500391006469727 | True pKd: 10.09691047668457\n",
      "Predicted pKd: 7.207059860229492 | True pKd: 6.10623836517334\n",
      "Predicted pKd: 8.644942283630371 | True pKd: 8.251811981201172\n",
      "Predicted pKd: 7.82383918762207 | True pKd: 7.610834121704102\n",
      "Predicted pKd: 8.171891212463379 | True pKd: 6.97469425201416\n",
      "Predicted pKd: 6.8690595626831055 | True pKd: 6.906578540802002\n",
      "Predicted pKd: 4.921578407287598 | True pKd: 5.397940158843994\n",
      "Predicted pKd: 7.138050079345703 | True pKd: 7.146301746368408\n",
      "Predicted pKd: 8.174351692199707 | True pKd: 9.267605781555176\n",
      "Predicted pKd: 5.556659698486328 | True pKd: 5.428291320800781\n",
      "Predicted pKd: 7.235617637634277 | True pKd: 7.721246242523193\n",
      "Predicted pKd: 9.409566879272461 | True pKd: 9.408935546875\n",
      "Predicted pKd: 9.084980964660645 | True pKd: 7.403402805328369\n",
      "Predicted pKd: 7.5682373046875 | True pKd: 8.09691047668457\n",
      "Predicted pKd: 9.772915840148926 | True pKd: 7.0\n",
      "Predicted pKd: 7.704364776611328 | True pKd: 7.970616340637207\n",
      "Predicted pKd: 10.424903869628906 | True pKd: 9.51855754852295\n",
      "Predicted pKd: 6.614728927612305 | True pKd: 7.346787452697754\n",
      "Predicted pKd: 9.343810081481934 | True pKd: 9.876148223876953\n",
      "Predicted pKd: 8.36257266998291 | True pKd: 10.366531372070312\n",
      "Predicted pKd: 9.323208808898926 | True pKd: 9.50445556640625\n",
      "Predicted pKd: 5.272253513336182 | True pKd: 5.471083164215088\n",
      "Predicted pKd: 9.956756591796875 | True pKd: 10.327901840209961\n",
      "Predicted pKd: 6.88555908203125 | True pKd: 5.79587984085083\n",
      "Predicted pKd: 4.9623823165893555 | True pKd: 5.187086582183838\n",
      "Predicted pKd: 4.828969478607178 | True pKd: 4.721246242523193\n",
      "Predicted pKd: 9.745159149169922 | True pKd: 8.114073753356934\n",
      "Predicted pKd: 6.047771453857422 | True pKd: 9.397939682006836\n",
      "Predicted pKd: 5.948346138000488 | True pKd: 5.477555751800537\n",
      "Predicted pKd: 7.280954360961914 | True pKd: 6.173925399780273\n",
      "Predicted pKd: 4.455573558807373 | True pKd: 3.698970079421997\n",
      "Predicted pKd: 8.577410697937012 | True pKd: 9.175873756408691\n",
      "Predicted pKd: 7.199554443359375 | True pKd: 7.521433353424072\n",
      "Predicted pKd: 7.86656379699707 | True pKd: 7.638272285461426\n",
      "Predicted pKd: 4.957987308502197 | True pKd: 5.136677265167236\n",
      "Predicted pKd: 10.28239631652832 | True pKd: 10.0\n",
      "Predicted pKd: 4.961117267608643 | True pKd: 5.06048059463501\n",
      "Predicted pKd: 7.256599426269531 | True pKd: 7.114073753356934\n",
      "Predicted pKd: 10.958087921142578 | True pKd: 10.161150932312012\n",
      "Predicted pKd: 6.98270320892334 | True pKd: 9.886056900024414\n",
      "Predicted pKd: 8.446714401245117 | True pKd: 10.537602424621582\n",
      "Predicted pKd: 7.058711051940918 | True pKd: 7.585026741027832\n",
      "Predicted pKd: 7.271692276000977 | True pKd: 8.060481071472168\n",
      "Predicted pKd: 7.530067443847656 | True pKd: 5.337242126464844\n",
      "Predicted pKd: 9.244144439697266 | True pKd: 10.698969841003418\n",
      "Predicted pKd: 6.900557518005371 | True pKd: 7.92081880569458\n",
      "Predicted pKd: 8.615128517150879 | True pKd: 7.17587423324585\n",
      "Predicted pKd: 9.40599536895752 | True pKd: 9.823908805847168\n",
      "Predicted pKd: 8.162895202636719 | True pKd: 8.063486099243164\n",
      "Predicted pKd: 9.29621410369873 | True pKd: 9.876148223876953\n",
      "Predicted pKd: 8.374740600585938 | True pKd: 6.07572078704834\n",
      "Predicted pKd: 8.001214981079102 | True pKd: 4.443697452545166\n",
      "Predicted pKd: 8.636835098266602 | True pKd: 9.55129337310791\n",
      "Predicted pKd: 6.1286211013793945 | True pKd: 6.659555912017822\n",
      "Predicted pKd: 7.988090515136719 | True pKd: 8.455931663513184\n",
      "Predicted pKd: 5.531614303588867 | True pKd: 4.229884624481201\n",
      "Predicted pKd: 4.964756488800049 | True pKd: 5.623423099517822\n",
      "Predicted pKd: 7.308302879333496 | True pKd: 6.338187217712402\n",
      "Predicted pKd: 9.066444396972656 | True pKd: 8.251811981201172\n",
      "Predicted pKd: 8.914215087890625 | True pKd: 8.09691047668457\n",
      "Predicted pKd: 9.622427940368652 | True pKd: 10.254924774169922\n",
      "Predicted pKd: 5.9695539474487305 | True pKd: 5.721246242523193\n",
      "Predicted pKd: 5.273537635803223 | True pKd: 4.4509968757629395\n",
      "Predicted pKd: 7.267269134521484 | True pKd: 5.301030158996582\n",
      "Predicted pKd: 4.668907165527344 | True pKd: 5.221848964691162\n",
      "Predicted pKd: 7.673209190368652 | True pKd: 8.769551277160645\n",
      "Predicted pKd: 9.736454963684082 | True pKd: 9.555954933166504\n",
      "Predicted pKd: 10.515670776367188 | True pKd: 7.886056423187256\n",
      "Predicted pKd: 9.305333137512207 | True pKd: 9.806875228881836\n",
      "Predicted pKd: 6.09776496887207 | True pKd: 5.318758964538574\n",
      "Predicted pKd: 6.660849571228027 | True pKd: 6.0809221267700195\n",
      "Predicted pKd: 5.518930435180664 | True pKd: 5.0\n",
      "Predicted pKd: 8.670490264892578 | True pKd: 9.09691047668457\n",
      "Predicted pKd: 10.636619567871094 | True pKd: 9.230622291564941\n",
      "Predicted pKd: 6.430822372436523 | True pKd: 4.995678424835205\n",
      "Predicted pKd: 4.922115325927734 | True pKd: 5.259637355804443\n",
      "Predicted pKd: 8.725043296813965 | True pKd: 6.43889856338501\n",
      "Predicted pKd: 5.0383806228637695 | True pKd: 5.427128314971924\n",
      "Predicted pKd: 6.193575859069824 | True pKd: 6.06048059463501\n",
      "Predicted pKd: 6.592365264892578 | True pKd: 7.677780628204346\n",
      "Predicted pKd: 7.590270042419434 | True pKd: 6.173925399780273\n",
      "Predicted pKd: 10.195174217224121 | True pKd: 11.632643699645996\n",
      "Predicted pKd: 4.517952919006348 | True pKd: 4.387216091156006\n",
      "Predicted pKd: 7.431090354919434 | True pKd: 5.675717353820801\n",
      "Predicted pKd: 6.288976669311523 | True pKd: 8.886056900024414\n",
      "Predicted pKd: 7.2408294677734375 | True pKd: 7.397940158843994\n",
      "Predicted pKd: 5.543488502502441 | True pKd: 3.9788107872009277\n",
      "Predicted pKd: 8.166350364685059 | True pKd: 8.468521118164062\n",
      "Predicted pKd: 8.177788734436035 | True pKd: 9.397939682006836\n",
      "Predicted pKd: 9.065691947937012 | True pKd: 9.045757293701172\n",
      "Predicted pKd: 13.452982902526855 | True pKd: 12.769551277160645\n",
      "Predicted pKd: 8.180032730102539 | True pKd: 6.752026557922363\n",
      "Predicted pKd: 8.1353120803833 | True pKd: 8.677781105041504\n",
      "Predicted pKd: 4.6690673828125 | True pKd: 4.494850158691406\n",
      "Predicted pKd: 6.596495628356934 | True pKd: 8.27490520477295\n",
      "Predicted pKd: 7.425485610961914 | True pKd: 7.414539337158203\n",
      "Predicted pKd: 7.736057281494141 | True pKd: 12.0\n",
      "Predicted pKd: 8.684850692749023 | True pKd: 11.698969841003418\n",
      "Predicted pKd: 9.02569580078125 | True pKd: 9.045757293701172\n",
      "Predicted pKd: 7.576427459716797 | True pKd: 7.3665313720703125\n",
      "Predicted pKd: 5.22298526763916 | True pKd: 4.568636417388916\n",
      "Predicted pKd: 9.69105339050293 | True pKd: 7.698969841003418\n",
      "Predicted pKd: 4.531757354736328 | True pKd: 4.681936740875244\n",
      "Predicted pKd: 8.847997665405273 | True pKd: 6.978810787200928\n",
      "Predicted pKd: 7.61236572265625 | True pKd: 8.221848487854004\n",
      "Predicted pKd: 5.340170860290527 | True pKd: 3.698970079421997\n",
      "Predicted pKd: 5.522313117980957 | True pKd: 3.853872060775757\n",
      "Predicted pKd: 7.135708808898926 | True pKd: 7.92081880569458\n",
      "Predicted pKd: 9.961849212646484 | True pKd: 9.079355239868164\n",
      "Predicted pKd: 6.546663284301758 | True pKd: 6.698969841003418\n",
      "Predicted pKd: 4.717228889465332 | True pKd: 4.408935546875\n",
      "Predicted pKd: 7.410408020019531 | True pKd: 5.517126560211182\n",
      "Predicted pKd: 7.335351943969727 | True pKd: 7.301030158996582\n",
      "Predicted pKd: 5.1624908447265625 | True pKd: 5.593459606170654\n",
      "Predicted pKd: 4.7176361083984375 | True pKd: 4.065501689910889\n",
      "Predicted pKd: 10.513696670532227 | True pKd: 10.431797981262207\n",
      "Predicted pKd: 7.308717727661133 | True pKd: 4.95078182220459\n",
      "Predicted pKd: 7.70576286315918 | True pKd: 7.548213481903076\n",
      "Predicted pKd: 4.652344703674316 | True pKd: 5.3665313720703125\n",
      "Predicted pKd: 5.612977981567383 | True pKd: 6.022276401519775\n",
      "Predicted pKd: 9.492182731628418 | True pKd: 7.602059841156006\n",
      "Predicted pKd: 7.6372270584106445 | True pKd: 6.913640022277832\n",
      "Predicted pKd: 7.773592948913574 | True pKd: 8.431797981262207\n",
      "Predicted pKd: 9.714098930358887 | True pKd: 7.397940158843994\n",
      "Predicted pKd: 5.56813907623291 | True pKd: 6.258848190307617\n",
      "Predicted pKd: 6.123793601989746 | True pKd: 9.397939682006836\n",
      "Predicted pKd: 5.062950134277344 | True pKd: 4.318758964538574\n",
      "Predicted pKd: 5.46866512298584 | True pKd: 5.764471530914307\n",
      "Predicted pKd: 7.410555839538574 | True pKd: 7.7695512771606445\n",
      "Predicted pKd: 10.246702194213867 | True pKd: 10.707743644714355\n",
      "Predicted pKd: 9.509666442871094 | True pKd: 10.494850158691406\n",
      "Predicted pKd: 8.179673194885254 | True pKd: 9.698969841003418\n",
      "Predicted pKd: 13.455215454101562 | True pKd: 11.74472713470459\n",
      "Predicted pKd: 8.857654571533203 | True pKd: 9.322393417358398\n",
      "Predicted pKd: 9.447408676147461 | True pKd: 10.562249183654785\n",
      "Predicted pKd: 5.9097442626953125 | True pKd: 6.431798458099365\n",
      "Predicted pKd: 8.262154579162598 | True pKd: 8.455931663513184\n",
      "Predicted pKd: 4.458287715911865 | True pKd: 5.31247091293335\n",
      "Predicted pKd: 12.044445037841797 | True pKd: 10.705533981323242\n",
      "Predicted pKd: 9.62648868560791 | True pKd: 9.455931663513184\n",
      "Predicted pKd: 12.749329566955566 | True pKd: 13.78515625\n",
      "Predicted pKd: 7.786774635314941 | True pKd: 7.568636417388916\n",
      "Predicted pKd: 9.270830154418945 | True pKd: 10.301030158996582\n",
      "Predicted pKd: 8.75197696685791 | True pKd: 9.787812232971191\n",
      "Predicted pKd: 5.626957893371582 | True pKd: 6.431798458099365\n",
      "Predicted pKd: 6.498935699462891 | True pKd: 5.331614017486572\n",
      "Predicted pKd: 7.4214982986450195 | True pKd: 7.580044269561768\n",
      "Predicted pKd: 8.419380187988281 | True pKd: 9.570247650146484\n",
      "Predicted pKd: 7.965433120727539 | True pKd: 7.0\n",
      "Predicted pKd: 7.926394462585449 | True pKd: 7.787812232971191\n",
      "Predicted pKd: 8.149264335632324 | True pKd: 7.725841999053955\n",
      "Predicted pKd: 8.664300918579102 | True pKd: 8.686132431030273\n",
      "Predicted pKd: 6.29438591003418 | True pKd: 6.010995388031006\n",
      "Predicted pKd: 5.139293670654297 | True pKd: 4.387216091156006\n",
      "Predicted pKd: 9.959639549255371 | True pKd: 9.943095207214355\n",
      "Predicted pKd: 5.471597671508789 | True pKd: 5.481485843658447\n",
      "Predicted pKd: 5.925766944885254 | True pKd: 6.7931742668151855\n",
      "Predicted pKd: 10.087029457092285 | True pKd: 6.0\n",
      "Predicted pKd: 4.632553577423096 | True pKd: 4.698969841003418\n",
      "Predicted pKd: 5.3086137771606445 | True pKd: 2.744727611541748\n",
      "Predicted pKd: 6.245685577392578 | True pKd: 5.443697452545166\n",
      "Predicted pKd: 9.405405044555664 | True pKd: 9.356547355651855\n",
      "Predicted pKd: 4.261024475097656 | True pKd: 4.274905681610107\n",
      "Predicted pKd: 5.856372833251953 | True pKd: 8.721246719360352\n",
      "Predicted pKd: 7.243473052978516 | True pKd: 6.732828140258789\n",
      "Predicted pKd: 9.428811073303223 | True pKd: 8.346787452697754\n",
      "Predicted pKd: 6.329563140869141 | True pKd: 7.77211332321167\n",
      "Predicted pKd: 6.0589189529418945 | True pKd: 4.958607196807861\n",
      "Predicted pKd: 5.7486371994018555 | True pKd: 5.462181091308594\n",
      "Predicted pKd: 6.408334732055664 | True pKd: 9.221848487854004\n",
      "Predicted pKd: 6.8610029220581055 | True pKd: 7.619788646697998\n",
      "Predicted pKd: 7.4849958419799805 | True pKd: 6.198596477508545\n",
      "Predicted pKd: 9.542774200439453 | True pKd: 10.920818328857422\n",
      "Predicted pKd: 9.859166145324707 | True pKd: 7.79587984085083\n",
      "Predicted pKd: 8.831525802612305 | True pKd: 8.187087059020996\n",
      "Predicted pKd: 8.508124351501465 | True pKd: 8.438899040222168\n",
      "Predicted pKd: 8.729745864868164 | True pKd: 6.580044269561768\n",
      "Predicted pKd: 9.468305587768555 | True pKd: 9.447331428527832\n",
      "Predicted pKd: 4.453680038452148 | True pKd: 4.522878646850586\n",
      "Predicted pKd: 10.49748420715332 | True pKd: 7.4202165603637695\n",
      "Predicted pKd: 9.083041191101074 | True pKd: 6.096909999847412\n",
      "Predicted pKd: 7.703904151916504 | True pKd: 6.070580959320068\n",
      "Predicted pKd: 8.515654563903809 | True pKd: 9.045757293701172\n",
      "Predicted pKd: 9.469812393188477 | True pKd: 9.522878646850586\n",
      "Predicted pKd: 7.633122444152832 | True pKd: 7.180456161499023\n",
      "Predicted pKd: 5.157952308654785 | True pKd: 5.214670181274414\n",
      "Predicted pKd: 8.029963493347168 | True pKd: 7.903090000152588\n",
      "Predicted pKd: 6.327149391174316 | True pKd: 7.698969841003418\n",
      "Predicted pKd: 7.161233901977539 | True pKd: 5.522878646850586\n",
      "Predicted pKd: 8.669076919555664 | True pKd: 9.336298942565918\n",
      "Predicted pKd: 4.999460220336914 | True pKd: 3.698970079421997\n",
      "Predicted pKd: 7.696242332458496 | True pKd: 6.096909999847412\n",
      "Predicted pKd: 4.534015655517578 | True pKd: 3.522878646850586\n",
      "Predicted pKd: 4.544805526733398 | True pKd: 4.4202165603637695\n",
      "Predicted pKd: 8.503061294555664 | True pKd: 6.146301746368408\n",
      "Predicted pKd: 4.84222412109375 | True pKd: 5.107905387878418\n",
      "Predicted pKd: 10.079523086547852 | True pKd: 10.812479019165039\n",
      "Predicted pKd: 9.7258939743042 | True pKd: 9.34486198425293\n",
      "Predicted pKd: 5.1394219398498535 | True pKd: 4.443697452545166\n",
      "Predicted pKd: 4.692535400390625 | True pKd: 5.301030158996582\n",
      "Predicted pKd: 8.951066017150879 | True pKd: 7.229147911071777\n",
      "Predicted pKd: 6.424073219299316 | True pKd: 3.853872060775757\n",
      "Predicted pKd: 8.591885566711426 | True pKd: 5.954677104949951\n",
      "Predicted pKd: 7.8196210861206055 | True pKd: 7.681310653686523\n",
      "Predicted pKd: 7.876800537109375 | True pKd: 8.275724411010742\n",
      "Predicted pKd: 10.410964012145996 | True pKd: 10.853872299194336\n",
      "Predicted pKd: 9.472843170166016 | True pKd: 9.397939682006836\n",
      "Predicted pKd: 7.672541618347168 | True pKd: 7.149966716766357\n",
      "Predicted pKd: 12.110719680786133 | True pKd: 11.645891189575195\n",
      "Predicted pKd: 6.104892730712891 | True pKd: 5.616184711456299\n",
      "Predicted pKd: 9.064369201660156 | True pKd: 8.356547355651855\n",
      "Predicted pKd: 7.56147575378418 | True pKd: 7.95078182220459\n",
      "Predicted pKd: 8.788833618164062 | True pKd: 8.61618423461914\n",
      "Predicted pKd: 7.963279724121094 | True pKd: 7.079354763031006\n",
      "Predicted pKd: 4.127719402313232 | True pKd: 4.8218865394592285\n",
      "Predicted pKd: 8.16707992553711 | True pKd: 8.12493896484375\n",
      "Predicted pKd: 9.234511375427246 | True pKd: 6.44733190536499\n",
      "Predicted pKd: 6.506606101989746 | True pKd: 8.408935546875\n",
      "Predicted pKd: 4.233308792114258 | True pKd: 3.698970079421997\n",
      "Predicted pKd: 7.231522560119629 | True pKd: 8.522878646850586\n",
      "Predicted pKd: 8.66483211517334 | True pKd: 9.853872299194336\n",
      "Predicted pKd: 5.3491668701171875 | True pKd: 4.0087738037109375\n",
      "Predicted pKd: 4.453390121459961 | True pKd: 4.92081880569458\n",
      "Predicted pKd: 10.479646682739258 | True pKd: 8.175873756408691\n",
      "Predicted pKd: 9.955770492553711 | True pKd: 10.301030158996582\n",
      "Predicted pKd: 8.169005393981934 | True pKd: 10.54515552520752\n",
      "Predicted pKd: 6.030013084411621 | True pKd: 7.045757293701172\n",
      "Predicted pKd: 5.468080520629883 | True pKd: 6.294991970062256\n",
      "Predicted pKd: 7.329201698303223 | True pKd: 6.301030158996582\n",
      "Predicted pKd: 7.677295684814453 | True pKd: 6.548213481903076\n",
      "Predicted pKd: 6.338259696960449 | True pKd: 4.659555912017822\n",
      "Predicted pKd: 9.41226577758789 | True pKd: 9.301030158996582\n",
      "Predicted pKd: 7.450757026672363 | True pKd: 8.193819999694824\n",
      "Predicted pKd: 7.731687545776367 | True pKd: 9.853872299194336\n",
      "Predicted pKd: 6.012920379638672 | True pKd: 6.318758964538574\n",
      "Predicted pKd: 6.943892478942871 | True pKd: 6.0\n",
      "Predicted pKd: 8.431571960449219 | True pKd: 5.15490198135376\n",
      "Predicted pKd: 9.05905818939209 | True pKd: 9.20065975189209\n",
      "Predicted pKd: 5.894960403442383 | True pKd: 4.744727611541748\n",
      "Predicted pKd: 6.137683868408203 | True pKd: 6.386157989501953\n",
      "Predicted pKd: 8.604783058166504 | True pKd: 9.619789123535156\n",
      "Predicted pKd: 4.679455757141113 | True pKd: 4.7695512771606445\n",
      "Predicted pKd: 9.429181098937988 | True pKd: 7.07572078704834\n",
      "Predicted pKd: 7.675234794616699 | True pKd: 7.216811180114746\n",
      "Predicted pKd: 9.7208251953125 | True pKd: 9.931814193725586\n",
      "Predicted pKd: 7.469703674316406 | True pKd: 6.7798919677734375\n",
      "Predicted pKd: 4.936101913452148 | True pKd: 5.060980319976807\n",
      "Predicted pKd: 7.5566911697387695 | True pKd: 6.823908805847168\n",
      "Predicted pKd: 8.182711601257324 | True pKd: 7.906578540802002\n",
      "Predicted pKd: 6.588722229003906 | True pKd: 4.681936740875244\n",
      "Predicted pKd: 7.237799644470215 | True pKd: 7.054531574249268\n",
      "Predicted pKd: 5.176097869873047 | True pKd: 3.698970079421997\n",
      "Predicted pKd: 8.669663429260254 | True pKd: 8.173925399780273\n",
      "Predicted pKd: 8.543821334838867 | True pKd: 8.329753875732422\n",
      "Time taken for 8861 protein-proteina pairs: 1151.9305768013\n"
     ]
    }
   ],
   "source": [
    "\n",
    "#with normalization\n",
    "model = model.eval()\n",
    "\n",
    "predictions = []\n",
    "labels = []\n",
    "start = time.time()\n",
    "\n",
    "for _, sample in test_data.iterrows():\n",
    "    # Scale target to cosine similarity range (same as training)\n",
    "    cosine_target = 2 * (sample['Y'] - data_min) / (data_max - data_min) - 1\n",
    "    \n",
    "    # Prepare input (exactly matching training format)\n",
    "    inputs = {\n",
    "        \"protein_sequences\": [sample[\"Target\"]],\n",
    "        \"proteina_sequences\": [sample[\"proteina\"]],\n",
    "        \"labels\": torch.tensor([cosine_target], dtype=torch.float32).to(DEVICE)\n",
    "    }\n",
    "    prediction = model(inputs)[\"cosine_similarity\"]\n",
    "    prediction = model.cosine_similarity_to_pkd(prediction, pkd_upper_bound=pkd_upper_bound, pkd_lower_bound=pkd_lower_bound)\n",
    "    label = torch.tensor([sample[\"Y\"]])\n",
    "    \n",
    "    # Log prediction and true label to W&B\n",
    "    wandb.log({\"predicted_pKd\": prediction.item(), \"true_pKd\": label.item()})\n",
    "\n",
    "    print(f\"Predicted pKd: {prediction.item()} | True pKd: {label.item()}\")\n",
    "    \n",
    "    predictions.append(prediction.item())\n",
    "    labels.append(label.item())\n",
    "# Log the total time taken\n",
    "wandb.log({\"total_time\": time.time() - start})\n",
    "\n",
    "print(f\"Time taken for {len(test_data)} protein-proteina pairs: {time.time() - start}\")\n"
   ]
  },
  {
   "cell_type": "code",
   "execution_count": 39,
   "metadata": {},
   "outputs": [
    {
     "name": "stdout",
     "output_type": "stream",
     "text": [
      "RMSE: 1.3831452131271362\n",
      "Pearson: 0.7749025821685791\n",
      "Spearman: 0.7719406978977775\n",
      "CI: 0.7927114367485046\n"
     ]
    },
    {
     "data": {
      "image/png": "[encoded data removed]",
      "text/plain": [
       "<Figure size 640x480 with 1 Axes>"
      ]
     },
     "metadata": {},
     "output_type": "display_data"
    }
   ],
   "source": [
    "import seaborn as sns\n",
    "from balm.metrics import get_ci, get_pearson, get_rmse, get_spearman\n",
    "\n",
    "rmse = get_rmse(torch.tensor(labels), torch.tensor(predictions))\n",
    "pearson = get_pearson(torch.tensor(labels), torch.tensor(predictions))\n",
    "spearman = get_spearman(torch.tensor(labels), torch.tensor(predictions))\n",
    "ci = get_ci(torch.tensor(labels), torch.tensor(predictions))\n",
    "\n",
    "print(f\"RMSE: {rmse}\")\n",
    "print(f\"Pearson: {pearson}\")\n",
    "print(f\"Spearman: {spearman}\")\n",
    "print(f\"CI: {ci}\")\n",
    "\n",
    "# Log metrics to W&B\n",
    "wandb.log({\n",
    "    \"RMSE\": rmse.item(),\n",
    "    \"Pearson\": pearson.item(),\n",
    "    \"Spearman\": spearman.item(),\n",
    "    \"CI\": ci.item()\n",
    "})\n",
    "\n",
    "ax = sns.regplot(x=labels, y=predictions)\n",
    "ax.set_title(f\"Custom Data\")\n",
    "ax.set_xlabel(r\"Experimental $pK_d$\")\n",
    "ax.set_ylabel(r\"Predicted $pK_d$\")\n",
    "\n",
    "# Save the plot\n",
    "plt.savefig(\"regression_plot.png\")\n",
    "\n",
    "# Log the plot to W&B\n",
    "wandb.log({\"regression_plot\": wandb.Image(\"regression_plot.png\")})\n",
    "\n",
    "# Optionally show the plot\n",
    "plt.show()"
   ]
  },
  {
   "cell_type": "code",
   "execution_count": null,
   "metadata": {},
   "outputs": [],
   "source": []
  }
 ],
 "metadata": {
  "kernelspec": {
   "display_name": "balm-ppi",
   "language": "python",
   "name": "python3"
  },
  "language_info": {
   "codemirror_mode": {
    "name": "ipython",
    "version": 3
   },
   "file_extension": ".py",
   "mimetype": "text/x-python",
   "name": "python",
   "nbconvert_exporter": "python",
   "pygments_lexer": "ipython3",
   "version": "3.8.20"
  }
 },
 "nbformat": 4,
 "nbformat_minor": 2
}
